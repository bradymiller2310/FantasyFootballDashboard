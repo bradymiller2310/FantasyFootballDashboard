{
  "nbformat": 4,
  "nbformat_minor": 0,
  "metadata": {
    "colab": {
      "provenance": [],
      "gpuType": "T4",
      "include_colab_link": true
    },
    "kernelspec": {
      "name": "python3",
      "display_name": "Python 3"
    },
    "language_info": {
      "name": "python"
    },
    "accelerator": "GPU"
  },
  "cells": [
    {
      "cell_type": "markdown",
      "metadata": {
        "id": "view-in-github",
        "colab_type": "text"
      },
      "source": [
        "<a href=\"https://colab.research.google.com/github/bradymiller2310/FantasyFootballDashboard/blob/main/ESPN_FF_Scraper.ipynb\" target=\"_parent\"><img src=\"https://colab.research.google.com/assets/colab-badge.svg\" alt=\"Open In Colab\"/></a>"
      ]
    },
    {
      "cell_type": "code",
      "source": [
        "!pip install espn-api\n",
        "!pip install pandas\n",
        "!pip install openpyxl\n",
        "\n",
        "#pip uninstall -y numpy catboost\n",
        "!pip install numpy==1.24.4  # Safe version compatible with catboost\n",
        "!pip install catboost --no-cache-dir"
      ],
      "metadata": {
        "colab": {
          "base_uri": "https://localhost:8080/"
        },
        "id": "iI2Vhi-lpDtI",
        "outputId": "05462dae-7a65-4446-d7e9-ff4f475da664"
      },
      "execution_count": 106,
      "outputs": [
        {
          "output_type": "stream",
          "name": "stdout",
          "text": [
            "Requirement already satisfied: espn-api in /usr/local/lib/python3.11/dist-packages (0.44.1)\n",
            "Requirement already satisfied: requests<3.0.0,>=2.0.0 in /usr/local/lib/python3.11/dist-packages (from espn-api) (2.32.3)\n",
            "Requirement already satisfied: urllib3<=2.2.3 in /usr/local/lib/python3.11/dist-packages (from espn-api) (2.2.3)\n",
            "Requirement already satisfied: charset-normalizer<4,>=2 in /usr/local/lib/python3.11/dist-packages (from requests<3.0.0,>=2.0.0->espn-api) (3.4.1)\n",
            "Requirement already satisfied: idna<4,>=2.5 in /usr/local/lib/python3.11/dist-packages (from requests<3.0.0,>=2.0.0->espn-api) (3.10)\n",
            "Requirement already satisfied: certifi>=2017.4.17 in /usr/local/lib/python3.11/dist-packages (from requests<3.0.0,>=2.0.0->espn-api) (2025.1.31)\n",
            "Requirement already satisfied: pandas in /usr/local/lib/python3.11/dist-packages (2.2.2)\n",
            "Requirement already satisfied: numpy>=1.23.2 in /usr/local/lib/python3.11/dist-packages (from pandas) (1.24.4)\n",
            "Requirement already satisfied: python-dateutil>=2.8.2 in /usr/local/lib/python3.11/dist-packages (from pandas) (2.8.2)\n",
            "Requirement already satisfied: pytz>=2020.1 in /usr/local/lib/python3.11/dist-packages (from pandas) (2025.1)\n",
            "Requirement already satisfied: tzdata>=2022.7 in /usr/local/lib/python3.11/dist-packages (from pandas) (2025.1)\n",
            "Requirement already satisfied: six>=1.5 in /usr/local/lib/python3.11/dist-packages (from python-dateutil>=2.8.2->pandas) (1.17.0)\n",
            "Requirement already satisfied: openpyxl in /usr/local/lib/python3.11/dist-packages (3.1.5)\n",
            "Requirement already satisfied: et-xmlfile in /usr/local/lib/python3.11/dist-packages (from openpyxl) (2.0.0)\n",
            "Requirement already satisfied: numpy==1.24.4 in /usr/local/lib/python3.11/dist-packages (1.24.4)\n",
            "Requirement already satisfied: catboost in /usr/local/lib/python3.11/dist-packages (1.2.7)\n",
            "Requirement already satisfied: graphviz in /usr/local/lib/python3.11/dist-packages (from catboost) (0.20.3)\n",
            "Requirement already satisfied: matplotlib in /usr/local/lib/python3.11/dist-packages (from catboost) (3.10.0)\n",
            "Requirement already satisfied: numpy<2.0,>=1.16.0 in /usr/local/lib/python3.11/dist-packages (from catboost) (1.24.4)\n",
            "Requirement already satisfied: pandas>=0.24 in /usr/local/lib/python3.11/dist-packages (from catboost) (2.2.2)\n",
            "Requirement already satisfied: scipy in /usr/local/lib/python3.11/dist-packages (from catboost) (1.14.1)\n",
            "Requirement already satisfied: plotly in /usr/local/lib/python3.11/dist-packages (from catboost) (5.24.1)\n",
            "Requirement already satisfied: six in /usr/local/lib/python3.11/dist-packages (from catboost) (1.17.0)\n",
            "Requirement already satisfied: python-dateutil>=2.8.2 in /usr/local/lib/python3.11/dist-packages (from pandas>=0.24->catboost) (2.8.2)\n",
            "Requirement already satisfied: pytz>=2020.1 in /usr/local/lib/python3.11/dist-packages (from pandas>=0.24->catboost) (2025.1)\n",
            "Requirement already satisfied: tzdata>=2022.7 in /usr/local/lib/python3.11/dist-packages (from pandas>=0.24->catboost) (2025.1)\n",
            "Requirement already satisfied: contourpy>=1.0.1 in /usr/local/lib/python3.11/dist-packages (from matplotlib->catboost) (1.3.1)\n",
            "Requirement already satisfied: cycler>=0.10 in /usr/local/lib/python3.11/dist-packages (from matplotlib->catboost) (0.12.1)\n",
            "Requirement already satisfied: fonttools>=4.22.0 in /usr/local/lib/python3.11/dist-packages (from matplotlib->catboost) (4.56.0)\n",
            "Requirement already satisfied: kiwisolver>=1.3.1 in /usr/local/lib/python3.11/dist-packages (from matplotlib->catboost) (1.4.8)\n",
            "Requirement already satisfied: packaging>=20.0 in /usr/local/lib/python3.11/dist-packages (from matplotlib->catboost) (24.2)\n",
            "Requirement already satisfied: pillow>=8 in /usr/local/lib/python3.11/dist-packages (from matplotlib->catboost) (11.1.0)\n",
            "Requirement already satisfied: pyparsing>=2.3.1 in /usr/local/lib/python3.11/dist-packages (from matplotlib->catboost) (3.2.1)\n",
            "Requirement already satisfied: tenacity>=6.2.0 in /usr/local/lib/python3.11/dist-packages (from plotly->catboost) (9.0.0)\n"
          ]
        }
      ]
    },
    {
      "cell_type": "code",
      "execution_count": 107,
      "metadata": {
        "id": "gV03Pq9poyaX"
      },
      "outputs": [],
      "source": [
        "from espn_api.football import League\n",
        "import pandas as pd\n",
        "import numpy as np\n",
        "from catboost import CatBoostRegressor, Pool"
      ]
    },
    {
      "cell_type": "code",
      "source": [
        "league = League(league_id=1292514, year=2024, espn_s2=\"AECPNWyLvfnlcFfE0Xb73O%2BP5ZU9n1G%2FSnP3ixxvuqSwQRcQe7bEQfBuz3YBNeRluTYofdhX2aTajj0jZSF%2B8i9ewdk8Dwf6p9G215F2FjmI06wPKyhjleL4WzaT3PCiP15FDXe55YNMkQeJXgbsCuK1VHbdQ1Nxidq0JxAHezRn2zAt6WwNtSqrF0k2nNHV33VpJqPmMk4msFmaoCaz0UAp95xxy1YmXyEUnZWgA60HJkbsgYkZ8AaESwFENsPYdUvKYqCwnZLjvgI5varhOTDYekjvokdtaCoxJfzOdGLJ3g%3D%3D\", swid=\"{D68FE5F2-46CE-421C-B248-DDA01360BB34}\")\n",
        "print(league.teams)  #Teams in league"
      ],
      "metadata": {
        "colab": {
          "base_uri": "https://localhost:8080/"
        },
        "id": "DFytiAtEo5sl",
        "outputId": "ee047dcc-b022-43b8-f682-39a11fa82330"
      },
      "execution_count": 108,
      "outputs": [
        {
          "output_type": "stream",
          "name": "stdout",
          "text": [
            "[Team(Fightin' Furries), Team(Quon Solo), Team(Jen-eral ⚔️), Team(Captain Sweatpants), Team(Salmon LipBalm !!), Team(Graham’s Groupie), Team(pop-pop's bible study), Team(Bucktown Bandits), Team(bird gang), Team(bungalicious  💅)]\n"
          ]
        }
      ]
    },
    {
      "cell_type": "markdown",
      "source": [
        "## **Testing out api functionalities**\n",
        "*This section contains code chunks that load in various data - used to see what we had access to.*"
      ],
      "metadata": {
        "id": "IFG7HhNzQp4h"
      }
    },
    {
      "cell_type": "code",
      "source": [
        "for week in range(1, 15):\n",
        "    print(f\"Week {week} Schedule:\")\n",
        "    for matchup in league.scoreboard(week=week):\n",
        "        print(f\"{matchup.home_team} vs {matchup.away_team}\")"
      ],
      "metadata": {
        "id": "5W3DrXSnpPOv",
        "colab": {
          "base_uri": "https://localhost:8080/"
        },
        "outputId": "43d8836d-777f-480c-acfe-b1ff4ee95ce6"
      },
      "execution_count": 109,
      "outputs": [
        {
          "output_type": "stream",
          "name": "stdout",
          "text": [
            "Week 1 Schedule:\n",
            "Team(Bucktown Bandits) vs Team(Graham’s Groupie)\n",
            "Team(bungalicious  💅) vs Team(Fightin' Furries)\n",
            "Team(bird gang) vs Team(Salmon LipBalm !!)\n",
            "Team(pop-pop's bible study) vs Team(Quon Solo)\n",
            "Team(Jen-eral ⚔️) vs Team(Captain Sweatpants)\n",
            "Week 2 Schedule:\n",
            "Team(Fightin' Furries) vs Team(Salmon LipBalm !!)\n",
            "Team(Quon Solo) vs Team(Bucktown Bandits)\n",
            "Team(Captain Sweatpants) vs Team(Graham’s Groupie)\n",
            "Team(pop-pop's bible study) vs Team(bungalicious  💅)\n",
            "Team(Jen-eral ⚔️) vs Team(bird gang)\n",
            "Week 3 Schedule:\n",
            "Team(Quon Solo) vs Team(Captain Sweatpants)\n",
            "Team(Fightin' Furries) vs Team(pop-pop's bible study)\n",
            "Team(Salmon LipBalm !!) vs Team(Jen-eral ⚔️)\n",
            "Team(Bucktown Bandits) vs Team(bungalicious  💅)\n",
            "Team(Graham’s Groupie) vs Team(bird gang)\n",
            "Week 4 Schedule:\n",
            "Team(pop-pop's bible study) vs Team(Jen-eral ⚔️)\n",
            "Team(bungalicious  💅) vs Team(Quon Solo)\n",
            "Team(bird gang) vs Team(Captain Sweatpants)\n",
            "Team(Bucktown Bandits) vs Team(Fightin' Furries)\n",
            "Team(Graham’s Groupie) vs Team(Salmon LipBalm !!)\n",
            "Week 5 Schedule:\n",
            "Team(bungalicious  💅) vs Team(bird gang)\n",
            "Team(pop-pop's bible study) vs Team(Bucktown Bandits)\n",
            "Team(Jen-eral ⚔️) vs Team(Graham’s Groupie)\n",
            "Team(Quon Solo) vs Team(Fightin' Furries)\n",
            "Team(Captain Sweatpants) vs Team(Salmon LipBalm !!)\n",
            "Week 6 Schedule:\n",
            "Team(Graham’s Groupie) vs Team(Fightin' Furries)\n",
            "Team(Salmon LipBalm !!) vs Team(Quon Solo)\n",
            "Team(Captain Sweatpants) vs Team(pop-pop's bible study)\n",
            "Team(Jen-eral ⚔️) vs Team(bungalicious  💅)\n",
            "Team(bird gang) vs Team(Bucktown Bandits)\n",
            "Week 7 Schedule:\n",
            "Team(Quon Solo) vs Team(Graham’s Groupie)\n",
            "Team(pop-pop's bible study) vs Team(Salmon LipBalm !!)\n",
            "Team(bungalicious  💅) vs Team(Captain Sweatpants)\n",
            "Team(Bucktown Bandits) vs Team(Jen-eral ⚔️)\n",
            "Team(Fightin' Furries) vs Team(bird gang)\n",
            "Week 8 Schedule:\n",
            "Team(Graham’s Groupie) vs Team(pop-pop's bible study)\n",
            "Team(Salmon LipBalm !!) vs Team(bungalicious  💅)\n",
            "Team(Captain Sweatpants) vs Team(Bucktown Bandits)\n",
            "Team(Jen-eral ⚔️) vs Team(Fightin' Furries)\n",
            "Team(bird gang) vs Team(Quon Solo)\n",
            "Week 9 Schedule:\n",
            "Team(bungalicious  💅) vs Team(Graham’s Groupie)\n",
            "Team(Bucktown Bandits) vs Team(pop-pop's bible study)\n",
            "Team(Salmon LipBalm !!) vs Team(bird gang)\n",
            "Team(Fightin' Furries) vs Team(Quon Solo)\n",
            "Team(Captain Sweatpants) vs Team(Jen-eral ⚔️)\n",
            "Week 10 Schedule:\n",
            "Team(Bucktown Bandits) vs Team(Salmon LipBalm !!)\n",
            "Team(Fightin' Furries) vs Team(bungalicious  💅)\n",
            "Team(Graham’s Groupie) vs Team(Captain Sweatpants)\n",
            "Team(Quon Solo) vs Team(pop-pop's bible study)\n",
            "Team(bird gang) vs Team(Jen-eral ⚔️)\n",
            "Week 11 Schedule:\n",
            "Team(Fightin' Furries) vs Team(Captain Sweatpants)\n",
            "Team(Bucktown Bandits) vs Team(Quon Solo)\n",
            "Team(Jen-eral ⚔️) vs Team(Salmon LipBalm !!)\n",
            "Team(bungalicious  💅) vs Team(pop-pop's bible study)\n",
            "Team(bird gang) vs Team(Graham’s Groupie)\n",
            "Week 12 Schedule:\n",
            "Team(Quon Solo) vs Team(Jen-eral ⚔️)\n",
            "Team(pop-pop's bible study) vs Team(Fightin' Furries)\n",
            "Team(Captain Sweatpants) vs Team(bird gang)\n",
            "Team(bungalicious  💅) vs Team(Bucktown Bandits)\n",
            "Team(Salmon LipBalm !!) vs Team(Graham’s Groupie)\n",
            "Week 13 Schedule:\n",
            "Team(pop-pop's bible study) vs Team(bird gang)\n",
            "Team(Quon Solo) vs Team(bungalicious  💅)\n",
            "Team(Graham’s Groupie) vs Team(Jen-eral ⚔️)\n",
            "Team(Fightin' Furries) vs Team(Bucktown Bandits)\n",
            "Team(Salmon LipBalm !!) vs Team(Captain Sweatpants)\n",
            "Week 14 Schedule:\n",
            "Team(Graham’s Groupie) vs Team(Bucktown Bandits)\n",
            "Team(Salmon LipBalm !!) vs Team(Fightin' Furries)\n",
            "Team(Captain Sweatpants) vs Team(Quon Solo)\n",
            "Team(Jen-eral ⚔️) vs Team(pop-pop's bible study)\n",
            "Team(bird gang) vs Team(bungalicious  💅)\n"
          ]
        }
      ]
    },
    {
      "cell_type": "code",
      "source": [
        "free_agents = league.free_agents(size=20, position='QB')  # Get top 20 available QBs\n",
        "\n",
        "print(\"Available Free Agents (QB):\")\n",
        "for player in free_agents:\n",
        "    print(f\"  - {player.name} ({player.proTeam})\")"
      ],
      "metadata": {
        "id": "_WP9t9mrqyyF",
        "outputId": "69931675-55d1-47c2-f411-0725cab59965",
        "colab": {
          "base_uri": "https://localhost:8080/"
        }
      },
      "execution_count": 110,
      "outputs": [
        {
          "output_type": "stream",
          "name": "stdout",
          "text": [
            "Available Free Agents (QB):\n",
            "  - C.J. Stroud (HOU)\n",
            "  - Tua Tagovailoa (MIA)\n",
            "  - Anthony Richardson (IND)\n",
            "  - Aaron Rodgers (None)\n",
            "  - Kirk Cousins (ATL)\n",
            "  - Bryce Young (CAR)\n",
            "  - Michael Penix Jr. (ATL)\n",
            "  - Trevor Lawrence (JAX)\n",
            "  - Jameis Winston (CLE)\n",
            "  - Derek Carr (NO)\n",
            "  - Justin Fields (NYJ)\n",
            "  - Joe Flacco (IND)\n",
            "  - Deshaun Watson (CLE)\n",
            "  - Cooper Rush (BAL)\n",
            "  - Daniel Jones (IND)\n",
            "  - Tom Brady (TB)\n",
            "  - Mason Rudolph (PIT)\n",
            "  - Mac Jones (SF)\n",
            "  - Tommy DeVito (NYG)\n",
            "  - Aidan O'Connell (LV)\n"
          ]
        }
      ]
    },
    {
      "cell_type": "code",
      "source": [
        "for team in league.teams:\n",
        "    print(f\"\\nTeam: {team.team_name}\")\n",
        "    print(\"Roster:\")\n",
        "    for player in team.roster:\n",
        "        print(f\"  - {player.name} ({player.position})\")"
      ],
      "metadata": {
        "id": "Q9sOrwEqrYvv",
        "outputId": "df574543-0966-47c7-9484-24a3733a2d7a",
        "colab": {
          "base_uri": "https://localhost:8080/"
        }
      },
      "execution_count": 111,
      "outputs": [
        {
          "output_type": "stream",
          "name": "stdout",
          "text": [
            "\n",
            "Team: Fightin' Furries\n",
            "Roster:\n",
            "  - Tyreek Hill (WR)\n",
            "  - Isiah Pacheco (RB)\n",
            "  - Joe Mixon (RB)\n",
            "  - Patrick Mahomes (QB)\n",
            "  - Dalton Kincaid (TE)\n",
            "  - Zay Flowers (WR)\n",
            "  - Jaxon Smith-Njigba (WR)\n",
            "  - Gus Edwards (RB)\n",
            "  - Matthew Stafford (QB)\n",
            "  - Kareem Hunt (RB)\n",
            "  - Broncos D/ST (D/ST)\n",
            "  - David Njoku (TE)\n",
            "  - Caleb Williams (QB)\n",
            "  - DeAndre Hopkins (WR)\n",
            "  - Bills D/ST (D/ST)\n",
            "  - Matthew Wright (K)\n",
            "\n",
            "Team: Quon Solo\n",
            "Roster:\n",
            "  - Justin Jefferson (WR)\n",
            "  - Kyren Williams (RB)\n",
            "  - Marvin Harrison Jr. (WR)\n",
            "  - Mike Evans (WR)\n",
            "  - D'Andre Swift (RB)\n",
            "  - Brian Robinson Jr. (RB)\n",
            "  - Kyler Murray (QB)\n",
            "  - J.K. Dobbins (RB)\n",
            "  - Geno Smith (QB)\n",
            "  - Chris Boswell (K)\n",
            "  - Romeo Doubs (WR)\n",
            "  - Mark Andrews (TE)\n",
            "  - Bears D/ST (D/ST)\n",
            "  - Courtland Sutton (WR)\n",
            "  - Josh Downs (WR)\n",
            "  - Evan Engram (TE)\n",
            "\n",
            "Team: Jen-eral ⚔️\n",
            "Roster:\n",
            "  - Derrick Henry (RB)\n",
            "  - A.J. Brown (WR)\n",
            "  - Alvin Kamara (RB)\n",
            "  - Jalen Hurts (QB)\n",
            "  - Calvin Ridley (WR)\n",
            "  - Raheem Mostert (RB)\n",
            "  - Jets D/ST (D/ST)\n",
            "  - Pat Freiermuth (TE)\n",
            "  - Darnell Mooney (WR)\n",
            "  - Bucky Irving (RB)\n",
            "  - Jayden Reed (WR)\n",
            "  - Dontayvion Wicks (WR)\n",
            "  - Cameron Dicker (K)\n",
            "  - Tank Bigsby (RB)\n",
            "  - Dolphins D/ST (D/ST)\n",
            "  - Jonnu Smith (TE)\n",
            "\n",
            "Team: Captain Sweatpants\n",
            "Roster:\n",
            "  - CeeDee Lamb (WR)\n",
            "  - Garrett Wilson (WR)\n",
            "  - Rachaad White (RB)\n",
            "  - Nico Collins (WR)\n",
            "  - James Conner (RB)\n",
            "  - George Pickens (WR)\n",
            "  - Cowboys D/ST (D/ST)\n",
            "  - Chase McLaughlin (K)\n",
            "  - Jake Elliott (K)\n",
            "  - Bo Nix (QB)\n",
            "  - Mike Gesicki (TE)\n",
            "  - Rico Dowdle (RB)\n",
            "  - Will Dissly (TE)\n",
            "  - Will Levis (QB)\n",
            "  - Chargers D/ST (D/ST)\n",
            "  - Khalil Shakir (WR)\n",
            "\n",
            "Team: Salmon LipBalm !!\n",
            "Roster:\n",
            "  - Bijan Robinson (RB)\n",
            "  - Jahmyr Gibbs (RB)\n",
            "  - Jaylen Waddle (WR)\n",
            "  - Rhamondre Stevenson (RB)\n",
            "  - Davante Adams (WR)\n",
            "  - Jordan Love (QB)\n",
            "  - Ka'imi Fairbairn (K)\n",
            "  - Trey McBride (TE)\n",
            "  - Vikings D/ST (D/ST)\n",
            "  - Chase Brown (RB)\n",
            "  - Brian Thomas Jr. (WR)\n",
            "  - Puka Nacua (WR)\n",
            "  - Hunter Henry (TE)\n",
            "  - Russell Wilson (QB)\n",
            "  - Wil Lutz (K)\n",
            "  - Drake Maye (QB)\n",
            "\n",
            "Team: Graham’s Groupie\n",
            "Roster:\n",
            "  - Ja'Marr Chase (WR)\n",
            "  - James Cook (RB)\n",
            "  - Drake London (WR)\n",
            "  - Josh Allen (QB)\n",
            "  - Najee Harris (RB)\n",
            "  - Amari Cooper (WR)\n",
            "  - Jayden Daniels (QB)\n",
            "  - Jauan Jennings (WR)\n",
            "  - Tyrone Tracy Jr. (RB)\n",
            "  - Travis Etienne Jr. (RB)\n",
            "  - Jordan Addison (WR)\n",
            "  - T.J. Hockenson (TE)\n",
            "  - Jason Sanders (K)\n",
            "  - Ravens D/ST (D/ST)\n",
            "  - Isaac Guerendo (RB)\n",
            "  - Alexander Mattison (RB)\n",
            "\n",
            "Team: pop-pop's bible study\n",
            "Roster:\n",
            "  - Breece Hall (RB)\n",
            "  - Josh Jacobs (RB)\n",
            "  - Lamar Jackson (QB)\n",
            "  - George Kittle (TE)\n",
            "  - Aaron Jones (RB)\n",
            "  - Terry McLaurin (WR)\n",
            "  - Tyjae Spears (RB)\n",
            "  - Rome Odunze (WR)\n",
            "  - Chiefs D/ST (D/ST)\n",
            "  - Jared Goff (QB)\n",
            "  - Lions D/ST (D/ST)\n",
            "  - Jameson Williams (WR)\n",
            "  - Zach Ertz (TE)\n",
            "  - Christian Watson (WR)\n",
            "  - Justin Tucker (K)\n",
            "  - Packers D/ST (D/ST)\n",
            "\n",
            "Team: Bucktown Bandits\n",
            "Roster:\n",
            "  - Jonathan Taylor (RB)\n",
            "  - Amon-Ra St. Brown (WR)\n",
            "  - De'Von Achane (RB)\n",
            "  - Travis Kelce (TE)\n",
            "  - Cooper Kupp (WR)\n",
            "  - Joe Burrow (QB)\n",
            "  - Tank Dell (WR)\n",
            "  - Tony Pollard (RB)\n",
            "  - Xavier Worthy (WR)\n",
            "  - Jakobi Meyers (WR)\n",
            "  - DJ Moore (WR)\n",
            "  - Cade Otton (TE)\n",
            "  - Jaylen Warren (RB)\n",
            "  - Justin Herbert (QB)\n",
            "  - Buccaneers D/ST (D/ST)\n",
            "  - Brandon Aubrey (K)\n",
            "\n",
            "Team: bird gang\n",
            "Roster:\n",
            "  - Christian McCaffrey (RB)\n",
            "  - DK Metcalf (WR)\n",
            "  - Brandon Aiyuk (WR)\n",
            "  - David Montgomery (RB)\n",
            "  - DeVonta Smith (WR)\n",
            "  - Brock Purdy (QB)\n",
            "  - Stefon Diggs (WR)\n",
            "  - Jake Ferguson (TE)\n",
            "  - Javonte Williams (RB)\n",
            "  - Dallas Goedert (TE)\n",
            "  - Chuba Hubbard (RB)\n",
            "  - Blake Corum (RB)\n",
            "  - DeMario Douglas (WR)\n",
            "  - Baker Mayfield (QB)\n",
            "  - Tyler Bass (K)\n",
            "  - Eagles D/ST (D/ST)\n",
            "\n",
            "Team: bungalicious  💅\n",
            "Roster:\n",
            "  - Saquon Barkley (RB)\n",
            "  - Deebo Samuel Sr. (WR)\n",
            "  - Kenneth Walker III (RB)\n",
            "  - Sam LaPorta (TE)\n",
            "  - Tee Higgins (WR)\n",
            "  - Dak Prescott (QB)\n",
            "  - Malik Nabers (WR)\n",
            "  - Brock Bowers (TE)\n",
            "  - Ty Chandler (RB)\n",
            "  - Jerry Jeudy (WR)\n",
            "  - Chig Okonkwo (TE)\n",
            "  - Gabe Davis (WR)\n",
            "  - Jake Bates (K)\n",
            "  - Sam Darnold (QB)\n",
            "  - Colts D/ST (D/ST)\n",
            "  - Zach Charbonnet (RB)\n"
          ]
        }
      ]
    },
    {
      "cell_type": "code",
      "source": [
        "week_number = 1\n",
        "box_scores = league.box_scores(week=week_number)\n",
        "\n",
        "for matchup in box_scores:\n",
        "    print(f\"\\nMatchup: {matchup.home_team} vs {matchup.away_team}\")\n",
        "    print(f\"  Home Score: {matchup.home_score}\")\n",
        "    print(f\"  Away Score: {matchup.away_score}\")"
      ],
      "metadata": {
        "id": "Nz8qaA22roRC",
        "outputId": "1af88b01-792c-4837-9a36-47c2e1c6e54b",
        "colab": {
          "base_uri": "https://localhost:8080/"
        }
      },
      "execution_count": 112,
      "outputs": [
        {
          "output_type": "stream",
          "name": "stdout",
          "text": [
            "\n",
            "Matchup: Team(Bucktown Bandits) vs Team(Graham’s Groupie)\n",
            "  Home Score: 73.0\n",
            "  Away Score: 96.0\n",
            "\n",
            "Matchup: Team(bungalicious  💅) vs Team(Fightin' Furries)\n",
            "  Home Score: 101.0\n",
            "  Away Score: 94.0\n",
            "\n",
            "Matchup: Team(bird gang) vs Team(Salmon LipBalm !!)\n",
            "  Home Score: 59.0\n",
            "  Away Score: 101.0\n",
            "\n",
            "Matchup: Team(pop-pop's bible study) vs Team(Quon Solo)\n",
            "  Home Score: 79.0\n",
            "  Away Score: 97.0\n",
            "\n",
            "Matchup: Team(Jen-eral ⚔️) vs Team(Captain Sweatpants)\n",
            "  Home Score: 82.0\n",
            "  Away Score: 110.0\n"
          ]
        }
      ]
    },
    {
      "cell_type": "code",
      "source": [
        "# getting injury status of free agents (not on rosters)\n",
        "\n",
        "free_agents = league.free_agents()\n",
        "i=0\n",
        "for player in free_agents:\n",
        "  player_obj = free_agents[i]\n",
        "  print(f\"Player: {player_obj.name}, Injury Status: {player_obj.injuryStatus}, Injured: {player_obj.injured}\")\n",
        "  i+=1"
      ],
      "metadata": {
        "id": "B8g3WFWUKHpx",
        "outputId": "bcd69ab9-cccc-4100-d5b8-1bcd80cb0d3d",
        "colab": {
          "base_uri": "https://localhost:8080/"
        }
      },
      "execution_count": 113,
      "outputs": [
        {
          "output_type": "stream",
          "name": "stdout",
          "text": [
            "Player: Ladd McConkey, Injury Status: ACTIVE, Injured: False\n",
            "Player: Keenan Allen, Injury Status: ACTIVE, Injured: False\n",
            "Player: Michael Pittman Jr., Injury Status: QUESTIONABLE, Injured: False\n",
            "Player: Steelers D/ST, Injury Status: [], Injured: False\n",
            "Player: C.J. Stroud, Injury Status: ACTIVE, Injured: False\n",
            "Player: Kyle Pitts, Injury Status: ACTIVE, Injured: False\n",
            "Player: Adam Thielen, Injury Status: ACTIVE, Injured: False\n",
            "Player: Chris Olave, Injury Status: QUESTIONABLE, Injured: False\n",
            "Player: Tucker Kraft, Injury Status: ACTIVE, Injured: False\n",
            "Player: 49ers D/ST, Injury Status: [], Injured: False\n",
            "Player: Jerome Ford, Injury Status: QUESTIONABLE, Injured: False\n",
            "Player: Texans D/ST, Injury Status: [], Injured: False\n",
            "Player: Quentin Johnston, Injury Status: ACTIVE, Injured: False\n",
            "Player: Tua Tagovailoa, Injury Status: QUESTIONABLE, Injured: False\n",
            "Player: Nick Chubb, Injury Status: QUESTIONABLE, Injured: False\n",
            "Player: Anthony Richardson, Injury Status: QUESTIONABLE, Injured: False\n",
            "Player: Aaron Rodgers, Injury Status: ACTIVE, Injured: False\n",
            "Player: Tyler Lockett, Injury Status: ACTIVE, Injured: False\n",
            "Player: Austin Ekeler, Injury Status: ACTIVE, Injured: False\n",
            "Player: Keon Coleman, Injury Status: ACTIVE, Injured: False\n",
            "Player: Jalen McMillan, Injury Status: ACTIVE, Injured: False\n",
            "Player: Devin Singletary, Injury Status: ACTIVE, Injured: False\n",
            "Player: Harrison Butker, Injury Status: ACTIVE, Injured: False\n",
            "Player: Dalton Schultz, Injury Status: ACTIVE, Injured: False\n",
            "Player: Kirk Cousins, Injury Status: ACTIVE, Injured: False\n",
            "Player: Bengals D/ST, Injury Status: [], Injured: False\n",
            "Player: Diontae Johnson, Injury Status: ACTIVE, Injured: False\n",
            "Player: Commanders D/ST, Injury Status: [], Injured: False\n",
            "Player: Wan'Dale Robinson, Injury Status: ACTIVE, Injured: False\n",
            "Player: Michael Carter, Injury Status: ACTIVE, Injured: False\n",
            "Player: Chris Godwin, Injury Status: QUESTIONABLE, Injured: False\n",
            "Player: Tyler Allgeier, Injury Status: ACTIVE, Injured: False\n",
            "Player: Saints D/ST, Injury Status: [], Injured: False\n",
            "Player: Jake Moody, Injury Status: ACTIVE, Injured: False\n",
            "Player: Kendre Miller, Injury Status: QUESTIONABLE, Injured: False\n",
            "Player: Cardinals D/ST, Injury Status: [], Injured: False\n",
            "Player: Younghoe Koo, Injury Status: QUESTIONABLE, Injured: False\n",
            "Player: Ameer Abdullah, Injury Status: QUESTIONABLE, Injured: False\n",
            "Player: Browns D/ST, Injury Status: [], Injured: False\n",
            "Player: Falcons D/ST, Injury Status: [], Injured: False\n",
            "Player: Cole Kmet, Injury Status: ACTIVE, Injured: False\n",
            "Player: Jonathon Brooks, Injury Status: QUESTIONABLE, Injured: False\n",
            "Player: Rashee Rice, Injury Status: QUESTIONABLE, Injured: False\n",
            "Player: Evan McPherson, Injury Status: QUESTIONABLE, Injured: False\n",
            "Player: Zack Moss, Injury Status: QUESTIONABLE, Injured: False\n",
            "Player: Hollywood Brown, Injury Status: ACTIVE, Injured: False\n",
            "Player: Christian Kirk, Injury Status: QUESTIONABLE, Injured: False\n",
            "Player: Will Reichard, Injury Status: ACTIVE, Injured: False\n",
            "Player: Braelon Allen, Injury Status: ACTIVE, Injured: False\n",
            "Player: Nick Westbrook-Ikhine, Injury Status: ACTIVE, Injured: False\n"
          ]
        }
      ]
    },
    {
      "cell_type": "code",
      "source": [
        "# getting injury status of players on rosters\n",
        "for team in league.teams:\n",
        "    print(f\"\\nTeam: {team.team_name}\")\n",
        "    for player in team.roster:\n",
        "        print(f\"Player: {player.name}, Injury Status: {player.injuryStatus}, Injured: {player.injured}\")"
      ],
      "metadata": {
        "id": "TZkMkMWGNE2R",
        "outputId": "737fbefd-bf2d-44af-b09e-763b1affc406",
        "colab": {
          "base_uri": "https://localhost:8080/"
        }
      },
      "execution_count": 114,
      "outputs": [
        {
          "output_type": "stream",
          "name": "stdout",
          "text": [
            "\n",
            "Team: Fightin' Furries\n",
            "Player: Tyreek Hill, Injury Status: QUESTIONABLE, Injured: False\n",
            "Player: Isiah Pacheco, Injury Status: ACTIVE, Injured: False\n",
            "Player: Joe Mixon, Injury Status: ACTIVE, Injured: False\n",
            "Player: Patrick Mahomes, Injury Status: ACTIVE, Injured: False\n",
            "Player: Dalton Kincaid, Injury Status: ACTIVE, Injured: False\n",
            "Player: Zay Flowers, Injury Status: QUESTIONABLE, Injured: False\n",
            "Player: Jaxon Smith-Njigba, Injury Status: ACTIVE, Injured: False\n",
            "Player: Gus Edwards, Injury Status: ACTIVE, Injured: False\n",
            "Player: Matthew Stafford, Injury Status: ACTIVE, Injured: False\n",
            "Player: Kareem Hunt, Injury Status: ACTIVE, Injured: False\n",
            "Player: Broncos D/ST, Injury Status: NORMAL, Injured: False\n",
            "Player: David Njoku, Injury Status: QUESTIONABLE, Injured: False\n",
            "Player: Caleb Williams, Injury Status: QUESTIONABLE, Injured: False\n",
            "Player: DeAndre Hopkins, Injury Status: ACTIVE, Injured: False\n",
            "Player: Bills D/ST, Injury Status: NORMAL, Injured: False\n",
            "Player: Matthew Wright, Injury Status: ACTIVE, Injured: False\n",
            "\n",
            "Team: Quon Solo\n",
            "Player: Justin Jefferson, Injury Status: ACTIVE, Injured: False\n",
            "Player: Kyren Williams, Injury Status: ACTIVE, Injured: False\n",
            "Player: Marvin Harrison Jr., Injury Status: ACTIVE, Injured: False\n",
            "Player: Mike Evans, Injury Status: ACTIVE, Injured: False\n",
            "Player: D'Andre Swift, Injury Status: ACTIVE, Injured: False\n",
            "Player: Brian Robinson Jr., Injury Status: ACTIVE, Injured: False\n",
            "Player: Kyler Murray, Injury Status: ACTIVE, Injured: False\n",
            "Player: J.K. Dobbins, Injury Status: ACTIVE, Injured: False\n",
            "Player: Geno Smith, Injury Status: ACTIVE, Injured: False\n",
            "Player: Chris Boswell, Injury Status: ACTIVE, Injured: False\n",
            "Player: Romeo Doubs, Injury Status: QUESTIONABLE, Injured: False\n",
            "Player: Mark Andrews, Injury Status: ACTIVE, Injured: False\n",
            "Player: Bears D/ST, Injury Status: NORMAL, Injured: False\n",
            "Player: Courtland Sutton, Injury Status: ACTIVE, Injured: False\n",
            "Player: Josh Downs, Injury Status: ACTIVE, Injured: False\n",
            "Player: Evan Engram, Injury Status: QUESTIONABLE, Injured: False\n",
            "\n",
            "Team: Jen-eral ⚔️\n",
            "Player: Derrick Henry, Injury Status: ACTIVE, Injured: False\n",
            "Player: A.J. Brown, Injury Status: ACTIVE, Injured: False\n",
            "Player: Alvin Kamara, Injury Status: QUESTIONABLE, Injured: False\n",
            "Player: Jalen Hurts, Injury Status: ACTIVE, Injured: False\n",
            "Player: Calvin Ridley, Injury Status: ACTIVE, Injured: False\n",
            "Player: Raheem Mostert, Injury Status: ACTIVE, Injured: False\n",
            "Player: Jets D/ST, Injury Status: NORMAL, Injured: False\n",
            "Player: Pat Freiermuth, Injury Status: ACTIVE, Injured: False\n",
            "Player: Darnell Mooney, Injury Status: QUESTIONABLE, Injured: False\n",
            "Player: Bucky Irving, Injury Status: ACTIVE, Injured: False\n",
            "Player: Jayden Reed, Injury Status: QUESTIONABLE, Injured: False\n",
            "Player: Dontayvion Wicks, Injury Status: ACTIVE, Injured: False\n",
            "Player: Cameron Dicker, Injury Status: ACTIVE, Injured: False\n",
            "Player: Tank Bigsby, Injury Status: ACTIVE, Injured: False\n",
            "Player: Dolphins D/ST, Injury Status: NORMAL, Injured: False\n",
            "Player: Jonnu Smith, Injury Status: ACTIVE, Injured: False\n",
            "\n",
            "Team: Captain Sweatpants\n",
            "Player: CeeDee Lamb, Injury Status: ACTIVE, Injured: False\n",
            "Player: Garrett Wilson, Injury Status: ACTIVE, Injured: False\n",
            "Player: Rachaad White, Injury Status: ACTIVE, Injured: False\n",
            "Player: Nico Collins, Injury Status: ACTIVE, Injured: False\n",
            "Player: James Conner, Injury Status: QUESTIONABLE, Injured: False\n",
            "Player: George Pickens, Injury Status: ACTIVE, Injured: False\n",
            "Player: Cowboys D/ST, Injury Status: NORMAL, Injured: False\n",
            "Player: Chase McLaughlin, Injury Status: ACTIVE, Injured: False\n",
            "Player: Jake Elliott, Injury Status: ACTIVE, Injured: False\n",
            "Player: Bo Nix, Injury Status: ACTIVE, Injured: False\n",
            "Player: Mike Gesicki, Injury Status: ACTIVE, Injured: False\n",
            "Player: Rico Dowdle, Injury Status: ACTIVE, Injured: False\n",
            "Player: Will Dissly, Injury Status: ACTIVE, Injured: False\n",
            "Player: Will Levis, Injury Status: ACTIVE, Injured: False\n",
            "Player: Chargers D/ST, Injury Status: NORMAL, Injured: False\n",
            "Player: Khalil Shakir, Injury Status: ACTIVE, Injured: False\n",
            "\n",
            "Team: Salmon LipBalm !!\n",
            "Player: Bijan Robinson, Injury Status: ACTIVE, Injured: False\n",
            "Player: Jahmyr Gibbs, Injury Status: ACTIVE, Injured: False\n",
            "Player: Jaylen Waddle, Injury Status: ACTIVE, Injured: False\n",
            "Player: Rhamondre Stevenson, Injury Status: ACTIVE, Injured: False\n",
            "Player: Davante Adams, Injury Status: ACTIVE, Injured: False\n",
            "Player: Jordan Love, Injury Status: ACTIVE, Injured: False\n",
            "Player: Ka'imi Fairbairn, Injury Status: ACTIVE, Injured: False\n",
            "Player: Trey McBride, Injury Status: ACTIVE, Injured: False\n",
            "Player: Vikings D/ST, Injury Status: NORMAL, Injured: False\n",
            "Player: Chase Brown, Injury Status: QUESTIONABLE, Injured: False\n",
            "Player: Brian Thomas Jr., Injury Status: ACTIVE, Injured: False\n",
            "Player: Puka Nacua, Injury Status: ACTIVE, Injured: False\n",
            "Player: Hunter Henry, Injury Status: QUESTIONABLE, Injured: False\n",
            "Player: Russell Wilson, Injury Status: ACTIVE, Injured: False\n",
            "Player: Wil Lutz, Injury Status: ACTIVE, Injured: False\n",
            "Player: Drake Maye, Injury Status: ACTIVE, Injured: False\n",
            "\n",
            "Team: Graham’s Groupie\n",
            "Player: Ja'Marr Chase, Injury Status: ACTIVE, Injured: False\n",
            "Player: James Cook, Injury Status: ACTIVE, Injured: False\n",
            "Player: Drake London, Injury Status: ACTIVE, Injured: False\n",
            "Player: Josh Allen, Injury Status: ACTIVE, Injured: False\n",
            "Player: Najee Harris, Injury Status: ACTIVE, Injured: False\n",
            "Player: Amari Cooper, Injury Status: ACTIVE, Injured: False\n",
            "Player: Jayden Daniels, Injury Status: ACTIVE, Injured: False\n",
            "Player: Jauan Jennings, Injury Status: ACTIVE, Injured: False\n",
            "Player: Tyrone Tracy Jr., Injury Status: ACTIVE, Injured: False\n",
            "Player: Travis Etienne Jr., Injury Status: ACTIVE, Injured: False\n",
            "Player: Jordan Addison, Injury Status: ACTIVE, Injured: False\n",
            "Player: T.J. Hockenson, Injury Status: ACTIVE, Injured: False\n",
            "Player: Jason Sanders, Injury Status: ACTIVE, Injured: False\n",
            "Player: Ravens D/ST, Injury Status: NORMAL, Injured: False\n",
            "Player: Isaac Guerendo, Injury Status: QUESTIONABLE, Injured: False\n",
            "Player: Alexander Mattison, Injury Status: ACTIVE, Injured: False\n",
            "\n",
            "Team: pop-pop's bible study\n",
            "Player: Breece Hall, Injury Status: ACTIVE, Injured: False\n",
            "Player: Josh Jacobs, Injury Status: ACTIVE, Injured: False\n",
            "Player: Lamar Jackson, Injury Status: ACTIVE, Injured: False\n",
            "Player: George Kittle, Injury Status: ACTIVE, Injured: False\n",
            "Player: Aaron Jones, Injury Status: ACTIVE, Injured: False\n",
            "Player: Terry McLaurin, Injury Status: ACTIVE, Injured: False\n",
            "Player: Tyjae Spears, Injury Status: QUESTIONABLE, Injured: False\n",
            "Player: Rome Odunze, Injury Status: ACTIVE, Injured: False\n",
            "Player: Chiefs D/ST, Injury Status: NORMAL, Injured: False\n",
            "Player: Jared Goff, Injury Status: ACTIVE, Injured: False\n",
            "Player: Lions D/ST, Injury Status: NORMAL, Injured: False\n",
            "Player: Jameson Williams, Injury Status: ACTIVE, Injured: False\n",
            "Player: Zach Ertz, Injury Status: ACTIVE, Injured: False\n",
            "Player: Christian Watson, Injury Status: QUESTIONABLE, Injured: False\n",
            "Player: Justin Tucker, Injury Status: ACTIVE, Injured: False\n",
            "Player: Packers D/ST, Injury Status: NORMAL, Injured: False\n",
            "\n",
            "Team: Bucktown Bandits\n",
            "Player: Jonathan Taylor, Injury Status: ACTIVE, Injured: False\n",
            "Player: Amon-Ra St. Brown, Injury Status: ACTIVE, Injured: False\n",
            "Player: De'Von Achane, Injury Status: ACTIVE, Injured: False\n",
            "Player: Travis Kelce, Injury Status: ACTIVE, Injured: False\n",
            "Player: Cooper Kupp, Injury Status: ACTIVE, Injured: False\n",
            "Player: Joe Burrow, Injury Status: ACTIVE, Injured: False\n",
            "Player: Tank Dell, Injury Status: QUESTIONABLE, Injured: False\n",
            "Player: Tony Pollard, Injury Status: ACTIVE, Injured: False\n",
            "Player: Xavier Worthy, Injury Status: ACTIVE, Injured: False\n",
            "Player: Jakobi Meyers, Injury Status: ACTIVE, Injured: False\n",
            "Player: DJ Moore, Injury Status: ACTIVE, Injured: False\n",
            "Player: Cade Otton, Injury Status: ACTIVE, Injured: False\n",
            "Player: Jaylen Warren, Injury Status: ACTIVE, Injured: False\n",
            "Player: Justin Herbert, Injury Status: ACTIVE, Injured: False\n",
            "Player: Buccaneers D/ST, Injury Status: NORMAL, Injured: False\n",
            "Player: Brandon Aubrey, Injury Status: QUESTIONABLE, Injured: False\n",
            "\n",
            "Team: bird gang\n",
            "Player: Christian McCaffrey, Injury Status: QUESTIONABLE, Injured: False\n",
            "Player: DK Metcalf, Injury Status: ACTIVE, Injured: False\n",
            "Player: Brandon Aiyuk, Injury Status: QUESTIONABLE, Injured: False\n",
            "Player: David Montgomery, Injury Status: ACTIVE, Injured: False\n",
            "Player: DeVonta Smith, Injury Status: ACTIVE, Injured: False\n",
            "Player: Brock Purdy, Injury Status: ACTIVE, Injured: False\n",
            "Player: Stefon Diggs, Injury Status: QUESTIONABLE, Injured: False\n",
            "Player: Jake Ferguson, Injury Status: ACTIVE, Injured: False\n",
            "Player: Javonte Williams, Injury Status: ACTIVE, Injured: False\n",
            "Player: Dallas Goedert, Injury Status: ACTIVE, Injured: False\n",
            "Player: Chuba Hubbard, Injury Status: ACTIVE, Injured: False\n",
            "Player: Blake Corum, Injury Status: QUESTIONABLE, Injured: False\n",
            "Player: DeMario Douglas, Injury Status: ACTIVE, Injured: False\n",
            "Player: Baker Mayfield, Injury Status: ACTIVE, Injured: False\n",
            "Player: Tyler Bass, Injury Status: ACTIVE, Injured: False\n",
            "Player: Eagles D/ST, Injury Status: NORMAL, Injured: False\n",
            "\n",
            "Team: bungalicious  💅\n",
            "Player: Saquon Barkley, Injury Status: ACTIVE, Injured: False\n",
            "Player: Deebo Samuel Sr., Injury Status: ACTIVE, Injured: False\n",
            "Player: Kenneth Walker III, Injury Status: QUESTIONABLE, Injured: False\n",
            "Player: Sam LaPorta, Injury Status: ACTIVE, Injured: False\n",
            "Player: Tee Higgins, Injury Status: ACTIVE, Injured: False\n",
            "Player: Dak Prescott, Injury Status: QUESTIONABLE, Injured: False\n",
            "Player: Malik Nabers, Injury Status: ACTIVE, Injured: False\n",
            "Player: Brock Bowers, Injury Status: ACTIVE, Injured: False\n",
            "Player: Ty Chandler, Injury Status: ACTIVE, Injured: False\n",
            "Player: Jerry Jeudy, Injury Status: ACTIVE, Injured: False\n",
            "Player: Chig Okonkwo, Injury Status: ACTIVE, Injured: False\n",
            "Player: Gabe Davis, Injury Status: QUESTIONABLE, Injured: False\n",
            "Player: Jake Bates, Injury Status: ACTIVE, Injured: False\n",
            "Player: Sam Darnold, Injury Status: ACTIVE, Injured: False\n",
            "Player: Colts D/ST, Injury Status: NORMAL, Injured: False\n",
            "Player: Zach Charbonnet, Injury Status: ACTIVE, Injured: False\n"
          ]
        }
      ]
    },
    {
      "cell_type": "code",
      "source": [
        "# getting starting roster for each week\n",
        "\n",
        "for team in league.teams:\n",
        "    print(f\"\\nTeam: {team.team_name} (Week {week})\")\n",
        "\n",
        "    # Get the team's roster for the given week\n",
        "    for player in team.roster:\n",
        "        #if player.lineupSlot != \"BE\" and player.lineupSlot != \"IR\":  # Exclude Bench and IR players\n",
        "            print(f\"  - {player.name} ({player.lineupSlot})\")\n"
      ],
      "metadata": {
        "id": "NVRJeM9_Nm-d",
        "outputId": "6dfe7960-42ff-47e5-ac5d-e5bddd8ba787",
        "colab": {
          "base_uri": "https://localhost:8080/"
        }
      },
      "execution_count": 115,
      "outputs": [
        {
          "output_type": "stream",
          "name": "stdout",
          "text": [
            "\n",
            "Team: Fightin' Furries (Week 14)\n",
            "  - Tyreek Hill (WR)\n",
            "  - Isiah Pacheco (RB)\n",
            "  - Joe Mixon (BE)\n",
            "  - Patrick Mahomes (QB)\n",
            "  - Dalton Kincaid (BE)\n",
            "  - Zay Flowers (BE)\n",
            "  - Jaxon Smith-Njigba (RB/WR/TE)\n",
            "  - Gus Edwards (BE)\n",
            "  - Matthew Stafford (BE)\n",
            "  - Kareem Hunt (RB)\n",
            "  - Broncos D/ST (BE)\n",
            "  - David Njoku (TE)\n",
            "  - Caleb Williams (BE)\n",
            "  - DeAndre Hopkins (WR)\n",
            "  - Bills D/ST (D/ST)\n",
            "  - Matthew Wright (K)\n",
            "\n",
            "Team: Quon Solo (Week 14)\n",
            "  - Justin Jefferson (WR)\n",
            "  - Kyren Williams (RB)\n",
            "  - Marvin Harrison Jr. (BE)\n",
            "  - Mike Evans (BE)\n",
            "  - D'Andre Swift (RB)\n",
            "  - Brian Robinson Jr. (RB/WR/TE)\n",
            "  - Kyler Murray (QB)\n",
            "  - J.K. Dobbins (BE)\n",
            "  - Geno Smith (BE)\n",
            "  - Chris Boswell (K)\n",
            "  - Romeo Doubs (BE)\n",
            "  - Mark Andrews (TE)\n",
            "  - Bears D/ST (D/ST)\n",
            "  - Courtland Sutton (WR)\n",
            "  - Josh Downs (BE)\n",
            "  - Evan Engram (BE)\n",
            "\n",
            "Team: Jen-eral ⚔️ (Week 14)\n",
            "  - Derrick Henry (RB)\n",
            "  - A.J. Brown (WR)\n",
            "  - Alvin Kamara (RB)\n",
            "  - Jalen Hurts (QB)\n",
            "  - Calvin Ridley (WR)\n",
            "  - Raheem Mostert (BE)\n",
            "  - Jets D/ST (D/ST)\n",
            "  - Pat Freiermuth (BE)\n",
            "  - Darnell Mooney (BE)\n",
            "  - Bucky Irving (BE)\n",
            "  - Jayden Reed (BE)\n",
            "  - Dontayvion Wicks (BE)\n",
            "  - Cameron Dicker (K)\n",
            "  - Tank Bigsby (RB/WR/TE)\n",
            "  - Dolphins D/ST (BE)\n",
            "  - Jonnu Smith (TE)\n",
            "\n",
            "Team: Captain Sweatpants (Week 14)\n",
            "  - CeeDee Lamb (WR)\n",
            "  - Garrett Wilson (WR)\n",
            "  - Rachaad White (BE)\n",
            "  - Nico Collins (BE)\n",
            "  - James Conner (RB)\n",
            "  - George Pickens (BE)\n",
            "  - Cowboys D/ST (BE)\n",
            "  - Chase McLaughlin (BE)\n",
            "  - Jake Elliott (K)\n",
            "  - Bo Nix (BE)\n",
            "  - Mike Gesicki (TE)\n",
            "  - Rico Dowdle (RB)\n",
            "  - Will Dissly (BE)\n",
            "  - Will Levis (QB)\n",
            "  - Chargers D/ST (D/ST)\n",
            "  - Khalil Shakir (RB/WR/TE)\n",
            "\n",
            "Team: Salmon LipBalm !! (Week 14)\n",
            "  - Bijan Robinson (RB)\n",
            "  - Jahmyr Gibbs (RB)\n",
            "  - Jaylen Waddle (BE)\n",
            "  - Rhamondre Stevenson (BE)\n",
            "  - Davante Adams (WR)\n",
            "  - Jordan Love (BE)\n",
            "  - Ka'imi Fairbairn (BE)\n",
            "  - Trey McBride (TE)\n",
            "  - Vikings D/ST (D/ST)\n",
            "  - Chase Brown (RB/WR/TE)\n",
            "  - Brian Thomas Jr. (BE)\n",
            "  - Puka Nacua (WR)\n",
            "  - Hunter Henry (BE)\n",
            "  - Russell Wilson (QB)\n",
            "  - Wil Lutz (K)\n",
            "  - Drake Maye (BE)\n",
            "\n",
            "Team: Graham’s Groupie (Week 14)\n",
            "  - Ja'Marr Chase (WR)\n",
            "  - James Cook (RB)\n",
            "  - Drake London (RB/WR/TE)\n",
            "  - Josh Allen (QB)\n",
            "  - Najee Harris (BE)\n",
            "  - Amari Cooper (BE)\n",
            "  - Jayden Daniels (BE)\n",
            "  - Jauan Jennings (WR)\n",
            "  - Tyrone Tracy Jr. (BE)\n",
            "  - Travis Etienne Jr. (RB)\n",
            "  - Jordan Addison (BE)\n",
            "  - T.J. Hockenson (TE)\n",
            "  - Jason Sanders (K)\n",
            "  - Ravens D/ST (D/ST)\n",
            "  - Isaac Guerendo (BE)\n",
            "  - Alexander Mattison (BE)\n",
            "\n",
            "Team: pop-pop's bible study (Week 14)\n",
            "  - Breece Hall (RB)\n",
            "  - Josh Jacobs (RB)\n",
            "  - Lamar Jackson (QB)\n",
            "  - George Kittle (TE)\n",
            "  - Aaron Jones (RB/WR/TE)\n",
            "  - Terry McLaurin (WR)\n",
            "  - Tyjae Spears (BE)\n",
            "  - Rome Odunze (BE)\n",
            "  - Chiefs D/ST (D/ST)\n",
            "  - Jared Goff (BE)\n",
            "  - Lions D/ST (BE)\n",
            "  - Jameson Williams (WR)\n",
            "  - Zach Ertz (BE)\n",
            "  - Christian Watson (BE)\n",
            "  - Justin Tucker (K)\n",
            "  - Packers D/ST (BE)\n",
            "\n",
            "Team: Bucktown Bandits (Week 14)\n",
            "  - Jonathan Taylor (BE)\n",
            "  - Amon-Ra St. Brown (WR)\n",
            "  - De'Von Achane (RB)\n",
            "  - Travis Kelce (TE)\n",
            "  - Cooper Kupp (WR)\n",
            "  - Joe Burrow (QB)\n",
            "  - Tank Dell (BE)\n",
            "  - Tony Pollard (RB)\n",
            "  - Xavier Worthy (BE)\n",
            "  - Jakobi Meyers (RB/WR/TE)\n",
            "  - DJ Moore (BE)\n",
            "  - Cade Otton (BE)\n",
            "  - Jaylen Warren (BE)\n",
            "  - Justin Herbert (BE)\n",
            "  - Buccaneers D/ST (D/ST)\n",
            "  - Brandon Aubrey (K)\n",
            "\n",
            "Team: bird gang (Week 14)\n",
            "  - Christian McCaffrey (BE)\n",
            "  - DK Metcalf (WR)\n",
            "  - Brandon Aiyuk (BE)\n",
            "  - David Montgomery (RB)\n",
            "  - DeVonta Smith (WR)\n",
            "  - Brock Purdy (QB)\n",
            "  - Stefon Diggs (BE)\n",
            "  - Jake Ferguson (TE)\n",
            "  - Javonte Williams (BE)\n",
            "  - Dallas Goedert (BE)\n",
            "  - Chuba Hubbard (RB)\n",
            "  - Blake Corum (RB/WR/TE)\n",
            "  - DeMario Douglas (BE)\n",
            "  - Baker Mayfield (BE)\n",
            "  - Tyler Bass (K)\n",
            "  - Eagles D/ST (D/ST)\n",
            "\n",
            "Team: bungalicious  💅 (Week 14)\n",
            "  - Saquon Barkley (RB)\n",
            "  - Deebo Samuel Sr. (RB/WR/TE)\n",
            "  - Kenneth Walker III (BE)\n",
            "  - Sam LaPorta (BE)\n",
            "  - Tee Higgins (WR)\n",
            "  - Dak Prescott (BE)\n",
            "  - Malik Nabers (WR)\n",
            "  - Brock Bowers (TE)\n",
            "  - Ty Chandler (BE)\n",
            "  - Jerry Jeudy (BE)\n",
            "  - Chig Okonkwo (BE)\n",
            "  - Gabe Davis (BE)\n",
            "  - Jake Bates (K)\n",
            "  - Sam Darnold (QB)\n",
            "  - Colts D/ST (D/ST)\n",
            "  - Zach Charbonnet (RB)\n"
          ]
        }
      ]
    },
    {
      "cell_type": "markdown",
      "source": [
        "## **Getting the fantasy team rosters**\n",
        "*Will use to join to player data to maintain team assigments*"
      ],
      "metadata": {
        "id": "W-jJAhPvssjm"
      }
    },
    {
      "cell_type": "code",
      "source": [
        "# Define the range of weeks\n",
        "weeks = range(1, 19)  # Weeks 1 to 18\n",
        "\n",
        "# Create an empty list to store data\n",
        "all_weeks_roster = []\n",
        "\n",
        "# Loop through each week and get the roster data\n",
        "for week in weeks:\n",
        "    week_data = []  # Temporary storage for current week's data\n",
        "\n",
        "    for team in league.teams:\n",
        "        team_name = team.team_name  # Fantasy Team Name\n",
        "\n",
        "        for player in team.roster:\n",
        "            week_data.append({\n",
        "                \"cur_Fteam\": team_name,\n",
        "                \"week\": week,\n",
        "                \"espn_id\": player.playerId,  # ESPN Unique Player ID\n",
        "                \"cur_roster_slot\": player.position if player.lineupSlot != \"BE\" else \"Bench\"\n",
        "            })\n",
        "\n",
        "    # If no data is returned for this week, stop iterating\n",
        "    if not week_data:\n",
        "        print(f\"No data found for Week {week}. Stopping iteration.\")\n",
        "        break  # Stop looping when a week has no data\n",
        "\n",
        "    # Add this week's data to the master list\n",
        "    all_weeks_roster.extend(week_data)\n",
        "\n",
        "# Convert to DataFrame\n",
        "weekly_rosters = pd.DataFrame(all_weeks_roster)\n",
        "\n",
        "cur_roster = weekly_rosters[weekly_rosters['week'] == weekly_rosters['week'].max()].drop('week', axis=1)\n",
        "print(cur_roster)"
      ],
      "metadata": {
        "id": "wkEwJQ3qWH8P",
        "colab": {
          "base_uri": "https://localhost:8080/"
        },
        "outputId": "4a1ff7b5-5777-422d-e504-152a9e3aed32"
      },
      "execution_count": 116,
      "outputs": [
        {
          "output_type": "stream",
          "name": "stdout",
          "text": [
            "             cur_Fteam  espn_id cur_roster_slot\n",
            "2720  Fightin' Furries  3116406              WR\n",
            "2721  Fightin' Furries  4361529              RB\n",
            "2722  Fightin' Furries  3116385           Bench\n",
            "2723  Fightin' Furries  3139477              QB\n",
            "2724  Fightin' Furries  4385690           Bench\n",
            "...                ...      ...             ...\n",
            "2875   bungalicious  💅  4243537           Bench\n",
            "2876   bungalicious  💅  4689936               K\n",
            "2877   bungalicious  💅  3912547              QB\n",
            "2878   bungalicious  💅   -16011            D/ST\n",
            "2879   bungalicious  💅  4426385              RB\n",
            "\n",
            "[160 rows x 3 columns]\n"
          ]
        }
      ]
    },
    {
      "cell_type": "markdown",
      "source": [
        "### **Getting statistical data from xlsx files**"
      ],
      "metadata": {
        "id": "Pqurr9qovF3M"
      }
    },
    {
      "cell_type": "code",
      "source": [
        "from google.colab import drive\n",
        "drive.mount('/content/drive', force_remount = True)"
      ],
      "metadata": {
        "id": "LNbk_KpjvRsH",
        "outputId": "9fa35bb8-e969-42bc-d3f4-a63af86b3191",
        "colab": {
          "base_uri": "https://localhost:8080/"
        }
      },
      "execution_count": 117,
      "outputs": [
        {
          "output_type": "stream",
          "name": "stdout",
          "text": [
            "Mounted at /content/drive\n"
          ]
        }
      ]
    },
    {
      "cell_type": "code",
      "source": [
        "file_path = \"/content/drive/My Drive/ff_data.xlsx\"\n",
        "\n",
        "# Load specific sheets\n",
        "season_stats_all = pd.read_excel(file_path, sheet_name=\"Season\", engine=\"openpyxl\")\n",
        "weekly_stats_all = pd.read_excel(file_path, sheet_name=\"Weekly\", engine=\"openpyxl\")\n",
        "\n",
        "# Display first few rows\n",
        "print(season_stats_all.head())\n",
        "print(weekly_stats_all.head())"
      ],
      "metadata": {
        "id": "W83MSS6X1O2C",
        "outputId": "3f61027c-c01d-48c8-c880-109f8bc234e4",
        "colab": {
          "base_uri": "https://localhost:8080/"
        }
      },
      "execution_count": 118,
      "outputs": [
        {
          "output_type": "stream",
          "name": "stdout",
          "text": [
            "   season   player_id player_display_name team position  games_played  \\\n",
            "0    2021  00-0019596           Tom Brady   TB       QB          20.0   \n",
            "1    2021  00-0022924  Ben Roethlisberger  PIT       QB          18.0   \n",
            "2    2021  00-0023459       Aaron Rodgers   GB       QB          17.0   \n",
            "3    2021  00-0023682    Ryan Fitzpatrick  WAS       QB           1.0   \n",
            "4    2021  00-0024243      Marcedes Lewis   GB       TE          14.0   \n",
            "\n",
            "   completions  attempts  comp%  passing_yards  ...  total_st_tds  st_tds_pg  \\\n",
            "0        573.0     847.0  67.65         6187.0  ...           NaN        NaN   \n",
            "1        448.0     693.0  64.65         4170.0  ...           NaN        NaN   \n",
            "2        386.0     560.0  68.93         4340.0  ...           NaN        NaN   \n",
            "3          3.0       6.0  50.00           13.0  ...           NaN        NaN   \n",
            "4          0.0       0.0    NaN            0.0  ...           NaN        NaN   \n",
            "\n",
            "   total_fp  fp_pg  espn_id                name   age  height  weight  \\\n",
            "0       NaN    NaN   2330.0           Tom Brady  47.6    76.0   225.0   \n",
            "1       NaN    NaN   5536.0  Ben Roethlisberger  43.0    77.0   240.0   \n",
            "2       NaN    NaN   8439.0       Aaron Rodgers  41.3    74.0   223.0   \n",
            "3       NaN    NaN   8664.0    Ryan Fitzpatrick  40.3    74.0   228.0   \n",
            "4       NaN    NaN   9614.0      Marcedes Lewis  40.8    78.0   267.0   \n",
            "\n",
            "        college  \n",
            "0      Michigan  \n",
            "1  Miami (Ohio)  \n",
            "2    California  \n",
            "3       Harvard  \n",
            "4          UCLA  \n",
            "\n",
            "[5 rows x 91 columns]\n",
            "    player_id player_name player_display_name position position_group  \\\n",
            "0  00-0019596     T.Brady           Tom Brady       QB             QB   \n",
            "1  00-0019596     T.Brady           Tom Brady       QB             QB   \n",
            "2  00-0019596     T.Brady           Tom Brady       QB             QB   \n",
            "3  00-0019596     T.Brady           Tom Brady       QB             QB   \n",
            "4  00-0019596     T.Brady           Tom Brady       QB             QB   \n",
            "\n",
            "                                        headshot_url recent_team  season  \\\n",
            "0  https://static.www.nfl.com/image/private/f_aut...          TB    2021   \n",
            "1  https://static.www.nfl.com/image/private/f_aut...          TB    2021   \n",
            "2  https://static.www.nfl.com/image/private/f_aut...          TB    2021   \n",
            "3  https://static.www.nfl.com/image/private/f_aut...          TB    2021   \n",
            "4  https://static.www.nfl.com/image/private/f_aut...          TB    2021   \n",
            "\n",
            "   week season_type  ... total_points_allowed  yards_points  points_fp  \\\n",
            "0     1         REG  ...                  NaN           NaN        NaN   \n",
            "1     2         REG  ...                  NaN           NaN        NaN   \n",
            "2     3         REG  ...                  NaN           NaN        NaN   \n",
            "3     4         REG  ...                  NaN           NaN        NaN   \n",
            "4     5         REG  ...                  NaN           NaN        NaN   \n",
            "\n",
            "   st_tds  espn_id       name   age  height  weight   college  \n",
            "0     NaN   2330.0  Tom Brady  47.6    76.0   225.0  Michigan  \n",
            "1     NaN   2330.0  Tom Brady  47.6    76.0   225.0  Michigan  \n",
            "2     NaN   2330.0  Tom Brady  47.6    76.0   225.0  Michigan  \n",
            "3     NaN   2330.0  Tom Brady  47.6    76.0   225.0  Michigan  \n",
            "4     NaN   2330.0  Tom Brady  47.6    76.0   225.0  Michigan  \n",
            "\n",
            "[5 rows x 114 columns]\n"
          ]
        }
      ]
    },
    {
      "cell_type": "markdown",
      "source": [
        "## **Joining current fantasy team roster data with weekly and season data**"
      ],
      "metadata": {
        "id": "BghXacKNsq4x"
      }
    },
    {
      "cell_type": "markdown",
      "source": [
        "### *Season data*"
      ],
      "metadata": {
        "id": "DA1_Yyt9tHwH"
      }
    },
    {
      "cell_type": "code",
      "source": [
        "season_stats_all = pd.merge(season_stats_all, cur_roster, on=\"espn_id\", how=\"left\")\n",
        "\n",
        "season_stats_all.loc[\n",
        "    (season_stats_all['season'] == 2024) &\n",
        "    (season_stats_all['cur_Fteam'] != 'FA') &\n",
        "    (season_stats_all['cur_roster_slot'] != 'FA'),\n",
        "    ['cur_Fteam', 'cur_roster_slot']\n",
        "] = 'FA'"
      ],
      "metadata": {
        "id": "363yeLKgqfll"
      },
      "execution_count": 119,
      "outputs": []
    },
    {
      "cell_type": "code",
      "source": [
        "#print(season_stats_all.head(10))"
      ],
      "metadata": {
        "id": "ezKgyJJUw6SB"
      },
      "execution_count": 120,
      "outputs": []
    },
    {
      "cell_type": "markdown",
      "source": [
        "### *Weekly data*"
      ],
      "metadata": {
        "id": "OfGbdi8BtOI_"
      }
    },
    {
      "cell_type": "code",
      "source": [
        "weekly_stats_all = pd.merge(weekly_stats_all, weekly_rosters, on=[\"espn_id\", \"week\"], how=\"left\")\n",
        "\n",
        "weekly_stats_all.loc[\n",
        "    (weekly_stats_all['season'] == 2024) &\n",
        "    (weekly_stats_all['cur_Fteam'] != 'FA') &\n",
        "    (weekly_stats_all['cur_roster_slot'] != 'FA'),\n",
        "    ['cur_Fteam', 'cur_roster_slot']\n",
        "] = 'FA'"
      ],
      "metadata": {
        "id": "5Xgjh3_ftT9B"
      },
      "execution_count": 121,
      "outputs": []
    },
    {
      "cell_type": "code",
      "source": [
        "#print(weekly_stats_all.head(10))"
      ],
      "metadata": {
        "id": "miWV9babw09R"
      },
      "execution_count": 122,
      "outputs": []
    },
    {
      "cell_type": "markdown",
      "source": [
        "# **Getting matchup data**"
      ],
      "metadata": {
        "id": "RZglmALWxlN6"
      }
    },
    {
      "cell_type": "code",
      "source": [
        "total_weeks = league.settings.reg_season_count  # Regular season length\n",
        "\n",
        "# Initialize records dict\n",
        "team_records = {team.team_name: {'W': 0, 'L': 0} for team in league.teams}\n",
        "\n",
        "# Store all weekly matchups and records\n",
        "matchups_all_weeks = []\n",
        "\n",
        "# Loop through each week\n",
        "for week in range(1, total_weeks + 1):\n",
        "    scoreboard = league.scoreboard(week=week)\n",
        "\n",
        "    for matchup in scoreboard:\n",
        "        home = matchup.home_team.team_name\n",
        "        away = matchup.away_team.team_name\n",
        "        home_score = matchup.home_score\n",
        "        away_score = matchup.away_score\n",
        "\n",
        "        # Determine winner and update records\n",
        "        if home_score > away_score:\n",
        "            team_records[home]['W'] += 1\n",
        "            team_records[away]['L'] += 1\n",
        "        elif home_score < away_score:\n",
        "            team_records[away]['W'] += 1\n",
        "            team_records[home]['L'] += 1\n",
        "        else:\n",
        "            # Tie case (optional)\n",
        "            pass\n",
        "\n",
        "        # Record after this week\n",
        "        home_record = f\"{team_records[home]['W']}-{team_records[home]['L']}\"\n",
        "        away_record = f\"{team_records[away]['W']}-{team_records[away]['L']}\"\n",
        "\n",
        "        matchups_all_weeks.append({\n",
        "            'week': week,\n",
        "            'home_team': home,\n",
        "            'away_team': away,\n",
        "            'home_score': home_score,\n",
        "            'away_score': away_score,\n",
        "            'home_record': home_record,\n",
        "            'away_record': away_record\n",
        "        })\n",
        "\n",
        "# Convert to DataFrame\n",
        "weekly_matchup_data = pd.DataFrame(matchups_all_weeks)\n",
        "\n",
        "# Display the result\n",
        "print(weekly_matchup_data)"
      ],
      "metadata": {
        "id": "4x9gYXkoxoRV",
        "outputId": "9163205b-73ea-4656-93b2-a44d74f6c256",
        "colab": {
          "base_uri": "https://localhost:8080/"
        }
      },
      "execution_count": 123,
      "outputs": [
        {
          "output_type": "stream",
          "name": "stdout",
          "text": [
            "    week              home_team              away_team  home_score  \\\n",
            "0      1       Bucktown Bandits       Graham’s Groupie        73.0   \n",
            "1      1        bungalicious  💅       Fightin' Furries       101.0   \n",
            "2      1              bird gang      Salmon LipBalm !!        59.0   \n",
            "3      1  pop-pop's bible study              Quon Solo        79.0   \n",
            "4      1            Jen-eral ⚔️     Captain Sweatpants        82.0   \n",
            "..   ...                    ...                    ...         ...   \n",
            "65    14       Graham’s Groupie       Bucktown Bandits       143.0   \n",
            "66    14      Salmon LipBalm !!       Fightin' Furries       115.0   \n",
            "67    14     Captain Sweatpants              Quon Solo        88.0   \n",
            "68    14            Jen-eral ⚔️  pop-pop's bible study        68.0   \n",
            "69    14              bird gang        bungalicious  💅        81.0   \n",
            "\n",
            "    away_score home_record away_record  \n",
            "0         96.0         0-1         1-0  \n",
            "1         94.0         1-0         0-1  \n",
            "2        101.0         0-1         1-0  \n",
            "3         97.0         0-1         1-0  \n",
            "4        110.0         0-1         1-0  \n",
            "..         ...         ...         ...  \n",
            "65        98.0         6-8        3-11  \n",
            "66        78.0        12-2         6-8  \n",
            "67        85.0         6-8         7-7  \n",
            "68       111.0        10-4         8-6  \n",
            "69        95.0        2-12        10-4  \n",
            "\n",
            "[70 rows x 7 columns]\n"
          ]
        }
      ]
    },
    {
      "cell_type": "markdown",
      "source": [
        "# **Getting injury status**\n",
        "PROBABLY CAN'T USE B/C ONLY HAVE 2024 DATA"
      ],
      "metadata": {
        "id": "T3jmeOE3aRSg"
      }
    },
    {
      "cell_type": "code",
      "source": [
        "all_players = []\n",
        "current_week = league.current_week\n",
        "\n",
        "# 1. Rostered players from each team\n",
        "for team in league.teams:\n",
        "    for player in team.roster:\n",
        "        all_players.append({\n",
        "            \"week\": current_week,\n",
        "            \"team_owner\": team.team_name,\n",
        "            \"name\": player.name,\n",
        "            \"position\": player.position,\n",
        "            \"espn_id\": player.playerId,\n",
        "            \"injured\": player.injured,\n",
        "            \"injury_status\": player.injuryStatus,\n",
        "            \"rostered\": True\n",
        "        })\n",
        "\n",
        "# 2. Free agents (unrostered players)\n",
        "for player in league.free_agents(size=1000):  # you can adjust the size to pull more players\n",
        "    all_players.append({\n",
        "        \"week\": current_week,\n",
        "        \"team_owner\": \"Free Agent\",\n",
        "        \"name\": player.name,\n",
        "        \"position\": player.position,\n",
        "        \"espn_id\": player.playerId,\n",
        "        \"injured\": player.injured,\n",
        "        \"injury_status\": player.injuryStatus,\n",
        "        \"rostered\": False\n",
        "    })\n",
        "\n",
        "# Optional: Convert to pandas DataFrame\n",
        "import pandas as pd\n",
        "injury_status = pd.DataFrame(all_players)\n",
        "\n",
        "# Display or export\n",
        "print(injury_status.head(10))\n",
        "\n",
        "print(injury_status[injury_status[\"team_owner\"] == \"Free Agent\"].head(10))"
      ],
      "metadata": {
        "id": "wM3-PmTtaQ9X",
        "outputId": "b06ee934-d039-4572-d36c-b7b4798077f6",
        "colab": {
          "base_uri": "https://localhost:8080/"
        }
      },
      "execution_count": 124,
      "outputs": [
        {
          "output_type": "stream",
          "name": "stdout",
          "text": [
            "   week        team_owner                name position  espn_id  injured  \\\n",
            "0    17  Fightin' Furries         Tyreek Hill       WR  3116406    False   \n",
            "1    17  Fightin' Furries       Isiah Pacheco       RB  4361529    False   \n",
            "2    17  Fightin' Furries           Joe Mixon       RB  3116385    False   \n",
            "3    17  Fightin' Furries     Patrick Mahomes       QB  3139477    False   \n",
            "4    17  Fightin' Furries      Dalton Kincaid       TE  4385690    False   \n",
            "5    17  Fightin' Furries         Zay Flowers       WR  4429615    False   \n",
            "6    17  Fightin' Furries  Jaxon Smith-Njigba       WR  4430878    False   \n",
            "7    17  Fightin' Furries         Gus Edwards       RB  3051926    False   \n",
            "8    17  Fightin' Furries    Matthew Stafford       QB    12483    False   \n",
            "9    17  Fightin' Furries         Kareem Hunt       RB  3059915    False   \n",
            "\n",
            "  injury_status  rostered  \n",
            "0  QUESTIONABLE      True  \n",
            "1        ACTIVE      True  \n",
            "2        ACTIVE      True  \n",
            "3        ACTIVE      True  \n",
            "4        ACTIVE      True  \n",
            "5  QUESTIONABLE      True  \n",
            "6        ACTIVE      True  \n",
            "7        ACTIVE      True  \n",
            "8        ACTIVE      True  \n",
            "9        ACTIVE      True  \n",
            "     week  team_owner                 name position  espn_id  injured  \\\n",
            "160    17  Free Agent        Ladd McConkey       WR  4612826    False   \n",
            "161    17  Free Agent         Keenan Allen       WR    15818    False   \n",
            "162    17  Free Agent  Michael Pittman Jr.       WR  4035687    False   \n",
            "163    17  Free Agent        Steelers D/ST     D/ST   -16023    False   \n",
            "164    17  Free Agent          C.J. Stroud       QB  4432577    False   \n",
            "165    17  Free Agent           Kyle Pitts       TE  4360248    False   \n",
            "166    17  Free Agent         Adam Thielen       WR    16460    False   \n",
            "167    17  Free Agent          Chris Olave       WR  4361370    False   \n",
            "168    17  Free Agent         Tucker Kraft       TE  4572680    False   \n",
            "169    17  Free Agent           49ers D/ST     D/ST   -16025    False   \n",
            "\n",
            "    injury_status  rostered  \n",
            "160        ACTIVE     False  \n",
            "161        ACTIVE     False  \n",
            "162  QUESTIONABLE     False  \n",
            "163            []     False  \n",
            "164        ACTIVE     False  \n",
            "165        ACTIVE     False  \n",
            "166        ACTIVE     False  \n",
            "167  QUESTIONABLE     False  \n",
            "168        ACTIVE     False  \n",
            "169            []     False  \n"
          ]
        }
      ]
    },
    {
      "cell_type": "markdown",
      "source": [
        "# **QB CatBoost Model**"
      ],
      "metadata": {
        "id": "ya-N0f3oCiDC"
      }
    },
    {
      "cell_type": "markdown",
      "source": [
        "## **Feature Engineering**\n",
        "*Need to create features that can be used in both train and test sets since we can't use rush yards, pass yards (any game specific stats) because they have not occurred and need to use like rolling features or averages*"
      ],
      "metadata": {
        "id": "4eaW92sEQJly"
      }
    },
    {
      "cell_type": "code",
      "source": [
        "df_qb = weekly_stats_all[weekly_stats_all['position'] == 'QB'].copy()\n",
        "\n",
        "# Sorting data for time-series purposes\n",
        "df_qb = df_qb.sort_values(by=['player_id', 'season', 'week'])\n",
        "\n",
        "# Creating lag/rolling features for model\n",
        "# Takes into account past 3 games (or less, depending on the data available that week)\n",
        "rolling_cols = [\n",
        "    'passing_yards', 'passing_tds', 'interceptions', 'passing_epa',\n",
        "    'rushing_yards', 'rushing_tds', 'completions', 'attempts',\n",
        "    'fantasy_points_ppr', 'passing_air_yards', 'passing_yards_after_catch',\n",
        "    'rushing_fumbles_lost', 'rushing_epa', 'rushing_2pt_conversions', 'passing_2pt_conversions'\n",
        "]\n",
        "\n",
        "for col in rolling_cols:\n",
        "    df_qb[f'{col}_last3'] = df_qb.groupby('player_id')[col].shift(1).rolling(3, min_periods = 1).mean()\n",
        "\n",
        "# Season averages\n",
        "expanding_cols = ['passing_yards', 'passing_tds', 'interceptions', 'rushing_yards', 'rushing_tds', 'fantasy_points_ppr'\n",
        "]\n",
        "\n",
        "for col in expanding_cols:\n",
        "    df_qb[col] = pd.to_numeric(df_qb[col], errors='coerce')\n",
        "\n",
        "for col in expanding_cols:\n",
        "    df_qb[f'{col}_season_avg'] = (\n",
        "        df_qb.groupby(['player_id', 'season'])[col]\n",
        "        .transform(lambda x: x.shift(1).expanding().mean())\n",
        "    )\n",
        "\n",
        "df_qb['completions'] = pd.to_numeric(df_qb['completions'], errors='coerce')\n",
        "df_qb['attempts'] = pd.to_numeric(df_qb['attempts'], errors='coerce')\n",
        "\n",
        "# creating yards per attempt feature\n",
        "df_qb['yards_per_attempt'] = df_qb['passing_yards'] / df_qb['attempts'].replace(0, pd.NA)\n",
        "\n",
        "# Creating completion percentage feature\n",
        "df_qb['comp%'] = (\n",
        "    (df_qb['completions'] / df_qb['attempts']) * 100\n",
        ").replace([pd.NA, np.inf, -np.inf], np.nan)\n",
        "\n",
        "df_qb['comp%'] = pd.to_numeric(df_qb['comp%'], errors='coerce')\n",
        "\n",
        "df_qb['yards_per_attempt'] = pd.to_numeric(df_qb['yards_per_attempt'], errors='coerce')\n",
        "\n",
        "print(df_qb.head(10))"
      ],
      "metadata": {
        "id": "VS7tmywyQKC1",
        "colab": {
          "base_uri": "https://localhost:8080/"
        },
        "outputId": "d123927b-e3fb-4105-9de6-c7ebd37e1429"
      },
      "execution_count": 125,
      "outputs": [
        {
          "output_type": "stream",
          "name": "stdout",
          "text": [
            "    player_id player_name player_display_name position position_group  \\\n",
            "0  00-0019596     T.Brady           Tom Brady       QB             QB   \n",
            "1  00-0019596     T.Brady           Tom Brady       QB             QB   \n",
            "2  00-0019596     T.Brady           Tom Brady       QB             QB   \n",
            "3  00-0019596     T.Brady           Tom Brady       QB             QB   \n",
            "4  00-0019596     T.Brady           Tom Brady       QB             QB   \n",
            "5  00-0019596     T.Brady           Tom Brady       QB             QB   \n",
            "6  00-0019596     T.Brady           Tom Brady       QB             QB   \n",
            "7  00-0019596     T.Brady           Tom Brady       QB             QB   \n",
            "8  00-0019596     T.Brady           Tom Brady       QB             QB   \n",
            "9  00-0019596     T.Brady           Tom Brady       QB             QB   \n",
            "\n",
            "                                        headshot_url recent_team  season  \\\n",
            "0  https://static.www.nfl.com/image/private/f_aut...          TB    2021   \n",
            "1  https://static.www.nfl.com/image/private/f_aut...          TB    2021   \n",
            "2  https://static.www.nfl.com/image/private/f_aut...          TB    2021   \n",
            "3  https://static.www.nfl.com/image/private/f_aut...          TB    2021   \n",
            "4  https://static.www.nfl.com/image/private/f_aut...          TB    2021   \n",
            "5  https://static.www.nfl.com/image/private/f_aut...          TB    2021   \n",
            "6  https://static.www.nfl.com/image/private/f_aut...          TB    2021   \n",
            "7  https://static.www.nfl.com/image/private/f_aut...          TB    2021   \n",
            "8  https://static.www.nfl.com/image/private/f_aut...          TB    2021   \n",
            "9  https://static.www.nfl.com/image/private/f_aut...          TB    2021   \n",
            "\n",
            "   week season_type  ... rushing_2pt_conversions_last3  \\\n",
            "0     1         REG  ...                           NaN   \n",
            "1     2         REG  ...                           0.0   \n",
            "2     3         REG  ...                           0.0   \n",
            "3     4         REG  ...                           0.0   \n",
            "4     5         REG  ...                           0.0   \n",
            "5     6         REG  ...                           0.0   \n",
            "6     7         REG  ...                           0.0   \n",
            "7     8         REG  ...                           0.0   \n",
            "8    10         REG  ...                           0.0   \n",
            "9    11         REG  ...                           0.0   \n",
            "\n",
            "   passing_2pt_conversions_last3  passing_yards_season_avg  \\\n",
            "0                            NaN                       NaN   \n",
            "1                            0.0                379.000000   \n",
            "2                            0.0                327.500000   \n",
            "3                            0.0                362.333333   \n",
            "4                            0.0                339.000000   \n",
            "5                            0.0                353.400000   \n",
            "6                            0.0                344.000000   \n",
            "7                            0.0                325.000000   \n",
            "8                            0.0                331.250000   \n",
            "9                            0.0                318.888889   \n",
            "\n",
            "   passing_tds_season_avg  interceptions_season_avg  rushing_yards_season_avg  \\\n",
            "0                     NaN                       NaN                       NaN   \n",
            "1                4.000000                  2.000000                  0.000000   \n",
            "2                4.500000                  1.000000                  3.000000   \n",
            "3                3.333333                  0.666667                  6.666667   \n",
            "4                2.500000                  0.500000                  5.750000   \n",
            "5                3.000000                  0.400000                  7.200000   \n",
            "6                2.833333                  0.500000                  6.166667   \n",
            "7                3.000000                  0.428571                  5.285714   \n",
            "8                3.125000                  0.625000                  4.875000   \n",
            "9                3.000000                  0.777778                  4.555556   \n",
            "\n",
            "   rushing_tds_season_avg  fantasy_points_ppr_season_avg  yards_per_attempt  \\\n",
            "0                     NaN                            NaN           7.580000   \n",
            "1                0.000000                      27.160000           7.666667   \n",
            "2                0.000000                      28.400000           7.854545   \n",
            "3                0.333333                      28.493333           6.255814   \n",
            "4                0.250000                      24.135000          10.024390   \n",
            "5                0.200000                      26.856000           7.071429   \n",
            "6                0.166667                      25.376667           5.861111   \n",
            "7                0.142857                      25.242857           9.375000   \n",
            "8                0.125000                      25.237500           6.470588   \n",
            "9                0.111111                      23.877778           6.673913   \n",
            "\n",
            "       comp%  \n",
            "0  64.000000  \n",
            "1  66.666667  \n",
            "2  74.545455  \n",
            "3  51.162791  \n",
            "4  73.170732  \n",
            "5  80.952381  \n",
            "6  55.555556  \n",
            "7  70.000000  \n",
            "8  67.647059  \n",
            "9  65.217391  \n",
            "\n",
            "[10 rows x 139 columns]\n"
          ]
        }
      ]
    },
    {
      "cell_type": "code",
      "source": [
        "#Creating some efficiency metrics\n",
        "df_qb['pass_attempts_shifted'] = df_qb.groupby('player_id')['attempts'].shift(1)\n",
        "\n",
        "df_qb['comp_pct_last3'] = df_qb.groupby('player_id')['comp%'].shift(1).rolling(3,min_periods = 1).mean()\n",
        "df_qb['yards_per_attempt_last3'] = df_qb.groupby('player_id')['yards_per_attempt'].shift(1).rolling(3,min_periods = 1).mean()\n",
        "df_qb['td_rate_last3'] = df_qb.groupby('player_id')['passing_tds'].shift(1).rolling(3,min_periods = 1).sum() / df_qb['pass_attempts_shifted']\n",
        "df_qb['int_rate_last3'] = df_qb.groupby('player_id')['interceptions'].shift(1).rolling(3,min_periods = 1).sum() / df_qb['pass_attempts_shifted']\n",
        "\n",
        "# Creating rolling/lag features for advanced QB metrics\n",
        "advanced = ['pacr', 'dakota']\n",
        "for col in advanced:\n",
        "    df_qb[f'{col}_trend'] = df_qb.groupby('player_id')[col].shift(1).rolling(3,min_periods = 1).mean()\n",
        "\n",
        "# Creating defensive lag features\n",
        "opponent_cols = ['opp_avg_ypg_allowed', 'opp_avg_ppg_allowed', 'opp_int_pg', 'opp_sacks_pg', 'opp_fumbles_pg']\n",
        "for col in opponent_cols:\n",
        "    df_qb[f'{col}_trend'] = df_qb.groupby('player_id')[col].shift(1).rolling(3,min_periods = 1).mean()\n"
      ],
      "metadata": {
        "id": "fL_SnJgBSGM8"
      },
      "execution_count": 126,
      "outputs": []
    },
    {
      "cell_type": "code",
      "source": [
        "#print(df_qb.head(10))"
      ],
      "metadata": {
        "id": "WcKX-wgRTyq9"
      },
      "execution_count": 127,
      "outputs": []
    },
    {
      "cell_type": "markdown",
      "source": [
        "***Getting list of columns to select from***"
      ],
      "metadata": {
        "id": "stWcFfyOVv-i"
      }
    },
    {
      "cell_type": "code",
      "source": [
        "#print(df_qb.columns.tolist())"
      ],
      "metadata": {
        "id": "f-lDITNFV1nG"
      },
      "execution_count": 128,
      "outputs": []
    },
    {
      "cell_type": "code",
      "source": [
        "TARGET_COL = 'fantasy_points_ppr'\n",
        "\n",
        "# Creating test and train sets\n",
        "train_df = df_qb[\n",
        "    (df_qb[TARGET_COL].notna()) &\n",
        "    (\n",
        "        (df_qb['season'] < 2024) |\n",
        "        ((df_qb['season'] == 2024) & (df_qb['week'] < 14))\n",
        "    )\n",
        "]\n",
        "\n",
        "test_df = df_qb[(df_qb['season'] == 2024) & (df_qb['week'] == 14)]\n",
        "\n",
        "\n",
        "feature_cols = [\n",
        "    col for col in df_qb.columns\n",
        "    if col.endswith('_last3') or col.endswith('_trend') or col.endswith('_season_avg')\n",
        "] + ['player_display_name','season', 'week', 'opponent_team']\n",
        "\n",
        "\n",
        "X_train = train_df[feature_cols]\n",
        "y_train = train_df[TARGET_COL]\n",
        "\n",
        "X_test = test_df[feature_cols]\n",
        "\n",
        "# for RMSE testing purposes on the test set\n",
        "y_test = test_df[TARGET_COL]"
      ],
      "metadata": {
        "id": "utL4jQbhZBvE"
      },
      "execution_count": 129,
      "outputs": []
    },
    {
      "cell_type": "code",
      "source": [
        "categorical_cols = ['opponent_team', 'season', 'week', 'player_display_name']\n",
        "\n",
        "# Create Pool objects\n",
        "train_pool = Pool(data=X_train, label=y_train, cat_features=categorical_cols)\n",
        "test_pool = Pool(data=X_test, cat_features=categorical_cols)\n",
        "\n",
        "# Initialize the CatBoost model\n",
        "model = CatBoostRegressor(\n",
        "    iterations = 1000,\n",
        "    learning_rate = 0.01,\n",
        "    depth=6,\n",
        "    loss_function='RMSE',\n",
        "    random_seed=42,\n",
        "    verbose=50  # or 0 to suppress output\n",
        ")\n",
        "\n",
        "# Train\n",
        "model.fit(train_pool)"
      ],
      "metadata": {
        "colab": {
          "base_uri": "https://localhost:8080/"
        },
        "id": "YP-yFJe5bAPz",
        "outputId": "f7aad858-ec92-4a1a-b4fc-4d923270c7a3"
      },
      "execution_count": 130,
      "outputs": [
        {
          "output_type": "stream",
          "name": "stdout",
          "text": [
            "0:\tlearn: 8.9456128\ttotal: 9.53ms\tremaining: 9.52s\n",
            "50:\tlearn: 8.1178320\ttotal: 905ms\tremaining: 16.8s\n",
            "100:\tlearn: 7.6410595\ttotal: 1.79s\tremaining: 16s\n",
            "150:\tlearn: 7.3802963\ttotal: 2.99s\tremaining: 16.8s\n",
            "200:\tlearn: 7.2176080\ttotal: 4.13s\tremaining: 16.4s\n",
            "250:\tlearn: 7.0782452\ttotal: 5.79s\tremaining: 17.3s\n",
            "300:\tlearn: 6.9539157\ttotal: 7.27s\tremaining: 16.9s\n",
            "350:\tlearn: 6.8611232\ttotal: 8.56s\tremaining: 15.8s\n",
            "400:\tlearn: 6.7691747\ttotal: 9.62s\tremaining: 14.4s\n",
            "450:\tlearn: 6.6989539\ttotal: 10.3s\tremaining: 12.5s\n",
            "500:\tlearn: 6.6265265\ttotal: 10.7s\tremaining: 10.6s\n",
            "550:\tlearn: 6.5734129\ttotal: 11s\tremaining: 9s\n",
            "600:\tlearn: 6.5214721\ttotal: 11.4s\tremaining: 7.58s\n",
            "650:\tlearn: 6.4766232\ttotal: 11.8s\tremaining: 6.33s\n",
            "700:\tlearn: 6.4189386\ttotal: 12.2s\tremaining: 5.21s\n",
            "750:\tlearn: 6.3705137\ttotal: 12.6s\tremaining: 4.18s\n",
            "800:\tlearn: 6.3211150\ttotal: 13s\tremaining: 3.23s\n",
            "850:\tlearn: 6.2796464\ttotal: 13.4s\tremaining: 2.34s\n",
            "900:\tlearn: 6.2402344\ttotal: 13.8s\tremaining: 1.51s\n",
            "950:\tlearn: 6.1951748\ttotal: 14.2s\tremaining: 730ms\n",
            "999:\tlearn: 6.1553115\ttotal: 14.6s\tremaining: 0us\n"
          ]
        },
        {
          "output_type": "execute_result",
          "data": {
            "text/plain": [
              "<catboost.core.CatBoostRegressor at 0x7aa19d172810>"
            ]
          },
          "metadata": {},
          "execution_count": 130
        }
      ]
    },
    {
      "cell_type": "code",
      "source": [
        "y_pred = model.predict(test_pool)\n",
        "\n",
        "# Attach predictions to test set for review\n",
        "QB_test_pred = X_test.copy()\n",
        "QB_test_pred['predicted_fantasy_points'] = y_pred\n",
        "\n",
        "print(QB_test_pred[['season', 'week', 'opponent_team', 'predicted_fantasy_points', 'player_display_name']])"
      ],
      "metadata": {
        "colab": {
          "base_uri": "https://localhost:8080/"
        },
        "id": "l6LPhDGCcr5R",
        "outputId": "1462c264-c1a8-4945-ced7-893dd4e87274"
      },
      "execution_count": 131,
      "outputs": [
        {
          "output_type": "stream",
          "name": "stdout",
          "text": [
            "       season  week opponent_team  predicted_fantasy_points  \\\n",
            "16904    2024    14           MIA                 15.398341   \n",
            "16933    2024    14           BUF                 16.767097   \n",
            "16953    2024    14           CLE                 16.336262   \n",
            "16971    2024    14           MIN                 14.764804   \n",
            "17095    2024    14           ARI                 17.328012   \n",
            "17141    2024    14           NYG                 16.465678   \n",
            "17192    2024    14           PIT                 13.248461   \n",
            "17272    2024    14            KC                  9.573386   \n",
            "17368    2024    14           CHI                  9.949140   \n",
            "17510    2024    14            GB                 17.270025   \n",
            "17624    2024    14           ATL                  8.258414   \n",
            "17781    2024    14           CIN                 13.767175   \n",
            "17869    2024    14           LAC                 20.055098   \n",
            "18439    2024    14            LV                 17.792246   \n",
            "18457    2024    14            LA                 21.194795   \n",
            "18484    2024    14           ATL                 17.116504   \n",
            "18626    2024    14           SEA                 18.083104   \n",
            "18952    2024    14            NO                 11.881126   \n",
            "19093    2024    14           NYJ                 16.256233   \n",
            "19190    2024    14           DET                 16.488463   \n",
            "19316    2024    14            KC                 17.117056   \n",
            "19359    2024    14           CAR                 20.864937   \n",
            "19480    2024    14           DAL                 18.669784   \n",
            "19906    2024    14           TEN                 13.467034   \n",
            "20581    2024    14           CHI                 16.968745   \n",
            "20735    2024    14            TB                 11.204834   \n",
            "20826    2024    14            SF                  7.185137   \n",
            "21001    2024    14            TB                 12.691706   \n",
            "21451    2024    14           NYG                  6.917427   \n",
            "21657    2024    14           PHI                 13.911401   \n",
            "21671    2024    14           JAX                 13.569876   \n",
            "22407    2024    14            SF                 16.011434   \n",
            "\n",
            "      player_display_name  \n",
            "16904       Aaron Rodgers  \n",
            "16933    Matthew Stafford  \n",
            "16953      Russell Wilson  \n",
            "16971        Kirk Cousins  \n",
            "17095          Geno Smith  \n",
            "17141          Derek Carr  \n",
            "17192      Jameis Winston  \n",
            "17272     Taylor Heinicke  \n",
            "17368       Brandon Allen  \n",
            "17510          Jared Goff  \n",
            "17624        Nick Mullens  \n",
            "17781         Cooper Rush  \n",
            "17869     Patrick Mahomes  \n",
            "18439      Baker Mayfield  \n",
            "18457          Josh Allen  \n",
            "18484         Sam Darnold  \n",
            "18626        Kyler Murray  \n",
            "18952           Drew Lock  \n",
            "19093      Tua Tagovailoa  \n",
            "19190         Jordan Love  \n",
            "19316      Justin Herbert  \n",
            "19359         Jalen Hurts  \n",
            "19480          Joe Burrow  \n",
            "19906           Mac Jones  \n",
            "20581         Brock Purdy  \n",
            "20735      Desmond Ridder  \n",
            "20826        Tyson Bagent  \n",
            "21001     Aidan O'Connell  \n",
            "21451         Jake Haener  \n",
            "21657         Bryce Young  \n",
            "21671          Will Levis  \n",
            "22407      Caleb Williams  \n"
          ]
        }
      ]
    },
    {
      "cell_type": "markdown",
      "source": [
        "### Adding boom/bust prediction interval"
      ],
      "metadata": {
        "id": "v-QJKtMaa8Nm"
      }
    },
    {
      "cell_type": "code",
      "source": [
        "# Finding standard deviation residuals from trian data\n",
        "train_preds = model.predict(train_pool)\n",
        "residuals = y_train - train_preds\n",
        "std_resid = residuals.std()\n",
        "\n",
        "# Creating boom/bust interval\n",
        "ci_upper = y_pred + 1.645 * std_resid\n",
        "ci_lower = y_pred - 1.645 * std_resid\n",
        "\n",
        "# setting minimum to 0\n",
        "ci_lower = np.maximum(ci_lower, 0)\n",
        "\n",
        "\n",
        "QB_test_pred['upper_bound'] = ci_upper\n",
        "QB_test_pred['lower_bound'] = ci_lower\n",
        "\n",
        "print(QB_test_pred[['season', 'week', 'opponent_team', 'lower_bound', 'predicted_fantasy_points', 'upper_bound', 'player_display_name']])"
      ],
      "metadata": {
        "colab": {
          "base_uri": "https://localhost:8080/"
        },
        "id": "sWnCEsoba8g1",
        "outputId": "0f581e3f-1031-4bde-c960-197bd6bbe639"
      },
      "execution_count": 132,
      "outputs": [
        {
          "output_type": "stream",
          "name": "stdout",
          "text": [
            "       season  week opponent_team  lower_bound  predicted_fantasy_points  \\\n",
            "16904    2024    14           MIA     5.165464                 15.398341   \n",
            "16933    2024    14           BUF     6.534220                 16.767097   \n",
            "16953    2024    14           CLE     6.103385                 16.336262   \n",
            "16971    2024    14           MIN     4.531927                 14.764804   \n",
            "17095    2024    14           ARI     7.095135                 17.328012   \n",
            "17141    2024    14           NYG     6.232800                 16.465678   \n",
            "17192    2024    14           PIT     3.015584                 13.248461   \n",
            "17272    2024    14            KC     0.000000                  9.573386   \n",
            "17368    2024    14           CHI     0.000000                  9.949140   \n",
            "17510    2024    14            GB     7.037148                 17.270025   \n",
            "17624    2024    14           ATL     0.000000                  8.258414   \n",
            "17781    2024    14           CIN     3.534297                 13.767175   \n",
            "17869    2024    14           LAC     9.822221                 20.055098   \n",
            "18439    2024    14            LV     7.559369                 17.792246   \n",
            "18457    2024    14            LA    10.961918                 21.194795   \n",
            "18484    2024    14           ATL     6.883627                 17.116504   \n",
            "18626    2024    14           SEA     7.850227                 18.083104   \n",
            "18952    2024    14            NO     1.648249                 11.881126   \n",
            "19093    2024    14           NYJ     6.023355                 16.256233   \n",
            "19190    2024    14           DET     6.255586                 16.488463   \n",
            "19316    2024    14            KC     6.884179                 17.117056   \n",
            "19359    2024    14           CAR    10.632060                 20.864937   \n",
            "19480    2024    14           DAL     8.436907                 18.669784   \n",
            "19906    2024    14           TEN     3.234157                 13.467034   \n",
            "20581    2024    14           CHI     6.735868                 16.968745   \n",
            "20735    2024    14            TB     0.971957                 11.204834   \n",
            "20826    2024    14            SF     0.000000                  7.185137   \n",
            "21001    2024    14            TB     2.458829                 12.691706   \n",
            "21451    2024    14           NYG     0.000000                  6.917427   \n",
            "21657    2024    14           PHI     3.678524                 13.911401   \n",
            "21671    2024    14           JAX     3.336999                 13.569876   \n",
            "22407    2024    14            SF     5.778557                 16.011434   \n",
            "\n",
            "       upper_bound player_display_name  \n",
            "16904    25.631218       Aaron Rodgers  \n",
            "16933    26.999974    Matthew Stafford  \n",
            "16953    26.569139      Russell Wilson  \n",
            "16971    24.997681        Kirk Cousins  \n",
            "17095    27.560889          Geno Smith  \n",
            "17141    26.698555          Derek Carr  \n",
            "17192    23.481338      Jameis Winston  \n",
            "17272    19.806263     Taylor Heinicke  \n",
            "17368    20.182017       Brandon Allen  \n",
            "17510    27.502902          Jared Goff  \n",
            "17624    18.491291        Nick Mullens  \n",
            "17781    24.000052         Cooper Rush  \n",
            "17869    30.287975     Patrick Mahomes  \n",
            "18439    28.025123      Baker Mayfield  \n",
            "18457    31.427672          Josh Allen  \n",
            "18484    27.349381         Sam Darnold  \n",
            "18626    28.315981        Kyler Murray  \n",
            "18952    22.114003           Drew Lock  \n",
            "19093    26.489110      Tua Tagovailoa  \n",
            "19190    26.721340         Jordan Love  \n",
            "19316    27.349933      Justin Herbert  \n",
            "19359    31.097814         Jalen Hurts  \n",
            "19480    28.902661          Joe Burrow  \n",
            "19906    23.699911           Mac Jones  \n",
            "20581    27.201622         Brock Purdy  \n",
            "20735    21.437711      Desmond Ridder  \n",
            "20826    17.418015        Tyson Bagent  \n",
            "21001    22.924583     Aidan O'Connell  \n",
            "21451    17.150304         Jake Haener  \n",
            "21657    24.144279         Bryce Young  \n",
            "21671    23.802753          Will Levis  \n",
            "22407    26.244312      Caleb Williams  \n"
          ]
        }
      ]
    },
    {
      "cell_type": "markdown",
      "source": [
        "### Evaluating QB CatBoost model predictions"
      ],
      "metadata": {
        "id": "DKIYqrWBa8zR"
      }
    },
    {
      "cell_type": "code",
      "source": [
        "from sklearn.metrics import mean_squared_error, mean_absolute_error\n",
        "\n",
        "# Actuals and predictions\n",
        "y_true = y_test\n",
        "y_pred = QB_test_pred['predicted_fantasy_points']\n",
        "\n",
        "# RMSE and MAE\n",
        "rmse = mean_squared_error(y_true, y_pred)\n",
        "mae = mean_absolute_error(y_true, y_pred)\n",
        "\n",
        "print(f\"✅ RMSE: {rmse:.2f}\")\n",
        "print(f\"✅ MAE: {mae:.2f}\")"
      ],
      "metadata": {
        "colab": {
          "base_uri": "https://localhost:8080/"
        },
        "id": "a2PEKAX0a9FY",
        "outputId": "4277819f-064a-4951-f109-bc2506bbc143"
      },
      "execution_count": 133,
      "outputs": [
        {
          "output_type": "stream",
          "name": "stdout",
          "text": [
            "✅ RMSE: 66.43\n",
            "✅ MAE: 5.82\n"
          ]
        }
      ]
    },
    {
      "cell_type": "markdown",
      "source": [
        "# **RB CatBoost Model**"
      ],
      "metadata": {
        "id": "-kWhb3YMjA6F"
      }
    },
    {
      "cell_type": "code",
      "source": [
        "df_rb = weekly_stats_all[weekly_stats_all['position'] == 'RB'].copy()\n",
        "\n",
        "# Sorting for time-series purposes\n",
        "df_rb = df_rb.sort_values(by=['player_id', 'season', 'week'])\n",
        "\n",
        "# Creating lag/rolling features for model\n",
        "# Takes into account past 3 games (or less, depending on the data available that week)\n",
        "rolling_cols = [\n",
        "    'rushing_yards', 'rushing_tds',\n",
        "    'fantasy_points_ppr', 'carries',\n",
        "    'rushing_fumbles_lost', 'rushing_epa', 'rushing_2pt_conversions', 'passing_2pt_conversions', 'receptions', 'targets', 'receiving_yards', 'receiving_tds', 'receiving_fumbles', 'receiving_fumbles_lost', 'receiving_air_yards', 'receiving_yards_after_catch', 'receiving_epa', 'receiving_2pt_conversions', 'target_share', 'offense_snaps', 'offense_pct', 'air_yards_share'\n",
        "    ]\n",
        "\n",
        "for col in rolling_cols:\n",
        "    df_rb[f'{col}_last3'] = df_rb.groupby('player_id')[col].shift(1).rolling(3, min_periods = 1).mean()\n",
        "\n",
        "# Creating season averages for certain stats\n",
        "expanding_cols = ['rushing_yards', 'rushing_tds', 'fantasy_points_ppr'\n",
        "]\n",
        "\n",
        "for col in expanding_cols:\n",
        "    df_rb[col] = pd.to_numeric(df_rb[col], errors='coerce')\n",
        "\n",
        "for col in expanding_cols:\n",
        "    df_rb[f'{col}_season_avg'] = (\n",
        "        df_rb.groupby(['player_id', 'season'])[col]\n",
        "        .transform(lambda x: x.shift(1).expanding().mean())\n",
        "    )\n",
        "\n",
        "\n",
        "df_rb['carries'] = pd.to_numeric(df_rb['carries'], errors='coerce')\n",
        "\n",
        "# Creating yards per carry feature\n",
        "df_rb['yards_per_attempt'] = df_rb['rushing_yards'] / df_rb['carries'].replace(0, pd.NA)\n",
        "df_rb['yards_per_attempt'] = pd.to_numeric(df_rb['yards_per_attempt'], errors='coerce')\n",
        "\n",
        "print(df_rb.head(10))"
      ],
      "metadata": {
        "id": "Pvy4t_vwi74-",
        "colab": {
          "base_uri": "https://localhost:8080/"
        },
        "outputId": "33179763-e1b5-46c3-8f2e-eb7109c85e7f"
      },
      "execution_count": 134,
      "outputs": [
        {
          "output_type": "stream",
          "name": "stdout",
          "text": [
            "      player_id player_name player_display_name position position_group  \\\n",
            "68   00-0025394  A.Peterson     Adrian Peterson       RB             RB   \n",
            "69   00-0025394  A.Peterson     Adrian Peterson       RB             RB   \n",
            "70   00-0025394  A.Peterson     Adrian Peterson       RB             RB   \n",
            "71   00-0025394  A.Peterson     Adrian Peterson       RB             RB   \n",
            "266  00-0027966    M.Ingram         Mark Ingram       RB             RB   \n",
            "267  00-0027966    M.Ingram         Mark Ingram       RB             RB   \n",
            "268  00-0027966    M.Ingram         Mark Ingram       RB             RB   \n",
            "269  00-0027966    M.Ingram         Mark Ingram       RB             RB   \n",
            "270  00-0027966    M.Ingram         Mark Ingram       RB             RB   \n",
            "271  00-0027966    M.Ingram         Mark Ingram       RB             RB   \n",
            "\n",
            "                                          headshot_url recent_team  season  \\\n",
            "68   https://static.www.nfl.com/image/private/f_aut...         TEN    2021   \n",
            "69   https://static.www.nfl.com/image/private/f_aut...         TEN    2021   \n",
            "70   https://static.www.nfl.com/image/private/f_aut...         TEN    2021   \n",
            "71   https://static.www.nfl.com/image/private/f_aut...         SEA    2021   \n",
            "266  https://static.www.nfl.com/image/private/f_aut...         HOU    2021   \n",
            "267  https://static.www.nfl.com/image/private/f_aut...         HOU    2021   \n",
            "268  https://static.www.nfl.com/image/private/f_aut...         HOU    2021   \n",
            "269  https://static.www.nfl.com/image/private/f_aut...         HOU    2021   \n",
            "270  https://static.www.nfl.com/image/private/f_aut...         HOU    2021   \n",
            "271  https://static.www.nfl.com/image/private/f_aut...         HOU    2021   \n",
            "\n",
            "     week season_type  ... receiving_epa_last3  \\\n",
            "68      9         REG  ...                 NaN   \n",
            "69     10         REG  ...           -0.011573   \n",
            "70     11         REG  ...           -0.229346   \n",
            "71     13         REG  ...           -0.425882   \n",
            "266     1         REG  ...           -0.633036   \n",
            "267     2         REG  ...           -1.201122   \n",
            "268     3         REG  ...           -1.553782   \n",
            "269     4         REG  ...           -1.382020   \n",
            "270     5         REG  ...           -1.281385   \n",
            "271     6         REG  ...           -1.038497   \n",
            "\n",
            "     receiving_2pt_conversions_last3  target_share_last3  offense_snaps_last3  \\\n",
            "68                               NaN                 NaN                  NaN   \n",
            "69                               0.0            0.038462            19.000000   \n",
            "70                               0.0            0.037749            19.500000   \n",
            "71                               0.0            0.038238            18.000000   \n",
            "266                              0.0            0.038126            17.500000   \n",
            "267                              0.0            0.035233            25.500000   \n",
            "268                              0.0            0.051339            27.500000   \n",
            "269                              0.0            0.047560            24.666667   \n",
            "270                              0.0            0.055714            16.000000   \n",
            "271                              0.0            0.040000            18.333333   \n",
            "\n",
            "     offense_pct_last3  air_yards_share_last3  rushing_yards_season_avg  \\\n",
            "68                 NaN                    NaN                       NaN   \n",
            "69            0.330000              -0.041237                 21.000000   \n",
            "70            0.330000              -0.043007                 21.000000   \n",
            "71            0.283333              -0.029452                 27.333333   \n",
            "266           0.260000              -0.023559                       NaN   \n",
            "267           0.325000               0.030816                 85.000000   \n",
            "268           0.385000               0.043939                 63.000000   \n",
            "269           0.373333               0.025784                 49.000000   \n",
            "270           0.290000               0.006689                 42.750000   \n",
            "271           0.333333              -0.010526                 42.400000   \n",
            "\n",
            "     rushing_tds_season_avg  fantasy_points_ppr_season_avg  yards_per_attempt  \n",
            "68                      NaN                            NaN           2.100000  \n",
            "69                 1.000000                       9.600000           2.625000  \n",
            "70                 0.500000                       6.300000           4.444444  \n",
            "71                 0.333333                       6.333333           1.454545  \n",
            "266                     NaN                            NaN           3.269231  \n",
            "267                1.000000                      14.500000           2.928571  \n",
            "268                0.500000                       9.750000           3.500000  \n",
            "269                0.333333                       7.500000           4.000000  \n",
            "270                0.250000                       6.225000           2.562500  \n",
            "271                0.200000                       5.800000           4.055556  \n",
            "\n",
            "[10 rows x 142 columns]\n"
          ]
        }
      ]
    },
    {
      "cell_type": "code",
      "source": [
        "# Creating efficiency metrics for RBs\n",
        "df_rb['carries_shifted'] = df_rb.groupby('player_id')['carries'].shift(1)\n",
        "df_rb['receptions_shifted'] = df_rb.groupby('player_id')['receptions'].shift(1)\n",
        "\n",
        "\n",
        "df_rb['yards_per_attempt_last3'] = df_rb.groupby('player_id')['yards_per_attempt'].shift(1).rolling(3,min_periods = 1).mean()\n",
        "df_rb['rush_td_rate_last3'] = df_rb.groupby('player_id')['rushing_tds'].shift(1).rolling(3,min_periods = 1).sum() / df_rb['carries_shifted']\n",
        "df_rb['rec_td_rate_last3'] = df_rb.groupby('player_id')['receiving_tds'].shift(1).rolling(3,min_periods = 1).sum() / df_rb['receptions_shifted']\n",
        "\n",
        "# Crewating lag/rolling features for RB advanced stats\n",
        "advanced = ['wopr', 'racr']\n",
        "for col in advanced:\n",
        "    df_rb[f'{col}_trend'] = df_rb.groupby('player_id')[col].shift(1).rolling(3,min_periods = 1).mean()\n",
        "\n",
        "# Create lag features for opposing defensive stats\n",
        "opponent_cols = ['opp_avg_ypg_allowed', 'opp_avg_ppg_allowed', 'opp_int_pg', 'opp_sacks_pg', 'opp_fumbles_pg']\n",
        "for col in opponent_cols:\n",
        "    df_rb[f'{col}_trend'] = df_rb.groupby('player_id')[col].shift(1).rolling(3,min_periods = 1).mean()\n"
      ],
      "metadata": {
        "id": "eyBTkXJqlPfu"
      },
      "execution_count": 135,
      "outputs": []
    },
    {
      "cell_type": "code",
      "source": [
        "TARGET_COL = 'fantasy_points_ppr'\n",
        "\n",
        "# Creating train and test sets\n",
        "train_df = df_rb[\n",
        "    (df_rb[TARGET_COL].notna()) &\n",
        "    (\n",
        "        (df_rb['season'] < 2024) |\n",
        "        ((df_rb['season'] == 2024) & (df_rb['week'] < 14))\n",
        "    )\n",
        "]\n",
        "\n",
        "test_df = df_rb[(df_rb['season'] == 2024) & (df_rb['week'] == 14)]\n",
        "\n",
        "\n",
        "feature_cols = [\n",
        "    col for col in df_rb.columns\n",
        "    if col.endswith('_last3') or col.endswith('_trend') or col.endswith('_season_avg')\n",
        "] + ['player_display_name','season', 'week', 'opponent_team']\n",
        "\n",
        "\n",
        "X_train = train_df[feature_cols]\n",
        "y_train = train_df[TARGET_COL]\n",
        "\n",
        "X_test = test_df[feature_cols]\n",
        "\n",
        "# for RMSE testing purposes on the test set\n",
        "y_test = test_df[TARGET_COL]"
      ],
      "metadata": {
        "id": "iJquWOCqtpa_"
      },
      "execution_count": 136,
      "outputs": []
    },
    {
      "cell_type": "code",
      "source": [
        "categorical_cols = ['opponent_team', 'season', 'week', 'player_display_name']\n",
        "\n",
        "# Create Pool objects\n",
        "train_pool = Pool(data=X_train, label=y_train, cat_features=categorical_cols)\n",
        "test_pool = Pool(data=X_test, cat_features=categorical_cols)\n",
        "\n",
        "# Initialize the CatBoost model\n",
        "model = CatBoostRegressor(\n",
        "    #iterations=200,\n",
        "    iterations = 1000,\n",
        "    learning_rate = 0.01,\n",
        "    depth=6,\n",
        "    loss_function='RMSE',\n",
        "    random_seed=42,\n",
        "    verbose=50  # or 0 to suppress output\n",
        ")\n",
        "\n",
        "# Train\n",
        "model.fit(train_pool)"
      ],
      "metadata": {
        "id": "VNdpP2YQtsYu",
        "outputId": "23ee5357-f009-42a9-92dc-0f1063d1bb95",
        "colab": {
          "base_uri": "https://localhost:8080/"
        }
      },
      "execution_count": 137,
      "outputs": [
        {
          "output_type": "stream",
          "name": "stdout",
          "text": [
            "0:\tlearn: 7.8844507\ttotal: 13.4ms\tremaining: 13.4s\n",
            "50:\tlearn: 7.1091038\ttotal: 523ms\tremaining: 9.74s\n",
            "100:\tlearn: 6.7186174\ttotal: 996ms\tremaining: 8.87s\n",
            "150:\tlearn: 6.5112589\ttotal: 1.51s\tremaining: 8.47s\n",
            "200:\tlearn: 6.3966107\ttotal: 1.98s\tremaining: 7.88s\n",
            "250:\tlearn: 6.3243741\ttotal: 2.46s\tremaining: 7.35s\n",
            "300:\tlearn: 6.2673514\ttotal: 3.32s\tremaining: 7.72s\n",
            "350:\tlearn: 6.2252575\ttotal: 4.27s\tremaining: 7.9s\n",
            "400:\tlearn: 6.1873968\ttotal: 5.24s\tremaining: 7.82s\n",
            "450:\tlearn: 6.1521589\ttotal: 6s\tremaining: 7.3s\n",
            "500:\tlearn: 6.1211165\ttotal: 6.51s\tremaining: 6.49s\n",
            "550:\tlearn: 6.0919244\ttotal: 7.01s\tremaining: 5.71s\n",
            "600:\tlearn: 6.0590259\ttotal: 7.5s\tremaining: 4.98s\n",
            "650:\tlearn: 6.0330075\ttotal: 7.97s\tremaining: 4.27s\n",
            "700:\tlearn: 6.0075611\ttotal: 8.46s\tremaining: 3.61s\n",
            "750:\tlearn: 5.9851419\ttotal: 8.93s\tremaining: 2.96s\n",
            "800:\tlearn: 5.9593712\ttotal: 9.44s\tremaining: 2.35s\n",
            "850:\tlearn: 5.9339092\ttotal: 9.93s\tremaining: 1.74s\n",
            "900:\tlearn: 5.9055668\ttotal: 10.4s\tremaining: 1.15s\n",
            "950:\tlearn: 5.8808430\ttotal: 10.9s\tremaining: 562ms\n",
            "999:\tlearn: 5.8544912\ttotal: 11.4s\tremaining: 0us\n"
          ]
        },
        {
          "output_type": "execute_result",
          "data": {
            "text/plain": [
              "<catboost.core.CatBoostRegressor at 0x7aa1a0ed4410>"
            ]
          },
          "metadata": {},
          "execution_count": 137
        }
      ]
    },
    {
      "cell_type": "code",
      "source": [
        "y_pred = model.predict(test_pool)\n",
        "\n",
        "# Attach predictions to test set for review\n",
        "RB_test_pred = X_test.copy()\n",
        "RB_test_pred['predicted_fantasy_points'] = y_pred\n",
        "\n",
        "print(RB_test_pred[['season', 'week', 'opponent_team', 'predicted_fantasy_points', 'player_display_name']])"
      ],
      "metadata": {
        "id": "YPNhPUb7tugT",
        "outputId": "f588e5d8-764b-4b43-b0ce-86a6516d719b",
        "colab": {
          "base_uri": "https://localhost:8080/"
        }
      },
      "execution_count": 138,
      "outputs": [
        {
          "output_type": "stream",
          "name": "stdout",
          "text": [
            "       season  week opponent_team  predicted_fantasy_points  \\\n",
            "17108    2024    14           CLE                  5.243407   \n",
            "17290    2024    14            TB                  9.328712   \n",
            "17470    2024    14           CIN                  5.558331   \n",
            "17603    2024    14           ATL                 14.405033   \n",
            "17675    2024    14           LAC                  5.799112   \n",
            "...       ...   ...           ...                       ...   \n",
            "22051    2024    14           BUF                  4.237266   \n",
            "22104    2024    14           MIA                  5.381880   \n",
            "22117    2024    14           MIA                  4.171702   \n",
            "22222    2024    14           NYJ                  3.950106   \n",
            "22444    2024    14           SEA                  4.711971   \n",
            "\n",
            "         player_display_name  \n",
            "17108  Cordarrelle Patterson  \n",
            "17290         Ameer Abdullah  \n",
            "17470        Ezekiel Elliott  \n",
            "17603            Aaron Jones  \n",
            "17675          Samaje Perine  \n",
            "...                      ...  \n",
            "22051            Blake Corum  \n",
            "22104          Braelon Allen  \n",
            "22117           Isaiah Davis  \n",
            "22222          Jaylen Wright  \n",
            "22444            Trey Benson  \n",
            "\n",
            "[63 rows x 5 columns]\n"
          ]
        }
      ]
    },
    {
      "cell_type": "markdown",
      "source": [
        "### Adding boom/bust prediction interval"
      ],
      "metadata": {
        "id": "yG8w4njlaiv5"
      }
    },
    {
      "cell_type": "code",
      "source": [
        "train_preds = model.predict(train_pool)\n",
        "residuals = y_train - train_preds\n",
        "std_resid = residuals.std()\n",
        "\n",
        "# Creating boom/bust intervals\n",
        "ci_upper = y_pred + 1.645 * std_resid\n",
        "ci_lower = y_pred - 1.645 * std_resid\n",
        "\n",
        "# setting minimum to 0\n",
        "ci_lower = np.maximum(ci_lower, 0)\n",
        "\n",
        "\n",
        "RB_test_pred['upper_bound'] = ci_upper\n",
        "RB_test_pred['lower_bound'] = ci_lower\n",
        "\n",
        "print(RB_test_pred[['season', 'week', 'opponent_team', 'lower_bound', 'predicted_fantasy_points', 'upper_bound', 'player_display_name']])"
      ],
      "metadata": {
        "colab": {
          "base_uri": "https://localhost:8080/"
        },
        "id": "fvXIydbAajCk",
        "outputId": "0349f94d-59ad-426e-a079-ce3969f12f25"
      },
      "execution_count": 139,
      "outputs": [
        {
          "output_type": "stream",
          "name": "stdout",
          "text": [
            "       season  week opponent_team  lower_bound  predicted_fantasy_points  \\\n",
            "17108    2024    14           CLE     0.000000                  5.243407   \n",
            "17290    2024    14            TB     0.000000                  9.328712   \n",
            "17470    2024    14           CIN     0.000000                  5.558331   \n",
            "17603    2024    14           ATL     4.700067                 14.405033   \n",
            "17675    2024    14           LAC     0.000000                  5.799112   \n",
            "...       ...   ...           ...          ...                       ...   \n",
            "22051    2024    14           BUF     0.000000                  4.237266   \n",
            "22104    2024    14           MIA     0.000000                  5.381880   \n",
            "22117    2024    14           MIA     0.000000                  4.171702   \n",
            "22222    2024    14           NYJ     0.000000                  3.950106   \n",
            "22444    2024    14           SEA     0.000000                  4.711971   \n",
            "\n",
            "       upper_bound    player_display_name  \n",
            "17108    14.948374  Cordarrelle Patterson  \n",
            "17290    19.033678         Ameer Abdullah  \n",
            "17470    15.263297        Ezekiel Elliott  \n",
            "17603    24.109999            Aaron Jones  \n",
            "17675    15.504078          Samaje Perine  \n",
            "...            ...                    ...  \n",
            "22051    13.942232            Blake Corum  \n",
            "22104    15.086846          Braelon Allen  \n",
            "22117    13.876668           Isaiah Davis  \n",
            "22222    13.655072          Jaylen Wright  \n",
            "22444    14.416937            Trey Benson  \n",
            "\n",
            "[63 rows x 7 columns]\n"
          ]
        }
      ]
    },
    {
      "cell_type": "markdown",
      "source": [
        "### Evaluating RB CatBoost model predictions"
      ],
      "metadata": {
        "id": "mpqNrANUajZn"
      }
    },
    {
      "cell_type": "code",
      "source": [
        "from sklearn.metrics import mean_squared_error, mean_absolute_error\n",
        "\n",
        "# Actuals and predictions\n",
        "y_true = y_test\n",
        "y_pred = RB_test_pred['predicted_fantasy_points']\n",
        "\n",
        "# RMSE and MAE\n",
        "rmse = mean_squared_error(y_true, y_pred)\n",
        "mae = mean_absolute_error(y_true, y_pred)\n",
        "\n",
        "print(f\"✅ RMSE: {rmse:.2f}\")\n",
        "print(f\"✅ MAE: {mae:.2f}\")"
      ],
      "metadata": {
        "id": "JYa7BpnRuExK",
        "outputId": "c0220f50-64df-484b-d742-5bdd0891c08b",
        "colab": {
          "base_uri": "https://localhost:8080/"
        }
      },
      "execution_count": 140,
      "outputs": [
        {
          "output_type": "stream",
          "name": "stdout",
          "text": [
            "✅ RMSE: 51.45\n",
            "✅ MAE: 5.08\n"
          ]
        }
      ]
    },
    {
      "cell_type": "markdown",
      "source": [
        "# **WR CatBoost Model**"
      ],
      "metadata": {
        "id": "RnBwJLf0pO_z"
      }
    },
    {
      "cell_type": "code",
      "source": [
        "df_wr = weekly_stats_all[weekly_stats_all['position'] == 'WR'].copy()\n",
        "\n",
        "# Sorting for time series purposes\n",
        "df_wr = df_wr.sort_values(by=['player_id', 'season', 'week'])\n",
        "\n",
        "# Creating lag/rolling features to be used as input for the model\n",
        "rolling_cols = [\n",
        "    'rushing_yards', 'rushing_tds',\n",
        "    'fantasy_points_ppr', 'carries',\n",
        "    'rushing_epa', 'rushing_2pt_conversions', 'receptions', 'targets', 'receiving_yards', 'receiving_tds', 'receiving_fumbles', 'receiving_fumbles_lost', 'receiving_air_yards', 'receiving_yards_after_catch', 'receiving_epa', 'receiving_2pt_conversions', 'target_share', 'offense_snaps', 'offense_pct', 'air_yards_share'\n",
        "    ]\n",
        "\n",
        "for col in rolling_cols:\n",
        "    df_wr[f'{col}_last3'] = df_wr.groupby('player_id')[col].shift(1).rolling(3, min_periods = 1).mean()\n",
        "\n",
        "# Creating season averages\n",
        "expanding_cols = ['receiving_yards', 'receiving_tds', 'fantasy_points_ppr'\n",
        "]\n",
        "\n",
        "for col in expanding_cols:\n",
        "    df_wr[col] = pd.to_numeric(df_wr[col], errors='coerce')\n",
        "\n",
        "for col in expanding_cols:\n",
        "    df_wr[f'{col}_season_avg'] = (\n",
        "        df_wr.groupby(['player_id', 'season'])[col]\n",
        "        .transform(lambda x: x.shift(1).expanding().mean())\n",
        "    )\n",
        "\n",
        "\n",
        "df_wr['receiving_yards'] = pd.to_numeric(df_wr['receiving_yards'], errors='coerce')\n",
        "df_wr['receptions'] = pd.to_numeric(df_wr['receptions'], errors='coerce')\n",
        "\n",
        "# Creating yards per catch data\n",
        "df_wr['yards_per_catch'] = df_wr['receiving_yards'] / df_wr['receptions'].replace(0, pd.NA)\n",
        "df_wr['yards_per_catch'] = pd.to_numeric(df_wr['yards_per_catch'], errors='coerce')\n",
        "\n"
      ],
      "metadata": {
        "id": "dumUn3YCuSZi"
      },
      "execution_count": 141,
      "outputs": []
    },
    {
      "cell_type": "code",
      "source": [
        "# Creating WR efficiency metrics\n",
        "df_wr['carries_shifted'] = df_wr.groupby('player_id')['carries'].shift(1)\n",
        "df_wr['receptions_shifted'] = df_wr.groupby('player_id')['receptions'].shift(1)\n",
        "\n",
        "\n",
        "df_wr['yards_per_reception_last3'] = df_wr.groupby('player_id')['yards_per_catch'].shift(1).rolling(3,min_periods = 1).mean()\n",
        "df_wr['rec_td_rate_last3'] = df_wr.groupby('player_id')['receiving_tds'].shift(1).rolling(3,min_periods = 1).sum() / df_rb['receptions_shifted']\n",
        "\n",
        "# Creating rolling/lag features for advanced WR stats\n",
        "advanced = ['wopr', 'racr']\n",
        "for col in advanced:\n",
        "    df_wr[f'{col}_trend'] = df_wr.groupby('player_id')[col].shift(1).rolling(3,min_periods = 1).mean()\n",
        "\n",
        "# Creating lag/rolling features for opposing defense stats\n",
        "opponent_cols = ['opp_avg_ypg_allowed', 'opp_avg_ppg_allowed', 'opp_int_pg', 'opp_sacks_pg', 'opp_fumbles_pg']\n",
        "for col in opponent_cols:\n",
        "    df_wr[f'{col}_trend'] = df_wr.groupby('player_id')[col].shift(1).rolling(3,min_periods = 1).mean()"
      ],
      "metadata": {
        "id": "382mwFdhuUdf"
      },
      "execution_count": 142,
      "outputs": []
    },
    {
      "cell_type": "code",
      "source": [
        "TARGET_COL = 'fantasy_points_ppr'\n",
        "\n",
        "# Creating test & trian sets\n",
        "train_df = df_wr[\n",
        "    (df_wr[TARGET_COL].notna()) &\n",
        "    (\n",
        "        (df_wr['season'] < 2024) |\n",
        "        ((df_wr['season'] == 2024) & (df_wr['week'] < 14))\n",
        "    )\n",
        "]\n",
        "\n",
        "test_df = df_wr[(df_wr['season'] == 2024) & (df_wr['week'] == 14)]\n",
        "\n",
        "\n",
        "feature_cols = [\n",
        "    col for col in df_wr.columns\n",
        "    if col.endswith('_last3') or col.endswith('_trend') or col.endswith('_season_avg')\n",
        "] + ['player_display_name','season', 'week', 'opponent_team']\n",
        "\n",
        "\n",
        "X_train = train_df[feature_cols]\n",
        "y_train = train_df[TARGET_COL]\n",
        "\n",
        "X_test = test_df[feature_cols]\n",
        "\n",
        "# for RMSE testing purposes on the test set\n",
        "y_test = test_df[TARGET_COL]"
      ],
      "metadata": {
        "id": "2CU6HeyauWLH"
      },
      "execution_count": 143,
      "outputs": []
    },
    {
      "cell_type": "code",
      "source": [
        "categorical_cols = ['opponent_team', 'season', 'week', 'player_display_name']\n",
        "\n",
        "# Create Pool objects\n",
        "train_pool = Pool(data=X_train, label=y_train, cat_features=categorical_cols)\n",
        "test_pool = Pool(data=X_test, cat_features=categorical_cols)\n",
        "\n",
        "# Initialize the CatBoost model\n",
        "model = CatBoostRegressor(\n",
        "    iterations = 1000,\n",
        "    learning_rate = 0.01,\n",
        "    depth=6,\n",
        "    loss_function='RMSE',\n",
        "    random_seed=42,\n",
        "    verbose=50  # or 0 to suppress output\n",
        ")\n",
        "\n",
        "# Train\n",
        "model.fit(train_pool)"
      ],
      "metadata": {
        "colab": {
          "base_uri": "https://localhost:8080/"
        },
        "id": "oR54MRDtugzQ",
        "outputId": "ca32a65e-a56c-4d0c-f846-a59751ef0c09"
      },
      "execution_count": 144,
      "outputs": [
        {
          "output_type": "stream",
          "name": "stdout",
          "text": [
            "0:\tlearn: 7.7354804\ttotal: 14ms\tremaining: 14s\n",
            "50:\tlearn: 7.0373176\ttotal: 588ms\tremaining: 10.9s\n",
            "100:\tlearn: 6.7128962\ttotal: 1.16s\tremaining: 10.3s\n",
            "150:\tlearn: 6.5449715\ttotal: 1.7s\tremaining: 9.57s\n",
            "200:\tlearn: 6.4472930\ttotal: 2.29s\tremaining: 9.09s\n",
            "250:\tlearn: 6.3861382\ttotal: 2.87s\tremaining: 8.56s\n",
            "300:\tlearn: 6.3393508\ttotal: 3.52s\tremaining: 8.18s\n",
            "350:\tlearn: 6.3074649\ttotal: 4.71s\tremaining: 8.71s\n",
            "400:\tlearn: 6.2821407\ttotal: 5.96s\tremaining: 8.91s\n",
            "450:\tlearn: 6.2567554\ttotal: 6.93s\tremaining: 8.43s\n",
            "500:\tlearn: 6.2340853\ttotal: 7.51s\tremaining: 7.48s\n",
            "550:\tlearn: 6.2107628\ttotal: 8.09s\tremaining: 6.59s\n",
            "600:\tlearn: 6.1924229\ttotal: 8.68s\tremaining: 5.76s\n",
            "650:\tlearn: 6.1720275\ttotal: 9.29s\tremaining: 4.98s\n",
            "700:\tlearn: 6.1550782\ttotal: 9.87s\tremaining: 4.21s\n",
            "750:\tlearn: 6.1342741\ttotal: 10.5s\tremaining: 3.48s\n",
            "800:\tlearn: 6.1121091\ttotal: 11.1s\tremaining: 2.76s\n",
            "850:\tlearn: 6.0932859\ttotal: 11.7s\tremaining: 2.05s\n",
            "900:\tlearn: 6.0732707\ttotal: 12.3s\tremaining: 1.35s\n",
            "950:\tlearn: 6.0525969\ttotal: 12.9s\tremaining: 667ms\n",
            "999:\tlearn: 6.0293680\ttotal: 13.5s\tremaining: 0us\n"
          ]
        },
        {
          "output_type": "execute_result",
          "data": {
            "text/plain": [
              "<catboost.core.CatBoostRegressor at 0x7aa1a0ef77d0>"
            ]
          },
          "metadata": {},
          "execution_count": 144
        }
      ]
    },
    {
      "cell_type": "code",
      "source": [
        "y_pred = model.predict(test_pool)\n",
        "\n",
        "# Attach predictions to test set for review\n",
        "WR_test_pred = X_test.copy()\n",
        "WR_test_pred['predicted_fantasy_points'] = y_pred\n",
        "\n",
        "print(WR_test_pred[['season', 'week', 'opponent_team', 'predicted_fantasy_points', 'player_display_name']])"
      ],
      "metadata": {
        "colab": {
          "base_uri": "https://localhost:8080/"
        },
        "id": "pfWXM6LLumtu",
        "outputId": "8123edcf-ed67-4b5d-a7a5-1884a383677f"
      },
      "execution_count": 145,
      "outputs": [
        {
          "output_type": "stream",
          "name": "stdout",
          "text": [
            "       season  week opponent_team  predicted_fantasy_points  \\\n",
            "16992    2024    14           PHI                 12.697022   \n",
            "17027    2024    14            SF                 13.145877   \n",
            "17076    2024    14           LAC                 10.829618   \n",
            "17120    2024    14           NYJ                  4.354308   \n",
            "17126    2024    14           CIN                  9.168697   \n",
            "...       ...   ...           ...                       ...   \n",
            "22251    2024    14           NYJ                  3.544078   \n",
            "22285    2024    14           TEN                 14.310319   \n",
            "22302    2024    14           LAC                  9.110364   \n",
            "22385    2024    14           CHI                  4.902839   \n",
            "22424    2024    14            SF                  8.677350   \n",
            "\n",
            "      player_display_name  \n",
            "16992        Adam Thielen  \n",
            "17027        Keenan Allen  \n",
            "17076     DeAndre Hopkins  \n",
            "17120       Odell Beckham  \n",
            "17126       Brandin Cooks  \n",
            "...                   ...  \n",
            "22251    Malik Washington  \n",
            "22285        Brian Thomas  \n",
            "22302       Xavier Worthy  \n",
            "22385      Ricky Pearsall  \n",
            "22424         Rome Odunze  \n",
            "\n",
            "[95 rows x 5 columns]\n"
          ]
        }
      ]
    },
    {
      "cell_type": "markdown",
      "source": [
        "### Adding boom/bust prediction interval"
      ],
      "metadata": {
        "id": "ppTVar1paIGt"
      }
    },
    {
      "cell_type": "code",
      "source": [
        "train_preds = model.predict(train_pool)\n",
        "residuals = y_train - train_preds\n",
        "std_resid = residuals.std()\n",
        "\n",
        "# Creating boom/bust interval\n",
        "ci_upper = y_pred + 1.645 * std_resid\n",
        "ci_lower = y_pred - 1.645 * std_resid\n",
        "\n",
        "# setting minimum to 0\n",
        "ci_lower = np.maximum(ci_lower, 0)\n",
        "\n",
        "\n",
        "WR_test_pred['upper_bound'] = ci_upper\n",
        "WR_test_pred['lower_bound'] = ci_lower\n",
        "\n",
        "print(WR_test_pred[['season', 'week', 'opponent_team', 'lower_bound', 'predicted_fantasy_points', 'upper_bound', 'player_display_name']])"
      ],
      "metadata": {
        "colab": {
          "base_uri": "https://localhost:8080/"
        },
        "id": "IUX52q04aId-",
        "outputId": "625ac4d8-80e6-4ec1-d2a3-6c99e2512f45"
      },
      "execution_count": 146,
      "outputs": [
        {
          "output_type": "stream",
          "name": "stdout",
          "text": [
            "       season  week opponent_team  lower_bound  predicted_fantasy_points  \\\n",
            "16992    2024    14           PHI     2.831348                 12.697022   \n",
            "17027    2024    14            SF     3.280202                 13.145877   \n",
            "17076    2024    14           LAC     0.963944                 10.829618   \n",
            "17120    2024    14           NYJ     0.000000                  4.354308   \n",
            "17126    2024    14           CIN     0.000000                  9.168697   \n",
            "...       ...   ...           ...          ...                       ...   \n",
            "22251    2024    14           NYJ     0.000000                  3.544078   \n",
            "22285    2024    14           TEN     4.444645                 14.310319   \n",
            "22302    2024    14           LAC     0.000000                  9.110364   \n",
            "22385    2024    14           CHI     0.000000                  4.902839   \n",
            "22424    2024    14            SF     0.000000                  8.677350   \n",
            "\n",
            "       upper_bound player_display_name  \n",
            "16992    22.562697        Adam Thielen  \n",
            "17027    23.011551        Keenan Allen  \n",
            "17076    20.695293     DeAndre Hopkins  \n",
            "17120    14.219983       Odell Beckham  \n",
            "17126    19.034372       Brandin Cooks  \n",
            "...            ...                 ...  \n",
            "22251    13.409752    Malik Washington  \n",
            "22285    24.175994        Brian Thomas  \n",
            "22302    18.976039       Xavier Worthy  \n",
            "22385    14.768514      Ricky Pearsall  \n",
            "22424    18.543025         Rome Odunze  \n",
            "\n",
            "[95 rows x 7 columns]\n"
          ]
        }
      ]
    },
    {
      "cell_type": "markdown",
      "source": [
        "### Evaluating the WR CatBoost model preidctions"
      ],
      "metadata": {
        "id": "l87v0z8HaTST"
      }
    },
    {
      "cell_type": "code",
      "source": [
        "from sklearn.metrics import mean_squared_error, mean_absolute_error\n",
        "\n",
        "# Actuals and predictions\n",
        "y_true = y_test\n",
        "y_pred = WR_test_pred['predicted_fantasy_points']\n",
        "\n",
        "# RMSE and MAE\n",
        "rmse = mean_squared_error(y_true, y_pred)\n",
        "mae = mean_absolute_error(y_true, y_pred)\n",
        "\n",
        "print(f\"✅ RMSE: {rmse:.2f}\")\n",
        "print(f\"✅ MAE: {mae:.2f}\")"
      ],
      "metadata": {
        "colab": {
          "base_uri": "https://localhost:8080/"
        },
        "id": "mo7msAT8vQhd",
        "outputId": "d6b7d2a5-71fb-4c20-8cbb-c03bd9ea48ce"
      },
      "execution_count": 147,
      "outputs": [
        {
          "output_type": "stream",
          "name": "stdout",
          "text": [
            "✅ RMSE: 57.90\n",
            "✅ MAE: 5.54\n"
          ]
        }
      ]
    },
    {
      "cell_type": "markdown",
      "source": [
        "# **TE CatBoost Model**"
      ],
      "metadata": {
        "id": "M_AjH4stw5Dt"
      }
    },
    {
      "cell_type": "code",
      "source": [
        "df_te= weekly_stats_all[weekly_stats_all['position'] == 'TE'].copy()\n",
        "\n",
        "# Sorting for time series purposes\n",
        "df_te = df_te.sort_values(by=['player_id', 'season', 'week'])\n",
        "\n",
        "# Creating lag/rolling features to be used as model input\n",
        "rolling_cols = [\n",
        "    'fantasy_points_ppr', 'receptions', 'targets', 'receiving_yards', 'receiving_tds', 'receiving_fumbles', 'receiving_fumbles_lost', 'receiving_air_yards', 'receiving_yards_after_catch', 'receiving_epa', 'receiving_2pt_conversions', 'target_share', 'offense_snaps', 'offense_pct', 'air_yards_share'\n",
        "    ]\n",
        "\n",
        "for col in rolling_cols:\n",
        "    df_te[f'{col}_last3'] = df_te.groupby('player_id')[col].shift(1).rolling(3, min_periods = 1).mean()\n",
        "\n",
        "# Creating season averages\n",
        "expanding_cols = ['receiving_yards', 'receiving_tds', 'fantasy_points_ppr'\n",
        "]\n",
        "\n",
        "for col in expanding_cols:\n",
        "    df_te[col] = pd.to_numeric(df_te[col], errors='coerce')\n",
        "\n",
        "for col in expanding_cols:\n",
        "    df_te[f'{col}_season_avg'] = (\n",
        "        df_te.groupby(['player_id', 'season'])[col]\n",
        "        .transform(lambda x: x.shift(1).expanding().mean())\n",
        "    )\n",
        "\n",
        "\n",
        "df_te['receiving_yards'] = pd.to_numeric(df_te['receiving_yards'], errors='coerce')\n",
        "df_te['receptions'] = pd.to_numeric(df_te['receptions'], errors='coerce')\n",
        "\n",
        "# Creating yards per catch feature\n",
        "df_te['yards_per_catch'] = df_te['receiving_yards'] / df_te['receptions'].replace(0, pd.NA)\n",
        "df_te['yards_per_catch'] = pd.to_numeric(df_te['yards_per_catch'], errors='coerce')\n",
        "\n",
        "\n",
        "\n",
        "print(df_te.head(10))"
      ],
      "metadata": {
        "outputId": "abc68f69-fdc1-48b9-c992-389f07ca2901",
        "colab": {
          "base_uri": "https://localhost:8080/"
        },
        "id": "7UajTbmhw5Dt"
      },
      "execution_count": 148,
      "outputs": [
        {
          "output_type": "stream",
          "name": "stdout",
          "text": [
            "     player_id player_name player_display_name position position_group  \\\n",
            "54  00-0024243     M.Lewis      Marcedes Lewis       TE             TE   \n",
            "55  00-0024243     M.Lewis      Marcedes Lewis       TE             TE   \n",
            "56  00-0024243     M.Lewis      Marcedes Lewis       TE             TE   \n",
            "57  00-0024243     M.Lewis      Marcedes Lewis       TE             TE   \n",
            "58  00-0024243     M.Lewis      Marcedes Lewis       TE             TE   \n",
            "59  00-0024243     M.Lewis      Marcedes Lewis       TE             TE   \n",
            "60  00-0024243     M.Lewis      Marcedes Lewis       TE             TE   \n",
            "61  00-0024243     M.Lewis      Marcedes Lewis       TE             TE   \n",
            "62  00-0024243     M.Lewis      Marcedes Lewis       TE             TE   \n",
            "63  00-0024243     M.Lewis      Marcedes Lewis       TE             TE   \n",
            "\n",
            "                                         headshot_url recent_team  season  \\\n",
            "54  https://static.www.nfl.com/image/private/f_aut...          GB    2021   \n",
            "55  https://static.www.nfl.com/image/private/f_aut...          GB    2021   \n",
            "56  https://static.www.nfl.com/image/private/f_aut...          GB    2021   \n",
            "57  https://static.www.nfl.com/image/private/f_aut...          GB    2021   \n",
            "58  https://static.www.nfl.com/image/private/f_aut...          GB    2021   \n",
            "59  https://static.www.nfl.com/image/private/f_aut...          GB    2021   \n",
            "60  https://static.www.nfl.com/image/private/f_aut...          GB    2021   \n",
            "61  https://static.www.nfl.com/image/private/f_aut...          GB    2021   \n",
            "62  https://static.www.nfl.com/image/private/f_aut...          GB    2021   \n",
            "63  https://static.www.nfl.com/image/private/f_aut...          GB    2021   \n",
            "\n",
            "    week season_type  ... receiving_epa_last3  \\\n",
            "54     1         REG  ...                 NaN   \n",
            "55     4         REG  ...            1.341326   \n",
            "56     5         REG  ...            0.453414   \n",
            "57     6         REG  ...            1.136541   \n",
            "58     7         REG  ...            1.153743   \n",
            "59     8         REG  ...            1.855453   \n",
            "60     9         REG  ...            0.888807   \n",
            "61    10         REG  ...            0.100825   \n",
            "62    12         REG  ...           -0.392038   \n",
            "63    14         REG  ...           -0.856731   \n",
            "\n",
            "    receiving_2pt_conversions_last3  target_share_last3  offense_snaps_last3  \\\n",
            "54                              NaN                 NaN                  NaN   \n",
            "55                              0.0            0.030303            15.000000   \n",
            "56                              0.0            0.043723            25.000000   \n",
            "57                              0.0            0.048196            26.333333   \n",
            "58                              0.0            0.069841            34.666667   \n",
            "59                              0.0            0.080205            30.000000   \n",
            "60                              0.0            0.070682            30.666667   \n",
            "61                              0.0            0.049352            27.000000   \n",
            "62                              0.0            0.038988            34.000000   \n",
            "63                              0.0            0.052192            34.666667   \n",
            "\n",
            "    offense_pct_last3  air_yards_share_last3  receiving_yards_season_avg  \\\n",
            "54                NaN                    NaN                         NaN   \n",
            "55           0.260000               0.015385                   19.000000   \n",
            "56           0.375000               0.055829                   13.000000   \n",
            "57           0.400000               0.047817                   20.000000   \n",
            "58           0.540000               0.052729                   19.250000   \n",
            "59           0.503333               0.040839                   21.600000   \n",
            "60           0.493333               0.038938                   18.000000   \n",
            "61           0.420000               0.025235                   15.285714   \n",
            "62           0.483333               0.013653                   14.625000   \n",
            "63           0.476667               0.002588                   13.444444   \n",
            "\n",
            "    receiving_tds_season_avg  fantasy_points_ppr_season_avg  yards_per_catch  \n",
            "54                       NaN                            NaN        19.000000  \n",
            "55                       0.0                       2.900000         7.000000  \n",
            "56                       0.0                       2.300000        17.000000  \n",
            "57                       0.0                       3.333333         8.500000  \n",
            "58                       0.0                       3.425000        10.333333  \n",
            "59                       0.0                       3.960000              NaN  \n",
            "60                       0.0                       3.300000        -1.000000  \n",
            "61                       0.0                       2.957143         5.000000  \n",
            "62                       0.0                       2.962500         2.000000  \n",
            "63                       0.0                       2.900000        12.750000  \n",
            "\n",
            "[10 rows x 135 columns]\n"
          ]
        }
      ]
    },
    {
      "cell_type": "code",
      "source": [
        "# Creating efficiency metrics (rolling)\n",
        "df_te['carries_shifted'] = df_te.groupby('player_id')['carries'].shift(1)\n",
        "df_te['receptions_shifted'] = df_te.groupby('player_id')['receptions'].shift(1)\n",
        "\n",
        "\n",
        "df_te['yards_per_reception_last3'] = df_te.groupby('player_id')['yards_per_catch'].shift(1).rolling(3,min_periods = 1).mean()\n",
        "df_te['rec_td_rate_last3'] = df_te.groupby('player_id')['receiving_tds'].shift(1).rolling(3,min_periods = 1).sum() / df_rb['receptions_shifted']\n",
        "\n",
        "# Creating rolling features for advanced features\n",
        "advanced = ['wopr', 'racr']\n",
        "for col in advanced:\n",
        "    df_te[f'{col}_trend'] = df_te.groupby('player_id')[col].shift(1).rolling(3,min_periods = 1).mean()\n",
        "\n",
        "# -------------------------------\n",
        "# STEP 7: Opponent Defense (already lagged by design)\n",
        "# -------------------------------\n",
        "opponent_cols = ['opp_avg_ypg_allowed', 'opp_avg_ppg_allowed', 'opp_int_pg', 'opp_sacks_pg', 'opp_fumbles_pg']\n",
        "for col in opponent_cols:\n",
        "    df_te[f'{col}_trend'] = df_te.groupby('player_id')[col].shift(1).rolling(3,min_periods = 1).mean()"
      ],
      "metadata": {
        "id": "lhR3H3A0w5Dt"
      },
      "execution_count": 149,
      "outputs": []
    },
    {
      "cell_type": "code",
      "source": [
        "TARGET_COL = 'fantasy_points_ppr'\n",
        "\n",
        "# test and train splits\n",
        "train_df = df_te[\n",
        "    (df_te[TARGET_COL].notna()) &\n",
        "    (\n",
        "        (df_te['season'] < 2024) |\n",
        "        ((df_te['season'] == 2024) & (df_te['week'] < 14))\n",
        "    )\n",
        "]\n",
        "\n",
        "test_df = df_te[(df_te['season'] == 2024) & (df_te['week'] == 14)]\n",
        "\n",
        "\n",
        "feature_cols = [\n",
        "    col for col in df_te.columns\n",
        "    if col.endswith('_last3') or col.endswith('_trend') or col.endswith('_season_avg')\n",
        "] + ['player_display_name','season', 'week', 'opponent_team']\n",
        "\n",
        "\n",
        "X_train = train_df[feature_cols]\n",
        "y_train = train_df[TARGET_COL]\n",
        "\n",
        "X_test = test_df[feature_cols]\n",
        "\n",
        "# for RMSE testing purposes on the test set\n",
        "y_test = test_df[TARGET_COL]"
      ],
      "metadata": {
        "id": "77JkQBvnw5Du"
      },
      "execution_count": 150,
      "outputs": []
    },
    {
      "cell_type": "code",
      "source": [
        "categorical_cols = ['opponent_team', 'season', 'week', 'player_display_name']\n",
        "\n",
        "# Create Pool objects\n",
        "train_pool = Pool(data=X_train, label=y_train, cat_features=categorical_cols)\n",
        "test_pool = Pool(data=X_test, cat_features=categorical_cols)\n",
        "\n",
        "# Initialize the CatBoost model\n",
        "model = CatBoostRegressor(\n",
        "    iterations = 1000,\n",
        "    learning_rate = 0.01,\n",
        "    depth=6,\n",
        "    loss_function='RMSE',\n",
        "    random_seed=42,\n",
        "    verbose=50  # or 0 to suppress output\n",
        ")\n",
        "\n",
        "# Train\n",
        "model.fit(train_pool)"
      ],
      "metadata": {
        "outputId": "7c87d371-fdca-430f-ec6d-2c6e4a0c90c2",
        "colab": {
          "base_uri": "https://localhost:8080/"
        },
        "id": "UvBTEyKSw5Du"
      },
      "execution_count": 151,
      "outputs": [
        {
          "output_type": "stream",
          "name": "stdout",
          "text": [
            "0:\tlearn: 6.0043360\ttotal: 10.2ms\tremaining: 10.2s\n",
            "50:\tlearn: 5.5139502\ttotal: 460ms\tremaining: 8.56s\n",
            "100:\tlearn: 5.2612506\ttotal: 846ms\tremaining: 7.53s\n",
            "150:\tlearn: 5.1284839\ttotal: 1.23s\tremaining: 6.91s\n",
            "200:\tlearn: 5.0491599\ttotal: 1.62s\tremaining: 6.44s\n",
            "250:\tlearn: 4.9901773\ttotal: 2.01s\tremaining: 6s\n",
            "300:\tlearn: 4.9456479\ttotal: 2.42s\tremaining: 5.62s\n",
            "350:\tlearn: 4.9109847\ttotal: 3.19s\tremaining: 5.9s\n",
            "400:\tlearn: 4.8800247\ttotal: 3.95s\tremaining: 5.9s\n",
            "450:\tlearn: 4.8487963\ttotal: 4.81s\tremaining: 5.85s\n",
            "500:\tlearn: 4.8237270\ttotal: 5.65s\tremaining: 5.63s\n",
            "550:\tlearn: 4.7986172\ttotal: 6.09s\tremaining: 4.96s\n",
            "600:\tlearn: 4.7725064\ttotal: 6.51s\tremaining: 4.32s\n",
            "650:\tlearn: 4.7482421\ttotal: 6.91s\tremaining: 3.71s\n",
            "700:\tlearn: 4.7267429\ttotal: 7.32s\tremaining: 3.12s\n",
            "750:\tlearn: 4.7011546\ttotal: 7.75s\tremaining: 2.57s\n",
            "800:\tlearn: 4.6761008\ttotal: 8.17s\tremaining: 2.03s\n",
            "850:\tlearn: 4.6526628\ttotal: 8.59s\tremaining: 1.5s\n",
            "900:\tlearn: 4.6258754\ttotal: 9s\tremaining: 989ms\n",
            "950:\tlearn: 4.5970454\ttotal: 9.41s\tremaining: 485ms\n",
            "999:\tlearn: 4.5704943\ttotal: 9.86s\tremaining: 0us\n"
          ]
        },
        {
          "output_type": "execute_result",
          "data": {
            "text/plain": [
              "<catboost.core.CatBoostRegressor at 0x7aa1a0ef6610>"
            ]
          },
          "metadata": {},
          "execution_count": 151
        }
      ]
    },
    {
      "cell_type": "code",
      "source": [
        "y_pred = model.predict(test_pool)\n",
        "\n",
        "# Attach predictions to test set for review\n",
        "TE_test_pred = X_test.copy()\n",
        "TE_test_pred['predicted_fantasy_points'] = y_pred\n",
        "\n",
        "print(TE_test_pred[['season', 'week', 'opponent_team', 'predicted_fantasy_points', 'player_display_name']])"
      ],
      "metadata": {
        "outputId": "5dcee42d-25ea-4988-e4d0-52d84c98a49a",
        "colab": {
          "base_uri": "https://localhost:8080/"
        },
        "id": "87IAcoLbw5Du"
      },
      "execution_count": 152,
      "outputs": [
        {
          "output_type": "stream",
          "name": "stdout",
          "text": [
            "       season  week opponent_team  predicted_fantasy_points  \\\n",
            "17057    2024    14           LAC                 14.593815   \n",
            "17229    2024    14           CLE                  2.987043   \n",
            "17362    2024    14           JAX                  3.234373   \n",
            "17585    2024    14           CHI                 11.279746   \n",
            "17659    2024    14           ARI                  2.971119   \n",
            "17744    2024    14           CHI                  3.839349   \n",
            "17843    2024    14           NYJ                 11.708264   \n",
            "17884    2024    14           TEN                 10.905046   \n",
            "17894    2024    14           PIT                 12.753433   \n",
            "18053    2024    14            KC                  6.312394   \n",
            "18089    2024    14           MIA                  7.436870   \n",
            "18151    2024    14           PIT                  4.685981   \n",
            "18254    2024    14           DAL                  5.483110   \n",
            "18340    2024    14           NYJ                  3.332110   \n",
            "18372    2024    14           DAL                  8.050979   \n",
            "18552    2024    14           NYG                  6.882376   \n",
            "18636    2024    14           ATL                  9.521965   \n",
            "18661    2024    14           ATL                  6.426994   \n",
            "18819    2024    14           DAL                  4.027658   \n",
            "18852    2024    14           ARI                  7.931115   \n",
            "18924    2024    14            LA                  6.902549   \n",
            "19016    2024    14           NYG                  7.779590   \n",
            "19125    2024    14           BUF                  3.906202   \n",
            "19463    2024    14           MIN                  2.726777   \n",
            "19633    2024    14           LAC                  7.220294   \n",
            "19664    2024    14            GB                  3.779390   \n",
            "19760    2024    14           CLE                  8.775130   \n",
            "19886    2024    14           MIN                  8.315953   \n",
            "19995    2024    14           BUF                  2.503076   \n",
            "20004    2024    14           PHI                  6.801880   \n",
            "20026    2024    14           CAR                  4.807474   \n",
            "20309    2024    14            KC                  2.930277   \n",
            "20398    2024    14            KC                  2.508433   \n",
            "20485    2024    14           SEA                 13.495283   \n",
            "20535    2024    14           MIA                  2.979867   \n",
            "20551    2024    14           JAX                  5.683058   \n",
            "20655    2024    14           CIN                  8.033846   \n",
            "20696    2024    14            NO                  3.148335   \n",
            "20770    2024    14            LV                 10.376546   \n",
            "20908    2024    14           CIN                  6.787582   \n",
            "20946    2024    14           CLE                  3.609467   \n",
            "21026    2024    14           JAX                  3.509477   \n",
            "21198    2024    14           PIT                  2.958942   \n",
            "21211    2024    14           NYJ                  2.981646   \n",
            "21288    2024    14           DET                  2.931249   \n",
            "21330    2024    14           TEN                  4.100679   \n",
            "21425    2024    14           DET                  9.664989   \n",
            "21565    2024    14            GB                 10.824442   \n",
            "21577    2024    14            TB                  3.105787   \n",
            "21735    2024    14           LAC                  2.673971   \n",
            "21775    2024    14            TB                 12.971638   \n",
            "21822    2024    14           PHI                  5.931194   \n",
            "21994    2024    14           NYG                  2.910450   \n",
            "22011    2024    14           JAX                  2.433625   \n",
            "22040    2024    14           SEA                  2.307815   \n",
            "22088    2024    14           ARI                  4.575119   \n",
            "\n",
            "         player_display_name  \n",
            "17057           Travis Kelce  \n",
            "17229          MyCole Pruitt  \n",
            "17362           Nick Vannett  \n",
            "17585          George Kittle  \n",
            "17659          Pharaoh Brown  \n",
            "17744           Eric Saubert  \n",
            "17843            Jonnu Smith  \n",
            "17884            Evan Engram  \n",
            "17894            David Njoku  \n",
            "18053            Will Dissly  \n",
            "18089          Tyler Conklin  \n",
            "18151           Jordan Akins  \n",
            "18254          Tanner Hudson  \n",
            "18340          Durham Smythe  \n",
            "18372           Mike Gesicki  \n",
            "18552          Foster Moreau  \n",
            "18636         T.J. Hockenson  \n",
            "18661            Josh Oliver  \n",
            "18819            Drew Sample  \n",
            "18852              Noah Fant  \n",
            "18924            Dawson Knox  \n",
            "19016          Juwan Johnson  \n",
            "19125        Colby Parkinson  \n",
            "19463        Charlie Woerner  \n",
            "19633              Noah Gray  \n",
            "19664           Brock Wright  \n",
            "19760         Pat Freiermuth  \n",
            "19886             Kyle Pitts  \n",
            "19995            Hunter Long  \n",
            "20004          Tommy Tremble  \n",
            "20026       Grant Calcaterra  \n",
            "20309           Stone Smartt  \n",
            "20398            Tucker Fisk  \n",
            "20485           Trey McBride  \n",
            "20535         Jeremy Ruckert  \n",
            "20551      Chigoziem Okonkwo  \n",
            "20655          Jake Ferguson  \n",
            "20696       Daniel Bellinger  \n",
            "20770             Cade Otton  \n",
            "20908       Luke Schoonmaker  \n",
            "20946     Darnell Washington  \n",
            "21026             Josh Whyle  \n",
            "21198       Blake Whiteheart  \n",
            "21211            Julian Hill  \n",
            "21288               Ben Sims  \n",
            "21330        Brenton Strange  \n",
            "21425           Tucker Kraft  \n",
            "21565            Sam LaPorta  \n",
            "21577          Michael Mayer  \n",
            "21735            Baylor Cupp  \n",
            "21775           Brock Bowers  \n",
            "21822      Ja'Tavion Sanders  \n",
            "21994          Dallin Holker  \n",
            "22011  David Martin-Robinson  \n",
            "22040             Tip Reiman  \n",
            "22088            A.J. Barner  \n"
          ]
        }
      ]
    },
    {
      "cell_type": "markdown",
      "source": [
        "### Adding boom/bust interval using the standard deviation"
      ],
      "metadata": {
        "id": "rFg39H_lZGg0"
      }
    },
    {
      "cell_type": "code",
      "source": [
        "train_preds = model.predict(train_pool)\n",
        "residuals = y_train - train_preds\n",
        "std_resid = residuals.std()\n",
        "\n",
        "# Creating boom/bust interval\n",
        "ci_upper = y_pred + 1.645 * std_resid\n",
        "ci_lower = y_pred - 1.645 * std_resid\n",
        "\n",
        "# setting minimum to 0\n",
        "ci_lower = np.maximum(ci_lower, 0)\n",
        "\n",
        "\n",
        "TE_test_pred['upper_bound'] = ci_upper\n",
        "TE_test_pred['lower_bound'] = ci_lower\n",
        "\n",
        "print(TE_test_pred[['season', 'week', 'opponent_team', 'lower_bound', 'predicted_fantasy_points', 'upper_bound', 'player_display_name']])"
      ],
      "metadata": {
        "colab": {
          "base_uri": "https://localhost:8080/"
        },
        "id": "1DKLFZSZYy3w",
        "outputId": "d1695da1-d748-44cf-a0cc-50c6e2a0c460"
      },
      "execution_count": 153,
      "outputs": [
        {
          "output_type": "stream",
          "name": "stdout",
          "text": [
            "       season  week opponent_team  lower_bound  predicted_fantasy_points  \\\n",
            "17057    2024    14           LAC     7.016120                 14.593815   \n",
            "17229    2024    14           CLE     0.000000                  2.987043   \n",
            "17362    2024    14           JAX     0.000000                  3.234373   \n",
            "17585    2024    14           CHI     3.702051                 11.279746   \n",
            "17659    2024    14           ARI     0.000000                  2.971119   \n",
            "17744    2024    14           CHI     0.000000                  3.839349   \n",
            "17843    2024    14           NYJ     4.130568                 11.708264   \n",
            "17884    2024    14           TEN     3.327350                 10.905046   \n",
            "17894    2024    14           PIT     5.175737                 12.753433   \n",
            "18053    2024    14            KC     0.000000                  6.312394   \n",
            "18089    2024    14           MIA     0.000000                  7.436870   \n",
            "18151    2024    14           PIT     0.000000                  4.685981   \n",
            "18254    2024    14           DAL     0.000000                  5.483110   \n",
            "18340    2024    14           NYJ     0.000000                  3.332110   \n",
            "18372    2024    14           DAL     0.473283                  8.050979   \n",
            "18552    2024    14           NYG     0.000000                  6.882376   \n",
            "18636    2024    14           ATL     1.944269                  9.521965   \n",
            "18661    2024    14           ATL     0.000000                  6.426994   \n",
            "18819    2024    14           DAL     0.000000                  4.027658   \n",
            "18852    2024    14           ARI     0.353419                  7.931115   \n",
            "18924    2024    14            LA     0.000000                  6.902549   \n",
            "19016    2024    14           NYG     0.201894                  7.779590   \n",
            "19125    2024    14           BUF     0.000000                  3.906202   \n",
            "19463    2024    14           MIN     0.000000                  2.726777   \n",
            "19633    2024    14           LAC     0.000000                  7.220294   \n",
            "19664    2024    14            GB     0.000000                  3.779390   \n",
            "19760    2024    14           CLE     1.197434                  8.775130   \n",
            "19886    2024    14           MIN     0.738258                  8.315953   \n",
            "19995    2024    14           BUF     0.000000                  2.503076   \n",
            "20004    2024    14           PHI     0.000000                  6.801880   \n",
            "20026    2024    14           CAR     0.000000                  4.807474   \n",
            "20309    2024    14            KC     0.000000                  2.930277   \n",
            "20398    2024    14            KC     0.000000                  2.508433   \n",
            "20485    2024    14           SEA     5.917587                 13.495283   \n",
            "20535    2024    14           MIA     0.000000                  2.979867   \n",
            "20551    2024    14           JAX     0.000000                  5.683058   \n",
            "20655    2024    14           CIN     0.456151                  8.033846   \n",
            "20696    2024    14            NO     0.000000                  3.148335   \n",
            "20770    2024    14            LV     2.798850                 10.376546   \n",
            "20908    2024    14           CIN     0.000000                  6.787582   \n",
            "20946    2024    14           CLE     0.000000                  3.609467   \n",
            "21026    2024    14           JAX     0.000000                  3.509477   \n",
            "21198    2024    14           PIT     0.000000                  2.958942   \n",
            "21211    2024    14           NYJ     0.000000                  2.981646   \n",
            "21288    2024    14           DET     0.000000                  2.931249   \n",
            "21330    2024    14           TEN     0.000000                  4.100679   \n",
            "21425    2024    14           DET     2.087293                  9.664989   \n",
            "21565    2024    14            GB     3.246746                 10.824442   \n",
            "21577    2024    14            TB     0.000000                  3.105787   \n",
            "21735    2024    14           LAC     0.000000                  2.673971   \n",
            "21775    2024    14            TB     5.393942                 12.971638   \n",
            "21822    2024    14           PHI     0.000000                  5.931194   \n",
            "21994    2024    14           NYG     0.000000                  2.910450   \n",
            "22011    2024    14           JAX     0.000000                  2.433625   \n",
            "22040    2024    14           SEA     0.000000                  2.307815   \n",
            "22088    2024    14           ARI     0.000000                  4.575119   \n",
            "\n",
            "       upper_bound    player_display_name  \n",
            "17057    22.171511           Travis Kelce  \n",
            "17229    10.564738          MyCole Pruitt  \n",
            "17362    10.812069           Nick Vannett  \n",
            "17585    18.857442          George Kittle  \n",
            "17659    10.548815          Pharaoh Brown  \n",
            "17744    11.417045           Eric Saubert  \n",
            "17843    19.285960            Jonnu Smith  \n",
            "17884    18.482742            Evan Engram  \n",
            "17894    20.331129            David Njoku  \n",
            "18053    13.890089            Will Dissly  \n",
            "18089    15.014566          Tyler Conklin  \n",
            "18151    12.263677           Jordan Akins  \n",
            "18254    13.060806          Tanner Hudson  \n",
            "18340    10.909806          Durham Smythe  \n",
            "18372    15.628675           Mike Gesicki  \n",
            "18552    14.460072          Foster Moreau  \n",
            "18636    17.099661         T.J. Hockenson  \n",
            "18661    14.004689            Josh Oliver  \n",
            "18819    11.605353            Drew Sample  \n",
            "18852    15.508811              Noah Fant  \n",
            "18924    14.480245            Dawson Knox  \n",
            "19016    15.357286          Juwan Johnson  \n",
            "19125    11.483898        Colby Parkinson  \n",
            "19463    10.304473        Charlie Woerner  \n",
            "19633    14.797990              Noah Gray  \n",
            "19664    11.357086           Brock Wright  \n",
            "19760    16.352826         Pat Freiermuth  \n",
            "19886    15.893649             Kyle Pitts  \n",
            "19995    10.080772            Hunter Long  \n",
            "20004    14.379576          Tommy Tremble  \n",
            "20026    12.385170       Grant Calcaterra  \n",
            "20309    10.507973           Stone Smartt  \n",
            "20398    10.086129            Tucker Fisk  \n",
            "20485    21.072978           Trey McBride  \n",
            "20535    10.557563         Jeremy Ruckert  \n",
            "20551    13.260754      Chigoziem Okonkwo  \n",
            "20655    15.611542          Jake Ferguson  \n",
            "20696    10.726031       Daniel Bellinger  \n",
            "20770    17.954242             Cade Otton  \n",
            "20908    14.365278       Luke Schoonmaker  \n",
            "20946    11.187162     Darnell Washington  \n",
            "21026    11.087172             Josh Whyle  \n",
            "21198    10.536638       Blake Whiteheart  \n",
            "21211    10.559342            Julian Hill  \n",
            "21288    10.508945               Ben Sims  \n",
            "21330    11.678375        Brenton Strange  \n",
            "21425    17.242685           Tucker Kraft  \n",
            "21565    18.402138            Sam LaPorta  \n",
            "21577    10.683483          Michael Mayer  \n",
            "21735    10.251667            Baylor Cupp  \n",
            "21775    20.549334           Brock Bowers  \n",
            "21822    13.508890      Ja'Tavion Sanders  \n",
            "21994    10.488146          Dallin Holker  \n",
            "22011    10.011321  David Martin-Robinson  \n",
            "22040     9.885511             Tip Reiman  \n",
            "22088    12.152815            A.J. Barner  \n"
          ]
        }
      ]
    },
    {
      "cell_type": "markdown",
      "source": [
        "### Evaluating predictions"
      ],
      "metadata": {
        "id": "4VuxFxj4ZYjh"
      }
    },
    {
      "cell_type": "code",
      "source": [
        "from sklearn.metrics import mean_squared_error, mean_absolute_error\n",
        "\n",
        "# Actuals and predictions\n",
        "y_true = y_test\n",
        "y_pred = TE_test_pred['predicted_fantasy_points']\n",
        "\n",
        "# RMSE and MAE\n",
        "rmse = mean_squared_error(y_true, y_pred)\n",
        "mae = mean_absolute_error(y_true, y_pred)\n",
        "\n",
        "print(f\"✅ RMSE: {rmse:.2f}\")\n",
        "print(f\"✅ MAE: {mae:.2f}\")"
      ],
      "metadata": {
        "outputId": "fc6ce149-fb88-48f1-8d78-f83760764cb7",
        "colab": {
          "base_uri": "https://localhost:8080/"
        },
        "id": "OdyOLq2Iw5Du"
      },
      "execution_count": 154,
      "outputs": [
        {
          "output_type": "stream",
          "name": "stdout",
          "text": [
            "✅ RMSE: 13.65\n",
            "✅ MAE: 2.93\n"
          ]
        }
      ]
    },
    {
      "cell_type": "markdown",
      "source": [
        "# **Putting together all the prediction data**"
      ],
      "metadata": {
        "id": "2HWPbZb-Sp08"
      }
    },
    {
      "cell_type": "code",
      "source": [
        "QB_test_pred = QB_test_pred[['season', 'week', 'opponent_team', 'lower_bound', 'predicted_fantasy_points', 'upper_bound', 'player_display_name']]\n",
        "RB_test_pred = RB_test_pred[['season', 'week', 'opponent_team', 'lower_bound', 'predicted_fantasy_points', 'upper_bound', 'player_display_name']]\n",
        "WR_test_pred = WR_test_pred[['season', 'week', 'opponent_team', 'lower_bound', 'predicted_fantasy_points', 'upper_bound', 'player_display_name']]\n",
        "TE_test_pred = TE_test_pred[['season', 'week', 'opponent_team', 'lower_bound', 'predicted_fantasy_points', 'upper_bound', 'player_display_name']]\n",
        "\n",
        "\n",
        "all_predictions = pd.concat([QB_test_pred, RB_test_pred, WR_test_pred, TE_test_pred], axis= 0, ignore_index = True)"
      ],
      "metadata": {
        "id": "Ii7VzRlJSrGi"
      },
      "execution_count": 155,
      "outputs": []
    },
    {
      "cell_type": "code",
      "source": [
        "print(all_predictions)"
      ],
      "metadata": {
        "colab": {
          "base_uri": "https://localhost:8080/"
        },
        "id": "7m-72BbYTyeX",
        "outputId": "b723d800-c3b3-4483-ad53-3b080f8d219f"
      },
      "execution_count": 156,
      "outputs": [
        {
          "output_type": "stream",
          "name": "stdout",
          "text": [
            "     season  week opponent_team  lower_bound  predicted_fantasy_points  \\\n",
            "0      2024    14           MIA     5.165464                 15.398341   \n",
            "1      2024    14           BUF     6.534220                 16.767097   \n",
            "2      2024    14           CLE     6.103385                 16.336262   \n",
            "3      2024    14           MIN     4.531927                 14.764804   \n",
            "4      2024    14           ARI     7.095135                 17.328012   \n",
            "..      ...   ...           ...          ...                       ...   \n",
            "241    2024    14           PHI     0.000000                  5.931194   \n",
            "242    2024    14           NYG     0.000000                  2.910450   \n",
            "243    2024    14           JAX     0.000000                  2.433625   \n",
            "244    2024    14           SEA     0.000000                  2.307815   \n",
            "245    2024    14           ARI     0.000000                  4.575119   \n",
            "\n",
            "     upper_bound    player_display_name  \n",
            "0      25.631218          Aaron Rodgers  \n",
            "1      26.999974       Matthew Stafford  \n",
            "2      26.569139         Russell Wilson  \n",
            "3      24.997681           Kirk Cousins  \n",
            "4      27.560889             Geno Smith  \n",
            "..           ...                    ...  \n",
            "241    13.508890      Ja'Tavion Sanders  \n",
            "242    10.488146          Dallin Holker  \n",
            "243    10.011321  David Martin-Robinson  \n",
            "244     9.885511             Tip Reiman  \n",
            "245    12.152815            A.J. Barner  \n",
            "\n",
            "[246 rows x 7 columns]\n"
          ]
        }
      ]
    },
    {
      "cell_type": "markdown",
      "source": [
        "# Putting dataframes back in excel/google drive\n",
        "*Saving the season & weekly stats data frames, the data frame containing all the player fantasy point predictions, and the data frame containing the schedule & team record*"
      ],
      "metadata": {
        "id": "QF_0j5MTbirc"
      }
    },
    {
      "cell_type": "code",
      "source": [
        "import os\n",
        "\n",
        "output_path = '/content/drive/MyDrive/all_fantasy_data.xlsx'\n",
        "\n",
        "if os.path.exists(output_path):\n",
        "    os.remove(output_path)\n",
        "\n",
        "with pd.ExcelWriter(output_path, engine='openpyxl') as writer:\n",
        "    weekly_stats_all.to_excel(writer, sheet_name='Weekly_Stats', index=False)\n",
        "    season_stats_all.to_excel(writer, sheet_name='Season_Stats', index=False)\n",
        "    weekly_matchup_data.to_excel(writer, sheet_name='Team_Schedules', index=False)\n",
        "    all_predictions.to_excel(writer, sheet_name='Player_Predictions', index=False)"
      ],
      "metadata": {
        "id": "_Ea-sLZ8bi78"
      },
      "execution_count": 157,
      "outputs": []
    }
  ]
}