{
  "nbformat": 4,
  "nbformat_minor": 0,
  "metadata": {
    "colab": {
      "provenance": [],
      "include_colab_link": true
    },
    "kernelspec": {
      "name": "python3",
      "display_name": "Python 3"
    },
    "language_info": {
      "name": "python"
    }
  },
  "cells": [
    {
      "cell_type": "markdown",
      "metadata": {
        "id": "view-in-github",
        "colab_type": "text"
      },
      "source": [
        "<a href=\"https://colab.research.google.com/github/bradymiller2310/FantasyFootballDashboard/blob/main/ESPN_FF_Scraper.ipynb\" target=\"_parent\"><img src=\"https://colab.research.google.com/assets/colab-badge.svg\" alt=\"Open In Colab\"/></a>"
      ]
    },
    {
      "cell_type": "code",
      "source": [
        "!pip install espn-api\n",
        "!pip install pandas\n",
        "!pip install openpyxl"
      ],
      "metadata": {
        "colab": {
          "base_uri": "https://localhost:8080/"
        },
        "id": "iI2Vhi-lpDtI",
        "outputId": "509ffd2c-369b-45fc-99ad-f3a041dacc75"
      },
      "execution_count": null,
      "outputs": [
        {
          "output_type": "stream",
          "name": "stdout",
          "text": [
            "Requirement already satisfied: espn-api in /usr/local/lib/python3.11/dist-packages (0.44.1)\n",
            "Requirement already satisfied: requests<3.0.0,>=2.0.0 in /usr/local/lib/python3.11/dist-packages (from espn-api) (2.32.3)\n",
            "Requirement already satisfied: urllib3<=2.2.3 in /usr/local/lib/python3.11/dist-packages (from espn-api) (2.2.3)\n",
            "Requirement already satisfied: charset-normalizer<4,>=2 in /usr/local/lib/python3.11/dist-packages (from requests<3.0.0,>=2.0.0->espn-api) (3.4.1)\n",
            "Requirement already satisfied: idna<4,>=2.5 in /usr/local/lib/python3.11/dist-packages (from requests<3.0.0,>=2.0.0->espn-api) (3.10)\n",
            "Requirement already satisfied: certifi>=2017.4.17 in /usr/local/lib/python3.11/dist-packages (from requests<3.0.0,>=2.0.0->espn-api) (2025.1.31)\n",
            "Requirement already satisfied: pandas in /usr/local/lib/python3.11/dist-packages (2.2.2)\n",
            "Requirement already satisfied: numpy>=1.23.2 in /usr/local/lib/python3.11/dist-packages (from pandas) (2.0.2)\n",
            "Requirement already satisfied: python-dateutil>=2.8.2 in /usr/local/lib/python3.11/dist-packages (from pandas) (2.8.2)\n",
            "Requirement already satisfied: pytz>=2020.1 in /usr/local/lib/python3.11/dist-packages (from pandas) (2025.1)\n",
            "Requirement already satisfied: tzdata>=2022.7 in /usr/local/lib/python3.11/dist-packages (from pandas) (2025.1)\n",
            "Requirement already satisfied: six>=1.5 in /usr/local/lib/python3.11/dist-packages (from python-dateutil>=2.8.2->pandas) (1.17.0)\n",
            "Requirement already satisfied: openpyxl in /usr/local/lib/python3.11/dist-packages (3.1.5)\n",
            "Requirement already satisfied: et-xmlfile in /usr/local/lib/python3.11/dist-packages (from openpyxl) (2.0.0)\n"
          ]
        }
      ]
    },
    {
      "cell_type": "code",
      "execution_count": null,
      "metadata": {
        "id": "gV03Pq9poyaX"
      },
      "outputs": [],
      "source": [
        "from espn_api.football import League\n",
        "import pandas as pd"
      ]
    },
    {
      "cell_type": "code",
      "source": [
        "league = League(league_id=1292514, year=2024, espn_s2=\"AECPNWyLvfnlcFfE0Xb73O%2BP5ZU9n1G%2FSnP3ixxvuqSwQRcQe7bEQfBuz3YBNeRluTYofdhX2aTajj0jZSF%2B8i9ewdk8Dwf6p9G215F2FjmI06wPKyhjleL4WzaT3PCiP15FDXe55YNMkQeJXgbsCuK1VHbdQ1Nxidq0JxAHezRn2zAt6WwNtSqrF0k2nNHV33VpJqPmMk4msFmaoCaz0UAp95xxy1YmXyEUnZWgA60HJkbsgYkZ8AaESwFENsPYdUvKYqCwnZLjvgI5varhOTDYekjvokdtaCoxJfzOdGLJ3g%3D%3D\", swid=\"{D68FE5F2-46CE-421C-B248-DDA01360BB34}\")\n",
        "print(league.teams)  #Teams in league"
      ],
      "metadata": {
        "colab": {
          "base_uri": "https://localhost:8080/"
        },
        "id": "DFytiAtEo5sl",
        "outputId": "bf7d9376-a966-453f-9c24-6e0d8e3e00c8"
      },
      "execution_count": null,
      "outputs": [
        {
          "output_type": "stream",
          "name": "stdout",
          "text": [
            "[Team(Fightin' Furries), Team(Quon Solo), Team(Jen-eral ⚔️), Team(Captain Sweatpants), Team(Salmon LipBalm !!), Team(Graham’s Groupie), Team(pop-pop's bible study), Team(Bucktown Bandits), Team(bird gang), Team(bungalicious  💅)]\n"
          ]
        }
      ]
    },
    {
      "cell_type": "code",
      "source": [
        "for week in range(1, 15):\n",
        "    print(f\"Week {week} Schedule:\")\n",
        "    for matchup in league.scoreboard(week=week):\n",
        "        print(f\"{matchup.home_team} vs {matchup.away_team}\")"
      ],
      "metadata": {
        "id": "5W3DrXSnpPOv",
        "colab": {
          "base_uri": "https://localhost:8080/"
        },
        "outputId": "2c2c8f61-3518-4567-b1f1-17ce764bd989"
      },
      "execution_count": 71,
      "outputs": [
        {
          "output_type": "stream",
          "name": "stdout",
          "text": [
            "Week 1 Schedule:\n",
            "Team(Bucktown Bandits) vs Team(Graham’s Groupie)\n",
            "Team(bungalicious  💅) vs Team(Fightin' Furries)\n",
            "Team(bird gang) vs Team(Salmon LipBalm !!)\n",
            "Team(pop-pop's bible study) vs Team(Quon Solo)\n",
            "Team(Jen-eral ⚔️) vs Team(Captain Sweatpants)\n",
            "Week 2 Schedule:\n",
            "Team(Fightin' Furries) vs Team(Salmon LipBalm !!)\n",
            "Team(Quon Solo) vs Team(Bucktown Bandits)\n",
            "Team(Captain Sweatpants) vs Team(Graham’s Groupie)\n",
            "Team(pop-pop's bible study) vs Team(bungalicious  💅)\n",
            "Team(Jen-eral ⚔️) vs Team(bird gang)\n",
            "Week 3 Schedule:\n",
            "Team(Quon Solo) vs Team(Captain Sweatpants)\n",
            "Team(Fightin' Furries) vs Team(pop-pop's bible study)\n",
            "Team(Salmon LipBalm !!) vs Team(Jen-eral ⚔️)\n",
            "Team(Bucktown Bandits) vs Team(bungalicious  💅)\n",
            "Team(Graham’s Groupie) vs Team(bird gang)\n",
            "Week 4 Schedule:\n",
            "Team(pop-pop's bible study) vs Team(Jen-eral ⚔️)\n",
            "Team(bungalicious  💅) vs Team(Quon Solo)\n",
            "Team(bird gang) vs Team(Captain Sweatpants)\n",
            "Team(Bucktown Bandits) vs Team(Fightin' Furries)\n",
            "Team(Graham’s Groupie) vs Team(Salmon LipBalm !!)\n",
            "Week 5 Schedule:\n",
            "Team(bungalicious  💅) vs Team(bird gang)\n",
            "Team(pop-pop's bible study) vs Team(Bucktown Bandits)\n",
            "Team(Jen-eral ⚔️) vs Team(Graham’s Groupie)\n",
            "Team(Quon Solo) vs Team(Fightin' Furries)\n",
            "Team(Captain Sweatpants) vs Team(Salmon LipBalm !!)\n",
            "Week 6 Schedule:\n",
            "Team(Graham’s Groupie) vs Team(Fightin' Furries)\n",
            "Team(Salmon LipBalm !!) vs Team(Quon Solo)\n",
            "Team(Captain Sweatpants) vs Team(pop-pop's bible study)\n",
            "Team(Jen-eral ⚔️) vs Team(bungalicious  💅)\n",
            "Team(bird gang) vs Team(Bucktown Bandits)\n",
            "Week 7 Schedule:\n",
            "Team(Quon Solo) vs Team(Graham’s Groupie)\n",
            "Team(pop-pop's bible study) vs Team(Salmon LipBalm !!)\n",
            "Team(bungalicious  💅) vs Team(Captain Sweatpants)\n",
            "Team(Bucktown Bandits) vs Team(Jen-eral ⚔️)\n",
            "Team(Fightin' Furries) vs Team(bird gang)\n",
            "Week 8 Schedule:\n",
            "Team(Graham’s Groupie) vs Team(pop-pop's bible study)\n",
            "Team(Salmon LipBalm !!) vs Team(bungalicious  💅)\n",
            "Team(Captain Sweatpants) vs Team(Bucktown Bandits)\n",
            "Team(Jen-eral ⚔️) vs Team(Fightin' Furries)\n",
            "Team(bird gang) vs Team(Quon Solo)\n",
            "Week 9 Schedule:\n",
            "Team(bungalicious  💅) vs Team(Graham’s Groupie)\n",
            "Team(Bucktown Bandits) vs Team(pop-pop's bible study)\n",
            "Team(Salmon LipBalm !!) vs Team(bird gang)\n",
            "Team(Fightin' Furries) vs Team(Quon Solo)\n",
            "Team(Captain Sweatpants) vs Team(Jen-eral ⚔️)\n",
            "Week 10 Schedule:\n",
            "Team(Bucktown Bandits) vs Team(Salmon LipBalm !!)\n",
            "Team(Fightin' Furries) vs Team(bungalicious  💅)\n",
            "Team(Graham’s Groupie) vs Team(Captain Sweatpants)\n",
            "Team(Quon Solo) vs Team(pop-pop's bible study)\n",
            "Team(bird gang) vs Team(Jen-eral ⚔️)\n",
            "Week 11 Schedule:\n",
            "Team(Fightin' Furries) vs Team(Captain Sweatpants)\n",
            "Team(Bucktown Bandits) vs Team(Quon Solo)\n",
            "Team(Jen-eral ⚔️) vs Team(Salmon LipBalm !!)\n",
            "Team(bungalicious  💅) vs Team(pop-pop's bible study)\n",
            "Team(bird gang) vs Team(Graham’s Groupie)\n",
            "Week 12 Schedule:\n",
            "Team(Quon Solo) vs Team(Jen-eral ⚔️)\n",
            "Team(pop-pop's bible study) vs Team(Fightin' Furries)\n",
            "Team(Captain Sweatpants) vs Team(bird gang)\n",
            "Team(bungalicious  💅) vs Team(Bucktown Bandits)\n",
            "Team(Salmon LipBalm !!) vs Team(Graham’s Groupie)\n",
            "Week 13 Schedule:\n",
            "Team(pop-pop's bible study) vs Team(bird gang)\n",
            "Team(Quon Solo) vs Team(bungalicious  💅)\n",
            "Team(Graham’s Groupie) vs Team(Jen-eral ⚔️)\n",
            "Team(Fightin' Furries) vs Team(Bucktown Bandits)\n",
            "Team(Salmon LipBalm !!) vs Team(Captain Sweatpants)\n",
            "Week 14 Schedule:\n",
            "Team(Graham’s Groupie) vs Team(Bucktown Bandits)\n",
            "Team(Salmon LipBalm !!) vs Team(Fightin' Furries)\n",
            "Team(Captain Sweatpants) vs Team(Quon Solo)\n",
            "Team(Jen-eral ⚔️) vs Team(pop-pop's bible study)\n",
            "Team(bird gang) vs Team(bungalicious  💅)\n"
          ]
        }
      ]
    },
    {
      "cell_type": "code",
      "source": [
        "free_agents = league.free_agents(size=20, position='QB')  # Get top 20 available QBs\n",
        "\n",
        "print(\"Available Free Agents (QB):\")\n",
        "for player in free_agents:\n",
        "    print(f\"  - {player.name} ({player.proTeam})\")"
      ],
      "metadata": {
        "id": "_WP9t9mrqyyF"
      },
      "execution_count": null,
      "outputs": []
    },
    {
      "cell_type": "code",
      "source": [
        "for team in league.teams:\n",
        "    print(f\"\\nTeam: {team.team_name}\")\n",
        "    print(\"Roster:\")\n",
        "    for player in team.roster:\n",
        "        print(f\"  - {player.name} ({player.position})\")"
      ],
      "metadata": {
        "id": "Q9sOrwEqrYvv"
      },
      "execution_count": null,
      "outputs": []
    },
    {
      "cell_type": "code",
      "source": [
        "week_number = 1\n",
        "box_scores = league.box_scores(week=week_number)\n",
        "\n",
        "for matchup in box_scores:\n",
        "    print(f\"\\nMatchup: {matchup.home_team} vs {matchup.away_team}\")\n",
        "    print(f\"  Home Score: {matchup.home_score}\")\n",
        "    print(f\"  Away Score: {matchup.away_score}\")"
      ],
      "metadata": {
        "id": "Nz8qaA22roRC"
      },
      "execution_count": null,
      "outputs": []
    },
    {
      "cell_type": "code",
      "source": [
        "# getting injury status of free agents (not on rosters)\n",
        "\n",
        "free_agents = league.free_agents()\n",
        "i=0\n",
        "for player in free_agents:\n",
        "  player_obj = free_agents[i]\n",
        "  print(f\"Player: {player_obj.name}, Injury Status: {player_obj.injuryStatus}, Injured: {player_obj.injured}\")\n",
        "  i+=1"
      ],
      "metadata": {
        "id": "B8g3WFWUKHpx"
      },
      "execution_count": null,
      "outputs": []
    },
    {
      "cell_type": "code",
      "source": [
        "# getting injury status of players on rosters\n",
        "for team in league.teams:\n",
        "    print(f\"\\nTeam: {team.team_name}\")\n",
        "    for player in team.roster:\n",
        "        print(f\"Player: {player.name}, Injury Status: {player.injuryStatus}, Injured: {player.injured}\")"
      ],
      "metadata": {
        "id": "TZkMkMWGNE2R"
      },
      "execution_count": null,
      "outputs": []
    },
    {
      "cell_type": "code",
      "source": [
        "# getting starting roster for each week\n",
        "\n",
        "for team in league.teams:\n",
        "    print(f\"\\nTeam: {team.team_name} (Week {week})\")\n",
        "\n",
        "    # Get the team's roster for the given week\n",
        "    for player in team.roster:\n",
        "        #if player.lineupSlot != \"BE\" and player.lineupSlot != \"IR\":  # Exclude Bench and IR players\n",
        "            print(f\"  - {player.name} ({player.lineupSlot})\")\n"
      ],
      "metadata": {
        "id": "NVRJeM9_Nm-d"
      },
      "execution_count": null,
      "outputs": []
    },
    {
      "cell_type": "markdown",
      "source": [
        "**Getting the fantasy team rosters - will use to join to player data to maintain team assigments**"
      ],
      "metadata": {
        "id": "W-jJAhPvssjm"
      }
    },
    {
      "cell_type": "code",
      "source": [
        "# Define the range of weeks\n",
        "weeks = range(1, 19)  # Weeks 1 to 18\n",
        "\n",
        "# Create an empty list to store data\n",
        "all_weeks_roster = []\n",
        "\n",
        "# Loop through each week and get the roster data\n",
        "for week in weeks:\n",
        "    week_data = []  # Temporary storage for current week's data\n",
        "\n",
        "    for team in league.teams:\n",
        "        team_name = team.team_name  # Fantasy Team Name\n",
        "\n",
        "        for player in team.roster:\n",
        "            week_data.append({\n",
        "                \"cur_Fteam\": team_name,\n",
        "                \"week\": week,\n",
        "                \"espn_id\": player.playerId,  # ESPN Unique Player ID\n",
        "                \"cur_roster_slot\": player.position if player.lineupSlot != \"BE\" else \"Bench\"\n",
        "            })\n",
        "\n",
        "    # If no data is returned for this week, stop iterating\n",
        "    if not week_data:\n",
        "        print(f\"No data found for Week {week}. Stopping iteration.\")\n",
        "        break  # Stop looping when a week has no data\n",
        "\n",
        "    # Add this week's data to the master list\n",
        "    all_weeks_roster.extend(week_data)\n",
        "\n",
        "# Convert to DataFrame\n",
        "weekly_rosters = pd.DataFrame(all_weeks_roster)\n",
        "\n",
        "cur_roster = weekly_rosters[weekly_rosters['week'] == weekly_rosters['week'].max()].drop('week', axis=1)\n",
        "print(cur_roster)"
      ],
      "metadata": {
        "id": "wkEwJQ3qWH8P",
        "colab": {
          "base_uri": "https://localhost:8080/"
        },
        "outputId": "7e06716e-753e-4926-d739-5f094e7fa6b3"
      },
      "execution_count": 65,
      "outputs": [
        {
          "output_type": "stream",
          "name": "stdout",
          "text": [
            "             cur_Fteam  espn_id cur_roster_slot\n",
            "2720  Fightin' Furries  3116406              WR\n",
            "2721  Fightin' Furries  4361529              RB\n",
            "2722  Fightin' Furries  3116385           Bench\n",
            "2723  Fightin' Furries  3139477              QB\n",
            "2724  Fightin' Furries  4385690           Bench\n",
            "...                ...      ...             ...\n",
            "2875   bungalicious  💅  4243537           Bench\n",
            "2876   bungalicious  💅  4689936               K\n",
            "2877   bungalicious  💅  3912547              QB\n",
            "2878   bungalicious  💅   -16011            D/ST\n",
            "2879   bungalicious  💅  4426385              RB\n",
            "\n",
            "[160 rows x 3 columns]\n"
          ]
        }
      ]
    },
    {
      "cell_type": "markdown",
      "source": [
        "### **Getting statistical data from xlsx files**"
      ],
      "metadata": {
        "id": "Pqurr9qovF3M"
      }
    },
    {
      "cell_type": "code",
      "source": [
        "from google.colab import drive\n",
        "drive.mount('/content/drive', force_remount = True)"
      ],
      "metadata": {
        "id": "LNbk_KpjvRsH",
        "outputId": "376b406c-6d40-4afa-9ffb-58646874187e",
        "colab": {
          "base_uri": "https://localhost:8080/"
        }
      },
      "execution_count": 66,
      "outputs": [
        {
          "output_type": "stream",
          "name": "stdout",
          "text": [
            "Mounted at /content/drive\n"
          ]
        }
      ]
    },
    {
      "cell_type": "code",
      "source": [
        "import pandas as pd\n",
        "\n",
        "file_path = \"/content/drive/My Drive/ff_data.xlsx\"\n",
        "\n",
        "# Load specific sheets\n",
        "season_stats_all = pd.read_excel(file_path, sheet_name=\"Season\", engine=\"openpyxl\")\n",
        "weekly_stats_all = pd.read_excel(file_path, sheet_name=\"Weekly\", engine=\"openpyxl\")\n",
        "\n",
        "# Display first few rows\n",
        "print(season_stats_all.head())\n",
        "print(weekly_stats_all.head())"
      ],
      "metadata": {
        "id": "W83MSS6X1O2C",
        "outputId": "0c295154-cfdf-48b8-e2de-4a9feed4295b",
        "colab": {
          "base_uri": "https://localhost:8080/"
        }
      },
      "execution_count": 56,
      "outputs": [
        {
          "output_type": "stream",
          "name": "stdout",
          "text": [
            "   season   player_id player_display_name team position  games_played  \\\n",
            "0    2021  00-0019596           Tom Brady   TB       QB          20.0   \n",
            "1    2021  00-0022924  Ben Roethlisberger  PIT       QB          18.0   \n",
            "2    2021  00-0023459       Aaron Rodgers   GB       QB          17.0   \n",
            "3    2021  00-0023682    Ryan Fitzpatrick  WAS       QB           1.0   \n",
            "4    2021  00-0024243      Marcedes Lewis   GB       TE          14.0   \n",
            "\n",
            "   completions  attempts  comp%  passing_yards  ...  total_st_tds  st_tds_pg  \\\n",
            "0        573.0     847.0  67.65         6187.0  ...           NaN        NaN   \n",
            "1        448.0     693.0  64.65         4170.0  ...           NaN        NaN   \n",
            "2        386.0     560.0  68.93         4340.0  ...           NaN        NaN   \n",
            "3          3.0       6.0  50.00           13.0  ...           NaN        NaN   \n",
            "4          0.0       0.0    NaN            0.0  ...           NaN        NaN   \n",
            "\n",
            "   total_fp  fp_pg  espn_id                name   age  height  weight  \\\n",
            "0       NaN    NaN   2330.0           Tom Brady  47.6    76.0   225.0   \n",
            "1       NaN    NaN   5536.0  Ben Roethlisberger  43.0    77.0   240.0   \n",
            "2       NaN    NaN   8439.0       Aaron Rodgers  41.3    74.0   223.0   \n",
            "3       NaN    NaN   8664.0    Ryan Fitzpatrick  40.3    74.0   228.0   \n",
            "4       NaN    NaN   9614.0      Marcedes Lewis  40.8    78.0   267.0   \n",
            "\n",
            "        college  \n",
            "0      Michigan  \n",
            "1  Miami (Ohio)  \n",
            "2    California  \n",
            "3       Harvard  \n",
            "4          UCLA  \n",
            "\n",
            "[5 rows x 91 columns]\n",
            "    player_id player_name player_display_name position position_group  \\\n",
            "0  00-0019596     T.Brady           Tom Brady       QB             QB   \n",
            "1  00-0019596     T.Brady           Tom Brady       QB             QB   \n",
            "2  00-0019596     T.Brady           Tom Brady       QB             QB   \n",
            "3  00-0019596     T.Brady           Tom Brady       QB             QB   \n",
            "4  00-0019596     T.Brady           Tom Brady       QB             QB   \n",
            "\n",
            "                                        headshot_url recent_team  season  \\\n",
            "0  https://static.www.nfl.com/image/private/f_aut...          TB    2021   \n",
            "1  https://static.www.nfl.com/image/private/f_aut...          TB    2021   \n",
            "2  https://static.www.nfl.com/image/private/f_aut...          TB    2021   \n",
            "3  https://static.www.nfl.com/image/private/f_aut...          TB    2021   \n",
            "4  https://static.www.nfl.com/image/private/f_aut...          TB    2021   \n",
            "\n",
            "   week season_type  ... total_points_allowed  yards_points  points_fp  \\\n",
            "0     1         REG  ...                  NaN           NaN        NaN   \n",
            "1     2         REG  ...                  NaN           NaN        NaN   \n",
            "2     3         REG  ...                  NaN           NaN        NaN   \n",
            "3     4         REG  ...                  NaN           NaN        NaN   \n",
            "4     5         REG  ...                  NaN           NaN        NaN   \n",
            "\n",
            "   st_tds  espn_id       name   age  height  weight   college  \n",
            "0     NaN   2330.0  Tom Brady  47.6    76.0   225.0  Michigan  \n",
            "1     NaN   2330.0  Tom Brady  47.6    76.0   225.0  Michigan  \n",
            "2     NaN   2330.0  Tom Brady  47.6    76.0   225.0  Michigan  \n",
            "3     NaN   2330.0  Tom Brady  47.6    76.0   225.0  Michigan  \n",
            "4     NaN   2330.0  Tom Brady  47.6    76.0   225.0  Michigan  \n",
            "\n",
            "[5 rows x 114 columns]\n"
          ]
        }
      ]
    },
    {
      "cell_type": "markdown",
      "source": [
        "## **Joining current fantasy team roster data with weekly and season data**"
      ],
      "metadata": {
        "id": "BghXacKNsq4x"
      }
    },
    {
      "cell_type": "markdown",
      "source": [
        "### *Season data*"
      ],
      "metadata": {
        "id": "DA1_Yyt9tHwH"
      }
    },
    {
      "cell_type": "code",
      "source": [
        "season_stats_all = pd.merge(season_stats_all, cur_roster, on=\"espn_id\", how=\"left\")\n",
        "\n",
        "season_stats_all.loc[\n",
        "    (season_stats_all['season'] == 2024) &\n",
        "    (season_stats_all['cur_Fteam'] != 'FA') &\n",
        "    (season_stats_all['cur_roster_slot'] != 'FA'),\n",
        "    ['cur_Fteam', 'cur_roster_slot']\n",
        "] = 'FA'"
      ],
      "metadata": {
        "id": "363yeLKgqfll"
      },
      "execution_count": 67,
      "outputs": []
    },
    {
      "cell_type": "code",
      "source": [
        "print(season_stats_all.head(10))"
      ],
      "metadata": {
        "id": "ezKgyJJUw6SB",
        "outputId": "d73fb19f-7193-4e37-bb6a-91508a8e8be5",
        "colab": {
          "base_uri": "https://localhost:8080/"
        }
      },
      "execution_count": 70,
      "outputs": [
        {
          "output_type": "stream",
          "name": "stdout",
          "text": [
            "   season   player_id player_display_name      team position  games_played  \\\n",
            "0    2021  00-0019596           Tom Brady        TB       QB          20.0   \n",
            "1    2021  00-0022924  Ben Roethlisberger       PIT       QB          18.0   \n",
            "2    2021  00-0023459       Aaron Rodgers        GB       QB          17.0   \n",
            "3    2021  00-0023682    Ryan Fitzpatrick       WAS       QB           1.0   \n",
            "4    2021  00-0024243      Marcedes Lewis        GB       TE          14.0   \n",
            "5    2021  00-0025394     Adrian Peterson  TEN, SEA       RB           4.0   \n",
            "6    2021  00-0026035      Danny Amendola       HOU       WR           8.0   \n",
            "7    2021  00-0026143           Matt Ryan       ATL       QB          17.0   \n",
            "8    2021  00-0026158          Joe Flacco       NYJ       QB           2.0   \n",
            "9    2021  00-0026189      DeSean Jackson    LA, LV       WR          16.0   \n",
            "\n",
            "   completions  attempts  comp%  passing_yards  ...  total_fp  fp_pg  espn_id  \\\n",
            "0        573.0     847.0  67.65         6187.0  ...       NaN    NaN   2330.0   \n",
            "1        448.0     693.0  64.65         4170.0  ...       NaN    NaN   5536.0   \n",
            "2        386.0     560.0  68.93         4340.0  ...       NaN    NaN   8439.0   \n",
            "3          3.0       6.0  50.00           13.0  ...       NaN    NaN   8664.0   \n",
            "4          0.0       0.0    NaN            0.0  ...       NaN    NaN   9614.0   \n",
            "5          0.0       0.0    NaN            0.0  ...       NaN    NaN  10452.0   \n",
            "6          0.0       1.0   0.00            0.0  ...       NaN    NaN  11674.0   \n",
            "7        375.0     560.0  66.96         3968.0  ...       NaN    NaN  11237.0   \n",
            "8         27.0      42.0  64.29          338.0  ...       NaN    NaN  11252.0   \n",
            "9          0.0       0.0    NaN            0.0  ...       NaN    NaN  11283.0   \n",
            "\n",
            "                 name   age  height  weight         college  cur_Fteam  \\\n",
            "0           Tom Brady  47.6    76.0   225.0        Michigan        NaN   \n",
            "1  Ben Roethlisberger  43.0    77.0   240.0    Miami (Ohio)        NaN   \n",
            "2       Aaron Rodgers  41.3    74.0   223.0      California        NaN   \n",
            "3    Ryan Fitzpatrick  40.3    74.0   228.0         Harvard        NaN   \n",
            "4      Marcedes Lewis  40.8    78.0   267.0            UCLA        NaN   \n",
            "5     Adrian Peterson  39.9    73.0   220.0        Oklahoma        NaN   \n",
            "6      Danny Amendola  37.3    71.0   185.0      Texas Tech        NaN   \n",
            "7           Matt Ryan  39.8    76.0   217.0  Boston College        NaN   \n",
            "8          Joe Flacco  40.2    78.0   230.0        Delaware        NaN   \n",
            "9      DeSean Jackson  37.2    70.0   175.0      California        NaN   \n",
            "\n",
            "   cur_roster_slot  \n",
            "0              NaN  \n",
            "1              NaN  \n",
            "2              NaN  \n",
            "3              NaN  \n",
            "4              NaN  \n",
            "5              NaN  \n",
            "6              NaN  \n",
            "7              NaN  \n",
            "8              NaN  \n",
            "9              NaN  \n",
            "\n",
            "[10 rows x 93 columns]\n"
          ]
        }
      ]
    },
    {
      "cell_type": "markdown",
      "source": [
        "### *Weekly data*"
      ],
      "metadata": {
        "id": "OfGbdi8BtOI_"
      }
    },
    {
      "cell_type": "code",
      "source": [
        "weekly_stats_all = pd.merge(weekly_stats_all, weekly_rosters, on=[\"espn_id\", \"week\"], how=\"left\")\n",
        "\n",
        "weekly_stats_all.loc[\n",
        "    (weekly_stats_all['season'] == 2024) &\n",
        "    (weekly_stats_all['cur_Fteam'] != 'FA') &\n",
        "    (weekly_stats_all['cur_roster_slot'] != 'FA'),\n",
        "    ['cur_Fteam', 'cur_roster_slot']\n",
        "] = 'FA'"
      ],
      "metadata": {
        "id": "5Xgjh3_ftT9B"
      },
      "execution_count": 68,
      "outputs": []
    },
    {
      "cell_type": "code",
      "source": [
        "print(weekly_stats_all.head(10))"
      ],
      "metadata": {
        "id": "miWV9babw09R"
      },
      "execution_count": null,
      "outputs": []
    },
    {
      "cell_type": "markdown",
      "source": [
        "# **Getting matchup data**"
      ],
      "metadata": {
        "id": "RZglmALWxlN6"
      }
    },
    {
      "cell_type": "code",
      "source": [
        "total_weeks = league.settings.reg_season_count  # Regular season length\n",
        "\n",
        "# Initialize records dict\n",
        "team_records = {team.team_name: {'W': 0, 'L': 0} for team in league.teams}\n",
        "\n",
        "# Store all weekly matchups and records\n",
        "matchups_all_weeks = []\n",
        "\n",
        "# Loop through each week\n",
        "for week in range(1, total_weeks + 1):\n",
        "    scoreboard = league.scoreboard(week=week)\n",
        "\n",
        "    for matchup in scoreboard:\n",
        "        home = matchup.home_team.team_name\n",
        "        away = matchup.away_team.team_name\n",
        "        home_score = matchup.home_score\n",
        "        away_score = matchup.away_score\n",
        "\n",
        "        # Determine winner and update records\n",
        "        if home_score > away_score:\n",
        "            team_records[home]['W'] += 1\n",
        "            team_records[away]['L'] += 1\n",
        "        elif home_score < away_score:\n",
        "            team_records[away]['W'] += 1\n",
        "            team_records[home]['L'] += 1\n",
        "        else:\n",
        "            # Tie case (optional)\n",
        "            pass\n",
        "\n",
        "        # Record after this week\n",
        "        home_record = f\"{team_records[home]['W']}-{team_records[home]['L']}\"\n",
        "        away_record = f\"{team_records[away]['W']}-{team_records[away]['L']}\"\n",
        "\n",
        "        matchups_all_weeks.append({\n",
        "            'week': week,\n",
        "            'home_team': home,\n",
        "            'away_team': away,\n",
        "            'home_score': home_score,\n",
        "            'away_score': away_score,\n",
        "            'home_record': home_record,\n",
        "            'away_record': away_record\n",
        "        })\n",
        "\n",
        "# Convert to DataFrame\n",
        "weekly_matchup_data = pd.DataFrame(matchups_all_weeks)\n",
        "\n",
        "# Display the result\n",
        "print(weekly_matchup_data)"
      ],
      "metadata": {
        "id": "4x9gYXkoxoRV",
        "outputId": "1da4e3ec-2d08-49dd-d86e-48004b57abc0",
        "colab": {
          "base_uri": "https://localhost:8080/"
        }
      },
      "execution_count": 72,
      "outputs": [
        {
          "output_type": "stream",
          "name": "stdout",
          "text": [
            "    week              home_team              away_team  home_score  \\\n",
            "0      1       Bucktown Bandits       Graham’s Groupie        73.0   \n",
            "1      1        bungalicious  💅       Fightin' Furries       101.0   \n",
            "2      1              bird gang      Salmon LipBalm !!        59.0   \n",
            "3      1  pop-pop's bible study              Quon Solo        79.0   \n",
            "4      1            Jen-eral ⚔️     Captain Sweatpants        82.0   \n",
            "..   ...                    ...                    ...         ...   \n",
            "65    14       Graham’s Groupie       Bucktown Bandits       143.0   \n",
            "66    14      Salmon LipBalm !!       Fightin' Furries       115.0   \n",
            "67    14     Captain Sweatpants              Quon Solo        88.0   \n",
            "68    14            Jen-eral ⚔️  pop-pop's bible study        68.0   \n",
            "69    14              bird gang        bungalicious  💅        81.0   \n",
            "\n",
            "    away_score home_record away_record  \n",
            "0         96.0         0-1         1-0  \n",
            "1         94.0         1-0         0-1  \n",
            "2        101.0         0-1         1-0  \n",
            "3         97.0         0-1         1-0  \n",
            "4        110.0         0-1         1-0  \n",
            "..         ...         ...         ...  \n",
            "65        98.0         6-8        3-11  \n",
            "66        78.0        12-2         6-8  \n",
            "67        85.0         6-8         7-7  \n",
            "68       111.0        10-4         8-6  \n",
            "69        95.0        2-12        10-4  \n",
            "\n",
            "[70 rows x 7 columns]\n"
          ]
        }
      ]
    }
  ]
}