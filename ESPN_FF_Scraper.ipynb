{
  "nbformat": 4,
  "nbformat_minor": 0,
  "metadata": {
    "colab": {
      "provenance": [],
      "gpuType": "T4",
      "include_colab_link": true
    },
    "kernelspec": {
      "name": "python3",
      "display_name": "Python 3"
    },
    "language_info": {
      "name": "python"
    },
    "accelerator": "GPU"
  },
  "cells": [
    {
      "cell_type": "markdown",
      "metadata": {
        "id": "view-in-github",
        "colab_type": "text"
      },
      "source": [
        "<a href=\"https://colab.research.google.com/github/bradymiller2310/FantasyFootballDashboard/blob/main/ESPN_FF_Scraper.ipynb\" target=\"_parent\"><img src=\"https://colab.research.google.com/assets/colab-badge.svg\" alt=\"Open In Colab\"/></a>"
      ]
    },
    {
      "cell_type": "code",
      "source": [
        "!pip install espn-api\n",
        "!pip install pandas\n",
        "!pip install openpyxl\n",
        "\n",
        "#pip uninstall -y numpy catboost\n",
        "!pip install numpy==1.24.4  # Safe version compatible with catboost\n",
        "!pip install catboost --no-cache-dir"
      ],
      "metadata": {
        "colab": {
          "base_uri": "https://localhost:8080/"
        },
        "id": "iI2Vhi-lpDtI",
        "outputId": "927298f1-2a43-4f76-b3af-b87da90c71f2"
      },
      "execution_count": 61,
      "outputs": [
        {
          "output_type": "stream",
          "name": "stdout",
          "text": [
            "Requirement already satisfied: espn-api in /usr/local/lib/python3.11/dist-packages (0.44.1)\n",
            "Requirement already satisfied: requests<3.0.0,>=2.0.0 in /usr/local/lib/python3.11/dist-packages (from espn-api) (2.32.3)\n",
            "Requirement already satisfied: urllib3<=2.2.3 in /usr/local/lib/python3.11/dist-packages (from espn-api) (2.2.3)\n",
            "Requirement already satisfied: charset-normalizer<4,>=2 in /usr/local/lib/python3.11/dist-packages (from requests<3.0.0,>=2.0.0->espn-api) (3.4.1)\n",
            "Requirement already satisfied: idna<4,>=2.5 in /usr/local/lib/python3.11/dist-packages (from requests<3.0.0,>=2.0.0->espn-api) (3.10)\n",
            "Requirement already satisfied: certifi>=2017.4.17 in /usr/local/lib/python3.11/dist-packages (from requests<3.0.0,>=2.0.0->espn-api) (2025.1.31)\n",
            "Requirement already satisfied: pandas in /usr/local/lib/python3.11/dist-packages (2.2.2)\n",
            "Requirement already satisfied: numpy>=1.23.2 in /usr/local/lib/python3.11/dist-packages (from pandas) (1.24.4)\n",
            "Requirement already satisfied: python-dateutil>=2.8.2 in /usr/local/lib/python3.11/dist-packages (from pandas) (2.8.2)\n",
            "Requirement already satisfied: pytz>=2020.1 in /usr/local/lib/python3.11/dist-packages (from pandas) (2025.2)\n",
            "Requirement already satisfied: tzdata>=2022.7 in /usr/local/lib/python3.11/dist-packages (from pandas) (2025.2)\n",
            "Requirement already satisfied: six>=1.5 in /usr/local/lib/python3.11/dist-packages (from python-dateutil>=2.8.2->pandas) (1.17.0)\n",
            "Requirement already satisfied: openpyxl in /usr/local/lib/python3.11/dist-packages (3.1.5)\n",
            "Requirement already satisfied: et-xmlfile in /usr/local/lib/python3.11/dist-packages (from openpyxl) (2.0.0)\n",
            "Requirement already satisfied: numpy==1.24.4 in /usr/local/lib/python3.11/dist-packages (1.24.4)\n",
            "Requirement already satisfied: catboost in /usr/local/lib/python3.11/dist-packages (1.2.7)\n",
            "Requirement already satisfied: graphviz in /usr/local/lib/python3.11/dist-packages (from catboost) (0.20.3)\n",
            "Requirement already satisfied: matplotlib in /usr/local/lib/python3.11/dist-packages (from catboost) (3.10.0)\n",
            "Requirement already satisfied: numpy<2.0,>=1.16.0 in /usr/local/lib/python3.11/dist-packages (from catboost) (1.24.4)\n",
            "Requirement already satisfied: pandas>=0.24 in /usr/local/lib/python3.11/dist-packages (from catboost) (2.2.2)\n",
            "Requirement already satisfied: scipy in /usr/local/lib/python3.11/dist-packages (from catboost) (1.14.1)\n",
            "Requirement already satisfied: plotly in /usr/local/lib/python3.11/dist-packages (from catboost) (5.24.1)\n",
            "Requirement already satisfied: six in /usr/local/lib/python3.11/dist-packages (from catboost) (1.17.0)\n",
            "Requirement already satisfied: python-dateutil>=2.8.2 in /usr/local/lib/python3.11/dist-packages (from pandas>=0.24->catboost) (2.8.2)\n",
            "Requirement already satisfied: pytz>=2020.1 in /usr/local/lib/python3.11/dist-packages (from pandas>=0.24->catboost) (2025.2)\n",
            "Requirement already satisfied: tzdata>=2022.7 in /usr/local/lib/python3.11/dist-packages (from pandas>=0.24->catboost) (2025.2)\n",
            "Requirement already satisfied: contourpy>=1.0.1 in /usr/local/lib/python3.11/dist-packages (from matplotlib->catboost) (1.3.1)\n",
            "Requirement already satisfied: cycler>=0.10 in /usr/local/lib/python3.11/dist-packages (from matplotlib->catboost) (0.12.1)\n",
            "Requirement already satisfied: fonttools>=4.22.0 in /usr/local/lib/python3.11/dist-packages (from matplotlib->catboost) (4.56.0)\n",
            "Requirement already satisfied: kiwisolver>=1.3.1 in /usr/local/lib/python3.11/dist-packages (from matplotlib->catboost) (1.4.8)\n",
            "Requirement already satisfied: packaging>=20.0 in /usr/local/lib/python3.11/dist-packages (from matplotlib->catboost) (24.2)\n",
            "Requirement already satisfied: pillow>=8 in /usr/local/lib/python3.11/dist-packages (from matplotlib->catboost) (11.1.0)\n",
            "Requirement already satisfied: pyparsing>=2.3.1 in /usr/local/lib/python3.11/dist-packages (from matplotlib->catboost) (3.2.3)\n",
            "Requirement already satisfied: tenacity>=6.2.0 in /usr/local/lib/python3.11/dist-packages (from plotly->catboost) (9.0.0)\n"
          ]
        }
      ]
    },
    {
      "cell_type": "code",
      "execution_count": 62,
      "metadata": {
        "id": "gV03Pq9poyaX"
      },
      "outputs": [],
      "source": [
        "from espn_api.football import League\n",
        "import pandas as pd\n",
        "import numpy as np\n",
        "from catboost import CatBoostRegressor, Pool"
      ]
    },
    {
      "cell_type": "code",
      "source": [
        "league = League(league_id=1292514, year=2024, espn_s2=\"AECPNWyLvfnlcFfE0Xb73O%2BP5ZU9n1G%2FSnP3ixxvuqSwQRcQe7bEQfBuz3YBNeRluTYofdhX2aTajj0jZSF%2B8i9ewdk8Dwf6p9G215F2FjmI06wPKyhjleL4WzaT3PCiP15FDXe55YNMkQeJXgbsCuK1VHbdQ1Nxidq0JxAHezRn2zAt6WwNtSqrF0k2nNHV33VpJqPmMk4msFmaoCaz0UAp95xxy1YmXyEUnZWgA60HJkbsgYkZ8AaESwFENsPYdUvKYqCwnZLjvgI5varhOTDYekjvokdtaCoxJfzOdGLJ3g%3D%3D\", swid=\"{D68FE5F2-46CE-421C-B248-DDA01360BB34}\")\n",
        "print(league.teams)  #Teams in league"
      ],
      "metadata": {
        "colab": {
          "base_uri": "https://localhost:8080/"
        },
        "id": "DFytiAtEo5sl",
        "outputId": "aa18aac5-7390-4846-ed76-a74b81f061ff"
      },
      "execution_count": 63,
      "outputs": [
        {
          "output_type": "stream",
          "name": "stdout",
          "text": [
            "[Team(Fightin' Furries), Team(Quon Solo), Team(Jen-eral ⚔️), Team(Captain Sweatpants), Team(Salmon LipBalm !!), Team(Graham’s Groupie), Team(pop-pop's bible study), Team(Bucktown Bandits), Team(bird gang), Team(bungalicious  💅)]\n"
          ]
        }
      ]
    },
    {
      "cell_type": "markdown",
      "source": [
        "## **Testing out api functionalities**\n",
        "*This section contains code chunks that load in various data - used to see what we had access to.*"
      ],
      "metadata": {
        "id": "IFG7HhNzQp4h"
      }
    },
    {
      "cell_type": "code",
      "source": [
        "for week in range(1, 15):\n",
        "    print(f\"Week {week} Schedule:\")\n",
        "    for matchup in league.scoreboard(week=week):\n",
        "        print(f\"{matchup.home_team} vs {matchup.away_team}\")"
      ],
      "metadata": {
        "id": "5W3DrXSnpPOv",
        "outputId": "2619c5ca-ccc3-4366-8cb9-1f019b0d3b72",
        "colab": {
          "base_uri": "https://localhost:8080/"
        }
      },
      "execution_count": 64,
      "outputs": [
        {
          "output_type": "stream",
          "name": "stdout",
          "text": [
            "Week 1 Schedule:\n",
            "Team(Bucktown Bandits) vs Team(Graham’s Groupie)\n",
            "Team(bungalicious  💅) vs Team(Fightin' Furries)\n",
            "Team(bird gang) vs Team(Salmon LipBalm !!)\n",
            "Team(pop-pop's bible study) vs Team(Quon Solo)\n",
            "Team(Jen-eral ⚔️) vs Team(Captain Sweatpants)\n",
            "Week 2 Schedule:\n",
            "Team(Fightin' Furries) vs Team(Salmon LipBalm !!)\n",
            "Team(Quon Solo) vs Team(Bucktown Bandits)\n",
            "Team(Captain Sweatpants) vs Team(Graham’s Groupie)\n",
            "Team(pop-pop's bible study) vs Team(bungalicious  💅)\n",
            "Team(Jen-eral ⚔️) vs Team(bird gang)\n",
            "Week 3 Schedule:\n",
            "Team(Quon Solo) vs Team(Captain Sweatpants)\n",
            "Team(Fightin' Furries) vs Team(pop-pop's bible study)\n",
            "Team(Salmon LipBalm !!) vs Team(Jen-eral ⚔️)\n",
            "Team(Bucktown Bandits) vs Team(bungalicious  💅)\n",
            "Team(Graham’s Groupie) vs Team(bird gang)\n",
            "Week 4 Schedule:\n",
            "Team(pop-pop's bible study) vs Team(Jen-eral ⚔️)\n",
            "Team(bungalicious  💅) vs Team(Quon Solo)\n",
            "Team(bird gang) vs Team(Captain Sweatpants)\n",
            "Team(Bucktown Bandits) vs Team(Fightin' Furries)\n",
            "Team(Graham’s Groupie) vs Team(Salmon LipBalm !!)\n",
            "Week 5 Schedule:\n",
            "Team(bungalicious  💅) vs Team(bird gang)\n",
            "Team(pop-pop's bible study) vs Team(Bucktown Bandits)\n",
            "Team(Jen-eral ⚔️) vs Team(Graham’s Groupie)\n",
            "Team(Quon Solo) vs Team(Fightin' Furries)\n",
            "Team(Captain Sweatpants) vs Team(Salmon LipBalm !!)\n",
            "Week 6 Schedule:\n",
            "Team(Graham’s Groupie) vs Team(Fightin' Furries)\n",
            "Team(Salmon LipBalm !!) vs Team(Quon Solo)\n",
            "Team(Captain Sweatpants) vs Team(pop-pop's bible study)\n",
            "Team(Jen-eral ⚔️) vs Team(bungalicious  💅)\n",
            "Team(bird gang) vs Team(Bucktown Bandits)\n",
            "Week 7 Schedule:\n",
            "Team(Quon Solo) vs Team(Graham’s Groupie)\n",
            "Team(pop-pop's bible study) vs Team(Salmon LipBalm !!)\n",
            "Team(bungalicious  💅) vs Team(Captain Sweatpants)\n",
            "Team(Bucktown Bandits) vs Team(Jen-eral ⚔️)\n",
            "Team(Fightin' Furries) vs Team(bird gang)\n",
            "Week 8 Schedule:\n",
            "Team(Graham’s Groupie) vs Team(pop-pop's bible study)\n",
            "Team(Salmon LipBalm !!) vs Team(bungalicious  💅)\n",
            "Team(Captain Sweatpants) vs Team(Bucktown Bandits)\n",
            "Team(Jen-eral ⚔️) vs Team(Fightin' Furries)\n",
            "Team(bird gang) vs Team(Quon Solo)\n",
            "Week 9 Schedule:\n",
            "Team(bungalicious  💅) vs Team(Graham’s Groupie)\n",
            "Team(Bucktown Bandits) vs Team(pop-pop's bible study)\n",
            "Team(Salmon LipBalm !!) vs Team(bird gang)\n",
            "Team(Fightin' Furries) vs Team(Quon Solo)\n",
            "Team(Captain Sweatpants) vs Team(Jen-eral ⚔️)\n",
            "Week 10 Schedule:\n",
            "Team(Bucktown Bandits) vs Team(Salmon LipBalm !!)\n",
            "Team(Fightin' Furries) vs Team(bungalicious  💅)\n",
            "Team(Graham’s Groupie) vs Team(Captain Sweatpants)\n",
            "Team(Quon Solo) vs Team(pop-pop's bible study)\n",
            "Team(bird gang) vs Team(Jen-eral ⚔️)\n",
            "Week 11 Schedule:\n",
            "Team(Fightin' Furries) vs Team(Captain Sweatpants)\n",
            "Team(Bucktown Bandits) vs Team(Quon Solo)\n",
            "Team(Jen-eral ⚔️) vs Team(Salmon LipBalm !!)\n",
            "Team(bungalicious  💅) vs Team(pop-pop's bible study)\n",
            "Team(bird gang) vs Team(Graham’s Groupie)\n",
            "Week 12 Schedule:\n",
            "Team(Quon Solo) vs Team(Jen-eral ⚔️)\n",
            "Team(pop-pop's bible study) vs Team(Fightin' Furries)\n",
            "Team(Captain Sweatpants) vs Team(bird gang)\n",
            "Team(bungalicious  💅) vs Team(Bucktown Bandits)\n",
            "Team(Salmon LipBalm !!) vs Team(Graham’s Groupie)\n",
            "Week 13 Schedule:\n",
            "Team(pop-pop's bible study) vs Team(bird gang)\n",
            "Team(Quon Solo) vs Team(bungalicious  💅)\n",
            "Team(Graham’s Groupie) vs Team(Jen-eral ⚔️)\n",
            "Team(Fightin' Furries) vs Team(Bucktown Bandits)\n",
            "Team(Salmon LipBalm !!) vs Team(Captain Sweatpants)\n",
            "Week 14 Schedule:\n",
            "Team(Graham’s Groupie) vs Team(Bucktown Bandits)\n",
            "Team(Salmon LipBalm !!) vs Team(Fightin' Furries)\n",
            "Team(Captain Sweatpants) vs Team(Quon Solo)\n",
            "Team(Jen-eral ⚔️) vs Team(pop-pop's bible study)\n",
            "Team(bird gang) vs Team(bungalicious  💅)\n"
          ]
        }
      ]
    },
    {
      "cell_type": "code",
      "source": [
        "free_agents = league.free_agents(size=20, position='QB')  # Get top 20 available QBs\n",
        "\n",
        "print(\"Available Free Agents (QB):\")\n",
        "for player in free_agents:\n",
        "    print(f\"  - {player.name} ({player.proTeam})\")"
      ],
      "metadata": {
        "id": "_WP9t9mrqyyF",
        "outputId": "e9783ece-90da-4ac2-96a2-fe7dd26da5c7",
        "colab": {
          "base_uri": "https://localhost:8080/"
        }
      },
      "execution_count": 65,
      "outputs": [
        {
          "output_type": "stream",
          "name": "stdout",
          "text": [
            "Available Free Agents (QB):\n",
            "  - C.J. Stroud (HOU)\n",
            "  - Tua Tagovailoa (MIA)\n",
            "  - Anthony Richardson (IND)\n",
            "  - Aaron Rodgers (None)\n",
            "  - Kirk Cousins (ATL)\n",
            "  - Bryce Young (CAR)\n",
            "  - Michael Penix Jr. (ATL)\n",
            "  - Trevor Lawrence (JAX)\n",
            "  - Jameis Winston (CLE)\n",
            "  - Derek Carr (NO)\n",
            "  - Justin Fields (NYJ)\n",
            "  - Joe Flacco (IND)\n",
            "  - Deshaun Watson (CLE)\n",
            "  - Cooper Rush (BAL)\n",
            "  - Daniel Jones (IND)\n",
            "  - Tom Brady (TB)\n",
            "  - Mason Rudolph (PIT)\n",
            "  - Mac Jones (SF)\n",
            "  - Tommy DeVito (NYG)\n",
            "  - Aidan O'Connell (LV)\n"
          ]
        }
      ]
    },
    {
      "cell_type": "code",
      "source": [
        "for team in league.teams:\n",
        "    print(f\"\\nTeam: {team.team_name}\")\n",
        "    print(\"Roster:\")\n",
        "    for player in team.roster:\n",
        "        print(f\"  - {player.name} ({player.position})\")"
      ],
      "metadata": {
        "id": "Q9sOrwEqrYvv",
        "outputId": "bf2f377f-caac-4a6a-9194-85fee9679409",
        "colab": {
          "base_uri": "https://localhost:8080/"
        }
      },
      "execution_count": 66,
      "outputs": [
        {
          "output_type": "stream",
          "name": "stdout",
          "text": [
            "\n",
            "Team: Fightin' Furries\n",
            "Roster:\n",
            "  - Tyreek Hill (WR)\n",
            "  - Isiah Pacheco (RB)\n",
            "  - Joe Mixon (RB)\n",
            "  - Patrick Mahomes (QB)\n",
            "  - Dalton Kincaid (TE)\n",
            "  - Zay Flowers (WR)\n",
            "  - Jaxon Smith-Njigba (WR)\n",
            "  - Gus Edwards (RB)\n",
            "  - Matthew Stafford (QB)\n",
            "  - Kareem Hunt (RB)\n",
            "  - Broncos D/ST (D/ST)\n",
            "  - David Njoku (TE)\n",
            "  - Caleb Williams (QB)\n",
            "  - DeAndre Hopkins (WR)\n",
            "  - Bills D/ST (D/ST)\n",
            "  - Matthew Wright (K)\n",
            "\n",
            "Team: Quon Solo\n",
            "Roster:\n",
            "  - Justin Jefferson (WR)\n",
            "  - Kyren Williams (RB)\n",
            "  - Marvin Harrison Jr. (WR)\n",
            "  - Mike Evans (WR)\n",
            "  - D'Andre Swift (RB)\n",
            "  - Brian Robinson Jr. (RB)\n",
            "  - Kyler Murray (QB)\n",
            "  - J.K. Dobbins (RB)\n",
            "  - Geno Smith (QB)\n",
            "  - Chris Boswell (K)\n",
            "  - Romeo Doubs (WR)\n",
            "  - Mark Andrews (TE)\n",
            "  - Bears D/ST (D/ST)\n",
            "  - Courtland Sutton (WR)\n",
            "  - Josh Downs (WR)\n",
            "  - Evan Engram (TE)\n",
            "\n",
            "Team: Jen-eral ⚔️\n",
            "Roster:\n",
            "  - Derrick Henry (RB)\n",
            "  - A.J. Brown (WR)\n",
            "  - Alvin Kamara (RB)\n",
            "  - Jalen Hurts (QB)\n",
            "  - Calvin Ridley (WR)\n",
            "  - Raheem Mostert (RB)\n",
            "  - Jets D/ST (D/ST)\n",
            "  - Pat Freiermuth (TE)\n",
            "  - Darnell Mooney (WR)\n",
            "  - Bucky Irving (RB)\n",
            "  - Jayden Reed (WR)\n",
            "  - Dontayvion Wicks (WR)\n",
            "  - Cameron Dicker (K)\n",
            "  - Tank Bigsby (RB)\n",
            "  - Dolphins D/ST (D/ST)\n",
            "  - Jonnu Smith (TE)\n",
            "\n",
            "Team: Captain Sweatpants\n",
            "Roster:\n",
            "  - CeeDee Lamb (WR)\n",
            "  - Garrett Wilson (WR)\n",
            "  - Rachaad White (RB)\n",
            "  - Nico Collins (WR)\n",
            "  - James Conner (RB)\n",
            "  - George Pickens (WR)\n",
            "  - Cowboys D/ST (D/ST)\n",
            "  - Chase McLaughlin (K)\n",
            "  - Jake Elliott (K)\n",
            "  - Bo Nix (QB)\n",
            "  - Mike Gesicki (TE)\n",
            "  - Rico Dowdle (RB)\n",
            "  - Will Dissly (TE)\n",
            "  - Will Levis (QB)\n",
            "  - Chargers D/ST (D/ST)\n",
            "  - Khalil Shakir (WR)\n",
            "\n",
            "Team: Salmon LipBalm !!\n",
            "Roster:\n",
            "  - Bijan Robinson (RB)\n",
            "  - Jahmyr Gibbs (RB)\n",
            "  - Jaylen Waddle (WR)\n",
            "  - Rhamondre Stevenson (RB)\n",
            "  - Davante Adams (WR)\n",
            "  - Jordan Love (QB)\n",
            "  - Ka'imi Fairbairn (K)\n",
            "  - Trey McBride (TE)\n",
            "  - Vikings D/ST (D/ST)\n",
            "  - Chase Brown (RB)\n",
            "  - Brian Thomas Jr. (WR)\n",
            "  - Puka Nacua (WR)\n",
            "  - Hunter Henry (TE)\n",
            "  - Russell Wilson (QB)\n",
            "  - Wil Lutz (K)\n",
            "  - Drake Maye (QB)\n",
            "\n",
            "Team: Graham’s Groupie\n",
            "Roster:\n",
            "  - Ja'Marr Chase (WR)\n",
            "  - James Cook (RB)\n",
            "  - Drake London (WR)\n",
            "  - Josh Allen (QB)\n",
            "  - Najee Harris (RB)\n",
            "  - Amari Cooper (WR)\n",
            "  - Jayden Daniels (QB)\n",
            "  - Jauan Jennings (WR)\n",
            "  - Tyrone Tracy Jr. (RB)\n",
            "  - Travis Etienne Jr. (RB)\n",
            "  - Jordan Addison (WR)\n",
            "  - T.J. Hockenson (TE)\n",
            "  - Jason Sanders (K)\n",
            "  - Ravens D/ST (D/ST)\n",
            "  - Isaac Guerendo (RB)\n",
            "  - Alexander Mattison (RB)\n",
            "\n",
            "Team: pop-pop's bible study\n",
            "Roster:\n",
            "  - Breece Hall (RB)\n",
            "  - Josh Jacobs (RB)\n",
            "  - Lamar Jackson (QB)\n",
            "  - George Kittle (TE)\n",
            "  - Aaron Jones (RB)\n",
            "  - Terry McLaurin (WR)\n",
            "  - Tyjae Spears (RB)\n",
            "  - Rome Odunze (WR)\n",
            "  - Chiefs D/ST (D/ST)\n",
            "  - Jared Goff (QB)\n",
            "  - Lions D/ST (D/ST)\n",
            "  - Jameson Williams (WR)\n",
            "  - Zach Ertz (TE)\n",
            "  - Christian Watson (WR)\n",
            "  - Justin Tucker (K)\n",
            "  - Packers D/ST (D/ST)\n",
            "\n",
            "Team: Bucktown Bandits\n",
            "Roster:\n",
            "  - Jonathan Taylor (RB)\n",
            "  - Amon-Ra St. Brown (WR)\n",
            "  - De'Von Achane (RB)\n",
            "  - Travis Kelce (TE)\n",
            "  - Cooper Kupp (WR)\n",
            "  - Joe Burrow (QB)\n",
            "  - Tank Dell (WR)\n",
            "  - Tony Pollard (RB)\n",
            "  - Xavier Worthy (WR)\n",
            "  - Jakobi Meyers (WR)\n",
            "  - DJ Moore (WR)\n",
            "  - Cade Otton (TE)\n",
            "  - Jaylen Warren (RB)\n",
            "  - Justin Herbert (QB)\n",
            "  - Buccaneers D/ST (D/ST)\n",
            "  - Brandon Aubrey (K)\n",
            "\n",
            "Team: bird gang\n",
            "Roster:\n",
            "  - Christian McCaffrey (RB)\n",
            "  - DK Metcalf (WR)\n",
            "  - Brandon Aiyuk (WR)\n",
            "  - David Montgomery (RB)\n",
            "  - DeVonta Smith (WR)\n",
            "  - Brock Purdy (QB)\n",
            "  - Stefon Diggs (WR)\n",
            "  - Jake Ferguson (TE)\n",
            "  - Javonte Williams (RB)\n",
            "  - Dallas Goedert (TE)\n",
            "  - Chuba Hubbard (RB)\n",
            "  - Blake Corum (RB)\n",
            "  - DeMario Douglas (WR)\n",
            "  - Baker Mayfield (QB)\n",
            "  - Tyler Bass (K)\n",
            "  - Eagles D/ST (D/ST)\n",
            "\n",
            "Team: bungalicious  💅\n",
            "Roster:\n",
            "  - Saquon Barkley (RB)\n",
            "  - Deebo Samuel Sr. (WR)\n",
            "  - Kenneth Walker III (RB)\n",
            "  - Sam LaPorta (TE)\n",
            "  - Tee Higgins (WR)\n",
            "  - Dak Prescott (QB)\n",
            "  - Malik Nabers (WR)\n",
            "  - Brock Bowers (TE)\n",
            "  - Ty Chandler (RB)\n",
            "  - Jerry Jeudy (WR)\n",
            "  - Chig Okonkwo (TE)\n",
            "  - Gabe Davis (WR)\n",
            "  - Jake Bates (K)\n",
            "  - Sam Darnold (QB)\n",
            "  - Colts D/ST (D/ST)\n",
            "  - Zach Charbonnet (RB)\n"
          ]
        }
      ]
    },
    {
      "cell_type": "code",
      "source": [
        "week_number = 1\n",
        "box_scores = league.box_scores(week=week_number)\n",
        "\n",
        "for matchup in box_scores:\n",
        "    print(f\"\\nMatchup: {matchup.home_team} vs {matchup.away_team}\")\n",
        "    print(f\"  Home Score: {matchup.home_score}\")\n",
        "    print(f\"  Away Score: {matchup.away_score}\")"
      ],
      "metadata": {
        "id": "Nz8qaA22roRC",
        "outputId": "8f090469-d3be-4870-f176-29252281bd27",
        "colab": {
          "base_uri": "https://localhost:8080/"
        }
      },
      "execution_count": 67,
      "outputs": [
        {
          "output_type": "stream",
          "name": "stdout",
          "text": [
            "\n",
            "Matchup: Team(Bucktown Bandits) vs Team(Graham’s Groupie)\n",
            "  Home Score: 73.0\n",
            "  Away Score: 96.0\n",
            "\n",
            "Matchup: Team(bungalicious  💅) vs Team(Fightin' Furries)\n",
            "  Home Score: 101.0\n",
            "  Away Score: 94.0\n",
            "\n",
            "Matchup: Team(bird gang) vs Team(Salmon LipBalm !!)\n",
            "  Home Score: 59.0\n",
            "  Away Score: 101.0\n",
            "\n",
            "Matchup: Team(pop-pop's bible study) vs Team(Quon Solo)\n",
            "  Home Score: 79.0\n",
            "  Away Score: 97.0\n",
            "\n",
            "Matchup: Team(Jen-eral ⚔️) vs Team(Captain Sweatpants)\n",
            "  Home Score: 82.0\n",
            "  Away Score: 110.0\n"
          ]
        }
      ]
    },
    {
      "cell_type": "code",
      "source": [
        "# getting injury status of free agents (not on rosters)\n",
        "\n",
        "free_agents = league.free_agents()\n",
        "i=0\n",
        "for player in free_agents:\n",
        "  player_obj = free_agents[i]\n",
        "  print(f\"Player: {player_obj.name}, Injury Status: {player_obj.injuryStatus}, Injured: {player_obj.injured}\")\n",
        "  i+=1"
      ],
      "metadata": {
        "id": "B8g3WFWUKHpx",
        "outputId": "f826eacd-ef34-4b9f-afa8-76be8b41ef8e",
        "colab": {
          "base_uri": "https://localhost:8080/"
        }
      },
      "execution_count": 68,
      "outputs": [
        {
          "output_type": "stream",
          "name": "stdout",
          "text": [
            "Player: Ladd McConkey, Injury Status: ACTIVE, Injured: False\n",
            "Player: Keenan Allen, Injury Status: ACTIVE, Injured: False\n",
            "Player: Michael Pittman Jr., Injury Status: QUESTIONABLE, Injured: False\n",
            "Player: Steelers D/ST, Injury Status: [], Injured: False\n",
            "Player: C.J. Stroud, Injury Status: ACTIVE, Injured: False\n",
            "Player: Kyle Pitts, Injury Status: ACTIVE, Injured: False\n",
            "Player: Adam Thielen, Injury Status: ACTIVE, Injured: False\n",
            "Player: Chris Olave, Injury Status: QUESTIONABLE, Injured: False\n",
            "Player: Tucker Kraft, Injury Status: ACTIVE, Injured: False\n",
            "Player: 49ers D/ST, Injury Status: [], Injured: False\n",
            "Player: Jerome Ford, Injury Status: QUESTIONABLE, Injured: False\n",
            "Player: Texans D/ST, Injury Status: [], Injured: False\n",
            "Player: Quentin Johnston, Injury Status: ACTIVE, Injured: False\n",
            "Player: Tua Tagovailoa, Injury Status: QUESTIONABLE, Injured: False\n",
            "Player: Nick Chubb, Injury Status: QUESTIONABLE, Injured: False\n",
            "Player: Anthony Richardson, Injury Status: QUESTIONABLE, Injured: False\n",
            "Player: Aaron Rodgers, Injury Status: ACTIVE, Injured: False\n",
            "Player: Tyler Lockett, Injury Status: ACTIVE, Injured: False\n",
            "Player: Austin Ekeler, Injury Status: ACTIVE, Injured: False\n",
            "Player: Keon Coleman, Injury Status: ACTIVE, Injured: False\n",
            "Player: Jalen McMillan, Injury Status: ACTIVE, Injured: False\n",
            "Player: Devin Singletary, Injury Status: ACTIVE, Injured: False\n",
            "Player: Harrison Butker, Injury Status: ACTIVE, Injured: False\n",
            "Player: Dalton Schultz, Injury Status: ACTIVE, Injured: False\n",
            "Player: Kirk Cousins, Injury Status: ACTIVE, Injured: False\n",
            "Player: Bengals D/ST, Injury Status: [], Injured: False\n",
            "Player: Diontae Johnson, Injury Status: ACTIVE, Injured: False\n",
            "Player: Commanders D/ST, Injury Status: [], Injured: False\n",
            "Player: Wan'Dale Robinson, Injury Status: ACTIVE, Injured: False\n",
            "Player: Michael Carter, Injury Status: ACTIVE, Injured: False\n",
            "Player: Chris Godwin, Injury Status: QUESTIONABLE, Injured: False\n",
            "Player: Tyler Allgeier, Injury Status: ACTIVE, Injured: False\n",
            "Player: Saints D/ST, Injury Status: [], Injured: False\n",
            "Player: Jake Moody, Injury Status: ACTIVE, Injured: False\n",
            "Player: Kendre Miller, Injury Status: QUESTIONABLE, Injured: False\n",
            "Player: Cardinals D/ST, Injury Status: [], Injured: False\n",
            "Player: Younghoe Koo, Injury Status: QUESTIONABLE, Injured: False\n",
            "Player: Ameer Abdullah, Injury Status: QUESTIONABLE, Injured: False\n",
            "Player: Browns D/ST, Injury Status: [], Injured: False\n",
            "Player: Falcons D/ST, Injury Status: [], Injured: False\n",
            "Player: Cole Kmet, Injury Status: ACTIVE, Injured: False\n",
            "Player: Jonathon Brooks, Injury Status: QUESTIONABLE, Injured: False\n",
            "Player: Rashee Rice, Injury Status: QUESTIONABLE, Injured: False\n",
            "Player: Evan McPherson, Injury Status: QUESTIONABLE, Injured: False\n",
            "Player: Zack Moss, Injury Status: QUESTIONABLE, Injured: False\n",
            "Player: Hollywood Brown, Injury Status: ACTIVE, Injured: False\n",
            "Player: Christian Kirk, Injury Status: QUESTIONABLE, Injured: False\n",
            "Player: Will Reichard, Injury Status: ACTIVE, Injured: False\n",
            "Player: Braelon Allen, Injury Status: ACTIVE, Injured: False\n",
            "Player: Nick Westbrook-Ikhine, Injury Status: ACTIVE, Injured: False\n"
          ]
        }
      ]
    },
    {
      "cell_type": "code",
      "source": [
        "# getting injury status of players on rosters\n",
        "for team in league.teams:\n",
        "    print(f\"\\nTeam: {team.team_name}\")\n",
        "    for player in team.roster:\n",
        "        print(f\"Player: {player.name}, Injury Status: {player.injuryStatus}, Injured: {player.injured}\")"
      ],
      "metadata": {
        "id": "TZkMkMWGNE2R",
        "outputId": "86f8052e-a0fc-4a84-f845-44d2d3132503",
        "colab": {
          "base_uri": "https://localhost:8080/"
        }
      },
      "execution_count": 69,
      "outputs": [
        {
          "output_type": "stream",
          "name": "stdout",
          "text": [
            "\n",
            "Team: Fightin' Furries\n",
            "Player: Tyreek Hill, Injury Status: QUESTIONABLE, Injured: False\n",
            "Player: Isiah Pacheco, Injury Status: ACTIVE, Injured: False\n",
            "Player: Joe Mixon, Injury Status: ACTIVE, Injured: False\n",
            "Player: Patrick Mahomes, Injury Status: ACTIVE, Injured: False\n",
            "Player: Dalton Kincaid, Injury Status: ACTIVE, Injured: False\n",
            "Player: Zay Flowers, Injury Status: QUESTIONABLE, Injured: False\n",
            "Player: Jaxon Smith-Njigba, Injury Status: ACTIVE, Injured: False\n",
            "Player: Gus Edwards, Injury Status: ACTIVE, Injured: False\n",
            "Player: Matthew Stafford, Injury Status: ACTIVE, Injured: False\n",
            "Player: Kareem Hunt, Injury Status: ACTIVE, Injured: False\n",
            "Player: Broncos D/ST, Injury Status: NORMAL, Injured: False\n",
            "Player: David Njoku, Injury Status: QUESTIONABLE, Injured: False\n",
            "Player: Caleb Williams, Injury Status: QUESTIONABLE, Injured: False\n",
            "Player: DeAndre Hopkins, Injury Status: ACTIVE, Injured: False\n",
            "Player: Bills D/ST, Injury Status: NORMAL, Injured: False\n",
            "Player: Matthew Wright, Injury Status: ACTIVE, Injured: False\n",
            "\n",
            "Team: Quon Solo\n",
            "Player: Justin Jefferson, Injury Status: ACTIVE, Injured: False\n",
            "Player: Kyren Williams, Injury Status: ACTIVE, Injured: False\n",
            "Player: Marvin Harrison Jr., Injury Status: ACTIVE, Injured: False\n",
            "Player: Mike Evans, Injury Status: ACTIVE, Injured: False\n",
            "Player: D'Andre Swift, Injury Status: ACTIVE, Injured: False\n",
            "Player: Brian Robinson Jr., Injury Status: ACTIVE, Injured: False\n",
            "Player: Kyler Murray, Injury Status: ACTIVE, Injured: False\n",
            "Player: J.K. Dobbins, Injury Status: ACTIVE, Injured: False\n",
            "Player: Geno Smith, Injury Status: ACTIVE, Injured: False\n",
            "Player: Chris Boswell, Injury Status: ACTIVE, Injured: False\n",
            "Player: Romeo Doubs, Injury Status: QUESTIONABLE, Injured: False\n",
            "Player: Mark Andrews, Injury Status: ACTIVE, Injured: False\n",
            "Player: Bears D/ST, Injury Status: NORMAL, Injured: False\n",
            "Player: Courtland Sutton, Injury Status: ACTIVE, Injured: False\n",
            "Player: Josh Downs, Injury Status: ACTIVE, Injured: False\n",
            "Player: Evan Engram, Injury Status: QUESTIONABLE, Injured: False\n",
            "\n",
            "Team: Jen-eral ⚔️\n",
            "Player: Derrick Henry, Injury Status: ACTIVE, Injured: False\n",
            "Player: A.J. Brown, Injury Status: ACTIVE, Injured: False\n",
            "Player: Alvin Kamara, Injury Status: QUESTIONABLE, Injured: False\n",
            "Player: Jalen Hurts, Injury Status: ACTIVE, Injured: False\n",
            "Player: Calvin Ridley, Injury Status: ACTIVE, Injured: False\n",
            "Player: Raheem Mostert, Injury Status: ACTIVE, Injured: False\n",
            "Player: Jets D/ST, Injury Status: NORMAL, Injured: False\n",
            "Player: Pat Freiermuth, Injury Status: ACTIVE, Injured: False\n",
            "Player: Darnell Mooney, Injury Status: QUESTIONABLE, Injured: False\n",
            "Player: Bucky Irving, Injury Status: ACTIVE, Injured: False\n",
            "Player: Jayden Reed, Injury Status: QUESTIONABLE, Injured: False\n",
            "Player: Dontayvion Wicks, Injury Status: ACTIVE, Injured: False\n",
            "Player: Cameron Dicker, Injury Status: ACTIVE, Injured: False\n",
            "Player: Tank Bigsby, Injury Status: ACTIVE, Injured: False\n",
            "Player: Dolphins D/ST, Injury Status: NORMAL, Injured: False\n",
            "Player: Jonnu Smith, Injury Status: ACTIVE, Injured: False\n",
            "\n",
            "Team: Captain Sweatpants\n",
            "Player: CeeDee Lamb, Injury Status: ACTIVE, Injured: False\n",
            "Player: Garrett Wilson, Injury Status: ACTIVE, Injured: False\n",
            "Player: Rachaad White, Injury Status: ACTIVE, Injured: False\n",
            "Player: Nico Collins, Injury Status: ACTIVE, Injured: False\n",
            "Player: James Conner, Injury Status: QUESTIONABLE, Injured: False\n",
            "Player: George Pickens, Injury Status: ACTIVE, Injured: False\n",
            "Player: Cowboys D/ST, Injury Status: NORMAL, Injured: False\n",
            "Player: Chase McLaughlin, Injury Status: ACTIVE, Injured: False\n",
            "Player: Jake Elliott, Injury Status: ACTIVE, Injured: False\n",
            "Player: Bo Nix, Injury Status: ACTIVE, Injured: False\n",
            "Player: Mike Gesicki, Injury Status: ACTIVE, Injured: False\n",
            "Player: Rico Dowdle, Injury Status: ACTIVE, Injured: False\n",
            "Player: Will Dissly, Injury Status: ACTIVE, Injured: False\n",
            "Player: Will Levis, Injury Status: ACTIVE, Injured: False\n",
            "Player: Chargers D/ST, Injury Status: NORMAL, Injured: False\n",
            "Player: Khalil Shakir, Injury Status: ACTIVE, Injured: False\n",
            "\n",
            "Team: Salmon LipBalm !!\n",
            "Player: Bijan Robinson, Injury Status: ACTIVE, Injured: False\n",
            "Player: Jahmyr Gibbs, Injury Status: ACTIVE, Injured: False\n",
            "Player: Jaylen Waddle, Injury Status: ACTIVE, Injured: False\n",
            "Player: Rhamondre Stevenson, Injury Status: ACTIVE, Injured: False\n",
            "Player: Davante Adams, Injury Status: ACTIVE, Injured: False\n",
            "Player: Jordan Love, Injury Status: ACTIVE, Injured: False\n",
            "Player: Ka'imi Fairbairn, Injury Status: ACTIVE, Injured: False\n",
            "Player: Trey McBride, Injury Status: ACTIVE, Injured: False\n",
            "Player: Vikings D/ST, Injury Status: NORMAL, Injured: False\n",
            "Player: Chase Brown, Injury Status: QUESTIONABLE, Injured: False\n",
            "Player: Brian Thomas Jr., Injury Status: ACTIVE, Injured: False\n",
            "Player: Puka Nacua, Injury Status: ACTIVE, Injured: False\n",
            "Player: Hunter Henry, Injury Status: QUESTIONABLE, Injured: False\n",
            "Player: Russell Wilson, Injury Status: ACTIVE, Injured: False\n",
            "Player: Wil Lutz, Injury Status: ACTIVE, Injured: False\n",
            "Player: Drake Maye, Injury Status: ACTIVE, Injured: False\n",
            "\n",
            "Team: Graham’s Groupie\n",
            "Player: Ja'Marr Chase, Injury Status: ACTIVE, Injured: False\n",
            "Player: James Cook, Injury Status: ACTIVE, Injured: False\n",
            "Player: Drake London, Injury Status: ACTIVE, Injured: False\n",
            "Player: Josh Allen, Injury Status: ACTIVE, Injured: False\n",
            "Player: Najee Harris, Injury Status: ACTIVE, Injured: False\n",
            "Player: Amari Cooper, Injury Status: ACTIVE, Injured: False\n",
            "Player: Jayden Daniels, Injury Status: ACTIVE, Injured: False\n",
            "Player: Jauan Jennings, Injury Status: ACTIVE, Injured: False\n",
            "Player: Tyrone Tracy Jr., Injury Status: ACTIVE, Injured: False\n",
            "Player: Travis Etienne Jr., Injury Status: ACTIVE, Injured: False\n",
            "Player: Jordan Addison, Injury Status: ACTIVE, Injured: False\n",
            "Player: T.J. Hockenson, Injury Status: ACTIVE, Injured: False\n",
            "Player: Jason Sanders, Injury Status: ACTIVE, Injured: False\n",
            "Player: Ravens D/ST, Injury Status: NORMAL, Injured: False\n",
            "Player: Isaac Guerendo, Injury Status: QUESTIONABLE, Injured: False\n",
            "Player: Alexander Mattison, Injury Status: ACTIVE, Injured: False\n",
            "\n",
            "Team: pop-pop's bible study\n",
            "Player: Breece Hall, Injury Status: ACTIVE, Injured: False\n",
            "Player: Josh Jacobs, Injury Status: ACTIVE, Injured: False\n",
            "Player: Lamar Jackson, Injury Status: ACTIVE, Injured: False\n",
            "Player: George Kittle, Injury Status: ACTIVE, Injured: False\n",
            "Player: Aaron Jones, Injury Status: ACTIVE, Injured: False\n",
            "Player: Terry McLaurin, Injury Status: ACTIVE, Injured: False\n",
            "Player: Tyjae Spears, Injury Status: QUESTIONABLE, Injured: False\n",
            "Player: Rome Odunze, Injury Status: ACTIVE, Injured: False\n",
            "Player: Chiefs D/ST, Injury Status: NORMAL, Injured: False\n",
            "Player: Jared Goff, Injury Status: ACTIVE, Injured: False\n",
            "Player: Lions D/ST, Injury Status: NORMAL, Injured: False\n",
            "Player: Jameson Williams, Injury Status: ACTIVE, Injured: False\n",
            "Player: Zach Ertz, Injury Status: ACTIVE, Injured: False\n",
            "Player: Christian Watson, Injury Status: QUESTIONABLE, Injured: False\n",
            "Player: Justin Tucker, Injury Status: ACTIVE, Injured: False\n",
            "Player: Packers D/ST, Injury Status: NORMAL, Injured: False\n",
            "\n",
            "Team: Bucktown Bandits\n",
            "Player: Jonathan Taylor, Injury Status: ACTIVE, Injured: False\n",
            "Player: Amon-Ra St. Brown, Injury Status: ACTIVE, Injured: False\n",
            "Player: De'Von Achane, Injury Status: ACTIVE, Injured: False\n",
            "Player: Travis Kelce, Injury Status: ACTIVE, Injured: False\n",
            "Player: Cooper Kupp, Injury Status: ACTIVE, Injured: False\n",
            "Player: Joe Burrow, Injury Status: ACTIVE, Injured: False\n",
            "Player: Tank Dell, Injury Status: QUESTIONABLE, Injured: False\n",
            "Player: Tony Pollard, Injury Status: ACTIVE, Injured: False\n",
            "Player: Xavier Worthy, Injury Status: ACTIVE, Injured: False\n",
            "Player: Jakobi Meyers, Injury Status: ACTIVE, Injured: False\n",
            "Player: DJ Moore, Injury Status: ACTIVE, Injured: False\n",
            "Player: Cade Otton, Injury Status: ACTIVE, Injured: False\n",
            "Player: Jaylen Warren, Injury Status: ACTIVE, Injured: False\n",
            "Player: Justin Herbert, Injury Status: ACTIVE, Injured: False\n",
            "Player: Buccaneers D/ST, Injury Status: NORMAL, Injured: False\n",
            "Player: Brandon Aubrey, Injury Status: QUESTIONABLE, Injured: False\n",
            "\n",
            "Team: bird gang\n",
            "Player: Christian McCaffrey, Injury Status: QUESTIONABLE, Injured: False\n",
            "Player: DK Metcalf, Injury Status: ACTIVE, Injured: False\n",
            "Player: Brandon Aiyuk, Injury Status: QUESTIONABLE, Injured: False\n",
            "Player: David Montgomery, Injury Status: ACTIVE, Injured: False\n",
            "Player: DeVonta Smith, Injury Status: ACTIVE, Injured: False\n",
            "Player: Brock Purdy, Injury Status: ACTIVE, Injured: False\n",
            "Player: Stefon Diggs, Injury Status: QUESTIONABLE, Injured: False\n",
            "Player: Jake Ferguson, Injury Status: ACTIVE, Injured: False\n",
            "Player: Javonte Williams, Injury Status: ACTIVE, Injured: False\n",
            "Player: Dallas Goedert, Injury Status: ACTIVE, Injured: False\n",
            "Player: Chuba Hubbard, Injury Status: ACTIVE, Injured: False\n",
            "Player: Blake Corum, Injury Status: QUESTIONABLE, Injured: False\n",
            "Player: DeMario Douglas, Injury Status: ACTIVE, Injured: False\n",
            "Player: Baker Mayfield, Injury Status: ACTIVE, Injured: False\n",
            "Player: Tyler Bass, Injury Status: ACTIVE, Injured: False\n",
            "Player: Eagles D/ST, Injury Status: NORMAL, Injured: False\n",
            "\n",
            "Team: bungalicious  💅\n",
            "Player: Saquon Barkley, Injury Status: ACTIVE, Injured: False\n",
            "Player: Deebo Samuel Sr., Injury Status: ACTIVE, Injured: False\n",
            "Player: Kenneth Walker III, Injury Status: QUESTIONABLE, Injured: False\n",
            "Player: Sam LaPorta, Injury Status: ACTIVE, Injured: False\n",
            "Player: Tee Higgins, Injury Status: ACTIVE, Injured: False\n",
            "Player: Dak Prescott, Injury Status: QUESTIONABLE, Injured: False\n",
            "Player: Malik Nabers, Injury Status: ACTIVE, Injured: False\n",
            "Player: Brock Bowers, Injury Status: ACTIVE, Injured: False\n",
            "Player: Ty Chandler, Injury Status: ACTIVE, Injured: False\n",
            "Player: Jerry Jeudy, Injury Status: ACTIVE, Injured: False\n",
            "Player: Chig Okonkwo, Injury Status: ACTIVE, Injured: False\n",
            "Player: Gabe Davis, Injury Status: QUESTIONABLE, Injured: False\n",
            "Player: Jake Bates, Injury Status: ACTIVE, Injured: False\n",
            "Player: Sam Darnold, Injury Status: ACTIVE, Injured: False\n",
            "Player: Colts D/ST, Injury Status: NORMAL, Injured: False\n",
            "Player: Zach Charbonnet, Injury Status: ACTIVE, Injured: False\n"
          ]
        }
      ]
    },
    {
      "cell_type": "code",
      "source": [
        "# getting starting roster for each week\n",
        "\n",
        "for team in league.teams:\n",
        "    print(f\"\\nTeam: {team.team_name} (Week {week})\")\n",
        "\n",
        "    # Get the team's roster for the given week\n",
        "    for player in team.roster:\n",
        "        #if player.lineupSlot != \"BE\" and player.lineupSlot != \"IR\":  # Exclude Bench and IR players\n",
        "            print(f\"  - {player.name} ({player.lineupSlot})\")\n"
      ],
      "metadata": {
        "id": "NVRJeM9_Nm-d",
        "outputId": "c4b0d361-691b-4932-da1c-7360481d6b38",
        "colab": {
          "base_uri": "https://localhost:8080/"
        }
      },
      "execution_count": 70,
      "outputs": [
        {
          "output_type": "stream",
          "name": "stdout",
          "text": [
            "\n",
            "Team: Fightin' Furries (Week 14)\n",
            "  - Tyreek Hill (WR)\n",
            "  - Isiah Pacheco (RB)\n",
            "  - Joe Mixon (BE)\n",
            "  - Patrick Mahomes (QB)\n",
            "  - Dalton Kincaid (BE)\n",
            "  - Zay Flowers (BE)\n",
            "  - Jaxon Smith-Njigba (RB/WR/TE)\n",
            "  - Gus Edwards (BE)\n",
            "  - Matthew Stafford (BE)\n",
            "  - Kareem Hunt (RB)\n",
            "  - Broncos D/ST (BE)\n",
            "  - David Njoku (TE)\n",
            "  - Caleb Williams (BE)\n",
            "  - DeAndre Hopkins (WR)\n",
            "  - Bills D/ST (D/ST)\n",
            "  - Matthew Wright (K)\n",
            "\n",
            "Team: Quon Solo (Week 14)\n",
            "  - Justin Jefferson (WR)\n",
            "  - Kyren Williams (RB)\n",
            "  - Marvin Harrison Jr. (BE)\n",
            "  - Mike Evans (BE)\n",
            "  - D'Andre Swift (RB)\n",
            "  - Brian Robinson Jr. (RB/WR/TE)\n",
            "  - Kyler Murray (QB)\n",
            "  - J.K. Dobbins (BE)\n",
            "  - Geno Smith (BE)\n",
            "  - Chris Boswell (K)\n",
            "  - Romeo Doubs (BE)\n",
            "  - Mark Andrews (TE)\n",
            "  - Bears D/ST (D/ST)\n",
            "  - Courtland Sutton (WR)\n",
            "  - Josh Downs (BE)\n",
            "  - Evan Engram (BE)\n",
            "\n",
            "Team: Jen-eral ⚔️ (Week 14)\n",
            "  - Derrick Henry (RB)\n",
            "  - A.J. Brown (WR)\n",
            "  - Alvin Kamara (RB)\n",
            "  - Jalen Hurts (QB)\n",
            "  - Calvin Ridley (WR)\n",
            "  - Raheem Mostert (BE)\n",
            "  - Jets D/ST (D/ST)\n",
            "  - Pat Freiermuth (BE)\n",
            "  - Darnell Mooney (BE)\n",
            "  - Bucky Irving (BE)\n",
            "  - Jayden Reed (BE)\n",
            "  - Dontayvion Wicks (BE)\n",
            "  - Cameron Dicker (K)\n",
            "  - Tank Bigsby (RB/WR/TE)\n",
            "  - Dolphins D/ST (BE)\n",
            "  - Jonnu Smith (TE)\n",
            "\n",
            "Team: Captain Sweatpants (Week 14)\n",
            "  - CeeDee Lamb (WR)\n",
            "  - Garrett Wilson (WR)\n",
            "  - Rachaad White (BE)\n",
            "  - Nico Collins (BE)\n",
            "  - James Conner (RB)\n",
            "  - George Pickens (BE)\n",
            "  - Cowboys D/ST (BE)\n",
            "  - Chase McLaughlin (BE)\n",
            "  - Jake Elliott (K)\n",
            "  - Bo Nix (BE)\n",
            "  - Mike Gesicki (TE)\n",
            "  - Rico Dowdle (RB)\n",
            "  - Will Dissly (BE)\n",
            "  - Will Levis (QB)\n",
            "  - Chargers D/ST (D/ST)\n",
            "  - Khalil Shakir (RB/WR/TE)\n",
            "\n",
            "Team: Salmon LipBalm !! (Week 14)\n",
            "  - Bijan Robinson (RB)\n",
            "  - Jahmyr Gibbs (RB)\n",
            "  - Jaylen Waddle (BE)\n",
            "  - Rhamondre Stevenson (BE)\n",
            "  - Davante Adams (WR)\n",
            "  - Jordan Love (BE)\n",
            "  - Ka'imi Fairbairn (BE)\n",
            "  - Trey McBride (TE)\n",
            "  - Vikings D/ST (D/ST)\n",
            "  - Chase Brown (RB/WR/TE)\n",
            "  - Brian Thomas Jr. (BE)\n",
            "  - Puka Nacua (WR)\n",
            "  - Hunter Henry (BE)\n",
            "  - Russell Wilson (QB)\n",
            "  - Wil Lutz (K)\n",
            "  - Drake Maye (BE)\n",
            "\n",
            "Team: Graham’s Groupie (Week 14)\n",
            "  - Ja'Marr Chase (WR)\n",
            "  - James Cook (RB)\n",
            "  - Drake London (RB/WR/TE)\n",
            "  - Josh Allen (QB)\n",
            "  - Najee Harris (BE)\n",
            "  - Amari Cooper (BE)\n",
            "  - Jayden Daniels (BE)\n",
            "  - Jauan Jennings (WR)\n",
            "  - Tyrone Tracy Jr. (BE)\n",
            "  - Travis Etienne Jr. (RB)\n",
            "  - Jordan Addison (BE)\n",
            "  - T.J. Hockenson (TE)\n",
            "  - Jason Sanders (K)\n",
            "  - Ravens D/ST (D/ST)\n",
            "  - Isaac Guerendo (BE)\n",
            "  - Alexander Mattison (BE)\n",
            "\n",
            "Team: pop-pop's bible study (Week 14)\n",
            "  - Breece Hall (RB)\n",
            "  - Josh Jacobs (RB)\n",
            "  - Lamar Jackson (QB)\n",
            "  - George Kittle (TE)\n",
            "  - Aaron Jones (RB/WR/TE)\n",
            "  - Terry McLaurin (WR)\n",
            "  - Tyjae Spears (BE)\n",
            "  - Rome Odunze (BE)\n",
            "  - Chiefs D/ST (D/ST)\n",
            "  - Jared Goff (BE)\n",
            "  - Lions D/ST (BE)\n",
            "  - Jameson Williams (WR)\n",
            "  - Zach Ertz (BE)\n",
            "  - Christian Watson (BE)\n",
            "  - Justin Tucker (K)\n",
            "  - Packers D/ST (BE)\n",
            "\n",
            "Team: Bucktown Bandits (Week 14)\n",
            "  - Jonathan Taylor (BE)\n",
            "  - Amon-Ra St. Brown (WR)\n",
            "  - De'Von Achane (RB)\n",
            "  - Travis Kelce (TE)\n",
            "  - Cooper Kupp (WR)\n",
            "  - Joe Burrow (QB)\n",
            "  - Tank Dell (BE)\n",
            "  - Tony Pollard (RB)\n",
            "  - Xavier Worthy (BE)\n",
            "  - Jakobi Meyers (RB/WR/TE)\n",
            "  - DJ Moore (BE)\n",
            "  - Cade Otton (BE)\n",
            "  - Jaylen Warren (BE)\n",
            "  - Justin Herbert (BE)\n",
            "  - Buccaneers D/ST (D/ST)\n",
            "  - Brandon Aubrey (K)\n",
            "\n",
            "Team: bird gang (Week 14)\n",
            "  - Christian McCaffrey (BE)\n",
            "  - DK Metcalf (WR)\n",
            "  - Brandon Aiyuk (BE)\n",
            "  - David Montgomery (RB)\n",
            "  - DeVonta Smith (WR)\n",
            "  - Brock Purdy (QB)\n",
            "  - Stefon Diggs (BE)\n",
            "  - Jake Ferguson (TE)\n",
            "  - Javonte Williams (BE)\n",
            "  - Dallas Goedert (BE)\n",
            "  - Chuba Hubbard (RB)\n",
            "  - Blake Corum (RB/WR/TE)\n",
            "  - DeMario Douglas (BE)\n",
            "  - Baker Mayfield (BE)\n",
            "  - Tyler Bass (K)\n",
            "  - Eagles D/ST (D/ST)\n",
            "\n",
            "Team: bungalicious  💅 (Week 14)\n",
            "  - Saquon Barkley (RB)\n",
            "  - Deebo Samuel Sr. (RB/WR/TE)\n",
            "  - Kenneth Walker III (BE)\n",
            "  - Sam LaPorta (BE)\n",
            "  - Tee Higgins (WR)\n",
            "  - Dak Prescott (BE)\n",
            "  - Malik Nabers (WR)\n",
            "  - Brock Bowers (TE)\n",
            "  - Ty Chandler (BE)\n",
            "  - Jerry Jeudy (BE)\n",
            "  - Chig Okonkwo (BE)\n",
            "  - Gabe Davis (BE)\n",
            "  - Jake Bates (K)\n",
            "  - Sam Darnold (QB)\n",
            "  - Colts D/ST (D/ST)\n",
            "  - Zach Charbonnet (RB)\n"
          ]
        }
      ]
    },
    {
      "cell_type": "markdown",
      "source": [
        "## **Getting the fantasy team rosters**\n",
        "*Will use to join to player data to maintain team assigments*"
      ],
      "metadata": {
        "id": "W-jJAhPvssjm"
      }
    },
    {
      "cell_type": "code",
      "source": [
        "# Define the range of weeks\n",
        "weeks = range(1, 19)  # Weeks 1 to 18\n",
        "\n",
        "# Create an empty list to store data\n",
        "all_weeks_roster = []\n",
        "\n",
        "# Loop through each week and get the roster data\n",
        "for week in weeks:\n",
        "    week_data = []  # Temporary storage for current week's data\n",
        "\n",
        "    for team in league.teams:\n",
        "        team_name = team.team_name  # Fantasy Team Name\n",
        "\n",
        "        for player in team.roster:\n",
        "            week_data.append({\n",
        "                \"cur_Fteam\": team_name,\n",
        "                \"week\": week,\n",
        "                \"espn_id\": player.playerId,  # ESPN Unique Player ID\n",
        "                \"cur_roster_slot\": player.position if player.lineupSlot != \"BE\" else \"Bench\"\n",
        "            })\n",
        "\n",
        "    # If no data is returned for this week, stop iterating\n",
        "    if not week_data:\n",
        "        print(f\"No data found for Week {week}. Stopping iteration.\")\n",
        "        break  # Stop looping when a week has no data\n",
        "\n",
        "    # Add this week's data to the master list\n",
        "    all_weeks_roster.extend(week_data)\n",
        "\n",
        "# Convert to DataFrame\n",
        "weekly_rosters = pd.DataFrame(all_weeks_roster)\n",
        "\n",
        "cur_roster = weekly_rosters[weekly_rosters['week'] == weekly_rosters['week'].max()].drop('week', axis=1)\n",
        "print(cur_roster)"
      ],
      "metadata": {
        "id": "wkEwJQ3qWH8P",
        "colab": {
          "base_uri": "https://localhost:8080/"
        },
        "outputId": "8abf69bc-4a4a-4cc3-d923-744099151052"
      },
      "execution_count": 71,
      "outputs": [
        {
          "output_type": "stream",
          "name": "stdout",
          "text": [
            "             cur_Fteam  espn_id cur_roster_slot\n",
            "2720  Fightin' Furries  3116406              WR\n",
            "2721  Fightin' Furries  4361529              RB\n",
            "2722  Fightin' Furries  3116385           Bench\n",
            "2723  Fightin' Furries  3139477              QB\n",
            "2724  Fightin' Furries  4385690           Bench\n",
            "...                ...      ...             ...\n",
            "2875   bungalicious  💅  4243537           Bench\n",
            "2876   bungalicious  💅  4689936               K\n",
            "2877   bungalicious  💅  3912547              QB\n",
            "2878   bungalicious  💅   -16011            D/ST\n",
            "2879   bungalicious  💅  4426385              RB\n",
            "\n",
            "[160 rows x 3 columns]\n"
          ]
        }
      ]
    },
    {
      "cell_type": "markdown",
      "source": [
        "### **Getting statistical data from xlsx files**"
      ],
      "metadata": {
        "id": "Pqurr9qovF3M"
      }
    },
    {
      "cell_type": "code",
      "source": [
        "from google.colab import drive\n",
        "drive.mount('/content/drive', force_remount = True)"
      ],
      "metadata": {
        "id": "LNbk_KpjvRsH",
        "outputId": "3504c67d-56f3-4c45-bd02-0304d649ad05",
        "colab": {
          "base_uri": "https://localhost:8080/"
        }
      },
      "execution_count": 72,
      "outputs": [
        {
          "output_type": "stream",
          "name": "stdout",
          "text": [
            "Mounted at /content/drive\n"
          ]
        }
      ]
    },
    {
      "cell_type": "code",
      "source": [
        "file_path = \"/content/drive/My Drive/ff_data.xlsx\"\n",
        "\n",
        "# Load specific sheets\n",
        "season_stats_all = pd.read_excel(file_path, sheet_name=\"Season\", engine=\"openpyxl\")\n",
        "weekly_stats_all = pd.read_excel(file_path, sheet_name=\"Weekly\", engine=\"openpyxl\")\n",
        "\n",
        "# Display first few rows\n",
        "print(season_stats_all.head())\n",
        "print(weekly_stats_all.head())"
      ],
      "metadata": {
        "id": "W83MSS6X1O2C",
        "outputId": "93721877-aaad-4311-d0af-adc4befc43d4",
        "colab": {
          "base_uri": "https://localhost:8080/"
        }
      },
      "execution_count": 73,
      "outputs": [
        {
          "output_type": "stream",
          "name": "stdout",
          "text": [
            "   season   player_id player_display_name team position  games_played  \\\n",
            "0    2021  00-0019596           Tom Brady   TB       QB          20.0   \n",
            "1    2021  00-0022924  Ben Roethlisberger  PIT       QB          18.0   \n",
            "2    2021  00-0023459       Aaron Rodgers   GB       QB          17.0   \n",
            "3    2021  00-0023682    Ryan Fitzpatrick  WAS       QB           1.0   \n",
            "4    2021  00-0024243      Marcedes Lewis   GB       TE          14.0   \n",
            "\n",
            "   completions  attempts  comp%  passing_yards  ...  total_st_tds  st_tds_pg  \\\n",
            "0        573.0     847.0  67.65         6187.0  ...           NaN        NaN   \n",
            "1        448.0     693.0  64.65         4170.0  ...           NaN        NaN   \n",
            "2        386.0     560.0  68.93         4340.0  ...           NaN        NaN   \n",
            "3          3.0       6.0  50.00           13.0  ...           NaN        NaN   \n",
            "4          0.0       0.0    NaN            0.0  ...           NaN        NaN   \n",
            "\n",
            "   total_fp  fp_pg  espn_id                name   age  height  weight  \\\n",
            "0       NaN    NaN   2330.0           Tom Brady  47.6    76.0   225.0   \n",
            "1       NaN    NaN   5536.0  Ben Roethlisberger  43.0    77.0   240.0   \n",
            "2       NaN    NaN   8439.0       Aaron Rodgers  41.3    74.0   223.0   \n",
            "3       NaN    NaN   8664.0    Ryan Fitzpatrick  40.3    74.0   228.0   \n",
            "4       NaN    NaN   9614.0      Marcedes Lewis  40.8    78.0   267.0   \n",
            "\n",
            "        college  \n",
            "0      Michigan  \n",
            "1  Miami (Ohio)  \n",
            "2    California  \n",
            "3       Harvard  \n",
            "4          UCLA  \n",
            "\n",
            "[5 rows x 91 columns]\n",
            "    player_id player_name player_display_name position position_group  \\\n",
            "0  00-0019596     T.Brady           Tom Brady       QB             QB   \n",
            "1  00-0019596     T.Brady           Tom Brady       QB             QB   \n",
            "2  00-0019596     T.Brady           Tom Brady       QB             QB   \n",
            "3  00-0019596     T.Brady           Tom Brady       QB             QB   \n",
            "4  00-0019596     T.Brady           Tom Brady       QB             QB   \n",
            "\n",
            "                                        headshot_url recent_team  season  \\\n",
            "0  https://static.www.nfl.com/image/private/f_aut...          TB    2021   \n",
            "1  https://static.www.nfl.com/image/private/f_aut...          TB    2021   \n",
            "2  https://static.www.nfl.com/image/private/f_aut...          TB    2021   \n",
            "3  https://static.www.nfl.com/image/private/f_aut...          TB    2021   \n",
            "4  https://static.www.nfl.com/image/private/f_aut...          TB    2021   \n",
            "\n",
            "   week season_type  ... total_points_allowed  yards_points  points_fp  \\\n",
            "0     1         REG  ...                  NaN           NaN        NaN   \n",
            "1     2         REG  ...                  NaN           NaN        NaN   \n",
            "2     3         REG  ...                  NaN           NaN        NaN   \n",
            "3     4         REG  ...                  NaN           NaN        NaN   \n",
            "4     5         REG  ...                  NaN           NaN        NaN   \n",
            "\n",
            "   st_tds  espn_id       name   age  height  weight   college  \n",
            "0     NaN   2330.0  Tom Brady  47.6    76.0   225.0  Michigan  \n",
            "1     NaN   2330.0  Tom Brady  47.6    76.0   225.0  Michigan  \n",
            "2     NaN   2330.0  Tom Brady  47.6    76.0   225.0  Michigan  \n",
            "3     NaN   2330.0  Tom Brady  47.6    76.0   225.0  Michigan  \n",
            "4     NaN   2330.0  Tom Brady  47.6    76.0   225.0  Michigan  \n",
            "\n",
            "[5 rows x 114 columns]\n"
          ]
        }
      ]
    },
    {
      "cell_type": "markdown",
      "source": [
        "## **Joining current fantasy team roster data with weekly and season data**"
      ],
      "metadata": {
        "id": "BghXacKNsq4x"
      }
    },
    {
      "cell_type": "markdown",
      "source": [
        "### *Season data*"
      ],
      "metadata": {
        "id": "DA1_Yyt9tHwH"
      }
    },
    {
      "cell_type": "code",
      "source": [
        "season_stats_all = pd.merge(season_stats_all, cur_roster, on=\"espn_id\", how=\"left\")\n",
        "\n",
        "season_stats_all.loc[\n",
        "    (season_stats_all['season'] == 2024) &\n",
        "    (season_stats_all['cur_Fteam'] != 'FA') &\n",
        "    (season_stats_all['cur_roster_slot'] != 'FA'),\n",
        "    ['cur_Fteam', 'cur_roster_slot']\n",
        "] = 'FA'"
      ],
      "metadata": {
        "id": "363yeLKgqfll"
      },
      "execution_count": 74,
      "outputs": []
    },
    {
      "cell_type": "code",
      "source": [
        "#print(season_stats_all.head(10))"
      ],
      "metadata": {
        "id": "ezKgyJJUw6SB"
      },
      "execution_count": 75,
      "outputs": []
    },
    {
      "cell_type": "markdown",
      "source": [
        "### *Weekly data*"
      ],
      "metadata": {
        "id": "OfGbdi8BtOI_"
      }
    },
    {
      "cell_type": "code",
      "source": [
        "weekly_stats_all = pd.merge(weekly_stats_all, weekly_rosters, on=[\"espn_id\", \"week\"], how=\"left\")\n",
        "\n",
        "weekly_stats_all.loc[\n",
        "    (weekly_stats_all['season'] == 2024) &\n",
        "    (weekly_stats_all['cur_Fteam'] != 'FA') &\n",
        "    (weekly_stats_all['cur_roster_slot'] != 'FA'),\n",
        "    ['cur_Fteam', 'cur_roster_slot']\n",
        "] = 'FA'"
      ],
      "metadata": {
        "id": "5Xgjh3_ftT9B"
      },
      "execution_count": 76,
      "outputs": []
    },
    {
      "cell_type": "code",
      "source": [
        "#print(weekly_stats_all.head(10))"
      ],
      "metadata": {
        "id": "miWV9babw09R"
      },
      "execution_count": 77,
      "outputs": []
    },
    {
      "cell_type": "markdown",
      "source": [
        "# **Getting matchup data**"
      ],
      "metadata": {
        "id": "RZglmALWxlN6"
      }
    },
    {
      "cell_type": "code",
      "source": [
        "total_weeks = league.settings.reg_season_count  # Regular season length\n",
        "\n",
        "# Initialize records dict\n",
        "team_records = {team.team_name: {'W': 0, 'L': 0} for team in league.teams}\n",
        "\n",
        "# Store all weekly matchups and records\n",
        "matchups_all_weeks = []\n",
        "\n",
        "# Loop through each week\n",
        "for week in range(1, total_weeks + 1):\n",
        "    scoreboard = league.scoreboard(week=week)\n",
        "\n",
        "    for matchup in scoreboard:\n",
        "        home = matchup.home_team.team_name\n",
        "        away = matchup.away_team.team_name\n",
        "        home_score = matchup.home_score\n",
        "        away_score = matchup.away_score\n",
        "\n",
        "        # Determine winner and update records\n",
        "        if home_score > away_score:\n",
        "            team_records[home]['W'] += 1\n",
        "            team_records[away]['L'] += 1\n",
        "        elif home_score < away_score:\n",
        "            team_records[away]['W'] += 1\n",
        "            team_records[home]['L'] += 1\n",
        "        else:\n",
        "            # Tie case (optional)\n",
        "            pass\n",
        "\n",
        "        # Record after this week\n",
        "        home_record = f\"{team_records[home]['W']}-{team_records[home]['L']}\"\n",
        "        away_record = f\"{team_records[away]['W']}-{team_records[away]['L']}\"\n",
        "\n",
        "        matchups_all_weeks.append({\n",
        "            'week': week,\n",
        "            'home_team': home,\n",
        "            'away_team': away,\n",
        "            'home_score': home_score,\n",
        "            'away_score': away_score,\n",
        "            'home_record': home_record,\n",
        "            'away_record': away_record\n",
        "        })\n",
        "\n",
        "# Convert to DataFrame\n",
        "weekly_matchup_data = pd.DataFrame(matchups_all_weeks)\n",
        "\n",
        "# Display the result\n",
        "print(weekly_matchup_data)"
      ],
      "metadata": {
        "id": "4x9gYXkoxoRV",
        "outputId": "9cb1ae8a-4570-43c6-b57e-5bf0318a9213",
        "colab": {
          "base_uri": "https://localhost:8080/"
        }
      },
      "execution_count": 78,
      "outputs": [
        {
          "output_type": "stream",
          "name": "stdout",
          "text": [
            "    week              home_team              away_team  home_score  \\\n",
            "0      1       Bucktown Bandits       Graham’s Groupie        73.0   \n",
            "1      1        bungalicious  💅       Fightin' Furries       101.0   \n",
            "2      1              bird gang      Salmon LipBalm !!        59.0   \n",
            "3      1  pop-pop's bible study              Quon Solo        79.0   \n",
            "4      1            Jen-eral ⚔️     Captain Sweatpants        82.0   \n",
            "..   ...                    ...                    ...         ...   \n",
            "65    14       Graham’s Groupie       Bucktown Bandits       143.0   \n",
            "66    14      Salmon LipBalm !!       Fightin' Furries       115.0   \n",
            "67    14     Captain Sweatpants              Quon Solo        88.0   \n",
            "68    14            Jen-eral ⚔️  pop-pop's bible study        68.0   \n",
            "69    14              bird gang        bungalicious  💅        81.0   \n",
            "\n",
            "    away_score home_record away_record  \n",
            "0         96.0         0-1         1-0  \n",
            "1         94.0         1-0         0-1  \n",
            "2        101.0         0-1         1-0  \n",
            "3         97.0         0-1         1-0  \n",
            "4        110.0         0-1         1-0  \n",
            "..         ...         ...         ...  \n",
            "65        98.0         6-8        3-11  \n",
            "66        78.0        12-2         6-8  \n",
            "67        85.0         6-8         7-7  \n",
            "68       111.0        10-4         8-6  \n",
            "69        95.0        2-12        10-4  \n",
            "\n",
            "[70 rows x 7 columns]\n"
          ]
        }
      ]
    },
    {
      "cell_type": "markdown",
      "source": [
        "# **Getting injury status**\n",
        "PROBABLY CAN'T USE B/C ONLY HAVE 2024 DATA"
      ],
      "metadata": {
        "id": "T3jmeOE3aRSg"
      }
    },
    {
      "cell_type": "code",
      "source": [
        "all_players = []\n",
        "current_week = league.current_week\n",
        "\n",
        "# 1. Rostered players from each team\n",
        "for team in league.teams:\n",
        "    for player in team.roster:\n",
        "        all_players.append({\n",
        "            \"week\": current_week,\n",
        "            \"team_owner\": team.team_name,\n",
        "            \"name\": player.name,\n",
        "            \"position\": player.position,\n",
        "            \"espn_id\": player.playerId,\n",
        "            \"injured\": player.injured,\n",
        "            \"injury_status\": player.injuryStatus,\n",
        "            \"rostered\": True\n",
        "        })\n",
        "\n",
        "# 2. Free agents (unrostered players)\n",
        "for player in league.free_agents(size=1000):  # you can adjust the size to pull more players\n",
        "    all_players.append({\n",
        "        \"week\": current_week,\n",
        "        \"team_owner\": \"Free Agent\",\n",
        "        \"name\": player.name,\n",
        "        \"position\": player.position,\n",
        "        \"espn_id\": player.playerId,\n",
        "        \"injured\": player.injured,\n",
        "        \"injury_status\": player.injuryStatus,\n",
        "        \"rostered\": False\n",
        "    })\n",
        "\n",
        "# Optional: Convert to pandas DataFrame\n",
        "import pandas as pd\n",
        "injury_status = pd.DataFrame(all_players)\n",
        "\n",
        "# Display or export\n",
        "print(injury_status.head(10))\n",
        "\n",
        "print(injury_status[injury_status[\"team_owner\"] == \"Free Agent\"].head(10))"
      ],
      "metadata": {
        "id": "wM3-PmTtaQ9X",
        "outputId": "95db0d92-f808-45f7-ed5b-33130d166b6f",
        "colab": {
          "base_uri": "https://localhost:8080/"
        }
      },
      "execution_count": 79,
      "outputs": [
        {
          "output_type": "stream",
          "name": "stdout",
          "text": [
            "   week        team_owner                name position  espn_id  injured  \\\n",
            "0    17  Fightin' Furries         Tyreek Hill       WR  3116406    False   \n",
            "1    17  Fightin' Furries       Isiah Pacheco       RB  4361529    False   \n",
            "2    17  Fightin' Furries           Joe Mixon       RB  3116385    False   \n",
            "3    17  Fightin' Furries     Patrick Mahomes       QB  3139477    False   \n",
            "4    17  Fightin' Furries      Dalton Kincaid       TE  4385690    False   \n",
            "5    17  Fightin' Furries         Zay Flowers       WR  4429615    False   \n",
            "6    17  Fightin' Furries  Jaxon Smith-Njigba       WR  4430878    False   \n",
            "7    17  Fightin' Furries         Gus Edwards       RB  3051926    False   \n",
            "8    17  Fightin' Furries    Matthew Stafford       QB    12483    False   \n",
            "9    17  Fightin' Furries         Kareem Hunt       RB  3059915    False   \n",
            "\n",
            "  injury_status  rostered  \n",
            "0  QUESTIONABLE      True  \n",
            "1        ACTIVE      True  \n",
            "2        ACTIVE      True  \n",
            "3        ACTIVE      True  \n",
            "4        ACTIVE      True  \n",
            "5  QUESTIONABLE      True  \n",
            "6        ACTIVE      True  \n",
            "7        ACTIVE      True  \n",
            "8        ACTIVE      True  \n",
            "9        ACTIVE      True  \n",
            "     week  team_owner                 name position  espn_id  injured  \\\n",
            "160    17  Free Agent        Ladd McConkey       WR  4612826    False   \n",
            "161    17  Free Agent         Keenan Allen       WR    15818    False   \n",
            "162    17  Free Agent  Michael Pittman Jr.       WR  4035687    False   \n",
            "163    17  Free Agent        Steelers D/ST     D/ST   -16023    False   \n",
            "164    17  Free Agent          C.J. Stroud       QB  4432577    False   \n",
            "165    17  Free Agent           Kyle Pitts       TE  4360248    False   \n",
            "166    17  Free Agent         Adam Thielen       WR    16460    False   \n",
            "167    17  Free Agent          Chris Olave       WR  4361370    False   \n",
            "168    17  Free Agent         Tucker Kraft       TE  4572680    False   \n",
            "169    17  Free Agent           49ers D/ST     D/ST   -16025    False   \n",
            "\n",
            "    injury_status  rostered  \n",
            "160        ACTIVE     False  \n",
            "161        ACTIVE     False  \n",
            "162  QUESTIONABLE     False  \n",
            "163            []     False  \n",
            "164        ACTIVE     False  \n",
            "165        ACTIVE     False  \n",
            "166        ACTIVE     False  \n",
            "167  QUESTIONABLE     False  \n",
            "168        ACTIVE     False  \n",
            "169            []     False  \n"
          ]
        }
      ]
    },
    {
      "cell_type": "markdown",
      "source": [
        "# **QB CatBoost Model**"
      ],
      "metadata": {
        "id": "ya-N0f3oCiDC"
      }
    },
    {
      "cell_type": "markdown",
      "source": [
        "## **Feature Engineering**\n",
        "*Need to create features that can be used in both train and test sets since we can't use rush yards, pass yards (any game specific stats) because they have not occurred and need to use like rolling features or averages*"
      ],
      "metadata": {
        "id": "4eaW92sEQJly"
      }
    },
    {
      "cell_type": "code",
      "source": [
        "df_qb = weekly_stats_all[weekly_stats_all['position'] == 'QB'].copy()\n",
        "\n",
        "# Sorting data for time-series purposes\n",
        "df_qb = df_qb.sort_values(by=['player_id', 'season', 'week'])\n",
        "\n",
        "# Creating lag/rolling features for model\n",
        "# Takes into account past 3 games (or less, depending on the data available that week)\n",
        "rolling_cols = [\n",
        "    'passing_yards', 'passing_tds', 'interceptions', 'passing_epa',\n",
        "    'rushing_yards', 'rushing_tds', 'completions', 'attempts',\n",
        "    'fantasy_points_ppr', 'passing_air_yards', 'passing_yards_after_catch',\n",
        "    'rushing_fumbles_lost', 'rushing_epa', 'rushing_2pt_conversions', 'passing_2pt_conversions'\n",
        "]\n",
        "\n",
        "for col in rolling_cols:\n",
        "    df_qb[f'{col}_last3'] = df_qb.groupby('player_id')[col].shift(1).rolling(3, min_periods = 1).mean()\n",
        "\n",
        "# Season averages\n",
        "expanding_cols = ['passing_yards', 'passing_tds', 'interceptions', 'rushing_yards', 'rushing_tds', 'fantasy_points_ppr'\n",
        "]\n",
        "\n",
        "for col in expanding_cols:\n",
        "    df_qb[col] = pd.to_numeric(df_qb[col], errors='coerce')\n",
        "\n",
        "for col in expanding_cols:\n",
        "    df_qb[f'{col}_season_avg'] = (\n",
        "        df_qb.groupby(['player_id', 'season'])[col]\n",
        "        .transform(lambda x: x.shift(1).expanding().mean())\n",
        "    )\n",
        "\n",
        "df_qb['completions'] = pd.to_numeric(df_qb['completions'], errors='coerce')\n",
        "df_qb['attempts'] = pd.to_numeric(df_qb['attempts'], errors='coerce')\n",
        "\n",
        "# creating yards per attempt feature\n",
        "df_qb['yards_per_attempt'] = df_qb['passing_yards'] / df_qb['attempts'].replace(0, pd.NA)\n",
        "\n",
        "# Creating completion percentage feature\n",
        "df_qb['comp%'] = (\n",
        "    (df_qb['completions'] / df_qb['attempts']) * 100\n",
        ").replace([pd.NA, np.inf, -np.inf], np.nan)\n",
        "\n",
        "df_qb['comp%'] = pd.to_numeric(df_qb['comp%'], errors='coerce')\n",
        "\n",
        "df_qb['yards_per_attempt'] = pd.to_numeric(df_qb['yards_per_attempt'], errors='coerce')\n",
        "\n",
        "print(df_qb.head(10))"
      ],
      "metadata": {
        "id": "VS7tmywyQKC1",
        "colab": {
          "base_uri": "https://localhost:8080/"
        },
        "outputId": "0cb29f93-58e6-4c48-e0b2-8527c962890b"
      },
      "execution_count": 80,
      "outputs": [
        {
          "output_type": "stream",
          "name": "stdout",
          "text": [
            "    player_id player_name player_display_name position position_group  \\\n",
            "0  00-0019596     T.Brady           Tom Brady       QB             QB   \n",
            "1  00-0019596     T.Brady           Tom Brady       QB             QB   \n",
            "2  00-0019596     T.Brady           Tom Brady       QB             QB   \n",
            "3  00-0019596     T.Brady           Tom Brady       QB             QB   \n",
            "4  00-0019596     T.Brady           Tom Brady       QB             QB   \n",
            "5  00-0019596     T.Brady           Tom Brady       QB             QB   \n",
            "6  00-0019596     T.Brady           Tom Brady       QB             QB   \n",
            "7  00-0019596     T.Brady           Tom Brady       QB             QB   \n",
            "8  00-0019596     T.Brady           Tom Brady       QB             QB   \n",
            "9  00-0019596     T.Brady           Tom Brady       QB             QB   \n",
            "\n",
            "                                        headshot_url recent_team  season  \\\n",
            "0  https://static.www.nfl.com/image/private/f_aut...          TB    2021   \n",
            "1  https://static.www.nfl.com/image/private/f_aut...          TB    2021   \n",
            "2  https://static.www.nfl.com/image/private/f_aut...          TB    2021   \n",
            "3  https://static.www.nfl.com/image/private/f_aut...          TB    2021   \n",
            "4  https://static.www.nfl.com/image/private/f_aut...          TB    2021   \n",
            "5  https://static.www.nfl.com/image/private/f_aut...          TB    2021   \n",
            "6  https://static.www.nfl.com/image/private/f_aut...          TB    2021   \n",
            "7  https://static.www.nfl.com/image/private/f_aut...          TB    2021   \n",
            "8  https://static.www.nfl.com/image/private/f_aut...          TB    2021   \n",
            "9  https://static.www.nfl.com/image/private/f_aut...          TB    2021   \n",
            "\n",
            "   week season_type  ... rushing_2pt_conversions_last3  \\\n",
            "0     1         REG  ...                           NaN   \n",
            "1     2         REG  ...                           0.0   \n",
            "2     3         REG  ...                           0.0   \n",
            "3     4         REG  ...                           0.0   \n",
            "4     5         REG  ...                           0.0   \n",
            "5     6         REG  ...                           0.0   \n",
            "6     7         REG  ...                           0.0   \n",
            "7     8         REG  ...                           0.0   \n",
            "8    10         REG  ...                           0.0   \n",
            "9    11         REG  ...                           0.0   \n",
            "\n",
            "   passing_2pt_conversions_last3  passing_yards_season_avg  \\\n",
            "0                            NaN                       NaN   \n",
            "1                            0.0                379.000000   \n",
            "2                            0.0                327.500000   \n",
            "3                            0.0                362.333333   \n",
            "4                            0.0                339.000000   \n",
            "5                            0.0                353.400000   \n",
            "6                            0.0                344.000000   \n",
            "7                            0.0                325.000000   \n",
            "8                            0.0                331.250000   \n",
            "9                            0.0                318.888889   \n",
            "\n",
            "   passing_tds_season_avg  interceptions_season_avg  rushing_yards_season_avg  \\\n",
            "0                     NaN                       NaN                       NaN   \n",
            "1                4.000000                  2.000000                  0.000000   \n",
            "2                4.500000                  1.000000                  3.000000   \n",
            "3                3.333333                  0.666667                  6.666667   \n",
            "4                2.500000                  0.500000                  5.750000   \n",
            "5                3.000000                  0.400000                  7.200000   \n",
            "6                2.833333                  0.500000                  6.166667   \n",
            "7                3.000000                  0.428571                  5.285714   \n",
            "8                3.125000                  0.625000                  4.875000   \n",
            "9                3.000000                  0.777778                  4.555556   \n",
            "\n",
            "   rushing_tds_season_avg  fantasy_points_ppr_season_avg  yards_per_attempt  \\\n",
            "0                     NaN                            NaN           7.580000   \n",
            "1                0.000000                      27.160000           7.666667   \n",
            "2                0.000000                      28.400000           7.854545   \n",
            "3                0.333333                      28.493333           6.255814   \n",
            "4                0.250000                      24.135000          10.024390   \n",
            "5                0.200000                      26.856000           7.071429   \n",
            "6                0.166667                      25.376667           5.861111   \n",
            "7                0.142857                      25.242857           9.375000   \n",
            "8                0.125000                      25.237500           6.470588   \n",
            "9                0.111111                      23.877778           6.673913   \n",
            "\n",
            "       comp%  \n",
            "0  64.000000  \n",
            "1  66.666667  \n",
            "2  74.545455  \n",
            "3  51.162791  \n",
            "4  73.170732  \n",
            "5  80.952381  \n",
            "6  55.555556  \n",
            "7  70.000000  \n",
            "8  67.647059  \n",
            "9  65.217391  \n",
            "\n",
            "[10 rows x 139 columns]\n"
          ]
        }
      ]
    },
    {
      "cell_type": "code",
      "source": [
        "#Creating some efficiency metrics\n",
        "df_qb['pass_attempts_shifted'] = df_qb.groupby('player_id')['attempts'].shift(1)\n",
        "\n",
        "df_qb['comp_pct_last3'] = df_qb.groupby('player_id')['comp%'].shift(1).rolling(3,min_periods = 1).mean()\n",
        "df_qb['yards_per_attempt_last3'] = df_qb.groupby('player_id')['yards_per_attempt'].shift(1).rolling(3,min_periods = 1).mean()\n",
        "df_qb['td_rate_last3'] = df_qb.groupby('player_id')['passing_tds'].shift(1).rolling(3,min_periods = 1).sum() / df_qb['pass_attempts_shifted']\n",
        "df_qb['int_rate_last3'] = df_qb.groupby('player_id')['interceptions'].shift(1).rolling(3,min_periods = 1).sum() / df_qb['pass_attempts_shifted']\n",
        "\n",
        "# Creating rolling/lag features for advanced QB metrics\n",
        "advanced = ['pacr', 'dakota']\n",
        "for col in advanced:\n",
        "    df_qb[f'{col}_trend'] = df_qb.groupby('player_id')[col].shift(1).rolling(3,min_periods = 1).mean()\n",
        "\n",
        "# Creating defensive lag features\n",
        "opponent_cols = ['opp_avg_ypg_allowed', 'opp_avg_ppg_allowed', 'opp_int_pg', 'opp_sacks_pg', 'opp_fumbles_pg']\n",
        "for col in opponent_cols:\n",
        "    df_qb[f'{col}_trend'] = df_qb.groupby('player_id')[col].shift(1).rolling(3,min_periods = 1).mean()\n"
      ],
      "metadata": {
        "id": "fL_SnJgBSGM8"
      },
      "execution_count": 81,
      "outputs": []
    },
    {
      "cell_type": "code",
      "source": [
        "#print(df_qb.head(10))"
      ],
      "metadata": {
        "id": "WcKX-wgRTyq9"
      },
      "execution_count": 82,
      "outputs": []
    },
    {
      "cell_type": "markdown",
      "source": [
        "***Getting list of columns to select from***"
      ],
      "metadata": {
        "id": "stWcFfyOVv-i"
      }
    },
    {
      "cell_type": "code",
      "source": [
        "#print(df_qb.columns.tolist())"
      ],
      "metadata": {
        "id": "f-lDITNFV1nG"
      },
      "execution_count": 83,
      "outputs": []
    },
    {
      "cell_type": "code",
      "source": [
        "TARGET_COL = 'fantasy_points_ppr'\n",
        "\n",
        "# Creating test and train sets\n",
        "train_df = df_qb[\n",
        "    (df_qb[TARGET_COL].notna()) &\n",
        "    (\n",
        "        (df_qb['season'] < 2024) |\n",
        "        ((df_qb['season'] == 2024) & (df_qb['week'] < 14))\n",
        "    )\n",
        "]\n",
        "\n",
        "test_df = df_qb[(df_qb['season'] == 2024) & (df_qb['week'] == 14)]\n",
        "\n",
        "\n",
        "feature_cols = [\n",
        "    col for col in df_qb.columns\n",
        "    if col.endswith('_last3') or col.endswith('_trend') or col.endswith('_season_avg')\n",
        "] + ['player_display_name','season', 'week', 'opponent_team']\n",
        "\n",
        "\n",
        "X_train = train_df[feature_cols]\n",
        "y_train = train_df[TARGET_COL]\n",
        "\n",
        "X_test = test_df[feature_cols]\n",
        "\n",
        "# for RMSE testing purposes on the test set\n",
        "y_test = test_df[TARGET_COL]"
      ],
      "metadata": {
        "id": "utL4jQbhZBvE"
      },
      "execution_count": 84,
      "outputs": []
    },
    {
      "cell_type": "code",
      "source": [
        "categorical_cols = ['opponent_team', 'season', 'week', 'player_display_name']\n",
        "\n",
        "# Create Pool objects\n",
        "train_pool = Pool(data=X_train, label=y_train, cat_features=categorical_cols)\n",
        "test_pool = Pool(data=X_test, cat_features=categorical_cols)\n",
        "\n",
        "# Initialize the CatBoost model\n",
        "model = CatBoostRegressor(\n",
        "    iterations = 1000,\n",
        "    learning_rate = 0.01,\n",
        "    depth=6,\n",
        "    loss_function='RMSE',\n",
        "    random_seed=42,\n",
        "    verbose=50  # or 0 to suppress output\n",
        ")\n",
        "\n",
        "# Train\n",
        "model.fit(train_pool)"
      ],
      "metadata": {
        "colab": {
          "base_uri": "https://localhost:8080/"
        },
        "id": "YP-yFJe5bAPz",
        "outputId": "98da165a-6380-4891-fc98-49bf99d8df3a"
      },
      "execution_count": 85,
      "outputs": [
        {
          "output_type": "stream",
          "name": "stdout",
          "text": [
            "0:\tlearn: 8.9456128\ttotal: 5.29ms\tremaining: 5.29s\n",
            "50:\tlearn: 8.1178320\ttotal: 480ms\tremaining: 8.94s\n",
            "100:\tlearn: 7.6410595\ttotal: 945ms\tremaining: 8.41s\n",
            "150:\tlearn: 7.3802963\ttotal: 1.42s\tremaining: 7.97s\n",
            "200:\tlearn: 7.2176080\ttotal: 1.9s\tremaining: 7.55s\n",
            "250:\tlearn: 7.0782452\ttotal: 2.38s\tremaining: 7.1s\n",
            "300:\tlearn: 6.9539157\ttotal: 2.85s\tremaining: 6.63s\n",
            "350:\tlearn: 6.8611232\ttotal: 3.35s\tremaining: 6.19s\n",
            "400:\tlearn: 6.7691747\ttotal: 3.83s\tremaining: 5.72s\n",
            "450:\tlearn: 6.6989539\ttotal: 4.29s\tremaining: 5.22s\n",
            "500:\tlearn: 6.6265265\ttotal: 4.76s\tremaining: 4.75s\n",
            "550:\tlearn: 6.5734129\ttotal: 5.23s\tremaining: 4.26s\n",
            "600:\tlearn: 6.5214721\ttotal: 5.7s\tremaining: 3.78s\n",
            "650:\tlearn: 6.4766232\ttotal: 6.17s\tremaining: 3.31s\n",
            "700:\tlearn: 6.4189386\ttotal: 6.66s\tremaining: 2.84s\n",
            "750:\tlearn: 6.3705137\ttotal: 7.11s\tremaining: 2.36s\n",
            "800:\tlearn: 6.3211150\ttotal: 7.57s\tremaining: 1.88s\n",
            "850:\tlearn: 6.2796464\ttotal: 8.03s\tremaining: 1.41s\n",
            "900:\tlearn: 6.2402344\ttotal: 8.53s\tremaining: 937ms\n",
            "950:\tlearn: 6.1951748\ttotal: 9.02s\tremaining: 465ms\n",
            "999:\tlearn: 6.1553115\ttotal: 10s\tremaining: 0us\n"
          ]
        },
        {
          "output_type": "execute_result",
          "data": {
            "text/plain": [
              "<catboost.core.CatBoostRegressor at 0x78564e26ef90>"
            ]
          },
          "metadata": {},
          "execution_count": 85
        }
      ]
    },
    {
      "cell_type": "code",
      "source": [
        "y_pred = model.predict(test_pool)\n",
        "\n",
        "# Attach predictions to test set for review\n",
        "QB_test_pred = X_test.copy()\n",
        "QB_test_pred['predicted_fantasy_points'] = y_pred\n",
        "#QB_test_pred['espn_id'] = test_df['espn_id']\n",
        "QB_test_pred['espn_id'] = test_df['espn_id'].astype(int)\n",
        "QB_test_pred['position'] = \"QB\"\n",
        "#print(QB_test_pred.head(10))\n",
        "#print(QB_test_pred.columns.tolist())\n",
        "\n",
        "print(QB_test_pred[['season', 'week', 'opponent_team', 'predicted_fantasy_points', 'player_display_name', 'espn_id', 'position']])"
      ],
      "metadata": {
        "colab": {
          "base_uri": "https://localhost:8080/"
        },
        "id": "l6LPhDGCcr5R",
        "outputId": "85d665a0-2bcb-47fc-ef96-f8406cd8b1a1"
      },
      "execution_count": 86,
      "outputs": [
        {
          "output_type": "stream",
          "name": "stdout",
          "text": [
            "       season  week opponent_team  predicted_fantasy_points  \\\n",
            "16904    2024    14           MIA                 15.398341   \n",
            "16933    2024    14           BUF                 16.767097   \n",
            "16953    2024    14           CLE                 16.336262   \n",
            "16971    2024    14           MIN                 14.764804   \n",
            "17095    2024    14           ARI                 17.328012   \n",
            "17141    2024    14           NYG                 16.465678   \n",
            "17192    2024    14           PIT                 13.248461   \n",
            "17272    2024    14            KC                  9.573386   \n",
            "17368    2024    14           CHI                  9.949140   \n",
            "17510    2024    14            GB                 17.270025   \n",
            "17624    2024    14           ATL                  8.258414   \n",
            "17781    2024    14           CIN                 13.767175   \n",
            "17869    2024    14           LAC                 20.055098   \n",
            "18439    2024    14            LV                 17.792246   \n",
            "18457    2024    14            LA                 21.194795   \n",
            "18484    2024    14           ATL                 17.116504   \n",
            "18626    2024    14           SEA                 18.083104   \n",
            "18952    2024    14            NO                 11.881126   \n",
            "19093    2024    14           NYJ                 16.256233   \n",
            "19190    2024    14           DET                 16.488463   \n",
            "19316    2024    14            KC                 17.117056   \n",
            "19359    2024    14           CAR                 20.864937   \n",
            "19480    2024    14           DAL                 18.669784   \n",
            "19906    2024    14           TEN                 13.467034   \n",
            "20581    2024    14           CHI                 16.968745   \n",
            "20735    2024    14            TB                 11.204834   \n",
            "20826    2024    14            SF                  7.185137   \n",
            "21001    2024    14            TB                 12.691706   \n",
            "21451    2024    14           NYG                  6.917427   \n",
            "21657    2024    14           PHI                 13.911401   \n",
            "21671    2024    14           JAX                 13.569876   \n",
            "22407    2024    14            SF                 16.011434   \n",
            "\n",
            "      player_display_name  espn_id position  \n",
            "16904       Aaron Rodgers     8439       QB  \n",
            "16933    Matthew Stafford    12483       QB  \n",
            "16953      Russell Wilson    14881       QB  \n",
            "16971        Kirk Cousins    14880       QB  \n",
            "17095          Geno Smith    15864       QB  \n",
            "17141          Derek Carr    16757       QB  \n",
            "17192      Jameis Winston  2969939       QB  \n",
            "17272     Taylor Heinicke  2565969       QB  \n",
            "17368       Brandon Allen  2574511       QB  \n",
            "17510          Jared Goff  3046779       QB  \n",
            "17624        Nick Mullens  3059989       QB  \n",
            "17781         Cooper Rush  2972515       QB  \n",
            "17869     Patrick Mahomes  3139477       QB  \n",
            "18439      Baker Mayfield  3052587       QB  \n",
            "18457          Josh Allen  3918298       QB  \n",
            "18484         Sam Darnold  3912547       QB  \n",
            "18626        Kyler Murray  3917315       QB  \n",
            "18952           Drew Lock  3924327       QB  \n",
            "19093      Tua Tagovailoa  4241479       QB  \n",
            "19190         Jordan Love  4036378       QB  \n",
            "19316      Justin Herbert  4038941       QB  \n",
            "19359         Jalen Hurts  4040715       QB  \n",
            "19480          Joe Burrow  3915511       QB  \n",
            "19906           Mac Jones  4241464       QB  \n",
            "20581         Brock Purdy  4361741       QB  \n",
            "20735      Desmond Ridder  4239086       QB  \n",
            "20826        Tyson Bagent  4434153       QB  \n",
            "21001     Aidan O'Connell  4260394       QB  \n",
            "21451         Jake Haener  4243322       QB  \n",
            "21657         Bryce Young  4685720       QB  \n",
            "21671          Will Levis  4361418       QB  \n",
            "22407      Caleb Williams  4431611       QB  \n"
          ]
        }
      ]
    },
    {
      "cell_type": "markdown",
      "source": [
        "### Adding boom/bust prediction interval"
      ],
      "metadata": {
        "id": "v-QJKtMaa8Nm"
      }
    },
    {
      "cell_type": "code",
      "source": [
        "# Finding standard deviation residuals from trian data\n",
        "train_preds = model.predict(train_pool)\n",
        "residuals = y_train - train_preds\n",
        "std_resid = residuals.std()\n",
        "\n",
        "# Creating boom/bust interval\n",
        "ci_upper = y_pred + 1.645 * std_resid\n",
        "ci_lower = y_pred - 1.645 * std_resid\n",
        "\n",
        "# setting minimum to 0\n",
        "ci_lower = np.maximum(ci_lower, 0)\n",
        "\n",
        "\n",
        "QB_test_pred['upper_bound'] = ci_upper\n",
        "QB_test_pred['lower_bound'] = ci_lower\n",
        "\n",
        "print(QB_test_pred[['season', 'week', 'opponent_team', 'lower_bound', 'predicted_fantasy_points', 'upper_bound', 'player_display_name', 'espn_id']])"
      ],
      "metadata": {
        "colab": {
          "base_uri": "https://localhost:8080/"
        },
        "id": "sWnCEsoba8g1",
        "outputId": "7325c3ea-b5a5-45db-cf18-b0eb4bdf24c2"
      },
      "execution_count": 87,
      "outputs": [
        {
          "output_type": "stream",
          "name": "stdout",
          "text": [
            "       season  week opponent_team  lower_bound  predicted_fantasy_points  \\\n",
            "16904    2024    14           MIA     5.165464                 15.398341   \n",
            "16933    2024    14           BUF     6.534220                 16.767097   \n",
            "16953    2024    14           CLE     6.103385                 16.336262   \n",
            "16971    2024    14           MIN     4.531927                 14.764804   \n",
            "17095    2024    14           ARI     7.095135                 17.328012   \n",
            "17141    2024    14           NYG     6.232800                 16.465678   \n",
            "17192    2024    14           PIT     3.015584                 13.248461   \n",
            "17272    2024    14            KC     0.000000                  9.573386   \n",
            "17368    2024    14           CHI     0.000000                  9.949140   \n",
            "17510    2024    14            GB     7.037148                 17.270025   \n",
            "17624    2024    14           ATL     0.000000                  8.258414   \n",
            "17781    2024    14           CIN     3.534297                 13.767175   \n",
            "17869    2024    14           LAC     9.822221                 20.055098   \n",
            "18439    2024    14            LV     7.559369                 17.792246   \n",
            "18457    2024    14            LA    10.961918                 21.194795   \n",
            "18484    2024    14           ATL     6.883627                 17.116504   \n",
            "18626    2024    14           SEA     7.850227                 18.083104   \n",
            "18952    2024    14            NO     1.648249                 11.881126   \n",
            "19093    2024    14           NYJ     6.023355                 16.256233   \n",
            "19190    2024    14           DET     6.255586                 16.488463   \n",
            "19316    2024    14            KC     6.884179                 17.117056   \n",
            "19359    2024    14           CAR    10.632060                 20.864937   \n",
            "19480    2024    14           DAL     8.436907                 18.669784   \n",
            "19906    2024    14           TEN     3.234157                 13.467034   \n",
            "20581    2024    14           CHI     6.735868                 16.968745   \n",
            "20735    2024    14            TB     0.971957                 11.204834   \n",
            "20826    2024    14            SF     0.000000                  7.185137   \n",
            "21001    2024    14            TB     2.458829                 12.691706   \n",
            "21451    2024    14           NYG     0.000000                  6.917427   \n",
            "21657    2024    14           PHI     3.678524                 13.911401   \n",
            "21671    2024    14           JAX     3.336999                 13.569876   \n",
            "22407    2024    14            SF     5.778557                 16.011434   \n",
            "\n",
            "       upper_bound player_display_name  espn_id  \n",
            "16904    25.631218       Aaron Rodgers     8439  \n",
            "16933    26.999974    Matthew Stafford    12483  \n",
            "16953    26.569139      Russell Wilson    14881  \n",
            "16971    24.997681        Kirk Cousins    14880  \n",
            "17095    27.560889          Geno Smith    15864  \n",
            "17141    26.698555          Derek Carr    16757  \n",
            "17192    23.481338      Jameis Winston  2969939  \n",
            "17272    19.806263     Taylor Heinicke  2565969  \n",
            "17368    20.182017       Brandon Allen  2574511  \n",
            "17510    27.502902          Jared Goff  3046779  \n",
            "17624    18.491291        Nick Mullens  3059989  \n",
            "17781    24.000052         Cooper Rush  2972515  \n",
            "17869    30.287975     Patrick Mahomes  3139477  \n",
            "18439    28.025123      Baker Mayfield  3052587  \n",
            "18457    31.427672          Josh Allen  3918298  \n",
            "18484    27.349381         Sam Darnold  3912547  \n",
            "18626    28.315981        Kyler Murray  3917315  \n",
            "18952    22.114003           Drew Lock  3924327  \n",
            "19093    26.489110      Tua Tagovailoa  4241479  \n",
            "19190    26.721340         Jordan Love  4036378  \n",
            "19316    27.349933      Justin Herbert  4038941  \n",
            "19359    31.097814         Jalen Hurts  4040715  \n",
            "19480    28.902661          Joe Burrow  3915511  \n",
            "19906    23.699911           Mac Jones  4241464  \n",
            "20581    27.201622         Brock Purdy  4361741  \n",
            "20735    21.437711      Desmond Ridder  4239086  \n",
            "20826    17.418015        Tyson Bagent  4434153  \n",
            "21001    22.924583     Aidan O'Connell  4260394  \n",
            "21451    17.150304         Jake Haener  4243322  \n",
            "21657    24.144279         Bryce Young  4685720  \n",
            "21671    23.802753          Will Levis  4361418  \n",
            "22407    26.244312      Caleb Williams  4431611  \n"
          ]
        }
      ]
    },
    {
      "cell_type": "markdown",
      "source": [
        "### Evaluating QB CatBoost model predictions"
      ],
      "metadata": {
        "id": "DKIYqrWBa8zR"
      }
    },
    {
      "cell_type": "code",
      "source": [
        "from sklearn.metrics import mean_squared_error, mean_absolute_error\n",
        "\n",
        "# Actuals and predictions\n",
        "y_true = y_test\n",
        "y_pred = QB_test_pred['predicted_fantasy_points']\n",
        "\n",
        "# RMSE and MAE\n",
        "rmse = mean_squared_error(y_true, y_pred)\n",
        "mae = mean_absolute_error(y_true, y_pred)\n",
        "\n",
        "print(f\"✅ RMSE: {rmse:.2f}\")\n",
        "print(f\"✅ MAE: {mae:.2f}\")"
      ],
      "metadata": {
        "colab": {
          "base_uri": "https://localhost:8080/"
        },
        "id": "a2PEKAX0a9FY",
        "outputId": "47475adc-8282-426d-8893-a1ad0db5deb5"
      },
      "execution_count": 88,
      "outputs": [
        {
          "output_type": "stream",
          "name": "stdout",
          "text": [
            "✅ RMSE: 66.43\n",
            "✅ MAE: 5.82\n"
          ]
        }
      ]
    },
    {
      "cell_type": "markdown",
      "source": [
        "# **RB CatBoost Model**"
      ],
      "metadata": {
        "id": "-kWhb3YMjA6F"
      }
    },
    {
      "cell_type": "code",
      "source": [
        "df_rb = weekly_stats_all[weekly_stats_all['position'] == 'RB'].copy()\n",
        "\n",
        "# Sorting for time-series purposes\n",
        "df_rb = df_rb.sort_values(by=['player_id', 'season', 'week'])\n",
        "\n",
        "# Creating lag/rolling features for model\n",
        "# Takes into account past 3 games (or less, depending on the data available that week)\n",
        "rolling_cols = [\n",
        "    'rushing_yards', 'rushing_tds',\n",
        "    'fantasy_points_ppr', 'carries',\n",
        "    'rushing_fumbles_lost', 'rushing_epa', 'rushing_2pt_conversions', 'passing_2pt_conversions', 'receptions', 'targets', 'receiving_yards', 'receiving_tds', 'receiving_fumbles', 'receiving_fumbles_lost', 'receiving_air_yards', 'receiving_yards_after_catch', 'receiving_epa', 'receiving_2pt_conversions', 'target_share', 'offense_snaps', 'offense_pct', 'air_yards_share'\n",
        "    ]\n",
        "\n",
        "for col in rolling_cols:\n",
        "    df_rb[f'{col}_last3'] = df_rb.groupby('player_id')[col].shift(1).rolling(3, min_periods = 1).mean()\n",
        "\n",
        "# Creating season averages for certain stats\n",
        "expanding_cols = ['rushing_yards', 'rushing_tds', 'fantasy_points_ppr'\n",
        "]\n",
        "\n",
        "for col in expanding_cols:\n",
        "    df_rb[col] = pd.to_numeric(df_rb[col], errors='coerce')\n",
        "\n",
        "for col in expanding_cols:\n",
        "    df_rb[f'{col}_season_avg'] = (\n",
        "        df_rb.groupby(['player_id', 'season'])[col]\n",
        "        .transform(lambda x: x.shift(1).expanding().mean())\n",
        "    )\n",
        "\n",
        "\n",
        "df_rb['carries'] = pd.to_numeric(df_rb['carries'], errors='coerce')\n",
        "\n",
        "# Creating yards per carry feature\n",
        "df_rb['yards_per_attempt'] = df_rb['rushing_yards'] / df_rb['carries'].replace(0, pd.NA)\n",
        "df_rb['yards_per_attempt'] = pd.to_numeric(df_rb['yards_per_attempt'], errors='coerce')\n",
        "\n",
        "print(df_rb.head(10))"
      ],
      "metadata": {
        "id": "Pvy4t_vwi74-",
        "colab": {
          "base_uri": "https://localhost:8080/"
        },
        "outputId": "ec843de2-f1dc-42a2-f105-65cd7719426d"
      },
      "execution_count": 89,
      "outputs": [
        {
          "output_type": "stream",
          "name": "stdout",
          "text": [
            "      player_id player_name player_display_name position position_group  \\\n",
            "68   00-0025394  A.Peterson     Adrian Peterson       RB             RB   \n",
            "69   00-0025394  A.Peterson     Adrian Peterson       RB             RB   \n",
            "70   00-0025394  A.Peterson     Adrian Peterson       RB             RB   \n",
            "71   00-0025394  A.Peterson     Adrian Peterson       RB             RB   \n",
            "266  00-0027966    M.Ingram         Mark Ingram       RB             RB   \n",
            "267  00-0027966    M.Ingram         Mark Ingram       RB             RB   \n",
            "268  00-0027966    M.Ingram         Mark Ingram       RB             RB   \n",
            "269  00-0027966    M.Ingram         Mark Ingram       RB             RB   \n",
            "270  00-0027966    M.Ingram         Mark Ingram       RB             RB   \n",
            "271  00-0027966    M.Ingram         Mark Ingram       RB             RB   \n",
            "\n",
            "                                          headshot_url recent_team  season  \\\n",
            "68   https://static.www.nfl.com/image/private/f_aut...         TEN    2021   \n",
            "69   https://static.www.nfl.com/image/private/f_aut...         TEN    2021   \n",
            "70   https://static.www.nfl.com/image/private/f_aut...         TEN    2021   \n",
            "71   https://static.www.nfl.com/image/private/f_aut...         SEA    2021   \n",
            "266  https://static.www.nfl.com/image/private/f_aut...         HOU    2021   \n",
            "267  https://static.www.nfl.com/image/private/f_aut...         HOU    2021   \n",
            "268  https://static.www.nfl.com/image/private/f_aut...         HOU    2021   \n",
            "269  https://static.www.nfl.com/image/private/f_aut...         HOU    2021   \n",
            "270  https://static.www.nfl.com/image/private/f_aut...         HOU    2021   \n",
            "271  https://static.www.nfl.com/image/private/f_aut...         HOU    2021   \n",
            "\n",
            "     week season_type  ... receiving_epa_last3  \\\n",
            "68      9         REG  ...                 NaN   \n",
            "69     10         REG  ...           -0.011573   \n",
            "70     11         REG  ...           -0.229346   \n",
            "71     13         REG  ...           -0.425882   \n",
            "266     1         REG  ...           -0.633036   \n",
            "267     2         REG  ...           -1.201122   \n",
            "268     3         REG  ...           -1.553782   \n",
            "269     4         REG  ...           -1.382020   \n",
            "270     5         REG  ...           -1.281385   \n",
            "271     6         REG  ...           -1.038497   \n",
            "\n",
            "     receiving_2pt_conversions_last3  target_share_last3  offense_snaps_last3  \\\n",
            "68                               NaN                 NaN                  NaN   \n",
            "69                               0.0            0.038462            19.000000   \n",
            "70                               0.0            0.037749            19.500000   \n",
            "71                               0.0            0.038238            18.000000   \n",
            "266                              0.0            0.038126            17.500000   \n",
            "267                              0.0            0.035233            25.500000   \n",
            "268                              0.0            0.051339            27.500000   \n",
            "269                              0.0            0.047560            24.666667   \n",
            "270                              0.0            0.055714            16.000000   \n",
            "271                              0.0            0.040000            18.333333   \n",
            "\n",
            "     offense_pct_last3  air_yards_share_last3  rushing_yards_season_avg  \\\n",
            "68                 NaN                    NaN                       NaN   \n",
            "69            0.330000              -0.041237                 21.000000   \n",
            "70            0.330000              -0.043007                 21.000000   \n",
            "71            0.283333              -0.029452                 27.333333   \n",
            "266           0.260000              -0.023559                       NaN   \n",
            "267           0.325000               0.030816                 85.000000   \n",
            "268           0.385000               0.043939                 63.000000   \n",
            "269           0.373333               0.025784                 49.000000   \n",
            "270           0.290000               0.006689                 42.750000   \n",
            "271           0.333333              -0.010526                 42.400000   \n",
            "\n",
            "     rushing_tds_season_avg  fantasy_points_ppr_season_avg  yards_per_attempt  \n",
            "68                      NaN                            NaN           2.100000  \n",
            "69                 1.000000                       9.600000           2.625000  \n",
            "70                 0.500000                       6.300000           4.444444  \n",
            "71                 0.333333                       6.333333           1.454545  \n",
            "266                     NaN                            NaN           3.269231  \n",
            "267                1.000000                      14.500000           2.928571  \n",
            "268                0.500000                       9.750000           3.500000  \n",
            "269                0.333333                       7.500000           4.000000  \n",
            "270                0.250000                       6.225000           2.562500  \n",
            "271                0.200000                       5.800000           4.055556  \n",
            "\n",
            "[10 rows x 142 columns]\n"
          ]
        }
      ]
    },
    {
      "cell_type": "code",
      "source": [
        "# Creating efficiency metrics for RBs\n",
        "df_rb['carries_shifted'] = df_rb.groupby('player_id')['carries'].shift(1)\n",
        "df_rb['receptions_shifted'] = df_rb.groupby('player_id')['receptions'].shift(1)\n",
        "\n",
        "\n",
        "df_rb['yards_per_attempt_last3'] = df_rb.groupby('player_id')['yards_per_attempt'].shift(1).rolling(3,min_periods = 1).mean()\n",
        "df_rb['rush_td_rate_last3'] = df_rb.groupby('player_id')['rushing_tds'].shift(1).rolling(3,min_periods = 1).sum() / df_rb['carries_shifted']\n",
        "df_rb['rec_td_rate_last3'] = df_rb.groupby('player_id')['receiving_tds'].shift(1).rolling(3,min_periods = 1).sum() / df_rb['receptions_shifted']\n",
        "\n",
        "# Crewating lag/rolling features for RB advanced stats\n",
        "advanced = ['wopr', 'racr']\n",
        "for col in advanced:\n",
        "    df_rb[f'{col}_trend'] = df_rb.groupby('player_id')[col].shift(1).rolling(3,min_periods = 1).mean()\n",
        "\n",
        "# Create lag features for opposing defensive stats\n",
        "opponent_cols = ['opp_avg_ypg_allowed', 'opp_avg_ppg_allowed', 'opp_int_pg', 'opp_sacks_pg', 'opp_fumbles_pg']\n",
        "for col in opponent_cols:\n",
        "    df_rb[f'{col}_trend'] = df_rb.groupby('player_id')[col].shift(1).rolling(3,min_periods = 1).mean()\n"
      ],
      "metadata": {
        "id": "eyBTkXJqlPfu"
      },
      "execution_count": 90,
      "outputs": []
    },
    {
      "cell_type": "code",
      "source": [
        "TARGET_COL = 'fantasy_points_ppr'\n",
        "\n",
        "# Creating train and test sets\n",
        "train_df = df_rb[\n",
        "    (df_rb[TARGET_COL].notna()) &\n",
        "    (\n",
        "        (df_rb['season'] < 2024) |\n",
        "        ((df_rb['season'] == 2024) & (df_rb['week'] < 14))\n",
        "    )\n",
        "]\n",
        "\n",
        "test_df = df_rb[(df_rb['season'] == 2024) & (df_rb['week'] == 14)]\n",
        "\n",
        "\n",
        "feature_cols = [\n",
        "    col for col in df_rb.columns\n",
        "    if col.endswith('_last3') or col.endswith('_trend') or col.endswith('_season_avg')\n",
        "] + ['player_display_name','season', 'week', 'opponent_team']\n",
        "\n",
        "\n",
        "X_train = train_df[feature_cols]\n",
        "y_train = train_df[TARGET_COL]\n",
        "\n",
        "X_test = test_df[feature_cols]\n",
        "\n",
        "# for RMSE testing purposes on the test set\n",
        "y_test = test_df[TARGET_COL]"
      ],
      "metadata": {
        "id": "iJquWOCqtpa_"
      },
      "execution_count": 91,
      "outputs": []
    },
    {
      "cell_type": "code",
      "source": [
        "categorical_cols = ['opponent_team', 'season', 'week', 'player_display_name']\n",
        "\n",
        "# Create Pool objects\n",
        "train_pool = Pool(data=X_train, label=y_train, cat_features=categorical_cols)\n",
        "test_pool = Pool(data=X_test, cat_features=categorical_cols)\n",
        "\n",
        "# Initialize the CatBoost model\n",
        "model = CatBoostRegressor(\n",
        "    #iterations=200,\n",
        "    iterations = 1000,\n",
        "    learning_rate = 0.01,\n",
        "    depth=6,\n",
        "    loss_function='RMSE',\n",
        "    random_seed=42,\n",
        "    verbose=50  # or 0 to suppress output\n",
        ")\n",
        "\n",
        "# Train\n",
        "model.fit(train_pool)"
      ],
      "metadata": {
        "id": "VNdpP2YQtsYu",
        "outputId": "d52a6e1a-f9e1-4274-8c2a-4f12989a704e",
        "colab": {
          "base_uri": "https://localhost:8080/"
        }
      },
      "execution_count": 92,
      "outputs": [
        {
          "output_type": "stream",
          "name": "stdout",
          "text": [
            "0:\tlearn: 7.8844507\ttotal: 35.3ms\tremaining: 35.3s\n",
            "50:\tlearn: 7.1091038\ttotal: 1.31s\tremaining: 24.4s\n",
            "100:\tlearn: 6.7186174\ttotal: 2.17s\tremaining: 19.3s\n",
            "150:\tlearn: 6.5112589\ttotal: 2.76s\tremaining: 15.5s\n",
            "200:\tlearn: 6.3966107\ttotal: 3.32s\tremaining: 13.2s\n",
            "250:\tlearn: 6.3243741\ttotal: 3.9s\tremaining: 11.7s\n",
            "300:\tlearn: 6.2673514\ttotal: 4.48s\tremaining: 10.4s\n",
            "350:\tlearn: 6.2252575\ttotal: 5.07s\tremaining: 9.38s\n",
            "400:\tlearn: 6.1873968\ttotal: 5.65s\tremaining: 8.44s\n",
            "450:\tlearn: 6.1521589\ttotal: 6.26s\tremaining: 7.62s\n",
            "500:\tlearn: 6.1211165\ttotal: 6.88s\tremaining: 6.85s\n",
            "550:\tlearn: 6.0919244\ttotal: 7.46s\tremaining: 6.07s\n",
            "600:\tlearn: 6.0590259\ttotal: 8.05s\tremaining: 5.34s\n",
            "650:\tlearn: 6.0330075\ttotal: 8.63s\tremaining: 4.63s\n",
            "700:\tlearn: 6.0075611\ttotal: 9.23s\tremaining: 3.94s\n",
            "750:\tlearn: 5.9851419\ttotal: 9.8s\tremaining: 3.25s\n",
            "800:\tlearn: 5.9593712\ttotal: 10.4s\tremaining: 2.58s\n",
            "850:\tlearn: 5.9339092\ttotal: 11s\tremaining: 1.92s\n",
            "900:\tlearn: 5.9055668\ttotal: 11.6s\tremaining: 1.27s\n",
            "950:\tlearn: 5.8808430\ttotal: 12.5s\tremaining: 647ms\n",
            "999:\tlearn: 5.8544912\ttotal: 13.8s\tremaining: 0us\n"
          ]
        },
        {
          "output_type": "execute_result",
          "data": {
            "text/plain": [
              "<catboost.core.CatBoostRegressor at 0x78564e28e150>"
            ]
          },
          "metadata": {},
          "execution_count": 92
        }
      ]
    },
    {
      "cell_type": "code",
      "source": [
        "y_pred = model.predict(test_pool)\n",
        "\n",
        "# Attach predictions to test set for review\n",
        "RB_test_pred = X_test.copy()\n",
        "RB_test_pred['predicted_fantasy_points'] = y_pred\n",
        "RB_test_pred['espn_id'] = test_df['espn_id'].apply(lambda x: str(int(x)) if pd.notna(x) else np.nan)\n",
        "RB_test_pred['position'] = \"RB\"\n",
        "\n",
        "print(RB_test_pred[['season', 'week', 'opponent_team', 'predicted_fantasy_points', 'player_display_name', 'espn_id', 'position']])"
      ],
      "metadata": {
        "id": "YPNhPUb7tugT",
        "outputId": "a4d18143-b2d0-454d-820b-30c9353dffb7",
        "colab": {
          "base_uri": "https://localhost:8080/"
        }
      },
      "execution_count": 93,
      "outputs": [
        {
          "output_type": "stream",
          "name": "stdout",
          "text": [
            "       season  week opponent_team  predicted_fantasy_points  \\\n",
            "17108    2024    14           CLE                  5.243407   \n",
            "17290    2024    14            TB                  9.328712   \n",
            "17470    2024    14           CIN                  5.558331   \n",
            "17603    2024    14           ATL                 14.405033   \n",
            "17675    2024    14           LAC                  5.799112   \n",
            "...       ...   ...           ...                       ...   \n",
            "22051    2024    14           BUF                  4.237266   \n",
            "22104    2024    14           MIA                  5.381880   \n",
            "22117    2024    14           MIA                  4.171702   \n",
            "22222    2024    14           NYJ                  3.950106   \n",
            "22444    2024    14           SEA                  4.711971   \n",
            "\n",
            "         player_display_name  espn_id position  \n",
            "17108  Cordarrelle Patterson    15807       RB  \n",
            "17290         Ameer Abdullah  2576336       RB  \n",
            "17470        Ezekiel Elliott  3051392       RB  \n",
            "17603            Aaron Jones  3042519       RB  \n",
            "17675          Samaje Perine  3116389       RB  \n",
            "...                      ...      ...      ...  \n",
            "22051            Blake Corum  4429096       RB  \n",
            "22104          Braelon Allen  4685247       RB  \n",
            "22117           Isaiah Davis  4695404       RB  \n",
            "22222          Jaylen Wright  4682745       RB  \n",
            "22444            Trey Benson  4429275       RB  \n",
            "\n",
            "[63 rows x 7 columns]\n"
          ]
        }
      ]
    },
    {
      "cell_type": "markdown",
      "source": [
        "### Adding boom/bust prediction interval"
      ],
      "metadata": {
        "id": "yG8w4njlaiv5"
      }
    },
    {
      "cell_type": "code",
      "source": [
        "train_preds = model.predict(train_pool)\n",
        "residuals = y_train - train_preds\n",
        "std_resid = residuals.std()\n",
        "\n",
        "# Creating boom/bust intervals\n",
        "ci_upper = y_pred + 1.645 * std_resid\n",
        "ci_lower = y_pred - 1.645 * std_resid\n",
        "\n",
        "# setting minimum to 0\n",
        "ci_lower = np.maximum(ci_lower, 0)\n",
        "\n",
        "\n",
        "RB_test_pred['upper_bound'] = ci_upper\n",
        "RB_test_pred['lower_bound'] = ci_lower\n",
        "\n",
        "print(RB_test_pred[['season', 'week', 'opponent_team', 'lower_bound', 'predicted_fantasy_points', 'upper_bound', 'player_display_name', 'espn_id', 'position']])"
      ],
      "metadata": {
        "colab": {
          "base_uri": "https://localhost:8080/"
        },
        "id": "fvXIydbAajCk",
        "outputId": "21dfa93e-9434-4719-cbb5-a7679f52c482"
      },
      "execution_count": 94,
      "outputs": [
        {
          "output_type": "stream",
          "name": "stdout",
          "text": [
            "       season  week opponent_team  lower_bound  predicted_fantasy_points  \\\n",
            "17108    2024    14           CLE     0.000000                  5.243407   \n",
            "17290    2024    14            TB     0.000000                  9.328712   \n",
            "17470    2024    14           CIN     0.000000                  5.558331   \n",
            "17603    2024    14           ATL     4.700067                 14.405033   \n",
            "17675    2024    14           LAC     0.000000                  5.799112   \n",
            "...       ...   ...           ...          ...                       ...   \n",
            "22051    2024    14           BUF     0.000000                  4.237266   \n",
            "22104    2024    14           MIA     0.000000                  5.381880   \n",
            "22117    2024    14           MIA     0.000000                  4.171702   \n",
            "22222    2024    14           NYJ     0.000000                  3.950106   \n",
            "22444    2024    14           SEA     0.000000                  4.711971   \n",
            "\n",
            "       upper_bound    player_display_name  espn_id position  \n",
            "17108    14.948374  Cordarrelle Patterson    15807       RB  \n",
            "17290    19.033678         Ameer Abdullah  2576336       RB  \n",
            "17470    15.263297        Ezekiel Elliott  3051392       RB  \n",
            "17603    24.109999            Aaron Jones  3042519       RB  \n",
            "17675    15.504078          Samaje Perine  3116389       RB  \n",
            "...            ...                    ...      ...      ...  \n",
            "22051    13.942232            Blake Corum  4429096       RB  \n",
            "22104    15.086846          Braelon Allen  4685247       RB  \n",
            "22117    13.876668           Isaiah Davis  4695404       RB  \n",
            "22222    13.655072          Jaylen Wright  4682745       RB  \n",
            "22444    14.416937            Trey Benson  4429275       RB  \n",
            "\n",
            "[63 rows x 9 columns]\n"
          ]
        }
      ]
    },
    {
      "cell_type": "markdown",
      "source": [
        "### Evaluating RB CatBoost model predictions"
      ],
      "metadata": {
        "id": "mpqNrANUajZn"
      }
    },
    {
      "cell_type": "code",
      "source": [
        "from sklearn.metrics import mean_squared_error, mean_absolute_error\n",
        "\n",
        "# Actuals and predictions\n",
        "y_true = y_test\n",
        "y_pred = RB_test_pred['predicted_fantasy_points']\n",
        "\n",
        "# RMSE and MAE\n",
        "rmse = mean_squared_error(y_true, y_pred)\n",
        "mae = mean_absolute_error(y_true, y_pred)\n",
        "\n",
        "print(f\"✅ RMSE: {rmse:.2f}\")\n",
        "print(f\"✅ MAE: {mae:.2f}\")"
      ],
      "metadata": {
        "id": "JYa7BpnRuExK",
        "outputId": "b56b6be2-768d-425f-a0d6-45b8d67afdb1",
        "colab": {
          "base_uri": "https://localhost:8080/"
        }
      },
      "execution_count": 95,
      "outputs": [
        {
          "output_type": "stream",
          "name": "stdout",
          "text": [
            "✅ RMSE: 51.45\n",
            "✅ MAE: 5.08\n"
          ]
        }
      ]
    },
    {
      "cell_type": "markdown",
      "source": [
        "# **WR CatBoost Model**"
      ],
      "metadata": {
        "id": "RnBwJLf0pO_z"
      }
    },
    {
      "cell_type": "code",
      "source": [
        "df_wr = weekly_stats_all[weekly_stats_all['position'] == 'WR'].copy()\n",
        "\n",
        "# Sorting for time series purposes\n",
        "df_wr = df_wr.sort_values(by=['player_id', 'season', 'week'])\n",
        "\n",
        "# Creating lag/rolling features to be used as input for the model\n",
        "rolling_cols = [\n",
        "    'rushing_yards', 'rushing_tds',\n",
        "    'fantasy_points_ppr', 'carries',\n",
        "    'rushing_epa', 'rushing_2pt_conversions', 'receptions', 'targets', 'receiving_yards', 'receiving_tds', 'receiving_fumbles', 'receiving_fumbles_lost', 'receiving_air_yards', 'receiving_yards_after_catch', 'receiving_epa', 'receiving_2pt_conversions', 'target_share', 'offense_snaps', 'offense_pct', 'air_yards_share'\n",
        "    ]\n",
        "\n",
        "for col in rolling_cols:\n",
        "    df_wr[f'{col}_last3'] = df_wr.groupby('player_id')[col].shift(1).rolling(3, min_periods = 1).mean()\n",
        "\n",
        "# Creating season averages\n",
        "expanding_cols = ['receiving_yards', 'receiving_tds', 'fantasy_points_ppr'\n",
        "]\n",
        "\n",
        "for col in expanding_cols:\n",
        "    df_wr[col] = pd.to_numeric(df_wr[col], errors='coerce')\n",
        "\n",
        "for col in expanding_cols:\n",
        "    df_wr[f'{col}_season_avg'] = (\n",
        "        df_wr.groupby(['player_id', 'season'])[col]\n",
        "        .transform(lambda x: x.shift(1).expanding().mean())\n",
        "    )\n",
        "\n",
        "\n",
        "df_wr['receiving_yards'] = pd.to_numeric(df_wr['receiving_yards'], errors='coerce')\n",
        "df_wr['receptions'] = pd.to_numeric(df_wr['receptions'], errors='coerce')\n",
        "\n",
        "# Creating yards per catch data\n",
        "df_wr['yards_per_catch'] = df_wr['receiving_yards'] / df_wr['receptions'].replace(0, pd.NA)\n",
        "df_wr['yards_per_catch'] = pd.to_numeric(df_wr['yards_per_catch'], errors='coerce')\n",
        "\n"
      ],
      "metadata": {
        "id": "dumUn3YCuSZi"
      },
      "execution_count": 96,
      "outputs": []
    },
    {
      "cell_type": "code",
      "source": [
        "# Creating WR efficiency metrics\n",
        "df_wr['carries_shifted'] = df_wr.groupby('player_id')['carries'].shift(1)\n",
        "df_wr['receptions_shifted'] = df_wr.groupby('player_id')['receptions'].shift(1)\n",
        "\n",
        "\n",
        "df_wr['yards_per_reception_last3'] = df_wr.groupby('player_id')['yards_per_catch'].shift(1).rolling(3,min_periods = 1).mean()\n",
        "df_wr['rec_td_rate_last3'] = df_wr.groupby('player_id')['receiving_tds'].shift(1).rolling(3,min_periods = 1).sum() / df_rb['receptions_shifted']\n",
        "\n",
        "# Creating rolling/lag features for advanced WR stats\n",
        "advanced = ['wopr', 'racr']\n",
        "for col in advanced:\n",
        "    df_wr[f'{col}_trend'] = df_wr.groupby('player_id')[col].shift(1).rolling(3,min_periods = 1).mean()\n",
        "\n",
        "# Creating lag/rolling features for opposing defense stats\n",
        "opponent_cols = ['opp_avg_ypg_allowed', 'opp_avg_ppg_allowed', 'opp_int_pg', 'opp_sacks_pg', 'opp_fumbles_pg']\n",
        "for col in opponent_cols:\n",
        "    df_wr[f'{col}_trend'] = df_wr.groupby('player_id')[col].shift(1).rolling(3,min_periods = 1).mean()"
      ],
      "metadata": {
        "id": "382mwFdhuUdf"
      },
      "execution_count": 97,
      "outputs": []
    },
    {
      "cell_type": "code",
      "source": [
        "TARGET_COL = 'fantasy_points_ppr'\n",
        "\n",
        "# Creating test & trian sets\n",
        "train_df = df_wr[\n",
        "    (df_wr[TARGET_COL].notna()) &\n",
        "    (\n",
        "        (df_wr['season'] < 2024) |\n",
        "        ((df_wr['season'] == 2024) & (df_wr['week'] < 14))\n",
        "    )\n",
        "]\n",
        "\n",
        "test_df = df_wr[(df_wr['season'] == 2024) & (df_wr['week'] == 14)]\n",
        "\n",
        "\n",
        "feature_cols = [\n",
        "    col for col in df_wr.columns\n",
        "    if col.endswith('_last3') or col.endswith('_trend') or col.endswith('_season_avg')\n",
        "] + ['player_display_name','season', 'week', 'opponent_team']\n",
        "\n",
        "\n",
        "X_train = train_df[feature_cols]\n",
        "y_train = train_df[TARGET_COL]\n",
        "\n",
        "X_test = test_df[feature_cols]\n",
        "\n",
        "# for RMSE testing purposes on the test set\n",
        "y_test = test_df[TARGET_COL]"
      ],
      "metadata": {
        "id": "2CU6HeyauWLH"
      },
      "execution_count": 98,
      "outputs": []
    },
    {
      "cell_type": "code",
      "source": [
        "categorical_cols = ['opponent_team', 'season', 'week', 'player_display_name']\n",
        "\n",
        "# Create Pool objects\n",
        "train_pool = Pool(data=X_train, label=y_train, cat_features=categorical_cols)\n",
        "test_pool = Pool(data=X_test, cat_features=categorical_cols)\n",
        "\n",
        "# Initialize the CatBoost model\n",
        "model = CatBoostRegressor(\n",
        "    iterations = 1000,\n",
        "    learning_rate = 0.01,\n",
        "    depth=6,\n",
        "    loss_function='RMSE',\n",
        "    random_seed=42,\n",
        "    verbose=50  # or 0 to suppress output\n",
        ")\n",
        "\n",
        "# Train\n",
        "model.fit(train_pool)"
      ],
      "metadata": {
        "colab": {
          "base_uri": "https://localhost:8080/"
        },
        "id": "oR54MRDtugzQ",
        "outputId": "a2ca4171-6f88-4505-ad41-c9738113b411"
      },
      "execution_count": 99,
      "outputs": [
        {
          "output_type": "stream",
          "name": "stdout",
          "text": [
            "0:\tlearn: 7.7354804\ttotal: 28.6ms\tremaining: 28.5s\n",
            "50:\tlearn: 7.0373176\ttotal: 995ms\tremaining: 18.5s\n",
            "100:\tlearn: 6.7128962\ttotal: 1.7s\tremaining: 15.1s\n",
            "150:\tlearn: 6.5449715\ttotal: 2.39s\tremaining: 13.4s\n",
            "200:\tlearn: 6.4472930\ttotal: 3.11s\tremaining: 12.3s\n",
            "250:\tlearn: 6.3861382\ttotal: 3.82s\tremaining: 11.4s\n",
            "300:\tlearn: 6.3393508\ttotal: 4.54s\tremaining: 10.6s\n",
            "350:\tlearn: 6.3074649\ttotal: 5.27s\tremaining: 9.74s\n",
            "400:\tlearn: 6.2821407\ttotal: 6.02s\tremaining: 8.99s\n",
            "450:\tlearn: 6.2567554\ttotal: 6.73s\tremaining: 8.19s\n",
            "500:\tlearn: 6.2340853\ttotal: 7.43s\tremaining: 7.4s\n",
            "550:\tlearn: 6.2107628\ttotal: 8.14s\tremaining: 6.63s\n",
            "600:\tlearn: 6.1924229\ttotal: 8.86s\tremaining: 5.88s\n",
            "650:\tlearn: 6.1720275\ttotal: 9.56s\tremaining: 5.13s\n",
            "700:\tlearn: 6.1550782\ttotal: 10.3s\tremaining: 4.38s\n",
            "750:\tlearn: 6.1342741\ttotal: 11.6s\tremaining: 3.84s\n",
            "800:\tlearn: 6.1121091\ttotal: 13.2s\tremaining: 3.29s\n",
            "850:\tlearn: 6.0932859\ttotal: 14.6s\tremaining: 2.55s\n",
            "900:\tlearn: 6.0732707\ttotal: 15.3s\tremaining: 1.69s\n",
            "950:\tlearn: 6.0525969\ttotal: 16.1s\tremaining: 827ms\n",
            "999:\tlearn: 6.0293680\ttotal: 16.8s\tremaining: 0us\n"
          ]
        },
        {
          "output_type": "execute_result",
          "data": {
            "text/plain": [
              "<catboost.core.CatBoostRegressor at 0x78564e4114d0>"
            ]
          },
          "metadata": {},
          "execution_count": 99
        }
      ]
    },
    {
      "cell_type": "code",
      "source": [
        "y_pred = model.predict(test_pool)\n",
        "\n",
        "# Attach predictions to test set for review\n",
        "WR_test_pred = X_test.copy()\n",
        "WR_test_pred['predicted_fantasy_points'] = y_pred\n",
        "WR_test_pred['espn_id'] = test_df['espn_id'].apply(lambda x: str(int(x)) if pd.notna(x) else np.nan)\n",
        "WR_test_pred['position'] = \"WR\"\n",
        "\n",
        "print(WR_test_pred[['season', 'week', 'opponent_team', 'predicted_fantasy_points', 'player_display_name', 'espn_id', 'position']])"
      ],
      "metadata": {
        "colab": {
          "base_uri": "https://localhost:8080/"
        },
        "id": "pfWXM6LLumtu",
        "outputId": "3753bdf8-079f-4aef-caec-c6c285af32a8"
      },
      "execution_count": 100,
      "outputs": [
        {
          "output_type": "stream",
          "name": "stdout",
          "text": [
            "       season  week opponent_team  predicted_fantasy_points  \\\n",
            "16992    2024    14           PHI                 12.697022   \n",
            "17027    2024    14            SF                 13.145877   \n",
            "17076    2024    14           LAC                 10.829618   \n",
            "17120    2024    14           NYJ                  4.354308   \n",
            "17126    2024    14           CIN                  9.168697   \n",
            "...       ...   ...           ...                       ...   \n",
            "22251    2024    14           NYJ                  3.544078   \n",
            "22285    2024    14           TEN                 14.310319   \n",
            "22302    2024    14           LAC                  9.110364   \n",
            "22385    2024    14           CHI                  4.902839   \n",
            "22424    2024    14            SF                  8.677350   \n",
            "\n",
            "      player_display_name  espn_id position  \n",
            "16992        Adam Thielen    16460       WR  \n",
            "17027        Keenan Allen    15818       WR  \n",
            "17076     DeAndre Hopkins    15795       WR  \n",
            "17120       Odell Beckham    16733       WR  \n",
            "17126       Brandin Cooks    16731       WR  \n",
            "...                   ...      ...      ...  \n",
            "22251    Malik Washington  4569603       WR  \n",
            "22285        Brian Thomas  4432773       WR  \n",
            "22302       Xavier Worthy  4683062       WR  \n",
            "22385      Ricky Pearsall  4428209       WR  \n",
            "22424         Rome Odunze  4431299       WR  \n",
            "\n",
            "[95 rows x 7 columns]\n"
          ]
        }
      ]
    },
    {
      "cell_type": "markdown",
      "source": [
        "### Adding boom/bust prediction interval"
      ],
      "metadata": {
        "id": "ppTVar1paIGt"
      }
    },
    {
      "cell_type": "code",
      "source": [
        "train_preds = model.predict(train_pool)\n",
        "residuals = y_train - train_preds\n",
        "std_resid = residuals.std()\n",
        "\n",
        "# Creating boom/bust interval\n",
        "ci_upper = y_pred + 1.645 * std_resid\n",
        "ci_lower = y_pred - 1.645 * std_resid\n",
        "\n",
        "# setting minimum to 0\n",
        "ci_lower = np.maximum(ci_lower, 0)\n",
        "\n",
        "\n",
        "WR_test_pred['upper_bound'] = ci_upper\n",
        "WR_test_pred['lower_bound'] = ci_lower\n",
        "\n",
        "print(WR_test_pred[['season', 'week', 'opponent_team', 'lower_bound', 'predicted_fantasy_points', 'upper_bound', 'player_display_name', 'espn_id', 'position']])"
      ],
      "metadata": {
        "colab": {
          "base_uri": "https://localhost:8080/"
        },
        "id": "IUX52q04aId-",
        "outputId": "7f020041-1ab2-4784-98ed-19651e349afb"
      },
      "execution_count": 101,
      "outputs": [
        {
          "output_type": "stream",
          "name": "stdout",
          "text": [
            "       season  week opponent_team  lower_bound  predicted_fantasy_points  \\\n",
            "16992    2024    14           PHI     2.831348                 12.697022   \n",
            "17027    2024    14            SF     3.280202                 13.145877   \n",
            "17076    2024    14           LAC     0.963944                 10.829618   \n",
            "17120    2024    14           NYJ     0.000000                  4.354308   \n",
            "17126    2024    14           CIN     0.000000                  9.168697   \n",
            "...       ...   ...           ...          ...                       ...   \n",
            "22251    2024    14           NYJ     0.000000                  3.544078   \n",
            "22285    2024    14           TEN     4.444645                 14.310319   \n",
            "22302    2024    14           LAC     0.000000                  9.110364   \n",
            "22385    2024    14           CHI     0.000000                  4.902839   \n",
            "22424    2024    14            SF     0.000000                  8.677350   \n",
            "\n",
            "       upper_bound player_display_name  espn_id position  \n",
            "16992    22.562697        Adam Thielen    16460       WR  \n",
            "17027    23.011551        Keenan Allen    15818       WR  \n",
            "17076    20.695293     DeAndre Hopkins    15795       WR  \n",
            "17120    14.219983       Odell Beckham    16733       WR  \n",
            "17126    19.034372       Brandin Cooks    16731       WR  \n",
            "...            ...                 ...      ...      ...  \n",
            "22251    13.409752    Malik Washington  4569603       WR  \n",
            "22285    24.175994        Brian Thomas  4432773       WR  \n",
            "22302    18.976039       Xavier Worthy  4683062       WR  \n",
            "22385    14.768514      Ricky Pearsall  4428209       WR  \n",
            "22424    18.543025         Rome Odunze  4431299       WR  \n",
            "\n",
            "[95 rows x 9 columns]\n"
          ]
        }
      ]
    },
    {
      "cell_type": "markdown",
      "source": [
        "### Evaluating the WR CatBoost model preidctions"
      ],
      "metadata": {
        "id": "l87v0z8HaTST"
      }
    },
    {
      "cell_type": "code",
      "source": [
        "from sklearn.metrics import mean_squared_error, mean_absolute_error\n",
        "\n",
        "# Actuals and predictions\n",
        "y_true = y_test\n",
        "y_pred = WR_test_pred['predicted_fantasy_points']\n",
        "\n",
        "# RMSE and MAE\n",
        "rmse = mean_squared_error(y_true, y_pred)\n",
        "mae = mean_absolute_error(y_true, y_pred)\n",
        "\n",
        "print(f\"✅ RMSE: {rmse:.2f}\")\n",
        "print(f\"✅ MAE: {mae:.2f}\")"
      ],
      "metadata": {
        "colab": {
          "base_uri": "https://localhost:8080/"
        },
        "id": "mo7msAT8vQhd",
        "outputId": "b12e3bb7-1c73-448e-edde-e4521596cf03"
      },
      "execution_count": 102,
      "outputs": [
        {
          "output_type": "stream",
          "name": "stdout",
          "text": [
            "✅ RMSE: 57.90\n",
            "✅ MAE: 5.54\n"
          ]
        }
      ]
    },
    {
      "cell_type": "markdown",
      "source": [
        "# **TE CatBoost Model**"
      ],
      "metadata": {
        "id": "M_AjH4stw5Dt"
      }
    },
    {
      "cell_type": "code",
      "source": [
        "df_te= weekly_stats_all[weekly_stats_all['position'] == 'TE'].copy()\n",
        "\n",
        "# Sorting for time series purposes\n",
        "df_te = df_te.sort_values(by=['player_id', 'season', 'week'])\n",
        "\n",
        "# Creating lag/rolling features to be used as model input\n",
        "rolling_cols = [\n",
        "    'fantasy_points_ppr', 'receptions', 'targets', 'receiving_yards', 'receiving_tds', 'receiving_fumbles', 'receiving_fumbles_lost', 'receiving_air_yards', 'receiving_yards_after_catch', 'receiving_epa', 'receiving_2pt_conversions', 'target_share', 'offense_snaps', 'offense_pct', 'air_yards_share'\n",
        "    ]\n",
        "\n",
        "for col in rolling_cols:\n",
        "    df_te[f'{col}_last3'] = df_te.groupby('player_id')[col].shift(1).rolling(3, min_periods = 1).mean()\n",
        "\n",
        "# Creating season averages\n",
        "expanding_cols = ['receiving_yards', 'receiving_tds', 'fantasy_points_ppr'\n",
        "]\n",
        "\n",
        "for col in expanding_cols:\n",
        "    df_te[col] = pd.to_numeric(df_te[col], errors='coerce')\n",
        "\n",
        "for col in expanding_cols:\n",
        "    df_te[f'{col}_season_avg'] = (\n",
        "        df_te.groupby(['player_id', 'season'])[col]\n",
        "        .transform(lambda x: x.shift(1).expanding().mean())\n",
        "    )\n",
        "\n",
        "\n",
        "df_te['receiving_yards'] = pd.to_numeric(df_te['receiving_yards'], errors='coerce')\n",
        "df_te['receptions'] = pd.to_numeric(df_te['receptions'], errors='coerce')\n",
        "\n",
        "# Creating yards per catch feature\n",
        "df_te['yards_per_catch'] = df_te['receiving_yards'] / df_te['receptions'].replace(0, pd.NA)\n",
        "df_te['yards_per_catch'] = pd.to_numeric(df_te['yards_per_catch'], errors='coerce')\n",
        "\n",
        "\n",
        "\n",
        "print(df_te.head(10))"
      ],
      "metadata": {
        "outputId": "771c0d63-3f86-49cc-c00f-7211003847a2",
        "colab": {
          "base_uri": "https://localhost:8080/"
        },
        "id": "7UajTbmhw5Dt"
      },
      "execution_count": 103,
      "outputs": [
        {
          "output_type": "stream",
          "name": "stdout",
          "text": [
            "     player_id player_name player_display_name position position_group  \\\n",
            "54  00-0024243     M.Lewis      Marcedes Lewis       TE             TE   \n",
            "55  00-0024243     M.Lewis      Marcedes Lewis       TE             TE   \n",
            "56  00-0024243     M.Lewis      Marcedes Lewis       TE             TE   \n",
            "57  00-0024243     M.Lewis      Marcedes Lewis       TE             TE   \n",
            "58  00-0024243     M.Lewis      Marcedes Lewis       TE             TE   \n",
            "59  00-0024243     M.Lewis      Marcedes Lewis       TE             TE   \n",
            "60  00-0024243     M.Lewis      Marcedes Lewis       TE             TE   \n",
            "61  00-0024243     M.Lewis      Marcedes Lewis       TE             TE   \n",
            "62  00-0024243     M.Lewis      Marcedes Lewis       TE             TE   \n",
            "63  00-0024243     M.Lewis      Marcedes Lewis       TE             TE   \n",
            "\n",
            "                                         headshot_url recent_team  season  \\\n",
            "54  https://static.www.nfl.com/image/private/f_aut...          GB    2021   \n",
            "55  https://static.www.nfl.com/image/private/f_aut...          GB    2021   \n",
            "56  https://static.www.nfl.com/image/private/f_aut...          GB    2021   \n",
            "57  https://static.www.nfl.com/image/private/f_aut...          GB    2021   \n",
            "58  https://static.www.nfl.com/image/private/f_aut...          GB    2021   \n",
            "59  https://static.www.nfl.com/image/private/f_aut...          GB    2021   \n",
            "60  https://static.www.nfl.com/image/private/f_aut...          GB    2021   \n",
            "61  https://static.www.nfl.com/image/private/f_aut...          GB    2021   \n",
            "62  https://static.www.nfl.com/image/private/f_aut...          GB    2021   \n",
            "63  https://static.www.nfl.com/image/private/f_aut...          GB    2021   \n",
            "\n",
            "    week season_type  ... receiving_epa_last3  \\\n",
            "54     1         REG  ...                 NaN   \n",
            "55     4         REG  ...            1.341326   \n",
            "56     5         REG  ...            0.453414   \n",
            "57     6         REG  ...            1.136541   \n",
            "58     7         REG  ...            1.153743   \n",
            "59     8         REG  ...            1.855453   \n",
            "60     9         REG  ...            0.888807   \n",
            "61    10         REG  ...            0.100825   \n",
            "62    12         REG  ...           -0.392038   \n",
            "63    14         REG  ...           -0.856731   \n",
            "\n",
            "    receiving_2pt_conversions_last3  target_share_last3  offense_snaps_last3  \\\n",
            "54                              NaN                 NaN                  NaN   \n",
            "55                              0.0            0.030303            15.000000   \n",
            "56                              0.0            0.043723            25.000000   \n",
            "57                              0.0            0.048196            26.333333   \n",
            "58                              0.0            0.069841            34.666667   \n",
            "59                              0.0            0.080205            30.000000   \n",
            "60                              0.0            0.070682            30.666667   \n",
            "61                              0.0            0.049352            27.000000   \n",
            "62                              0.0            0.038988            34.000000   \n",
            "63                              0.0            0.052192            34.666667   \n",
            "\n",
            "    offense_pct_last3  air_yards_share_last3  receiving_yards_season_avg  \\\n",
            "54                NaN                    NaN                         NaN   \n",
            "55           0.260000               0.015385                   19.000000   \n",
            "56           0.375000               0.055829                   13.000000   \n",
            "57           0.400000               0.047817                   20.000000   \n",
            "58           0.540000               0.052729                   19.250000   \n",
            "59           0.503333               0.040839                   21.600000   \n",
            "60           0.493333               0.038938                   18.000000   \n",
            "61           0.420000               0.025235                   15.285714   \n",
            "62           0.483333               0.013653                   14.625000   \n",
            "63           0.476667               0.002588                   13.444444   \n",
            "\n",
            "    receiving_tds_season_avg  fantasy_points_ppr_season_avg  yards_per_catch  \n",
            "54                       NaN                            NaN        19.000000  \n",
            "55                       0.0                       2.900000         7.000000  \n",
            "56                       0.0                       2.300000        17.000000  \n",
            "57                       0.0                       3.333333         8.500000  \n",
            "58                       0.0                       3.425000        10.333333  \n",
            "59                       0.0                       3.960000              NaN  \n",
            "60                       0.0                       3.300000        -1.000000  \n",
            "61                       0.0                       2.957143         5.000000  \n",
            "62                       0.0                       2.962500         2.000000  \n",
            "63                       0.0                       2.900000        12.750000  \n",
            "\n",
            "[10 rows x 135 columns]\n"
          ]
        }
      ]
    },
    {
      "cell_type": "code",
      "source": [
        "# Creating efficiency metrics (rolling)\n",
        "df_te['carries_shifted'] = df_te.groupby('player_id')['carries'].shift(1)\n",
        "df_te['receptions_shifted'] = df_te.groupby('player_id')['receptions'].shift(1)\n",
        "\n",
        "\n",
        "df_te['yards_per_reception_last3'] = df_te.groupby('player_id')['yards_per_catch'].shift(1).rolling(3,min_periods = 1).mean()\n",
        "df_te['rec_td_rate_last3'] = df_te.groupby('player_id')['receiving_tds'].shift(1).rolling(3,min_periods = 1).sum() / df_rb['receptions_shifted']\n",
        "\n",
        "# Creating rolling features for advanced features\n",
        "advanced = ['wopr', 'racr']\n",
        "for col in advanced:\n",
        "    df_te[f'{col}_trend'] = df_te.groupby('player_id')[col].shift(1).rolling(3,min_periods = 1).mean()\n",
        "\n",
        "# -------------------------------\n",
        "# STEP 7: Opponent Defense (already lagged by design)\n",
        "# -------------------------------\n",
        "opponent_cols = ['opp_avg_ypg_allowed', 'opp_avg_ppg_allowed', 'opp_int_pg', 'opp_sacks_pg', 'opp_fumbles_pg']\n",
        "for col in opponent_cols:\n",
        "    df_te[f'{col}_trend'] = df_te.groupby('player_id')[col].shift(1).rolling(3,min_periods = 1).mean()"
      ],
      "metadata": {
        "id": "lhR3H3A0w5Dt"
      },
      "execution_count": 104,
      "outputs": []
    },
    {
      "cell_type": "code",
      "source": [
        "TARGET_COL = 'fantasy_points_ppr'\n",
        "\n",
        "# test and train splits\n",
        "train_df = df_te[\n",
        "    (df_te[TARGET_COL].notna()) &\n",
        "    (\n",
        "        (df_te['season'] < 2024) |\n",
        "        ((df_te['season'] == 2024) & (df_te['week'] < 14))\n",
        "    )\n",
        "]\n",
        "\n",
        "test_df = df_te[(df_te['season'] == 2024) & (df_te['week'] == 14)]\n",
        "\n",
        "\n",
        "feature_cols = [\n",
        "    col for col in df_te.columns\n",
        "    if col.endswith('_last3') or col.endswith('_trend') or col.endswith('_season_avg')\n",
        "] + ['player_display_name','season', 'week', 'opponent_team']\n",
        "\n",
        "\n",
        "X_train = train_df[feature_cols]\n",
        "y_train = train_df[TARGET_COL]\n",
        "\n",
        "X_test = test_df[feature_cols]\n",
        "\n",
        "# for RMSE testing purposes on the test set\n",
        "y_test = test_df[TARGET_COL]"
      ],
      "metadata": {
        "id": "77JkQBvnw5Du"
      },
      "execution_count": 105,
      "outputs": []
    },
    {
      "cell_type": "code",
      "source": [
        "categorical_cols = ['opponent_team', 'season', 'week', 'player_display_name']\n",
        "\n",
        "# Create Pool objects\n",
        "train_pool = Pool(data=X_train, label=y_train, cat_features=categorical_cols)\n",
        "test_pool = Pool(data=X_test, cat_features=categorical_cols)\n",
        "\n",
        "# Initialize the CatBoost model\n",
        "model = CatBoostRegressor(\n",
        "    iterations = 1000,\n",
        "    learning_rate = 0.01,\n",
        "    depth=6,\n",
        "    loss_function='RMSE',\n",
        "    random_seed=42,\n",
        "    verbose=50  # or 0 to suppress output\n",
        ")\n",
        "\n",
        "# Train\n",
        "model.fit(train_pool)"
      ],
      "metadata": {
        "outputId": "06b04161-402d-4d04-bd2e-d31b6fc204b9",
        "colab": {
          "base_uri": "https://localhost:8080/"
        },
        "id": "UvBTEyKSw5Du"
      },
      "execution_count": 106,
      "outputs": [
        {
          "output_type": "stream",
          "name": "stdout",
          "text": [
            "0:\tlearn: 6.0043360\ttotal: 12.1ms\tremaining: 12.1s\n",
            "50:\tlearn: 5.5139502\ttotal: 524ms\tremaining: 9.75s\n",
            "100:\tlearn: 5.2612506\ttotal: 1s\tremaining: 8.94s\n",
            "150:\tlearn: 5.1284839\ttotal: 1.45s\tremaining: 8.14s\n",
            "200:\tlearn: 5.0491599\ttotal: 1.91s\tremaining: 7.61s\n",
            "250:\tlearn: 4.9901773\ttotal: 2.39s\tremaining: 7.13s\n",
            "300:\tlearn: 4.9456479\ttotal: 2.9s\tremaining: 6.74s\n",
            "350:\tlearn: 4.9109847\ttotal: 3.53s\tremaining: 6.54s\n",
            "400:\tlearn: 4.8800247\ttotal: 4.22s\tremaining: 6.3s\n",
            "450:\tlearn: 4.8487963\ttotal: 4.71s\tremaining: 5.73s\n",
            "500:\tlearn: 4.8237270\ttotal: 5.22s\tremaining: 5.2s\n",
            "550:\tlearn: 4.7986172\ttotal: 5.73s\tremaining: 4.67s\n",
            "600:\tlearn: 4.7725064\ttotal: 6.22s\tremaining: 4.13s\n",
            "650:\tlearn: 4.7482421\ttotal: 6.7s\tremaining: 3.59s\n",
            "700:\tlearn: 4.7267429\ttotal: 7.63s\tremaining: 3.25s\n",
            "750:\tlearn: 4.7011546\ttotal: 8.64s\tremaining: 2.87s\n",
            "800:\tlearn: 4.6761008\ttotal: 9.75s\tremaining: 2.42s\n",
            "850:\tlearn: 4.6526628\ttotal: 10.8s\tremaining: 1.9s\n",
            "900:\tlearn: 4.6258754\ttotal: 11.4s\tremaining: 1.25s\n",
            "950:\tlearn: 4.5970454\ttotal: 11.9s\tremaining: 611ms\n",
            "999:\tlearn: 4.5704943\ttotal: 12.4s\tremaining: 0us\n"
          ]
        },
        {
          "output_type": "execute_result",
          "data": {
            "text/plain": [
              "<catboost.core.CatBoostRegressor at 0x7856175d7e10>"
            ]
          },
          "metadata": {},
          "execution_count": 106
        }
      ]
    },
    {
      "cell_type": "code",
      "source": [
        "y_pred = model.predict(test_pool)\n",
        "\n",
        "# Attach predictions to test set for review\n",
        "TE_test_pred = X_test.copy()\n",
        "TE_test_pred['predicted_fantasy_points'] = y_pred\n",
        "TE_test_pred['espn_id'] = test_df['espn_id'].apply(lambda x: str(int(x)) if pd.notna(x) else np.nan)\n",
        "TE_test_pred['position'] = \"TE\"\n",
        "\n",
        "\n",
        "print(TE_test_pred[['season', 'week', 'opponent_team', 'predicted_fantasy_points', 'player_display_name', 'espn_id', 'position']])"
      ],
      "metadata": {
        "outputId": "2acb65e2-9825-49cd-ca09-40e4941a3428",
        "colab": {
          "base_uri": "https://localhost:8080/"
        },
        "id": "87IAcoLbw5Du"
      },
      "execution_count": 107,
      "outputs": [
        {
          "output_type": "stream",
          "name": "stdout",
          "text": [
            "       season  week opponent_team  predicted_fantasy_points  \\\n",
            "17057    2024    14           LAC                 14.593815   \n",
            "17229    2024    14           CLE                  2.987043   \n",
            "17362    2024    14           JAX                  3.234373   \n",
            "17585    2024    14           CHI                 11.279746   \n",
            "17659    2024    14           ARI                  2.971119   \n",
            "17744    2024    14           CHI                  3.839349   \n",
            "17843    2024    14           NYJ                 11.708264   \n",
            "17884    2024    14           TEN                 10.905046   \n",
            "17894    2024    14           PIT                 12.753433   \n",
            "18053    2024    14            KC                  6.312394   \n",
            "18089    2024    14           MIA                  7.436870   \n",
            "18151    2024    14           PIT                  4.685981   \n",
            "18254    2024    14           DAL                  5.483110   \n",
            "18340    2024    14           NYJ                  3.332110   \n",
            "18372    2024    14           DAL                  8.050979   \n",
            "18552    2024    14           NYG                  6.882376   \n",
            "18636    2024    14           ATL                  9.521965   \n",
            "18661    2024    14           ATL                  6.426994   \n",
            "18819    2024    14           DAL                  4.027658   \n",
            "18852    2024    14           ARI                  7.931115   \n",
            "18924    2024    14            LA                  6.902549   \n",
            "19016    2024    14           NYG                  7.779590   \n",
            "19125    2024    14           BUF                  3.906202   \n",
            "19463    2024    14           MIN                  2.726777   \n",
            "19633    2024    14           LAC                  7.220294   \n",
            "19664    2024    14            GB                  3.779390   \n",
            "19760    2024    14           CLE                  8.775130   \n",
            "19886    2024    14           MIN                  8.315953   \n",
            "19995    2024    14           BUF                  2.503076   \n",
            "20004    2024    14           PHI                  6.801880   \n",
            "20026    2024    14           CAR                  4.807474   \n",
            "20309    2024    14            KC                  2.930277   \n",
            "20398    2024    14            KC                  2.508433   \n",
            "20485    2024    14           SEA                 13.495283   \n",
            "20535    2024    14           MIA                  2.979867   \n",
            "20551    2024    14           JAX                  5.683058   \n",
            "20655    2024    14           CIN                  8.033846   \n",
            "20696    2024    14            NO                  3.148335   \n",
            "20770    2024    14            LV                 10.376546   \n",
            "20908    2024    14           CIN                  6.787582   \n",
            "20946    2024    14           CLE                  3.609467   \n",
            "21026    2024    14           JAX                  3.509477   \n",
            "21198    2024    14           PIT                  2.958942   \n",
            "21211    2024    14           NYJ                  2.981646   \n",
            "21288    2024    14           DET                  2.931249   \n",
            "21330    2024    14           TEN                  4.100679   \n",
            "21425    2024    14           DET                  9.664989   \n",
            "21565    2024    14            GB                 10.824442   \n",
            "21577    2024    14            TB                  3.105787   \n",
            "21735    2024    14           LAC                  2.673971   \n",
            "21775    2024    14            TB                 12.971638   \n",
            "21822    2024    14           PHI                  5.931194   \n",
            "21994    2024    14           NYG                  2.910450   \n",
            "22011    2024    14           JAX                  2.433625   \n",
            "22040    2024    14           SEA                  2.307815   \n",
            "22088    2024    14           ARI                  4.575119   \n",
            "\n",
            "         player_display_name  espn_id position  \n",
            "17057           Travis Kelce    15847       TE  \n",
            "17229          MyCole Pruitt  2508256       TE  \n",
            "17362           Nick Vannett  2576399       TE  \n",
            "17585          George Kittle  3040151       TE  \n",
            "17659          Pharaoh Brown  2971281       TE  \n",
            "17744           Eric Saubert  2975863       TE  \n",
            "17843            Jonnu Smith  3054212       TE  \n",
            "17884            Evan Engram  3051876       TE  \n",
            "17894            David Njoku  3123076       TE  \n",
            "18053            Will Dissly  3127292       TE  \n",
            "18089          Tyler Conklin  3915486       TE  \n",
            "18151           Jordan Akins  3128452       TE  \n",
            "18254          Tanner Hudson  3050481       TE  \n",
            "18340          Durham Smythe  3052897       TE  \n",
            "18372           Mike Gesicki  3116164       TE  \n",
            "18552          Foster Moreau  3843945       TE  \n",
            "18636         T.J. Hockenson  4036133       TE  \n",
            "18661            Josh Oliver  3921690       TE  \n",
            "18819            Drew Sample  3127310       TE  \n",
            "18852              Noah Fant  4036131       TE  \n",
            "18924            Dawson Knox  3930086       TE  \n",
            "19016          Juwan Johnson  3929645       TE  \n",
            "19125        Colby Parkinson  4242557       TE  \n",
            "19463        Charlie Woerner  4035020       TE  \n",
            "19633              Noah Gray  4240472       TE  \n",
            "19664           Brock Wright  4242392       TE  \n",
            "19760         Pat Freiermuth  4361411       TE  \n",
            "19886             Kyle Pitts  4360248       TE  \n",
            "19995            Hunter Long  4239944       TE  \n",
            "20004          Tommy Tremble  4372780       TE  \n",
            "20026       Grant Calcaterra  4241374       TE  \n",
            "20309           Stone Smartt  4250764       TE  \n",
            "20398            Tucker Fisk      NaN       TE  \n",
            "20485           Trey McBride  4361307       TE  \n",
            "20535         Jeremy Ruckert  4361372       TE  \n",
            "20551      Chigoziem Okonkwo  4360635       TE  \n",
            "20655          Jake Ferguson  4242355       TE  \n",
            "20696       Daniel Bellinger  4361516       TE  \n",
            "20770             Cade Otton  4243331       TE  \n",
            "20908       Luke Schoonmaker  4372096       TE  \n",
            "20946     Darnell Washington  4430802       TE  \n",
            "21026             Josh Whyle  4360086       TE  \n",
            "21198       Blake Whiteheart      NaN       TE  \n",
            "21211            Julian Hill  4365395       TE  \n",
            "21288               Ben Sims  4373030       TE  \n",
            "21330        Brenton Strange  4430539       TE  \n",
            "21425           Tucker Kraft  4572680       TE  \n",
            "21565            Sam LaPorta  4430027       TE  \n",
            "21577          Michael Mayer  4429086       TE  \n",
            "21735            Baylor Cupp      NaN       TE  \n",
            "21775           Brock Bowers  4432665       TE  \n",
            "21822      Ja'Tavion Sanders  4431588       TE  \n",
            "21994          Dallin Holker  4373634       TE  \n",
            "22011  David Martin-Robinson  4360978       TE  \n",
            "22040             Tip Reiman  4696700       TE  \n",
            "22088            A.J. Barner  4576297       TE  \n"
          ]
        }
      ]
    },
    {
      "cell_type": "markdown",
      "source": [
        "### Adding boom/bust interval using the standard deviation"
      ],
      "metadata": {
        "id": "rFg39H_lZGg0"
      }
    },
    {
      "cell_type": "code",
      "source": [
        "train_preds = model.predict(train_pool)\n",
        "residuals = y_train - train_preds\n",
        "std_resid = residuals.std()\n",
        "\n",
        "# Creating boom/bust interval\n",
        "ci_upper = y_pred + 1.645 * std_resid\n",
        "ci_lower = y_pred - 1.645 * std_resid\n",
        "\n",
        "# setting minimum to 0\n",
        "ci_lower = np.maximum(ci_lower, 0)\n",
        "\n",
        "\n",
        "TE_test_pred['upper_bound'] = ci_upper\n",
        "TE_test_pred['lower_bound'] = ci_lower\n",
        "\n",
        "print(TE_test_pred[['season', 'week', 'opponent_team', 'lower_bound', 'predicted_fantasy_points', 'upper_bound', 'player_display_name', 'espn_id', 'position']])"
      ],
      "metadata": {
        "colab": {
          "base_uri": "https://localhost:8080/"
        },
        "id": "1DKLFZSZYy3w",
        "outputId": "dc8983fc-c13a-4999-ebac-157f23e7ddc6"
      },
      "execution_count": 108,
      "outputs": [
        {
          "output_type": "stream",
          "name": "stdout",
          "text": [
            "       season  week opponent_team  lower_bound  predicted_fantasy_points  \\\n",
            "17057    2024    14           LAC     7.016120                 14.593815   \n",
            "17229    2024    14           CLE     0.000000                  2.987043   \n",
            "17362    2024    14           JAX     0.000000                  3.234373   \n",
            "17585    2024    14           CHI     3.702051                 11.279746   \n",
            "17659    2024    14           ARI     0.000000                  2.971119   \n",
            "17744    2024    14           CHI     0.000000                  3.839349   \n",
            "17843    2024    14           NYJ     4.130568                 11.708264   \n",
            "17884    2024    14           TEN     3.327350                 10.905046   \n",
            "17894    2024    14           PIT     5.175737                 12.753433   \n",
            "18053    2024    14            KC     0.000000                  6.312394   \n",
            "18089    2024    14           MIA     0.000000                  7.436870   \n",
            "18151    2024    14           PIT     0.000000                  4.685981   \n",
            "18254    2024    14           DAL     0.000000                  5.483110   \n",
            "18340    2024    14           NYJ     0.000000                  3.332110   \n",
            "18372    2024    14           DAL     0.473283                  8.050979   \n",
            "18552    2024    14           NYG     0.000000                  6.882376   \n",
            "18636    2024    14           ATL     1.944269                  9.521965   \n",
            "18661    2024    14           ATL     0.000000                  6.426994   \n",
            "18819    2024    14           DAL     0.000000                  4.027658   \n",
            "18852    2024    14           ARI     0.353419                  7.931115   \n",
            "18924    2024    14            LA     0.000000                  6.902549   \n",
            "19016    2024    14           NYG     0.201894                  7.779590   \n",
            "19125    2024    14           BUF     0.000000                  3.906202   \n",
            "19463    2024    14           MIN     0.000000                  2.726777   \n",
            "19633    2024    14           LAC     0.000000                  7.220294   \n",
            "19664    2024    14            GB     0.000000                  3.779390   \n",
            "19760    2024    14           CLE     1.197434                  8.775130   \n",
            "19886    2024    14           MIN     0.738258                  8.315953   \n",
            "19995    2024    14           BUF     0.000000                  2.503076   \n",
            "20004    2024    14           PHI     0.000000                  6.801880   \n",
            "20026    2024    14           CAR     0.000000                  4.807474   \n",
            "20309    2024    14            KC     0.000000                  2.930277   \n",
            "20398    2024    14            KC     0.000000                  2.508433   \n",
            "20485    2024    14           SEA     5.917587                 13.495283   \n",
            "20535    2024    14           MIA     0.000000                  2.979867   \n",
            "20551    2024    14           JAX     0.000000                  5.683058   \n",
            "20655    2024    14           CIN     0.456151                  8.033846   \n",
            "20696    2024    14            NO     0.000000                  3.148335   \n",
            "20770    2024    14            LV     2.798850                 10.376546   \n",
            "20908    2024    14           CIN     0.000000                  6.787582   \n",
            "20946    2024    14           CLE     0.000000                  3.609467   \n",
            "21026    2024    14           JAX     0.000000                  3.509477   \n",
            "21198    2024    14           PIT     0.000000                  2.958942   \n",
            "21211    2024    14           NYJ     0.000000                  2.981646   \n",
            "21288    2024    14           DET     0.000000                  2.931249   \n",
            "21330    2024    14           TEN     0.000000                  4.100679   \n",
            "21425    2024    14           DET     2.087293                  9.664989   \n",
            "21565    2024    14            GB     3.246746                 10.824442   \n",
            "21577    2024    14            TB     0.000000                  3.105787   \n",
            "21735    2024    14           LAC     0.000000                  2.673971   \n",
            "21775    2024    14            TB     5.393942                 12.971638   \n",
            "21822    2024    14           PHI     0.000000                  5.931194   \n",
            "21994    2024    14           NYG     0.000000                  2.910450   \n",
            "22011    2024    14           JAX     0.000000                  2.433625   \n",
            "22040    2024    14           SEA     0.000000                  2.307815   \n",
            "22088    2024    14           ARI     0.000000                  4.575119   \n",
            "\n",
            "       upper_bound    player_display_name  espn_id position  \n",
            "17057    22.171511           Travis Kelce    15847       TE  \n",
            "17229    10.564738          MyCole Pruitt  2508256       TE  \n",
            "17362    10.812069           Nick Vannett  2576399       TE  \n",
            "17585    18.857442          George Kittle  3040151       TE  \n",
            "17659    10.548815          Pharaoh Brown  2971281       TE  \n",
            "17744    11.417045           Eric Saubert  2975863       TE  \n",
            "17843    19.285960            Jonnu Smith  3054212       TE  \n",
            "17884    18.482742            Evan Engram  3051876       TE  \n",
            "17894    20.331129            David Njoku  3123076       TE  \n",
            "18053    13.890089            Will Dissly  3127292       TE  \n",
            "18089    15.014566          Tyler Conklin  3915486       TE  \n",
            "18151    12.263677           Jordan Akins  3128452       TE  \n",
            "18254    13.060806          Tanner Hudson  3050481       TE  \n",
            "18340    10.909806          Durham Smythe  3052897       TE  \n",
            "18372    15.628675           Mike Gesicki  3116164       TE  \n",
            "18552    14.460072          Foster Moreau  3843945       TE  \n",
            "18636    17.099661         T.J. Hockenson  4036133       TE  \n",
            "18661    14.004689            Josh Oliver  3921690       TE  \n",
            "18819    11.605353            Drew Sample  3127310       TE  \n",
            "18852    15.508811              Noah Fant  4036131       TE  \n",
            "18924    14.480245            Dawson Knox  3930086       TE  \n",
            "19016    15.357286          Juwan Johnson  3929645       TE  \n",
            "19125    11.483898        Colby Parkinson  4242557       TE  \n",
            "19463    10.304473        Charlie Woerner  4035020       TE  \n",
            "19633    14.797990              Noah Gray  4240472       TE  \n",
            "19664    11.357086           Brock Wright  4242392       TE  \n",
            "19760    16.352826         Pat Freiermuth  4361411       TE  \n",
            "19886    15.893649             Kyle Pitts  4360248       TE  \n",
            "19995    10.080772            Hunter Long  4239944       TE  \n",
            "20004    14.379576          Tommy Tremble  4372780       TE  \n",
            "20026    12.385170       Grant Calcaterra  4241374       TE  \n",
            "20309    10.507973           Stone Smartt  4250764       TE  \n",
            "20398    10.086129            Tucker Fisk      NaN       TE  \n",
            "20485    21.072978           Trey McBride  4361307       TE  \n",
            "20535    10.557563         Jeremy Ruckert  4361372       TE  \n",
            "20551    13.260754      Chigoziem Okonkwo  4360635       TE  \n",
            "20655    15.611542          Jake Ferguson  4242355       TE  \n",
            "20696    10.726031       Daniel Bellinger  4361516       TE  \n",
            "20770    17.954242             Cade Otton  4243331       TE  \n",
            "20908    14.365278       Luke Schoonmaker  4372096       TE  \n",
            "20946    11.187162     Darnell Washington  4430802       TE  \n",
            "21026    11.087172             Josh Whyle  4360086       TE  \n",
            "21198    10.536638       Blake Whiteheart      NaN       TE  \n",
            "21211    10.559342            Julian Hill  4365395       TE  \n",
            "21288    10.508945               Ben Sims  4373030       TE  \n",
            "21330    11.678375        Brenton Strange  4430539       TE  \n",
            "21425    17.242685           Tucker Kraft  4572680       TE  \n",
            "21565    18.402138            Sam LaPorta  4430027       TE  \n",
            "21577    10.683483          Michael Mayer  4429086       TE  \n",
            "21735    10.251667            Baylor Cupp      NaN       TE  \n",
            "21775    20.549334           Brock Bowers  4432665       TE  \n",
            "21822    13.508890      Ja'Tavion Sanders  4431588       TE  \n",
            "21994    10.488146          Dallin Holker  4373634       TE  \n",
            "22011    10.011321  David Martin-Robinson  4360978       TE  \n",
            "22040     9.885511             Tip Reiman  4696700       TE  \n",
            "22088    12.152815            A.J. Barner  4576297       TE  \n"
          ]
        }
      ]
    },
    {
      "cell_type": "markdown",
      "source": [
        "### Evaluating predictions"
      ],
      "metadata": {
        "id": "4VuxFxj4ZYjh"
      }
    },
    {
      "cell_type": "code",
      "source": [
        "from sklearn.metrics import mean_squared_error, mean_absolute_error\n",
        "\n",
        "# Actuals and predictions\n",
        "y_true = y_test\n",
        "y_pred = TE_test_pred['predicted_fantasy_points']\n",
        "\n",
        "# RMSE and MAE\n",
        "rmse = mean_squared_error(y_true, y_pred)\n",
        "mae = mean_absolute_error(y_true, y_pred)\n",
        "\n",
        "print(f\"✅ RMSE: {rmse:.2f}\")\n",
        "print(f\"✅ MAE: {mae:.2f}\")"
      ],
      "metadata": {
        "outputId": "4d8fb2d0-3c44-4363-beb6-50314cb1ef83",
        "colab": {
          "base_uri": "https://localhost:8080/"
        },
        "id": "OdyOLq2Iw5Du"
      },
      "execution_count": 109,
      "outputs": [
        {
          "output_type": "stream",
          "name": "stdout",
          "text": [
            "✅ RMSE: 13.65\n",
            "✅ MAE: 2.93\n"
          ]
        }
      ]
    },
    {
      "cell_type": "markdown",
      "source": [
        "# **K CatBoost Model**"
      ],
      "metadata": {
        "id": "wk-W_zNQk2fG"
      }
    },
    {
      "cell_type": "code",
      "source": [
        "df_k = weekly_stats_all[weekly_stats_all['position'] == 'K'].copy()\n",
        "\n",
        "# Sorting data for time-series purposes\n",
        "df_k = df_k.sort_values(by=['player_id', 'season', 'week'])\n",
        "\n",
        "# Creating lag/rolling features for model\n",
        "# Takes into account past 3 games (or less, depending on the data available that week)\n",
        "rolling_cols = [\n",
        "    'fg_made','fg_att','fg_pct','fg_blocked','fg_long','fg_made_0_19','fg_made_20_29','fg_made_30_39','fg_made_40_49','fg_made_50_59','fg_made_60_',\n",
        "    'fg_missed_0_19','fg_missed_20_29','fg_missed_30_39','fg_missed_40_49','fg_missed_50_59','fg_missed_60_','pat_made','pat_att','pat_blocked','pat_pct'\n",
        "]\n",
        "\n",
        "for col in rolling_cols:\n",
        "    df_k[f'{col}_last3'] = df_k.groupby('player_id')[col].shift(1).rolling(3, min_periods = 1).mean()\n",
        "\n",
        "# Season averages\n",
        "expanding_cols = ['fg_made', 'fg_pct', 'pat_made', 'fantasy_points_ppr'\n",
        "]\n",
        "\n",
        "for col in expanding_cols:\n",
        "    df_k[col] = pd.to_numeric(df_k[col], errors='coerce')\n",
        "\n",
        "for col in expanding_cols:\n",
        "    df_k[f'{col}_season_avg'] = (\n",
        "        df_k.groupby(['player_id', 'season'])[col]\n",
        "        .transform(lambda x: x.shift(1).expanding().mean())\n",
        "    )\n",
        "\n",
        "print(df_k.head(10))"
      ],
      "metadata": {
        "colab": {
          "base_uri": "https://localhost:8080/"
        },
        "id": "fyTtezuVk1TY",
        "outputId": "f2e25802-1034-4397-a6a7-6dd318b8b039"
      },
      "execution_count": 110,
      "outputs": [
        {
          "output_type": "stream",
          "name": "stdout",
          "text": [
            "        player_id player_name player_display_name position position_group  \\\n",
            "22446  00-0023252     R.Gould        Robbie Gould        K           SPEC   \n",
            "22447  00-0023252     R.Gould        Robbie Gould        K           SPEC   \n",
            "22448  00-0023252     R.Gould        Robbie Gould        K           SPEC   \n",
            "22449  00-0023252     R.Gould        Robbie Gould        K           SPEC   \n",
            "22450  00-0023252     R.Gould        Robbie Gould        K           SPEC   \n",
            "22451  00-0023252     R.Gould        Robbie Gould        K           SPEC   \n",
            "22452  00-0023252     R.Gould        Robbie Gould        K           SPEC   \n",
            "22453  00-0023252     R.Gould        Robbie Gould        K           SPEC   \n",
            "22454  00-0023252     R.Gould        Robbie Gould        K           SPEC   \n",
            "22455  00-0023252     R.Gould        Robbie Gould        K           SPEC   \n",
            "\n",
            "                                            headshot_url recent_team  season  \\\n",
            "22446  https://static.www.nfl.com/image/private/f_aut...         NaN    2021   \n",
            "22447  https://static.www.nfl.com/image/private/f_aut...         NaN    2021   \n",
            "22448  https://static.www.nfl.com/image/private/f_aut...         NaN    2021   \n",
            "22449  https://static.www.nfl.com/image/private/f_aut...         NaN    2021   \n",
            "22450  https://static.www.nfl.com/image/private/f_aut...         NaN    2021   \n",
            "22451  https://static.www.nfl.com/image/private/f_aut...         NaN    2021   \n",
            "22452  https://static.www.nfl.com/image/private/f_aut...         NaN    2021   \n",
            "22453  https://static.www.nfl.com/image/private/f_aut...         NaN    2021   \n",
            "22454  https://static.www.nfl.com/image/private/f_aut...         NaN    2021   \n",
            "22455  https://static.www.nfl.com/image/private/f_aut...         NaN    2021   \n",
            "\n",
            "       week season_type  ... fg_missed_50_59_last3  fg_missed_60__last3  \\\n",
            "22446     1         REG  ...                   NaN                  NaN   \n",
            "22447     2         REG  ...                   1.0                  0.0   \n",
            "22448     3         REG  ...                   0.5                  0.0   \n",
            "22449     9         REG  ...                   0.5                  0.0   \n",
            "22450    10         REG  ...                   0.0                  0.0   \n",
            "22451    11         REG  ...                   0.0                  0.0   \n",
            "22452    12         REG  ...                   0.0                  0.0   \n",
            "22453    13         REG  ...                   0.0                  0.0   \n",
            "22454    14         REG  ...                   0.0                  0.0   \n",
            "22455    15         REG  ...                   0.0                  0.0   \n",
            "\n",
            "       pat_made_last3  pat_att_last3  pat_blocked_last3  pat_pct_last3  \\\n",
            "22446             NaN            NaN                NaN            NaN   \n",
            "22447        5.000000       5.000000                0.0          1.000   \n",
            "22448        3.500000       3.500000                0.0          1.000   \n",
            "22449        3.666667       3.666667                0.0          1.000   \n",
            "22450        2.666667       2.666667                0.0          1.000   \n",
            "22451        3.333333       3.333333                0.0          1.000   \n",
            "22452        3.000000       3.000000                0.0          1.000   \n",
            "22453        3.666667       3.666667                0.0          1.000   \n",
            "22454        3.000000       3.333333                0.0          0.889   \n",
            "22455        2.666667       3.000000                0.0          0.889   \n",
            "\n",
            "       fg_made_season_avg  fg_pct_season_avg  pat_made_season_avg  \\\n",
            "22446                 NaN                NaN                  NaN   \n",
            "22447            2.000000           0.667000             5.000000   \n",
            "22448            1.500000           0.833500             3.500000   \n",
            "22449            1.500000           0.833500             3.666667   \n",
            "22450            1.333333           0.889000             3.250000   \n",
            "22451            1.250000           0.916750             3.400000   \n",
            "22452            1.600000           0.933400             3.333333   \n",
            "22453            1.666667           0.889000             3.428571   \n",
            "22454            1.571429           0.904857             3.250000   \n",
            "22455            1.625000           0.875125             3.111111   \n",
            "\n",
            "       fantasy_points_ppr_season_avg  \n",
            "22446                            NaN  \n",
            "22447                          13.00  \n",
            "22448                           9.50  \n",
            "22449                           9.50  \n",
            "22450                           8.00  \n",
            "22451                           8.25  \n",
            "22452                           9.40  \n",
            "22453                           9.50  \n",
            "22454                           9.00  \n",
            "22455                           8.75  \n",
            "\n",
            "[10 rows x 141 columns]\n"
          ]
        }
      ]
    },
    {
      "cell_type": "code",
      "source": [
        "TARGET_COL = 'fantasy_points_ppr'\n",
        "\n",
        "# Creating test and train sets\n",
        "train_df = df_k[\n",
        "    (df_k[TARGET_COL].notna()) &\n",
        "    (\n",
        "        (df_k['season'] < 2024) |\n",
        "        ((df_k['season'] == 2024) & (df_k['week'] < 14))\n",
        "    )\n",
        "]\n",
        "\n",
        "test_df = df_k[(df_k['season'] == 2024) & (df_k['week'] == 14)]\n",
        "\n",
        "\n",
        "feature_cols = [\n",
        "    col for col in df_k.columns\n",
        "    if col.endswith('_last3') or col.endswith('_trend') or col.endswith('_season_avg')\n",
        "] + ['player_display_name','season', 'week', 'opponent_team']\n",
        "\n",
        "\n",
        "X_train = train_df[feature_cols]\n",
        "y_train = train_df[TARGET_COL]\n",
        "\n",
        "X_test = test_df[feature_cols]\n",
        "\n",
        "# for RMSE testing purposes on the test set\n",
        "y_test = test_df[TARGET_COL]"
      ],
      "metadata": {
        "id": "P6WN9w6Tn7zz"
      },
      "execution_count": 111,
      "outputs": []
    },
    {
      "cell_type": "code",
      "source": [
        "categorical_cols = ['opponent_team', 'season', 'week', 'player_display_name']\n",
        "\n",
        "for col in categorical_cols:\n",
        "    X_train[col] = X_train[col].fillna('Unknown').astype(str)  # Fill NaN with 'Unknown' and convert to string\n",
        "    X_test[col] = X_test[col].fillna('Unknown').astype(str)  # Fill NaN with 'Unknown' and convert to string\n",
        "\n",
        "# Create Pool objects\n",
        "train_pool = Pool(data=X_train, label=y_train, cat_features=categorical_cols)\n",
        "test_pool = Pool(data=X_test, cat_features=categorical_cols)\n",
        "\n",
        "# Initialize the CatBoost model\n",
        "model = CatBoostRegressor(\n",
        "    iterations = 1000,\n",
        "    learning_rate = 0.01,\n",
        "    depth=6,\n",
        "    loss_function='RMSE',\n",
        "    random_seed=42,\n",
        "    verbose=50  # or 0 to suppress output\n",
        ")\n",
        "\n",
        "# Train\n",
        "model.fit(train_pool)"
      ],
      "metadata": {
        "colab": {
          "base_uri": "https://localhost:8080/"
        },
        "id": "468B2eDeoNNP",
        "outputId": "61639c7d-52ad-4276-9991-f76c853d8391"
      },
      "execution_count": 112,
      "outputs": [
        {
          "output_type": "stream",
          "name": "stdout",
          "text": [
            "0:\tlearn: 4.3116635\ttotal: 4.98ms\tremaining: 4.97s\n"
          ]
        },
        {
          "output_type": "stream",
          "name": "stderr",
          "text": [
            "<ipython-input-112-f17ba06c3bd5>:4: SettingWithCopyWarning: \n",
            "A value is trying to be set on a copy of a slice from a DataFrame.\n",
            "Try using .loc[row_indexer,col_indexer] = value instead\n",
            "\n",
            "See the caveats in the documentation: https://pandas.pydata.org/pandas-docs/stable/user_guide/indexing.html#returning-a-view-versus-a-copy\n",
            "  X_train[col] = X_train[col].fillna('Unknown').astype(str)  # Fill NaN with 'Unknown' and convert to string\n",
            "<ipython-input-112-f17ba06c3bd5>:5: SettingWithCopyWarning: \n",
            "A value is trying to be set on a copy of a slice from a DataFrame.\n",
            "Try using .loc[row_indexer,col_indexer] = value instead\n",
            "\n",
            "See the caveats in the documentation: https://pandas.pydata.org/pandas-docs/stable/user_guide/indexing.html#returning-a-view-versus-a-copy\n",
            "  X_test[col] = X_test[col].fillna('Unknown').astype(str)  # Fill NaN with 'Unknown' and convert to string\n",
            "<ipython-input-112-f17ba06c3bd5>:4: SettingWithCopyWarning: \n",
            "A value is trying to be set on a copy of a slice from a DataFrame.\n",
            "Try using .loc[row_indexer,col_indexer] = value instead\n",
            "\n",
            "See the caveats in the documentation: https://pandas.pydata.org/pandas-docs/stable/user_guide/indexing.html#returning-a-view-versus-a-copy\n",
            "  X_train[col] = X_train[col].fillna('Unknown').astype(str)  # Fill NaN with 'Unknown' and convert to string\n",
            "<ipython-input-112-f17ba06c3bd5>:5: SettingWithCopyWarning: \n",
            "A value is trying to be set on a copy of a slice from a DataFrame.\n",
            "Try using .loc[row_indexer,col_indexer] = value instead\n",
            "\n",
            "See the caveats in the documentation: https://pandas.pydata.org/pandas-docs/stable/user_guide/indexing.html#returning-a-view-versus-a-copy\n",
            "  X_test[col] = X_test[col].fillna('Unknown').astype(str)  # Fill NaN with 'Unknown' and convert to string\n",
            "<ipython-input-112-f17ba06c3bd5>:4: SettingWithCopyWarning: \n",
            "A value is trying to be set on a copy of a slice from a DataFrame.\n",
            "Try using .loc[row_indexer,col_indexer] = value instead\n",
            "\n",
            "See the caveats in the documentation: https://pandas.pydata.org/pandas-docs/stable/user_guide/indexing.html#returning-a-view-versus-a-copy\n",
            "  X_train[col] = X_train[col].fillna('Unknown').astype(str)  # Fill NaN with 'Unknown' and convert to string\n",
            "<ipython-input-112-f17ba06c3bd5>:5: SettingWithCopyWarning: \n",
            "A value is trying to be set on a copy of a slice from a DataFrame.\n",
            "Try using .loc[row_indexer,col_indexer] = value instead\n",
            "\n",
            "See the caveats in the documentation: https://pandas.pydata.org/pandas-docs/stable/user_guide/indexing.html#returning-a-view-versus-a-copy\n",
            "  X_test[col] = X_test[col].fillna('Unknown').astype(str)  # Fill NaN with 'Unknown' and convert to string\n",
            "<ipython-input-112-f17ba06c3bd5>:4: SettingWithCopyWarning: \n",
            "A value is trying to be set on a copy of a slice from a DataFrame.\n",
            "Try using .loc[row_indexer,col_indexer] = value instead\n",
            "\n",
            "See the caveats in the documentation: https://pandas.pydata.org/pandas-docs/stable/user_guide/indexing.html#returning-a-view-versus-a-copy\n",
            "  X_train[col] = X_train[col].fillna('Unknown').astype(str)  # Fill NaN with 'Unknown' and convert to string\n",
            "<ipython-input-112-f17ba06c3bd5>:5: SettingWithCopyWarning: \n",
            "A value is trying to be set on a copy of a slice from a DataFrame.\n",
            "Try using .loc[row_indexer,col_indexer] = value instead\n",
            "\n",
            "See the caveats in the documentation: https://pandas.pydata.org/pandas-docs/stable/user_guide/indexing.html#returning-a-view-versus-a-copy\n",
            "  X_test[col] = X_test[col].fillna('Unknown').astype(str)  # Fill NaN with 'Unknown' and convert to string\n"
          ]
        },
        {
          "output_type": "stream",
          "name": "stdout",
          "text": [
            "50:\tlearn: 4.2747010\ttotal: 191ms\tremaining: 3.56s\n",
            "100:\tlearn: 4.2467617\ttotal: 390ms\tremaining: 3.48s\n",
            "150:\tlearn: 4.2172608\ttotal: 570ms\tremaining: 3.21s\n",
            "200:\tlearn: 4.1921491\ttotal: 746ms\tremaining: 2.96s\n",
            "250:\tlearn: 4.1682211\ttotal: 919ms\tremaining: 2.74s\n",
            "300:\tlearn: 4.1392459\ttotal: 1.09s\tremaining: 2.54s\n",
            "350:\tlearn: 4.1148018\ttotal: 1.3s\tremaining: 2.41s\n",
            "400:\tlearn: 4.0889904\ttotal: 1.49s\tremaining: 2.22s\n",
            "450:\tlearn: 4.0670395\ttotal: 1.66s\tremaining: 2.02s\n",
            "500:\tlearn: 4.0416744\ttotal: 1.84s\tremaining: 1.84s\n",
            "550:\tlearn: 4.0176939\ttotal: 2.02s\tremaining: 1.65s\n",
            "600:\tlearn: 3.9958751\ttotal: 2.2s\tremaining: 1.46s\n",
            "650:\tlearn: 3.9701747\ttotal: 2.41s\tremaining: 1.29s\n",
            "700:\tlearn: 3.9464132\ttotal: 2.61s\tremaining: 1.11s\n",
            "750:\tlearn: 3.9199825\ttotal: 2.8s\tremaining: 928ms\n",
            "800:\tlearn: 3.8937295\ttotal: 2.99s\tremaining: 743ms\n",
            "850:\tlearn: 3.8637280\ttotal: 3.17s\tremaining: 556ms\n",
            "900:\tlearn: 3.8400007\ttotal: 3.38s\tremaining: 372ms\n",
            "950:\tlearn: 3.8147554\ttotal: 3.57s\tremaining: 184ms\n",
            "999:\tlearn: 3.7873570\ttotal: 3.75s\tremaining: 0us\n"
          ]
        },
        {
          "output_type": "execute_result",
          "data": {
            "text/plain": [
              "<catboost.core.CatBoostRegressor at 0x78561753e590>"
            ]
          },
          "metadata": {},
          "execution_count": 112
        }
      ]
    },
    {
      "cell_type": "code",
      "source": [
        "y_pred = model.predict(test_pool)\n",
        "\n",
        "# Attach predictions to test set for review\n",
        "K_test_pred = X_test.copy()\n",
        "K_test_pred['predicted_fantasy_points'] = y_pred\n",
        "K_test_pred['espn_id'] = test_df['espn_id'].apply(lambda x: str(int(x)) if pd.notna(x) else np.nan)\n",
        "\n",
        "K_test_pred['position'] = \"K\"\n",
        "\n",
        "print(K_test_pred[['season', 'week', 'opponent_team', 'predicted_fantasy_points', 'player_display_name', 'espn_id', 'position']])"
      ],
      "metadata": {
        "colab": {
          "base_uri": "https://localhost:8080/"
        },
        "id": "GzkePkddomKv",
        "outputId": "6f008731-de65-48e3-8933-a1b393444bcc"
      },
      "execution_count": 113,
      "outputs": [
        {
          "output_type": "stream",
          "name": "stdout",
          "text": [
            "      season week opponent_team  predicted_fantasy_points player_display_name  \\\n",
            "24151   2024   14       Unknown                  8.484485           Nick Folk   \n",
            "24157   2024   14       Unknown                  8.266133         Graham Gano   \n",
            "24195   2024   14       Unknown                  8.917875     Brandon McManus   \n",
            "24213   2024   14       Unknown                  8.336803      Dustin Hopkins   \n",
            "24229   2024   14       Unknown                  8.539275       Chris Boswell   \n",
            "24247   2024   14       Unknown                  8.258203        Cairo Santos   \n",
            "24264   2024   14       Unknown                  8.876205         Jason Myers   \n",
            "24332   2024   14       Unknown                  8.088940        Younghoe Koo   \n",
            "24346   2024   14       Unknown                  8.788159        Jake Elliott   \n",
            "24376   2024   14       Unknown                  8.678935      Daniel Carlson   \n",
            "24393   2024   14       Unknown                  8.119678        Eddy Pineiro   \n",
            "24418   2024   14       Unknown                  8.392361       Jason Sanders   \n",
            "24436   2024   14       Unknown                  7.928947      Matthew Wright   \n",
            "24484   2024   14       Unknown                  8.827644    Chase McLaughlin   \n",
            "24502   2024   14       Unknown                  8.820355          Tyler Bass   \n",
            "24539   2024   14       Unknown                  8.415013      Cameron Dicker   \n",
            "24561   2024   14       Unknown                  8.576853      Brandon Aubrey   \n",
            "24567   2024   14       Unknown                  6.943136           Cade York   \n",
            "24576   2024   14       Unknown                  8.466042      Anders Carlson   \n",
            "24588   2024   14       Unknown                  8.605491          Jake Moody   \n",
            "24601   2024   14       Unknown                  7.559114         Chad Ryland   \n",
            "24618   2024   14       Unknown                  8.929888         Blake Grupe   \n",
            "24634   2024   14       Unknown                  9.192493          Jake Bates   \n",
            "24648   2024   14       Unknown                  8.138085       Will Reichard   \n",
            "24666   2024   14       Unknown                  7.974717          Cam Little   \n",
            "24694   2024   14       Unknown                  8.110536        Joshua Karty   \n",
            "\n",
            "       espn_id position  \n",
            "24151    10621        K  \n",
            "24157    12460        K  \n",
            "24195    16339        K  \n",
            "24213    15965        K  \n",
            "24229    17372        K  \n",
            "24247    17427        K  \n",
            "24264  2473037        K  \n",
            "24332  3049899        K  \n",
            "24346  3050478        K  \n",
            "24376  3051909        K  \n",
            "24393  4034949        K  \n",
            "24418  3124679        K  \n",
            "24436  3128444        K  \n",
            "24484  3150744        K  \n",
            "24502  3917232        K  \n",
            "24539  4362081        K  \n",
            "24561  3953687        K  \n",
            "24567  4428963        K  \n",
            "24576  4242519        K  \n",
            "24588  4372066        K  \n",
            "24601  4363538        K  \n",
            "24618  4259619        K  \n",
            "24634      NaN        K  \n",
            "24648  4567104        K  \n",
            "24666  4686361        K  \n",
            "24694  4566192        K  \n"
          ]
        }
      ]
    },
    {
      "cell_type": "code",
      "source": [
        "# Finding standard deviation residuals from trian data\n",
        "train_preds = model.predict(train_pool)\n",
        "residuals = y_train - train_preds\n",
        "std_resid = residuals.std()\n",
        "\n",
        "# Creating boom/bust interval\n",
        "ci_upper = y_pred + 1.645 * std_resid\n",
        "ci_lower = y_pred - 1.645 * std_resid\n",
        "\n",
        "# setting minimum to 0\n",
        "ci_lower = np.maximum(ci_lower, 0)\n",
        "\n",
        "\n",
        "K_test_pred['upper_bound'] = ci_upper\n",
        "K_test_pred['lower_bound'] = ci_lower\n",
        "\n",
        "print(K_test_pred[['season', 'week', 'opponent_team', 'lower_bound', 'predicted_fantasy_points', 'upper_bound', 'player_display_name', 'espn_id']])"
      ],
      "metadata": {
        "colab": {
          "base_uri": "https://localhost:8080/"
        },
        "id": "OfCb209uoxuh",
        "outputId": "cfc601ce-f9f7-49e5-beec-a9408c0ef283"
      },
      "execution_count": 114,
      "outputs": [
        {
          "output_type": "stream",
          "name": "stdout",
          "text": [
            "      season week opponent_team  lower_bound  predicted_fantasy_points  \\\n",
            "24151   2024   14       Unknown     2.006322                  8.484485   \n",
            "24157   2024   14       Unknown     1.787970                  8.266133   \n",
            "24195   2024   14       Unknown     2.439712                  8.917875   \n",
            "24213   2024   14       Unknown     1.858640                  8.336803   \n",
            "24229   2024   14       Unknown     2.061112                  8.539275   \n",
            "24247   2024   14       Unknown     1.780041                  8.258203   \n",
            "24264   2024   14       Unknown     2.398042                  8.876205   \n",
            "24332   2024   14       Unknown     1.610777                  8.088940   \n",
            "24346   2024   14       Unknown     2.309996                  8.788159   \n",
            "24376   2024   14       Unknown     2.200772                  8.678935   \n",
            "24393   2024   14       Unknown     1.641515                  8.119678   \n",
            "24418   2024   14       Unknown     1.914198                  8.392361   \n",
            "24436   2024   14       Unknown     1.450784                  7.928947   \n",
            "24484   2024   14       Unknown     2.349481                  8.827644   \n",
            "24502   2024   14       Unknown     2.342192                  8.820355   \n",
            "24539   2024   14       Unknown     1.936850                  8.415013   \n",
            "24561   2024   14       Unknown     2.098690                  8.576853   \n",
            "24567   2024   14       Unknown     0.464973                  6.943136   \n",
            "24576   2024   14       Unknown     1.987879                  8.466042   \n",
            "24588   2024   14       Unknown     2.127328                  8.605491   \n",
            "24601   2024   14       Unknown     1.080951                  7.559114   \n",
            "24618   2024   14       Unknown     2.451725                  8.929888   \n",
            "24634   2024   14       Unknown     2.714330                  9.192493   \n",
            "24648   2024   14       Unknown     1.659922                  8.138085   \n",
            "24666   2024   14       Unknown     1.496554                  7.974717   \n",
            "24694   2024   14       Unknown     1.632373                  8.110536   \n",
            "\n",
            "       upper_bound player_display_name  espn_id  \n",
            "24151    14.962648           Nick Folk    10621  \n",
            "24157    14.744296         Graham Gano    12460  \n",
            "24195    15.396038     Brandon McManus    16339  \n",
            "24213    14.814966      Dustin Hopkins    15965  \n",
            "24229    15.017438       Chris Boswell    17372  \n",
            "24247    14.736366        Cairo Santos    17427  \n",
            "24264    15.354367         Jason Myers  2473037  \n",
            "24332    14.567103        Younghoe Koo  3049899  \n",
            "24346    15.266322        Jake Elliott  3050478  \n",
            "24376    15.157098      Daniel Carlson  3051909  \n",
            "24393    14.597841        Eddy Pineiro  4034949  \n",
            "24418    14.870524       Jason Sanders  3124679  \n",
            "24436    14.407110      Matthew Wright  3128444  \n",
            "24484    15.305807    Chase McLaughlin  3150744  \n",
            "24502    15.298518          Tyler Bass  3917232  \n",
            "24539    14.893176      Cameron Dicker  4362081  \n",
            "24561    15.055016      Brandon Aubrey  3953687  \n",
            "24567    13.421298           Cade York  4428963  \n",
            "24576    14.944205      Anders Carlson  4242519  \n",
            "24588    15.083654          Jake Moody  4372066  \n",
            "24601    14.037277         Chad Ryland  4363538  \n",
            "24618    15.408051         Blake Grupe  4259619  \n",
            "24634    15.670656          Jake Bates      NaN  \n",
            "24648    14.616248       Will Reichard  4567104  \n",
            "24666    14.452880          Cam Little  4686361  \n",
            "24694    14.588698        Joshua Karty  4566192  \n"
          ]
        }
      ]
    },
    {
      "cell_type": "code",
      "source": [
        "# Actuals and predictions\n",
        "y_true = y_test.dropna()  # Drop NaN values from y_true\n",
        "y_pred = K_test_pred['predicted_fantasy_points'][y_true.index]\n",
        "\n",
        "# RMSE and MAE\n",
        "rmse = mean_squared_error(y_true, y_pred)\n",
        "mae = mean_absolute_error(y_true, y_pred)\n",
        "\n",
        "print(f\"✅ RMSE: {rmse:.2f}\")\n",
        "print(f\"✅ MAE: {mae:.2f}\")"
      ],
      "metadata": {
        "colab": {
          "base_uri": "https://localhost:8080/"
        },
        "id": "OZxmiARkpEMo",
        "outputId": "d04a1afd-0b31-4a14-f9df-3513f16745f5"
      },
      "execution_count": 115,
      "outputs": [
        {
          "output_type": "stream",
          "name": "stdout",
          "text": [
            "✅ RMSE: 23.45\n",
            "✅ MAE: 3.99\n"
          ]
        }
      ]
    },
    {
      "cell_type": "markdown",
      "source": [
        "# **DEF CatBoost Model**"
      ],
      "metadata": {
        "id": "KIHr7qcCv8dv"
      }
    },
    {
      "cell_type": "code",
      "source": [
        "df_def = weekly_stats_all[weekly_stats_all['player_id'] == 'defense'].copy()\n",
        "\n",
        "# Sorting data for time-series purposes\n",
        "df_def = df_def.sort_values(by=['team', 'season', 'week'])\n",
        "\n",
        "# Creating lag/rolling features for model\n",
        "# Takes into account past 3 games (or less, depending on the data available that week)\n",
        "rolling_cols = [\n",
        "    'interceptions', 'sacks', 'df_tds', 'total_points_allowed', 'blocked_kicks'\n",
        "]\n",
        "\n",
        "for col in rolling_cols:\n",
        "    df_def[f'{col}_last3'] = df_def.groupby('team')[col].shift(1).rolling(3, min_periods = 1).mean()\n",
        "\n",
        "# Season averages\n",
        "expanding_cols = [\n",
        "    'interceptions', 'sacks', 'total_points_allowed', 'fantasy_points'\n",
        "]\n",
        "\n",
        "for col in expanding_cols:\n",
        "    df_def[col] = pd.to_numeric(df_def[col], errors='coerce')\n",
        "\n",
        "for col in expanding_cols:\n",
        "    df_def[f'{col}_season_avg'] = (\n",
        "        df_def.groupby(['team', 'season'])[col]\n",
        "        .transform(lambda x: x.shift(1).expanding().mean())\n",
        "    )\n",
        "\n",
        "print(df_def.head(10))"
      ],
      "metadata": {
        "colab": {
          "base_uri": "https://localhost:8080/"
        },
        "id": "-80iygxIv-05",
        "outputId": "763375bd-aa23-4903-b579-9651b0f2409f"
      },
      "execution_count": 116,
      "outputs": [
        {
          "output_type": "stream",
          "name": "stdout",
          "text": [
            "      player_id player_name player_display_name position position_group  \\\n",
            "24732   defense         NaN                 NaN      NaN            NaN   \n",
            "24754   defense         NaN                 NaN      NaN            NaN   \n",
            "24780   defense         NaN                 NaN      NaN            NaN   \n",
            "24814   defense         NaN                 NaN      NaN            NaN   \n",
            "24859   defense         NaN                 NaN      NaN            NaN   \n",
            "24869   defense         NaN                 NaN      NaN            NaN   \n",
            "24901   defense         NaN                 NaN      NaN            NaN   \n",
            "24927   defense         NaN                 NaN      NaN            NaN   \n",
            "24973   defense         NaN                 NaN      NaN            NaN   \n",
            "24979   defense         NaN                 NaN      NaN            NaN   \n",
            "\n",
            "      headshot_url recent_team  season  week season_type  ... cur_roster_slot  \\\n",
            "24732          NaN         NaN    2021     1         NaN  ...             NaN   \n",
            "24754          NaN         NaN    2021     2         NaN  ...             NaN   \n",
            "24780          NaN         NaN    2021     3         NaN  ...             NaN   \n",
            "24814          NaN         NaN    2021     4         NaN  ...             NaN   \n",
            "24859          NaN         NaN    2021     5         NaN  ...             NaN   \n",
            "24869          NaN         NaN    2021     6         NaN  ...             NaN   \n",
            "24901          NaN         NaN    2021     7         NaN  ...             NaN   \n",
            "24927          NaN         NaN    2021     8         NaN  ...             NaN   \n",
            "24973          NaN         NaN    2021     9         NaN  ...             NaN   \n",
            "24979          NaN         NaN    2021    10         NaN  ...             NaN   \n",
            "\n",
            "       interceptions_last3  sacks_last3  df_tds_last3  \\\n",
            "24732                  NaN          NaN           NaN   \n",
            "24754             1.000000     6.000000      0.000000   \n",
            "24780             0.500000     3.500000      0.000000   \n",
            "24814             1.000000     3.000000      0.333333   \n",
            "24859             1.000000     1.000000      0.333333   \n",
            "24869             1.333333     1.333333      0.333333   \n",
            "24901             1.000000     2.333333      0.000000   \n",
            "24927             0.666667     3.000000      0.000000   \n",
            "24973             0.333333     2.666667      0.000000   \n",
            "24979             0.333333     2.666667      0.000000   \n",
            "\n",
            "       total_points_allowed_last3  blocked_kicks_last3  \\\n",
            "24732                         NaN                  NaN   \n",
            "24754                   20.000000                  0.0   \n",
            "24780                   24.000000                  0.0   \n",
            "24814                   22.333333                  0.0   \n",
            "24859                   24.000000                  0.0   \n",
            "24869                   18.333333                  0.0   \n",
            "24901                   20.333333                  0.0   \n",
            "24927                   14.333333                  0.0   \n",
            "24973                   17.666667                  0.0   \n",
            "24979                   15.666667                  0.0   \n",
            "\n",
            "       interceptions_season_avg  sacks_season_avg  \\\n",
            "24732                       NaN               NaN   \n",
            "24754                  1.000000          6.000000   \n",
            "24780                  0.500000          3.500000   \n",
            "24814                  1.000000          3.000000   \n",
            "24859                  1.000000          2.250000   \n",
            "24869                  1.000000          2.200000   \n",
            "24901                  1.000000          2.666667   \n",
            "24927                  0.857143          2.571429   \n",
            "24973                  0.750000          2.375000   \n",
            "24979                  0.777778          2.666667   \n",
            "\n",
            "       total_points_allowed_season_avg  fantasy_points_season_avg  \n",
            "24732                              NaN                        NaN  \n",
            "24754                        20.000000                  14.000000  \n",
            "24780                        24.000000                   5.500000  \n",
            "24814                        22.333333                   8.666667  \n",
            "24859                        23.000000                   6.750000  \n",
            "24869                        20.600000                   6.600000  \n",
            "24901                        21.333333                   7.166667  \n",
            "24927                        19.285714                   7.571429  \n",
            "24973                        19.500000                   6.625000  \n",
            "24979                        19.444444                   7.000000  \n",
            "\n",
            "[10 rows x 125 columns]\n"
          ]
        }
      ]
    },
    {
      "cell_type": "code",
      "source": [
        "TARGET_COL = 'fantasy_points'\n",
        "\n",
        "# Creating test and train sets\n",
        "train_df = df_def[\n",
        "    (df_def[TARGET_COL].notna()) &\n",
        "    (\n",
        "        (df_def['season'] < 2024) |\n",
        "        ((df_def['season'] == 2024) & (df_def['week'] < 14))\n",
        "    )\n",
        "]\n",
        "\n",
        "test_df = df_def[(df_def['season'] == 2024) & (df_def['week'] == 14)]\n",
        "\n",
        "\n",
        "feature_cols = [\n",
        "    col for col in df_def.columns\n",
        "    if col.endswith('_last3') or col.endswith('_trend') or col.endswith('_season_avg')\n",
        "] + ['team','season', 'week', 'opponent_team']\n",
        "\n",
        "\n",
        "X_train = train_df[feature_cols]\n",
        "y_train = train_df[TARGET_COL]\n",
        "\n",
        "X_test = test_df[feature_cols]\n",
        "\n",
        "# for RMSE testing purposes on the test set\n",
        "y_test = test_df[TARGET_COL]"
      ],
      "metadata": {
        "id": "P5-zJRfzymv0"
      },
      "execution_count": 117,
      "outputs": []
    },
    {
      "cell_type": "code",
      "source": [
        "categorical_cols = ['season', 'week', 'team']\n",
        "\n",
        "for col in categorical_cols:\n",
        "    X_train[col] = X_train[col].fillna('Unknown').astype(str)\n",
        "    X_test[col] = X_test[col].fillna('Unknown').astype(str)\n",
        "\n",
        "# Create Pool objects\n",
        "train_pool = Pool(data=X_train, label=y_train, cat_features=categorical_cols)\n",
        "test_pool = Pool(data=X_test, cat_features=categorical_cols)\n",
        "\n",
        "# Initialize the CatBoost model\n",
        "model = CatBoostRegressor(\n",
        "    iterations = 1000,\n",
        "    learning_rate = 0.01,\n",
        "    depth=6,\n",
        "    loss_function='RMSE',\n",
        "    random_seed=42,\n",
        "    verbose=50  # or 0 to suppress output\n",
        ")\n",
        "\n",
        "# Train\n",
        "model.fit(train_pool)"
      ],
      "metadata": {
        "colab": {
          "base_uri": "https://localhost:8080/"
        },
        "id": "8ccuCwKazHZ3",
        "outputId": "c0458073-65f2-464e-8c5c-69bf54396da7"
      },
      "execution_count": 118,
      "outputs": [
        {
          "output_type": "stream",
          "name": "stdout",
          "text": [
            "0:\tlearn: 5.7263801\ttotal: 4.01ms\tremaining: 4s\n"
          ]
        },
        {
          "output_type": "stream",
          "name": "stderr",
          "text": [
            "<ipython-input-118-a5e4d7c64a8b>:4: SettingWithCopyWarning: \n",
            "A value is trying to be set on a copy of a slice from a DataFrame.\n",
            "Try using .loc[row_indexer,col_indexer] = value instead\n",
            "\n",
            "See the caveats in the documentation: https://pandas.pydata.org/pandas-docs/stable/user_guide/indexing.html#returning-a-view-versus-a-copy\n",
            "  X_train[col] = X_train[col].fillna('Unknown').astype(str)\n",
            "<ipython-input-118-a5e4d7c64a8b>:5: SettingWithCopyWarning: \n",
            "A value is trying to be set on a copy of a slice from a DataFrame.\n",
            "Try using .loc[row_indexer,col_indexer] = value instead\n",
            "\n",
            "See the caveats in the documentation: https://pandas.pydata.org/pandas-docs/stable/user_guide/indexing.html#returning-a-view-versus-a-copy\n",
            "  X_test[col] = X_test[col].fillna('Unknown').astype(str)\n",
            "<ipython-input-118-a5e4d7c64a8b>:4: SettingWithCopyWarning: \n",
            "A value is trying to be set on a copy of a slice from a DataFrame.\n",
            "Try using .loc[row_indexer,col_indexer] = value instead\n",
            "\n",
            "See the caveats in the documentation: https://pandas.pydata.org/pandas-docs/stable/user_guide/indexing.html#returning-a-view-versus-a-copy\n",
            "  X_train[col] = X_train[col].fillna('Unknown').astype(str)\n",
            "<ipython-input-118-a5e4d7c64a8b>:5: SettingWithCopyWarning: \n",
            "A value is trying to be set on a copy of a slice from a DataFrame.\n",
            "Try using .loc[row_indexer,col_indexer] = value instead\n",
            "\n",
            "See the caveats in the documentation: https://pandas.pydata.org/pandas-docs/stable/user_guide/indexing.html#returning-a-view-versus-a-copy\n",
            "  X_test[col] = X_test[col].fillna('Unknown').astype(str)\n",
            "<ipython-input-118-a5e4d7c64a8b>:4: SettingWithCopyWarning: \n",
            "A value is trying to be set on a copy of a slice from a DataFrame.\n",
            "Try using .loc[row_indexer,col_indexer] = value instead\n",
            "\n",
            "See the caveats in the documentation: https://pandas.pydata.org/pandas-docs/stable/user_guide/indexing.html#returning-a-view-versus-a-copy\n",
            "  X_train[col] = X_train[col].fillna('Unknown').astype(str)\n",
            "<ipython-input-118-a5e4d7c64a8b>:5: SettingWithCopyWarning: \n",
            "A value is trying to be set on a copy of a slice from a DataFrame.\n",
            "Try using .loc[row_indexer,col_indexer] = value instead\n",
            "\n",
            "See the caveats in the documentation: https://pandas.pydata.org/pandas-docs/stable/user_guide/indexing.html#returning-a-view-versus-a-copy\n",
            "  X_test[col] = X_test[col].fillna('Unknown').astype(str)\n"
          ]
        },
        {
          "output_type": "stream",
          "name": "stdout",
          "text": [
            "50:\tlearn: 5.6594540\ttotal: 169ms\tremaining: 3.15s\n",
            "100:\tlearn: 5.6037054\ttotal: 359ms\tremaining: 3.2s\n",
            "150:\tlearn: 5.5576553\ttotal: 536ms\tremaining: 3.01s\n",
            "200:\tlearn: 5.5193042\ttotal: 705ms\tremaining: 2.8s\n",
            "250:\tlearn: 5.4935801\ttotal: 851ms\tremaining: 2.54s\n",
            "300:\tlearn: 5.4562785\ttotal: 1.01s\tremaining: 2.34s\n",
            "350:\tlearn: 5.4272227\ttotal: 1.2s\tremaining: 2.21s\n",
            "400:\tlearn: 5.4059136\ttotal: 1.35s\tremaining: 2.02s\n",
            "450:\tlearn: 5.3835135\ttotal: 1.5s\tremaining: 1.82s\n",
            "500:\tlearn: 5.3648388\ttotal: 1.65s\tremaining: 1.64s\n",
            "550:\tlearn: 5.3383442\ttotal: 1.81s\tremaining: 1.47s\n",
            "600:\tlearn: 5.3131021\ttotal: 1.97s\tremaining: 1.3s\n",
            "650:\tlearn: 5.2860897\ttotal: 2.13s\tremaining: 1.14s\n",
            "700:\tlearn: 5.2634305\ttotal: 2.32s\tremaining: 989ms\n",
            "750:\tlearn: 5.2369504\ttotal: 2.49s\tremaining: 826ms\n",
            "800:\tlearn: 5.2149027\ttotal: 2.65s\tremaining: 659ms\n",
            "850:\tlearn: 5.1916358\ttotal: 2.83s\tremaining: 495ms\n",
            "900:\tlearn: 5.1677579\ttotal: 2.99s\tremaining: 329ms\n",
            "950:\tlearn: 5.1477558\ttotal: 3.17s\tremaining: 163ms\n",
            "999:\tlearn: 5.1257100\ttotal: 3.37s\tremaining: 0us\n"
          ]
        },
        {
          "output_type": "execute_result",
          "data": {
            "text/plain": [
              "<catboost.core.CatBoostRegressor at 0x78561a4ca850>"
            ]
          },
          "metadata": {},
          "execution_count": 118
        }
      ]
    },
    {
      "cell_type": "code",
      "source": [
        "y_pred = model.predict(test_pool)\n",
        "\n",
        "# Attach predictions to test set for review\n",
        "DEF_test_pred = X_test.copy()\n",
        "DEF_test_pred['predicted_fantasy_points'] = y_pred\n",
        "DEF_test_pred['espn_id'] = test_df['espn_id'].apply(lambda x: str(int(x)) if pd.notna(x) else np.nan)\n",
        "DEF_test_pred['position'] = \"DEF\"\n",
        "\n",
        "print(DEF_test_pred[['season', 'week', 'predicted_fantasy_points', 'team', 'espn_id', 'position']])"
      ],
      "metadata": {
        "colab": {
          "base_uri": "https://localhost:8080/"
        },
        "id": "E0z4GPzWzUif",
        "outputId": "178d5a1d-d38b-4f22-ec90-e19ecec3fd45"
      },
      "execution_count": 119,
      "outputs": [
        {
          "output_type": "stream",
          "name": "stdout",
          "text": [
            "      season week  predicted_fantasy_points team espn_id position\n",
            "26830   2024   14                  4.491918  ARI  -16022      DEF\n",
            "26824   2024   14                  4.646357  ATL  -16001      DEF\n",
            "26820   2024   14                  6.261044  BUF  -16002      DEF\n",
            "26828   2024   14                  3.982936  CAR  -16029      DEF\n",
            "26831   2024   14                  5.516650  CHI  -16003      DEF\n",
            "26815   2024   14                  4.107146  CIN  -16004      DEF\n",
            "26829   2024   14                  4.599554  CLE  -16005      DEF\n",
            "26813   2024   14                  5.626609  DAL  -16015      DEF\n",
            "26817   2024   14                  4.760775  DET  -16008      DEF\n",
            "26816   2024   14                  5.585654   GB  -16009      DEF\n",
            "26833   2024   14                  3.765487  JAX  -16030      DEF\n",
            "26821   2024   14                  4.565247   KC  -16012      DEF\n",
            "26810   2024   14                  4.524818   LA  -16014      DEF\n",
            "26819   2024   14                  5.078927  LAC  -16024      DEF\n",
            "26832   2024   14                  3.949943   LV  -16013      DEF\n",
            "26827   2024   14                  4.577128  MIA  -16006      DEF\n",
            "26809   2024   14                  5.150354  MIN  -16016      DEF\n",
            "26826   2024   14                  4.990973   NO  -16018      DEF\n",
            "26825   2024   14                  2.983250  NYG  -16019      DEF\n",
            "26823   2024   14                  5.096634  NYJ  -16020      DEF\n",
            "26811   2024   14                  4.908128  PHI  -16021      DEF\n",
            "26814   2024   14                  5.425311  PIT  -16023      DEF\n",
            "26808   2024   14                  4.977049  SEA  -16026      DEF\n",
            "26812   2024   14                  5.169169   SF  -16025      DEF\n",
            "26822   2024   14                  4.040627   TB  -16027      DEF\n",
            "26818   2024   14                  4.146126  TEN  -16010      DEF\n"
          ]
        }
      ]
    },
    {
      "cell_type": "code",
      "source": [
        "# Finding standard deviation residuals from train data\n",
        "train_preds = model.predict(train_pool)\n",
        "residuals = y_train - train_preds\n",
        "std_resid = residuals.std()\n",
        "\n",
        "# Creating boom/bust interval\n",
        "ci_upper = y_pred + 1.645 * std_resid\n",
        "ci_lower = y_pred - 1.645 * std_resid\n",
        "\n",
        "# setting minimum to 0\n",
        "#ci_lower = np.maximum(ci_lower, 0)\n",
        "\n",
        "\n",
        "DEF_test_pred['upper_bound'] = ci_upper\n",
        "DEF_test_pred['lower_bound'] = ci_lower\n",
        "\n",
        "print(DEF_test_pred[['season', 'week', 'lower_bound', 'predicted_fantasy_points', 'upper_bound', 'team', 'espn_id']])\n",
        "print(DEF_test_pred.columns.tolist())"
      ],
      "metadata": {
        "colab": {
          "base_uri": "https://localhost:8080/"
        },
        "id": "KxiT8bsazlv-",
        "outputId": "a0dfb8c3-e289-41f8-d2bd-58d8ecb8a6c4"
      },
      "execution_count": 120,
      "outputs": [
        {
          "output_type": "stream",
          "name": "stdout",
          "text": [
            "      season week  lower_bound  predicted_fantasy_points  upper_bound team  \\\n",
            "26830   2024   14    -4.216260                  4.491918    13.200095  ARI   \n",
            "26824   2024   14    -4.061820                  4.646357    13.354535  ATL   \n",
            "26820   2024   14    -2.447133                  6.261044    14.969222  BUF   \n",
            "26828   2024   14    -4.725242                  3.982936    12.691113  CAR   \n",
            "26831   2024   14    -3.191528                  5.516650    14.224827  CHI   \n",
            "26815   2024   14    -4.601032                  4.107146    12.815324  CIN   \n",
            "26829   2024   14    -4.108624                  4.599554    13.307731  CLE   \n",
            "26813   2024   14    -3.081568                  5.626609    14.334787  DAL   \n",
            "26817   2024   14    -3.947403                  4.760775    13.468952  DET   \n",
            "26816   2024   14    -3.122524                  5.585654    14.293831   GB   \n",
            "26833   2024   14    -4.942690                  3.765487    12.473665  JAX   \n",
            "26821   2024   14    -4.142930                  4.565247    13.273425   KC   \n",
            "26810   2024   14    -4.183360                  4.524818    13.232996   LA   \n",
            "26819   2024   14    -3.629250                  5.078927    13.787105  LAC   \n",
            "26832   2024   14    -4.758235                  3.949943    12.658121   LV   \n",
            "26827   2024   14    -4.131050                  4.577128    13.285305  MIA   \n",
            "26809   2024   14    -3.557823                  5.150354    13.858532  MIN   \n",
            "26826   2024   14    -3.717205                  4.990973    13.699150   NO   \n",
            "26825   2024   14    -5.724928                  2.983250    11.691428  NYG   \n",
            "26823   2024   14    -3.611543                  5.096634    13.804812  NYJ   \n",
            "26811   2024   14    -3.800050                  4.908128    13.616305  PHI   \n",
            "26814   2024   14    -3.282867                  5.425311    14.133488  PIT   \n",
            "26808   2024   14    -3.731129                  4.977049    13.685226  SEA   \n",
            "26812   2024   14    -3.539009                  5.169169    13.877347   SF   \n",
            "26822   2024   14    -4.667551                  4.040627    12.748805   TB   \n",
            "26818   2024   14    -4.562051                  4.146126    12.854304  TEN   \n",
            "\n",
            "      espn_id  \n",
            "26830  -16022  \n",
            "26824  -16001  \n",
            "26820  -16002  \n",
            "26828  -16029  \n",
            "26831  -16003  \n",
            "26815  -16004  \n",
            "26829  -16005  \n",
            "26813  -16015  \n",
            "26817  -16008  \n",
            "26816  -16009  \n",
            "26833  -16030  \n",
            "26821  -16012  \n",
            "26810  -16014  \n",
            "26819  -16024  \n",
            "26832  -16013  \n",
            "26827  -16006  \n",
            "26809  -16016  \n",
            "26826  -16018  \n",
            "26825  -16019  \n",
            "26823  -16020  \n",
            "26811  -16021  \n",
            "26814  -16023  \n",
            "26808  -16026  \n",
            "26812  -16025  \n",
            "26822  -16027  \n",
            "26818  -16010  \n",
            "['interceptions_last3', 'sacks_last3', 'df_tds_last3', 'total_points_allowed_last3', 'blocked_kicks_last3', 'interceptions_season_avg', 'sacks_season_avg', 'total_points_allowed_season_avg', 'fantasy_points_season_avg', 'team', 'season', 'week', 'opponent_team', 'predicted_fantasy_points', 'espn_id', 'position', 'upper_bound', 'lower_bound']\n"
          ]
        }
      ]
    },
    {
      "cell_type": "code",
      "source": [
        "# Actuals and predictions\n",
        "y_true = y_test.dropna()  # Drop NaN values from y_true\n",
        "y_pred = DEF_test_pred['predicted_fantasy_points'][y_true.index]\n",
        "\n",
        "# RMSE and MAE\n",
        "rmse = mean_squared_error(y_true, y_pred)\n",
        "mae = mean_absolute_error(y_true, y_pred)\n",
        "\n",
        "print(f\"✅ RMSE: {rmse:.2f}\")\n",
        "print(f\"✅ MAE: {mae:.2f}\")"
      ],
      "metadata": {
        "colab": {
          "base_uri": "https://localhost:8080/"
        },
        "id": "g2BQFP36z7Wh",
        "outputId": "a3dced84-de22-4a0a-cefe-3ab41e9ac75f"
      },
      "execution_count": 121,
      "outputs": [
        {
          "output_type": "stream",
          "name": "stdout",
          "text": [
            "✅ RMSE: 32.36\n",
            "✅ MAE: 4.49\n"
          ]
        }
      ]
    },
    {
      "cell_type": "code",
      "source": [
        "DEF_test_pred['player_display_name'] = DEF_test_pred['team']\n",
        "print(DEF_test_pred.head())\n",
        "\n",
        "print(DEF_test_pred.columns.tolist())"
      ],
      "metadata": {
        "id": "AcT7WyfiQJa1",
        "outputId": "22076a30-7df5-42d7-ddf1-8b758aa4ac46",
        "colab": {
          "base_uri": "https://localhost:8080/"
        }
      },
      "execution_count": 122,
      "outputs": [
        {
          "output_type": "stream",
          "name": "stdout",
          "text": [
            "       interceptions_last3  sacks_last3  df_tds_last3  \\\n",
            "26830             0.333333     4.333333      0.000000   \n",
            "26824             0.000000     2.000000      0.000000   \n",
            "26820             1.666667     2.333333      0.333333   \n",
            "26828             1.333333     3.666667      0.000000   \n",
            "26831             0.333333     2.000000      0.000000   \n",
            "\n",
            "       total_points_allowed_last3  blocked_kicks_last3  \\\n",
            "26830                   15.666667             0.000000   \n",
            "26824                   20.000000             0.333333   \n",
            "26820                   19.666667             0.000000   \n",
            "26828                   24.666667             0.000000   \n",
            "26831                   21.333333             0.666667   \n",
            "\n",
            "       interceptions_season_avg  sacks_season_avg  \\\n",
            "26830                  0.500000          2.833333   \n",
            "26824                  0.583333          1.250000   \n",
            "26820                  1.083333          2.333333   \n",
            "26828                  0.583333          1.750000   \n",
            "26831                  0.750000          2.500000   \n",
            "\n",
            "       total_points_allowed_season_avg  fantasy_points_season_avg team season  \\\n",
            "26830                        20.000000                   5.666667  ARI   2024   \n",
            "26824                        20.750000                   3.833333  ATL   2024   \n",
            "26820                        19.416667                   7.750000  BUF   2024   \n",
            "26828                        26.416667                   1.000000  CAR   2024   \n",
            "26831                        17.083333                   6.500000  CHI   2024   \n",
            "\n",
            "      week opponent_team  predicted_fantasy_points espn_id position  \\\n",
            "26830   14           NaN                  4.491918  -16022      DEF   \n",
            "26824   14           NaN                  4.646357  -16001      DEF   \n",
            "26820   14           NaN                  6.261044  -16002      DEF   \n",
            "26828   14           NaN                  3.982936  -16029      DEF   \n",
            "26831   14           NaN                  5.516650  -16003      DEF   \n",
            "\n",
            "       upper_bound  lower_bound player_display_name  \n",
            "26830    13.200095    -4.216260                 ARI  \n",
            "26824    13.354535    -4.061820                 ATL  \n",
            "26820    14.969222    -2.447133                 BUF  \n",
            "26828    12.691113    -4.725242                 CAR  \n",
            "26831    14.224827    -3.191528                 CHI  \n",
            "['interceptions_last3', 'sacks_last3', 'df_tds_last3', 'total_points_allowed_last3', 'blocked_kicks_last3', 'interceptions_season_avg', 'sacks_season_avg', 'total_points_allowed_season_avg', 'fantasy_points_season_avg', 'team', 'season', 'week', 'opponent_team', 'predicted_fantasy_points', 'espn_id', 'position', 'upper_bound', 'lower_bound', 'player_display_name']\n"
          ]
        }
      ]
    },
    {
      "cell_type": "markdown",
      "source": [
        "# **Putting together all the prediction data**"
      ],
      "metadata": {
        "id": "uVdRXplu0MOP"
      }
    },
    {
      "cell_type": "code",
      "source": [
        "QB_test_pred = QB_test_pred[['season', 'week', 'opponent_team', 'lower_bound', 'predicted_fantasy_points', 'upper_bound', 'player_display_name', 'espn_id', 'position']]\n",
        "RB_test_pred = RB_test_pred[['season', 'week', 'opponent_team', 'lower_bound', 'predicted_fantasy_points', 'upper_bound', 'player_display_name', 'espn_id', 'position']]\n",
        "WR_test_pred = WR_test_pred[['season', 'week', 'opponent_team', 'lower_bound', 'predicted_fantasy_points', 'upper_bound', 'player_display_name', 'espn_id', 'position']]\n",
        "TE_test_pred = TE_test_pred[['season', 'week', 'opponent_team', 'lower_bound', 'predicted_fantasy_points', 'upper_bound', 'player_display_name', 'espn_id', 'position']]\n",
        "K_test_pred = K_test_pred[['season', 'week', 'opponent_team', 'lower_bound', 'predicted_fantasy_points', 'upper_bound', 'player_display_name', 'espn_id', 'position']]\n",
        "DEF_test_pred = DEF_test_pred[['season', 'week', 'team', 'lower_bound', 'predicted_fantasy_points', 'upper_bound', 'player_display_name', 'espn_id', 'position']]\n",
        "\n",
        "all_predictions = pd.concat([QB_test_pred, RB_test_pred, WR_test_pred, TE_test_pred, K_test_pred, DEF_test_pred], axis= 0, ignore_index = True)\n",
        "\n",
        "#all_predictions['espn_id'] = all_predictions['espn_id'].apply(lambda x: int(x) if pd.notna(x) else np.nan)\n",
        "#all_predictions['espn_id'] = all_predictions['espn_id'].astype('Int64')\n",
        "\n",
        "all_predictions['espn_id'] = pd.to_numeric(all_predictions['espn_id'], errors='coerce').astype('Int64')"
      ],
      "metadata": {
        "id": "r_bwzWmG0G-U"
      },
      "execution_count": 123,
      "outputs": []
    },
    {
      "cell_type": "code",
      "source": [
        "print(all_predictions)"
      ],
      "metadata": {
        "colab": {
          "base_uri": "https://localhost:8080/"
        },
        "id": "jdzyMYpM0Lku",
        "outputId": "0e2651a9-f66e-4c96-882e-01623d643652"
      },
      "execution_count": 124,
      "outputs": [
        {
          "output_type": "stream",
          "name": "stdout",
          "text": [
            "    season week opponent_team  lower_bound  predicted_fantasy_points  \\\n",
            "0     2024   14           MIA     5.165464                 15.398341   \n",
            "1     2024   14           BUF     6.534220                 16.767097   \n",
            "2     2024   14           CLE     6.103385                 16.336262   \n",
            "3     2024   14           MIN     4.531927                 14.764804   \n",
            "4     2024   14           ARI     7.095135                 17.328012   \n",
            "..     ...  ...           ...          ...                       ...   \n",
            "293   2024   14           NaN    -3.282867                  5.425311   \n",
            "294   2024   14           NaN    -3.731129                  4.977049   \n",
            "295   2024   14           NaN    -3.539009                  5.169169   \n",
            "296   2024   14           NaN    -4.667551                  4.040627   \n",
            "297   2024   14           NaN    -4.562051                  4.146126   \n",
            "\n",
            "     upper_bound player_display_name  espn_id position team  \n",
            "0      25.631218       Aaron Rodgers     8439       QB  NaN  \n",
            "1      26.999974    Matthew Stafford    12483       QB  NaN  \n",
            "2      26.569139      Russell Wilson    14881       QB  NaN  \n",
            "3      24.997681        Kirk Cousins    14880       QB  NaN  \n",
            "4      27.560889          Geno Smith    15864       QB  NaN  \n",
            "..           ...                 ...      ...      ...  ...  \n",
            "293    14.133488                 PIT   -16023      DEF  PIT  \n",
            "294    13.685226                 SEA   -16026      DEF  SEA  \n",
            "295    13.877347                  SF   -16025      DEF   SF  \n",
            "296    12.748805                  TB   -16027      DEF   TB  \n",
            "297    12.854304                 TEN   -16010      DEF  TEN  \n",
            "\n",
            "[298 rows x 10 columns]\n"
          ]
        }
      ]
    },
    {
      "cell_type": "markdown",
      "source": [
        "# Putting dataframes back in excel/google drive\n",
        "*Saving the season & weekly stats data frames, the data frame containing all the player fantasy point predictions, and the data frame containing the schedule & team record*"
      ],
      "metadata": {
        "id": "QF_0j5MTbirc"
      }
    },
    {
      "cell_type": "code",
      "source": [
        "season_stats_all.loc[season_stats_all['player_id'] == 'defense', 'position'] = 'DEF'\n",
        "weekly_stats_all.loc[weekly_stats_all['player_id'] == 'defense', 'position'] = 'DEF'\n",
        "\n",
        "season_stats_all.loc[season_stats_all['player_id'] == 'defense', 'player_display_name'] = season_stats_all.loc[season_stats_all['player_id'] == 'defense', 'team']\n",
        "weekly_stats_all.loc[weekly_stats_all['player_id'] == 'defense', 'player_display_name'] = weekly_stats_all.loc[weekly_stats_all['player_id'] == 'defense', 'team']"
      ],
      "metadata": {
        "id": "LLStfDnLsaR-"
      },
      "execution_count": 125,
      "outputs": []
    },
    {
      "cell_type": "code",
      "source": [
        "home = weekly_matchup_data[['week', 'home_team', 'home_score', 'away_score']].copy()\n",
        "home.columns = ['week', 'fantasy_team', 'points_scored', 'points_allowed']\n",
        "\n",
        "# Create away team rows\n",
        "away = weekly_matchup_data[['week', 'away_team', 'away_score', 'home_score']].copy()\n",
        "away.columns = ['week', 'fantasy_team', 'points_scored', 'points_allowed']\n",
        "\n",
        "# Combine\n",
        "team_scoring = pd.concat([home, away], ignore_index=True)\n",
        "\n",
        "# Optional: sort it\n",
        "team_scoring = team_scoring.sort_values(by=['fantasy_team', 'week']).reset_index(drop=True)\n",
        "\n",
        "team_scoring['weekly_avg'] = team_scoring.groupby('week')['points_scored'].transform('mean')\n",
        "\n",
        "# Show the result\n",
        "print(team_scoring.head())"
      ],
      "metadata": {
        "id": "iuK0evX0oUhK",
        "outputId": "fc587d91-222d-4f0a-da81-2cd80c1c6726",
        "colab": {
          "base_uri": "https://localhost:8080/"
        }
      },
      "execution_count": 126,
      "outputs": [
        {
          "output_type": "stream",
          "name": "stdout",
          "text": [
            "   week      fantasy_team  points_scored  points_allowed  weekly_avg\n",
            "0     1  Bucktown Bandits           73.0            96.0        89.2\n",
            "1     2  Bucktown Bandits           86.0           109.0        95.3\n",
            "2     3  Bucktown Bandits           86.0           102.0        83.3\n",
            "3     4  Bucktown Bandits          106.0            47.0        80.5\n",
            "4     5  Bucktown Bandits           65.0            99.0        86.5\n"
          ]
        }
      ]
    },
    {
      "cell_type": "code",
      "source": [
        "from itertools import product\n",
        "\n",
        "# Assume team_scoring is already loaded and looks like:\n",
        "# week | fantasy_team | points_scored | points_allowed\n",
        "\n",
        "teams = sorted(team_scoring['fantasy_team'].unique())\n",
        "results = []\n",
        "\n",
        "for team_a, team_b in product(teams, repeat=2):\n",
        "    if team_a == team_b:\n",
        "        continue\n",
        "\n",
        "    # Team A's points scored each week\n",
        "    a_data = team_scoring[team_scoring['fantasy_team'] == team_a].sort_values('week').reset_index(drop=True)\n",
        "    a_scores = a_data['points_scored']\n",
        "\n",
        "    # Team B's opponents' points allowed each week\n",
        "    b_data = team_scoring[team_scoring['fantasy_team'] == team_b].sort_values('week').reset_index(drop=True)\n",
        "    b_opponent_allowed = b_data['points_allowed']\n",
        "\n",
        "    # Simulate week-by-week\n",
        "    wins = 0\n",
        "    losses = 0\n",
        "\n",
        "    for week in range(len(a_scores)):\n",
        "        a_pts = a_scores[week]\n",
        "        b_allwd = b_opponent_allowed[week]\n",
        "\n",
        "        if a_pts > b_allwd:\n",
        "            wins += 1\n",
        "        else:\n",
        "            losses += 1\n",
        "\n",
        "        results.append({\n",
        "            'team': team_a,\n",
        "            'schedule_team': team_b,\n",
        "            'week': week + 1,\n",
        "            'points_scored': a_pts,\n",
        "            'hypothetical_opponent_points': b_allwd,\n",
        "            'wins': wins,\n",
        "            'losses': losses,\n",
        "            'record': f\"{wins}-{losses}\"\n",
        "        })\n",
        "\n",
        "# Create the DataFrame\n",
        "week_by_week_records = pd.DataFrame(results)"
      ],
      "metadata": {
        "id": "YzQ3IDAA7uiT"
      },
      "execution_count": 128,
      "outputs": []
    },
    {
      "cell_type": "code",
      "source": [
        "print(week_by_week_records)"
      ],
      "metadata": {
        "id": "nIPGlChw7ze7",
        "outputId": "96ed7569-3469-4c2e-c807-10ccd58467b0",
        "colab": {
          "base_uri": "https://localhost:8080/"
        }
      },
      "execution_count": 129,
      "outputs": [
        {
          "output_type": "stream",
          "name": "stdout",
          "text": [
            "                       team       schedule_team  week  points_scored  \\\n",
            "0          Bucktown Bandits  Captain Sweatpants     1           73.0   \n",
            "1          Bucktown Bandits  Captain Sweatpants     2           86.0   \n",
            "2          Bucktown Bandits  Captain Sweatpants     3           86.0   \n",
            "3          Bucktown Bandits  Captain Sweatpants     4          106.0   \n",
            "4          Bucktown Bandits  Captain Sweatpants     5           65.0   \n",
            "...                     ...                 ...   ...            ...   \n",
            "1255  pop-pop's bible study     bungalicious  💅    10           72.0   \n",
            "1256  pop-pop's bible study     bungalicious  💅    11           80.0   \n",
            "1257  pop-pop's bible study     bungalicious  💅    12           93.0   \n",
            "1258  pop-pop's bible study     bungalicious  💅    13           94.0   \n",
            "1259  pop-pop's bible study     bungalicious  💅    14          111.0   \n",
            "\n",
            "      hypothetical_opponent_points  wins  losses record  \n",
            "0                             82.0     0       1    0-1  \n",
            "1                             98.0     0       2    0-2  \n",
            "2                             74.0     1       2    1-2  \n",
            "3                             71.0     2       2    2-2  \n",
            "4                             84.0     2       3    2-3  \n",
            "...                            ...   ...     ...    ...  \n",
            "1255                          64.0     8       2    8-2  \n",
            "1256                          80.0     8       3    8-3  \n",
            "1257                          99.0     8       4    8-4  \n",
            "1258                         100.0     8       5    8-5  \n",
            "1259                          81.0     9       5    9-5  \n",
            "\n",
            "[1260 rows x 8 columns]\n"
          ]
        }
      ]
    },
    {
      "cell_type": "code",
      "source": [
        "import os\n",
        "\n",
        "output_path = '/content/drive/MyDrive/all_fantasy_data.xlsx'\n",
        "\n",
        "if os.path.exists(output_path):\n",
        "    os.remove(output_path)\n",
        "\n",
        "with pd.ExcelWriter(output_path, engine='openpyxl') as writer:\n",
        "    weekly_stats_all.to_excel(writer, sheet_name='Weekly_Stats', index=False)\n",
        "    season_stats_all.to_excel(writer, sheet_name='Season_Stats', index=False)\n",
        "    all_predictions.to_excel(writer, sheet_name='Player_Predictions', index=False)\n",
        "    weekly_matchup_data.to_excel(writer, sheet_name='Team_Schedules', index=False)\n",
        "    team_scoring.to_excel(writer, sheet_name='Team_Scoring', index=False)\n",
        "    week_by_week_records.to_excel(writer, sheet_name='Schedule_Swap_Records', index=False)\n",
        "\n"
      ],
      "metadata": {
        "id": "_Ea-sLZ8bi78"
      },
      "execution_count": 130,
      "outputs": []
    }
  ]
}