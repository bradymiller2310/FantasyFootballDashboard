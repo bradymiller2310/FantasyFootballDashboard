{
  "nbformat": 4,
  "nbformat_minor": 0,
  "metadata": {
    "colab": {
      "provenance": [],
      "include_colab_link": true
    },
    "kernelspec": {
      "name": "python3",
      "display_name": "Python 3"
    },
    "language_info": {
      "name": "python"
    }
  },
  "cells": [
    {
      "cell_type": "markdown",
      "metadata": {
        "id": "view-in-github",
        "colab_type": "text"
      },
      "source": [
        "<a href=\"https://colab.research.google.com/github/bradymiller2310/FantasyFootballDashboard/blob/main/ESPN_FF_Scraper.ipynb\" target=\"_parent\"><img src=\"https://colab.research.google.com/assets/colab-badge.svg\" alt=\"Open In Colab\"/></a>"
      ]
    },
    {
      "cell_type": "code",
      "source": [
        "!pip install espn-api\n",
        "!pip install pandas\n",
        "!pip install openpyxl"
      ],
      "metadata": {
        "colab": {
          "base_uri": "https://localhost:8080/"
        },
        "id": "iI2Vhi-lpDtI",
        "outputId": "ac1b8a94-7a04-41dd-b4af-372c68076baa"
      },
      "execution_count": 1,
      "outputs": [
        {
          "output_type": "stream",
          "name": "stdout",
          "text": [
            "Requirement already satisfied: espn-api in /usr/local/lib/python3.11/dist-packages (0.44.1)\n",
            "Requirement already satisfied: requests<3.0.0,>=2.0.0 in /usr/local/lib/python3.11/dist-packages (from espn-api) (2.32.3)\n",
            "Requirement already satisfied: urllib3<=2.2.3 in /usr/local/lib/python3.11/dist-packages (from espn-api) (2.2.3)\n",
            "Requirement already satisfied: charset-normalizer<4,>=2 in /usr/local/lib/python3.11/dist-packages (from requests<3.0.0,>=2.0.0->espn-api) (3.4.1)\n",
            "Requirement already satisfied: idna<4,>=2.5 in /usr/local/lib/python3.11/dist-packages (from requests<3.0.0,>=2.0.0->espn-api) (3.10)\n",
            "Requirement already satisfied: certifi>=2017.4.17 in /usr/local/lib/python3.11/dist-packages (from requests<3.0.0,>=2.0.0->espn-api) (2025.1.31)\n",
            "Requirement already satisfied: pandas in /usr/local/lib/python3.11/dist-packages (2.2.2)\n",
            "Requirement already satisfied: numpy>=1.23.2 in /usr/local/lib/python3.11/dist-packages (from pandas) (1.26.4)\n",
            "Requirement already satisfied: python-dateutil>=2.8.2 in /usr/local/lib/python3.11/dist-packages (from pandas) (2.8.2)\n",
            "Requirement already satisfied: pytz>=2020.1 in /usr/local/lib/python3.11/dist-packages (from pandas) (2025.1)\n",
            "Requirement already satisfied: tzdata>=2022.7 in /usr/local/lib/python3.11/dist-packages (from pandas) (2025.1)\n",
            "Requirement already satisfied: six>=1.5 in /usr/local/lib/python3.11/dist-packages (from python-dateutil>=2.8.2->pandas) (1.17.0)\n",
            "Requirement already satisfied: openpyxl in /usr/local/lib/python3.11/dist-packages (3.1.5)\n",
            "Requirement already satisfied: et-xmlfile in /usr/local/lib/python3.11/dist-packages (from openpyxl) (2.0.0)\n"
          ]
        }
      ]
    },
    {
      "cell_type": "code",
      "execution_count": 2,
      "metadata": {
        "id": "gV03Pq9poyaX"
      },
      "outputs": [],
      "source": [
        "from espn_api.football import League\n",
        "import pandas as pd\n",
        "import numpy as np"
      ]
    },
    {
      "cell_type": "code",
      "source": [
        "league = League(league_id=1292514, year=2024, espn_s2=\"AECPNWyLvfnlcFfE0Xb73O%2BP5ZU9n1G%2FSnP3ixxvuqSwQRcQe7bEQfBuz3YBNeRluTYofdhX2aTajj0jZSF%2B8i9ewdk8Dwf6p9G215F2FjmI06wPKyhjleL4WzaT3PCiP15FDXe55YNMkQeJXgbsCuK1VHbdQ1Nxidq0JxAHezRn2zAt6WwNtSqrF0k2nNHV33VpJqPmMk4msFmaoCaz0UAp95xxy1YmXyEUnZWgA60HJkbsgYkZ8AaESwFENsPYdUvKYqCwnZLjvgI5varhOTDYekjvokdtaCoxJfzOdGLJ3g%3D%3D\", swid=\"{D68FE5F2-46CE-421C-B248-DDA01360BB34}\")\n",
        "print(league.teams)  #Teams in league"
      ],
      "metadata": {
        "colab": {
          "base_uri": "https://localhost:8080/"
        },
        "id": "DFytiAtEo5sl",
        "outputId": "2e0a05dc-474f-4ba4-d6d9-8205265da3b9"
      },
      "execution_count": 3,
      "outputs": [
        {
          "output_type": "stream",
          "name": "stdout",
          "text": [
            "[Team(Fightin' Furries), Team(Quon Solo), Team(Jen-eral ⚔️), Team(Captain Sweatpants), Team(Salmon LipBalm !!), Team(Graham’s Groupie), Team(pop-pop's bible study), Team(Bucktown Bandits), Team(bird gang), Team(bungalicious  💅)]\n"
          ]
        }
      ]
    },
    {
      "cell_type": "markdown",
      "source": [
        "## **Testing out api functionalities**\n",
        "*This section contains code chunks that load in various data - used to see what we had access to.*"
      ],
      "metadata": {
        "id": "IFG7HhNzQp4h"
      }
    },
    {
      "cell_type": "code",
      "source": [
        "for week in range(1, 15):\n",
        "    print(f\"Week {week} Schedule:\")\n",
        "    for matchup in league.scoreboard(week=week):\n",
        "        print(f\"{matchup.home_team} vs {matchup.away_team}\")"
      ],
      "metadata": {
        "id": "5W3DrXSnpPOv",
        "colab": {
          "base_uri": "https://localhost:8080/"
        },
        "outputId": "17651e53-b802-471f-97cc-9214d5df4e52"
      },
      "execution_count": null,
      "outputs": [
        {
          "output_type": "stream",
          "name": "stdout",
          "text": [
            "Week 1 Schedule:\n",
            "Team(Bucktown Bandits) vs Team(Graham’s Groupie)\n",
            "Team(bungalicious  💅) vs Team(Fightin' Furries)\n",
            "Team(bird gang) vs Team(Salmon LipBalm !!)\n",
            "Team(pop-pop's bible study) vs Team(Quon Solo)\n",
            "Team(Jen-eral ⚔️) vs Team(Captain Sweatpants)\n",
            "Week 2 Schedule:\n",
            "Team(Fightin' Furries) vs Team(Salmon LipBalm !!)\n",
            "Team(Quon Solo) vs Team(Bucktown Bandits)\n",
            "Team(Captain Sweatpants) vs Team(Graham’s Groupie)\n",
            "Team(pop-pop's bible study) vs Team(bungalicious  💅)\n",
            "Team(Jen-eral ⚔️) vs Team(bird gang)\n",
            "Week 3 Schedule:\n",
            "Team(Quon Solo) vs Team(Captain Sweatpants)\n",
            "Team(Fightin' Furries) vs Team(pop-pop's bible study)\n",
            "Team(Salmon LipBalm !!) vs Team(Jen-eral ⚔️)\n",
            "Team(Bucktown Bandits) vs Team(bungalicious  💅)\n",
            "Team(Graham’s Groupie) vs Team(bird gang)\n",
            "Week 4 Schedule:\n",
            "Team(pop-pop's bible study) vs Team(Jen-eral ⚔️)\n",
            "Team(bungalicious  💅) vs Team(Quon Solo)\n",
            "Team(bird gang) vs Team(Captain Sweatpants)\n",
            "Team(Bucktown Bandits) vs Team(Fightin' Furries)\n",
            "Team(Graham’s Groupie) vs Team(Salmon LipBalm !!)\n",
            "Week 5 Schedule:\n",
            "Team(bungalicious  💅) vs Team(bird gang)\n",
            "Team(pop-pop's bible study) vs Team(Bucktown Bandits)\n",
            "Team(Jen-eral ⚔️) vs Team(Graham’s Groupie)\n",
            "Team(Quon Solo) vs Team(Fightin' Furries)\n",
            "Team(Captain Sweatpants) vs Team(Salmon LipBalm !!)\n",
            "Week 6 Schedule:\n",
            "Team(Graham’s Groupie) vs Team(Fightin' Furries)\n",
            "Team(Salmon LipBalm !!) vs Team(Quon Solo)\n",
            "Team(Captain Sweatpants) vs Team(pop-pop's bible study)\n",
            "Team(Jen-eral ⚔️) vs Team(bungalicious  💅)\n",
            "Team(bird gang) vs Team(Bucktown Bandits)\n",
            "Week 7 Schedule:\n",
            "Team(Quon Solo) vs Team(Graham’s Groupie)\n",
            "Team(pop-pop's bible study) vs Team(Salmon LipBalm !!)\n",
            "Team(bungalicious  💅) vs Team(Captain Sweatpants)\n",
            "Team(Bucktown Bandits) vs Team(Jen-eral ⚔️)\n",
            "Team(Fightin' Furries) vs Team(bird gang)\n",
            "Week 8 Schedule:\n",
            "Team(Graham’s Groupie) vs Team(pop-pop's bible study)\n",
            "Team(Salmon LipBalm !!) vs Team(bungalicious  💅)\n",
            "Team(Captain Sweatpants) vs Team(Bucktown Bandits)\n",
            "Team(Jen-eral ⚔️) vs Team(Fightin' Furries)\n",
            "Team(bird gang) vs Team(Quon Solo)\n",
            "Week 9 Schedule:\n",
            "Team(bungalicious  💅) vs Team(Graham’s Groupie)\n",
            "Team(Bucktown Bandits) vs Team(pop-pop's bible study)\n",
            "Team(Salmon LipBalm !!) vs Team(bird gang)\n",
            "Team(Fightin' Furries) vs Team(Quon Solo)\n",
            "Team(Captain Sweatpants) vs Team(Jen-eral ⚔️)\n",
            "Week 10 Schedule:\n",
            "Team(Bucktown Bandits) vs Team(Salmon LipBalm !!)\n",
            "Team(Fightin' Furries) vs Team(bungalicious  💅)\n",
            "Team(Graham’s Groupie) vs Team(Captain Sweatpants)\n",
            "Team(Quon Solo) vs Team(pop-pop's bible study)\n",
            "Team(bird gang) vs Team(Jen-eral ⚔️)\n",
            "Week 11 Schedule:\n",
            "Team(Fightin' Furries) vs Team(Captain Sweatpants)\n",
            "Team(Bucktown Bandits) vs Team(Quon Solo)\n",
            "Team(Jen-eral ⚔️) vs Team(Salmon LipBalm !!)\n",
            "Team(bungalicious  💅) vs Team(pop-pop's bible study)\n",
            "Team(bird gang) vs Team(Graham’s Groupie)\n",
            "Week 12 Schedule:\n",
            "Team(Quon Solo) vs Team(Jen-eral ⚔️)\n",
            "Team(pop-pop's bible study) vs Team(Fightin' Furries)\n",
            "Team(Captain Sweatpants) vs Team(bird gang)\n",
            "Team(bungalicious  💅) vs Team(Bucktown Bandits)\n",
            "Team(Salmon LipBalm !!) vs Team(Graham’s Groupie)\n",
            "Week 13 Schedule:\n",
            "Team(pop-pop's bible study) vs Team(bird gang)\n",
            "Team(Quon Solo) vs Team(bungalicious  💅)\n",
            "Team(Graham’s Groupie) vs Team(Jen-eral ⚔️)\n",
            "Team(Fightin' Furries) vs Team(Bucktown Bandits)\n",
            "Team(Salmon LipBalm !!) vs Team(Captain Sweatpants)\n",
            "Week 14 Schedule:\n",
            "Team(Graham’s Groupie) vs Team(Bucktown Bandits)\n",
            "Team(Salmon LipBalm !!) vs Team(Fightin' Furries)\n",
            "Team(Captain Sweatpants) vs Team(Quon Solo)\n",
            "Team(Jen-eral ⚔️) vs Team(pop-pop's bible study)\n",
            "Team(bird gang) vs Team(bungalicious  💅)\n"
          ]
        }
      ]
    },
    {
      "cell_type": "code",
      "source": [
        "free_agents = league.free_agents(size=20, position='QB')  # Get top 20 available QBs\n",
        "\n",
        "print(\"Available Free Agents (QB):\")\n",
        "for player in free_agents:\n",
        "    print(f\"  - {player.name} ({player.proTeam})\")"
      ],
      "metadata": {
        "id": "_WP9t9mrqyyF",
        "outputId": "e15ee48b-7d63-4a1b-d727-8056a502a8e0",
        "colab": {
          "base_uri": "https://localhost:8080/"
        }
      },
      "execution_count": null,
      "outputs": [
        {
          "output_type": "stream",
          "name": "stdout",
          "text": [
            "Available Free Agents (QB):\n",
            "  - C.J. Stroud (HOU)\n",
            "  - Tua Tagovailoa (MIA)\n",
            "  - Anthony Richardson (IND)\n",
            "  - Aaron Rodgers (None)\n",
            "  - Kirk Cousins (ATL)\n",
            "  - Bryce Young (CAR)\n",
            "  - Michael Penix Jr. (ATL)\n",
            "  - Trevor Lawrence (JAX)\n",
            "  - Jameis Winston (CLE)\n",
            "  - Derek Carr (NO)\n",
            "  - Justin Fields (NYJ)\n",
            "  - Joe Flacco (IND)\n",
            "  - Deshaun Watson (CLE)\n",
            "  - Cooper Rush (BAL)\n",
            "  - Daniel Jones (IND)\n",
            "  - Tom Brady (TB)\n",
            "  - Mason Rudolph (PIT)\n",
            "  - Mac Jones (SF)\n",
            "  - Tommy DeVito (NYG)\n",
            "  - Aidan O'Connell (LV)\n"
          ]
        }
      ]
    },
    {
      "cell_type": "code",
      "source": [
        "for team in league.teams:\n",
        "    print(f\"\\nTeam: {team.team_name}\")\n",
        "    print(\"Roster:\")\n",
        "    for player in team.roster:\n",
        "        print(f\"  - {player.name} ({player.position})\")"
      ],
      "metadata": {
        "id": "Q9sOrwEqrYvv",
        "outputId": "dcaae1fe-d33f-4963-b475-87eb5d38e689",
        "colab": {
          "base_uri": "https://localhost:8080/"
        }
      },
      "execution_count": null,
      "outputs": [
        {
          "output_type": "stream",
          "name": "stdout",
          "text": [
            "\n",
            "Team: Fightin' Furries\n",
            "Roster:\n",
            "  - Tyreek Hill (WR)\n",
            "  - Isiah Pacheco (RB)\n",
            "  - Joe Mixon (RB)\n",
            "  - Patrick Mahomes (QB)\n",
            "  - Dalton Kincaid (TE)\n",
            "  - Zay Flowers (WR)\n",
            "  - Jaxon Smith-Njigba (WR)\n",
            "  - Gus Edwards (RB)\n",
            "  - Matthew Stafford (QB)\n",
            "  - Kareem Hunt (RB)\n",
            "  - Broncos D/ST (D/ST)\n",
            "  - David Njoku (TE)\n",
            "  - Caleb Williams (QB)\n",
            "  - DeAndre Hopkins (WR)\n",
            "  - Bills D/ST (D/ST)\n",
            "  - Matthew Wright (K)\n",
            "\n",
            "Team: Quon Solo\n",
            "Roster:\n",
            "  - Justin Jefferson (WR)\n",
            "  - Kyren Williams (RB)\n",
            "  - Marvin Harrison Jr. (WR)\n",
            "  - Mike Evans (WR)\n",
            "  - D'Andre Swift (RB)\n",
            "  - Brian Robinson Jr. (RB)\n",
            "  - Kyler Murray (QB)\n",
            "  - J.K. Dobbins (RB)\n",
            "  - Geno Smith (QB)\n",
            "  - Chris Boswell (K)\n",
            "  - Romeo Doubs (WR)\n",
            "  - Mark Andrews (TE)\n",
            "  - Bears D/ST (D/ST)\n",
            "  - Courtland Sutton (WR)\n",
            "  - Josh Downs (WR)\n",
            "  - Evan Engram (TE)\n",
            "\n",
            "Team: Jen-eral ⚔️\n",
            "Roster:\n",
            "  - Derrick Henry (RB)\n",
            "  - A.J. Brown (WR)\n",
            "  - Alvin Kamara (RB)\n",
            "  - Jalen Hurts (QB)\n",
            "  - Calvin Ridley (WR)\n",
            "  - Raheem Mostert (RB)\n",
            "  - Jets D/ST (D/ST)\n",
            "  - Pat Freiermuth (TE)\n",
            "  - Darnell Mooney (WR)\n",
            "  - Bucky Irving (RB)\n",
            "  - Jayden Reed (WR)\n",
            "  - Dontayvion Wicks (WR)\n",
            "  - Cameron Dicker (K)\n",
            "  - Tank Bigsby (RB)\n",
            "  - Dolphins D/ST (D/ST)\n",
            "  - Jonnu Smith (TE)\n",
            "\n",
            "Team: Captain Sweatpants\n",
            "Roster:\n",
            "  - CeeDee Lamb (WR)\n",
            "  - Garrett Wilson (WR)\n",
            "  - Rachaad White (RB)\n",
            "  - Nico Collins (WR)\n",
            "  - James Conner (RB)\n",
            "  - George Pickens (WR)\n",
            "  - Cowboys D/ST (D/ST)\n",
            "  - Chase McLaughlin (K)\n",
            "  - Jake Elliott (K)\n",
            "  - Bo Nix (QB)\n",
            "  - Mike Gesicki (TE)\n",
            "  - Rico Dowdle (RB)\n",
            "  - Will Dissly (TE)\n",
            "  - Will Levis (QB)\n",
            "  - Chargers D/ST (D/ST)\n",
            "  - Khalil Shakir (WR)\n",
            "\n",
            "Team: Salmon LipBalm !!\n",
            "Roster:\n",
            "  - Bijan Robinson (RB)\n",
            "  - Jahmyr Gibbs (RB)\n",
            "  - Jaylen Waddle (WR)\n",
            "  - Rhamondre Stevenson (RB)\n",
            "  - Davante Adams (WR)\n",
            "  - Jordan Love (QB)\n",
            "  - Ka'imi Fairbairn (K)\n",
            "  - Trey McBride (TE)\n",
            "  - Vikings D/ST (D/ST)\n",
            "  - Chase Brown (RB)\n",
            "  - Brian Thomas Jr. (WR)\n",
            "  - Puka Nacua (WR)\n",
            "  - Hunter Henry (TE)\n",
            "  - Russell Wilson (QB)\n",
            "  - Wil Lutz (K)\n",
            "  - Drake Maye (QB)\n",
            "\n",
            "Team: Graham’s Groupie\n",
            "Roster:\n",
            "  - Ja'Marr Chase (WR)\n",
            "  - James Cook (RB)\n",
            "  - Drake London (WR)\n",
            "  - Josh Allen (QB)\n",
            "  - Najee Harris (RB)\n",
            "  - Amari Cooper (WR)\n",
            "  - Jayden Daniels (QB)\n",
            "  - Jauan Jennings (WR)\n",
            "  - Tyrone Tracy Jr. (RB)\n",
            "  - Travis Etienne Jr. (RB)\n",
            "  - Jordan Addison (WR)\n",
            "  - T.J. Hockenson (TE)\n",
            "  - Jason Sanders (K)\n",
            "  - Ravens D/ST (D/ST)\n",
            "  - Isaac Guerendo (RB)\n",
            "  - Alexander Mattison (RB)\n",
            "\n",
            "Team: pop-pop's bible study\n",
            "Roster:\n",
            "  - Breece Hall (RB)\n",
            "  - Josh Jacobs (RB)\n",
            "  - Lamar Jackson (QB)\n",
            "  - George Kittle (TE)\n",
            "  - Aaron Jones (RB)\n",
            "  - Terry McLaurin (WR)\n",
            "  - Tyjae Spears (RB)\n",
            "  - Rome Odunze (WR)\n",
            "  - Chiefs D/ST (D/ST)\n",
            "  - Jared Goff (QB)\n",
            "  - Lions D/ST (D/ST)\n",
            "  - Jameson Williams (WR)\n",
            "  - Zach Ertz (TE)\n",
            "  - Christian Watson (WR)\n",
            "  - Justin Tucker (K)\n",
            "  - Packers D/ST (D/ST)\n",
            "\n",
            "Team: Bucktown Bandits\n",
            "Roster:\n",
            "  - Jonathan Taylor (RB)\n",
            "  - Amon-Ra St. Brown (WR)\n",
            "  - De'Von Achane (RB)\n",
            "  - Travis Kelce (TE)\n",
            "  - Cooper Kupp (WR)\n",
            "  - Joe Burrow (QB)\n",
            "  - Tank Dell (WR)\n",
            "  - Tony Pollard (RB)\n",
            "  - Xavier Worthy (WR)\n",
            "  - Jakobi Meyers (WR)\n",
            "  - DJ Moore (WR)\n",
            "  - Cade Otton (TE)\n",
            "  - Jaylen Warren (RB)\n",
            "  - Justin Herbert (QB)\n",
            "  - Buccaneers D/ST (D/ST)\n",
            "  - Brandon Aubrey (K)\n",
            "\n",
            "Team: bird gang\n",
            "Roster:\n",
            "  - Christian McCaffrey (RB)\n",
            "  - DK Metcalf (WR)\n",
            "  - Brandon Aiyuk (WR)\n",
            "  - David Montgomery (RB)\n",
            "  - DeVonta Smith (WR)\n",
            "  - Brock Purdy (QB)\n",
            "  - Stefon Diggs (WR)\n",
            "  - Jake Ferguson (TE)\n",
            "  - Javonte Williams (RB)\n",
            "  - Dallas Goedert (TE)\n",
            "  - Chuba Hubbard (RB)\n",
            "  - Blake Corum (RB)\n",
            "  - DeMario Douglas (WR)\n",
            "  - Baker Mayfield (QB)\n",
            "  - Tyler Bass (K)\n",
            "  - Eagles D/ST (D/ST)\n",
            "\n",
            "Team: bungalicious  💅\n",
            "Roster:\n",
            "  - Saquon Barkley (RB)\n",
            "  - Deebo Samuel Sr. (WR)\n",
            "  - Kenneth Walker III (RB)\n",
            "  - Sam LaPorta (TE)\n",
            "  - Tee Higgins (WR)\n",
            "  - Dak Prescott (QB)\n",
            "  - Malik Nabers (WR)\n",
            "  - Brock Bowers (TE)\n",
            "  - Ty Chandler (RB)\n",
            "  - Jerry Jeudy (WR)\n",
            "  - Chig Okonkwo (TE)\n",
            "  - Gabe Davis (WR)\n",
            "  - Jake Bates (K)\n",
            "  - Sam Darnold (QB)\n",
            "  - Colts D/ST (D/ST)\n",
            "  - Zach Charbonnet (RB)\n"
          ]
        }
      ]
    },
    {
      "cell_type": "code",
      "source": [
        "week_number = 1\n",
        "box_scores = league.box_scores(week=week_number)\n",
        "\n",
        "for matchup in box_scores:\n",
        "    print(f\"\\nMatchup: {matchup.home_team} vs {matchup.away_team}\")\n",
        "    print(f\"  Home Score: {matchup.home_score}\")\n",
        "    print(f\"  Away Score: {matchup.away_score}\")"
      ],
      "metadata": {
        "id": "Nz8qaA22roRC",
        "outputId": "c8a931d0-a611-453c-f6d5-cd2ddee3fc15",
        "colab": {
          "base_uri": "https://localhost:8080/"
        }
      },
      "execution_count": null,
      "outputs": [
        {
          "output_type": "stream",
          "name": "stdout",
          "text": [
            "\n",
            "Matchup: Team(Bucktown Bandits) vs Team(Graham’s Groupie)\n",
            "  Home Score: 73.0\n",
            "  Away Score: 96.0\n",
            "\n",
            "Matchup: Team(bungalicious  💅) vs Team(Fightin' Furries)\n",
            "  Home Score: 101.0\n",
            "  Away Score: 94.0\n",
            "\n",
            "Matchup: Team(bird gang) vs Team(Salmon LipBalm !!)\n",
            "  Home Score: 59.0\n",
            "  Away Score: 101.0\n",
            "\n",
            "Matchup: Team(pop-pop's bible study) vs Team(Quon Solo)\n",
            "  Home Score: 79.0\n",
            "  Away Score: 97.0\n",
            "\n",
            "Matchup: Team(Jen-eral ⚔️) vs Team(Captain Sweatpants)\n",
            "  Home Score: 82.0\n",
            "  Away Score: 110.0\n"
          ]
        }
      ]
    },
    {
      "cell_type": "code",
      "source": [
        "# getting injury status of free agents (not on rosters)\n",
        "\n",
        "free_agents = league.free_agents()\n",
        "i=0\n",
        "for player in free_agents:\n",
        "  player_obj = free_agents[i]\n",
        "  print(f\"Player: {player_obj.name}, Injury Status: {player_obj.injuryStatus}, Injured: {player_obj.injured}\")\n",
        "  i+=1"
      ],
      "metadata": {
        "id": "B8g3WFWUKHpx",
        "outputId": "145aa088-29f4-4340-e274-9fa36061c96b",
        "colab": {
          "base_uri": "https://localhost:8080/"
        }
      },
      "execution_count": null,
      "outputs": [
        {
          "output_type": "stream",
          "name": "stdout",
          "text": [
            "Player: Ladd McConkey, Injury Status: ACTIVE, Injured: False\n",
            "Player: Keenan Allen, Injury Status: ACTIVE, Injured: False\n",
            "Player: Michael Pittman Jr., Injury Status: QUESTIONABLE, Injured: False\n",
            "Player: Steelers D/ST, Injury Status: [], Injured: False\n",
            "Player: C.J. Stroud, Injury Status: ACTIVE, Injured: False\n",
            "Player: Kyle Pitts, Injury Status: ACTIVE, Injured: False\n",
            "Player: Adam Thielen, Injury Status: ACTIVE, Injured: False\n",
            "Player: Chris Olave, Injury Status: QUESTIONABLE, Injured: False\n",
            "Player: Tucker Kraft, Injury Status: ACTIVE, Injured: False\n",
            "Player: 49ers D/ST, Injury Status: [], Injured: False\n",
            "Player: Jerome Ford, Injury Status: QUESTIONABLE, Injured: False\n",
            "Player: Texans D/ST, Injury Status: [], Injured: False\n",
            "Player: Quentin Johnston, Injury Status: ACTIVE, Injured: False\n",
            "Player: Tua Tagovailoa, Injury Status: QUESTIONABLE, Injured: False\n",
            "Player: Nick Chubb, Injury Status: QUESTIONABLE, Injured: False\n",
            "Player: Anthony Richardson, Injury Status: QUESTIONABLE, Injured: False\n",
            "Player: Aaron Rodgers, Injury Status: ACTIVE, Injured: False\n",
            "Player: Tyler Lockett, Injury Status: ACTIVE, Injured: False\n",
            "Player: Austin Ekeler, Injury Status: ACTIVE, Injured: False\n",
            "Player: Keon Coleman, Injury Status: ACTIVE, Injured: False\n",
            "Player: Jalen McMillan, Injury Status: ACTIVE, Injured: False\n",
            "Player: Devin Singletary, Injury Status: ACTIVE, Injured: False\n",
            "Player: Harrison Butker, Injury Status: ACTIVE, Injured: False\n",
            "Player: Dalton Schultz, Injury Status: ACTIVE, Injured: False\n",
            "Player: Kirk Cousins, Injury Status: ACTIVE, Injured: False\n",
            "Player: Bengals D/ST, Injury Status: [], Injured: False\n",
            "Player: Diontae Johnson, Injury Status: ACTIVE, Injured: False\n",
            "Player: Commanders D/ST, Injury Status: [], Injured: False\n",
            "Player: Wan'Dale Robinson, Injury Status: ACTIVE, Injured: False\n",
            "Player: Michael Carter, Injury Status: ACTIVE, Injured: False\n",
            "Player: Chris Godwin, Injury Status: QUESTIONABLE, Injured: False\n",
            "Player: Tyler Allgeier, Injury Status: ACTIVE, Injured: False\n",
            "Player: Saints D/ST, Injury Status: [], Injured: False\n",
            "Player: Jake Moody, Injury Status: ACTIVE, Injured: False\n",
            "Player: Kendre Miller, Injury Status: QUESTIONABLE, Injured: False\n",
            "Player: Cardinals D/ST, Injury Status: [], Injured: False\n",
            "Player: Younghoe Koo, Injury Status: QUESTIONABLE, Injured: False\n",
            "Player: Ameer Abdullah, Injury Status: QUESTIONABLE, Injured: False\n",
            "Player: Browns D/ST, Injury Status: [], Injured: False\n",
            "Player: Falcons D/ST, Injury Status: [], Injured: False\n",
            "Player: Cole Kmet, Injury Status: ACTIVE, Injured: False\n",
            "Player: Jonathon Brooks, Injury Status: QUESTIONABLE, Injured: False\n",
            "Player: Rashee Rice, Injury Status: QUESTIONABLE, Injured: False\n",
            "Player: Evan McPherson, Injury Status: QUESTIONABLE, Injured: False\n",
            "Player: Zack Moss, Injury Status: QUESTIONABLE, Injured: False\n",
            "Player: Hollywood Brown, Injury Status: ACTIVE, Injured: False\n",
            "Player: Christian Kirk, Injury Status: QUESTIONABLE, Injured: False\n",
            "Player: Will Reichard, Injury Status: ACTIVE, Injured: False\n",
            "Player: Braelon Allen, Injury Status: ACTIVE, Injured: False\n",
            "Player: Nick Westbrook-Ikhine, Injury Status: ACTIVE, Injured: False\n"
          ]
        }
      ]
    },
    {
      "cell_type": "code",
      "source": [
        "# getting injury status of players on rosters\n",
        "for team in league.teams:\n",
        "    print(f\"\\nTeam: {team.team_name}\")\n",
        "    for player in team.roster:\n",
        "        print(f\"Player: {player.name}, Injury Status: {player.injuryStatus}, Injured: {player.injured}\")"
      ],
      "metadata": {
        "id": "TZkMkMWGNE2R",
        "outputId": "c1f548b1-df09-4bf7-fdfa-e8561b143700",
        "colab": {
          "base_uri": "https://localhost:8080/"
        }
      },
      "execution_count": null,
      "outputs": [
        {
          "output_type": "stream",
          "name": "stdout",
          "text": [
            "\n",
            "Team: Fightin' Furries\n",
            "Player: Tyreek Hill, Injury Status: QUESTIONABLE, Injured: False\n",
            "Player: Isiah Pacheco, Injury Status: ACTIVE, Injured: False\n",
            "Player: Joe Mixon, Injury Status: ACTIVE, Injured: False\n",
            "Player: Patrick Mahomes, Injury Status: ACTIVE, Injured: False\n",
            "Player: Dalton Kincaid, Injury Status: ACTIVE, Injured: False\n",
            "Player: Zay Flowers, Injury Status: QUESTIONABLE, Injured: False\n",
            "Player: Jaxon Smith-Njigba, Injury Status: ACTIVE, Injured: False\n",
            "Player: Gus Edwards, Injury Status: ACTIVE, Injured: False\n",
            "Player: Matthew Stafford, Injury Status: ACTIVE, Injured: False\n",
            "Player: Kareem Hunt, Injury Status: ACTIVE, Injured: False\n",
            "Player: Broncos D/ST, Injury Status: NORMAL, Injured: False\n",
            "Player: David Njoku, Injury Status: QUESTIONABLE, Injured: False\n",
            "Player: Caleb Williams, Injury Status: QUESTIONABLE, Injured: False\n",
            "Player: DeAndre Hopkins, Injury Status: ACTIVE, Injured: False\n",
            "Player: Bills D/ST, Injury Status: NORMAL, Injured: False\n",
            "Player: Matthew Wright, Injury Status: ACTIVE, Injured: False\n",
            "\n",
            "Team: Quon Solo\n",
            "Player: Justin Jefferson, Injury Status: ACTIVE, Injured: False\n",
            "Player: Kyren Williams, Injury Status: ACTIVE, Injured: False\n",
            "Player: Marvin Harrison Jr., Injury Status: ACTIVE, Injured: False\n",
            "Player: Mike Evans, Injury Status: ACTIVE, Injured: False\n",
            "Player: D'Andre Swift, Injury Status: ACTIVE, Injured: False\n",
            "Player: Brian Robinson Jr., Injury Status: ACTIVE, Injured: False\n",
            "Player: Kyler Murray, Injury Status: ACTIVE, Injured: False\n",
            "Player: J.K. Dobbins, Injury Status: ACTIVE, Injured: False\n",
            "Player: Geno Smith, Injury Status: ACTIVE, Injured: False\n",
            "Player: Chris Boswell, Injury Status: ACTIVE, Injured: False\n",
            "Player: Romeo Doubs, Injury Status: QUESTIONABLE, Injured: False\n",
            "Player: Mark Andrews, Injury Status: ACTIVE, Injured: False\n",
            "Player: Bears D/ST, Injury Status: NORMAL, Injured: False\n",
            "Player: Courtland Sutton, Injury Status: ACTIVE, Injured: False\n",
            "Player: Josh Downs, Injury Status: ACTIVE, Injured: False\n",
            "Player: Evan Engram, Injury Status: QUESTIONABLE, Injured: False\n",
            "\n",
            "Team: Jen-eral ⚔️\n",
            "Player: Derrick Henry, Injury Status: ACTIVE, Injured: False\n",
            "Player: A.J. Brown, Injury Status: ACTIVE, Injured: False\n",
            "Player: Alvin Kamara, Injury Status: QUESTIONABLE, Injured: False\n",
            "Player: Jalen Hurts, Injury Status: ACTIVE, Injured: False\n",
            "Player: Calvin Ridley, Injury Status: ACTIVE, Injured: False\n",
            "Player: Raheem Mostert, Injury Status: ACTIVE, Injured: False\n",
            "Player: Jets D/ST, Injury Status: NORMAL, Injured: False\n",
            "Player: Pat Freiermuth, Injury Status: ACTIVE, Injured: False\n",
            "Player: Darnell Mooney, Injury Status: QUESTIONABLE, Injured: False\n",
            "Player: Bucky Irving, Injury Status: ACTIVE, Injured: False\n",
            "Player: Jayden Reed, Injury Status: QUESTIONABLE, Injured: False\n",
            "Player: Dontayvion Wicks, Injury Status: ACTIVE, Injured: False\n",
            "Player: Cameron Dicker, Injury Status: ACTIVE, Injured: False\n",
            "Player: Tank Bigsby, Injury Status: ACTIVE, Injured: False\n",
            "Player: Dolphins D/ST, Injury Status: NORMAL, Injured: False\n",
            "Player: Jonnu Smith, Injury Status: ACTIVE, Injured: False\n",
            "\n",
            "Team: Captain Sweatpants\n",
            "Player: CeeDee Lamb, Injury Status: ACTIVE, Injured: False\n",
            "Player: Garrett Wilson, Injury Status: ACTIVE, Injured: False\n",
            "Player: Rachaad White, Injury Status: ACTIVE, Injured: False\n",
            "Player: Nico Collins, Injury Status: ACTIVE, Injured: False\n",
            "Player: James Conner, Injury Status: QUESTIONABLE, Injured: False\n",
            "Player: George Pickens, Injury Status: ACTIVE, Injured: False\n",
            "Player: Cowboys D/ST, Injury Status: NORMAL, Injured: False\n",
            "Player: Chase McLaughlin, Injury Status: ACTIVE, Injured: False\n",
            "Player: Jake Elliott, Injury Status: ACTIVE, Injured: False\n",
            "Player: Bo Nix, Injury Status: ACTIVE, Injured: False\n",
            "Player: Mike Gesicki, Injury Status: ACTIVE, Injured: False\n",
            "Player: Rico Dowdle, Injury Status: ACTIVE, Injured: False\n",
            "Player: Will Dissly, Injury Status: ACTIVE, Injured: False\n",
            "Player: Will Levis, Injury Status: ACTIVE, Injured: False\n",
            "Player: Chargers D/ST, Injury Status: NORMAL, Injured: False\n",
            "Player: Khalil Shakir, Injury Status: ACTIVE, Injured: False\n",
            "\n",
            "Team: Salmon LipBalm !!\n",
            "Player: Bijan Robinson, Injury Status: ACTIVE, Injured: False\n",
            "Player: Jahmyr Gibbs, Injury Status: ACTIVE, Injured: False\n",
            "Player: Jaylen Waddle, Injury Status: ACTIVE, Injured: False\n",
            "Player: Rhamondre Stevenson, Injury Status: ACTIVE, Injured: False\n",
            "Player: Davante Adams, Injury Status: ACTIVE, Injured: False\n",
            "Player: Jordan Love, Injury Status: ACTIVE, Injured: False\n",
            "Player: Ka'imi Fairbairn, Injury Status: ACTIVE, Injured: False\n",
            "Player: Trey McBride, Injury Status: ACTIVE, Injured: False\n",
            "Player: Vikings D/ST, Injury Status: NORMAL, Injured: False\n",
            "Player: Chase Brown, Injury Status: QUESTIONABLE, Injured: False\n",
            "Player: Brian Thomas Jr., Injury Status: ACTIVE, Injured: False\n",
            "Player: Puka Nacua, Injury Status: ACTIVE, Injured: False\n",
            "Player: Hunter Henry, Injury Status: QUESTIONABLE, Injured: False\n",
            "Player: Russell Wilson, Injury Status: ACTIVE, Injured: False\n",
            "Player: Wil Lutz, Injury Status: ACTIVE, Injured: False\n",
            "Player: Drake Maye, Injury Status: ACTIVE, Injured: False\n",
            "\n",
            "Team: Graham’s Groupie\n",
            "Player: Ja'Marr Chase, Injury Status: ACTIVE, Injured: False\n",
            "Player: James Cook, Injury Status: ACTIVE, Injured: False\n",
            "Player: Drake London, Injury Status: ACTIVE, Injured: False\n",
            "Player: Josh Allen, Injury Status: ACTIVE, Injured: False\n",
            "Player: Najee Harris, Injury Status: ACTIVE, Injured: False\n",
            "Player: Amari Cooper, Injury Status: ACTIVE, Injured: False\n",
            "Player: Jayden Daniels, Injury Status: ACTIVE, Injured: False\n",
            "Player: Jauan Jennings, Injury Status: ACTIVE, Injured: False\n",
            "Player: Tyrone Tracy Jr., Injury Status: ACTIVE, Injured: False\n",
            "Player: Travis Etienne Jr., Injury Status: ACTIVE, Injured: False\n",
            "Player: Jordan Addison, Injury Status: ACTIVE, Injured: False\n",
            "Player: T.J. Hockenson, Injury Status: ACTIVE, Injured: False\n",
            "Player: Jason Sanders, Injury Status: ACTIVE, Injured: False\n",
            "Player: Ravens D/ST, Injury Status: NORMAL, Injured: False\n",
            "Player: Isaac Guerendo, Injury Status: QUESTIONABLE, Injured: False\n",
            "Player: Alexander Mattison, Injury Status: ACTIVE, Injured: False\n",
            "\n",
            "Team: pop-pop's bible study\n",
            "Player: Breece Hall, Injury Status: ACTIVE, Injured: False\n",
            "Player: Josh Jacobs, Injury Status: ACTIVE, Injured: False\n",
            "Player: Lamar Jackson, Injury Status: ACTIVE, Injured: False\n",
            "Player: George Kittle, Injury Status: ACTIVE, Injured: False\n",
            "Player: Aaron Jones, Injury Status: ACTIVE, Injured: False\n",
            "Player: Terry McLaurin, Injury Status: ACTIVE, Injured: False\n",
            "Player: Tyjae Spears, Injury Status: QUESTIONABLE, Injured: False\n",
            "Player: Rome Odunze, Injury Status: ACTIVE, Injured: False\n",
            "Player: Chiefs D/ST, Injury Status: NORMAL, Injured: False\n",
            "Player: Jared Goff, Injury Status: ACTIVE, Injured: False\n",
            "Player: Lions D/ST, Injury Status: NORMAL, Injured: False\n",
            "Player: Jameson Williams, Injury Status: ACTIVE, Injured: False\n",
            "Player: Zach Ertz, Injury Status: ACTIVE, Injured: False\n",
            "Player: Christian Watson, Injury Status: QUESTIONABLE, Injured: False\n",
            "Player: Justin Tucker, Injury Status: ACTIVE, Injured: False\n",
            "Player: Packers D/ST, Injury Status: NORMAL, Injured: False\n",
            "\n",
            "Team: Bucktown Bandits\n",
            "Player: Jonathan Taylor, Injury Status: ACTIVE, Injured: False\n",
            "Player: Amon-Ra St. Brown, Injury Status: ACTIVE, Injured: False\n",
            "Player: De'Von Achane, Injury Status: ACTIVE, Injured: False\n",
            "Player: Travis Kelce, Injury Status: ACTIVE, Injured: False\n",
            "Player: Cooper Kupp, Injury Status: ACTIVE, Injured: False\n",
            "Player: Joe Burrow, Injury Status: ACTIVE, Injured: False\n",
            "Player: Tank Dell, Injury Status: QUESTIONABLE, Injured: False\n",
            "Player: Tony Pollard, Injury Status: ACTIVE, Injured: False\n",
            "Player: Xavier Worthy, Injury Status: ACTIVE, Injured: False\n",
            "Player: Jakobi Meyers, Injury Status: ACTIVE, Injured: False\n",
            "Player: DJ Moore, Injury Status: ACTIVE, Injured: False\n",
            "Player: Cade Otton, Injury Status: ACTIVE, Injured: False\n",
            "Player: Jaylen Warren, Injury Status: ACTIVE, Injured: False\n",
            "Player: Justin Herbert, Injury Status: ACTIVE, Injured: False\n",
            "Player: Buccaneers D/ST, Injury Status: NORMAL, Injured: False\n",
            "Player: Brandon Aubrey, Injury Status: QUESTIONABLE, Injured: False\n",
            "\n",
            "Team: bird gang\n",
            "Player: Christian McCaffrey, Injury Status: QUESTIONABLE, Injured: False\n",
            "Player: DK Metcalf, Injury Status: ACTIVE, Injured: False\n",
            "Player: Brandon Aiyuk, Injury Status: QUESTIONABLE, Injured: False\n",
            "Player: David Montgomery, Injury Status: ACTIVE, Injured: False\n",
            "Player: DeVonta Smith, Injury Status: ACTIVE, Injured: False\n",
            "Player: Brock Purdy, Injury Status: ACTIVE, Injured: False\n",
            "Player: Stefon Diggs, Injury Status: QUESTIONABLE, Injured: False\n",
            "Player: Jake Ferguson, Injury Status: ACTIVE, Injured: False\n",
            "Player: Javonte Williams, Injury Status: ACTIVE, Injured: False\n",
            "Player: Dallas Goedert, Injury Status: ACTIVE, Injured: False\n",
            "Player: Chuba Hubbard, Injury Status: ACTIVE, Injured: False\n",
            "Player: Blake Corum, Injury Status: QUESTIONABLE, Injured: False\n",
            "Player: DeMario Douglas, Injury Status: ACTIVE, Injured: False\n",
            "Player: Baker Mayfield, Injury Status: ACTIVE, Injured: False\n",
            "Player: Tyler Bass, Injury Status: ACTIVE, Injured: False\n",
            "Player: Eagles D/ST, Injury Status: NORMAL, Injured: False\n",
            "\n",
            "Team: bungalicious  💅\n",
            "Player: Saquon Barkley, Injury Status: ACTIVE, Injured: False\n",
            "Player: Deebo Samuel Sr., Injury Status: ACTIVE, Injured: False\n",
            "Player: Kenneth Walker III, Injury Status: QUESTIONABLE, Injured: False\n",
            "Player: Sam LaPorta, Injury Status: ACTIVE, Injured: False\n",
            "Player: Tee Higgins, Injury Status: ACTIVE, Injured: False\n",
            "Player: Dak Prescott, Injury Status: QUESTIONABLE, Injured: False\n",
            "Player: Malik Nabers, Injury Status: ACTIVE, Injured: False\n",
            "Player: Brock Bowers, Injury Status: ACTIVE, Injured: False\n",
            "Player: Ty Chandler, Injury Status: ACTIVE, Injured: False\n",
            "Player: Jerry Jeudy, Injury Status: ACTIVE, Injured: False\n",
            "Player: Chig Okonkwo, Injury Status: ACTIVE, Injured: False\n",
            "Player: Gabe Davis, Injury Status: QUESTIONABLE, Injured: False\n",
            "Player: Jake Bates, Injury Status: ACTIVE, Injured: False\n",
            "Player: Sam Darnold, Injury Status: ACTIVE, Injured: False\n",
            "Player: Colts D/ST, Injury Status: NORMAL, Injured: False\n",
            "Player: Zach Charbonnet, Injury Status: ACTIVE, Injured: False\n"
          ]
        }
      ]
    },
    {
      "cell_type": "code",
      "source": [
        "# getting starting roster for each week\n",
        "\n",
        "for team in league.teams:\n",
        "    print(f\"\\nTeam: {team.team_name} (Week {week})\")\n",
        "\n",
        "    # Get the team's roster for the given week\n",
        "    for player in team.roster:\n",
        "        #if player.lineupSlot != \"BE\" and player.lineupSlot != \"IR\":  # Exclude Bench and IR players\n",
        "            print(f\"  - {player.name} ({player.lineupSlot})\")\n"
      ],
      "metadata": {
        "id": "NVRJeM9_Nm-d",
        "outputId": "1e05b45c-a468-44f2-d318-bf4e2e354590",
        "colab": {
          "base_uri": "https://localhost:8080/"
        }
      },
      "execution_count": null,
      "outputs": [
        {
          "output_type": "stream",
          "name": "stdout",
          "text": [
            "\n",
            "Team: Fightin' Furries (Week 14)\n",
            "  - Tyreek Hill (WR)\n",
            "  - Isiah Pacheco (RB)\n",
            "  - Joe Mixon (BE)\n",
            "  - Patrick Mahomes (QB)\n",
            "  - Dalton Kincaid (BE)\n",
            "  - Zay Flowers (BE)\n",
            "  - Jaxon Smith-Njigba (RB/WR/TE)\n",
            "  - Gus Edwards (BE)\n",
            "  - Matthew Stafford (BE)\n",
            "  - Kareem Hunt (RB)\n",
            "  - Broncos D/ST (BE)\n",
            "  - David Njoku (TE)\n",
            "  - Caleb Williams (BE)\n",
            "  - DeAndre Hopkins (WR)\n",
            "  - Bills D/ST (D/ST)\n",
            "  - Matthew Wright (K)\n",
            "\n",
            "Team: Quon Solo (Week 14)\n",
            "  - Justin Jefferson (WR)\n",
            "  - Kyren Williams (RB)\n",
            "  - Marvin Harrison Jr. (BE)\n",
            "  - Mike Evans (BE)\n",
            "  - D'Andre Swift (RB)\n",
            "  - Brian Robinson Jr. (RB/WR/TE)\n",
            "  - Kyler Murray (QB)\n",
            "  - J.K. Dobbins (BE)\n",
            "  - Geno Smith (BE)\n",
            "  - Chris Boswell (K)\n",
            "  - Romeo Doubs (BE)\n",
            "  - Mark Andrews (TE)\n",
            "  - Bears D/ST (D/ST)\n",
            "  - Courtland Sutton (WR)\n",
            "  - Josh Downs (BE)\n",
            "  - Evan Engram (BE)\n",
            "\n",
            "Team: Jen-eral ⚔️ (Week 14)\n",
            "  - Derrick Henry (RB)\n",
            "  - A.J. Brown (WR)\n",
            "  - Alvin Kamara (RB)\n",
            "  - Jalen Hurts (QB)\n",
            "  - Calvin Ridley (WR)\n",
            "  - Raheem Mostert (BE)\n",
            "  - Jets D/ST (D/ST)\n",
            "  - Pat Freiermuth (BE)\n",
            "  - Darnell Mooney (BE)\n",
            "  - Bucky Irving (BE)\n",
            "  - Jayden Reed (BE)\n",
            "  - Dontayvion Wicks (BE)\n",
            "  - Cameron Dicker (K)\n",
            "  - Tank Bigsby (RB/WR/TE)\n",
            "  - Dolphins D/ST (BE)\n",
            "  - Jonnu Smith (TE)\n",
            "\n",
            "Team: Captain Sweatpants (Week 14)\n",
            "  - CeeDee Lamb (WR)\n",
            "  - Garrett Wilson (WR)\n",
            "  - Rachaad White (BE)\n",
            "  - Nico Collins (BE)\n",
            "  - James Conner (RB)\n",
            "  - George Pickens (BE)\n",
            "  - Cowboys D/ST (BE)\n",
            "  - Chase McLaughlin (BE)\n",
            "  - Jake Elliott (K)\n",
            "  - Bo Nix (BE)\n",
            "  - Mike Gesicki (TE)\n",
            "  - Rico Dowdle (RB)\n",
            "  - Will Dissly (BE)\n",
            "  - Will Levis (QB)\n",
            "  - Chargers D/ST (D/ST)\n",
            "  - Khalil Shakir (RB/WR/TE)\n",
            "\n",
            "Team: Salmon LipBalm !! (Week 14)\n",
            "  - Bijan Robinson (RB)\n",
            "  - Jahmyr Gibbs (RB)\n",
            "  - Jaylen Waddle (BE)\n",
            "  - Rhamondre Stevenson (BE)\n",
            "  - Davante Adams (WR)\n",
            "  - Jordan Love (BE)\n",
            "  - Ka'imi Fairbairn (BE)\n",
            "  - Trey McBride (TE)\n",
            "  - Vikings D/ST (D/ST)\n",
            "  - Chase Brown (RB/WR/TE)\n",
            "  - Brian Thomas Jr. (BE)\n",
            "  - Puka Nacua (WR)\n",
            "  - Hunter Henry (BE)\n",
            "  - Russell Wilson (QB)\n",
            "  - Wil Lutz (K)\n",
            "  - Drake Maye (BE)\n",
            "\n",
            "Team: Graham’s Groupie (Week 14)\n",
            "  - Ja'Marr Chase (WR)\n",
            "  - James Cook (RB)\n",
            "  - Drake London (RB/WR/TE)\n",
            "  - Josh Allen (QB)\n",
            "  - Najee Harris (BE)\n",
            "  - Amari Cooper (BE)\n",
            "  - Jayden Daniels (BE)\n",
            "  - Jauan Jennings (WR)\n",
            "  - Tyrone Tracy Jr. (BE)\n",
            "  - Travis Etienne Jr. (RB)\n",
            "  - Jordan Addison (BE)\n",
            "  - T.J. Hockenson (TE)\n",
            "  - Jason Sanders (K)\n",
            "  - Ravens D/ST (D/ST)\n",
            "  - Isaac Guerendo (BE)\n",
            "  - Alexander Mattison (BE)\n",
            "\n",
            "Team: pop-pop's bible study (Week 14)\n",
            "  - Breece Hall (RB)\n",
            "  - Josh Jacobs (RB)\n",
            "  - Lamar Jackson (QB)\n",
            "  - George Kittle (TE)\n",
            "  - Aaron Jones (RB/WR/TE)\n",
            "  - Terry McLaurin (WR)\n",
            "  - Tyjae Spears (BE)\n",
            "  - Rome Odunze (BE)\n",
            "  - Chiefs D/ST (D/ST)\n",
            "  - Jared Goff (BE)\n",
            "  - Lions D/ST (BE)\n",
            "  - Jameson Williams (WR)\n",
            "  - Zach Ertz (BE)\n",
            "  - Christian Watson (BE)\n",
            "  - Justin Tucker (K)\n",
            "  - Packers D/ST (BE)\n",
            "\n",
            "Team: Bucktown Bandits (Week 14)\n",
            "  - Jonathan Taylor (BE)\n",
            "  - Amon-Ra St. Brown (WR)\n",
            "  - De'Von Achane (RB)\n",
            "  - Travis Kelce (TE)\n",
            "  - Cooper Kupp (WR)\n",
            "  - Joe Burrow (QB)\n",
            "  - Tank Dell (BE)\n",
            "  - Tony Pollard (RB)\n",
            "  - Xavier Worthy (BE)\n",
            "  - Jakobi Meyers (RB/WR/TE)\n",
            "  - DJ Moore (BE)\n",
            "  - Cade Otton (BE)\n",
            "  - Jaylen Warren (BE)\n",
            "  - Justin Herbert (BE)\n",
            "  - Buccaneers D/ST (D/ST)\n",
            "  - Brandon Aubrey (K)\n",
            "\n",
            "Team: bird gang (Week 14)\n",
            "  - Christian McCaffrey (BE)\n",
            "  - DK Metcalf (WR)\n",
            "  - Brandon Aiyuk (BE)\n",
            "  - David Montgomery (RB)\n",
            "  - DeVonta Smith (WR)\n",
            "  - Brock Purdy (QB)\n",
            "  - Stefon Diggs (BE)\n",
            "  - Jake Ferguson (TE)\n",
            "  - Javonte Williams (BE)\n",
            "  - Dallas Goedert (BE)\n",
            "  - Chuba Hubbard (RB)\n",
            "  - Blake Corum (RB/WR/TE)\n",
            "  - DeMario Douglas (BE)\n",
            "  - Baker Mayfield (BE)\n",
            "  - Tyler Bass (K)\n",
            "  - Eagles D/ST (D/ST)\n",
            "\n",
            "Team: bungalicious  💅 (Week 14)\n",
            "  - Saquon Barkley (RB)\n",
            "  - Deebo Samuel Sr. (RB/WR/TE)\n",
            "  - Kenneth Walker III (BE)\n",
            "  - Sam LaPorta (BE)\n",
            "  - Tee Higgins (WR)\n",
            "  - Dak Prescott (BE)\n",
            "  - Malik Nabers (WR)\n",
            "  - Brock Bowers (TE)\n",
            "  - Ty Chandler (BE)\n",
            "  - Jerry Jeudy (BE)\n",
            "  - Chig Okonkwo (BE)\n",
            "  - Gabe Davis (BE)\n",
            "  - Jake Bates (K)\n",
            "  - Sam Darnold (QB)\n",
            "  - Colts D/ST (D/ST)\n",
            "  - Zach Charbonnet (RB)\n"
          ]
        }
      ]
    },
    {
      "cell_type": "markdown",
      "source": [
        "## **Getting the fantasy team rosters**\n",
        "*Will use to join to player data to maintain team assigments*"
      ],
      "metadata": {
        "id": "W-jJAhPvssjm"
      }
    },
    {
      "cell_type": "code",
      "source": [
        "# Define the range of weeks\n",
        "weeks = range(1, 19)  # Weeks 1 to 18\n",
        "\n",
        "# Create an empty list to store data\n",
        "all_weeks_roster = []\n",
        "\n",
        "# Loop through each week and get the roster data\n",
        "for week in weeks:\n",
        "    week_data = []  # Temporary storage for current week's data\n",
        "\n",
        "    for team in league.teams:\n",
        "        team_name = team.team_name  # Fantasy Team Name\n",
        "\n",
        "        for player in team.roster:\n",
        "            week_data.append({\n",
        "                \"cur_Fteam\": team_name,\n",
        "                \"week\": week,\n",
        "                \"espn_id\": player.playerId,  # ESPN Unique Player ID\n",
        "                \"cur_roster_slot\": player.position if player.lineupSlot != \"BE\" else \"Bench\"\n",
        "            })\n",
        "\n",
        "    # If no data is returned for this week, stop iterating\n",
        "    if not week_data:\n",
        "        print(f\"No data found for Week {week}. Stopping iteration.\")\n",
        "        break  # Stop looping when a week has no data\n",
        "\n",
        "    # Add this week's data to the master list\n",
        "    all_weeks_roster.extend(week_data)\n",
        "\n",
        "# Convert to DataFrame\n",
        "weekly_rosters = pd.DataFrame(all_weeks_roster)\n",
        "\n",
        "cur_roster = weekly_rosters[weekly_rosters['week'] == weekly_rosters['week'].max()].drop('week', axis=1)\n",
        "print(cur_roster)"
      ],
      "metadata": {
        "id": "wkEwJQ3qWH8P",
        "colab": {
          "base_uri": "https://localhost:8080/"
        },
        "outputId": "aa146995-6465-487e-b347-cf6b70b0d13f"
      },
      "execution_count": 4,
      "outputs": [
        {
          "output_type": "stream",
          "name": "stdout",
          "text": [
            "             cur_Fteam  espn_id cur_roster_slot\n",
            "2720  Fightin' Furries  3116406              WR\n",
            "2721  Fightin' Furries  4361529              RB\n",
            "2722  Fightin' Furries  3116385           Bench\n",
            "2723  Fightin' Furries  3139477              QB\n",
            "2724  Fightin' Furries  4385690           Bench\n",
            "...                ...      ...             ...\n",
            "2875   bungalicious  💅  4243537           Bench\n",
            "2876   bungalicious  💅  4689936               K\n",
            "2877   bungalicious  💅  3912547              QB\n",
            "2878   bungalicious  💅   -16011            D/ST\n",
            "2879   bungalicious  💅  4426385              RB\n",
            "\n",
            "[160 rows x 3 columns]\n"
          ]
        }
      ]
    },
    {
      "cell_type": "markdown",
      "source": [
        "### **Getting statistical data from xlsx files**"
      ],
      "metadata": {
        "id": "Pqurr9qovF3M"
      }
    },
    {
      "cell_type": "code",
      "source": [
        "from google.colab import drive\n",
        "drive.mount('/content/drive', force_remount = True)"
      ],
      "metadata": {
        "id": "LNbk_KpjvRsH",
        "outputId": "c481b5e5-1b83-447e-fc65-07ec4be02bea",
        "colab": {
          "base_uri": "https://localhost:8080/"
        }
      },
      "execution_count": 5,
      "outputs": [
        {
          "output_type": "stream",
          "name": "stdout",
          "text": [
            "Mounted at /content/drive\n"
          ]
        }
      ]
    },
    {
      "cell_type": "code",
      "source": [
        "import pandas as pd\n",
        "\n",
        "file_path = \"/content/drive/My Drive/ff_data.xlsx\"\n",
        "\n",
        "# Load specific sheets\n",
        "season_stats_all = pd.read_excel(file_path, sheet_name=\"Season\", engine=\"openpyxl\")\n",
        "weekly_stats_all = pd.read_excel(file_path, sheet_name=\"Weekly\", engine=\"openpyxl\")\n",
        "\n",
        "# Display first few rows\n",
        "print(season_stats_all.head())\n",
        "print(weekly_stats_all.head())"
      ],
      "metadata": {
        "id": "W83MSS6X1O2C",
        "outputId": "ed8641d7-b573-4903-9384-b8749a7167a5",
        "colab": {
          "base_uri": "https://localhost:8080/"
        }
      },
      "execution_count": 6,
      "outputs": [
        {
          "output_type": "stream",
          "name": "stdout",
          "text": [
            "   season   player_id player_display_name team position  games_played  \\\n",
            "0    2021  00-0019596           Tom Brady   TB       QB          20.0   \n",
            "1    2021  00-0022924  Ben Roethlisberger  PIT       QB          18.0   \n",
            "2    2021  00-0023459       Aaron Rodgers   GB       QB          17.0   \n",
            "3    2021  00-0023682    Ryan Fitzpatrick  WAS       QB           1.0   \n",
            "4    2021  00-0024243      Marcedes Lewis   GB       TE          14.0   \n",
            "\n",
            "   completions  attempts  comp%  passing_yards  ...  total_st_tds  st_tds_pg  \\\n",
            "0        573.0     847.0  67.65         6187.0  ...           NaN        NaN   \n",
            "1        448.0     693.0  64.65         4170.0  ...           NaN        NaN   \n",
            "2        386.0     560.0  68.93         4340.0  ...           NaN        NaN   \n",
            "3          3.0       6.0  50.00           13.0  ...           NaN        NaN   \n",
            "4          0.0       0.0    NaN            0.0  ...           NaN        NaN   \n",
            "\n",
            "   total_fp  fp_pg  espn_id                name   age  height  weight  \\\n",
            "0       NaN    NaN   2330.0           Tom Brady  47.6    76.0   225.0   \n",
            "1       NaN    NaN   5536.0  Ben Roethlisberger  43.0    77.0   240.0   \n",
            "2       NaN    NaN   8439.0       Aaron Rodgers  41.3    74.0   223.0   \n",
            "3       NaN    NaN   8664.0    Ryan Fitzpatrick  40.3    74.0   228.0   \n",
            "4       NaN    NaN   9614.0      Marcedes Lewis  40.8    78.0   267.0   \n",
            "\n",
            "        college  \n",
            "0      Michigan  \n",
            "1  Miami (Ohio)  \n",
            "2    California  \n",
            "3       Harvard  \n",
            "4          UCLA  \n",
            "\n",
            "[5 rows x 91 columns]\n",
            "    player_id player_name player_display_name position position_group  \\\n",
            "0  00-0019596     T.Brady           Tom Brady       QB             QB   \n",
            "1  00-0019596     T.Brady           Tom Brady       QB             QB   \n",
            "2  00-0019596     T.Brady           Tom Brady       QB             QB   \n",
            "3  00-0019596     T.Brady           Tom Brady       QB             QB   \n",
            "4  00-0019596     T.Brady           Tom Brady       QB             QB   \n",
            "\n",
            "                                        headshot_url recent_team  season  \\\n",
            "0  https://static.www.nfl.com/image/private/f_aut...          TB    2021   \n",
            "1  https://static.www.nfl.com/image/private/f_aut...          TB    2021   \n",
            "2  https://static.www.nfl.com/image/private/f_aut...          TB    2021   \n",
            "3  https://static.www.nfl.com/image/private/f_aut...          TB    2021   \n",
            "4  https://static.www.nfl.com/image/private/f_aut...          TB    2021   \n",
            "\n",
            "   week season_type  ... total_points_allowed  yards_points  points_fp  \\\n",
            "0     1         REG  ...                  NaN           NaN        NaN   \n",
            "1     2         REG  ...                  NaN           NaN        NaN   \n",
            "2     3         REG  ...                  NaN           NaN        NaN   \n",
            "3     4         REG  ...                  NaN           NaN        NaN   \n",
            "4     5         REG  ...                  NaN           NaN        NaN   \n",
            "\n",
            "   st_tds  espn_id       name   age  height  weight   college  \n",
            "0     NaN   2330.0  Tom Brady  47.6    76.0   225.0  Michigan  \n",
            "1     NaN   2330.0  Tom Brady  47.6    76.0   225.0  Michigan  \n",
            "2     NaN   2330.0  Tom Brady  47.6    76.0   225.0  Michigan  \n",
            "3     NaN   2330.0  Tom Brady  47.6    76.0   225.0  Michigan  \n",
            "4     NaN   2330.0  Tom Brady  47.6    76.0   225.0  Michigan  \n",
            "\n",
            "[5 rows x 114 columns]\n"
          ]
        }
      ]
    },
    {
      "cell_type": "markdown",
      "source": [
        "## **Joining current fantasy team roster data with weekly and season data**"
      ],
      "metadata": {
        "id": "BghXacKNsq4x"
      }
    },
    {
      "cell_type": "markdown",
      "source": [
        "### *Season data*"
      ],
      "metadata": {
        "id": "DA1_Yyt9tHwH"
      }
    },
    {
      "cell_type": "code",
      "source": [
        "season_stats_all = pd.merge(season_stats_all, cur_roster, on=\"espn_id\", how=\"left\")\n",
        "\n",
        "season_stats_all.loc[\n",
        "    (season_stats_all['season'] == 2024) &\n",
        "    (season_stats_all['cur_Fteam'] != 'FA') &\n",
        "    (season_stats_all['cur_roster_slot'] != 'FA'),\n",
        "    ['cur_Fteam', 'cur_roster_slot']\n",
        "] = 'FA'"
      ],
      "metadata": {
        "id": "363yeLKgqfll"
      },
      "execution_count": 7,
      "outputs": []
    },
    {
      "cell_type": "code",
      "source": [
        "#season_stats_all['season'] = season_stats_all['season'].astype(str)"
      ],
      "metadata": {
        "id": "r5MzXNoUeeAz"
      },
      "execution_count": null,
      "outputs": []
    },
    {
      "cell_type": "code",
      "source": [
        "print(season_stats_all.head(10))"
      ],
      "metadata": {
        "id": "ezKgyJJUw6SB",
        "outputId": "8dc091eb-b302-416c-ee9e-68d208d3d08c",
        "colab": {
          "base_uri": "https://localhost:8080/"
        }
      },
      "execution_count": 8,
      "outputs": [
        {
          "output_type": "stream",
          "name": "stdout",
          "text": [
            "   season   player_id player_display_name      team position  games_played  \\\n",
            "0    2021  00-0019596           Tom Brady        TB       QB          20.0   \n",
            "1    2021  00-0022924  Ben Roethlisberger       PIT       QB          18.0   \n",
            "2    2021  00-0023459       Aaron Rodgers        GB       QB          17.0   \n",
            "3    2021  00-0023682    Ryan Fitzpatrick       WAS       QB           1.0   \n",
            "4    2021  00-0024243      Marcedes Lewis        GB       TE          14.0   \n",
            "5    2021  00-0025394     Adrian Peterson  TEN, SEA       RB           4.0   \n",
            "6    2021  00-0026035      Danny Amendola       HOU       WR           8.0   \n",
            "7    2021  00-0026143           Matt Ryan       ATL       QB          17.0   \n",
            "8    2021  00-0026158          Joe Flacco       NYJ       QB           2.0   \n",
            "9    2021  00-0026189      DeSean Jackson    LA, LV       WR          16.0   \n",
            "\n",
            "   completions  attempts  comp%  passing_yards  ...  total_fp  fp_pg  espn_id  \\\n",
            "0        573.0     847.0  67.65         6187.0  ...       NaN    NaN   2330.0   \n",
            "1        448.0     693.0  64.65         4170.0  ...       NaN    NaN   5536.0   \n",
            "2        386.0     560.0  68.93         4340.0  ...       NaN    NaN   8439.0   \n",
            "3          3.0       6.0  50.00           13.0  ...       NaN    NaN   8664.0   \n",
            "4          0.0       0.0    NaN            0.0  ...       NaN    NaN   9614.0   \n",
            "5          0.0       0.0    NaN            0.0  ...       NaN    NaN  10452.0   \n",
            "6          0.0       1.0   0.00            0.0  ...       NaN    NaN  11674.0   \n",
            "7        375.0     560.0  66.96         3968.0  ...       NaN    NaN  11237.0   \n",
            "8         27.0      42.0  64.29          338.0  ...       NaN    NaN  11252.0   \n",
            "9          0.0       0.0    NaN            0.0  ...       NaN    NaN  11283.0   \n",
            "\n",
            "                 name   age  height  weight         college  cur_Fteam  \\\n",
            "0           Tom Brady  47.6    76.0   225.0        Michigan        NaN   \n",
            "1  Ben Roethlisberger  43.0    77.0   240.0    Miami (Ohio)        NaN   \n",
            "2       Aaron Rodgers  41.3    74.0   223.0      California        NaN   \n",
            "3    Ryan Fitzpatrick  40.3    74.0   228.0         Harvard        NaN   \n",
            "4      Marcedes Lewis  40.8    78.0   267.0            UCLA        NaN   \n",
            "5     Adrian Peterson  39.9    73.0   220.0        Oklahoma        NaN   \n",
            "6      Danny Amendola  37.3    71.0   185.0      Texas Tech        NaN   \n",
            "7           Matt Ryan  39.8    76.0   217.0  Boston College        NaN   \n",
            "8          Joe Flacco  40.2    78.0   230.0        Delaware        NaN   \n",
            "9      DeSean Jackson  37.2    70.0   175.0      California        NaN   \n",
            "\n",
            "   cur_roster_slot  \n",
            "0              NaN  \n",
            "1              NaN  \n",
            "2              NaN  \n",
            "3              NaN  \n",
            "4              NaN  \n",
            "5              NaN  \n",
            "6              NaN  \n",
            "7              NaN  \n",
            "8              NaN  \n",
            "9              NaN  \n",
            "\n",
            "[10 rows x 93 columns]\n"
          ]
        }
      ]
    },
    {
      "cell_type": "markdown",
      "source": [
        "### *Weekly data*"
      ],
      "metadata": {
        "id": "OfGbdi8BtOI_"
      }
    },
    {
      "cell_type": "code",
      "source": [
        "weekly_stats_all = pd.merge(weekly_stats_all, weekly_rosters, on=[\"espn_id\", \"week\"], how=\"left\")\n",
        "\n",
        "weekly_stats_all.loc[\n",
        "    (weekly_stats_all['season'] == 2024) &\n",
        "    (weekly_stats_all['cur_Fteam'] != 'FA') &\n",
        "    (weekly_stats_all['cur_roster_slot'] != 'FA'),\n",
        "    ['cur_Fteam', 'cur_roster_slot']\n",
        "] = 'FA'"
      ],
      "metadata": {
        "id": "5Xgjh3_ftT9B"
      },
      "execution_count": 9,
      "outputs": []
    },
    {
      "cell_type": "code",
      "source": [
        "#weekly_stats_all['week'] = weekly_stats_all['week'].astype(str)\n",
        "#weekly_stats_all['season'] = weekly_stats_all['season'].astype(str)"
      ],
      "metadata": {
        "id": "3X1sDTQreOGm"
      },
      "execution_count": null,
      "outputs": []
    },
    {
      "cell_type": "code",
      "source": [
        "print(weekly_stats_all.head(10))"
      ],
      "metadata": {
        "id": "miWV9babw09R",
        "outputId": "a9fa0e15-7204-43a0-d08a-27f589b182fc",
        "colab": {
          "base_uri": "https://localhost:8080/"
        }
      },
      "execution_count": 11,
      "outputs": [
        {
          "output_type": "stream",
          "name": "stdout",
          "text": [
            "    player_id player_name player_display_name position position_group  \\\n",
            "0  00-0019596     T.Brady           Tom Brady       QB             QB   \n",
            "1  00-0019596     T.Brady           Tom Brady       QB             QB   \n",
            "2  00-0019596     T.Brady           Tom Brady       QB             QB   \n",
            "3  00-0019596     T.Brady           Tom Brady       QB             QB   \n",
            "4  00-0019596     T.Brady           Tom Brady       QB             QB   \n",
            "5  00-0019596     T.Brady           Tom Brady       QB             QB   \n",
            "6  00-0019596     T.Brady           Tom Brady       QB             QB   \n",
            "7  00-0019596     T.Brady           Tom Brady       QB             QB   \n",
            "8  00-0019596     T.Brady           Tom Brady       QB             QB   \n",
            "9  00-0019596     T.Brady           Tom Brady       QB             QB   \n",
            "\n",
            "                                        headshot_url recent_team  season  \\\n",
            "0  https://static.www.nfl.com/image/private/f_aut...          TB    2021   \n",
            "1  https://static.www.nfl.com/image/private/f_aut...          TB    2021   \n",
            "2  https://static.www.nfl.com/image/private/f_aut...          TB    2021   \n",
            "3  https://static.www.nfl.com/image/private/f_aut...          TB    2021   \n",
            "4  https://static.www.nfl.com/image/private/f_aut...          TB    2021   \n",
            "5  https://static.www.nfl.com/image/private/f_aut...          TB    2021   \n",
            "6  https://static.www.nfl.com/image/private/f_aut...          TB    2021   \n",
            "7  https://static.www.nfl.com/image/private/f_aut...          TB    2021   \n",
            "8  https://static.www.nfl.com/image/private/f_aut...          TB    2021   \n",
            "9  https://static.www.nfl.com/image/private/f_aut...          TB    2021   \n",
            "\n",
            "   week season_type  ... points_fp  st_tds  espn_id       name   age  height  \\\n",
            "0     1         REG  ...       NaN     NaN   2330.0  Tom Brady  47.6    76.0   \n",
            "1     2         REG  ...       NaN     NaN   2330.0  Tom Brady  47.6    76.0   \n",
            "2     3         REG  ...       NaN     NaN   2330.0  Tom Brady  47.6    76.0   \n",
            "3     4         REG  ...       NaN     NaN   2330.0  Tom Brady  47.6    76.0   \n",
            "4     5         REG  ...       NaN     NaN   2330.0  Tom Brady  47.6    76.0   \n",
            "5     6         REG  ...       NaN     NaN   2330.0  Tom Brady  47.6    76.0   \n",
            "6     7         REG  ...       NaN     NaN   2330.0  Tom Brady  47.6    76.0   \n",
            "7     8         REG  ...       NaN     NaN   2330.0  Tom Brady  47.6    76.0   \n",
            "8    10         REG  ...       NaN     NaN   2330.0  Tom Brady  47.6    76.0   \n",
            "9    11         REG  ...       NaN     NaN   2330.0  Tom Brady  47.6    76.0   \n",
            "\n",
            "   weight   college  cur_Fteam  cur_roster_slot  \n",
            "0   225.0  Michigan        NaN              NaN  \n",
            "1   225.0  Michigan        NaN              NaN  \n",
            "2   225.0  Michigan        NaN              NaN  \n",
            "3   225.0  Michigan        NaN              NaN  \n",
            "4   225.0  Michigan        NaN              NaN  \n",
            "5   225.0  Michigan        NaN              NaN  \n",
            "6   225.0  Michigan        NaN              NaN  \n",
            "7   225.0  Michigan        NaN              NaN  \n",
            "8   225.0  Michigan        NaN              NaN  \n",
            "9   225.0  Michigan        NaN              NaN  \n",
            "\n",
            "[10 rows x 116 columns]\n"
          ]
        }
      ]
    },
    {
      "cell_type": "markdown",
      "source": [
        "# **Getting matchup data**"
      ],
      "metadata": {
        "id": "RZglmALWxlN6"
      }
    },
    {
      "cell_type": "code",
      "source": [
        "total_weeks = league.settings.reg_season_count  # Regular season length\n",
        "\n",
        "# Initialize records dict\n",
        "team_records = {team.team_name: {'W': 0, 'L': 0} for team in league.teams}\n",
        "\n",
        "# Store all weekly matchups and records\n",
        "matchups_all_weeks = []\n",
        "\n",
        "# Loop through each week\n",
        "for week in range(1, total_weeks + 1):\n",
        "    scoreboard = league.scoreboard(week=week)\n",
        "\n",
        "    for matchup in scoreboard:\n",
        "        home = matchup.home_team.team_name\n",
        "        away = matchup.away_team.team_name\n",
        "        home_score = matchup.home_score\n",
        "        away_score = matchup.away_score\n",
        "\n",
        "        # Determine winner and update records\n",
        "        if home_score > away_score:\n",
        "            team_records[home]['W'] += 1\n",
        "            team_records[away]['L'] += 1\n",
        "        elif home_score < away_score:\n",
        "            team_records[away]['W'] += 1\n",
        "            team_records[home]['L'] += 1\n",
        "        else:\n",
        "            # Tie case (optional)\n",
        "            pass\n",
        "\n",
        "        # Record after this week\n",
        "        home_record = f\"{team_records[home]['W']}-{team_records[home]['L']}\"\n",
        "        away_record = f\"{team_records[away]['W']}-{team_records[away]['L']}\"\n",
        "\n",
        "        matchups_all_weeks.append({\n",
        "            'week': week,\n",
        "            'home_team': home,\n",
        "            'away_team': away,\n",
        "            'home_score': home_score,\n",
        "            'away_score': away_score,\n",
        "            'home_record': home_record,\n",
        "            'away_record': away_record\n",
        "        })\n",
        "\n",
        "# Convert to DataFrame\n",
        "weekly_matchup_data = pd.DataFrame(matchups_all_weeks)\n",
        "\n",
        "# Display the result\n",
        "print(weekly_matchup_data)"
      ],
      "metadata": {
        "id": "4x9gYXkoxoRV",
        "outputId": "905af989-ab5d-4f5b-b545-f442061d5383",
        "colab": {
          "base_uri": "https://localhost:8080/"
        }
      },
      "execution_count": 10,
      "outputs": [
        {
          "output_type": "stream",
          "name": "stdout",
          "text": [
            "    week              home_team              away_team  home_score  \\\n",
            "0      1       Bucktown Bandits       Graham’s Groupie        73.0   \n",
            "1      1        bungalicious  💅       Fightin' Furries       101.0   \n",
            "2      1              bird gang      Salmon LipBalm !!        59.0   \n",
            "3      1  pop-pop's bible study              Quon Solo        79.0   \n",
            "4      1            Jen-eral ⚔️     Captain Sweatpants        82.0   \n",
            "..   ...                    ...                    ...         ...   \n",
            "65    14       Graham’s Groupie       Bucktown Bandits       143.0   \n",
            "66    14      Salmon LipBalm !!       Fightin' Furries       115.0   \n",
            "67    14     Captain Sweatpants              Quon Solo        88.0   \n",
            "68    14            Jen-eral ⚔️  pop-pop's bible study        68.0   \n",
            "69    14              bird gang        bungalicious  💅        81.0   \n",
            "\n",
            "    away_score home_record away_record  \n",
            "0         96.0         0-1         1-0  \n",
            "1         94.0         1-0         0-1  \n",
            "2        101.0         0-1         1-0  \n",
            "3         97.0         0-1         1-0  \n",
            "4        110.0         0-1         1-0  \n",
            "..         ...         ...         ...  \n",
            "65        98.0         6-8        3-11  \n",
            "66        78.0        12-2         6-8  \n",
            "67        85.0         6-8         7-7  \n",
            "68       111.0        10-4         8-6  \n",
            "69        95.0        2-12        10-4  \n",
            "\n",
            "[70 rows x 7 columns]\n"
          ]
        }
      ]
    },
    {
      "cell_type": "markdown",
      "source": [
        "# **Getting injury status**\n",
        "PROBABLY CAN'T USE B/C ONLY HAVE 2024 DATA"
      ],
      "metadata": {
        "id": "T3jmeOE3aRSg"
      }
    },
    {
      "cell_type": "code",
      "source": [
        "all_players = []\n",
        "current_week = league.current_week\n",
        "\n",
        "# 1. Rostered players from each team\n",
        "for team in league.teams:\n",
        "    for player in team.roster:\n",
        "        all_players.append({\n",
        "            \"week\": current_week,\n",
        "            \"team_owner\": team.team_name,\n",
        "            \"name\": player.name,\n",
        "            \"position\": player.position,\n",
        "            \"espn_id\": player.playerId,\n",
        "            \"injured\": player.injured,\n",
        "            \"injury_status\": player.injuryStatus,\n",
        "            \"rostered\": True\n",
        "        })\n",
        "\n",
        "# 2. Free agents (unrostered players)\n",
        "for player in league.free_agents(size=1000):  # you can adjust the size to pull more players\n",
        "    all_players.append({\n",
        "        \"week\": current_week,\n",
        "        \"team_owner\": \"Free Agent\",\n",
        "        \"name\": player.name,\n",
        "        \"position\": player.position,\n",
        "        \"espn_id\": player.playerId,\n",
        "        \"injured\": player.injured,\n",
        "        \"injury_status\": player.injuryStatus,\n",
        "        \"rostered\": False\n",
        "    })\n",
        "\n",
        "# Optional: Convert to pandas DataFrame\n",
        "import pandas as pd\n",
        "injury_status = pd.DataFrame(all_players)\n",
        "\n",
        "# Display or export\n",
        "print(injury_status.head(10))\n",
        "\n",
        "print(injury_status[injury_status[\"team_owner\"] == \"Free Agent\"].head(10))"
      ],
      "metadata": {
        "id": "wM3-PmTtaQ9X",
        "outputId": "74f632b1-6c3a-47ea-bb59-2c03b966200b",
        "colab": {
          "base_uri": "https://localhost:8080/"
        }
      },
      "execution_count": null,
      "outputs": [
        {
          "output_type": "stream",
          "name": "stdout",
          "text": [
            "   week        team_owner                name position  espn_id  injured  \\\n",
            "0    17  Fightin' Furries         Tyreek Hill       WR  3116406    False   \n",
            "1    17  Fightin' Furries       Isiah Pacheco       RB  4361529    False   \n",
            "2    17  Fightin' Furries           Joe Mixon       RB  3116385    False   \n",
            "3    17  Fightin' Furries     Patrick Mahomes       QB  3139477    False   \n",
            "4    17  Fightin' Furries      Dalton Kincaid       TE  4385690    False   \n",
            "5    17  Fightin' Furries         Zay Flowers       WR  4429615    False   \n",
            "6    17  Fightin' Furries  Jaxon Smith-Njigba       WR  4430878    False   \n",
            "7    17  Fightin' Furries         Gus Edwards       RB  3051926    False   \n",
            "8    17  Fightin' Furries    Matthew Stafford       QB    12483    False   \n",
            "9    17  Fightin' Furries         Kareem Hunt       RB  3059915    False   \n",
            "\n",
            "  injury_status  rostered  \n",
            "0  QUESTIONABLE      True  \n",
            "1        ACTIVE      True  \n",
            "2        ACTIVE      True  \n",
            "3        ACTIVE      True  \n",
            "4        ACTIVE      True  \n",
            "5  QUESTIONABLE      True  \n",
            "6        ACTIVE      True  \n",
            "7        ACTIVE      True  \n",
            "8        ACTIVE      True  \n",
            "9        ACTIVE      True  \n",
            "     week  team_owner                 name position  espn_id  injured  \\\n",
            "160    17  Free Agent        Ladd McConkey       WR  4612826    False   \n",
            "161    17  Free Agent         Keenan Allen       WR    15818    False   \n",
            "162    17  Free Agent  Michael Pittman Jr.       WR  4035687    False   \n",
            "163    17  Free Agent        Steelers D/ST     D/ST   -16023    False   \n",
            "164    17  Free Agent          C.J. Stroud       QB  4432577    False   \n",
            "165    17  Free Agent           Kyle Pitts       TE  4360248    False   \n",
            "166    17  Free Agent         Adam Thielen       WR    16460    False   \n",
            "167    17  Free Agent          Chris Olave       WR  4361370    False   \n",
            "168    17  Free Agent         Tucker Kraft       TE  4572680    False   \n",
            "169    17  Free Agent           49ers D/ST     D/ST   -16025    False   \n",
            "\n",
            "    injury_status  rostered  \n",
            "160        ACTIVE     False  \n",
            "161        ACTIVE     False  \n",
            "162  QUESTIONABLE     False  \n",
            "163            []     False  \n",
            "164        ACTIVE     False  \n",
            "165        ACTIVE     False  \n",
            "166        ACTIVE     False  \n",
            "167  QUESTIONABLE     False  \n",
            "168        ACTIVE     False  \n",
            "169            []     False  \n"
          ]
        }
      ]
    },
    {
      "cell_type": "markdown",
      "source": [
        "# **QB CatBoost Model**"
      ],
      "metadata": {
        "id": "ya-N0f3oCiDC"
      }
    },
    {
      "cell_type": "markdown",
      "source": [
        "## **Feature Engineering**\n",
        "*Need to create features that can be used in both train and test sets since we can't use rush yards, pass yards (any game specific stats) because they have not occurred and need to use like rolling features or averages*"
      ],
      "metadata": {
        "id": "4eaW92sEQJly"
      }
    },
    {
      "cell_type": "code",
      "source": [
        "df_qb = weekly_stats_all[weekly_stats_all['position'] == 'QB'].copy()\n",
        "\n",
        "# -------------------------------\n",
        "# STEP 2: Sort for time-series ops\n",
        "# -------------------------------\n",
        "df_qb = df_qb.sort_values(by=['player_id', 'season', 'week'])\n",
        "\n",
        "# -------------------------------\n",
        "# STEP 3: Lag + Rolling Features (3-game window)\n",
        "# -------------------------------\n",
        "rolling_cols = [\n",
        "    'passing_yards', 'passing_tds', 'interceptions', 'passing_epa',\n",
        "    'rushing_yards', 'rushing_tds', 'completions', 'attempts',\n",
        "    'fantasy_points_ppr', 'passing_air_yards', 'passing_yards_after_catch',\n",
        "    'rushing_fumbles_lost', 'rushing_epa', 'rushing_2pt_conversions', 'passing_2pt_conversions'\n",
        "]\n",
        "\n",
        "for col in rolling_cols:\n",
        "    df_qb[f'{col}_last3'] = df_qb.groupby('player_id')[col].shift(1).rolling(3, min_periods = 1).mean()\n",
        "\n",
        "# -------------------------------\n",
        "# STEP 4: Expanding (season-to-date) averages\n",
        "# -------------------------------\n",
        "expanding_cols = ['passing_yards', 'passing_tds', 'interceptions', 'rushing_yards', 'rushing_tds', 'fantasy_points_ppr'\n",
        "]\n",
        "\n",
        "for col in expanding_cols:\n",
        "    df_qb[col] = pd.to_numeric(df_qb[col], errors='coerce')\n",
        "\n",
        "for col in expanding_cols:\n",
        "    df_qb[f'{col}_season_avg'] = (\n",
        "        df_qb.groupby(['player_id', 'season'])[col]\n",
        "        .transform(lambda x: x.shift(1).expanding().mean())\n",
        "    )\n",
        "\n",
        "df_qb['completions'] = pd.to_numeric(df_qb['completions'], errors='coerce')\n",
        "df_qb['attempts'] = pd.to_numeric(df_qb['attempts'], errors='coerce')\n",
        "\n",
        "\n",
        "df_qb['yards_per_attempt'] = df_qb['passing_yards'] / df_qb['attempts'].replace(0, pd.NA)\n",
        "\n",
        "df_qb['comp%'] = (\n",
        "    (df_qb['completions'] / df_qb['attempts']) * 100\n",
        ").replace([pd.NA, np.inf, -np.inf], np.nan)\n",
        "\n",
        "df_qb['comp%'] = pd.to_numeric(df_qb['comp%'], errors='coerce')\n",
        "\n",
        "df_qb['yards_per_attempt'] = pd.to_numeric(df_qb['yards_per_attempt'], errors='coerce')\n",
        "\n",
        "print(df_qb.head(10))"
      ],
      "metadata": {
        "id": "VS7tmywyQKC1",
        "outputId": "6b14d679-cb20-4230-bc1c-6b350939269a",
        "colab": {
          "base_uri": "https://localhost:8080/"
        }
      },
      "execution_count": 17,
      "outputs": [
        {
          "output_type": "stream",
          "name": "stdout",
          "text": [
            "    player_id player_name player_display_name position position_group  \\\n",
            "0  00-0019596     T.Brady           Tom Brady       QB             QB   \n",
            "1  00-0019596     T.Brady           Tom Brady       QB             QB   \n",
            "2  00-0019596     T.Brady           Tom Brady       QB             QB   \n",
            "3  00-0019596     T.Brady           Tom Brady       QB             QB   \n",
            "4  00-0019596     T.Brady           Tom Brady       QB             QB   \n",
            "5  00-0019596     T.Brady           Tom Brady       QB             QB   \n",
            "6  00-0019596     T.Brady           Tom Brady       QB             QB   \n",
            "7  00-0019596     T.Brady           Tom Brady       QB             QB   \n",
            "8  00-0019596     T.Brady           Tom Brady       QB             QB   \n",
            "9  00-0019596     T.Brady           Tom Brady       QB             QB   \n",
            "\n",
            "                                        headshot_url recent_team  season  \\\n",
            "0  https://static.www.nfl.com/image/private/f_aut...          TB    2021   \n",
            "1  https://static.www.nfl.com/image/private/f_aut...          TB    2021   \n",
            "2  https://static.www.nfl.com/image/private/f_aut...          TB    2021   \n",
            "3  https://static.www.nfl.com/image/private/f_aut...          TB    2021   \n",
            "4  https://static.www.nfl.com/image/private/f_aut...          TB    2021   \n",
            "5  https://static.www.nfl.com/image/private/f_aut...          TB    2021   \n",
            "6  https://static.www.nfl.com/image/private/f_aut...          TB    2021   \n",
            "7  https://static.www.nfl.com/image/private/f_aut...          TB    2021   \n",
            "8  https://static.www.nfl.com/image/private/f_aut...          TB    2021   \n",
            "9  https://static.www.nfl.com/image/private/f_aut...          TB    2021   \n",
            "\n",
            "   week season_type  ... rushing_2pt_conversions_last3  \\\n",
            "0     1         REG  ...                           NaN   \n",
            "1     2         REG  ...                           0.0   \n",
            "2     3         REG  ...                           0.0   \n",
            "3     4         REG  ...                           0.0   \n",
            "4     5         REG  ...                           0.0   \n",
            "5     6         REG  ...                           0.0   \n",
            "6     7         REG  ...                           0.0   \n",
            "7     8         REG  ...                           0.0   \n",
            "8    10         REG  ...                           0.0   \n",
            "9    11         REG  ...                           0.0   \n",
            "\n",
            "   passing_2pt_conversions_last3  passing_yards_season_avg  \\\n",
            "0                            NaN                       NaN   \n",
            "1                            0.0                379.000000   \n",
            "2                            0.0                327.500000   \n",
            "3                            0.0                362.333333   \n",
            "4                            0.0                339.000000   \n",
            "5                            0.0                353.400000   \n",
            "6                            0.0                344.000000   \n",
            "7                            0.0                325.000000   \n",
            "8                            0.0                331.250000   \n",
            "9                            0.0                318.888889   \n",
            "\n",
            "   passing_tds_season_avg  interceptions_season_avg  rushing_yards_season_avg  \\\n",
            "0                     NaN                       NaN                       NaN   \n",
            "1                4.000000                  2.000000                  0.000000   \n",
            "2                4.500000                  1.000000                  3.000000   \n",
            "3                3.333333                  0.666667                  6.666667   \n",
            "4                2.500000                  0.500000                  5.750000   \n",
            "5                3.000000                  0.400000                  7.200000   \n",
            "6                2.833333                  0.500000                  6.166667   \n",
            "7                3.000000                  0.428571                  5.285714   \n",
            "8                3.125000                  0.625000                  4.875000   \n",
            "9                3.000000                  0.777778                  4.555556   \n",
            "\n",
            "   rushing_tds_season_avg  fantasy_points_ppr_season_avg  yards_per_attempt  \\\n",
            "0                     NaN                            NaN           7.580000   \n",
            "1                0.000000                      27.160000           7.666667   \n",
            "2                0.000000                      28.400000           7.854545   \n",
            "3                0.333333                      28.493333           6.255814   \n",
            "4                0.250000                      24.135000          10.024390   \n",
            "5                0.200000                      26.856000           7.071429   \n",
            "6                0.166667                      25.376667           5.861111   \n",
            "7                0.142857                      25.242857           9.375000   \n",
            "8                0.125000                      25.237500           6.470588   \n",
            "9                0.111111                      23.877778           6.673913   \n",
            "\n",
            "       comp%  \n",
            "0  64.000000  \n",
            "1  66.666667  \n",
            "2  74.545455  \n",
            "3  51.162791  \n",
            "4  73.170732  \n",
            "5  80.952381  \n",
            "6  55.555556  \n",
            "7  70.000000  \n",
            "8  67.647059  \n",
            "9  65.217391  \n",
            "\n",
            "[10 rows x 139 columns]\n"
          ]
        }
      ]
    },
    {
      "cell_type": "code",
      "source": [
        "# -------------------------------\n",
        "# STEP 5: Efficiency metrics\n",
        "# -------------------------------\n",
        "df_qb['pass_attempts_shifted'] = df_qb.groupby('player_id')['attempts'].shift(1)\n",
        "\n",
        "df_qb['comp_pct_last3'] = df_qb.groupby('player_id')['comp%'].shift(1).rolling(3,min_periods = 1).mean()\n",
        "df_qb['yards_per_attempt_last3'] = df_qb.groupby('player_id')['yards_per_attempt'].shift(1).rolling(3,min_periods = 1).mean()\n",
        "df_qb['td_rate_last3'] = df_qb.groupby('player_id')['passing_tds'].shift(1).rolling(3,min_periods = 1).sum() / df_qb['pass_attempts_shifted']\n",
        "df_qb['int_rate_last3'] = df_qb.groupby('player_id')['interceptions'].shift(1).rolling(3,min_periods = 1).sum() / df_qb['pass_attempts_shifted']\n",
        "\n",
        "# -------------------------------\n",
        "# STEP 6: Advanced metrics\n",
        "# -------------------------------\n",
        "advanced = ['pacr', 'dakota']\n",
        "for col in advanced:\n",
        "    df_qb[f'{col}_trend'] = df_qb.groupby('player_id')[col].shift(1).rolling(3,min_periods = 1).mean()\n",
        "\n",
        "# -------------------------------\n",
        "# STEP 7: Opponent Defense (already lagged by design)\n",
        "# -------------------------------\n",
        "opponent_cols = ['opp_avg_ypg_allowed', 'opp_avg_ppg_allowed', 'opp_int_pg', 'opp_sacks_pg', 'opp_fumbles_pg']\n",
        "for col in opponent_cols:\n",
        "    df_qb[f'{col}_trend'] = df_qb.groupby('player_id')[col].shift(1).rolling(3,min_periods = 1).mean()\n",
        "\n",
        "# -------------------------------\n",
        "# STEP 8: Clean up NA rows (from shifting/rolling)\n",
        "# -------------------------------\n",
        "#df_qb = df_qb.dropna()"
      ],
      "metadata": {
        "id": "fL_SnJgBSGM8"
      },
      "execution_count": 18,
      "outputs": []
    },
    {
      "cell_type": "code",
      "source": [
        "print(df_qb.head(10))"
      ],
      "metadata": {
        "id": "WcKX-wgRTyq9",
        "outputId": "b7efcddc-e28e-4a6d-98e7-73d3d6151f83",
        "colab": {
          "base_uri": "https://localhost:8080/"
        }
      },
      "execution_count": 37,
      "outputs": [
        {
          "output_type": "stream",
          "name": "stdout",
          "text": [
            "    player_id player_name player_display_name position position_group  \\\n",
            "0  00-0019596     T.Brady           Tom Brady       QB             QB   \n",
            "1  00-0019596     T.Brady           Tom Brady       QB             QB   \n",
            "2  00-0019596     T.Brady           Tom Brady       QB             QB   \n",
            "3  00-0019596     T.Brady           Tom Brady       QB             QB   \n",
            "4  00-0019596     T.Brady           Tom Brady       QB             QB   \n",
            "5  00-0019596     T.Brady           Tom Brady       QB             QB   \n",
            "6  00-0019596     T.Brady           Tom Brady       QB             QB   \n",
            "7  00-0019596     T.Brady           Tom Brady       QB             QB   \n",
            "8  00-0019596     T.Brady           Tom Brady       QB             QB   \n",
            "9  00-0019596     T.Brady           Tom Brady       QB             QB   \n",
            "\n",
            "                                        headshot_url recent_team  season  \\\n",
            "0  https://static.www.nfl.com/image/private/f_aut...          TB    2021   \n",
            "1  https://static.www.nfl.com/image/private/f_aut...          TB    2021   \n",
            "2  https://static.www.nfl.com/image/private/f_aut...          TB    2021   \n",
            "3  https://static.www.nfl.com/image/private/f_aut...          TB    2021   \n",
            "4  https://static.www.nfl.com/image/private/f_aut...          TB    2021   \n",
            "5  https://static.www.nfl.com/image/private/f_aut...          TB    2021   \n",
            "6  https://static.www.nfl.com/image/private/f_aut...          TB    2021   \n",
            "7  https://static.www.nfl.com/image/private/f_aut...          TB    2021   \n",
            "8  https://static.www.nfl.com/image/private/f_aut...          TB    2021   \n",
            "9  https://static.www.nfl.com/image/private/f_aut...          TB    2021   \n",
            "\n",
            "   week season_type  ... yards_per_attempt_last3  td_rate_last3  \\\n",
            "0     1         REG  ...                     NaN            NaN   \n",
            "1     2         REG  ...                7.580000       0.080000   \n",
            "2     3         REG  ...                7.623333       0.250000   \n",
            "3     4         REG  ...                7.700404       0.181818   \n",
            "4     5         REG  ...                7.259009       0.139535   \n",
            "5     6         REG  ...                8.044917       0.146341   \n",
            "6     7         REG  ...                7.783878       0.166667   \n",
            "7     8         REG  ...                7.652310       0.305556   \n",
            "8    10         REG  ...                7.435847       0.250000   \n",
            "9    11         REG  ...                7.235566       0.294118   \n",
            "\n",
            "   int_rate_last3  pacr_trend  dakota_trend  opp_avg_ypg_allowed_trend  \\\n",
            "0             NaN         NaN           NaN                        NaN   \n",
            "1        0.040000    0.849776      0.168449                 384.610000   \n",
            "2        0.055556    0.822582      0.143426                 378.335000   \n",
            "3        0.036364    0.925352      0.141575                 372.590000   \n",
            "4        0.000000    0.837445      0.090470                 364.813333   \n",
            "5        0.000000    0.897731      0.167470                 360.480000   \n",
            "6        0.023810    0.870591      0.202143                 360.926667   \n",
            "7        0.027778    0.925536      0.231751                 353.540000   \n",
            "8        0.075000    0.967767      0.145689                 346.010000   \n",
            "9        0.117647    0.988314      0.073587                 348.753333   \n",
            "\n",
            "   opp_avg_ppg_allowed_trend  opp_int_pg_trend  opp_sacks_pg_trend  \\\n",
            "0                        NaN               NaN                 NaN   \n",
            "1                  20.390000          1.560000            2.280000   \n",
            "2                  22.105000          1.135000            1.640000   \n",
            "3                  21.770000          1.153333            2.076667   \n",
            "4                  22.733333          1.060000            1.983333   \n",
            "5                  20.813333          1.096667            2.570000   \n",
            "6                  22.170000          0.923333            2.196667   \n",
            "7                  21.763333          0.653333            2.490000   \n",
            "8                  20.823333          0.733333            2.473333   \n",
            "9                  20.396667          0.733333            2.586667   \n",
            "\n",
            "   opp_fumbles_pg_trend  \n",
            "0                   NaN  \n",
            "1              0.440000  \n",
            "2              0.425000  \n",
            "3              0.380000  \n",
            "4              0.363333  \n",
            "5              0.443333  \n",
            "6              0.420000  \n",
            "7              0.426667  \n",
            "8              0.346667  \n",
            "9              0.420000  \n",
            "\n",
            "[10 rows x 151 columns]\n"
          ]
        }
      ]
    },
    {
      "cell_type": "markdown",
      "source": [
        "***Getting list of columns to select from***"
      ],
      "metadata": {
        "id": "stWcFfyOVv-i"
      }
    },
    {
      "cell_type": "code",
      "source": [
        "print(df_qb.columns.tolist())"
      ],
      "metadata": {
        "id": "f-lDITNFV1nG",
        "outputId": "f7044a7b-6242-488d-957a-88d48d8744b7",
        "colab": {
          "base_uri": "https://localhost:8080/"
        }
      },
      "execution_count": 42,
      "outputs": [
        {
          "output_type": "stream",
          "name": "stdout",
          "text": [
            "['player_id', 'player_name', 'player_display_name', 'position', 'position_group', 'headshot_url', 'recent_team', 'season', 'week', 'season_type', 'opponent_team', 'completions', 'attempts', 'passing_yards', 'passing_tds', 'interceptions', 'sacks', 'sack_yards', 'sack_fumbles', 'sack_fumbles_lost', 'passing_air_yards', 'passing_yards_after_catch', 'passing_first_downs', 'passing_epa', 'passing_2pt_conversions', 'pacr', 'dakota', 'carries', 'rushing_yards', 'rushing_tds', 'rushing_fumbles', 'rushing_fumbles_lost', 'rushing_first_downs', 'rushing_epa', 'rushing_2pt_conversions', 'receptions', 'targets', 'receiving_yards', 'receiving_tds', 'receiving_fumbles', 'receiving_fumbles_lost', 'receiving_air_yards', 'receiving_yards_after_catch', 'receiving_first_downs', 'receiving_epa', 'receiving_2pt_conversions', 'racr', 'target_share', 'air_yards_share', 'wopr', 'special_teams_tds', 'fantasy_points', 'fantasy_points_ppr', 'half_PPR', 'depth_pos', 'offense_snaps', 'offense_pct', 'opp_avg_ypg_allowed', 'opp_avg_ppg_allowed', 'opp_int_pg', 'opp_fumbles_pg', 'opp_df_tds_pg', 'opp_sacks_pg', 'team', 'fg_made', 'fg_att', 'fg_missed', 'fg_blocked', 'fg_long', 'fg_pct', 'fg_made_0_19', 'fg_made_20_29', 'fg_made_30_39', 'fg_made_40_49', 'fg_made_50_59', 'fg_made_60_', 'fg_missed_0_19', 'fg_missed_20_29', 'fg_missed_30_39', 'fg_missed_40_49', 'fg_missed_50_59', 'fg_missed_60_', 'fg_made_list', 'fg_missed_list', 'fg_blocked_list', 'fg_made_distance', 'fg_missed_distance', 'fg_blocked_distance', 'pat_made', 'pat_att', 'pat_missed', 'pat_blocked', 'pat_pct', 'gwfg_att', 'gwfg_distance', 'gwfg_made', 'gwfg_missed', 'gwfg_blocked', 'total_yards', 'total_tds', 'fumbles_recovered', 'kicking_points', 'blocked_kicks', 'df_tds', 'total_points_allowed', 'yards_points', 'points_fp', 'st_tds', 'espn_id', 'name', 'age', 'height', 'weight', 'college', 'cur_Fteam', 'cur_roster_slot', 'passing_yards_last3', 'passing_tds_last3', 'interceptions_last3', 'passing_epa_last3', 'rushing_yards_last3', 'rushing_tds_last3', 'completions_last3', 'attempts_last3', 'fantasy_points_ppr_last3', 'passing_air_yards_last3', 'passing_yards_after_catch_last3', 'rushing_fumbles_lost_last3', 'rushing_epa_last3', 'rushing_2pt_conversions_last3', 'passing_2pt_conversions_last3', 'passing_yards_season_avg', 'passing_tds_season_avg', 'interceptions_season_avg', 'rushing_yards_season_avg', 'rushing_tds_season_avg', 'fantasy_points_ppr_season_avg', 'yards_per_attempt', 'comp%', 'pass_attempts_shifted', 'comp_pct_last3', 'yards_per_attempt_last3', 'td_rate_last3', 'int_rate_last3', 'pacr_trend', 'dakota_trend', 'opp_avg_ypg_allowed_trend', 'opp_avg_ppg_allowed_trend', 'opp_int_pg_trend', 'opp_sacks_pg_trend', 'opp_fumbles_pg_trend']\n"
          ]
        }
      ]
    },
    {
      "cell_type": "code",
      "source": [
        "TARGET_COL = 'fantasy_points_ppr'\n",
        "\n",
        "train_df = df_qb[\n",
        "    (df_qb[TARGET_COL].notna()) &\n",
        "    (\n",
        "        (df_qb['season'] < 2024) |\n",
        "        ((df_qb['season'] == 2024) & (df_qb['week'] < 14))\n",
        "    )\n",
        "]\n",
        "\n",
        "test_df = df_qb[(df_qb['season'] == 2024) & (df_qb['week'] == 14)]\n",
        "\n",
        "\n",
        "feature_cols = [\n",
        "    col for col in df_qb.columns\n",
        "    if col.endswith('_last3') or col.endswith('_trend') or col.endswith('_season_avg')\n",
        "] + ['player_display_name','season', 'week', 'opponent_team']\n",
        "\n",
        "\n",
        "X_train = train_df[feature_cols]\n",
        "y_train = train_df[TARGET_COL]\n",
        "\n",
        "X_test = test_df[feature_cols]"
      ],
      "metadata": {
        "id": "utL4jQbhZBvE"
      },
      "execution_count": 19,
      "outputs": []
    },
    {
      "cell_type": "code",
      "source": [
        "#!pip install --upgrade numpy\n",
        "\n",
        "#!pip uninstall -y catboost\n",
        "!pip install catboost --no-cache-dir\n"
      ],
      "metadata": {
        "id": "KGK2Pirla8Gd",
        "outputId": "69f43027-2521-48af-ba12-86bfd037036e",
        "colab": {
          "base_uri": "https://localhost:8080/",
          "height": 999
        }
      },
      "execution_count": 68,
      "outputs": [
        {
          "output_type": "stream",
          "name": "stdout",
          "text": [
            "Requirement already satisfied: numpy in /usr/local/lib/python3.11/dist-packages (1.26.4)\n",
            "Collecting numpy\n",
            "  Downloading numpy-2.2.4-cp311-cp311-manylinux_2_17_x86_64.manylinux2014_x86_64.whl.metadata (62 kB)\n",
            "\u001b[2K     \u001b[90m━━━━━━━━━━━━━━━━━━━━━━━━━━━━━━━━━━━━━━━━\u001b[0m \u001b[32m62.0/62.0 kB\u001b[0m \u001b[31m1.7 MB/s\u001b[0m eta \u001b[36m0:00:00\u001b[0m\n",
            "\u001b[?25hDownloading numpy-2.2.4-cp311-cp311-manylinux_2_17_x86_64.manylinux2014_x86_64.whl (16.4 MB)\n",
            "\u001b[2K   \u001b[90m━━━━━━━━━━━━━━━━━━━━━━━━━━━━━━━━━━━━━━━━\u001b[0m \u001b[32m16.4/16.4 MB\u001b[0m \u001b[31m33.2 MB/s\u001b[0m eta \u001b[36m0:00:00\u001b[0m\n",
            "\u001b[?25hInstalling collected packages: numpy\n",
            "  Attempting uninstall: numpy\n",
            "    Found existing installation: numpy 1.26.4\n",
            "    Uninstalling numpy-1.26.4:\n",
            "      Successfully uninstalled numpy-1.26.4\n",
            "\u001b[31mERROR: pip's dependency resolver does not currently take into account all the packages that are installed. This behaviour is the source of the following dependency conflicts.\n",
            "catboost 1.2.7 requires numpy<2.0,>=1.16.0, but you have numpy 2.2.4 which is incompatible.\n",
            "numba 0.60.0 requires numpy<2.1,>=1.22, but you have numpy 2.2.4 which is incompatible.\n",
            "tensorflow 2.18.0 requires numpy<2.1.0,>=1.26.0, but you have numpy 2.2.4 which is incompatible.\u001b[0m\u001b[31m\n",
            "\u001b[0mSuccessfully installed numpy-2.2.4\n",
            "Found existing installation: catboost 1.2.7\n",
            "Uninstalling catboost-1.2.7:\n",
            "  Successfully uninstalled catboost-1.2.7\n",
            "Collecting catboost\n",
            "  Downloading catboost-1.2.7-cp311-cp311-manylinux2014_x86_64.whl.metadata (1.2 kB)\n",
            "Requirement already satisfied: graphviz in /usr/local/lib/python3.11/dist-packages (from catboost) (0.20.3)\n",
            "Requirement already satisfied: matplotlib in /usr/local/lib/python3.11/dist-packages (from catboost) (3.10.0)\n",
            "Collecting numpy<2.0,>=1.16.0 (from catboost)\n",
            "  Downloading numpy-1.26.4-cp311-cp311-manylinux_2_17_x86_64.manylinux2014_x86_64.whl.metadata (61 kB)\n",
            "\u001b[2K     \u001b[90m━━━━━━━━━━━━━━━━━━━━━━━━━━━━━━━━━━━━━━━━\u001b[0m \u001b[32m61.0/61.0 kB\u001b[0m \u001b[31m6.8 MB/s\u001b[0m eta \u001b[36m0:00:00\u001b[0m\n",
            "\u001b[?25hRequirement already satisfied: pandas>=0.24 in /usr/local/lib/python3.11/dist-packages (from catboost) (2.2.2)\n",
            "Requirement already satisfied: scipy in /usr/local/lib/python3.11/dist-packages (from catboost) (1.14.1)\n",
            "Requirement already satisfied: plotly in /usr/local/lib/python3.11/dist-packages (from catboost) (5.24.1)\n",
            "Requirement already satisfied: six in /usr/local/lib/python3.11/dist-packages (from catboost) (1.17.0)\n",
            "Requirement already satisfied: python-dateutil>=2.8.2 in /usr/local/lib/python3.11/dist-packages (from pandas>=0.24->catboost) (2.8.2)\n",
            "Requirement already satisfied: pytz>=2020.1 in /usr/local/lib/python3.11/dist-packages (from pandas>=0.24->catboost) (2025.1)\n",
            "Requirement already satisfied: tzdata>=2022.7 in /usr/local/lib/python3.11/dist-packages (from pandas>=0.24->catboost) (2025.1)\n",
            "Requirement already satisfied: contourpy>=1.0.1 in /usr/local/lib/python3.11/dist-packages (from matplotlib->catboost) (1.3.1)\n",
            "Requirement already satisfied: cycler>=0.10 in /usr/local/lib/python3.11/dist-packages (from matplotlib->catboost) (0.12.1)\n",
            "Requirement already satisfied: fonttools>=4.22.0 in /usr/local/lib/python3.11/dist-packages (from matplotlib->catboost) (4.56.0)\n",
            "Requirement already satisfied: kiwisolver>=1.3.1 in /usr/local/lib/python3.11/dist-packages (from matplotlib->catboost) (1.4.8)\n",
            "Requirement already satisfied: packaging>=20.0 in /usr/local/lib/python3.11/dist-packages (from matplotlib->catboost) (24.2)\n",
            "Requirement already satisfied: pillow>=8 in /usr/local/lib/python3.11/dist-packages (from matplotlib->catboost) (11.1.0)\n",
            "Requirement already satisfied: pyparsing>=2.3.1 in /usr/local/lib/python3.11/dist-packages (from matplotlib->catboost) (3.2.1)\n",
            "Requirement already satisfied: tenacity>=6.2.0 in /usr/local/lib/python3.11/dist-packages (from plotly->catboost) (9.0.0)\n",
            "Downloading catboost-1.2.7-cp311-cp311-manylinux2014_x86_64.whl (98.7 MB)\n",
            "\u001b[2K   \u001b[90m━━━━━━━━━━━━━━━━━━━━━━━━━━━━━━━━━━━━━━━━\u001b[0m \u001b[32m98.7/98.7 MB\u001b[0m \u001b[31m126.6 MB/s\u001b[0m eta \u001b[36m0:00:00\u001b[0m\n",
            "\u001b[?25hDownloading numpy-1.26.4-cp311-cp311-manylinux_2_17_x86_64.manylinux2014_x86_64.whl (18.3 MB)\n",
            "\u001b[2K   \u001b[90m━━━━━━━━━━━━━━━━━━━━━━━━━━━━━━━━━━━━━━━━\u001b[0m \u001b[32m18.3/18.3 MB\u001b[0m \u001b[31m93.3 MB/s\u001b[0m eta \u001b[36m0:00:00\u001b[0m\n",
            "\u001b[?25hInstalling collected packages: numpy, catboost\n",
            "  Attempting uninstall: numpy\n",
            "    Found existing installation: numpy 2.2.4\n",
            "    Uninstalling numpy-2.2.4:\n",
            "      Successfully uninstalled numpy-2.2.4\n",
            "Successfully installed catboost-1.2.7 numpy-1.26.4\n"
          ]
        },
        {
          "output_type": "display_data",
          "data": {
            "application/vnd.colab-display-data+json": {
              "pip_warning": {
                "packages": [
                  "_catboost"
                ]
              },
              "id": "78ca3449dd0a4554807d021d5b04ed67"
            }
          },
          "metadata": {}
        }
      ]
    },
    {
      "cell_type": "code",
      "source": [
        "from catboost import CatBoostRegressor, Pool"
      ],
      "metadata": {
        "id": "OgNsK172bgbn"
      },
      "execution_count": 20,
      "outputs": []
    },
    {
      "cell_type": "code",
      "source": [
        "categorical_cols = ['opponent_team', 'season', 'week', 'player_display_name']\n",
        "\n",
        "# Create Pool objects\n",
        "train_pool = Pool(data=X_train, label=y_train, cat_features=categorical_cols)\n",
        "test_pool = Pool(data=X_test, cat_features=categorical_cols)\n",
        "\n",
        "# Initialize the CatBoost model\n",
        "model = CatBoostRegressor(\n",
        "    iterations=200,\n",
        "    learning_rate=0.1,\n",
        "    depth=6,\n",
        "    loss_function='RMSEWithUncertainty',\n",
        "    random_seed=42,\n",
        "    verbose=50  # or 0 to suppress output\n",
        ")\n",
        "\n",
        "# Train\n",
        "model.fit(train_pool)"
      ],
      "metadata": {
        "id": "YP-yFJe5bAPz",
        "outputId": "86f1c516-7234-44c1-f11f-1c1180b5c27c",
        "colab": {
          "base_uri": "https://localhost:8080/"
        }
      },
      "execution_count": 24,
      "outputs": [
        {
          "output_type": "stream",
          "name": "stdout",
          "text": [
            "0:\tlearn: 3.5902913\ttotal: 16.5ms\tremaining: 3.28s\n",
            "50:\tlearn: 3.2442035\ttotal: 1.86s\tremaining: 5.44s\n",
            "100:\tlearn: 3.1435875\ttotal: 3.2s\tremaining: 3.13s\n",
            "150:\tlearn: 3.0344682\ttotal: 4.16s\tremaining: 1.35s\n",
            "199:\tlearn: 2.9331765\ttotal: 5.12s\tremaining: 0us\n"
          ]
        },
        {
          "output_type": "execute_result",
          "data": {
            "text/plain": [
              "<catboost.core.CatBoostRegressor at 0x7bdac9f2e750>"
            ]
          },
          "metadata": {},
          "execution_count": 24
        }
      ]
    },
    {
      "cell_type": "code",
      "source": [
        "y_pred = model.predict(test_pool, prediction_type='TotalUncertainty')\n",
        "\n",
        "# Attach predictions to test set for review\n",
        "#X_test_copy = X_test.copy()\n",
        "#X_test_copy['predicted_fantasy_points'] = y_pred\n",
        "\n",
        "#print(X_test_copy[['season', 'week', 'opponent_team', 'predicted_fantasy_points', 'player_display_name']])"
      ],
      "metadata": {
        "id": "l6LPhDGCcr5R",
        "outputId": "0556c4de-b7fc-4ba5-b286-3f95e679371a",
        "colab": {
          "base_uri": "https://localhost:8080/",
          "height": 356
        }
      },
      "execution_count": 26,
      "outputs": [
        {
          "output_type": "error",
          "ename": "CatBoostError",
          "evalue": "Invalid value of prediction_type=TotalUncertainty: must be Class, RawFormulaVal, Probability, LogProbability, Exponent, RMSEWithUncertainty.",
          "traceback": [
            "\u001b[0;31m---------------------------------------------------------------------------\u001b[0m",
            "\u001b[0;31mCatBoostError\u001b[0m                             Traceback (most recent call last)",
            "\u001b[0;32m<ipython-input-26-ffed02ad5311>\u001b[0m in \u001b[0;36m<cell line: 0>\u001b[0;34m()\u001b[0m\n\u001b[0;32m----> 1\u001b[0;31m \u001b[0my_pred\u001b[0m \u001b[0;34m=\u001b[0m \u001b[0mmodel\u001b[0m\u001b[0;34m.\u001b[0m\u001b[0mpredict\u001b[0m\u001b[0;34m(\u001b[0m\u001b[0mtest_pool\u001b[0m\u001b[0;34m,\u001b[0m \u001b[0mprediction_type\u001b[0m\u001b[0;34m=\u001b[0m\u001b[0;34m'TotalUncertainty'\u001b[0m\u001b[0;34m)\u001b[0m\u001b[0;34m\u001b[0m\u001b[0;34m\u001b[0m\u001b[0m\n\u001b[0m\u001b[1;32m      2\u001b[0m \u001b[0;34m\u001b[0m\u001b[0m\n\u001b[1;32m      3\u001b[0m \u001b[0;31m# Attach predictions to test set for review\u001b[0m\u001b[0;34m\u001b[0m\u001b[0;34m\u001b[0m\u001b[0m\n\u001b[1;32m      4\u001b[0m \u001b[0;31m#X_test_copy = X_test.copy()\u001b[0m\u001b[0;34m\u001b[0m\u001b[0;34m\u001b[0m\u001b[0m\n\u001b[1;32m      5\u001b[0m \u001b[0;31m#X_test_copy['predicted_fantasy_points'] = y_pred\u001b[0m\u001b[0;34m\u001b[0m\u001b[0;34m\u001b[0m\u001b[0m\n",
            "\u001b[0;32m/usr/local/lib/python3.11/dist-packages/catboost/core.py\u001b[0m in \u001b[0;36mpredict\u001b[0;34m(self, data, prediction_type, ntree_start, ntree_end, thread_count, verbose, task_type)\u001b[0m\n\u001b[1;32m   5922\u001b[0m         \u001b[0;32mif\u001b[0m \u001b[0mprediction_type\u001b[0m \u001b[0;32mis\u001b[0m \u001b[0;32mNone\u001b[0m\u001b[0;34m:\u001b[0m\u001b[0;34m\u001b[0m\u001b[0;34m\u001b[0m\u001b[0m\n\u001b[1;32m   5923\u001b[0m             \u001b[0mprediction_type\u001b[0m \u001b[0;34m=\u001b[0m \u001b[0mself\u001b[0m\u001b[0;34m.\u001b[0m\u001b[0m_get_default_prediction_type\u001b[0m\u001b[0;34m(\u001b[0m\u001b[0;34m)\u001b[0m\u001b[0;34m\u001b[0m\u001b[0;34m\u001b[0m\u001b[0m\n\u001b[0;32m-> 5924\u001b[0;31m         \u001b[0;32mreturn\u001b[0m \u001b[0mself\u001b[0m\u001b[0;34m.\u001b[0m\u001b[0m_predict\u001b[0m\u001b[0;34m(\u001b[0m\u001b[0mdata\u001b[0m\u001b[0;34m,\u001b[0m \u001b[0mprediction_type\u001b[0m\u001b[0;34m,\u001b[0m \u001b[0mntree_start\u001b[0m\u001b[0;34m,\u001b[0m \u001b[0mntree_end\u001b[0m\u001b[0;34m,\u001b[0m \u001b[0mthread_count\u001b[0m\u001b[0;34m,\u001b[0m \u001b[0mverbose\u001b[0m\u001b[0;34m,\u001b[0m \u001b[0;34m'predict'\u001b[0m\u001b[0;34m,\u001b[0m \u001b[0mtask_type\u001b[0m\u001b[0;34m)\u001b[0m\u001b[0;34m\u001b[0m\u001b[0;34m\u001b[0m\u001b[0m\n\u001b[0m\u001b[1;32m   5925\u001b[0m \u001b[0;34m\u001b[0m\u001b[0m\n\u001b[1;32m   5926\u001b[0m     \u001b[0;32mdef\u001b[0m \u001b[0mstaged_predict\u001b[0m\u001b[0;34m(\u001b[0m\u001b[0mself\u001b[0m\u001b[0;34m,\u001b[0m \u001b[0mdata\u001b[0m\u001b[0;34m,\u001b[0m \u001b[0mprediction_type\u001b[0m\u001b[0;34m=\u001b[0m\u001b[0;34m'RawFormulaVal'\u001b[0m\u001b[0;34m,\u001b[0m \u001b[0mntree_start\u001b[0m\u001b[0;34m=\u001b[0m\u001b[0;36m0\u001b[0m\u001b[0;34m,\u001b[0m \u001b[0mntree_end\u001b[0m\u001b[0;34m=\u001b[0m\u001b[0;36m0\u001b[0m\u001b[0;34m,\u001b[0m \u001b[0meval_period\u001b[0m\u001b[0;34m=\u001b[0m\u001b[0;36m1\u001b[0m\u001b[0;34m,\u001b[0m \u001b[0mthread_count\u001b[0m\u001b[0;34m=\u001b[0m\u001b[0;34m-\u001b[0m\u001b[0;36m1\u001b[0m\u001b[0;34m,\u001b[0m \u001b[0mverbose\u001b[0m\u001b[0;34m=\u001b[0m\u001b[0;32mNone\u001b[0m\u001b[0;34m)\u001b[0m\u001b[0;34m:\u001b[0m\u001b[0;34m\u001b[0m\u001b[0;34m\u001b[0m\u001b[0m\n",
            "\u001b[0;32m/usr/local/lib/python3.11/dist-packages/catboost/core.py\u001b[0m in \u001b[0;36m_predict\u001b[0;34m(self, data, prediction_type, ntree_start, ntree_end, thread_count, verbose, parent_method_name, task_type)\u001b[0m\n\u001b[1;32m   2619\u001b[0m             \u001b[0mverbose\u001b[0m \u001b[0;34m=\u001b[0m \u001b[0;32mFalse\u001b[0m\u001b[0;34m\u001b[0m\u001b[0;34m\u001b[0m\u001b[0m\n\u001b[1;32m   2620\u001b[0m         \u001b[0mdata\u001b[0m\u001b[0;34m,\u001b[0m \u001b[0mdata_is_single_object\u001b[0m \u001b[0;34m=\u001b[0m \u001b[0mself\u001b[0m\u001b[0;34m.\u001b[0m\u001b[0m_process_predict_input_data\u001b[0m\u001b[0;34m(\u001b[0m\u001b[0mdata\u001b[0m\u001b[0;34m,\u001b[0m \u001b[0mparent_method_name\u001b[0m\u001b[0;34m,\u001b[0m \u001b[0mthread_count\u001b[0m\u001b[0;34m)\u001b[0m\u001b[0;34m\u001b[0m\u001b[0;34m\u001b[0m\u001b[0m\n\u001b[0;32m-> 2621\u001b[0;31m         \u001b[0mself\u001b[0m\u001b[0;34m.\u001b[0m\u001b[0m_validate_prediction_type\u001b[0m\u001b[0;34m(\u001b[0m\u001b[0mprediction_type\u001b[0m\u001b[0;34m)\u001b[0m\u001b[0;34m\u001b[0m\u001b[0;34m\u001b[0m\u001b[0m\n\u001b[0m\u001b[1;32m   2622\u001b[0m \u001b[0;34m\u001b[0m\u001b[0m\n\u001b[1;32m   2623\u001b[0m         \u001b[0mpredictions\u001b[0m \u001b[0;34m=\u001b[0m \u001b[0mself\u001b[0m\u001b[0;34m.\u001b[0m\u001b[0m_base_predict\u001b[0m\u001b[0;34m(\u001b[0m\u001b[0mdata\u001b[0m\u001b[0;34m,\u001b[0m \u001b[0mprediction_type\u001b[0m\u001b[0;34m,\u001b[0m \u001b[0mntree_start\u001b[0m\u001b[0;34m,\u001b[0m \u001b[0mntree_end\u001b[0m\u001b[0;34m,\u001b[0m \u001b[0mthread_count\u001b[0m\u001b[0;34m,\u001b[0m \u001b[0mverbose\u001b[0m\u001b[0;34m,\u001b[0m \u001b[0mtask_type\u001b[0m\u001b[0;34m)\u001b[0m\u001b[0;34m\u001b[0m\u001b[0;34m\u001b[0m\u001b[0m\n",
            "\u001b[0;32m/usr/local/lib/python3.11/dist-packages/catboost/core.py\u001b[0m in \u001b[0;36m_validate_prediction_type\u001b[0;34m(self, prediction_type, valid_prediction_types)\u001b[0m\n\u001b[1;32m   2612\u001b[0m             \u001b[0;32mraise\u001b[0m \u001b[0mCatBoostError\u001b[0m\u001b[0;34m(\u001b[0m\u001b[0;34m\"Invalid prediction_type type={}: must be str().\"\u001b[0m\u001b[0;34m.\u001b[0m\u001b[0mformat\u001b[0m\u001b[0;34m(\u001b[0m\u001b[0mtype\u001b[0m\u001b[0;34m(\u001b[0m\u001b[0mprediction_type\u001b[0m\u001b[0;34m)\u001b[0m\u001b[0;34m)\u001b[0m\u001b[0;34m)\u001b[0m\u001b[0;34m\u001b[0m\u001b[0;34m\u001b[0m\u001b[0m\n\u001b[1;32m   2613\u001b[0m         \u001b[0;32mif\u001b[0m \u001b[0mprediction_type\u001b[0m \u001b[0;32mnot\u001b[0m \u001b[0;32min\u001b[0m \u001b[0mvalid_prediction_types\u001b[0m\u001b[0;34m:\u001b[0m\u001b[0;34m\u001b[0m\u001b[0;34m\u001b[0m\u001b[0m\n\u001b[0;32m-> 2614\u001b[0;31m             \u001b[0;32mraise\u001b[0m \u001b[0mCatBoostError\u001b[0m\u001b[0;34m(\u001b[0m\u001b[0;34m\"Invalid value of prediction_type={}: must be {}.\"\u001b[0m\u001b[0;34m.\u001b[0m\u001b[0mformat\u001b[0m\u001b[0;34m(\u001b[0m\u001b[0mprediction_type\u001b[0m\u001b[0;34m,\u001b[0m \u001b[0;34m', '\u001b[0m\u001b[0;34m.\u001b[0m\u001b[0mjoin\u001b[0m\u001b[0;34m(\u001b[0m\u001b[0mvalid_prediction_types\u001b[0m\u001b[0;34m)\u001b[0m\u001b[0;34m)\u001b[0m\u001b[0;34m)\u001b[0m\u001b[0;34m\u001b[0m\u001b[0;34m\u001b[0m\u001b[0m\n\u001b[0m\u001b[1;32m   2615\u001b[0m \u001b[0;34m\u001b[0m\u001b[0m\n\u001b[1;32m   2616\u001b[0m     \u001b[0;32mdef\u001b[0m \u001b[0m_predict\u001b[0m\u001b[0;34m(\u001b[0m\u001b[0mself\u001b[0m\u001b[0;34m,\u001b[0m \u001b[0mdata\u001b[0m\u001b[0;34m,\u001b[0m \u001b[0mprediction_type\u001b[0m\u001b[0;34m,\u001b[0m \u001b[0mntree_start\u001b[0m\u001b[0;34m,\u001b[0m \u001b[0mntree_end\u001b[0m\u001b[0;34m,\u001b[0m \u001b[0mthread_count\u001b[0m\u001b[0;34m,\u001b[0m \u001b[0mverbose\u001b[0m\u001b[0;34m,\u001b[0m \u001b[0mparent_method_name\u001b[0m\u001b[0;34m,\u001b[0m \u001b[0mtask_type\u001b[0m\u001b[0;34m=\u001b[0m\u001b[0;34m\"CPU\"\u001b[0m\u001b[0;34m)\u001b[0m\u001b[0;34m:\u001b[0m\u001b[0;34m\u001b[0m\u001b[0;34m\u001b[0m\u001b[0m\n",
            "\u001b[0;31mCatBoostError\u001b[0m: Invalid value of prediction_type=TotalUncertainty: must be Class, RawFormulaVal, Probability, LogProbability, Exponent, RMSEWithUncertainty."
          ]
        }
      ]
    },
    {
      "cell_type": "code",
      "source": [
        "preds = np.array(y_pred)\n",
        "y_pred = preds[:, 0]\n",
        "std_dev = preds[:, 1]\n",
        "\n",
        "ci_upper = y_pred + 1.645 * std_dev\n",
        "ci_lower = y_pred - 1.645 * std_dev"
      ],
      "metadata": {
        "id": "8qbvkxOid8Ar"
      },
      "execution_count": null,
      "outputs": []
    },
    {
      "cell_type": "code",
      "source": [
        "X_test_copy = X_test.copy()\n",
        "X_test_copy['predicted_fp'] = y_pred\n",
        "X_test_copy['ci_lower_90'] = ci_lower\n",
        "X_test_copy['ci_upper_90'] = ci_upper\n",
        "\n",
        "# Optional: define boom/bust\n",
        "X_test_copy['result_type'] = 'neutral'  # default\n",
        "X_test_copy.loc[X_test_copy['fantasy_points_ppr'] > X_test_copy['ci_upper_90'], 'result_type'] = 'boom'\n",
        "X_test_copy.loc[X_test_copy['fantasy_points_ppr'] < X_test_copy['ci_lower_90'], 'result_type'] = 'bust'"
      ],
      "metadata": {
        "id": "_hSU0hEYeG65"
      },
      "execution_count": null,
      "outputs": []
    },
    {
      "cell_type": "markdown",
      "source": [
        "### *old*"
      ],
      "metadata": {
        "id": "KT2RDcRPa2F5"
      }
    },
    {
      "cell_type": "code",
      "source": [
        "train_qb = weekly_stats_all[\n",
        "    ((weekly_stats_all['season'].astype(int) < 2024) |\n",
        "     ((weekly_stats_all['season'].astype(int) == 2024) & (weekly_stats_all['week'].astype(int) < 14))) &\n",
        "    (weekly_stats_all['position'] == 'QB')\n",
        "].copy()\n",
        "\n",
        "# Test: only QBs from Week 14 of 2024\n",
        "test_qb = weekly_stats_all[\n",
        "    (weekly_stats_all['season'].astype(int) == 2024) &\n",
        "    (weekly_stats_all['week'].astype(int) == 14) &\n",
        "    (weekly_stats_all['position'] == 'QB')\n",
        "].copy()\n",
        "\n",
        "test_qb = test_qb.dropna(subset=[\"fantasy_points\"])"
      ],
      "metadata": {
        "id": "WwjWGcoEChhX"
      },
      "execution_count": null,
      "outputs": []
    },
    {
      "cell_type": "code",
      "source": [
        "!pip uninstall -y numpy\n",
        "!pip install numpy==1.24.4\n",
        "!pip install catboost"
      ],
      "metadata": {
        "id": "qZyANbC3H8Jv"
      },
      "execution_count": null,
      "outputs": []
    },
    {
      "cell_type": "code",
      "source": [
        "from catboost import CatBoostRegressor, Pool\n",
        "from sklearn.metrics import mean_absolute_error, r2_score"
      ],
      "metadata": {
        "id": "ddVt6y0sHRHl"
      },
      "execution_count": null,
      "outputs": []
    },
    {
      "cell_type": "markdown",
      "source": [
        "**Defining features to be used**"
      ],
      "metadata": {
        "id": "K4PBvwYgdffJ"
      }
    },
    {
      "cell_type": "code",
      "source": [
        "categorical_features = ['team', 'opponent_team']  # these are column names, not indices\n",
        "numerical_features = features = [\n",
        "    'completions', 'attempts', 'passing_yards', 'passing_tds', 'interceptions',\n",
        "    'sacks', 'sack_yards', 'sack_fumbles', 'sack_fumbles_lost',\n",
        "    'passing_air_yards', 'passing_yards_after_catch', 'passing_first_downs',\n",
        "    'passing_epa', 'passing_2pt_conversions', 'pacr', 'dakota',\n",
        "    'carries', 'rushing_yards', 'rushing_tds',\n",
        "    'rushing_fumbles', 'rushing_fumbles_lost', 'rushing_first_downs',\n",
        "    'rushing_epa', 'rushing_2pt_conversions',\n",
        "    'racr', 'wopr',\n",
        "    'offense_snaps', 'offense_pct',\n",
        "    'opp_avg_ypg_allowed', 'opp_avg_ppg_allowed', 'opp_int_pg',\n",
        "    'opp_fumbles_pg', 'opp_df_tds_pg', 'opp_sacks_pg', 'age', 'week', 'season'\n",
        "] # adjust as needed\n",
        "\n",
        "features = categorical_features + numerical_features\n",
        "target = 'fantasy_points'"
      ],
      "metadata": {
        "id": "pezjcaB6HVup"
      },
      "execution_count": null,
      "outputs": []
    },
    {
      "cell_type": "markdown",
      "source": [
        "**Creating test and train sets**"
      ],
      "metadata": {
        "id": "5JpViSL9dnxg"
      }
    },
    {
      "cell_type": "code",
      "source": [
        "X_train = train_qb[features]\n",
        "y_train = train_qb[target]\n",
        "\n",
        "X_test = test_qb[features]\n",
        "y_test = test_qb[target]"
      ],
      "metadata": {
        "id": "bckIGNBVdrNG"
      },
      "execution_count": null,
      "outputs": []
    },
    {
      "cell_type": "code",
      "source": [
        "# Drop rows where the target is NaN\n",
        "train_mask = ~y_train.isna()\n",
        "X_train = X_train[train_mask]\n",
        "y_train = y_train[train_mask]\n",
        "\n",
        "test_mask = ~y_test.isna()\n",
        "X_test = X_test[test_mask]\n",
        "y_test = y_test[test_mask]"
      ],
      "metadata": {
        "id": "dhHwPVB8g0aY"
      },
      "execution_count": null,
      "outputs": []
    },
    {
      "cell_type": "markdown",
      "source": [
        "**Training the model**"
      ],
      "metadata": {
        "id": "mtYTx4_odumv"
      }
    },
    {
      "cell_type": "code",
      "source": [
        "for col in categorical_features:\n",
        "    X_train[col] = X_train[col].fillna(\"NA\").astype(str)\n",
        "    X_test[col] = X_test[col].fillna(\"NA\").astype(str)"
      ],
      "metadata": {
        "id": "66jjOxJHgMwq"
      },
      "execution_count": null,
      "outputs": []
    },
    {
      "cell_type": "code",
      "source": [
        "train_pool = Pool(X_train, y_train, cat_features=categorical_features)\n",
        "test_pool = Pool(X_test, y_test, cat_features=categorical_features)\n",
        "\n",
        "# 7. Train the model\n",
        "model = CatBoostRegressor(\n",
        "    iterations=300,\n",
        "    learning_rate=0.05,\n",
        "    depth=6,\n",
        "    loss_function='RMSE',\n",
        "    random_seed=42,\n",
        "    verbose=50\n",
        ")\n",
        "\n",
        "model.fit(train_pool)"
      ],
      "metadata": {
        "id": "ZEUzAOTeddul",
        "outputId": "4d0a3e84-edd3-448f-b66e-4b2f4731d141",
        "colab": {
          "base_uri": "https://localhost:8080/"
        }
      },
      "execution_count": null,
      "outputs": [
        {
          "output_type": "stream",
          "name": "stdout",
          "text": [
            "0:\tlearn: 8.6098981\ttotal: 5.42ms\tremaining: 1.62s\n",
            "50:\tlearn: 2.1120422\ttotal: 264ms\tremaining: 1.29s\n",
            "100:\tlearn: 1.1098378\ttotal: 517ms\tremaining: 1.02s\n",
            "150:\tlearn: 0.8242850\ttotal: 780ms\tremaining: 769ms\n",
            "200:\tlearn: 0.6784543\ttotal: 1.02s\tremaining: 504ms\n",
            "250:\tlearn: 0.5612642\ttotal: 1.28s\tremaining: 249ms\n",
            "299:\tlearn: 0.4891954\ttotal: 1.51s\tremaining: 0us\n"
          ]
        },
        {
          "output_type": "execute_result",
          "data": {
            "text/plain": [
              "<catboost.core.CatBoostRegressor at 0x79a6ebde9490>"
            ]
          },
          "metadata": {},
          "execution_count": 88
        }
      ]
    },
    {
      "cell_type": "markdown",
      "source": [
        "**Testing and evaluating the model**"
      ],
      "metadata": {
        "id": "HNTaqC1ndw5U"
      }
    },
    {
      "cell_type": "code",
      "source": [
        "# 8. Predict and evaluate\n",
        "y_pred = model.predict(test_pool)\n",
        "mae = mean_absolute_error(y_test, y_pred)\n",
        "r2 = r2_score(y_test, y_pred)\n",
        "\n",
        "print(f\"MAE on Week 14 of 2024: {mae:.2f}\")\n",
        "print(f\"R² Score: {r2:.3f}\")\n",
        "\n",
        "# 9. Attach predictions to test data (optional)\n",
        "test_qb['predicted_fp'] = y_pred"
      ],
      "metadata": {
        "id": "H9wPB_d5d0XO",
        "outputId": "e4a945b4-b2be-4b15-b849-0a261666c383",
        "colab": {
          "base_uri": "https://localhost:8080/"
        }
      },
      "execution_count": null,
      "outputs": [
        {
          "output_type": "stream",
          "name": "stdout",
          "text": [
            "MAE on Week 14 of 2024: 0.67\n",
            "R² Score: 0.972\n"
          ]
        }
      ]
    },
    {
      "cell_type": "code",
      "source": [
        "qb_pred_results = test_qb[[\n",
        "    'player_display_name',\n",
        "    'position',\n",
        "    'team',\n",
        "    'fantasy_points'\n",
        "]].copy()\n",
        "\n",
        "qb_pred_results['proj_fp'] = test_qb['predicted_fp']\n",
        "\n",
        "# (Optional) Sort by projected points\n",
        "qb_pred_results = qb_pred_results.sort_values(by='proj_fp', ascending=False)\n",
        "\n",
        "# Show top rows\n",
        "print(qb_pred_results)"
      ],
      "metadata": {
        "id": "LN0GUG_5h2CC",
        "outputId": "572d312e-d9fc-4e69-c020-52b202f6a44c",
        "colab": {
          "base_uri": "https://localhost:8080/"
        }
      },
      "execution_count": null,
      "outputs": [
        {
          "output_type": "stream",
          "name": "stdout",
          "text": [
            "      player_display_name position team  fantasy_points    proj_fp\n",
            "18457          Josh Allen       QB  NaN           51.88  42.036743\n",
            "18484         Sam Darnold       QB  NaN           34.58  33.663590\n",
            "19480          Joe Burrow       QB  NaN           24.56  25.283274\n",
            "19359         Jalen Hurts       QB  NaN           24.22  24.771326\n",
            "19093      Tua Tagovailoa       QB  NaN           23.54  24.391290\n",
            "20581         Brock Purdy       QB  NaN           22.10  22.612483\n",
            "17510          Jared Goff       QB  NaN           22.02  22.472872\n",
            "16933    Matthew Stafford       QB  NaN           20.80  21.276920\n",
            "18439      Baker Mayfield       QB  NaN           19.00  19.034256\n",
            "18626        Kyler Murray       QB  NaN           17.96  17.665650\n",
            "16904       Aaron Rodgers       QB  NaN           17.56  17.589008\n",
            "16953      Russell Wilson       QB  NaN           16.02  16.184173\n",
            "18952           Drew Lock       QB  NaN           14.98  15.340196\n",
            "17192      Jameis Winston       QB  NaN           15.28  15.078296\n",
            "19316      Justin Herbert       QB  NaN           13.72  14.359289\n",
            "19190         Jordan Love       QB  NaN           14.54  14.120778\n",
            "17869     Patrick Mahomes       QB  NaN           14.10  14.112128\n",
            "22407      Caleb Williams       QB  NaN           14.06  13.766674\n",
            "17781         Cooper Rush       QB  NaN           13.82  13.613888\n",
            "17095          Geno Smith       QB  NaN           13.32  13.469593\n",
            "21657         Bryce Young       QB  NaN           12.54  12.955331\n",
            "17141          Derek Carr       QB  NaN           11.96  12.207955\n",
            "16971        Kirk Cousins       QB  NaN            9.76   9.903618\n",
            "21001     Aidan O'Connell       QB  NaN            6.76   7.219726\n",
            "21671          Will Levis       QB  NaN            7.02   6.789854\n",
            "19906           Mac Jones       QB  NaN            5.10   5.542021\n",
            "20735      Desmond Ridder       QB  NaN            4.34   3.842351\n",
            "20826        Tyson Bagent       QB  NaN            0.24   0.833858\n",
            "17272     Taylor Heinicke       QB  NaN            1.20   0.785430\n",
            "21451         Jake Haener       QB  NaN           -0.10   0.258374\n",
            "17624        Nick Mullens       QB  NaN           -0.20  -0.228705\n",
            "17368       Brandon Allen       QB  NaN           -2.00  -1.406953\n"
          ]
        }
      ]
    },
    {
      "cell_type": "markdown",
      "source": [
        "# **RB CatBoost Model**"
      ],
      "metadata": {
        "id": "-kWhb3YMjA6F"
      }
    },
    {
      "cell_type": "code",
      "source": [
        "train_rb = weekly_stats_all[\n",
        "    ((weekly_stats_all['season'].astype(int) < 2024) |\n",
        "     ((weekly_stats_all['season'].astype(int) == 2024) & (weekly_stats_all['week'].astype(int) < 14))) &\n",
        "    (weekly_stats_all['position'] == 'RB')\n",
        "].copy()\n",
        "\n",
        "# Test: only QBs from Week 14 of 2024\n",
        "test_rb = weekly_stats_all[\n",
        "    (weekly_stats_all['season'].astype(int) == 2024) &\n",
        "    (weekly_stats_all['week'].astype(int) == 14) &\n",
        "    (weekly_stats_all['position'] == 'RB')\n",
        "].copy()\n",
        "\n",
        "test_rb = test_rb.dropna(subset=[\"fantasy_points\"])"
      ],
      "metadata": {
        "id": "Pvy4t_vwi74-"
      },
      "execution_count": null,
      "outputs": []
    },
    {
      "cell_type": "code",
      "source": [
        "categorical_features = ['team', 'opponent_team', 'depth_pos']  # these are column names, not indices\n",
        "numerical_features = [\n",
        "    # Rushing\n",
        "    'carries', 'rushing_yards', 'rushing_tds', 'rushing_fumbles',\n",
        "    'rushing_fumbles_lost', 'rushing_first_downs', 'rushing_epa', 'rushing_2pt_conversions',\n",
        "\n",
        "    # Receiving\n",
        "    'receptions', 'targets', 'receiving_yards', 'receiving_tds', 'receiving_fumbles',\n",
        "    'receiving_fumbles_lost', 'receiving_air_yards', 'receiving_yards_after_catch',\n",
        "    'receiving_first_downs', 'receiving_epa', 'receiving_2pt_conversions',\n",
        "\n",
        "    # Advanced receiving usage (optional but helpful)\n",
        "    'racr', 'target_share', 'air_yards_share', 'wopr',\n",
        "\n",
        "    # Snap info\n",
        "    'offense_snaps', 'offense_pct',\n",
        "\n",
        "    # Opponent context\n",
        "    'opp_avg_ypg_allowed', 'opp_avg_ppg_allowed', 'opp_int_pg',\n",
        "    'opp_fumbles_pg', 'opp_df_tds_pg', 'opp_sacks_pg'\n",
        "] # adjust as needed\n",
        "\n",
        "features = categorical_features + numerical_features\n",
        "target = 'fantasy_points'"
      ],
      "metadata": {
        "id": "wtvyD0a4jJ7u"
      },
      "execution_count": null,
      "outputs": []
    },
    {
      "cell_type": "code",
      "source": [
        "X_train = train_rb[features]\n",
        "y_train = train_rb[target]\n",
        "\n",
        "X_test = test_rb[features]\n",
        "y_test = test_rb[target]"
      ],
      "metadata": {
        "id": "gtjs56xGjMbV"
      },
      "execution_count": null,
      "outputs": []
    },
    {
      "cell_type": "code",
      "source": [
        "# Drop rows where the target is NaN\n",
        "train_mask = ~y_train.isna()\n",
        "X_train = X_train[train_mask]\n",
        "y_train = y_train[train_mask]\n",
        "\n",
        "test_mask = ~y_test.isna()\n",
        "X_test = X_test[test_mask]\n",
        "y_test = y_test[test_mask]"
      ],
      "metadata": {
        "id": "2J0yp79DjOC8"
      },
      "execution_count": null,
      "outputs": []
    },
    {
      "cell_type": "code",
      "source": [
        "for col in categorical_features:\n",
        "    X_train[col] = X_train[col].fillna(\"NA\").astype(str)\n",
        "    X_test[col] = X_test[col].fillna(\"NA\").astype(str)"
      ],
      "metadata": {
        "id": "cjohKUPcjPec"
      },
      "execution_count": null,
      "outputs": []
    },
    {
      "cell_type": "code",
      "source": [
        "train_pool = Pool(X_train, y_train, cat_features=categorical_features)\n",
        "test_pool = Pool(X_test, y_test, cat_features=categorical_features)\n",
        "\n",
        "# 7. Train the model\n",
        "model = CatBoostRegressor(\n",
        "    iterations=300,\n",
        "    learning_rate=0.05,\n",
        "    depth=6,\n",
        "    loss_function='RMSE',\n",
        "    random_seed=42,\n",
        "    verbose=50\n",
        ")\n",
        "\n",
        "model.fit(train_pool)"
      ],
      "metadata": {
        "id": "16H7jAcGjQ6k",
        "outputId": "6411ccbf-e366-4cd3-c405-19c745856a88",
        "colab": {
          "base_uri": "https://localhost:8080/"
        }
      },
      "execution_count": null,
      "outputs": [
        {
          "output_type": "stream",
          "name": "stdout",
          "text": [
            "0:\tlearn: 6.6113045\ttotal: 10.3ms\tremaining: 3.09s\n",
            "50:\tlearn: 1.3104322\ttotal: 355ms\tremaining: 1.73s\n",
            "100:\tlearn: 0.6548834\ttotal: 848ms\tremaining: 1.67s\n",
            "150:\tlearn: 0.5279546\ttotal: 1.66s\tremaining: 1.64s\n",
            "200:\tlearn: 0.4722498\ttotal: 2.42s\tremaining: 1.19s\n",
            "250:\tlearn: 0.4319467\ttotal: 3.27s\tremaining: 638ms\n",
            "299:\tlearn: 0.3979848\ttotal: 4.09s\tremaining: 0us\n"
          ]
        },
        {
          "output_type": "execute_result",
          "data": {
            "text/plain": [
              "<catboost.core.CatBoostRegressor at 0x79a6e7048150>"
            ]
          },
          "metadata": {},
          "execution_count": 112
        }
      ]
    },
    {
      "cell_type": "code",
      "source": [
        "# 8. Predict and evaluate\n",
        "y_pred = model.predict(test_pool)\n",
        "mae = mean_absolute_error(y_test, y_pred)\n",
        "r2 = r2_score(y_test, y_pred)\n",
        "\n",
        "print(f\"MAE on Week 14 of 2024: {mae:.2f}\")\n",
        "print(f\"R² Score: {r2:.3f}\")\n",
        "\n",
        "# 9. Attach predictions to test data (optional)\n",
        "test_rb['predicted_fp'] = y_pred"
      ],
      "metadata": {
        "id": "OL1y-ucRjTFD",
        "outputId": "9f580b1c-8649-44b3-a0bc-b49c7786b47f",
        "colab": {
          "base_uri": "https://localhost:8080/"
        }
      },
      "execution_count": null,
      "outputs": [
        {
          "output_type": "stream",
          "name": "stdout",
          "text": [
            "MAE on Week 14 of 2024: 0.23\n",
            "R² Score: 0.998\n"
          ]
        }
      ]
    },
    {
      "cell_type": "code",
      "source": [
        "rb_pred_results = test_rb[[\n",
        "    'player_display_name',\n",
        "    'position',\n",
        "    'team',\n",
        "    'fantasy_points'\n",
        "]].copy()\n",
        "\n",
        "rb_pred_results['proj_fp'] = test_rb['predicted_fp']\n",
        "\n",
        "# (Optional) Sort by projected points\n",
        "rb_pred_results = rb_pred_results.sort_values(by='proj_fp', ascending=False)\n",
        "\n",
        "# Show top rows\n",
        "print(rb_pred_results)"
      ],
      "metadata": {
        "id": "eiCynaYjjY-M",
        "outputId": "2095b8ce-58d2-4e89-be8b-a56226bdb517",
        "colab": {
          "base_uri": "https://localhost:8080/"
        }
      },
      "execution_count": null,
      "outputs": [
        {
          "output_type": "stream",
          "name": "stdout",
          "text": [
            "         player_display_name position team  fantasy_points    proj_fp\n",
            "21716        Zach Charbonnet       RB  NaN            31.3  31.425016\n",
            "21867         Isaac Guerendo       RB  NaN            24.8  24.422743\n",
            "20181          Rachaad White       RB  NaN            22.9  23.740302\n",
            "18943            Josh Jacobs       RB  NaN            24.6  23.374129\n",
            "20632         Kyren Williams       RB  NaN            21.7  22.315505\n",
            "...                      ...      ...  ...             ...        ...\n",
            "19485        Ke'Shawn Vaughn       RB  NaN             0.4   0.382264\n",
            "17290         Ameer Abdullah       RB  NaN            -0.2   0.093578\n",
            "21733          George Holani       RB  NaN            -0.1   0.039263\n",
            "21797        Jonathon Brooks       RB  NaN            -0.3  -0.208935\n",
            "17108  Cordarrelle Patterson       RB  NaN            -1.9  -1.419593\n",
            "\n",
            "[63 rows x 5 columns]\n"
          ]
        }
      ]
    },
    {
      "cell_type": "markdown",
      "source": [
        "# **WR CatBoost Model**"
      ],
      "metadata": {
        "id": "RnBwJLf0pO_z"
      }
    },
    {
      "cell_type": "code",
      "source": [
        "train_wr = weekly_stats_all[\n",
        "    ((weekly_stats_all['season'].astype(int) < 2024) |\n",
        "     ((weekly_stats_all['season'].astype(int) == 2024) & (weekly_stats_all['week'].astype(int) < 14))) &\n",
        "    (weekly_stats_all['position'] == 'WR')\n",
        "].copy()\n",
        "\n",
        "# Test: only QBs from Week 14 of 2024\n",
        "test_wr = weekly_stats_all[\n",
        "    (weekly_stats_all['season'].astype(int) == 2024) &\n",
        "    (weekly_stats_all['week'].astype(int) == 14) &\n",
        "    (weekly_stats_all['position'] == 'WR')\n",
        "].copy()\n",
        "\n",
        "test_wr = test_wr.dropna(subset=[\"fantasy_points\"])"
      ],
      "metadata": {
        "id": "bZyfOlVipTPg"
      },
      "execution_count": null,
      "outputs": []
    },
    {
      "cell_type": "code",
      "source": [
        "categorical_features = ['team', 'opponent_team', 'depth_pos']  # these are column names, not indices\n",
        "numerical_features = [\n",
        "    # Rushing\n",
        "    'carries', 'rushing_yards', 'rushing_tds', 'rushing_fumbles',\n",
        "    'rushing_fumbles_lost', 'rushing_first_downs', 'rushing_epa', 'rushing_2pt_conversions',\n",
        "\n",
        "    # Receiving\n",
        "    'receptions', 'targets', 'receiving_yards', 'receiving_tds', 'receiving_fumbles',\n",
        "    'receiving_fumbles_lost', 'receiving_air_yards', 'receiving_yards_after_catch',\n",
        "    'receiving_first_downs', 'receiving_epa', 'receiving_2pt_conversions',\n",
        "\n",
        "    # Advanced receiving usage (optional but helpful)\n",
        "    'racr', 'target_share', 'air_yards_share', 'wopr',\n",
        "\n",
        "    # Snap info\n",
        "    'offense_snaps', 'offense_pct',\n",
        "\n",
        "    # Opponent context\n",
        "    'opp_avg_ypg_allowed', 'opp_avg_ppg_allowed', 'opp_int_pg',\n",
        "    'opp_fumbles_pg', 'opp_df_tds_pg', 'opp_sacks_pg'\n",
        "] # adjust as needed\n",
        "\n",
        "features = categorical_features + numerical_features\n",
        "target = 'fantasy_points'"
      ],
      "metadata": {
        "id": "dXC-dOybpYBu"
      },
      "execution_count": null,
      "outputs": []
    },
    {
      "cell_type": "code",
      "source": [
        "X_train = train_wr[features]\n",
        "y_train = train_wr[target]\n",
        "\n",
        "X_test = test_wr[features]\n",
        "y_test = test_wr[target]\n",
        "\n",
        "# Drop rows where the target is NaN\n",
        "train_mask = ~y_train.isna()\n",
        "X_train = X_train[train_mask]\n",
        "y_train = y_train[train_mask]\n",
        "\n",
        "test_mask = ~y_test.isna()\n",
        "X_test = X_test[test_mask]\n",
        "y_test = y_test[test_mask]"
      ],
      "metadata": {
        "id": "iAcWUMCUpaOz"
      },
      "execution_count": null,
      "outputs": []
    },
    {
      "cell_type": "code",
      "source": [
        "for col in categorical_features:\n",
        "    X_train[col] = X_train[col].fillna(\"NA\").astype(str)\n",
        "    X_test[col] = X_test[col].fillna(\"NA\").astype(str)"
      ],
      "metadata": {
        "id": "cbz6xqwIpg3T"
      },
      "execution_count": null,
      "outputs": []
    },
    {
      "cell_type": "code",
      "source": [
        "train_pool = Pool(X_train, y_train, cat_features=categorical_features)\n",
        "test_pool = Pool(X_test, y_test, cat_features=categorical_features)\n",
        "\n",
        "# 7. Train the model\n",
        "model = CatBoostRegressor(\n",
        "    iterations=300,\n",
        "    learning_rate=0.05,\n",
        "    depth=6,\n",
        "    loss_function='RMSE',\n",
        "    random_seed=42,\n",
        "    verbose=50\n",
        ")\n",
        "\n",
        "model.fit(train_pool)"
      ],
      "metadata": {
        "id": "UahvAKUfpieH",
        "outputId": "e4329eb1-ed44-4ef0-8985-1e3cbf1bf026",
        "colab": {
          "base_uri": "https://localhost:8080/"
        }
      },
      "execution_count": null,
      "outputs": [
        {
          "output_type": "stream",
          "name": "stdout",
          "text": [
            "0:\tlearn: 5.4906273\ttotal: 10.8ms\tremaining: 3.23s\n",
            "50:\tlearn: 0.9326442\ttotal: 460ms\tremaining: 2.25s\n",
            "100:\tlearn: 0.5048471\ttotal: 919ms\tremaining: 1.81s\n",
            "150:\tlearn: 0.4234077\ttotal: 1.35s\tremaining: 1.33s\n",
            "200:\tlearn: 0.3925521\ttotal: 1.79s\tremaining: 882ms\n",
            "250:\tlearn: 0.3714056\ttotal: 2.2s\tremaining: 430ms\n",
            "299:\tlearn: 0.3553020\ttotal: 2.62s\tremaining: 0us\n"
          ]
        },
        {
          "output_type": "execute_result",
          "data": {
            "text/plain": [
              "<catboost.core.CatBoostRegressor at 0x79a6ebd7d450>"
            ]
          },
          "metadata": {},
          "execution_count": 119
        }
      ]
    },
    {
      "cell_type": "code",
      "source": [
        "# 8. Predict and evaluate\n",
        "y_pred = model.predict(test_pool)\n",
        "mae = mean_absolute_error(y_test, y_pred)\n",
        "r2 = r2_score(y_test, y_pred)\n",
        "\n",
        "print(f\"MAE on Week 14 of 2024: {mae:.2f}\")\n",
        "print(f\"R² Score: {r2:.3f}\")\n",
        "\n",
        "# 9. Attach predictions to test data (optional)\n",
        "test_wr['predicted_fp'] = y_pred"
      ],
      "metadata": {
        "id": "Dukjxof7pkXW",
        "outputId": "f022367f-cd2e-4b19-b901-22a93f2d7e1c",
        "colab": {
          "base_uri": "https://localhost:8080/"
        }
      },
      "execution_count": null,
      "outputs": [
        {
          "output_type": "stream",
          "name": "stdout",
          "text": [
            "MAE on Week 14 of 2024: 0.17\n",
            "R² Score: 0.997\n"
          ]
        }
      ]
    },
    {
      "cell_type": "code",
      "source": [
        "wr_pred_results = test_wr[[\n",
        "    'player_display_name',\n",
        "    'position',\n",
        "    'team',\n",
        "    'fantasy_points'\n",
        "]].copy()\n",
        "\n",
        "wr_pred_results['proj_fp'] = test_wr['predicted_fp']\n",
        "\n",
        "# (Optional) Sort by projected points\n",
        "wr_pred_results = wr_pred_results.sort_values(by='proj_fp', ascending=False)\n",
        "\n",
        "# Show top rows\n",
        "print(wr_pred_results)"
      ],
      "metadata": {
        "id": "y8amMQocplvm",
        "outputId": "99093242-9277-40bc-b955-02e957feea9c",
        "colab": {
          "base_uri": "https://localhost:8080/"
        }
      },
      "execution_count": null,
      "outputs": [
        {
          "output_type": "stream",
          "name": "stdout",
          "text": [
            "      player_display_name position team  fantasy_points    proj_fp\n",
            "21407      Jordan Addison       WR  NaN            31.3  31.171067\n",
            "19782       Ja'Marr Chase       WR  NaN            31.1  28.976821\n",
            "21599          Puka Nacua       WR  NaN            29.8  27.164827\n",
            "19262    Justin Jefferson       WR  NaN            25.2  25.184182\n",
            "19168      Jauan Jennings       WR  NaN            21.0  20.930067\n",
            "...                   ...      ...  ...             ...        ...\n",
            "21534      Jonathan Mingo       WR  NaN             0.0   0.021821\n",
            "21642         Jayden Reed       WR  NaN             0.0   0.020243\n",
            "17412   Demarcus Robinson       WR  NaN             0.0   0.019475\n",
            "22251    Malik Washington       WR  NaN             0.0   0.016025\n",
            "21342         Jalin Hyatt       WR  NaN             0.0   0.013676\n",
            "\n",
            "[95 rows x 5 columns]\n"
          ]
        }
      ]
    }
  ]
}