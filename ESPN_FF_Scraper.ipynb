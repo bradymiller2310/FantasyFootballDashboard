{
  "nbformat": 4,
  "nbformat_minor": 0,
  "metadata": {
    "colab": {
      "provenance": [],
      "include_colab_link": true
    },
    "kernelspec": {
      "name": "python3",
      "display_name": "Python 3"
    },
    "language_info": {
      "name": "python"
    }
  },
  "cells": [
    {
      "cell_type": "markdown",
      "metadata": {
        "id": "view-in-github",
        "colab_type": "text"
      },
      "source": [
        "<a href=\"https://colab.research.google.com/github/bradymiller2310/FantasyFootballDashboard/blob/main/ESPN_FF_Scraper.ipynb\" target=\"_parent\"><img src=\"https://colab.research.google.com/assets/colab-badge.svg\" alt=\"Open In Colab\"/></a>"
      ]
    },
    {
      "cell_type": "code",
      "source": [
        "!pip install espn-api\n",
        "!pip install pandas\n",
        "!pip install openpyxl"
      ],
      "metadata": {
        "colab": {
          "base_uri": "https://localhost:8080/"
        },
        "id": "iI2Vhi-lpDtI",
        "outputId": "1423b5ad-11ef-42ad-a32f-e548334716dc"
      },
      "execution_count": 1,
      "outputs": [
        {
          "output_type": "stream",
          "name": "stdout",
          "text": [
            "Requirement already satisfied: espn-api in /usr/local/lib/python3.11/dist-packages (0.44.1)\n",
            "Requirement already satisfied: requests<3.0.0,>=2.0.0 in /usr/local/lib/python3.11/dist-packages (from espn-api) (2.32.3)\n",
            "Requirement already satisfied: urllib3<=2.2.3 in /usr/local/lib/python3.11/dist-packages (from espn-api) (2.2.3)\n",
            "Requirement already satisfied: charset-normalizer<4,>=2 in /usr/local/lib/python3.11/dist-packages (from requests<3.0.0,>=2.0.0->espn-api) (3.4.1)\n",
            "Requirement already satisfied: idna<4,>=2.5 in /usr/local/lib/python3.11/dist-packages (from requests<3.0.0,>=2.0.0->espn-api) (3.10)\n",
            "Requirement already satisfied: certifi>=2017.4.17 in /usr/local/lib/python3.11/dist-packages (from requests<3.0.0,>=2.0.0->espn-api) (2025.1.31)\n",
            "Requirement already satisfied: pandas in /usr/local/lib/python3.11/dist-packages (2.2.2)\n",
            "Requirement already satisfied: numpy>=1.23.2 in /usr/local/lib/python3.11/dist-packages (from pandas) (2.0.2)\n",
            "Requirement already satisfied: python-dateutil>=2.8.2 in /usr/local/lib/python3.11/dist-packages (from pandas) (2.8.2)\n",
            "Requirement already satisfied: pytz>=2020.1 in /usr/local/lib/python3.11/dist-packages (from pandas) (2025.1)\n",
            "Requirement already satisfied: tzdata>=2022.7 in /usr/local/lib/python3.11/dist-packages (from pandas) (2025.1)\n",
            "Requirement already satisfied: six>=1.5 in /usr/local/lib/python3.11/dist-packages (from python-dateutil>=2.8.2->pandas) (1.17.0)\n",
            "Requirement already satisfied: openpyxl in /usr/local/lib/python3.11/dist-packages (3.1.5)\n",
            "Requirement already satisfied: et-xmlfile in /usr/local/lib/python3.11/dist-packages (from openpyxl) (2.0.0)\n"
          ]
        }
      ]
    },
    {
      "cell_type": "code",
      "execution_count": 2,
      "metadata": {
        "id": "gV03Pq9poyaX"
      },
      "outputs": [],
      "source": [
        "from espn_api.football import League\n",
        "import pandas as pd"
      ]
    },
    {
      "cell_type": "code",
      "source": [
        "league = League(league_id=1292514, year=2024, espn_s2=\"AECPNWyLvfnlcFfE0Xb73O%2BP5ZU9n1G%2FSnP3ixxvuqSwQRcQe7bEQfBuz3YBNeRluTYofdhX2aTajj0jZSF%2B8i9ewdk8Dwf6p9G215F2FjmI06wPKyhjleL4WzaT3PCiP15FDXe55YNMkQeJXgbsCuK1VHbdQ1Nxidq0JxAHezRn2zAt6WwNtSqrF0k2nNHV33VpJqPmMk4msFmaoCaz0UAp95xxy1YmXyEUnZWgA60HJkbsgYkZ8AaESwFENsPYdUvKYqCwnZLjvgI5varhOTDYekjvokdtaCoxJfzOdGLJ3g%3D%3D\", swid=\"{D68FE5F2-46CE-421C-B248-DDA01360BB34}\")\n",
        "print(league.teams)  #Teams in league"
      ],
      "metadata": {
        "colab": {
          "base_uri": "https://localhost:8080/"
        },
        "id": "DFytiAtEo5sl",
        "outputId": "677fd805-74af-4a6b-b22f-ad06de1d4391"
      },
      "execution_count": 3,
      "outputs": [
        {
          "output_type": "stream",
          "name": "stdout",
          "text": [
            "[Team(Fightin' Furries), Team(Quon Solo), Team(Jen-eral ⚔️), Team(Captain Sweatpants), Team(Salmon LipBalm !!), Team(Graham’s Groupie), Team(pop-pop's bible study), Team(Bucktown Bandits), Team(bird gang), Team(bungalicious  💅)]\n"
          ]
        }
      ]
    },
    {
      "cell_type": "code",
      "source": [
        "for week in range(1, 15):\n",
        "    print(f\"Week {week} Schedule:\")\n",
        "    for matchup in league.scoreboard(week=week):\n",
        "        print(f\"{matchup.home_team} vs {matchup.away_team}\")"
      ],
      "metadata": {
        "colab": {
          "base_uri": "https://localhost:8080/"
        },
        "id": "5W3DrXSnpPOv",
        "outputId": "0a251a14-7e10-4c11-9595-8b8275a8db95"
      },
      "execution_count": 4,
      "outputs": [
        {
          "output_type": "stream",
          "name": "stdout",
          "text": [
            "Week 1 Schedule:\n",
            "Team(Bucktown Bandits) vs Team(Graham’s Groupie)\n",
            "Team(bungalicious  💅) vs Team(Fightin' Furries)\n",
            "Team(bird gang) vs Team(Salmon LipBalm !!)\n",
            "Team(pop-pop's bible study) vs Team(Quon Solo)\n",
            "Team(Jen-eral ⚔️) vs Team(Captain Sweatpants)\n",
            "Week 2 Schedule:\n",
            "Team(Fightin' Furries) vs Team(Salmon LipBalm !!)\n",
            "Team(Quon Solo) vs Team(Bucktown Bandits)\n",
            "Team(Captain Sweatpants) vs Team(Graham’s Groupie)\n",
            "Team(pop-pop's bible study) vs Team(bungalicious  💅)\n",
            "Team(Jen-eral ⚔️) vs Team(bird gang)\n",
            "Week 3 Schedule:\n",
            "Team(Quon Solo) vs Team(Captain Sweatpants)\n",
            "Team(Fightin' Furries) vs Team(pop-pop's bible study)\n",
            "Team(Salmon LipBalm !!) vs Team(Jen-eral ⚔️)\n",
            "Team(Bucktown Bandits) vs Team(bungalicious  💅)\n",
            "Team(Graham’s Groupie) vs Team(bird gang)\n",
            "Week 4 Schedule:\n",
            "Team(pop-pop's bible study) vs Team(Jen-eral ⚔️)\n",
            "Team(bungalicious  💅) vs Team(Quon Solo)\n",
            "Team(bird gang) vs Team(Captain Sweatpants)\n",
            "Team(Bucktown Bandits) vs Team(Fightin' Furries)\n",
            "Team(Graham’s Groupie) vs Team(Salmon LipBalm !!)\n",
            "Week 5 Schedule:\n",
            "Team(bungalicious  💅) vs Team(bird gang)\n",
            "Team(pop-pop's bible study) vs Team(Bucktown Bandits)\n",
            "Team(Jen-eral ⚔️) vs Team(Graham’s Groupie)\n",
            "Team(Quon Solo) vs Team(Fightin' Furries)\n",
            "Team(Captain Sweatpants) vs Team(Salmon LipBalm !!)\n",
            "Week 6 Schedule:\n",
            "Team(Graham’s Groupie) vs Team(Fightin' Furries)\n",
            "Team(Salmon LipBalm !!) vs Team(Quon Solo)\n",
            "Team(Captain Sweatpants) vs Team(pop-pop's bible study)\n",
            "Team(Jen-eral ⚔️) vs Team(bungalicious  💅)\n",
            "Team(bird gang) vs Team(Bucktown Bandits)\n",
            "Week 7 Schedule:\n",
            "Team(Quon Solo) vs Team(Graham’s Groupie)\n",
            "Team(pop-pop's bible study) vs Team(Salmon LipBalm !!)\n",
            "Team(bungalicious  💅) vs Team(Captain Sweatpants)\n",
            "Team(Bucktown Bandits) vs Team(Jen-eral ⚔️)\n",
            "Team(Fightin' Furries) vs Team(bird gang)\n",
            "Week 8 Schedule:\n",
            "Team(Graham’s Groupie) vs Team(pop-pop's bible study)\n",
            "Team(Salmon LipBalm !!) vs Team(bungalicious  💅)\n",
            "Team(Captain Sweatpants) vs Team(Bucktown Bandits)\n",
            "Team(Jen-eral ⚔️) vs Team(Fightin' Furries)\n",
            "Team(bird gang) vs Team(Quon Solo)\n",
            "Week 9 Schedule:\n",
            "Team(bungalicious  💅) vs Team(Graham’s Groupie)\n",
            "Team(Bucktown Bandits) vs Team(pop-pop's bible study)\n",
            "Team(Salmon LipBalm !!) vs Team(bird gang)\n",
            "Team(Fightin' Furries) vs Team(Quon Solo)\n",
            "Team(Captain Sweatpants) vs Team(Jen-eral ⚔️)\n",
            "Week 10 Schedule:\n",
            "Team(Bucktown Bandits) vs Team(Salmon LipBalm !!)\n",
            "Team(Fightin' Furries) vs Team(bungalicious  💅)\n",
            "Team(Graham’s Groupie) vs Team(Captain Sweatpants)\n",
            "Team(Quon Solo) vs Team(pop-pop's bible study)\n",
            "Team(bird gang) vs Team(Jen-eral ⚔️)\n",
            "Week 11 Schedule:\n",
            "Team(Fightin' Furries) vs Team(Captain Sweatpants)\n",
            "Team(Bucktown Bandits) vs Team(Quon Solo)\n",
            "Team(Jen-eral ⚔️) vs Team(Salmon LipBalm !!)\n",
            "Team(bungalicious  💅) vs Team(pop-pop's bible study)\n",
            "Team(bird gang) vs Team(Graham’s Groupie)\n",
            "Week 12 Schedule:\n",
            "Team(Quon Solo) vs Team(Jen-eral ⚔️)\n",
            "Team(pop-pop's bible study) vs Team(Fightin' Furries)\n",
            "Team(Captain Sweatpants) vs Team(bird gang)\n",
            "Team(bungalicious  💅) vs Team(Bucktown Bandits)\n",
            "Team(Salmon LipBalm !!) vs Team(Graham’s Groupie)\n",
            "Week 13 Schedule:\n",
            "Team(pop-pop's bible study) vs Team(bird gang)\n",
            "Team(Quon Solo) vs Team(bungalicious  💅)\n",
            "Team(Graham’s Groupie) vs Team(Jen-eral ⚔️)\n",
            "Team(Fightin' Furries) vs Team(Bucktown Bandits)\n",
            "Team(Salmon LipBalm !!) vs Team(Captain Sweatpants)\n",
            "Week 14 Schedule:\n",
            "Team(Graham’s Groupie) vs Team(Bucktown Bandits)\n",
            "Team(Salmon LipBalm !!) vs Team(Fightin' Furries)\n",
            "Team(Captain Sweatpants) vs Team(Quon Solo)\n",
            "Team(Jen-eral ⚔️) vs Team(pop-pop's bible study)\n",
            "Team(bird gang) vs Team(bungalicious  💅)\n"
          ]
        }
      ]
    },
    {
      "cell_type": "code",
      "source": [
        "free_agents = league.free_agents(size=20, position='QB')  # Get top 20 available QBs\n",
        "\n",
        "print(\"Available Free Agents (QB):\")\n",
        "for player in free_agents:\n",
        "    print(f\"  - {player.name} ({player.proTeam})\")"
      ],
      "metadata": {
        "id": "_WP9t9mrqyyF"
      },
      "execution_count": null,
      "outputs": []
    },
    {
      "cell_type": "code",
      "source": [
        "for team in league.teams:\n",
        "    print(f\"\\nTeam: {team.team_name}\")\n",
        "    print(\"Roster:\")\n",
        "    for player in team.roster:\n",
        "        print(f\"  - {player.name} ({player.position})\")"
      ],
      "metadata": {
        "id": "Q9sOrwEqrYvv"
      },
      "execution_count": null,
      "outputs": []
    },
    {
      "cell_type": "code",
      "source": [
        "week_number = 1\n",
        "box_scores = league.box_scores(week=week_number)\n",
        "\n",
        "for matchup in box_scores:\n",
        "    print(f\"\\nMatchup: {matchup.home_team} vs {matchup.away_team}\")\n",
        "    print(f\"  Home Score: {matchup.home_score}\")\n",
        "    print(f\"  Away Score: {matchup.away_score}\")"
      ],
      "metadata": {
        "colab": {
          "base_uri": "https://localhost:8080/"
        },
        "id": "Nz8qaA22roRC",
        "outputId": "666dbecd-05a7-481f-950c-e7af2a7d2cea"
      },
      "execution_count": null,
      "outputs": [
        {
          "output_type": "stream",
          "name": "stdout",
          "text": [
            "\n",
            "Matchup: Team(Bucktown Bandits) vs Team(Graham’s Groupie)\n",
            "  Home Score: 73.0\n",
            "  Away Score: 96.0\n",
            "\n",
            "Matchup: Team(bungalicious  💅) vs Team(Fightin' Furries)\n",
            "  Home Score: 101.0\n",
            "  Away Score: 94.0\n",
            "\n",
            "Matchup: Team(bird gang) vs Team(Salmon LipBalm !!)\n",
            "  Home Score: 59.0\n",
            "  Away Score: 101.0\n",
            "\n",
            "Matchup: Team(pop-pop's bible study) vs Team(Quon Solo)\n",
            "  Home Score: 79.0\n",
            "  Away Score: 97.0\n",
            "\n",
            "Matchup: Team(Jen-eral ⚔️) vs Team(Captain Sweatpants)\n",
            "  Home Score: 82.0\n",
            "  Away Score: 110.0\n"
          ]
        }
      ]
    },
    {
      "cell_type": "code",
      "source": [
        "# getting injury status of free agents (not on rosters)\n",
        "\n",
        "free_agents = league.free_agents()\n",
        "i=0\n",
        "for player in free_agents:\n",
        "  player_obj = free_agents[i]\n",
        "  print(f\"Player: {player_obj.name}, Injury Status: {player_obj.injuryStatus}, Injured: {player_obj.injured}\")\n",
        "  i+=1"
      ],
      "metadata": {
        "id": "B8g3WFWUKHpx"
      },
      "execution_count": null,
      "outputs": []
    },
    {
      "cell_type": "code",
      "source": [
        "# getting injury status of players on rosters\n",
        "for team in league.teams:\n",
        "    print(f\"\\nTeam: {team.team_name}\")\n",
        "    for player in team.roster:\n",
        "        print(f\"Player: {player.name}, Injury Status: {player.injuryStatus}, Injured: {player.injured}\")"
      ],
      "metadata": {
        "id": "TZkMkMWGNE2R",
        "outputId": "181d9916-7fb7-418e-f308-066a0c207d81",
        "colab": {
          "base_uri": "https://localhost:8080/"
        }
      },
      "execution_count": null,
      "outputs": [
        {
          "output_type": "stream",
          "name": "stdout",
          "text": [
            "\n",
            "Team: Fightin' Furries\n",
            "Player: Tyreek Hill, Injury Status: QUESTIONABLE, Injured: False\n",
            "Player: Isiah Pacheco, Injury Status: ACTIVE, Injured: False\n",
            "Player: Joe Mixon, Injury Status: ACTIVE, Injured: False\n",
            "Player: Patrick Mahomes, Injury Status: ACTIVE, Injured: False\n",
            "Player: Dalton Kincaid, Injury Status: ACTIVE, Injured: False\n",
            "Player: Zay Flowers, Injury Status: QUESTIONABLE, Injured: False\n",
            "Player: Jaxon Smith-Njigba, Injury Status: ACTIVE, Injured: False\n",
            "Player: Gus Edwards, Injury Status: ACTIVE, Injured: False\n",
            "Player: Matthew Stafford, Injury Status: ACTIVE, Injured: False\n",
            "Player: Kareem Hunt, Injury Status: ACTIVE, Injured: False\n",
            "Player: Broncos D/ST, Injury Status: NORMAL, Injured: False\n",
            "Player: David Njoku, Injury Status: QUESTIONABLE, Injured: False\n",
            "Player: Caleb Williams, Injury Status: QUESTIONABLE, Injured: False\n",
            "Player: DeAndre Hopkins, Injury Status: ACTIVE, Injured: False\n",
            "Player: Bills D/ST, Injury Status: NORMAL, Injured: False\n",
            "Player: Matthew Wright, Injury Status: ACTIVE, Injured: False\n",
            "\n",
            "Team: Quon Solo\n",
            "Player: Justin Jefferson, Injury Status: ACTIVE, Injured: False\n",
            "Player: Kyren Williams, Injury Status: ACTIVE, Injured: False\n",
            "Player: Marvin Harrison Jr., Injury Status: ACTIVE, Injured: False\n",
            "Player: Mike Evans, Injury Status: ACTIVE, Injured: False\n",
            "Player: D'Andre Swift, Injury Status: ACTIVE, Injured: False\n",
            "Player: Brian Robinson Jr., Injury Status: ACTIVE, Injured: False\n",
            "Player: Kyler Murray, Injury Status: ACTIVE, Injured: False\n",
            "Player: J.K. Dobbins, Injury Status: ACTIVE, Injured: False\n",
            "Player: Geno Smith, Injury Status: QUESTIONABLE, Injured: False\n",
            "Player: Chris Boswell, Injury Status: ACTIVE, Injured: False\n",
            "Player: Romeo Doubs, Injury Status: QUESTIONABLE, Injured: False\n",
            "Player: Mark Andrews, Injury Status: ACTIVE, Injured: False\n",
            "Player: Bears D/ST, Injury Status: NORMAL, Injured: False\n",
            "Player: Courtland Sutton, Injury Status: ACTIVE, Injured: False\n",
            "Player: Josh Downs, Injury Status: ACTIVE, Injured: False\n",
            "Player: Evan Engram, Injury Status: QUESTIONABLE, Injured: False\n",
            "\n",
            "Team: Jen-eral ⚔️\n",
            "Player: Derrick Henry, Injury Status: ACTIVE, Injured: False\n",
            "Player: A.J. Brown, Injury Status: ACTIVE, Injured: False\n",
            "Player: Alvin Kamara, Injury Status: QUESTIONABLE, Injured: False\n",
            "Player: Jalen Hurts, Injury Status: ACTIVE, Injured: False\n",
            "Player: Calvin Ridley, Injury Status: ACTIVE, Injured: False\n",
            "Player: Raheem Mostert, Injury Status: ACTIVE, Injured: False\n",
            "Player: Jets D/ST, Injury Status: NORMAL, Injured: False\n",
            "Player: Pat Freiermuth, Injury Status: ACTIVE, Injured: False\n",
            "Player: Darnell Mooney, Injury Status: QUESTIONABLE, Injured: False\n",
            "Player: Bucky Irving, Injury Status: ACTIVE, Injured: False\n",
            "Player: Jayden Reed, Injury Status: QUESTIONABLE, Injured: False\n",
            "Player: Dontayvion Wicks, Injury Status: ACTIVE, Injured: False\n",
            "Player: Cameron Dicker, Injury Status: ACTIVE, Injured: False\n",
            "Player: Tank Bigsby, Injury Status: ACTIVE, Injured: False\n",
            "Player: Dolphins D/ST, Injury Status: NORMAL, Injured: False\n",
            "Player: Jonnu Smith, Injury Status: ACTIVE, Injured: False\n",
            "\n",
            "Team: Captain Sweatpants\n",
            "Player: CeeDee Lamb, Injury Status: ACTIVE, Injured: False\n",
            "Player: Garrett Wilson, Injury Status: ACTIVE, Injured: False\n",
            "Player: Rachaad White, Injury Status: ACTIVE, Injured: False\n",
            "Player: Nico Collins, Injury Status: ACTIVE, Injured: False\n",
            "Player: James Conner, Injury Status: QUESTIONABLE, Injured: False\n",
            "Player: George Pickens, Injury Status: ACTIVE, Injured: False\n",
            "Player: Cowboys D/ST, Injury Status: NORMAL, Injured: False\n",
            "Player: Chase McLaughlin, Injury Status: ACTIVE, Injured: False\n",
            "Player: Jake Elliott, Injury Status: ACTIVE, Injured: False\n",
            "Player: Bo Nix, Injury Status: ACTIVE, Injured: False\n",
            "Player: Mike Gesicki, Injury Status: ACTIVE, Injured: False\n",
            "Player: Rico Dowdle, Injury Status: ACTIVE, Injured: False\n",
            "Player: Will Dissly, Injury Status: ACTIVE, Injured: False\n",
            "Player: Will Levis, Injury Status: ACTIVE, Injured: False\n",
            "Player: Chargers D/ST, Injury Status: NORMAL, Injured: False\n",
            "Player: Khalil Shakir, Injury Status: ACTIVE, Injured: False\n",
            "\n",
            "Team: Salmon LipBalm !!\n",
            "Player: Bijan Robinson, Injury Status: ACTIVE, Injured: False\n",
            "Player: Jahmyr Gibbs, Injury Status: ACTIVE, Injured: False\n",
            "Player: Jaylen Waddle, Injury Status: ACTIVE, Injured: False\n",
            "Player: Rhamondre Stevenson, Injury Status: ACTIVE, Injured: False\n",
            "Player: Davante Adams, Injury Status: ACTIVE, Injured: False\n",
            "Player: Jordan Love, Injury Status: ACTIVE, Injured: False\n",
            "Player: Ka'imi Fairbairn, Injury Status: ACTIVE, Injured: False\n",
            "Player: Trey McBride, Injury Status: ACTIVE, Injured: False\n",
            "Player: Vikings D/ST, Injury Status: NORMAL, Injured: False\n",
            "Player: Chase Brown, Injury Status: QUESTIONABLE, Injured: False\n",
            "Player: Brian Thomas Jr., Injury Status: ACTIVE, Injured: False\n",
            "Player: Puka Nacua, Injury Status: ACTIVE, Injured: False\n",
            "Player: Hunter Henry, Injury Status: QUESTIONABLE, Injured: False\n",
            "Player: Russell Wilson, Injury Status: ACTIVE, Injured: False\n",
            "Player: Wil Lutz, Injury Status: ACTIVE, Injured: False\n",
            "Player: Drake Maye, Injury Status: ACTIVE, Injured: False\n",
            "\n",
            "Team: Graham’s Groupie\n",
            "Player: Ja'Marr Chase, Injury Status: ACTIVE, Injured: False\n",
            "Player: James Cook, Injury Status: ACTIVE, Injured: False\n",
            "Player: Drake London, Injury Status: ACTIVE, Injured: False\n",
            "Player: Josh Allen, Injury Status: ACTIVE, Injured: False\n",
            "Player: Najee Harris, Injury Status: ACTIVE, Injured: False\n",
            "Player: Amari Cooper, Injury Status: ACTIVE, Injured: False\n",
            "Player: Jayden Daniels, Injury Status: ACTIVE, Injured: False\n",
            "Player: Jauan Jennings, Injury Status: ACTIVE, Injured: False\n",
            "Player: Tyrone Tracy Jr., Injury Status: ACTIVE, Injured: False\n",
            "Player: Travis Etienne Jr., Injury Status: ACTIVE, Injured: False\n",
            "Player: Jordan Addison, Injury Status: ACTIVE, Injured: False\n",
            "Player: T.J. Hockenson, Injury Status: ACTIVE, Injured: False\n",
            "Player: Jason Sanders, Injury Status: ACTIVE, Injured: False\n",
            "Player: Ravens D/ST, Injury Status: NORMAL, Injured: False\n",
            "Player: Isaac Guerendo, Injury Status: QUESTIONABLE, Injured: False\n",
            "Player: Alexander Mattison, Injury Status: ACTIVE, Injured: False\n",
            "\n",
            "Team: pop-pop's bible study\n",
            "Player: Breece Hall, Injury Status: ACTIVE, Injured: False\n",
            "Player: Josh Jacobs, Injury Status: ACTIVE, Injured: False\n",
            "Player: Lamar Jackson, Injury Status: ACTIVE, Injured: False\n",
            "Player: George Kittle, Injury Status: ACTIVE, Injured: False\n",
            "Player: Aaron Jones, Injury Status: ACTIVE, Injured: False\n",
            "Player: Terry McLaurin, Injury Status: ACTIVE, Injured: False\n",
            "Player: Tyjae Spears, Injury Status: QUESTIONABLE, Injured: False\n",
            "Player: Rome Odunze, Injury Status: ACTIVE, Injured: False\n",
            "Player: Chiefs D/ST, Injury Status: NORMAL, Injured: False\n",
            "Player: Jared Goff, Injury Status: ACTIVE, Injured: False\n",
            "Player: Lions D/ST, Injury Status: NORMAL, Injured: False\n",
            "Player: Jameson Williams, Injury Status: ACTIVE, Injured: False\n",
            "Player: Zach Ertz, Injury Status: ACTIVE, Injured: False\n",
            "Player: Christian Watson, Injury Status: QUESTIONABLE, Injured: False\n",
            "Player: Justin Tucker, Injury Status: ACTIVE, Injured: False\n",
            "Player: Packers D/ST, Injury Status: NORMAL, Injured: False\n",
            "\n",
            "Team: Bucktown Bandits\n",
            "Player: Jonathan Taylor, Injury Status: ACTIVE, Injured: False\n",
            "Player: Amon-Ra St. Brown, Injury Status: ACTIVE, Injured: False\n",
            "Player: De'Von Achane, Injury Status: ACTIVE, Injured: False\n",
            "Player: Travis Kelce, Injury Status: ACTIVE, Injured: False\n",
            "Player: Cooper Kupp, Injury Status: ACTIVE, Injured: False\n",
            "Player: Joe Burrow, Injury Status: ACTIVE, Injured: False\n",
            "Player: Tank Dell, Injury Status: QUESTIONABLE, Injured: False\n",
            "Player: Tony Pollard, Injury Status: ACTIVE, Injured: False\n",
            "Player: Xavier Worthy, Injury Status: ACTIVE, Injured: False\n",
            "Player: Jakobi Meyers, Injury Status: ACTIVE, Injured: False\n",
            "Player: DJ Moore, Injury Status: ACTIVE, Injured: False\n",
            "Player: Cade Otton, Injury Status: ACTIVE, Injured: False\n",
            "Player: Jaylen Warren, Injury Status: ACTIVE, Injured: False\n",
            "Player: Justin Herbert, Injury Status: ACTIVE, Injured: False\n",
            "Player: Buccaneers D/ST, Injury Status: NORMAL, Injured: False\n",
            "Player: Brandon Aubrey, Injury Status: QUESTIONABLE, Injured: False\n",
            "\n",
            "Team: bird gang\n",
            "Player: Christian McCaffrey, Injury Status: QUESTIONABLE, Injured: False\n",
            "Player: DK Metcalf, Injury Status: ACTIVE, Injured: False\n",
            "Player: Brandon Aiyuk, Injury Status: QUESTIONABLE, Injured: False\n",
            "Player: David Montgomery, Injury Status: ACTIVE, Injured: False\n",
            "Player: DeVonta Smith, Injury Status: ACTIVE, Injured: False\n",
            "Player: Brock Purdy, Injury Status: ACTIVE, Injured: False\n",
            "Player: Stefon Diggs, Injury Status: QUESTIONABLE, Injured: False\n",
            "Player: Jake Ferguson, Injury Status: ACTIVE, Injured: False\n",
            "Player: Javonte Williams, Injury Status: ACTIVE, Injured: False\n",
            "Player: Dallas Goedert, Injury Status: ACTIVE, Injured: False\n",
            "Player: Chuba Hubbard, Injury Status: QUESTIONABLE, Injured: False\n",
            "Player: Blake Corum, Injury Status: QUESTIONABLE, Injured: False\n",
            "Player: DeMario Douglas, Injury Status: ACTIVE, Injured: False\n",
            "Player: Baker Mayfield, Injury Status: ACTIVE, Injured: False\n",
            "Player: Tyler Bass, Injury Status: ACTIVE, Injured: False\n",
            "Player: Eagles D/ST, Injury Status: NORMAL, Injured: False\n",
            "\n",
            "Team: bungalicious  💅\n",
            "Player: Saquon Barkley, Injury Status: ACTIVE, Injured: False\n",
            "Player: Deebo Samuel Sr., Injury Status: ACTIVE, Injured: False\n",
            "Player: Kenneth Walker III, Injury Status: QUESTIONABLE, Injured: False\n",
            "Player: Sam LaPorta, Injury Status: ACTIVE, Injured: False\n",
            "Player: Tee Higgins, Injury Status: ACTIVE, Injured: False\n",
            "Player: Dak Prescott, Injury Status: QUESTIONABLE, Injured: False\n",
            "Player: Malik Nabers, Injury Status: ACTIVE, Injured: False\n",
            "Player: Brock Bowers, Injury Status: ACTIVE, Injured: False\n",
            "Player: Ty Chandler, Injury Status: ACTIVE, Injured: False\n",
            "Player: Jerry Jeudy, Injury Status: ACTIVE, Injured: False\n",
            "Player: Chig Okonkwo, Injury Status: ACTIVE, Injured: False\n",
            "Player: Gabe Davis, Injury Status: QUESTIONABLE, Injured: False\n",
            "Player: Jake Bates, Injury Status: ACTIVE, Injured: False\n",
            "Player: Sam Darnold, Injury Status: ACTIVE, Injured: False\n",
            "Player: Colts D/ST, Injury Status: NORMAL, Injured: False\n",
            "Player: Zach Charbonnet, Injury Status: ACTIVE, Injured: False\n"
          ]
        }
      ]
    },
    {
      "cell_type": "code",
      "source": [
        "# getting starting roster for each week\n",
        "\n",
        "for team in league.teams:\n",
        "    print(f\"\\nTeam: {team.team_name} (Week {week})\")\n",
        "\n",
        "    # Get the team's roster for the given week\n",
        "    for player in team.roster:\n",
        "        #if player.lineupSlot != \"BE\" and player.lineupSlot != \"IR\":  # Exclude Bench and IR players\n",
        "            print(f\"  - {player.name} ({player.lineupSlot})\")\n"
      ],
      "metadata": {
        "id": "NVRJeM9_Nm-d",
        "outputId": "0218043c-9f8c-4494-ae86-1f3baeea87c1",
        "colab": {
          "base_uri": "https://localhost:8080/"
        }
      },
      "execution_count": 6,
      "outputs": [
        {
          "output_type": "stream",
          "name": "stdout",
          "text": [
            "\n",
            "Team: Fightin' Furries (Week 14)\n",
            "  - Tyreek Hill (WR)\n",
            "  - Isiah Pacheco (RB)\n",
            "  - Joe Mixon (BE)\n",
            "  - Patrick Mahomes (QB)\n",
            "  - Dalton Kincaid (BE)\n",
            "  - Zay Flowers (BE)\n",
            "  - Jaxon Smith-Njigba (RB/WR/TE)\n",
            "  - Gus Edwards (BE)\n",
            "  - Matthew Stafford (BE)\n",
            "  - Kareem Hunt (RB)\n",
            "  - Broncos D/ST (BE)\n",
            "  - David Njoku (TE)\n",
            "  - Caleb Williams (BE)\n",
            "  - DeAndre Hopkins (WR)\n",
            "  - Bills D/ST (D/ST)\n",
            "  - Matthew Wright (K)\n",
            "\n",
            "Team: Quon Solo (Week 14)\n",
            "  - Justin Jefferson (WR)\n",
            "  - Kyren Williams (RB)\n",
            "  - Marvin Harrison Jr. (BE)\n",
            "  - Mike Evans (BE)\n",
            "  - D'Andre Swift (RB)\n",
            "  - Brian Robinson Jr. (RB/WR/TE)\n",
            "  - Kyler Murray (QB)\n",
            "  - J.K. Dobbins (BE)\n",
            "  - Geno Smith (BE)\n",
            "  - Chris Boswell (K)\n",
            "  - Romeo Doubs (BE)\n",
            "  - Mark Andrews (TE)\n",
            "  - Bears D/ST (D/ST)\n",
            "  - Courtland Sutton (WR)\n",
            "  - Josh Downs (BE)\n",
            "  - Evan Engram (BE)\n",
            "\n",
            "Team: Jen-eral ⚔️ (Week 14)\n",
            "  - Derrick Henry (RB)\n",
            "  - A.J. Brown (WR)\n",
            "  - Alvin Kamara (RB)\n",
            "  - Jalen Hurts (QB)\n",
            "  - Calvin Ridley (WR)\n",
            "  - Raheem Mostert (BE)\n",
            "  - Jets D/ST (D/ST)\n",
            "  - Pat Freiermuth (BE)\n",
            "  - Darnell Mooney (BE)\n",
            "  - Bucky Irving (BE)\n",
            "  - Jayden Reed (BE)\n",
            "  - Dontayvion Wicks (BE)\n",
            "  - Cameron Dicker (K)\n",
            "  - Tank Bigsby (RB/WR/TE)\n",
            "  - Dolphins D/ST (BE)\n",
            "  - Jonnu Smith (TE)\n",
            "\n",
            "Team: Captain Sweatpants (Week 14)\n",
            "  - CeeDee Lamb (WR)\n",
            "  - Garrett Wilson (WR)\n",
            "  - Rachaad White (BE)\n",
            "  - Nico Collins (BE)\n",
            "  - James Conner (RB)\n",
            "  - George Pickens (BE)\n",
            "  - Cowboys D/ST (BE)\n",
            "  - Chase McLaughlin (BE)\n",
            "  - Jake Elliott (K)\n",
            "  - Bo Nix (BE)\n",
            "  - Mike Gesicki (TE)\n",
            "  - Rico Dowdle (RB)\n",
            "  - Will Dissly (BE)\n",
            "  - Will Levis (QB)\n",
            "  - Chargers D/ST (D/ST)\n",
            "  - Khalil Shakir (RB/WR/TE)\n",
            "\n",
            "Team: Salmon LipBalm !! (Week 14)\n",
            "  - Bijan Robinson (RB)\n",
            "  - Jahmyr Gibbs (RB)\n",
            "  - Jaylen Waddle (BE)\n",
            "  - Rhamondre Stevenson (BE)\n",
            "  - Davante Adams (WR)\n",
            "  - Jordan Love (BE)\n",
            "  - Ka'imi Fairbairn (BE)\n",
            "  - Trey McBride (TE)\n",
            "  - Vikings D/ST (D/ST)\n",
            "  - Chase Brown (RB/WR/TE)\n",
            "  - Brian Thomas Jr. (BE)\n",
            "  - Puka Nacua (WR)\n",
            "  - Hunter Henry (BE)\n",
            "  - Russell Wilson (QB)\n",
            "  - Wil Lutz (K)\n",
            "  - Drake Maye (BE)\n",
            "\n",
            "Team: Graham’s Groupie (Week 14)\n",
            "  - Ja'Marr Chase (WR)\n",
            "  - James Cook (RB)\n",
            "  - Drake London (RB/WR/TE)\n",
            "  - Josh Allen (QB)\n",
            "  - Najee Harris (BE)\n",
            "  - Amari Cooper (BE)\n",
            "  - Jayden Daniels (BE)\n",
            "  - Jauan Jennings (WR)\n",
            "  - Tyrone Tracy Jr. (BE)\n",
            "  - Travis Etienne Jr. (RB)\n",
            "  - Jordan Addison (BE)\n",
            "  - T.J. Hockenson (TE)\n",
            "  - Jason Sanders (K)\n",
            "  - Ravens D/ST (D/ST)\n",
            "  - Isaac Guerendo (BE)\n",
            "  - Alexander Mattison (BE)\n",
            "\n",
            "Team: pop-pop's bible study (Week 14)\n",
            "  - Breece Hall (RB)\n",
            "  - Josh Jacobs (RB)\n",
            "  - Lamar Jackson (QB)\n",
            "  - George Kittle (TE)\n",
            "  - Aaron Jones (RB/WR/TE)\n",
            "  - Terry McLaurin (WR)\n",
            "  - Tyjae Spears (BE)\n",
            "  - Rome Odunze (BE)\n",
            "  - Chiefs D/ST (D/ST)\n",
            "  - Jared Goff (BE)\n",
            "  - Lions D/ST (BE)\n",
            "  - Jameson Williams (WR)\n",
            "  - Zach Ertz (BE)\n",
            "  - Christian Watson (BE)\n",
            "  - Justin Tucker (K)\n",
            "  - Packers D/ST (BE)\n",
            "\n",
            "Team: Bucktown Bandits (Week 14)\n",
            "  - Jonathan Taylor (BE)\n",
            "  - Amon-Ra St. Brown (WR)\n",
            "  - De'Von Achane (RB)\n",
            "  - Travis Kelce (TE)\n",
            "  - Cooper Kupp (WR)\n",
            "  - Joe Burrow (QB)\n",
            "  - Tank Dell (BE)\n",
            "  - Tony Pollard (RB)\n",
            "  - Xavier Worthy (BE)\n",
            "  - Jakobi Meyers (RB/WR/TE)\n",
            "  - DJ Moore (BE)\n",
            "  - Cade Otton (BE)\n",
            "  - Jaylen Warren (BE)\n",
            "  - Justin Herbert (BE)\n",
            "  - Buccaneers D/ST (D/ST)\n",
            "  - Brandon Aubrey (K)\n",
            "\n",
            "Team: bird gang (Week 14)\n",
            "  - Christian McCaffrey (BE)\n",
            "  - DK Metcalf (WR)\n",
            "  - Brandon Aiyuk (BE)\n",
            "  - David Montgomery (RB)\n",
            "  - DeVonta Smith (WR)\n",
            "  - Brock Purdy (QB)\n",
            "  - Stefon Diggs (BE)\n",
            "  - Jake Ferguson (TE)\n",
            "  - Javonte Williams (BE)\n",
            "  - Dallas Goedert (BE)\n",
            "  - Chuba Hubbard (RB)\n",
            "  - Blake Corum (RB/WR/TE)\n",
            "  - DeMario Douglas (BE)\n",
            "  - Baker Mayfield (BE)\n",
            "  - Tyler Bass (K)\n",
            "  - Eagles D/ST (D/ST)\n",
            "\n",
            "Team: bungalicious  💅 (Week 14)\n",
            "  - Saquon Barkley (RB)\n",
            "  - Deebo Samuel Sr. (RB/WR/TE)\n",
            "  - Kenneth Walker III (BE)\n",
            "  - Sam LaPorta (BE)\n",
            "  - Tee Higgins (WR)\n",
            "  - Dak Prescott (BE)\n",
            "  - Malik Nabers (WR)\n",
            "  - Brock Bowers (TE)\n",
            "  - Ty Chandler (BE)\n",
            "  - Jerry Jeudy (BE)\n",
            "  - Chig Okonkwo (BE)\n",
            "  - Gabe Davis (BE)\n",
            "  - Jake Bates (K)\n",
            "  - Sam Darnold (QB)\n",
            "  - Colts D/ST (D/ST)\n",
            "  - Zach Charbonnet (RB)\n"
          ]
        }
      ]
    },
    {
      "cell_type": "code",
      "source": [
        "roster_data = []\n",
        "\n",
        "# Loop through each team in the league\n",
        "for team in league.teams:\n",
        "    for player in team.roster:\n",
        "        # Collect the relevant data\n",
        "        roster_data.append({\n",
        "            \"player_id\": player.playerId,  # ESPN Player ID\n",
        "            \"player_name\": player.name,\n",
        "            \"fantasy_team\": team.team_name,\n",
        "            \"roster_slot\": player.lineupSlot  # e.g., \"RB\", \"WR\", \"BE\"\n",
        "        })\n",
        "\n",
        "# Convert to DataFrame\n",
        "df = pd.DataFrame(roster_data)\n",
        "\n",
        "# Display the DataFrame\n",
        "print(df)"
      ],
      "metadata": {
        "id": "wkEwJQ3qWH8P",
        "outputId": "2bc7180d-c45e-41d0-fa6d-6b5fe79f539e",
        "colab": {
          "base_uri": "https://localhost:8080/"
        }
      },
      "execution_count": 9,
      "outputs": [
        {
          "output_type": "stream",
          "name": "stdout",
          "text": [
            "     player_id      player_name      fantasy_team roster_slot\n",
            "0      3116406      Tyreek Hill  Fightin' Furries          WR\n",
            "1      4361529    Isiah Pacheco  Fightin' Furries          RB\n",
            "2      3116385        Joe Mixon  Fightin' Furries          BE\n",
            "3      3139477  Patrick Mahomes  Fightin' Furries          QB\n",
            "4      4385690   Dalton Kincaid  Fightin' Furries          BE\n",
            "..         ...              ...               ...         ...\n",
            "155    4243537       Gabe Davis   bungalicious  💅          BE\n",
            "156    4689936       Jake Bates   bungalicious  💅           K\n",
            "157    3912547      Sam Darnold   bungalicious  💅          QB\n",
            "158     -16011       Colts D/ST   bungalicious  💅        D/ST\n",
            "159    4426385  Zach Charbonnet   bungalicious  💅          RB\n",
            "\n",
            "[160 rows x 4 columns]\n"
          ]
        }
      ]
    },
    {
      "cell_type": "code",
      "source": [
        "dst_data = []\n",
        "for team in league.teams:\n",
        "    for player in team.roster:\n",
        "        if player.position == 'D/ST':\n",
        "            dst_data.append({\n",
        "                'player_id': player.playerId,\n",
        "                'name': player.name,\n",
        "                'fantasy_team': team.team_name,\n",
        "                'roster_slot': player.lineupSlot\n",
        "            })\n",
        "\n",
        "# --- 2. Get Free Agent / Waiver Wire D/STs ---\n",
        "for player in league.free_agents(size=300):  # Increase size to ensure full pool\n",
        "    if player.position == 'D/ST':\n",
        "        dst_data.append({\n",
        "            'player_id': player.playerId,\n",
        "            'name': player.name,\n",
        "            'fantasy_team': 'Free Agent',\n",
        "            'roster_slot': 'FA'\n",
        "        })\n",
        "\n",
        "# Convert to DataFrame\n",
        "dst_df = pd.DataFrame(dst_data)\n",
        "\n",
        "# Drop duplicates in case same D/ST appears in both lists (just in case)\n",
        "dst_df = dst_df.drop_duplicates(subset='player_id')\n",
        "\n",
        "# Display result\n",
        "print(dst_df)"
      ],
      "metadata": {
        "id": "jpD-T5VsXQOe",
        "outputId": "4b5120e9-3dd3-457f-8883-c9437afc2bc8",
        "colab": {
          "base_uri": "https://localhost:8080/"
        }
      },
      "execution_count": 12,
      "outputs": [
        {
          "output_type": "stream",
          "name": "stdout",
          "text": [
            "    player_id             name           fantasy_team roster_slot\n",
            "0      -16007     Broncos D/ST       Fightin' Furries          BE\n",
            "1      -16002       Bills D/ST       Fightin' Furries        D/ST\n",
            "2      -16003       Bears D/ST              Quon Solo        D/ST\n",
            "3      -16020        Jets D/ST            Jen-eral ⚔️        D/ST\n",
            "4      -16015    Dolphins D/ST            Jen-eral ⚔️          BE\n",
            "5      -16006     Cowboys D/ST     Captain Sweatpants          BE\n",
            "6      -16024    Chargers D/ST     Captain Sweatpants        D/ST\n",
            "7      -16016     Vikings D/ST      Salmon LipBalm !!        D/ST\n",
            "8      -16033      Ravens D/ST       Graham’s Groupie        D/ST\n",
            "9      -16012      Chiefs D/ST  pop-pop's bible study        D/ST\n",
            "10     -16008       Lions D/ST  pop-pop's bible study          BE\n",
            "11     -16009     Packers D/ST  pop-pop's bible study          BE\n",
            "12     -16027  Buccaneers D/ST       Bucktown Bandits        D/ST\n",
            "13     -16021      Eagles D/ST              bird gang        D/ST\n",
            "14     -16011       Colts D/ST        bungalicious  💅        D/ST\n",
            "15     -16023    Steelers D/ST             Free Agent          FA\n",
            "16     -16025       49ers D/ST             Free Agent          FA\n",
            "17     -16034      Texans D/ST             Free Agent          FA\n",
            "18     -16004     Bengals D/ST             Free Agent          FA\n",
            "19     -16028  Commanders D/ST             Free Agent          FA\n",
            "20     -16018      Saints D/ST             Free Agent          FA\n",
            "21     -16022   Cardinals D/ST             Free Agent          FA\n",
            "22     -16005      Browns D/ST             Free Agent          FA\n",
            "23     -16001     Falcons D/ST             Free Agent          FA\n",
            "24     -16026    Seahawks D/ST             Free Agent          FA\n",
            "25     -16010      Titans D/ST             Free Agent          FA\n",
            "26     -16030     Jaguars D/ST             Free Agent          FA\n",
            "27     -16013     Raiders D/ST             Free Agent          FA\n",
            "28     -16014        Rams D/ST             Free Agent          FA\n",
            "29     -16019      Giants D/ST             Free Agent          FA\n",
            "30     -16017    Patriots D/ST             Free Agent          FA\n",
            "31     -16029    Panthers D/ST             Free Agent          FA\n"
          ]
        }
      ]
    },
    {
      "cell_type": "markdown",
      "source": [
        "### **Getting statistical data from xlsx files**"
      ],
      "metadata": {
        "id": "Pqurr9qovF3M"
      }
    },
    {
      "cell_type": "code",
      "source": [
        "from google.colab import drive\n",
        "drive.mount('/content/drive')"
      ],
      "metadata": {
        "id": "LNbk_KpjvRsH",
        "outputId": "f4293b08-5b57-4fdc-d4e7-9abd734e4080",
        "colab": {
          "base_uri": "https://localhost:8080/"
        }
      },
      "execution_count": 9,
      "outputs": [
        {
          "output_type": "stream",
          "name": "stdout",
          "text": [
            "Drive already mounted at /content/drive; to attempt to forcibly remount, call drive.mount(\"/content/drive\", force_remount=True).\n"
          ]
        }
      ]
    },
    {
      "cell_type": "code",
      "source": [
        "import pandas as pd\n",
        "\n",
        "file_path = \"/content/drive/My Drive/ff_data.xlsx\"\n",
        "\n",
        "# Load specific sheets\n",
        "season_stats_all = pd.read_excel(file_path, sheet_name=\"Season\", dtype = str)# engine=\"openpyxl\", dtype = str)\n",
        "weekly_stats_all = pd.read_excel(file_path, sheet_name=\"Weekly\", dtype = str) #engine=\"openpyxl\", dtype = str)\n",
        "\n",
        "# Display first few rows\n",
        "#print(season_stats_all.head())\n",
        "#print(weekly_stats_all.head())"
      ],
      "metadata": {
        "id": "W83MSS6X1O2C"
      },
      "execution_count": null,
      "outputs": []
    },
    {
      "cell_type": "code",
      "source": [
        "from openpyxl import load_workbook\n",
        "import pandas as pd\n",
        "\n",
        "def read_excel_sheet_manually(file_path, sheet_name):\n",
        "    wb = load_workbook(filename=file_path, read_only=True, data_only=True)\n",
        "    ws = wb[sheet_name]\n",
        "\n",
        "    data = []\n",
        "    for row in ws.iter_rows(values_only=True):\n",
        "        data.append(row)\n",
        "\n",
        "    # First row is assumed to be header\n",
        "    df = pd.DataFrame(data[1:], columns=data[0])\n",
        "    return df.astype(str)  # Convert all columns to string type\n",
        "\n",
        "# Load the data manually\n",
        "season_stats_all = read_excel_sheet_manually(\"/content/drive/My Drive/ff_data.xlsx\", \"Season\")\n",
        "weekly_stats_all = read_excel_sheet_manually(\"/content/drive/My Drive/ff_data.xlsx\", \"Weekly\")\n"
      ],
      "metadata": {
        "id": "YonLeCqY3ryt",
        "outputId": "ca0f23c0-1f52-42da-a4c5-e14ec5f4d95d",
        "colab": {
          "base_uri": "https://localhost:8080/",
          "height": 408
        }
      },
      "execution_count": 13,
      "outputs": [
        {
          "output_type": "error",
          "ename": "TypeError",
          "evalue": "expected <class 'int'>",
          "traceback": [
            "\u001b[0;31m---------------------------------------------------------------------------\u001b[0m",
            "\u001b[0;31mValueError\u001b[0m                                Traceback (most recent call last)",
            "\u001b[0;32m/usr/local/lib/python3.11/dist-packages/openpyxl/descriptors/base.py\u001b[0m in \u001b[0;36m_convert\u001b[0;34m(expected_type, value)\u001b[0m\n\u001b[1;32m     58\u001b[0m         \u001b[0;32mtry\u001b[0m\u001b[0;34m:\u001b[0m\u001b[0;34m\u001b[0m\u001b[0;34m\u001b[0m\u001b[0m\n\u001b[0;32m---> 59\u001b[0;31m             \u001b[0mvalue\u001b[0m \u001b[0;34m=\u001b[0m \u001b[0mexpected_type\u001b[0m\u001b[0;34m(\u001b[0m\u001b[0mvalue\u001b[0m\u001b[0;34m)\u001b[0m\u001b[0;34m\u001b[0m\u001b[0;34m\u001b[0m\u001b[0m\n\u001b[0m\u001b[1;32m     60\u001b[0m         \u001b[0;32mexcept\u001b[0m\u001b[0;34m:\u001b[0m\u001b[0;34m\u001b[0m\u001b[0;34m\u001b[0m\u001b[0m\n",
            "\u001b[0;31mValueError\u001b[0m: invalid literal for int() with base 10: ''",
            "\nDuring handling of the above exception, another exception occurred:\n",
            "\u001b[0;31mTypeError\u001b[0m                                 Traceback (most recent call last)",
            "\u001b[0;32m<ipython-input-13-f937934e2003>\u001b[0m in \u001b[0;36m<cell line: 0>\u001b[0;34m()\u001b[0m\n\u001b[1;32m     15\u001b[0m \u001b[0;34m\u001b[0m\u001b[0m\n\u001b[1;32m     16\u001b[0m \u001b[0;31m# Load the data manually\u001b[0m\u001b[0;34m\u001b[0m\u001b[0;34m\u001b[0m\u001b[0m\n\u001b[0;32m---> 17\u001b[0;31m \u001b[0mseason_stats_all\u001b[0m \u001b[0;34m=\u001b[0m \u001b[0mread_excel_sheet_manually\u001b[0m\u001b[0;34m(\u001b[0m\u001b[0;34m\"/content/drive/My Drive/ff_data.xlsx\"\u001b[0m\u001b[0;34m,\u001b[0m \u001b[0;34m\"Season\"\u001b[0m\u001b[0;34m)\u001b[0m\u001b[0;34m\u001b[0m\u001b[0;34m\u001b[0m\u001b[0m\n\u001b[0m\u001b[1;32m     18\u001b[0m \u001b[0mweekly_stats_all\u001b[0m \u001b[0;34m=\u001b[0m \u001b[0mread_excel_sheet_manually\u001b[0m\u001b[0;34m(\u001b[0m\u001b[0;34m\"/content/drive/My Drive/ff_data.xlsx\"\u001b[0m\u001b[0;34m,\u001b[0m \u001b[0;34m\"Weekly\"\u001b[0m\u001b[0;34m)\u001b[0m\u001b[0;34m\u001b[0m\u001b[0;34m\u001b[0m\u001b[0m\n",
            "\u001b[0;32m<ipython-input-13-f937934e2003>\u001b[0m in \u001b[0;36mread_excel_sheet_manually\u001b[0;34m(file_path, sheet_name)\u001b[0m\n\u001b[1;32m      3\u001b[0m \u001b[0;34m\u001b[0m\u001b[0m\n\u001b[1;32m      4\u001b[0m \u001b[0;32mdef\u001b[0m \u001b[0mread_excel_sheet_manually\u001b[0m\u001b[0;34m(\u001b[0m\u001b[0mfile_path\u001b[0m\u001b[0;34m,\u001b[0m \u001b[0msheet_name\u001b[0m\u001b[0;34m)\u001b[0m\u001b[0;34m:\u001b[0m\u001b[0;34m\u001b[0m\u001b[0;34m\u001b[0m\u001b[0m\n\u001b[0;32m----> 5\u001b[0;31m     \u001b[0mwb\u001b[0m \u001b[0;34m=\u001b[0m \u001b[0mload_workbook\u001b[0m\u001b[0;34m(\u001b[0m\u001b[0mfilename\u001b[0m\u001b[0;34m=\u001b[0m\u001b[0mfile_path\u001b[0m\u001b[0;34m,\u001b[0m \u001b[0mread_only\u001b[0m\u001b[0;34m=\u001b[0m\u001b[0;32mTrue\u001b[0m\u001b[0;34m,\u001b[0m \u001b[0mdata_only\u001b[0m\u001b[0;34m=\u001b[0m\u001b[0;32mTrue\u001b[0m\u001b[0;34m)\u001b[0m\u001b[0;34m\u001b[0m\u001b[0;34m\u001b[0m\u001b[0m\n\u001b[0m\u001b[1;32m      6\u001b[0m     \u001b[0mws\u001b[0m \u001b[0;34m=\u001b[0m \u001b[0mwb\u001b[0m\u001b[0;34m[\u001b[0m\u001b[0msheet_name\u001b[0m\u001b[0;34m]\u001b[0m\u001b[0;34m\u001b[0m\u001b[0;34m\u001b[0m\u001b[0m\n\u001b[1;32m      7\u001b[0m \u001b[0;34m\u001b[0m\u001b[0m\n",
            "\u001b[0;32m/usr/local/lib/python3.11/dist-packages/openpyxl/reader/excel.py\u001b[0m in \u001b[0;36mload_workbook\u001b[0;34m(filename, read_only, keep_vba, data_only, keep_links, rich_text)\u001b[0m\n\u001b[1;32m    346\u001b[0m     reader = ExcelReader(filename, read_only, keep_vba,\n\u001b[1;32m    347\u001b[0m                          data_only, keep_links, rich_text)\n\u001b[0;32m--> 348\u001b[0;31m     \u001b[0mreader\u001b[0m\u001b[0;34m.\u001b[0m\u001b[0mread\u001b[0m\u001b[0;34m(\u001b[0m\u001b[0;34m)\u001b[0m\u001b[0;34m\u001b[0m\u001b[0;34m\u001b[0m\u001b[0m\n\u001b[0m\u001b[1;32m    349\u001b[0m     \u001b[0;32mreturn\u001b[0m \u001b[0mreader\u001b[0m\u001b[0;34m.\u001b[0m\u001b[0mwb\u001b[0m\u001b[0;34m\u001b[0m\u001b[0;34m\u001b[0m\u001b[0m\n",
            "\u001b[0;32m/usr/local/lib/python3.11/dist-packages/openpyxl/reader/excel.py\u001b[0m in \u001b[0;36mread\u001b[0;34m(self)\u001b[0m\n\u001b[1;32m    291\u001b[0m             \u001b[0mself\u001b[0m\u001b[0;34m.\u001b[0m\u001b[0mread_strings\u001b[0m\u001b[0;34m(\u001b[0m\u001b[0;34m)\u001b[0m\u001b[0;34m\u001b[0m\u001b[0;34m\u001b[0m\u001b[0m\n\u001b[1;32m    292\u001b[0m             \u001b[0maction\u001b[0m \u001b[0;34m=\u001b[0m \u001b[0;34m\"read workbook\"\u001b[0m\u001b[0;34m\u001b[0m\u001b[0;34m\u001b[0m\u001b[0m\n\u001b[0;32m--> 293\u001b[0;31m             \u001b[0mself\u001b[0m\u001b[0;34m.\u001b[0m\u001b[0mread_workbook\u001b[0m\u001b[0;34m(\u001b[0m\u001b[0;34m)\u001b[0m\u001b[0;34m\u001b[0m\u001b[0;34m\u001b[0m\u001b[0m\n\u001b[0m\u001b[1;32m    294\u001b[0m             \u001b[0maction\u001b[0m \u001b[0;34m=\u001b[0m \u001b[0;34m\"read properties\"\u001b[0m\u001b[0;34m\u001b[0m\u001b[0;34m\u001b[0m\u001b[0m\n\u001b[1;32m    295\u001b[0m             \u001b[0mself\u001b[0m\u001b[0;34m.\u001b[0m\u001b[0mread_properties\u001b[0m\u001b[0;34m(\u001b[0m\u001b[0;34m)\u001b[0m\u001b[0;34m\u001b[0m\u001b[0;34m\u001b[0m\u001b[0m\n",
            "\u001b[0;32m/usr/local/lib/python3.11/dist-packages/openpyxl/reader/excel.py\u001b[0m in \u001b[0;36mread_workbook\u001b[0;34m(self)\u001b[0m\n\u001b[1;32m    151\u001b[0m         \u001b[0mwb_part\u001b[0m \u001b[0;34m=\u001b[0m \u001b[0m_find_workbook_part\u001b[0m\u001b[0;34m(\u001b[0m\u001b[0mself\u001b[0m\u001b[0;34m.\u001b[0m\u001b[0mpackage\u001b[0m\u001b[0;34m)\u001b[0m\u001b[0;34m\u001b[0m\u001b[0;34m\u001b[0m\u001b[0m\n\u001b[1;32m    152\u001b[0m         \u001b[0mself\u001b[0m\u001b[0;34m.\u001b[0m\u001b[0mparser\u001b[0m \u001b[0;34m=\u001b[0m \u001b[0mWorkbookParser\u001b[0m\u001b[0;34m(\u001b[0m\u001b[0mself\u001b[0m\u001b[0;34m.\u001b[0m\u001b[0marchive\u001b[0m\u001b[0;34m,\u001b[0m \u001b[0mwb_part\u001b[0m\u001b[0;34m.\u001b[0m\u001b[0mPartName\u001b[0m\u001b[0;34m[\u001b[0m\u001b[0;36m1\u001b[0m\u001b[0;34m:\u001b[0m\u001b[0;34m]\u001b[0m\u001b[0;34m,\u001b[0m \u001b[0mkeep_links\u001b[0m\u001b[0;34m=\u001b[0m\u001b[0mself\u001b[0m\u001b[0;34m.\u001b[0m\u001b[0mkeep_links\u001b[0m\u001b[0;34m)\u001b[0m\u001b[0;34m\u001b[0m\u001b[0;34m\u001b[0m\u001b[0m\n\u001b[0;32m--> 153\u001b[0;31m         \u001b[0mself\u001b[0m\u001b[0;34m.\u001b[0m\u001b[0mparser\u001b[0m\u001b[0;34m.\u001b[0m\u001b[0mparse\u001b[0m\u001b[0;34m(\u001b[0m\u001b[0;34m)\u001b[0m\u001b[0;34m\u001b[0m\u001b[0;34m\u001b[0m\u001b[0m\n\u001b[0m\u001b[1;32m    154\u001b[0m         \u001b[0mwb\u001b[0m \u001b[0;34m=\u001b[0m \u001b[0mself\u001b[0m\u001b[0;34m.\u001b[0m\u001b[0mparser\u001b[0m\u001b[0;34m.\u001b[0m\u001b[0mwb\u001b[0m\u001b[0;34m\u001b[0m\u001b[0;34m\u001b[0m\u001b[0m\n\u001b[1;32m    155\u001b[0m         \u001b[0mwb\u001b[0m\u001b[0;34m.\u001b[0m\u001b[0m_sheets\u001b[0m \u001b[0;34m=\u001b[0m \u001b[0;34m[\u001b[0m\u001b[0;34m]\u001b[0m\u001b[0;34m\u001b[0m\u001b[0;34m\u001b[0m\u001b[0m\n",
            "\u001b[0;32m/usr/local/lib/python3.11/dist-packages/openpyxl/reader/workbook.py\u001b[0m in \u001b[0;36mparse\u001b[0;34m(self)\u001b[0m\n\u001b[1;32m     44\u001b[0m         \u001b[0msrc\u001b[0m \u001b[0;34m=\u001b[0m \u001b[0mself\u001b[0m\u001b[0;34m.\u001b[0m\u001b[0marchive\u001b[0m\u001b[0;34m.\u001b[0m\u001b[0mread\u001b[0m\u001b[0;34m(\u001b[0m\u001b[0mself\u001b[0m\u001b[0;34m.\u001b[0m\u001b[0mworkbook_part_name\u001b[0m\u001b[0;34m)\u001b[0m\u001b[0;34m\u001b[0m\u001b[0;34m\u001b[0m\u001b[0m\n\u001b[1;32m     45\u001b[0m         \u001b[0mnode\u001b[0m \u001b[0;34m=\u001b[0m \u001b[0mfromstring\u001b[0m\u001b[0;34m(\u001b[0m\u001b[0msrc\u001b[0m\u001b[0;34m)\u001b[0m\u001b[0;34m\u001b[0m\u001b[0;34m\u001b[0m\u001b[0m\n\u001b[0;32m---> 46\u001b[0;31m         \u001b[0mpackage\u001b[0m \u001b[0;34m=\u001b[0m \u001b[0mWorkbookPackage\u001b[0m\u001b[0;34m.\u001b[0m\u001b[0mfrom_tree\u001b[0m\u001b[0;34m(\u001b[0m\u001b[0mnode\u001b[0m\u001b[0;34m)\u001b[0m\u001b[0;34m\u001b[0m\u001b[0;34m\u001b[0m\u001b[0m\n\u001b[0m\u001b[1;32m     47\u001b[0m         \u001b[0;32mif\u001b[0m \u001b[0mpackage\u001b[0m\u001b[0;34m.\u001b[0m\u001b[0mproperties\u001b[0m\u001b[0;34m.\u001b[0m\u001b[0mdate1904\u001b[0m\u001b[0;34m:\u001b[0m\u001b[0;34m\u001b[0m\u001b[0;34m\u001b[0m\u001b[0m\n\u001b[1;32m     48\u001b[0m             \u001b[0mself\u001b[0m\u001b[0;34m.\u001b[0m\u001b[0mwb\u001b[0m\u001b[0;34m.\u001b[0m\u001b[0mepoch\u001b[0m \u001b[0;34m=\u001b[0m \u001b[0mCALENDAR_MAC_1904\u001b[0m\u001b[0;34m\u001b[0m\u001b[0;34m\u001b[0m\u001b[0m\n",
            "\u001b[0;32m/usr/local/lib/python3.11/dist-packages/openpyxl/descriptors/serialisable.py\u001b[0m in \u001b[0;36mfrom_tree\u001b[0;34m(cls, node)\u001b[0m\n\u001b[1;32m     81\u001b[0m             \u001b[0;32mif\u001b[0m \u001b[0mhasattr\u001b[0m\u001b[0;34m(\u001b[0m\u001b[0mdesc\u001b[0m\u001b[0;34m,\u001b[0m \u001b[0;34m'from_tree'\u001b[0m\u001b[0;34m)\u001b[0m\u001b[0;34m:\u001b[0m\u001b[0;34m\u001b[0m\u001b[0;34m\u001b[0m\u001b[0m\n\u001b[1;32m     82\u001b[0m                 \u001b[0;31m#descriptor manages conversion\u001b[0m\u001b[0;34m\u001b[0m\u001b[0;34m\u001b[0m\u001b[0m\n\u001b[0;32m---> 83\u001b[0;31m                 \u001b[0mobj\u001b[0m \u001b[0;34m=\u001b[0m \u001b[0mdesc\u001b[0m\u001b[0;34m.\u001b[0m\u001b[0mfrom_tree\u001b[0m\u001b[0;34m(\u001b[0m\u001b[0mel\u001b[0m\u001b[0;34m)\u001b[0m\u001b[0;34m\u001b[0m\u001b[0;34m\u001b[0m\u001b[0m\n\u001b[0m\u001b[1;32m     84\u001b[0m             \u001b[0;32melse\u001b[0m\u001b[0;34m:\u001b[0m\u001b[0;34m\u001b[0m\u001b[0;34m\u001b[0m\u001b[0m\n\u001b[1;32m     85\u001b[0m                 \u001b[0;32mif\u001b[0m \u001b[0mhasattr\u001b[0m\u001b[0;34m(\u001b[0m\u001b[0mdesc\u001b[0m\u001b[0;34m.\u001b[0m\u001b[0mexpected_type\u001b[0m\u001b[0;34m,\u001b[0m \u001b[0;34m\"from_tree\"\u001b[0m\u001b[0;34m)\u001b[0m\u001b[0;34m:\u001b[0m\u001b[0;34m\u001b[0m\u001b[0;34m\u001b[0m\u001b[0m\n",
            "\u001b[0;32m/usr/local/lib/python3.11/dist-packages/openpyxl/descriptors/sequence.py\u001b[0m in \u001b[0;36mfrom_tree\u001b[0;34m(self, node)\u001b[0m\n\u001b[1;32m     92\u001b[0m \u001b[0;34m\u001b[0m\u001b[0m\n\u001b[1;32m     93\u001b[0m     \u001b[0;32mdef\u001b[0m \u001b[0mfrom_tree\u001b[0m\u001b[0;34m(\u001b[0m\u001b[0mself\u001b[0m\u001b[0;34m,\u001b[0m \u001b[0mnode\u001b[0m\u001b[0;34m)\u001b[0m\u001b[0;34m:\u001b[0m\u001b[0;34m\u001b[0m\u001b[0;34m\u001b[0m\u001b[0m\n\u001b[0;32m---> 94\u001b[0;31m         \u001b[0;32mreturn\u001b[0m \u001b[0;34m[\u001b[0m\u001b[0mself\u001b[0m\u001b[0;34m.\u001b[0m\u001b[0mexpected_type\u001b[0m\u001b[0;34m.\u001b[0m\u001b[0mfrom_tree\u001b[0m\u001b[0;34m(\u001b[0m\u001b[0mel\u001b[0m\u001b[0;34m)\u001b[0m \u001b[0;32mfor\u001b[0m \u001b[0mel\u001b[0m \u001b[0;32min\u001b[0m \u001b[0mnode\u001b[0m\u001b[0;34m]\u001b[0m\u001b[0;34m\u001b[0m\u001b[0;34m\u001b[0m\u001b[0m\n\u001b[0m\u001b[1;32m     95\u001b[0m \u001b[0;34m\u001b[0m\u001b[0m\n\u001b[1;32m     96\u001b[0m \u001b[0;34m\u001b[0m\u001b[0m\n",
            "\u001b[0;32m/usr/local/lib/python3.11/dist-packages/openpyxl/descriptors/sequence.py\u001b[0m in \u001b[0;36m<listcomp>\u001b[0;34m(.0)\u001b[0m\n\u001b[1;32m     92\u001b[0m \u001b[0;34m\u001b[0m\u001b[0m\n\u001b[1;32m     93\u001b[0m     \u001b[0;32mdef\u001b[0m \u001b[0mfrom_tree\u001b[0m\u001b[0;34m(\u001b[0m\u001b[0mself\u001b[0m\u001b[0;34m,\u001b[0m \u001b[0mnode\u001b[0m\u001b[0;34m)\u001b[0m\u001b[0;34m:\u001b[0m\u001b[0;34m\u001b[0m\u001b[0;34m\u001b[0m\u001b[0m\n\u001b[0;32m---> 94\u001b[0;31m         \u001b[0;32mreturn\u001b[0m \u001b[0;34m[\u001b[0m\u001b[0mself\u001b[0m\u001b[0;34m.\u001b[0m\u001b[0mexpected_type\u001b[0m\u001b[0;34m.\u001b[0m\u001b[0mfrom_tree\u001b[0m\u001b[0;34m(\u001b[0m\u001b[0mel\u001b[0m\u001b[0;34m)\u001b[0m \u001b[0;32mfor\u001b[0m \u001b[0mel\u001b[0m \u001b[0;32min\u001b[0m \u001b[0mnode\u001b[0m\u001b[0;34m]\u001b[0m\u001b[0;34m\u001b[0m\u001b[0;34m\u001b[0m\u001b[0m\n\u001b[0m\u001b[1;32m     95\u001b[0m \u001b[0;34m\u001b[0m\u001b[0m\n\u001b[1;32m     96\u001b[0m \u001b[0;34m\u001b[0m\u001b[0m\n",
            "\u001b[0;32m/usr/local/lib/python3.11/dist-packages/openpyxl/descriptors/serialisable.py\u001b[0m in \u001b[0;36mfrom_tree\u001b[0;34m(cls, node)\u001b[0m\n\u001b[1;32m    101\u001b[0m                 \u001b[0mattrib\u001b[0m\u001b[0;34m[\u001b[0m\u001b[0mtag\u001b[0m\u001b[0;34m]\u001b[0m \u001b[0;34m=\u001b[0m \u001b[0mobj\u001b[0m\u001b[0;34m\u001b[0m\u001b[0;34m\u001b[0m\u001b[0m\n\u001b[1;32m    102\u001b[0m \u001b[0;34m\u001b[0m\u001b[0m\n\u001b[0;32m--> 103\u001b[0;31m         \u001b[0;32mreturn\u001b[0m \u001b[0mcls\u001b[0m\u001b[0;34m(\u001b[0m\u001b[0;34m**\u001b[0m\u001b[0mattrib\u001b[0m\u001b[0;34m)\u001b[0m\u001b[0;34m\u001b[0m\u001b[0;34m\u001b[0m\u001b[0m\n\u001b[0m\u001b[1;32m    104\u001b[0m \u001b[0;34m\u001b[0m\u001b[0m\n\u001b[1;32m    105\u001b[0m \u001b[0;34m\u001b[0m\u001b[0m\n",
            "\u001b[0;32m/usr/local/lib/python3.11/dist-packages/openpyxl/workbook/views.py\u001b[0m in \u001b[0;36m__init__\u001b[0;34m(self, visibility, minimized, showHorizontalScroll, showVerticalScroll, showSheetTabs, xWindow, yWindow, windowWidth, windowHeight, tabRatio, firstSheet, activeTab, autoFilterDateGrouping, extLst)\u001b[0m\n\u001b[1;32m     60\u001b[0m         \u001b[0mself\u001b[0m\u001b[0;34m.\u001b[0m\u001b[0mshowVerticalScroll\u001b[0m \u001b[0;34m=\u001b[0m \u001b[0mshowVerticalScroll\u001b[0m\u001b[0;34m\u001b[0m\u001b[0;34m\u001b[0m\u001b[0m\n\u001b[1;32m     61\u001b[0m         \u001b[0mself\u001b[0m\u001b[0;34m.\u001b[0m\u001b[0mshowSheetTabs\u001b[0m \u001b[0;34m=\u001b[0m \u001b[0mshowSheetTabs\u001b[0m\u001b[0;34m\u001b[0m\u001b[0;34m\u001b[0m\u001b[0m\n\u001b[0;32m---> 62\u001b[0;31m         \u001b[0mself\u001b[0m\u001b[0;34m.\u001b[0m\u001b[0mxWindow\u001b[0m \u001b[0;34m=\u001b[0m \u001b[0mxWindow\u001b[0m\u001b[0;34m\u001b[0m\u001b[0;34m\u001b[0m\u001b[0m\n\u001b[0m\u001b[1;32m     63\u001b[0m         \u001b[0mself\u001b[0m\u001b[0;34m.\u001b[0m\u001b[0myWindow\u001b[0m \u001b[0;34m=\u001b[0m \u001b[0myWindow\u001b[0m\u001b[0;34m\u001b[0m\u001b[0;34m\u001b[0m\u001b[0m\n\u001b[1;32m     64\u001b[0m         \u001b[0mself\u001b[0m\u001b[0;34m.\u001b[0m\u001b[0mwindowWidth\u001b[0m \u001b[0;34m=\u001b[0m \u001b[0mwindowWidth\u001b[0m\u001b[0;34m\u001b[0m\u001b[0;34m\u001b[0m\u001b[0m\n",
            "\u001b[0;32m/usr/local/lib/python3.11/dist-packages/openpyxl/descriptors/base.py\u001b[0m in \u001b[0;36m__set__\u001b[0;34m(self, instance, value)\u001b[0m\n\u001b[1;32m     69\u001b[0m         if ((self.allow_none and value is not None)\n\u001b[1;32m     70\u001b[0m             or not self.allow_none):\n\u001b[0;32m---> 71\u001b[0;31m             \u001b[0mvalue\u001b[0m \u001b[0;34m=\u001b[0m \u001b[0m_convert\u001b[0m\u001b[0;34m(\u001b[0m\u001b[0mself\u001b[0m\u001b[0;34m.\u001b[0m\u001b[0mexpected_type\u001b[0m\u001b[0;34m,\u001b[0m \u001b[0mvalue\u001b[0m\u001b[0;34m)\u001b[0m\u001b[0;34m\u001b[0m\u001b[0;34m\u001b[0m\u001b[0m\n\u001b[0m\u001b[1;32m     72\u001b[0m         \u001b[0msuper\u001b[0m\u001b[0;34m(\u001b[0m\u001b[0;34m)\u001b[0m\u001b[0;34m.\u001b[0m\u001b[0m__set__\u001b[0m\u001b[0;34m(\u001b[0m\u001b[0minstance\u001b[0m\u001b[0;34m,\u001b[0m \u001b[0mvalue\u001b[0m\u001b[0;34m)\u001b[0m\u001b[0;34m\u001b[0m\u001b[0;34m\u001b[0m\u001b[0m\n\u001b[1;32m     73\u001b[0m \u001b[0;34m\u001b[0m\u001b[0m\n",
            "\u001b[0;32m/usr/local/lib/python3.11/dist-packages/openpyxl/descriptors/base.py\u001b[0m in \u001b[0;36m_convert\u001b[0;34m(expected_type, value)\u001b[0m\n\u001b[1;32m     59\u001b[0m             \u001b[0mvalue\u001b[0m \u001b[0;34m=\u001b[0m \u001b[0mexpected_type\u001b[0m\u001b[0;34m(\u001b[0m\u001b[0mvalue\u001b[0m\u001b[0;34m)\u001b[0m\u001b[0;34m\u001b[0m\u001b[0;34m\u001b[0m\u001b[0m\n\u001b[1;32m     60\u001b[0m         \u001b[0;32mexcept\u001b[0m\u001b[0;34m:\u001b[0m\u001b[0;34m\u001b[0m\u001b[0;34m\u001b[0m\u001b[0m\n\u001b[0;32m---> 61\u001b[0;31m             \u001b[0;32mraise\u001b[0m \u001b[0mTypeError\u001b[0m\u001b[0;34m(\u001b[0m\u001b[0;34m'expected '\u001b[0m \u001b[0;34m+\u001b[0m \u001b[0mstr\u001b[0m\u001b[0;34m(\u001b[0m\u001b[0mexpected_type\u001b[0m\u001b[0;34m)\u001b[0m\u001b[0;34m)\u001b[0m\u001b[0;34m\u001b[0m\u001b[0;34m\u001b[0m\u001b[0m\n\u001b[0m\u001b[1;32m     62\u001b[0m     \u001b[0;32mreturn\u001b[0m \u001b[0mvalue\u001b[0m\u001b[0;34m\u001b[0m\u001b[0;34m\u001b[0m\u001b[0m\n\u001b[1;32m     63\u001b[0m \u001b[0;34m\u001b[0m\u001b[0m\n",
            "\u001b[0;31mTypeError\u001b[0m: expected <class 'int'>"
          ]
        }
      ]
    },
    {
      "cell_type": "code",
      "source": [
        "# Define the range of weeks\n",
        "weeks = range(1, 19)  # Weeks 1 to 18\n",
        "\n",
        "# Create an empty list to store data\n",
        "all_weeks_data = []\n",
        "\n",
        "# Loop through each week and get the roster data\n",
        "for week in weeks:\n",
        "    week_data = []  # Temporary storage for current week's data\n",
        "\n",
        "    for team in league.teams:\n",
        "        team_name = team.team_name  # Fantasy Team Name\n",
        "\n",
        "        for player in team.roster:\n",
        "            week_data.append({\n",
        "                \"Team Name\": team_name,\n",
        "                \"Week\": week,\n",
        "                \"Player Name\": player.name,\n",
        "                \"ESPN ID\": player.playerId,  # ESPN Unique Player ID\n",
        "                \"Position\": player.position if player.lineupSlot != \"BE\" else \"Bench\"\n",
        "            })\n",
        "\n",
        "    # If no data is returned for this week, stop iterating\n",
        "    if not week_data:\n",
        "        print(f\"No data found for Week {week}. Stopping iteration.\")\n",
        "        break  # Stop looping when a week has no data\n",
        "\n",
        "    # Add this week's data to the master list\n",
        "    all_weeks_data.extend(week_data)\n",
        "\n",
        "# Convert to DataFrame\n",
        "df = pd.DataFrame(all_weeks_data)\n"
      ],
      "metadata": {
        "id": "xDJEg-sx3MLr"
      },
      "execution_count": null,
      "outputs": []
    },
    {
      "cell_type": "code",
      "source": [
        "print(df.head())"
      ],
      "metadata": {
        "id": "GO6EEoc23aYq",
        "outputId": "44b92572-c6ec-4822-b371-64639a57b286",
        "colab": {
          "base_uri": "https://localhost:8080/"
        }
      },
      "execution_count": null,
      "outputs": [
        {
          "output_type": "stream",
          "name": "stdout",
          "text": [
            "          Team Name  Week      Player Name  ESPN ID Position\n",
            "0  Fightin' Furries     1      Tyreek Hill  3116406       WR\n",
            "1  Fightin' Furries     1    Isiah Pacheco  4361529       RB\n",
            "2  Fightin' Furries     1        Joe Mixon  3116385    Bench\n",
            "3  Fightin' Furries     1  Patrick Mahomes  3139477       QB\n",
            "4  Fightin' Furries     1   Dalton Kincaid  4385690    Bench\n"
          ]
        }
      ]
    },
    {
      "cell_type": "code",
      "source": [
        "full_season_data = pd.merge(df, season_stats_all, left_on=\"ESPN ID\", right_on = \"espn_id\", how=\"left\")\n",
        "full_weekly_data = pd.merge(df, weekly_stats_all, left_on=\"ESPN ID\", right_on = \"espn_id\", how=\"left\")"
      ],
      "metadata": {
        "id": "56dTeqQDBrLG"
      },
      "execution_count": null,
      "outputs": []
    },
    {
      "cell_type": "code",
      "source": [
        "print(full_season_data.columns)"
      ],
      "metadata": {
        "id": "Ur3UJRf1CW3z",
        "outputId": "aa7a208e-c8d8-4351-fb16-92c36f1d3cff",
        "colab": {
          "base_uri": "https://localhost:8080/"
        }
      },
      "execution_count": null,
      "outputs": [
        {
          "output_type": "stream",
          "name": "stdout",
          "text": [
            "Index(['Team Name', 'Week', 'Player Name', 'ESPN ID', 'Position', 'player_id',\n",
            "       'player_name', 'player_display_name', 'position', 'position_group',\n",
            "       'headshot_url', 'recent_team', 'season', 'week', 'season_type',\n",
            "       'opponent_team', 'completions', 'attempts', 'passing_yards',\n",
            "       'passing_tds', 'interceptions', 'sacks', 'sack_yards', 'sack_fumbles',\n",
            "       'sack_fumbles_lost', 'passing_air_yards', 'passing_yards_after_catch',\n",
            "       'passing_first_downs', 'passing_epa', 'passing_2pt_conversions', 'pacr',\n",
            "       'dakota', 'carries', 'rushing_yards', 'rushing_tds', 'rushing_fumbles',\n",
            "       'rushing_fumbles_lost', 'rushing_first_downs', 'rushing_epa',\n",
            "       'rushing_2pt_conversions', 'receptions', 'targets', 'receiving_yards',\n",
            "       'receiving_tds', 'receiving_fumbles', 'receiving_fumbles_lost',\n",
            "       'receiving_air_yards', 'receiving_yards_after_catch',\n",
            "       'receiving_first_downs', 'receiving_epa', 'receiving_2pt_conversions',\n",
            "       'racr', 'target_share', 'air_yards_share', 'wopr', 'special_teams_tds',\n",
            "       'fantasy_points', 'fantasy_points_ppr', 'half_PPR', 'team', 'fg_made',\n",
            "       'fg_att', 'fg_missed', 'fg_blocked', 'fg_long', 'fg_pct',\n",
            "       'fg_made_0_19', 'fg_made_20_29', 'fg_made_30_39', 'fg_made_40_49',\n",
            "       'fg_made_50_59', 'fg_made_60_', 'fg_missed_0_19', 'fg_missed_20_29',\n",
            "       'fg_missed_30_39', 'fg_missed_40_49', 'fg_missed_50_59',\n",
            "       'fg_missed_60_', 'fg_made_list', 'fg_missed_list', 'fg_blocked_list',\n",
            "       'fg_made_distance', 'fg_missed_distance', 'fg_blocked_distance',\n",
            "       'pat_made', 'pat_att', 'pat_missed', 'pat_blocked', 'pat_pct',\n",
            "       'gwfg_att', 'gwfg_distance', 'gwfg_made', 'gwfg_missed', 'gwfg_blocked',\n",
            "       'espn_id', 'name', 'age', 'height', 'weight', 'college'],\n",
            "      dtype='object')\n"
          ]
        }
      ]
    },
    {
      "cell_type": "markdown",
      "source": [
        "***Currently have data all ready to go besides defensive scoring - still need to figure out adding defenseive touchdowns to their scoring. But we have all the data for the model***"
      ],
      "metadata": {
        "id": "3Id_pSI_EF-1"
      }
    }
  ]
}