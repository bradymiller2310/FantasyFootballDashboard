{
  "nbformat": 4,
  "nbformat_minor": 0,
  "metadata": {
    "colab": {
      "provenance": [],
      "gpuType": "T4",
      "include_colab_link": true
    },
    "kernelspec": {
      "name": "python3",
      "display_name": "Python 3"
    },
    "language_info": {
      "name": "python"
    },
    "accelerator": "GPU"
  },
  "cells": [
    {
      "cell_type": "markdown",
      "metadata": {
        "id": "view-in-github",
        "colab_type": "text"
      },
      "source": [
        "<a href=\"https://colab.research.google.com/github/bradymiller2310/FantasyFootballDashboard/blob/main/ESPN_FF_Scraper.ipynb\" target=\"_parent\"><img src=\"https://colab.research.google.com/assets/colab-badge.svg\" alt=\"Open In Colab\"/></a>"
      ]
    },
    {
      "cell_type": "code",
      "source": [
        "!pip install espn-api\n",
        "!pip install pandas\n",
        "!pip install openpyxl\n",
        "\n",
        "#pip uninstall -y numpy catboost\n",
        "!pip install numpy==1.24.4  # Safe version compatible with catboost\n",
        "!pip install catboost --no-cache-dir"
      ],
      "metadata": {
        "colab": {
          "base_uri": "https://localhost:8080/"
        },
        "id": "iI2Vhi-lpDtI",
        "outputId": "6aea547d-c0a6-472e-9839-6765736ae3b3"
      },
      "execution_count": 1,
      "outputs": [
        {
          "output_type": "stream",
          "name": "stdout",
          "text": [
            "Requirement already satisfied: espn-api in /usr/local/lib/python3.11/dist-packages (0.44.1)\n",
            "Requirement already satisfied: requests<3.0.0,>=2.0.0 in /usr/local/lib/python3.11/dist-packages (from espn-api) (2.32.3)\n",
            "Requirement already satisfied: urllib3<=2.2.3 in /usr/local/lib/python3.11/dist-packages (from espn-api) (2.2.3)\n",
            "Requirement already satisfied: charset-normalizer<4,>=2 in /usr/local/lib/python3.11/dist-packages (from requests<3.0.0,>=2.0.0->espn-api) (3.4.1)\n",
            "Requirement already satisfied: idna<4,>=2.5 in /usr/local/lib/python3.11/dist-packages (from requests<3.0.0,>=2.0.0->espn-api) (3.10)\n",
            "Requirement already satisfied: certifi>=2017.4.17 in /usr/local/lib/python3.11/dist-packages (from requests<3.0.0,>=2.0.0->espn-api) (2025.1.31)\n",
            "Requirement already satisfied: pandas in /usr/local/lib/python3.11/dist-packages (2.2.2)\n",
            "Requirement already satisfied: numpy>=1.23.2 in /usr/local/lib/python3.11/dist-packages (from pandas) (1.24.4)\n",
            "Requirement already satisfied: python-dateutil>=2.8.2 in /usr/local/lib/python3.11/dist-packages (from pandas) (2.8.2)\n",
            "Requirement already satisfied: pytz>=2020.1 in /usr/local/lib/python3.11/dist-packages (from pandas) (2025.1)\n",
            "Requirement already satisfied: tzdata>=2022.7 in /usr/local/lib/python3.11/dist-packages (from pandas) (2025.1)\n",
            "Requirement already satisfied: six>=1.5 in /usr/local/lib/python3.11/dist-packages (from python-dateutil>=2.8.2->pandas) (1.17.0)\n",
            "Requirement already satisfied: openpyxl in /usr/local/lib/python3.11/dist-packages (3.1.5)\n",
            "Requirement already satisfied: et-xmlfile in /usr/local/lib/python3.11/dist-packages (from openpyxl) (2.0.0)\n",
            "Requirement already satisfied: numpy==1.24.4 in /usr/local/lib/python3.11/dist-packages (1.24.4)\n",
            "Collecting catboost\n",
            "  Downloading catboost-1.2.7-cp311-cp311-manylinux2014_x86_64.whl.metadata (1.2 kB)\n",
            "Requirement already satisfied: graphviz in /usr/local/lib/python3.11/dist-packages (from catboost) (0.20.3)\n",
            "Requirement already satisfied: matplotlib in /usr/local/lib/python3.11/dist-packages (from catboost) (3.10.0)\n",
            "Requirement already satisfied: numpy<2.0,>=1.16.0 in /usr/local/lib/python3.11/dist-packages (from catboost) (1.24.4)\n",
            "Requirement already satisfied: pandas>=0.24 in /usr/local/lib/python3.11/dist-packages (from catboost) (2.2.2)\n",
            "Requirement already satisfied: scipy in /usr/local/lib/python3.11/dist-packages (from catboost) (1.14.1)\n",
            "Requirement already satisfied: plotly in /usr/local/lib/python3.11/dist-packages (from catboost) (5.24.1)\n",
            "Requirement already satisfied: six in /usr/local/lib/python3.11/dist-packages (from catboost) (1.17.0)\n",
            "Requirement already satisfied: python-dateutil>=2.8.2 in /usr/local/lib/python3.11/dist-packages (from pandas>=0.24->catboost) (2.8.2)\n",
            "Requirement already satisfied: pytz>=2020.1 in /usr/local/lib/python3.11/dist-packages (from pandas>=0.24->catboost) (2025.1)\n",
            "Requirement already satisfied: tzdata>=2022.7 in /usr/local/lib/python3.11/dist-packages (from pandas>=0.24->catboost) (2025.1)\n",
            "Requirement already satisfied: contourpy>=1.0.1 in /usr/local/lib/python3.11/dist-packages (from matplotlib->catboost) (1.3.1)\n",
            "Requirement already satisfied: cycler>=0.10 in /usr/local/lib/python3.11/dist-packages (from matplotlib->catboost) (0.12.1)\n",
            "Requirement already satisfied: fonttools>=4.22.0 in /usr/local/lib/python3.11/dist-packages (from matplotlib->catboost) (4.56.0)\n",
            "Requirement already satisfied: kiwisolver>=1.3.1 in /usr/local/lib/python3.11/dist-packages (from matplotlib->catboost) (1.4.8)\n",
            "Requirement already satisfied: packaging>=20.0 in /usr/local/lib/python3.11/dist-packages (from matplotlib->catboost) (24.2)\n",
            "Requirement already satisfied: pillow>=8 in /usr/local/lib/python3.11/dist-packages (from matplotlib->catboost) (11.1.0)\n",
            "Requirement already satisfied: pyparsing>=2.3.1 in /usr/local/lib/python3.11/dist-packages (from matplotlib->catboost) (3.2.1)\n",
            "Requirement already satisfied: tenacity>=6.2.0 in /usr/local/lib/python3.11/dist-packages (from plotly->catboost) (9.0.0)\n",
            "Downloading catboost-1.2.7-cp311-cp311-manylinux2014_x86_64.whl (98.7 MB)\n",
            "\u001b[2K   \u001b[90m━━━━━━━━━━━━━━━━━━━━━━━━━━━━━━━━━━━━━━━━\u001b[0m \u001b[32m98.7/98.7 MB\u001b[0m \u001b[31m266.8 MB/s\u001b[0m eta \u001b[36m0:00:00\u001b[0m\n",
            "\u001b[?25hInstalling collected packages: catboost\n",
            "Successfully installed catboost-1.2.7\n"
          ]
        }
      ]
    },
    {
      "cell_type": "code",
      "execution_count": 2,
      "metadata": {
        "id": "gV03Pq9poyaX"
      },
      "outputs": [],
      "source": [
        "from espn_api.football import League\n",
        "import pandas as pd\n",
        "import numpy as np\n",
        "from catboost import CatBoostRegressor, Pool"
      ]
    },
    {
      "cell_type": "code",
      "source": [
        "league = League(league_id=1292514, year=2024, espn_s2=\"AECPNWyLvfnlcFfE0Xb73O%2BP5ZU9n1G%2FSnP3ixxvuqSwQRcQe7bEQfBuz3YBNeRluTYofdhX2aTajj0jZSF%2B8i9ewdk8Dwf6p9G215F2FjmI06wPKyhjleL4WzaT3PCiP15FDXe55YNMkQeJXgbsCuK1VHbdQ1Nxidq0JxAHezRn2zAt6WwNtSqrF0k2nNHV33VpJqPmMk4msFmaoCaz0UAp95xxy1YmXyEUnZWgA60HJkbsgYkZ8AaESwFENsPYdUvKYqCwnZLjvgI5varhOTDYekjvokdtaCoxJfzOdGLJ3g%3D%3D\", swid=\"{D68FE5F2-46CE-421C-B248-DDA01360BB34}\")\n",
        "print(league.teams)  #Teams in league"
      ],
      "metadata": {
        "colab": {
          "base_uri": "https://localhost:8080/"
        },
        "id": "DFytiAtEo5sl",
        "outputId": "26814c00-810f-4b9d-9276-3c96695fe9c7"
      },
      "execution_count": 3,
      "outputs": [
        {
          "output_type": "stream",
          "name": "stdout",
          "text": [
            "[Team(Fightin' Furries), Team(Quon Solo), Team(Jen-eral ⚔️), Team(Captain Sweatpants), Team(Salmon LipBalm !!), Team(Graham’s Groupie), Team(pop-pop's bible study), Team(Bucktown Bandits), Team(bird gang), Team(bungalicious  💅)]\n"
          ]
        }
      ]
    },
    {
      "cell_type": "markdown",
      "source": [
        "## **Testing out api functionalities**\n",
        "*This section contains code chunks that load in various data - used to see what we had access to.*"
      ],
      "metadata": {
        "id": "IFG7HhNzQp4h"
      }
    },
    {
      "cell_type": "code",
      "source": [
        "for week in range(1, 15):\n",
        "    print(f\"Week {week} Schedule:\")\n",
        "    for matchup in league.scoreboard(week=week):\n",
        "        print(f\"{matchup.home_team} vs {matchup.away_team}\")"
      ],
      "metadata": {
        "id": "5W3DrXSnpPOv",
        "colab": {
          "base_uri": "https://localhost:8080/"
        },
        "outputId": "17651e53-b802-471f-97cc-9214d5df4e52"
      },
      "execution_count": null,
      "outputs": [
        {
          "output_type": "stream",
          "name": "stdout",
          "text": [
            "Week 1 Schedule:\n",
            "Team(Bucktown Bandits) vs Team(Graham’s Groupie)\n",
            "Team(bungalicious  💅) vs Team(Fightin' Furries)\n",
            "Team(bird gang) vs Team(Salmon LipBalm !!)\n",
            "Team(pop-pop's bible study) vs Team(Quon Solo)\n",
            "Team(Jen-eral ⚔️) vs Team(Captain Sweatpants)\n",
            "Week 2 Schedule:\n",
            "Team(Fightin' Furries) vs Team(Salmon LipBalm !!)\n",
            "Team(Quon Solo) vs Team(Bucktown Bandits)\n",
            "Team(Captain Sweatpants) vs Team(Graham’s Groupie)\n",
            "Team(pop-pop's bible study) vs Team(bungalicious  💅)\n",
            "Team(Jen-eral ⚔️) vs Team(bird gang)\n",
            "Week 3 Schedule:\n",
            "Team(Quon Solo) vs Team(Captain Sweatpants)\n",
            "Team(Fightin' Furries) vs Team(pop-pop's bible study)\n",
            "Team(Salmon LipBalm !!) vs Team(Jen-eral ⚔️)\n",
            "Team(Bucktown Bandits) vs Team(bungalicious  💅)\n",
            "Team(Graham’s Groupie) vs Team(bird gang)\n",
            "Week 4 Schedule:\n",
            "Team(pop-pop's bible study) vs Team(Jen-eral ⚔️)\n",
            "Team(bungalicious  💅) vs Team(Quon Solo)\n",
            "Team(bird gang) vs Team(Captain Sweatpants)\n",
            "Team(Bucktown Bandits) vs Team(Fightin' Furries)\n",
            "Team(Graham’s Groupie) vs Team(Salmon LipBalm !!)\n",
            "Week 5 Schedule:\n",
            "Team(bungalicious  💅) vs Team(bird gang)\n",
            "Team(pop-pop's bible study) vs Team(Bucktown Bandits)\n",
            "Team(Jen-eral ⚔️) vs Team(Graham’s Groupie)\n",
            "Team(Quon Solo) vs Team(Fightin' Furries)\n",
            "Team(Captain Sweatpants) vs Team(Salmon LipBalm !!)\n",
            "Week 6 Schedule:\n",
            "Team(Graham’s Groupie) vs Team(Fightin' Furries)\n",
            "Team(Salmon LipBalm !!) vs Team(Quon Solo)\n",
            "Team(Captain Sweatpants) vs Team(pop-pop's bible study)\n",
            "Team(Jen-eral ⚔️) vs Team(bungalicious  💅)\n",
            "Team(bird gang) vs Team(Bucktown Bandits)\n",
            "Week 7 Schedule:\n",
            "Team(Quon Solo) vs Team(Graham’s Groupie)\n",
            "Team(pop-pop's bible study) vs Team(Salmon LipBalm !!)\n",
            "Team(bungalicious  💅) vs Team(Captain Sweatpants)\n",
            "Team(Bucktown Bandits) vs Team(Jen-eral ⚔️)\n",
            "Team(Fightin' Furries) vs Team(bird gang)\n",
            "Week 8 Schedule:\n",
            "Team(Graham’s Groupie) vs Team(pop-pop's bible study)\n",
            "Team(Salmon LipBalm !!) vs Team(bungalicious  💅)\n",
            "Team(Captain Sweatpants) vs Team(Bucktown Bandits)\n",
            "Team(Jen-eral ⚔️) vs Team(Fightin' Furries)\n",
            "Team(bird gang) vs Team(Quon Solo)\n",
            "Week 9 Schedule:\n",
            "Team(bungalicious  💅) vs Team(Graham’s Groupie)\n",
            "Team(Bucktown Bandits) vs Team(pop-pop's bible study)\n",
            "Team(Salmon LipBalm !!) vs Team(bird gang)\n",
            "Team(Fightin' Furries) vs Team(Quon Solo)\n",
            "Team(Captain Sweatpants) vs Team(Jen-eral ⚔️)\n",
            "Week 10 Schedule:\n",
            "Team(Bucktown Bandits) vs Team(Salmon LipBalm !!)\n",
            "Team(Fightin' Furries) vs Team(bungalicious  💅)\n",
            "Team(Graham’s Groupie) vs Team(Captain Sweatpants)\n",
            "Team(Quon Solo) vs Team(pop-pop's bible study)\n",
            "Team(bird gang) vs Team(Jen-eral ⚔️)\n",
            "Week 11 Schedule:\n",
            "Team(Fightin' Furries) vs Team(Captain Sweatpants)\n",
            "Team(Bucktown Bandits) vs Team(Quon Solo)\n",
            "Team(Jen-eral ⚔️) vs Team(Salmon LipBalm !!)\n",
            "Team(bungalicious  💅) vs Team(pop-pop's bible study)\n",
            "Team(bird gang) vs Team(Graham’s Groupie)\n",
            "Week 12 Schedule:\n",
            "Team(Quon Solo) vs Team(Jen-eral ⚔️)\n",
            "Team(pop-pop's bible study) vs Team(Fightin' Furries)\n",
            "Team(Captain Sweatpants) vs Team(bird gang)\n",
            "Team(bungalicious  💅) vs Team(Bucktown Bandits)\n",
            "Team(Salmon LipBalm !!) vs Team(Graham’s Groupie)\n",
            "Week 13 Schedule:\n",
            "Team(pop-pop's bible study) vs Team(bird gang)\n",
            "Team(Quon Solo) vs Team(bungalicious  💅)\n",
            "Team(Graham’s Groupie) vs Team(Jen-eral ⚔️)\n",
            "Team(Fightin' Furries) vs Team(Bucktown Bandits)\n",
            "Team(Salmon LipBalm !!) vs Team(Captain Sweatpants)\n",
            "Week 14 Schedule:\n",
            "Team(Graham’s Groupie) vs Team(Bucktown Bandits)\n",
            "Team(Salmon LipBalm !!) vs Team(Fightin' Furries)\n",
            "Team(Captain Sweatpants) vs Team(Quon Solo)\n",
            "Team(Jen-eral ⚔️) vs Team(pop-pop's bible study)\n",
            "Team(bird gang) vs Team(bungalicious  💅)\n"
          ]
        }
      ]
    },
    {
      "cell_type": "code",
      "source": [
        "free_agents = league.free_agents(size=20, position='QB')  # Get top 20 available QBs\n",
        "\n",
        "print(\"Available Free Agents (QB):\")\n",
        "for player in free_agents:\n",
        "    print(f\"  - {player.name} ({player.proTeam})\")"
      ],
      "metadata": {
        "id": "_WP9t9mrqyyF",
        "outputId": "e15ee48b-7d63-4a1b-d727-8056a502a8e0",
        "colab": {
          "base_uri": "https://localhost:8080/"
        }
      },
      "execution_count": null,
      "outputs": [
        {
          "output_type": "stream",
          "name": "stdout",
          "text": [
            "Available Free Agents (QB):\n",
            "  - C.J. Stroud (HOU)\n",
            "  - Tua Tagovailoa (MIA)\n",
            "  - Anthony Richardson (IND)\n",
            "  - Aaron Rodgers (None)\n",
            "  - Kirk Cousins (ATL)\n",
            "  - Bryce Young (CAR)\n",
            "  - Michael Penix Jr. (ATL)\n",
            "  - Trevor Lawrence (JAX)\n",
            "  - Jameis Winston (CLE)\n",
            "  - Derek Carr (NO)\n",
            "  - Justin Fields (NYJ)\n",
            "  - Joe Flacco (IND)\n",
            "  - Deshaun Watson (CLE)\n",
            "  - Cooper Rush (BAL)\n",
            "  - Daniel Jones (IND)\n",
            "  - Tom Brady (TB)\n",
            "  - Mason Rudolph (PIT)\n",
            "  - Mac Jones (SF)\n",
            "  - Tommy DeVito (NYG)\n",
            "  - Aidan O'Connell (LV)\n"
          ]
        }
      ]
    },
    {
      "cell_type": "code",
      "source": [
        "for team in league.teams:\n",
        "    print(f\"\\nTeam: {team.team_name}\")\n",
        "    print(\"Roster:\")\n",
        "    for player in team.roster:\n",
        "        print(f\"  - {player.name} ({player.position})\")"
      ],
      "metadata": {
        "id": "Q9sOrwEqrYvv",
        "outputId": "dcaae1fe-d33f-4963-b475-87eb5d38e689",
        "colab": {
          "base_uri": "https://localhost:8080/"
        }
      },
      "execution_count": null,
      "outputs": [
        {
          "output_type": "stream",
          "name": "stdout",
          "text": [
            "\n",
            "Team: Fightin' Furries\n",
            "Roster:\n",
            "  - Tyreek Hill (WR)\n",
            "  - Isiah Pacheco (RB)\n",
            "  - Joe Mixon (RB)\n",
            "  - Patrick Mahomes (QB)\n",
            "  - Dalton Kincaid (TE)\n",
            "  - Zay Flowers (WR)\n",
            "  - Jaxon Smith-Njigba (WR)\n",
            "  - Gus Edwards (RB)\n",
            "  - Matthew Stafford (QB)\n",
            "  - Kareem Hunt (RB)\n",
            "  - Broncos D/ST (D/ST)\n",
            "  - David Njoku (TE)\n",
            "  - Caleb Williams (QB)\n",
            "  - DeAndre Hopkins (WR)\n",
            "  - Bills D/ST (D/ST)\n",
            "  - Matthew Wright (K)\n",
            "\n",
            "Team: Quon Solo\n",
            "Roster:\n",
            "  - Justin Jefferson (WR)\n",
            "  - Kyren Williams (RB)\n",
            "  - Marvin Harrison Jr. (WR)\n",
            "  - Mike Evans (WR)\n",
            "  - D'Andre Swift (RB)\n",
            "  - Brian Robinson Jr. (RB)\n",
            "  - Kyler Murray (QB)\n",
            "  - J.K. Dobbins (RB)\n",
            "  - Geno Smith (QB)\n",
            "  - Chris Boswell (K)\n",
            "  - Romeo Doubs (WR)\n",
            "  - Mark Andrews (TE)\n",
            "  - Bears D/ST (D/ST)\n",
            "  - Courtland Sutton (WR)\n",
            "  - Josh Downs (WR)\n",
            "  - Evan Engram (TE)\n",
            "\n",
            "Team: Jen-eral ⚔️\n",
            "Roster:\n",
            "  - Derrick Henry (RB)\n",
            "  - A.J. Brown (WR)\n",
            "  - Alvin Kamara (RB)\n",
            "  - Jalen Hurts (QB)\n",
            "  - Calvin Ridley (WR)\n",
            "  - Raheem Mostert (RB)\n",
            "  - Jets D/ST (D/ST)\n",
            "  - Pat Freiermuth (TE)\n",
            "  - Darnell Mooney (WR)\n",
            "  - Bucky Irving (RB)\n",
            "  - Jayden Reed (WR)\n",
            "  - Dontayvion Wicks (WR)\n",
            "  - Cameron Dicker (K)\n",
            "  - Tank Bigsby (RB)\n",
            "  - Dolphins D/ST (D/ST)\n",
            "  - Jonnu Smith (TE)\n",
            "\n",
            "Team: Captain Sweatpants\n",
            "Roster:\n",
            "  - CeeDee Lamb (WR)\n",
            "  - Garrett Wilson (WR)\n",
            "  - Rachaad White (RB)\n",
            "  - Nico Collins (WR)\n",
            "  - James Conner (RB)\n",
            "  - George Pickens (WR)\n",
            "  - Cowboys D/ST (D/ST)\n",
            "  - Chase McLaughlin (K)\n",
            "  - Jake Elliott (K)\n",
            "  - Bo Nix (QB)\n",
            "  - Mike Gesicki (TE)\n",
            "  - Rico Dowdle (RB)\n",
            "  - Will Dissly (TE)\n",
            "  - Will Levis (QB)\n",
            "  - Chargers D/ST (D/ST)\n",
            "  - Khalil Shakir (WR)\n",
            "\n",
            "Team: Salmon LipBalm !!\n",
            "Roster:\n",
            "  - Bijan Robinson (RB)\n",
            "  - Jahmyr Gibbs (RB)\n",
            "  - Jaylen Waddle (WR)\n",
            "  - Rhamondre Stevenson (RB)\n",
            "  - Davante Adams (WR)\n",
            "  - Jordan Love (QB)\n",
            "  - Ka'imi Fairbairn (K)\n",
            "  - Trey McBride (TE)\n",
            "  - Vikings D/ST (D/ST)\n",
            "  - Chase Brown (RB)\n",
            "  - Brian Thomas Jr. (WR)\n",
            "  - Puka Nacua (WR)\n",
            "  - Hunter Henry (TE)\n",
            "  - Russell Wilson (QB)\n",
            "  - Wil Lutz (K)\n",
            "  - Drake Maye (QB)\n",
            "\n",
            "Team: Graham’s Groupie\n",
            "Roster:\n",
            "  - Ja'Marr Chase (WR)\n",
            "  - James Cook (RB)\n",
            "  - Drake London (WR)\n",
            "  - Josh Allen (QB)\n",
            "  - Najee Harris (RB)\n",
            "  - Amari Cooper (WR)\n",
            "  - Jayden Daniels (QB)\n",
            "  - Jauan Jennings (WR)\n",
            "  - Tyrone Tracy Jr. (RB)\n",
            "  - Travis Etienne Jr. (RB)\n",
            "  - Jordan Addison (WR)\n",
            "  - T.J. Hockenson (TE)\n",
            "  - Jason Sanders (K)\n",
            "  - Ravens D/ST (D/ST)\n",
            "  - Isaac Guerendo (RB)\n",
            "  - Alexander Mattison (RB)\n",
            "\n",
            "Team: pop-pop's bible study\n",
            "Roster:\n",
            "  - Breece Hall (RB)\n",
            "  - Josh Jacobs (RB)\n",
            "  - Lamar Jackson (QB)\n",
            "  - George Kittle (TE)\n",
            "  - Aaron Jones (RB)\n",
            "  - Terry McLaurin (WR)\n",
            "  - Tyjae Spears (RB)\n",
            "  - Rome Odunze (WR)\n",
            "  - Chiefs D/ST (D/ST)\n",
            "  - Jared Goff (QB)\n",
            "  - Lions D/ST (D/ST)\n",
            "  - Jameson Williams (WR)\n",
            "  - Zach Ertz (TE)\n",
            "  - Christian Watson (WR)\n",
            "  - Justin Tucker (K)\n",
            "  - Packers D/ST (D/ST)\n",
            "\n",
            "Team: Bucktown Bandits\n",
            "Roster:\n",
            "  - Jonathan Taylor (RB)\n",
            "  - Amon-Ra St. Brown (WR)\n",
            "  - De'Von Achane (RB)\n",
            "  - Travis Kelce (TE)\n",
            "  - Cooper Kupp (WR)\n",
            "  - Joe Burrow (QB)\n",
            "  - Tank Dell (WR)\n",
            "  - Tony Pollard (RB)\n",
            "  - Xavier Worthy (WR)\n",
            "  - Jakobi Meyers (WR)\n",
            "  - DJ Moore (WR)\n",
            "  - Cade Otton (TE)\n",
            "  - Jaylen Warren (RB)\n",
            "  - Justin Herbert (QB)\n",
            "  - Buccaneers D/ST (D/ST)\n",
            "  - Brandon Aubrey (K)\n",
            "\n",
            "Team: bird gang\n",
            "Roster:\n",
            "  - Christian McCaffrey (RB)\n",
            "  - DK Metcalf (WR)\n",
            "  - Brandon Aiyuk (WR)\n",
            "  - David Montgomery (RB)\n",
            "  - DeVonta Smith (WR)\n",
            "  - Brock Purdy (QB)\n",
            "  - Stefon Diggs (WR)\n",
            "  - Jake Ferguson (TE)\n",
            "  - Javonte Williams (RB)\n",
            "  - Dallas Goedert (TE)\n",
            "  - Chuba Hubbard (RB)\n",
            "  - Blake Corum (RB)\n",
            "  - DeMario Douglas (WR)\n",
            "  - Baker Mayfield (QB)\n",
            "  - Tyler Bass (K)\n",
            "  - Eagles D/ST (D/ST)\n",
            "\n",
            "Team: bungalicious  💅\n",
            "Roster:\n",
            "  - Saquon Barkley (RB)\n",
            "  - Deebo Samuel Sr. (WR)\n",
            "  - Kenneth Walker III (RB)\n",
            "  - Sam LaPorta (TE)\n",
            "  - Tee Higgins (WR)\n",
            "  - Dak Prescott (QB)\n",
            "  - Malik Nabers (WR)\n",
            "  - Brock Bowers (TE)\n",
            "  - Ty Chandler (RB)\n",
            "  - Jerry Jeudy (WR)\n",
            "  - Chig Okonkwo (TE)\n",
            "  - Gabe Davis (WR)\n",
            "  - Jake Bates (K)\n",
            "  - Sam Darnold (QB)\n",
            "  - Colts D/ST (D/ST)\n",
            "  - Zach Charbonnet (RB)\n"
          ]
        }
      ]
    },
    {
      "cell_type": "code",
      "source": [
        "week_number = 1\n",
        "box_scores = league.box_scores(week=week_number)\n",
        "\n",
        "for matchup in box_scores:\n",
        "    print(f\"\\nMatchup: {matchup.home_team} vs {matchup.away_team}\")\n",
        "    print(f\"  Home Score: {matchup.home_score}\")\n",
        "    print(f\"  Away Score: {matchup.away_score}\")"
      ],
      "metadata": {
        "id": "Nz8qaA22roRC",
        "outputId": "c8a931d0-a611-453c-f6d5-cd2ddee3fc15",
        "colab": {
          "base_uri": "https://localhost:8080/"
        }
      },
      "execution_count": null,
      "outputs": [
        {
          "output_type": "stream",
          "name": "stdout",
          "text": [
            "\n",
            "Matchup: Team(Bucktown Bandits) vs Team(Graham’s Groupie)\n",
            "  Home Score: 73.0\n",
            "  Away Score: 96.0\n",
            "\n",
            "Matchup: Team(bungalicious  💅) vs Team(Fightin' Furries)\n",
            "  Home Score: 101.0\n",
            "  Away Score: 94.0\n",
            "\n",
            "Matchup: Team(bird gang) vs Team(Salmon LipBalm !!)\n",
            "  Home Score: 59.0\n",
            "  Away Score: 101.0\n",
            "\n",
            "Matchup: Team(pop-pop's bible study) vs Team(Quon Solo)\n",
            "  Home Score: 79.0\n",
            "  Away Score: 97.0\n",
            "\n",
            "Matchup: Team(Jen-eral ⚔️) vs Team(Captain Sweatpants)\n",
            "  Home Score: 82.0\n",
            "  Away Score: 110.0\n"
          ]
        }
      ]
    },
    {
      "cell_type": "code",
      "source": [
        "# getting injury status of free agents (not on rosters)\n",
        "\n",
        "free_agents = league.free_agents()\n",
        "i=0\n",
        "for player in free_agents:\n",
        "  player_obj = free_agents[i]\n",
        "  print(f\"Player: {player_obj.name}, Injury Status: {player_obj.injuryStatus}, Injured: {player_obj.injured}\")\n",
        "  i+=1"
      ],
      "metadata": {
        "id": "B8g3WFWUKHpx",
        "outputId": "145aa088-29f4-4340-e274-9fa36061c96b",
        "colab": {
          "base_uri": "https://localhost:8080/"
        }
      },
      "execution_count": null,
      "outputs": [
        {
          "output_type": "stream",
          "name": "stdout",
          "text": [
            "Player: Ladd McConkey, Injury Status: ACTIVE, Injured: False\n",
            "Player: Keenan Allen, Injury Status: ACTIVE, Injured: False\n",
            "Player: Michael Pittman Jr., Injury Status: QUESTIONABLE, Injured: False\n",
            "Player: Steelers D/ST, Injury Status: [], Injured: False\n",
            "Player: C.J. Stroud, Injury Status: ACTIVE, Injured: False\n",
            "Player: Kyle Pitts, Injury Status: ACTIVE, Injured: False\n",
            "Player: Adam Thielen, Injury Status: ACTIVE, Injured: False\n",
            "Player: Chris Olave, Injury Status: QUESTIONABLE, Injured: False\n",
            "Player: Tucker Kraft, Injury Status: ACTIVE, Injured: False\n",
            "Player: 49ers D/ST, Injury Status: [], Injured: False\n",
            "Player: Jerome Ford, Injury Status: QUESTIONABLE, Injured: False\n",
            "Player: Texans D/ST, Injury Status: [], Injured: False\n",
            "Player: Quentin Johnston, Injury Status: ACTIVE, Injured: False\n",
            "Player: Tua Tagovailoa, Injury Status: QUESTIONABLE, Injured: False\n",
            "Player: Nick Chubb, Injury Status: QUESTIONABLE, Injured: False\n",
            "Player: Anthony Richardson, Injury Status: QUESTIONABLE, Injured: False\n",
            "Player: Aaron Rodgers, Injury Status: ACTIVE, Injured: False\n",
            "Player: Tyler Lockett, Injury Status: ACTIVE, Injured: False\n",
            "Player: Austin Ekeler, Injury Status: ACTIVE, Injured: False\n",
            "Player: Keon Coleman, Injury Status: ACTIVE, Injured: False\n",
            "Player: Jalen McMillan, Injury Status: ACTIVE, Injured: False\n",
            "Player: Devin Singletary, Injury Status: ACTIVE, Injured: False\n",
            "Player: Harrison Butker, Injury Status: ACTIVE, Injured: False\n",
            "Player: Dalton Schultz, Injury Status: ACTIVE, Injured: False\n",
            "Player: Kirk Cousins, Injury Status: ACTIVE, Injured: False\n",
            "Player: Bengals D/ST, Injury Status: [], Injured: False\n",
            "Player: Diontae Johnson, Injury Status: ACTIVE, Injured: False\n",
            "Player: Commanders D/ST, Injury Status: [], Injured: False\n",
            "Player: Wan'Dale Robinson, Injury Status: ACTIVE, Injured: False\n",
            "Player: Michael Carter, Injury Status: ACTIVE, Injured: False\n",
            "Player: Chris Godwin, Injury Status: QUESTIONABLE, Injured: False\n",
            "Player: Tyler Allgeier, Injury Status: ACTIVE, Injured: False\n",
            "Player: Saints D/ST, Injury Status: [], Injured: False\n",
            "Player: Jake Moody, Injury Status: ACTIVE, Injured: False\n",
            "Player: Kendre Miller, Injury Status: QUESTIONABLE, Injured: False\n",
            "Player: Cardinals D/ST, Injury Status: [], Injured: False\n",
            "Player: Younghoe Koo, Injury Status: QUESTIONABLE, Injured: False\n",
            "Player: Ameer Abdullah, Injury Status: QUESTIONABLE, Injured: False\n",
            "Player: Browns D/ST, Injury Status: [], Injured: False\n",
            "Player: Falcons D/ST, Injury Status: [], Injured: False\n",
            "Player: Cole Kmet, Injury Status: ACTIVE, Injured: False\n",
            "Player: Jonathon Brooks, Injury Status: QUESTIONABLE, Injured: False\n",
            "Player: Rashee Rice, Injury Status: QUESTIONABLE, Injured: False\n",
            "Player: Evan McPherson, Injury Status: QUESTIONABLE, Injured: False\n",
            "Player: Zack Moss, Injury Status: QUESTIONABLE, Injured: False\n",
            "Player: Hollywood Brown, Injury Status: ACTIVE, Injured: False\n",
            "Player: Christian Kirk, Injury Status: QUESTIONABLE, Injured: False\n",
            "Player: Will Reichard, Injury Status: ACTIVE, Injured: False\n",
            "Player: Braelon Allen, Injury Status: ACTIVE, Injured: False\n",
            "Player: Nick Westbrook-Ikhine, Injury Status: ACTIVE, Injured: False\n"
          ]
        }
      ]
    },
    {
      "cell_type": "code",
      "source": [
        "# getting injury status of players on rosters\n",
        "for team in league.teams:\n",
        "    print(f\"\\nTeam: {team.team_name}\")\n",
        "    for player in team.roster:\n",
        "        print(f\"Player: {player.name}, Injury Status: {player.injuryStatus}, Injured: {player.injured}\")"
      ],
      "metadata": {
        "id": "TZkMkMWGNE2R",
        "outputId": "c1f548b1-df09-4bf7-fdfa-e8561b143700",
        "colab": {
          "base_uri": "https://localhost:8080/"
        }
      },
      "execution_count": null,
      "outputs": [
        {
          "output_type": "stream",
          "name": "stdout",
          "text": [
            "\n",
            "Team: Fightin' Furries\n",
            "Player: Tyreek Hill, Injury Status: QUESTIONABLE, Injured: False\n",
            "Player: Isiah Pacheco, Injury Status: ACTIVE, Injured: False\n",
            "Player: Joe Mixon, Injury Status: ACTIVE, Injured: False\n",
            "Player: Patrick Mahomes, Injury Status: ACTIVE, Injured: False\n",
            "Player: Dalton Kincaid, Injury Status: ACTIVE, Injured: False\n",
            "Player: Zay Flowers, Injury Status: QUESTIONABLE, Injured: False\n",
            "Player: Jaxon Smith-Njigba, Injury Status: ACTIVE, Injured: False\n",
            "Player: Gus Edwards, Injury Status: ACTIVE, Injured: False\n",
            "Player: Matthew Stafford, Injury Status: ACTIVE, Injured: False\n",
            "Player: Kareem Hunt, Injury Status: ACTIVE, Injured: False\n",
            "Player: Broncos D/ST, Injury Status: NORMAL, Injured: False\n",
            "Player: David Njoku, Injury Status: QUESTIONABLE, Injured: False\n",
            "Player: Caleb Williams, Injury Status: QUESTIONABLE, Injured: False\n",
            "Player: DeAndre Hopkins, Injury Status: ACTIVE, Injured: False\n",
            "Player: Bills D/ST, Injury Status: NORMAL, Injured: False\n",
            "Player: Matthew Wright, Injury Status: ACTIVE, Injured: False\n",
            "\n",
            "Team: Quon Solo\n",
            "Player: Justin Jefferson, Injury Status: ACTIVE, Injured: False\n",
            "Player: Kyren Williams, Injury Status: ACTIVE, Injured: False\n",
            "Player: Marvin Harrison Jr., Injury Status: ACTIVE, Injured: False\n",
            "Player: Mike Evans, Injury Status: ACTIVE, Injured: False\n",
            "Player: D'Andre Swift, Injury Status: ACTIVE, Injured: False\n",
            "Player: Brian Robinson Jr., Injury Status: ACTIVE, Injured: False\n",
            "Player: Kyler Murray, Injury Status: ACTIVE, Injured: False\n",
            "Player: J.K. Dobbins, Injury Status: ACTIVE, Injured: False\n",
            "Player: Geno Smith, Injury Status: ACTIVE, Injured: False\n",
            "Player: Chris Boswell, Injury Status: ACTIVE, Injured: False\n",
            "Player: Romeo Doubs, Injury Status: QUESTIONABLE, Injured: False\n",
            "Player: Mark Andrews, Injury Status: ACTIVE, Injured: False\n",
            "Player: Bears D/ST, Injury Status: NORMAL, Injured: False\n",
            "Player: Courtland Sutton, Injury Status: ACTIVE, Injured: False\n",
            "Player: Josh Downs, Injury Status: ACTIVE, Injured: False\n",
            "Player: Evan Engram, Injury Status: QUESTIONABLE, Injured: False\n",
            "\n",
            "Team: Jen-eral ⚔️\n",
            "Player: Derrick Henry, Injury Status: ACTIVE, Injured: False\n",
            "Player: A.J. Brown, Injury Status: ACTIVE, Injured: False\n",
            "Player: Alvin Kamara, Injury Status: QUESTIONABLE, Injured: False\n",
            "Player: Jalen Hurts, Injury Status: ACTIVE, Injured: False\n",
            "Player: Calvin Ridley, Injury Status: ACTIVE, Injured: False\n",
            "Player: Raheem Mostert, Injury Status: ACTIVE, Injured: False\n",
            "Player: Jets D/ST, Injury Status: NORMAL, Injured: False\n",
            "Player: Pat Freiermuth, Injury Status: ACTIVE, Injured: False\n",
            "Player: Darnell Mooney, Injury Status: QUESTIONABLE, Injured: False\n",
            "Player: Bucky Irving, Injury Status: ACTIVE, Injured: False\n",
            "Player: Jayden Reed, Injury Status: QUESTIONABLE, Injured: False\n",
            "Player: Dontayvion Wicks, Injury Status: ACTIVE, Injured: False\n",
            "Player: Cameron Dicker, Injury Status: ACTIVE, Injured: False\n",
            "Player: Tank Bigsby, Injury Status: ACTIVE, Injured: False\n",
            "Player: Dolphins D/ST, Injury Status: NORMAL, Injured: False\n",
            "Player: Jonnu Smith, Injury Status: ACTIVE, Injured: False\n",
            "\n",
            "Team: Captain Sweatpants\n",
            "Player: CeeDee Lamb, Injury Status: ACTIVE, Injured: False\n",
            "Player: Garrett Wilson, Injury Status: ACTIVE, Injured: False\n",
            "Player: Rachaad White, Injury Status: ACTIVE, Injured: False\n",
            "Player: Nico Collins, Injury Status: ACTIVE, Injured: False\n",
            "Player: James Conner, Injury Status: QUESTIONABLE, Injured: False\n",
            "Player: George Pickens, Injury Status: ACTIVE, Injured: False\n",
            "Player: Cowboys D/ST, Injury Status: NORMAL, Injured: False\n",
            "Player: Chase McLaughlin, Injury Status: ACTIVE, Injured: False\n",
            "Player: Jake Elliott, Injury Status: ACTIVE, Injured: False\n",
            "Player: Bo Nix, Injury Status: ACTIVE, Injured: False\n",
            "Player: Mike Gesicki, Injury Status: ACTIVE, Injured: False\n",
            "Player: Rico Dowdle, Injury Status: ACTIVE, Injured: False\n",
            "Player: Will Dissly, Injury Status: ACTIVE, Injured: False\n",
            "Player: Will Levis, Injury Status: ACTIVE, Injured: False\n",
            "Player: Chargers D/ST, Injury Status: NORMAL, Injured: False\n",
            "Player: Khalil Shakir, Injury Status: ACTIVE, Injured: False\n",
            "\n",
            "Team: Salmon LipBalm !!\n",
            "Player: Bijan Robinson, Injury Status: ACTIVE, Injured: False\n",
            "Player: Jahmyr Gibbs, Injury Status: ACTIVE, Injured: False\n",
            "Player: Jaylen Waddle, Injury Status: ACTIVE, Injured: False\n",
            "Player: Rhamondre Stevenson, Injury Status: ACTIVE, Injured: False\n",
            "Player: Davante Adams, Injury Status: ACTIVE, Injured: False\n",
            "Player: Jordan Love, Injury Status: ACTIVE, Injured: False\n",
            "Player: Ka'imi Fairbairn, Injury Status: ACTIVE, Injured: False\n",
            "Player: Trey McBride, Injury Status: ACTIVE, Injured: False\n",
            "Player: Vikings D/ST, Injury Status: NORMAL, Injured: False\n",
            "Player: Chase Brown, Injury Status: QUESTIONABLE, Injured: False\n",
            "Player: Brian Thomas Jr., Injury Status: ACTIVE, Injured: False\n",
            "Player: Puka Nacua, Injury Status: ACTIVE, Injured: False\n",
            "Player: Hunter Henry, Injury Status: QUESTIONABLE, Injured: False\n",
            "Player: Russell Wilson, Injury Status: ACTIVE, Injured: False\n",
            "Player: Wil Lutz, Injury Status: ACTIVE, Injured: False\n",
            "Player: Drake Maye, Injury Status: ACTIVE, Injured: False\n",
            "\n",
            "Team: Graham’s Groupie\n",
            "Player: Ja'Marr Chase, Injury Status: ACTIVE, Injured: False\n",
            "Player: James Cook, Injury Status: ACTIVE, Injured: False\n",
            "Player: Drake London, Injury Status: ACTIVE, Injured: False\n",
            "Player: Josh Allen, Injury Status: ACTIVE, Injured: False\n",
            "Player: Najee Harris, Injury Status: ACTIVE, Injured: False\n",
            "Player: Amari Cooper, Injury Status: ACTIVE, Injured: False\n",
            "Player: Jayden Daniels, Injury Status: ACTIVE, Injured: False\n",
            "Player: Jauan Jennings, Injury Status: ACTIVE, Injured: False\n",
            "Player: Tyrone Tracy Jr., Injury Status: ACTIVE, Injured: False\n",
            "Player: Travis Etienne Jr., Injury Status: ACTIVE, Injured: False\n",
            "Player: Jordan Addison, Injury Status: ACTIVE, Injured: False\n",
            "Player: T.J. Hockenson, Injury Status: ACTIVE, Injured: False\n",
            "Player: Jason Sanders, Injury Status: ACTIVE, Injured: False\n",
            "Player: Ravens D/ST, Injury Status: NORMAL, Injured: False\n",
            "Player: Isaac Guerendo, Injury Status: QUESTIONABLE, Injured: False\n",
            "Player: Alexander Mattison, Injury Status: ACTIVE, Injured: False\n",
            "\n",
            "Team: pop-pop's bible study\n",
            "Player: Breece Hall, Injury Status: ACTIVE, Injured: False\n",
            "Player: Josh Jacobs, Injury Status: ACTIVE, Injured: False\n",
            "Player: Lamar Jackson, Injury Status: ACTIVE, Injured: False\n",
            "Player: George Kittle, Injury Status: ACTIVE, Injured: False\n",
            "Player: Aaron Jones, Injury Status: ACTIVE, Injured: False\n",
            "Player: Terry McLaurin, Injury Status: ACTIVE, Injured: False\n",
            "Player: Tyjae Spears, Injury Status: QUESTIONABLE, Injured: False\n",
            "Player: Rome Odunze, Injury Status: ACTIVE, Injured: False\n",
            "Player: Chiefs D/ST, Injury Status: NORMAL, Injured: False\n",
            "Player: Jared Goff, Injury Status: ACTIVE, Injured: False\n",
            "Player: Lions D/ST, Injury Status: NORMAL, Injured: False\n",
            "Player: Jameson Williams, Injury Status: ACTIVE, Injured: False\n",
            "Player: Zach Ertz, Injury Status: ACTIVE, Injured: False\n",
            "Player: Christian Watson, Injury Status: QUESTIONABLE, Injured: False\n",
            "Player: Justin Tucker, Injury Status: ACTIVE, Injured: False\n",
            "Player: Packers D/ST, Injury Status: NORMAL, Injured: False\n",
            "\n",
            "Team: Bucktown Bandits\n",
            "Player: Jonathan Taylor, Injury Status: ACTIVE, Injured: False\n",
            "Player: Amon-Ra St. Brown, Injury Status: ACTIVE, Injured: False\n",
            "Player: De'Von Achane, Injury Status: ACTIVE, Injured: False\n",
            "Player: Travis Kelce, Injury Status: ACTIVE, Injured: False\n",
            "Player: Cooper Kupp, Injury Status: ACTIVE, Injured: False\n",
            "Player: Joe Burrow, Injury Status: ACTIVE, Injured: False\n",
            "Player: Tank Dell, Injury Status: QUESTIONABLE, Injured: False\n",
            "Player: Tony Pollard, Injury Status: ACTIVE, Injured: False\n",
            "Player: Xavier Worthy, Injury Status: ACTIVE, Injured: False\n",
            "Player: Jakobi Meyers, Injury Status: ACTIVE, Injured: False\n",
            "Player: DJ Moore, Injury Status: ACTIVE, Injured: False\n",
            "Player: Cade Otton, Injury Status: ACTIVE, Injured: False\n",
            "Player: Jaylen Warren, Injury Status: ACTIVE, Injured: False\n",
            "Player: Justin Herbert, Injury Status: ACTIVE, Injured: False\n",
            "Player: Buccaneers D/ST, Injury Status: NORMAL, Injured: False\n",
            "Player: Brandon Aubrey, Injury Status: QUESTIONABLE, Injured: False\n",
            "\n",
            "Team: bird gang\n",
            "Player: Christian McCaffrey, Injury Status: QUESTIONABLE, Injured: False\n",
            "Player: DK Metcalf, Injury Status: ACTIVE, Injured: False\n",
            "Player: Brandon Aiyuk, Injury Status: QUESTIONABLE, Injured: False\n",
            "Player: David Montgomery, Injury Status: ACTIVE, Injured: False\n",
            "Player: DeVonta Smith, Injury Status: ACTIVE, Injured: False\n",
            "Player: Brock Purdy, Injury Status: ACTIVE, Injured: False\n",
            "Player: Stefon Diggs, Injury Status: QUESTIONABLE, Injured: False\n",
            "Player: Jake Ferguson, Injury Status: ACTIVE, Injured: False\n",
            "Player: Javonte Williams, Injury Status: ACTIVE, Injured: False\n",
            "Player: Dallas Goedert, Injury Status: ACTIVE, Injured: False\n",
            "Player: Chuba Hubbard, Injury Status: ACTIVE, Injured: False\n",
            "Player: Blake Corum, Injury Status: QUESTIONABLE, Injured: False\n",
            "Player: DeMario Douglas, Injury Status: ACTIVE, Injured: False\n",
            "Player: Baker Mayfield, Injury Status: ACTIVE, Injured: False\n",
            "Player: Tyler Bass, Injury Status: ACTIVE, Injured: False\n",
            "Player: Eagles D/ST, Injury Status: NORMAL, Injured: False\n",
            "\n",
            "Team: bungalicious  💅\n",
            "Player: Saquon Barkley, Injury Status: ACTIVE, Injured: False\n",
            "Player: Deebo Samuel Sr., Injury Status: ACTIVE, Injured: False\n",
            "Player: Kenneth Walker III, Injury Status: QUESTIONABLE, Injured: False\n",
            "Player: Sam LaPorta, Injury Status: ACTIVE, Injured: False\n",
            "Player: Tee Higgins, Injury Status: ACTIVE, Injured: False\n",
            "Player: Dak Prescott, Injury Status: QUESTIONABLE, Injured: False\n",
            "Player: Malik Nabers, Injury Status: ACTIVE, Injured: False\n",
            "Player: Brock Bowers, Injury Status: ACTIVE, Injured: False\n",
            "Player: Ty Chandler, Injury Status: ACTIVE, Injured: False\n",
            "Player: Jerry Jeudy, Injury Status: ACTIVE, Injured: False\n",
            "Player: Chig Okonkwo, Injury Status: ACTIVE, Injured: False\n",
            "Player: Gabe Davis, Injury Status: QUESTIONABLE, Injured: False\n",
            "Player: Jake Bates, Injury Status: ACTIVE, Injured: False\n",
            "Player: Sam Darnold, Injury Status: ACTIVE, Injured: False\n",
            "Player: Colts D/ST, Injury Status: NORMAL, Injured: False\n",
            "Player: Zach Charbonnet, Injury Status: ACTIVE, Injured: False\n"
          ]
        }
      ]
    },
    {
      "cell_type": "code",
      "source": [
        "# getting starting roster for each week\n",
        "\n",
        "for team in league.teams:\n",
        "    print(f\"\\nTeam: {team.team_name} (Week {week})\")\n",
        "\n",
        "    # Get the team's roster for the given week\n",
        "    for player in team.roster:\n",
        "        #if player.lineupSlot != \"BE\" and player.lineupSlot != \"IR\":  # Exclude Bench and IR players\n",
        "            print(f\"  - {player.name} ({player.lineupSlot})\")\n"
      ],
      "metadata": {
        "id": "NVRJeM9_Nm-d",
        "outputId": "1e05b45c-a468-44f2-d318-bf4e2e354590",
        "colab": {
          "base_uri": "https://localhost:8080/"
        }
      },
      "execution_count": null,
      "outputs": [
        {
          "output_type": "stream",
          "name": "stdout",
          "text": [
            "\n",
            "Team: Fightin' Furries (Week 14)\n",
            "  - Tyreek Hill (WR)\n",
            "  - Isiah Pacheco (RB)\n",
            "  - Joe Mixon (BE)\n",
            "  - Patrick Mahomes (QB)\n",
            "  - Dalton Kincaid (BE)\n",
            "  - Zay Flowers (BE)\n",
            "  - Jaxon Smith-Njigba (RB/WR/TE)\n",
            "  - Gus Edwards (BE)\n",
            "  - Matthew Stafford (BE)\n",
            "  - Kareem Hunt (RB)\n",
            "  - Broncos D/ST (BE)\n",
            "  - David Njoku (TE)\n",
            "  - Caleb Williams (BE)\n",
            "  - DeAndre Hopkins (WR)\n",
            "  - Bills D/ST (D/ST)\n",
            "  - Matthew Wright (K)\n",
            "\n",
            "Team: Quon Solo (Week 14)\n",
            "  - Justin Jefferson (WR)\n",
            "  - Kyren Williams (RB)\n",
            "  - Marvin Harrison Jr. (BE)\n",
            "  - Mike Evans (BE)\n",
            "  - D'Andre Swift (RB)\n",
            "  - Brian Robinson Jr. (RB/WR/TE)\n",
            "  - Kyler Murray (QB)\n",
            "  - J.K. Dobbins (BE)\n",
            "  - Geno Smith (BE)\n",
            "  - Chris Boswell (K)\n",
            "  - Romeo Doubs (BE)\n",
            "  - Mark Andrews (TE)\n",
            "  - Bears D/ST (D/ST)\n",
            "  - Courtland Sutton (WR)\n",
            "  - Josh Downs (BE)\n",
            "  - Evan Engram (BE)\n",
            "\n",
            "Team: Jen-eral ⚔️ (Week 14)\n",
            "  - Derrick Henry (RB)\n",
            "  - A.J. Brown (WR)\n",
            "  - Alvin Kamara (RB)\n",
            "  - Jalen Hurts (QB)\n",
            "  - Calvin Ridley (WR)\n",
            "  - Raheem Mostert (BE)\n",
            "  - Jets D/ST (D/ST)\n",
            "  - Pat Freiermuth (BE)\n",
            "  - Darnell Mooney (BE)\n",
            "  - Bucky Irving (BE)\n",
            "  - Jayden Reed (BE)\n",
            "  - Dontayvion Wicks (BE)\n",
            "  - Cameron Dicker (K)\n",
            "  - Tank Bigsby (RB/WR/TE)\n",
            "  - Dolphins D/ST (BE)\n",
            "  - Jonnu Smith (TE)\n",
            "\n",
            "Team: Captain Sweatpants (Week 14)\n",
            "  - CeeDee Lamb (WR)\n",
            "  - Garrett Wilson (WR)\n",
            "  - Rachaad White (BE)\n",
            "  - Nico Collins (BE)\n",
            "  - James Conner (RB)\n",
            "  - George Pickens (BE)\n",
            "  - Cowboys D/ST (BE)\n",
            "  - Chase McLaughlin (BE)\n",
            "  - Jake Elliott (K)\n",
            "  - Bo Nix (BE)\n",
            "  - Mike Gesicki (TE)\n",
            "  - Rico Dowdle (RB)\n",
            "  - Will Dissly (BE)\n",
            "  - Will Levis (QB)\n",
            "  - Chargers D/ST (D/ST)\n",
            "  - Khalil Shakir (RB/WR/TE)\n",
            "\n",
            "Team: Salmon LipBalm !! (Week 14)\n",
            "  - Bijan Robinson (RB)\n",
            "  - Jahmyr Gibbs (RB)\n",
            "  - Jaylen Waddle (BE)\n",
            "  - Rhamondre Stevenson (BE)\n",
            "  - Davante Adams (WR)\n",
            "  - Jordan Love (BE)\n",
            "  - Ka'imi Fairbairn (BE)\n",
            "  - Trey McBride (TE)\n",
            "  - Vikings D/ST (D/ST)\n",
            "  - Chase Brown (RB/WR/TE)\n",
            "  - Brian Thomas Jr. (BE)\n",
            "  - Puka Nacua (WR)\n",
            "  - Hunter Henry (BE)\n",
            "  - Russell Wilson (QB)\n",
            "  - Wil Lutz (K)\n",
            "  - Drake Maye (BE)\n",
            "\n",
            "Team: Graham’s Groupie (Week 14)\n",
            "  - Ja'Marr Chase (WR)\n",
            "  - James Cook (RB)\n",
            "  - Drake London (RB/WR/TE)\n",
            "  - Josh Allen (QB)\n",
            "  - Najee Harris (BE)\n",
            "  - Amari Cooper (BE)\n",
            "  - Jayden Daniels (BE)\n",
            "  - Jauan Jennings (WR)\n",
            "  - Tyrone Tracy Jr. (BE)\n",
            "  - Travis Etienne Jr. (RB)\n",
            "  - Jordan Addison (BE)\n",
            "  - T.J. Hockenson (TE)\n",
            "  - Jason Sanders (K)\n",
            "  - Ravens D/ST (D/ST)\n",
            "  - Isaac Guerendo (BE)\n",
            "  - Alexander Mattison (BE)\n",
            "\n",
            "Team: pop-pop's bible study (Week 14)\n",
            "  - Breece Hall (RB)\n",
            "  - Josh Jacobs (RB)\n",
            "  - Lamar Jackson (QB)\n",
            "  - George Kittle (TE)\n",
            "  - Aaron Jones (RB/WR/TE)\n",
            "  - Terry McLaurin (WR)\n",
            "  - Tyjae Spears (BE)\n",
            "  - Rome Odunze (BE)\n",
            "  - Chiefs D/ST (D/ST)\n",
            "  - Jared Goff (BE)\n",
            "  - Lions D/ST (BE)\n",
            "  - Jameson Williams (WR)\n",
            "  - Zach Ertz (BE)\n",
            "  - Christian Watson (BE)\n",
            "  - Justin Tucker (K)\n",
            "  - Packers D/ST (BE)\n",
            "\n",
            "Team: Bucktown Bandits (Week 14)\n",
            "  - Jonathan Taylor (BE)\n",
            "  - Amon-Ra St. Brown (WR)\n",
            "  - De'Von Achane (RB)\n",
            "  - Travis Kelce (TE)\n",
            "  - Cooper Kupp (WR)\n",
            "  - Joe Burrow (QB)\n",
            "  - Tank Dell (BE)\n",
            "  - Tony Pollard (RB)\n",
            "  - Xavier Worthy (BE)\n",
            "  - Jakobi Meyers (RB/WR/TE)\n",
            "  - DJ Moore (BE)\n",
            "  - Cade Otton (BE)\n",
            "  - Jaylen Warren (BE)\n",
            "  - Justin Herbert (BE)\n",
            "  - Buccaneers D/ST (D/ST)\n",
            "  - Brandon Aubrey (K)\n",
            "\n",
            "Team: bird gang (Week 14)\n",
            "  - Christian McCaffrey (BE)\n",
            "  - DK Metcalf (WR)\n",
            "  - Brandon Aiyuk (BE)\n",
            "  - David Montgomery (RB)\n",
            "  - DeVonta Smith (WR)\n",
            "  - Brock Purdy (QB)\n",
            "  - Stefon Diggs (BE)\n",
            "  - Jake Ferguson (TE)\n",
            "  - Javonte Williams (BE)\n",
            "  - Dallas Goedert (BE)\n",
            "  - Chuba Hubbard (RB)\n",
            "  - Blake Corum (RB/WR/TE)\n",
            "  - DeMario Douglas (BE)\n",
            "  - Baker Mayfield (BE)\n",
            "  - Tyler Bass (K)\n",
            "  - Eagles D/ST (D/ST)\n",
            "\n",
            "Team: bungalicious  💅 (Week 14)\n",
            "  - Saquon Barkley (RB)\n",
            "  - Deebo Samuel Sr. (RB/WR/TE)\n",
            "  - Kenneth Walker III (BE)\n",
            "  - Sam LaPorta (BE)\n",
            "  - Tee Higgins (WR)\n",
            "  - Dak Prescott (BE)\n",
            "  - Malik Nabers (WR)\n",
            "  - Brock Bowers (TE)\n",
            "  - Ty Chandler (BE)\n",
            "  - Jerry Jeudy (BE)\n",
            "  - Chig Okonkwo (BE)\n",
            "  - Gabe Davis (BE)\n",
            "  - Jake Bates (K)\n",
            "  - Sam Darnold (QB)\n",
            "  - Colts D/ST (D/ST)\n",
            "  - Zach Charbonnet (RB)\n"
          ]
        }
      ]
    },
    {
      "cell_type": "markdown",
      "source": [
        "## **Getting the fantasy team rosters**\n",
        "*Will use to join to player data to maintain team assigments*"
      ],
      "metadata": {
        "id": "W-jJAhPvssjm"
      }
    },
    {
      "cell_type": "code",
      "source": [
        "# Define the range of weeks\n",
        "weeks = range(1, 19)  # Weeks 1 to 18\n",
        "\n",
        "# Create an empty list to store data\n",
        "all_weeks_roster = []\n",
        "\n",
        "# Loop through each week and get the roster data\n",
        "for week in weeks:\n",
        "    week_data = []  # Temporary storage for current week's data\n",
        "\n",
        "    for team in league.teams:\n",
        "        team_name = team.team_name  # Fantasy Team Name\n",
        "\n",
        "        for player in team.roster:\n",
        "            week_data.append({\n",
        "                \"cur_Fteam\": team_name,\n",
        "                \"week\": week,\n",
        "                \"espn_id\": player.playerId,  # ESPN Unique Player ID\n",
        "                \"cur_roster_slot\": player.position if player.lineupSlot != \"BE\" else \"Bench\"\n",
        "            })\n",
        "\n",
        "    # If no data is returned for this week, stop iterating\n",
        "    if not week_data:\n",
        "        print(f\"No data found for Week {week}. Stopping iteration.\")\n",
        "        break  # Stop looping when a week has no data\n",
        "\n",
        "    # Add this week's data to the master list\n",
        "    all_weeks_roster.extend(week_data)\n",
        "\n",
        "# Convert to DataFrame\n",
        "weekly_rosters = pd.DataFrame(all_weeks_roster)\n",
        "\n",
        "cur_roster = weekly_rosters[weekly_rosters['week'] == weekly_rosters['week'].max()].drop('week', axis=1)\n",
        "print(cur_roster)"
      ],
      "metadata": {
        "id": "wkEwJQ3qWH8P",
        "colab": {
          "base_uri": "https://localhost:8080/"
        },
        "outputId": "e18c137b-4468-45e5-9162-1490ad3bb3f0"
      },
      "execution_count": 4,
      "outputs": [
        {
          "output_type": "stream",
          "name": "stdout",
          "text": [
            "             cur_Fteam  espn_id cur_roster_slot\n",
            "2720  Fightin' Furries  3116406              WR\n",
            "2721  Fightin' Furries  4361529              RB\n",
            "2722  Fightin' Furries  3116385           Bench\n",
            "2723  Fightin' Furries  3139477              QB\n",
            "2724  Fightin' Furries  4385690           Bench\n",
            "...                ...      ...             ...\n",
            "2875   bungalicious  💅  4243537           Bench\n",
            "2876   bungalicious  💅  4689936               K\n",
            "2877   bungalicious  💅  3912547              QB\n",
            "2878   bungalicious  💅   -16011            D/ST\n",
            "2879   bungalicious  💅  4426385              RB\n",
            "\n",
            "[160 rows x 3 columns]\n"
          ]
        }
      ]
    },
    {
      "cell_type": "markdown",
      "source": [
        "### **Getting statistical data from xlsx files**"
      ],
      "metadata": {
        "id": "Pqurr9qovF3M"
      }
    },
    {
      "cell_type": "code",
      "source": [
        "from google.colab import drive\n",
        "drive.mount('/content/drive', force_remount = True)"
      ],
      "metadata": {
        "id": "LNbk_KpjvRsH",
        "outputId": "4114cedc-edb4-4e2f-e3b0-947011ab9903",
        "colab": {
          "base_uri": "https://localhost:8080/"
        }
      },
      "execution_count": 5,
      "outputs": [
        {
          "output_type": "stream",
          "name": "stdout",
          "text": [
            "Mounted at /content/drive\n"
          ]
        }
      ]
    },
    {
      "cell_type": "code",
      "source": [
        "file_path = \"/content/drive/My Drive/ff_data.xlsx\"\n",
        "\n",
        "# Load specific sheets\n",
        "season_stats_all = pd.read_excel(file_path, sheet_name=\"Season\", engine=\"openpyxl\")\n",
        "weekly_stats_all = pd.read_excel(file_path, sheet_name=\"Weekly\", engine=\"openpyxl\")\n",
        "\n",
        "# Display first few rows\n",
        "print(season_stats_all.head())\n",
        "print(weekly_stats_all.head())"
      ],
      "metadata": {
        "id": "W83MSS6X1O2C",
        "outputId": "bd796630-b19f-404f-9f1d-da61ccc26856",
        "colab": {
          "base_uri": "https://localhost:8080/"
        }
      },
      "execution_count": 6,
      "outputs": [
        {
          "output_type": "stream",
          "name": "stdout",
          "text": [
            "   season   player_id player_display_name team position  games_played  \\\n",
            "0    2021  00-0019596           Tom Brady   TB       QB          20.0   \n",
            "1    2021  00-0022924  Ben Roethlisberger  PIT       QB          18.0   \n",
            "2    2021  00-0023459       Aaron Rodgers   GB       QB          17.0   \n",
            "3    2021  00-0023682    Ryan Fitzpatrick  WAS       QB           1.0   \n",
            "4    2021  00-0024243      Marcedes Lewis   GB       TE          14.0   \n",
            "\n",
            "   completions  attempts  comp%  passing_yards  ...  total_st_tds  st_tds_pg  \\\n",
            "0        573.0     847.0  67.65         6187.0  ...           NaN        NaN   \n",
            "1        448.0     693.0  64.65         4170.0  ...           NaN        NaN   \n",
            "2        386.0     560.0  68.93         4340.0  ...           NaN        NaN   \n",
            "3          3.0       6.0  50.00           13.0  ...           NaN        NaN   \n",
            "4          0.0       0.0    NaN            0.0  ...           NaN        NaN   \n",
            "\n",
            "   total_fp  fp_pg  espn_id                name   age  height  weight  \\\n",
            "0       NaN    NaN   2330.0           Tom Brady  47.6    76.0   225.0   \n",
            "1       NaN    NaN   5536.0  Ben Roethlisberger  43.0    77.0   240.0   \n",
            "2       NaN    NaN   8439.0       Aaron Rodgers  41.3    74.0   223.0   \n",
            "3       NaN    NaN   8664.0    Ryan Fitzpatrick  40.3    74.0   228.0   \n",
            "4       NaN    NaN   9614.0      Marcedes Lewis  40.8    78.0   267.0   \n",
            "\n",
            "        college  \n",
            "0      Michigan  \n",
            "1  Miami (Ohio)  \n",
            "2    California  \n",
            "3       Harvard  \n",
            "4          UCLA  \n",
            "\n",
            "[5 rows x 91 columns]\n",
            "    player_id player_name player_display_name position position_group  \\\n",
            "0  00-0019596     T.Brady           Tom Brady       QB             QB   \n",
            "1  00-0019596     T.Brady           Tom Brady       QB             QB   \n",
            "2  00-0019596     T.Brady           Tom Brady       QB             QB   \n",
            "3  00-0019596     T.Brady           Tom Brady       QB             QB   \n",
            "4  00-0019596     T.Brady           Tom Brady       QB             QB   \n",
            "\n",
            "                                        headshot_url recent_team  season  \\\n",
            "0  https://static.www.nfl.com/image/private/f_aut...          TB    2021   \n",
            "1  https://static.www.nfl.com/image/private/f_aut...          TB    2021   \n",
            "2  https://static.www.nfl.com/image/private/f_aut...          TB    2021   \n",
            "3  https://static.www.nfl.com/image/private/f_aut...          TB    2021   \n",
            "4  https://static.www.nfl.com/image/private/f_aut...          TB    2021   \n",
            "\n",
            "   week season_type  ... total_points_allowed  yards_points  points_fp  \\\n",
            "0     1         REG  ...                  NaN           NaN        NaN   \n",
            "1     2         REG  ...                  NaN           NaN        NaN   \n",
            "2     3         REG  ...                  NaN           NaN        NaN   \n",
            "3     4         REG  ...                  NaN           NaN        NaN   \n",
            "4     5         REG  ...                  NaN           NaN        NaN   \n",
            "\n",
            "   st_tds  espn_id       name   age  height  weight   college  \n",
            "0     NaN   2330.0  Tom Brady  47.6    76.0   225.0  Michigan  \n",
            "1     NaN   2330.0  Tom Brady  47.6    76.0   225.0  Michigan  \n",
            "2     NaN   2330.0  Tom Brady  47.6    76.0   225.0  Michigan  \n",
            "3     NaN   2330.0  Tom Brady  47.6    76.0   225.0  Michigan  \n",
            "4     NaN   2330.0  Tom Brady  47.6    76.0   225.0  Michigan  \n",
            "\n",
            "[5 rows x 114 columns]\n"
          ]
        }
      ]
    },
    {
      "cell_type": "markdown",
      "source": [
        "## **Joining current fantasy team roster data with weekly and season data**"
      ],
      "metadata": {
        "id": "BghXacKNsq4x"
      }
    },
    {
      "cell_type": "markdown",
      "source": [
        "### *Season data*"
      ],
      "metadata": {
        "id": "DA1_Yyt9tHwH"
      }
    },
    {
      "cell_type": "code",
      "source": [
        "season_stats_all = pd.merge(season_stats_all, cur_roster, on=\"espn_id\", how=\"left\")\n",
        "\n",
        "season_stats_all.loc[\n",
        "    (season_stats_all['season'] == 2024) &\n",
        "    (season_stats_all['cur_Fteam'] != 'FA') &\n",
        "    (season_stats_all['cur_roster_slot'] != 'FA'),\n",
        "    ['cur_Fteam', 'cur_roster_slot']\n",
        "] = 'FA'"
      ],
      "metadata": {
        "id": "363yeLKgqfll"
      },
      "execution_count": 7,
      "outputs": []
    },
    {
      "cell_type": "code",
      "source": [
        "#print(season_stats_all.head(10))"
      ],
      "metadata": {
        "id": "ezKgyJJUw6SB",
        "outputId": "8dc091eb-b302-416c-ee9e-68d208d3d08c",
        "colab": {
          "base_uri": "https://localhost:8080/"
        }
      },
      "execution_count": 8,
      "outputs": [
        {
          "output_type": "stream",
          "name": "stdout",
          "text": [
            "   season   player_id player_display_name      team position  games_played  \\\n",
            "0    2021  00-0019596           Tom Brady        TB       QB          20.0   \n",
            "1    2021  00-0022924  Ben Roethlisberger       PIT       QB          18.0   \n",
            "2    2021  00-0023459       Aaron Rodgers        GB       QB          17.0   \n",
            "3    2021  00-0023682    Ryan Fitzpatrick       WAS       QB           1.0   \n",
            "4    2021  00-0024243      Marcedes Lewis        GB       TE          14.0   \n",
            "5    2021  00-0025394     Adrian Peterson  TEN, SEA       RB           4.0   \n",
            "6    2021  00-0026035      Danny Amendola       HOU       WR           8.0   \n",
            "7    2021  00-0026143           Matt Ryan       ATL       QB          17.0   \n",
            "8    2021  00-0026158          Joe Flacco       NYJ       QB           2.0   \n",
            "9    2021  00-0026189      DeSean Jackson    LA, LV       WR          16.0   \n",
            "\n",
            "   completions  attempts  comp%  passing_yards  ...  total_fp  fp_pg  espn_id  \\\n",
            "0        573.0     847.0  67.65         6187.0  ...       NaN    NaN   2330.0   \n",
            "1        448.0     693.0  64.65         4170.0  ...       NaN    NaN   5536.0   \n",
            "2        386.0     560.0  68.93         4340.0  ...       NaN    NaN   8439.0   \n",
            "3          3.0       6.0  50.00           13.0  ...       NaN    NaN   8664.0   \n",
            "4          0.0       0.0    NaN            0.0  ...       NaN    NaN   9614.0   \n",
            "5          0.0       0.0    NaN            0.0  ...       NaN    NaN  10452.0   \n",
            "6          0.0       1.0   0.00            0.0  ...       NaN    NaN  11674.0   \n",
            "7        375.0     560.0  66.96         3968.0  ...       NaN    NaN  11237.0   \n",
            "8         27.0      42.0  64.29          338.0  ...       NaN    NaN  11252.0   \n",
            "9          0.0       0.0    NaN            0.0  ...       NaN    NaN  11283.0   \n",
            "\n",
            "                 name   age  height  weight         college  cur_Fteam  \\\n",
            "0           Tom Brady  47.6    76.0   225.0        Michigan        NaN   \n",
            "1  Ben Roethlisberger  43.0    77.0   240.0    Miami (Ohio)        NaN   \n",
            "2       Aaron Rodgers  41.3    74.0   223.0      California        NaN   \n",
            "3    Ryan Fitzpatrick  40.3    74.0   228.0         Harvard        NaN   \n",
            "4      Marcedes Lewis  40.8    78.0   267.0            UCLA        NaN   \n",
            "5     Adrian Peterson  39.9    73.0   220.0        Oklahoma        NaN   \n",
            "6      Danny Amendola  37.3    71.0   185.0      Texas Tech        NaN   \n",
            "7           Matt Ryan  39.8    76.0   217.0  Boston College        NaN   \n",
            "8          Joe Flacco  40.2    78.0   230.0        Delaware        NaN   \n",
            "9      DeSean Jackson  37.2    70.0   175.0      California        NaN   \n",
            "\n",
            "   cur_roster_slot  \n",
            "0              NaN  \n",
            "1              NaN  \n",
            "2              NaN  \n",
            "3              NaN  \n",
            "4              NaN  \n",
            "5              NaN  \n",
            "6              NaN  \n",
            "7              NaN  \n",
            "8              NaN  \n",
            "9              NaN  \n",
            "\n",
            "[10 rows x 93 columns]\n"
          ]
        }
      ]
    },
    {
      "cell_type": "markdown",
      "source": [
        "### *Weekly data*"
      ],
      "metadata": {
        "id": "OfGbdi8BtOI_"
      }
    },
    {
      "cell_type": "code",
      "source": [
        "weekly_stats_all = pd.merge(weekly_stats_all, weekly_rosters, on=[\"espn_id\", \"week\"], how=\"left\")\n",
        "\n",
        "weekly_stats_all.loc[\n",
        "    (weekly_stats_all['season'] == 2024) &\n",
        "    (weekly_stats_all['cur_Fteam'] != 'FA') &\n",
        "    (weekly_stats_all['cur_roster_slot'] != 'FA'),\n",
        "    ['cur_Fteam', 'cur_roster_slot']\n",
        "] = 'FA'"
      ],
      "metadata": {
        "id": "5Xgjh3_ftT9B"
      },
      "execution_count": 8,
      "outputs": []
    },
    {
      "cell_type": "code",
      "source": [
        "#print(weekly_stats_all.head(10))"
      ],
      "metadata": {
        "id": "miWV9babw09R",
        "outputId": "a9fa0e15-7204-43a0-d08a-27f589b182fc",
        "colab": {
          "base_uri": "https://localhost:8080/"
        }
      },
      "execution_count": 11,
      "outputs": [
        {
          "output_type": "stream",
          "name": "stdout",
          "text": [
            "    player_id player_name player_display_name position position_group  \\\n",
            "0  00-0019596     T.Brady           Tom Brady       QB             QB   \n",
            "1  00-0019596     T.Brady           Tom Brady       QB             QB   \n",
            "2  00-0019596     T.Brady           Tom Brady       QB             QB   \n",
            "3  00-0019596     T.Brady           Tom Brady       QB             QB   \n",
            "4  00-0019596     T.Brady           Tom Brady       QB             QB   \n",
            "5  00-0019596     T.Brady           Tom Brady       QB             QB   \n",
            "6  00-0019596     T.Brady           Tom Brady       QB             QB   \n",
            "7  00-0019596     T.Brady           Tom Brady       QB             QB   \n",
            "8  00-0019596     T.Brady           Tom Brady       QB             QB   \n",
            "9  00-0019596     T.Brady           Tom Brady       QB             QB   \n",
            "\n",
            "                                        headshot_url recent_team  season  \\\n",
            "0  https://static.www.nfl.com/image/private/f_aut...          TB    2021   \n",
            "1  https://static.www.nfl.com/image/private/f_aut...          TB    2021   \n",
            "2  https://static.www.nfl.com/image/private/f_aut...          TB    2021   \n",
            "3  https://static.www.nfl.com/image/private/f_aut...          TB    2021   \n",
            "4  https://static.www.nfl.com/image/private/f_aut...          TB    2021   \n",
            "5  https://static.www.nfl.com/image/private/f_aut...          TB    2021   \n",
            "6  https://static.www.nfl.com/image/private/f_aut...          TB    2021   \n",
            "7  https://static.www.nfl.com/image/private/f_aut...          TB    2021   \n",
            "8  https://static.www.nfl.com/image/private/f_aut...          TB    2021   \n",
            "9  https://static.www.nfl.com/image/private/f_aut...          TB    2021   \n",
            "\n",
            "   week season_type  ... points_fp  st_tds  espn_id       name   age  height  \\\n",
            "0     1         REG  ...       NaN     NaN   2330.0  Tom Brady  47.6    76.0   \n",
            "1     2         REG  ...       NaN     NaN   2330.0  Tom Brady  47.6    76.0   \n",
            "2     3         REG  ...       NaN     NaN   2330.0  Tom Brady  47.6    76.0   \n",
            "3     4         REG  ...       NaN     NaN   2330.0  Tom Brady  47.6    76.0   \n",
            "4     5         REG  ...       NaN     NaN   2330.0  Tom Brady  47.6    76.0   \n",
            "5     6         REG  ...       NaN     NaN   2330.0  Tom Brady  47.6    76.0   \n",
            "6     7         REG  ...       NaN     NaN   2330.0  Tom Brady  47.6    76.0   \n",
            "7     8         REG  ...       NaN     NaN   2330.0  Tom Brady  47.6    76.0   \n",
            "8    10         REG  ...       NaN     NaN   2330.0  Tom Brady  47.6    76.0   \n",
            "9    11         REG  ...       NaN     NaN   2330.0  Tom Brady  47.6    76.0   \n",
            "\n",
            "   weight   college  cur_Fteam  cur_roster_slot  \n",
            "0   225.0  Michigan        NaN              NaN  \n",
            "1   225.0  Michigan        NaN              NaN  \n",
            "2   225.0  Michigan        NaN              NaN  \n",
            "3   225.0  Michigan        NaN              NaN  \n",
            "4   225.0  Michigan        NaN              NaN  \n",
            "5   225.0  Michigan        NaN              NaN  \n",
            "6   225.0  Michigan        NaN              NaN  \n",
            "7   225.0  Michigan        NaN              NaN  \n",
            "8   225.0  Michigan        NaN              NaN  \n",
            "9   225.0  Michigan        NaN              NaN  \n",
            "\n",
            "[10 rows x 116 columns]\n"
          ]
        }
      ]
    },
    {
      "cell_type": "markdown",
      "source": [
        "# **Getting matchup data**"
      ],
      "metadata": {
        "id": "RZglmALWxlN6"
      }
    },
    {
      "cell_type": "code",
      "source": [
        "total_weeks = league.settings.reg_season_count  # Regular season length\n",
        "\n",
        "# Initialize records dict\n",
        "team_records = {team.team_name: {'W': 0, 'L': 0} for team in league.teams}\n",
        "\n",
        "# Store all weekly matchups and records\n",
        "matchups_all_weeks = []\n",
        "\n",
        "# Loop through each week\n",
        "for week in range(1, total_weeks + 1):\n",
        "    scoreboard = league.scoreboard(week=week)\n",
        "\n",
        "    for matchup in scoreboard:\n",
        "        home = matchup.home_team.team_name\n",
        "        away = matchup.away_team.team_name\n",
        "        home_score = matchup.home_score\n",
        "        away_score = matchup.away_score\n",
        "\n",
        "        # Determine winner and update records\n",
        "        if home_score > away_score:\n",
        "            team_records[home]['W'] += 1\n",
        "            team_records[away]['L'] += 1\n",
        "        elif home_score < away_score:\n",
        "            team_records[away]['W'] += 1\n",
        "            team_records[home]['L'] += 1\n",
        "        else:\n",
        "            # Tie case (optional)\n",
        "            pass\n",
        "\n",
        "        # Record after this week\n",
        "        home_record = f\"{team_records[home]['W']}-{team_records[home]['L']}\"\n",
        "        away_record = f\"{team_records[away]['W']}-{team_records[away]['L']}\"\n",
        "\n",
        "        matchups_all_weeks.append({\n",
        "            'week': week,\n",
        "            'home_team': home,\n",
        "            'away_team': away,\n",
        "            'home_score': home_score,\n",
        "            'away_score': away_score,\n",
        "            'home_record': home_record,\n",
        "            'away_record': away_record\n",
        "        })\n",
        "\n",
        "# Convert to DataFrame\n",
        "weekly_matchup_data = pd.DataFrame(matchups_all_weeks)\n",
        "\n",
        "# Display the result\n",
        "print(weekly_matchup_data)"
      ],
      "metadata": {
        "id": "4x9gYXkoxoRV",
        "outputId": "bcef904a-1f75-4ed0-fe20-093c92c161df",
        "colab": {
          "base_uri": "https://localhost:8080/"
        }
      },
      "execution_count": 9,
      "outputs": [
        {
          "output_type": "stream",
          "name": "stdout",
          "text": [
            "    week              home_team              away_team  home_score  \\\n",
            "0      1       Bucktown Bandits       Graham’s Groupie        73.0   \n",
            "1      1        bungalicious  💅       Fightin' Furries       101.0   \n",
            "2      1              bird gang      Salmon LipBalm !!        59.0   \n",
            "3      1  pop-pop's bible study              Quon Solo        79.0   \n",
            "4      1            Jen-eral ⚔️     Captain Sweatpants        82.0   \n",
            "..   ...                    ...                    ...         ...   \n",
            "65    14       Graham’s Groupie       Bucktown Bandits       143.0   \n",
            "66    14      Salmon LipBalm !!       Fightin' Furries       115.0   \n",
            "67    14     Captain Sweatpants              Quon Solo        88.0   \n",
            "68    14            Jen-eral ⚔️  pop-pop's bible study        68.0   \n",
            "69    14              bird gang        bungalicious  💅        81.0   \n",
            "\n",
            "    away_score home_record away_record  \n",
            "0         96.0         0-1         1-0  \n",
            "1         94.0         1-0         0-1  \n",
            "2        101.0         0-1         1-0  \n",
            "3         97.0         0-1         1-0  \n",
            "4        110.0         0-1         1-0  \n",
            "..         ...         ...         ...  \n",
            "65        98.0         6-8        3-11  \n",
            "66        78.0        12-2         6-8  \n",
            "67        85.0         6-8         7-7  \n",
            "68       111.0        10-4         8-6  \n",
            "69        95.0        2-12        10-4  \n",
            "\n",
            "[70 rows x 7 columns]\n"
          ]
        }
      ]
    },
    {
      "cell_type": "markdown",
      "source": [
        "# **Getting injury status**\n",
        "PROBABLY CAN'T USE B/C ONLY HAVE 2024 DATA"
      ],
      "metadata": {
        "id": "T3jmeOE3aRSg"
      }
    },
    {
      "cell_type": "code",
      "source": [
        "all_players = []\n",
        "current_week = league.current_week\n",
        "\n",
        "# 1. Rostered players from each team\n",
        "for team in league.teams:\n",
        "    for player in team.roster:\n",
        "        all_players.append({\n",
        "            \"week\": current_week,\n",
        "            \"team_owner\": team.team_name,\n",
        "            \"name\": player.name,\n",
        "            \"position\": player.position,\n",
        "            \"espn_id\": player.playerId,\n",
        "            \"injured\": player.injured,\n",
        "            \"injury_status\": player.injuryStatus,\n",
        "            \"rostered\": True\n",
        "        })\n",
        "\n",
        "# 2. Free agents (unrostered players)\n",
        "for player in league.free_agents(size=1000):  # you can adjust the size to pull more players\n",
        "    all_players.append({\n",
        "        \"week\": current_week,\n",
        "        \"team_owner\": \"Free Agent\",\n",
        "        \"name\": player.name,\n",
        "        \"position\": player.position,\n",
        "        \"espn_id\": player.playerId,\n",
        "        \"injured\": player.injured,\n",
        "        \"injury_status\": player.injuryStatus,\n",
        "        \"rostered\": False\n",
        "    })\n",
        "\n",
        "# Optional: Convert to pandas DataFrame\n",
        "import pandas as pd\n",
        "injury_status = pd.DataFrame(all_players)\n",
        "\n",
        "# Display or export\n",
        "print(injury_status.head(10))\n",
        "\n",
        "print(injury_status[injury_status[\"team_owner\"] == \"Free Agent\"].head(10))"
      ],
      "metadata": {
        "id": "wM3-PmTtaQ9X",
        "outputId": "74f632b1-6c3a-47ea-bb59-2c03b966200b",
        "colab": {
          "base_uri": "https://localhost:8080/"
        }
      },
      "execution_count": null,
      "outputs": [
        {
          "output_type": "stream",
          "name": "stdout",
          "text": [
            "   week        team_owner                name position  espn_id  injured  \\\n",
            "0    17  Fightin' Furries         Tyreek Hill       WR  3116406    False   \n",
            "1    17  Fightin' Furries       Isiah Pacheco       RB  4361529    False   \n",
            "2    17  Fightin' Furries           Joe Mixon       RB  3116385    False   \n",
            "3    17  Fightin' Furries     Patrick Mahomes       QB  3139477    False   \n",
            "4    17  Fightin' Furries      Dalton Kincaid       TE  4385690    False   \n",
            "5    17  Fightin' Furries         Zay Flowers       WR  4429615    False   \n",
            "6    17  Fightin' Furries  Jaxon Smith-Njigba       WR  4430878    False   \n",
            "7    17  Fightin' Furries         Gus Edwards       RB  3051926    False   \n",
            "8    17  Fightin' Furries    Matthew Stafford       QB    12483    False   \n",
            "9    17  Fightin' Furries         Kareem Hunt       RB  3059915    False   \n",
            "\n",
            "  injury_status  rostered  \n",
            "0  QUESTIONABLE      True  \n",
            "1        ACTIVE      True  \n",
            "2        ACTIVE      True  \n",
            "3        ACTIVE      True  \n",
            "4        ACTIVE      True  \n",
            "5  QUESTIONABLE      True  \n",
            "6        ACTIVE      True  \n",
            "7        ACTIVE      True  \n",
            "8        ACTIVE      True  \n",
            "9        ACTIVE      True  \n",
            "     week  team_owner                 name position  espn_id  injured  \\\n",
            "160    17  Free Agent        Ladd McConkey       WR  4612826    False   \n",
            "161    17  Free Agent         Keenan Allen       WR    15818    False   \n",
            "162    17  Free Agent  Michael Pittman Jr.       WR  4035687    False   \n",
            "163    17  Free Agent        Steelers D/ST     D/ST   -16023    False   \n",
            "164    17  Free Agent          C.J. Stroud       QB  4432577    False   \n",
            "165    17  Free Agent           Kyle Pitts       TE  4360248    False   \n",
            "166    17  Free Agent         Adam Thielen       WR    16460    False   \n",
            "167    17  Free Agent          Chris Olave       WR  4361370    False   \n",
            "168    17  Free Agent         Tucker Kraft       TE  4572680    False   \n",
            "169    17  Free Agent           49ers D/ST     D/ST   -16025    False   \n",
            "\n",
            "    injury_status  rostered  \n",
            "160        ACTIVE     False  \n",
            "161        ACTIVE     False  \n",
            "162  QUESTIONABLE     False  \n",
            "163            []     False  \n",
            "164        ACTIVE     False  \n",
            "165        ACTIVE     False  \n",
            "166        ACTIVE     False  \n",
            "167  QUESTIONABLE     False  \n",
            "168        ACTIVE     False  \n",
            "169            []     False  \n"
          ]
        }
      ]
    },
    {
      "cell_type": "markdown",
      "source": [
        "# **QB CatBoost Model**"
      ],
      "metadata": {
        "id": "ya-N0f3oCiDC"
      }
    },
    {
      "cell_type": "markdown",
      "source": [
        "## **Feature Engineering**\n",
        "*Need to create features that can be used in both train and test sets since we can't use rush yards, pass yards (any game specific stats) because they have not occurred and need to use like rolling features or averages*"
      ],
      "metadata": {
        "id": "4eaW92sEQJly"
      }
    },
    {
      "cell_type": "code",
      "source": [
        "df_qb = weekly_stats_all[weekly_stats_all['position'] == 'QB'].copy()\n",
        "\n",
        "# -------------------------------\n",
        "# STEP 2: Sort for time-series ops\n",
        "# -------------------------------\n",
        "df_qb = df_qb.sort_values(by=['player_id', 'season', 'week'])\n",
        "\n",
        "# -------------------------------\n",
        "# STEP 3: Lag + Rolling Features (3-game window)\n",
        "# -------------------------------\n",
        "rolling_cols = [\n",
        "    'passing_yards', 'passing_tds', 'interceptions', 'passing_epa',\n",
        "    'rushing_yards', 'rushing_tds', 'completions', 'attempts',\n",
        "    'fantasy_points_ppr', 'passing_air_yards', 'passing_yards_after_catch',\n",
        "    'rushing_fumbles_lost', 'rushing_epa', 'rushing_2pt_conversions', 'passing_2pt_conversions'\n",
        "]\n",
        "\n",
        "for col in rolling_cols:\n",
        "    df_qb[f'{col}_last3'] = df_qb.groupby('player_id')[col].shift(1).rolling(3, min_periods = 1).mean()\n",
        "\n",
        "# -------------------------------\n",
        "# STEP 4: Expanding (season-to-date) averages\n",
        "# -------------------------------\n",
        "expanding_cols = ['passing_yards', 'passing_tds', 'interceptions', 'rushing_yards', 'rushing_tds', 'fantasy_points_ppr'\n",
        "]\n",
        "\n",
        "for col in expanding_cols:\n",
        "    df_qb[col] = pd.to_numeric(df_qb[col], errors='coerce')\n",
        "\n",
        "for col in expanding_cols:\n",
        "    df_qb[f'{col}_season_avg'] = (\n",
        "        df_qb.groupby(['player_id', 'season'])[col]\n",
        "        .transform(lambda x: x.shift(1).expanding().mean())\n",
        "    )\n",
        "\n",
        "df_qb['completions'] = pd.to_numeric(df_qb['completions'], errors='coerce')\n",
        "df_qb['attempts'] = pd.to_numeric(df_qb['attempts'], errors='coerce')\n",
        "\n",
        "\n",
        "df_qb['yards_per_attempt'] = df_qb['passing_yards'] / df_qb['attempts'].replace(0, pd.NA)\n",
        "\n",
        "df_qb['comp%'] = (\n",
        "    (df_qb['completions'] / df_qb['attempts']) * 100\n",
        ").replace([pd.NA, np.inf, -np.inf], np.nan)\n",
        "\n",
        "df_qb['comp%'] = pd.to_numeric(df_qb['comp%'], errors='coerce')\n",
        "\n",
        "df_qb['yards_per_attempt'] = pd.to_numeric(df_qb['yards_per_attempt'], errors='coerce')\n",
        "\n",
        "print(df_qb.head(10))"
      ],
      "metadata": {
        "id": "VS7tmywyQKC1"
      },
      "execution_count": null,
      "outputs": []
    },
    {
      "cell_type": "code",
      "source": [
        "# -------------------------------\n",
        "# STEP 5: Efficiency metrics\n",
        "# -------------------------------\n",
        "df_qb['pass_attempts_shifted'] = df_qb.groupby('player_id')['attempts'].shift(1)\n",
        "\n",
        "df_qb['comp_pct_last3'] = df_qb.groupby('player_id')['comp%'].shift(1).rolling(3,min_periods = 1).mean()\n",
        "df_qb['yards_per_attempt_last3'] = df_qb.groupby('player_id')['yards_per_attempt'].shift(1).rolling(3,min_periods = 1).mean()\n",
        "df_qb['td_rate_last3'] = df_qb.groupby('player_id')['passing_tds'].shift(1).rolling(3,min_periods = 1).sum() / df_qb['pass_attempts_shifted']\n",
        "df_qb['int_rate_last3'] = df_qb.groupby('player_id')['interceptions'].shift(1).rolling(3,min_periods = 1).sum() / df_qb['pass_attempts_shifted']\n",
        "\n",
        "# -------------------------------\n",
        "# STEP 6: Advanced metrics\n",
        "# -------------------------------\n",
        "advanced = ['pacr', 'dakota']\n",
        "for col in advanced:\n",
        "    df_qb[f'{col}_trend'] = df_qb.groupby('player_id')[col].shift(1).rolling(3,min_periods = 1).mean()\n",
        "\n",
        "# -------------------------------\n",
        "# STEP 7: Opponent Defense (already lagged by design)\n",
        "# -------------------------------\n",
        "opponent_cols = ['opp_avg_ypg_allowed', 'opp_avg_ppg_allowed', 'opp_int_pg', 'opp_sacks_pg', 'opp_fumbles_pg']\n",
        "for col in opponent_cols:\n",
        "    df_qb[f'{col}_trend'] = df_qb.groupby('player_id')[col].shift(1).rolling(3,min_periods = 1).mean()\n",
        "\n",
        "# -------------------------------\n",
        "# STEP 8: Clean up NA rows (from shifting/rolling)\n",
        "# -------------------------------\n",
        "#df_qb = df_qb.dropna()"
      ],
      "metadata": {
        "id": "fL_SnJgBSGM8"
      },
      "execution_count": 11,
      "outputs": []
    },
    {
      "cell_type": "code",
      "source": [
        "#print(df_qb.head(10))"
      ],
      "metadata": {
        "id": "WcKX-wgRTyq9"
      },
      "execution_count": null,
      "outputs": []
    },
    {
      "cell_type": "markdown",
      "source": [
        "***Getting list of columns to select from***"
      ],
      "metadata": {
        "id": "stWcFfyOVv-i"
      }
    },
    {
      "cell_type": "code",
      "source": [
        "#print(df_qb.columns.tolist())"
      ],
      "metadata": {
        "colab": {
          "base_uri": "https://localhost:8080/"
        },
        "id": "f-lDITNFV1nG",
        "outputId": "f7044a7b-6242-488d-957a-88d48d8744b7"
      },
      "execution_count": 42,
      "outputs": [
        {
          "output_type": "stream",
          "name": "stdout",
          "text": [
            "['player_id', 'player_name', 'player_display_name', 'position', 'position_group', 'headshot_url', 'recent_team', 'season', 'week', 'season_type', 'opponent_team', 'completions', 'attempts', 'passing_yards', 'passing_tds', 'interceptions', 'sacks', 'sack_yards', 'sack_fumbles', 'sack_fumbles_lost', 'passing_air_yards', 'passing_yards_after_catch', 'passing_first_downs', 'passing_epa', 'passing_2pt_conversions', 'pacr', 'dakota', 'carries', 'rushing_yards', 'rushing_tds', 'rushing_fumbles', 'rushing_fumbles_lost', 'rushing_first_downs', 'rushing_epa', 'rushing_2pt_conversions', 'receptions', 'targets', 'receiving_yards', 'receiving_tds', 'receiving_fumbles', 'receiving_fumbles_lost', 'receiving_air_yards', 'receiving_yards_after_catch', 'receiving_first_downs', 'receiving_epa', 'receiving_2pt_conversions', 'racr', 'target_share', 'air_yards_share', 'wopr', 'special_teams_tds', 'fantasy_points', 'fantasy_points_ppr', 'half_PPR', 'depth_pos', 'offense_snaps', 'offense_pct', 'opp_avg_ypg_allowed', 'opp_avg_ppg_allowed', 'opp_int_pg', 'opp_fumbles_pg', 'opp_df_tds_pg', 'opp_sacks_pg', 'team', 'fg_made', 'fg_att', 'fg_missed', 'fg_blocked', 'fg_long', 'fg_pct', 'fg_made_0_19', 'fg_made_20_29', 'fg_made_30_39', 'fg_made_40_49', 'fg_made_50_59', 'fg_made_60_', 'fg_missed_0_19', 'fg_missed_20_29', 'fg_missed_30_39', 'fg_missed_40_49', 'fg_missed_50_59', 'fg_missed_60_', 'fg_made_list', 'fg_missed_list', 'fg_blocked_list', 'fg_made_distance', 'fg_missed_distance', 'fg_blocked_distance', 'pat_made', 'pat_att', 'pat_missed', 'pat_blocked', 'pat_pct', 'gwfg_att', 'gwfg_distance', 'gwfg_made', 'gwfg_missed', 'gwfg_blocked', 'total_yards', 'total_tds', 'fumbles_recovered', 'kicking_points', 'blocked_kicks', 'df_tds', 'total_points_allowed', 'yards_points', 'points_fp', 'st_tds', 'espn_id', 'name', 'age', 'height', 'weight', 'college', 'cur_Fteam', 'cur_roster_slot', 'passing_yards_last3', 'passing_tds_last3', 'interceptions_last3', 'passing_epa_last3', 'rushing_yards_last3', 'rushing_tds_last3', 'completions_last3', 'attempts_last3', 'fantasy_points_ppr_last3', 'passing_air_yards_last3', 'passing_yards_after_catch_last3', 'rushing_fumbles_lost_last3', 'rushing_epa_last3', 'rushing_2pt_conversions_last3', 'passing_2pt_conversions_last3', 'passing_yards_season_avg', 'passing_tds_season_avg', 'interceptions_season_avg', 'rushing_yards_season_avg', 'rushing_tds_season_avg', 'fantasy_points_ppr_season_avg', 'yards_per_attempt', 'comp%', 'pass_attempts_shifted', 'comp_pct_last3', 'yards_per_attempt_last3', 'td_rate_last3', 'int_rate_last3', 'pacr_trend', 'dakota_trend', 'opp_avg_ypg_allowed_trend', 'opp_avg_ppg_allowed_trend', 'opp_int_pg_trend', 'opp_sacks_pg_trend', 'opp_fumbles_pg_trend']\n"
          ]
        }
      ]
    },
    {
      "cell_type": "code",
      "source": [
        "TARGET_COL = 'fantasy_points_ppr'\n",
        "\n",
        "train_df = df_qb[\n",
        "    (df_qb[TARGET_COL].notna()) &\n",
        "    (\n",
        "        (df_qb['season'] < 2024) |\n",
        "        ((df_qb['season'] == 2024) & (df_qb['week'] < 14))\n",
        "    )\n",
        "]\n",
        "\n",
        "test_df = df_qb[(df_qb['season'] == 2024) & (df_qb['week'] == 14)]\n",
        "\n",
        "\n",
        "feature_cols = [\n",
        "    col for col in df_qb.columns\n",
        "    if col.endswith('_last3') or col.endswith('_trend') or col.endswith('_season_avg')\n",
        "] + ['player_display_name','season', 'week', 'opponent_team']\n",
        "\n",
        "\n",
        "X_train = train_df[feature_cols]\n",
        "y_train = train_df[TARGET_COL]\n",
        "\n",
        "X_test = test_df[feature_cols]\n",
        "\n",
        "# for RMSE testing purposes on the test set\n",
        "y_test = test_df[TARGET_COL]"
      ],
      "metadata": {
        "id": "utL4jQbhZBvE"
      },
      "execution_count": 28,
      "outputs": []
    },
    {
      "cell_type": "code",
      "source": [
        "categorical_cols = ['opponent_team', 'season', 'week', 'player_display_name']\n",
        "\n",
        "# Create Pool objects\n",
        "train_pool = Pool(data=X_train, label=y_train, cat_features=categorical_cols)\n",
        "test_pool = Pool(data=X_test, cat_features=categorical_cols)\n",
        "\n",
        "# Initialize the CatBoost model\n",
        "model = CatBoostRegressor(\n",
        "    iterations=200,\n",
        "    learning_rate=0.1,\n",
        "    depth=6,\n",
        "    loss_function='RMSE',\n",
        "    random_seed=42,\n",
        "    verbose=50  # or 0 to suppress output\n",
        ")\n",
        "\n",
        "# Train\n",
        "model.fit(train_pool)"
      ],
      "metadata": {
        "colab": {
          "base_uri": "https://localhost:8080/"
        },
        "id": "YP-yFJe5bAPz",
        "outputId": "6e52aa93-c79a-439e-e890-fc257b31f83c"
      },
      "execution_count": 32,
      "outputs": [
        {
          "output_type": "stream",
          "name": "stdout",
          "text": [
            "0:\tlearn: 8.7890826\ttotal: 3.1ms\tremaining: 617ms\n",
            "50:\tlearn: 6.5642620\ttotal: 408ms\tremaining: 1.19s\n",
            "100:\tlearn: 6.1392943\ttotal: 788ms\tremaining: 773ms\n",
            "150:\tlearn: 5.6906417\ttotal: 1.18s\tremaining: 382ms\n",
            "199:\tlearn: 5.2599408\ttotal: 1.55s\tremaining: 0us\n"
          ]
        },
        {
          "output_type": "execute_result",
          "data": {
            "text/plain": [
              "<catboost.core.CatBoostRegressor at 0x7eccf336b790>"
            ]
          },
          "metadata": {},
          "execution_count": 32
        }
      ]
    },
    {
      "cell_type": "code",
      "source": [
        "y_pred = model.predict(test_pool)\n",
        "\n",
        "# Attach predictions to test set for review\n",
        "QB_test_pred = X_test.copy()\n",
        "QB_test_pred['predicted_fantasy_points'] = y_pred\n",
        "\n",
        "print(QB_test_pred[['season', 'week', 'opponent_team', 'predicted_fantasy_points', 'player_display_name']])"
      ],
      "metadata": {
        "colab": {
          "base_uri": "https://localhost:8080/"
        },
        "id": "l6LPhDGCcr5R",
        "outputId": "77535185-d320-439f-f7b3-ff4c95afec0b"
      },
      "execution_count": 33,
      "outputs": [
        {
          "output_type": "stream",
          "name": "stdout",
          "text": [
            "       season  week opponent_team  predicted_fantasy_points  \\\n",
            "16904    2024    14           MIA                 15.512667   \n",
            "16933    2024    14           BUF                 17.084880   \n",
            "16953    2024    14           CLE                 14.279731   \n",
            "16971    2024    14           MIN                 14.486726   \n",
            "17095    2024    14           ARI                 17.443539   \n",
            "17141    2024    14           NYG                 14.133496   \n",
            "17192    2024    14           PIT                 12.461764   \n",
            "17272    2024    14            KC                 11.199089   \n",
            "17368    2024    14           CHI                 12.018220   \n",
            "17510    2024    14            GB                 17.552149   \n",
            "17624    2024    14           ATL                  8.843295   \n",
            "17781    2024    14           CIN                 12.940275   \n",
            "17869    2024    14           LAC                 19.112748   \n",
            "18439    2024    14            LV                 17.575620   \n",
            "18457    2024    14            LA                 19.012274   \n",
            "18484    2024    14           ATL                 16.977534   \n",
            "18626    2024    14           SEA                 18.571334   \n",
            "18952    2024    14            NO                 14.189653   \n",
            "19093    2024    14           NYJ                 13.987826   \n",
            "19190    2024    14           DET                 15.871570   \n",
            "19316    2024    14            KC                 16.790505   \n",
            "19359    2024    14           CAR                 20.474147   \n",
            "19480    2024    14           DAL                 16.592934   \n",
            "19906    2024    14           TEN                 13.765846   \n",
            "20581    2024    14           CHI                 18.165688   \n",
            "20735    2024    14            TB                 13.106827   \n",
            "20826    2024    14            SF                  9.304819   \n",
            "21001    2024    14            TB                 15.446684   \n",
            "21451    2024    14           NYG                  6.459037   \n",
            "21657    2024    14           PHI                 13.695169   \n",
            "21671    2024    14           JAX                 13.658498   \n",
            "22407    2024    14            SF                 16.118804   \n",
            "\n",
            "      player_display_name  \n",
            "16904       Aaron Rodgers  \n",
            "16933    Matthew Stafford  \n",
            "16953      Russell Wilson  \n",
            "16971        Kirk Cousins  \n",
            "17095          Geno Smith  \n",
            "17141          Derek Carr  \n",
            "17192      Jameis Winston  \n",
            "17272     Taylor Heinicke  \n",
            "17368       Brandon Allen  \n",
            "17510          Jared Goff  \n",
            "17624        Nick Mullens  \n",
            "17781         Cooper Rush  \n",
            "17869     Patrick Mahomes  \n",
            "18439      Baker Mayfield  \n",
            "18457          Josh Allen  \n",
            "18484         Sam Darnold  \n",
            "18626        Kyler Murray  \n",
            "18952           Drew Lock  \n",
            "19093      Tua Tagovailoa  \n",
            "19190         Jordan Love  \n",
            "19316      Justin Herbert  \n",
            "19359         Jalen Hurts  \n",
            "19480          Joe Burrow  \n",
            "19906           Mac Jones  \n",
            "20581         Brock Purdy  \n",
            "20735      Desmond Ridder  \n",
            "20826        Tyson Bagent  \n",
            "21001     Aidan O'Connell  \n",
            "21451         Jake Haener  \n",
            "21657         Bryce Young  \n",
            "21671          Will Levis  \n",
            "22407      Caleb Williams  \n"
          ]
        }
      ]
    },
    {
      "cell_type": "markdown",
      "source": [
        "### *old*"
      ],
      "metadata": {
        "id": "KT2RDcRPa2F5"
      }
    },
    {
      "cell_type": "code",
      "source": [
        "train_qb = weekly_stats_all[\n",
        "    ((weekly_stats_all['season'].astype(int) < 2024) |\n",
        "     ((weekly_stats_all['season'].astype(int) == 2024) & (weekly_stats_all['week'].astype(int) < 14))) &\n",
        "    (weekly_stats_all['position'] == 'QB')\n",
        "].copy()\n",
        "\n",
        "# Test: only QBs from Week 14 of 2024\n",
        "test_qb = weekly_stats_all[\n",
        "    (weekly_stats_all['season'].astype(int) == 2024) &\n",
        "    (weekly_stats_all['week'].astype(int) == 14) &\n",
        "    (weekly_stats_all['position'] == 'QB')\n",
        "].copy()\n",
        "\n",
        "test_qb = test_qb.dropna(subset=[\"fantasy_points\"])"
      ],
      "metadata": {
        "id": "WwjWGcoEChhX"
      },
      "execution_count": null,
      "outputs": []
    },
    {
      "cell_type": "code",
      "source": [
        "!pip uninstall -y numpy\n",
        "!pip install numpy==1.24.4\n",
        "!pip install catboost"
      ],
      "metadata": {
        "id": "qZyANbC3H8Jv"
      },
      "execution_count": null,
      "outputs": []
    },
    {
      "cell_type": "code",
      "source": [
        "from catboost import CatBoostRegressor, Pool\n",
        "from sklearn.metrics import mean_absolute_error, r2_score"
      ],
      "metadata": {
        "id": "ddVt6y0sHRHl"
      },
      "execution_count": null,
      "outputs": []
    },
    {
      "cell_type": "markdown",
      "source": [
        "**Defining features to be used**"
      ],
      "metadata": {
        "id": "K4PBvwYgdffJ"
      }
    },
    {
      "cell_type": "code",
      "source": [
        "categorical_features = ['team', 'opponent_team']  # these are column names, not indices\n",
        "numerical_features = features = [\n",
        "    'completions', 'attempts', 'passing_yards', 'passing_tds', 'interceptions',\n",
        "    'sacks', 'sack_yards', 'sack_fumbles', 'sack_fumbles_lost',\n",
        "    'passing_air_yards', 'passing_yards_after_catch', 'passing_first_downs',\n",
        "    'passing_epa', 'passing_2pt_conversions', 'pacr', 'dakota',\n",
        "    'carries', 'rushing_yards', 'rushing_tds',\n",
        "    'rushing_fumbles', 'rushing_fumbles_lost', 'rushing_first_downs',\n",
        "    'rushing_epa', 'rushing_2pt_conversions',\n",
        "    'racr', 'wopr',\n",
        "    'offense_snaps', 'offense_pct',\n",
        "    'opp_avg_ypg_allowed', 'opp_avg_ppg_allowed', 'opp_int_pg',\n",
        "    'opp_fumbles_pg', 'opp_df_tds_pg', 'opp_sacks_pg', 'age', 'week', 'season'\n",
        "] # adjust as needed\n",
        "\n",
        "features = categorical_features + numerical_features\n",
        "target = 'fantasy_points'"
      ],
      "metadata": {
        "id": "pezjcaB6HVup"
      },
      "execution_count": null,
      "outputs": []
    },
    {
      "cell_type": "markdown",
      "source": [
        "**Creating test and train sets**"
      ],
      "metadata": {
        "id": "5JpViSL9dnxg"
      }
    },
    {
      "cell_type": "code",
      "source": [
        "X_train = train_qb[features]\n",
        "y_train = train_qb[target]\n",
        "\n",
        "X_test = test_qb[features]\n",
        "y_test = test_qb[target]"
      ],
      "metadata": {
        "id": "bckIGNBVdrNG"
      },
      "execution_count": null,
      "outputs": []
    },
    {
      "cell_type": "code",
      "source": [
        "# Drop rows where the target is NaN\n",
        "train_mask = ~y_train.isna()\n",
        "X_train = X_train[train_mask]\n",
        "y_train = y_train[train_mask]\n",
        "\n",
        "test_mask = ~y_test.isna()\n",
        "X_test = X_test[test_mask]\n",
        "y_test = y_test[test_mask]"
      ],
      "metadata": {
        "id": "dhHwPVB8g0aY"
      },
      "execution_count": null,
      "outputs": []
    },
    {
      "cell_type": "markdown",
      "source": [
        "**Training the model**"
      ],
      "metadata": {
        "id": "mtYTx4_odumv"
      }
    },
    {
      "cell_type": "code",
      "source": [
        "for col in categorical_features:\n",
        "    X_train[col] = X_train[col].fillna(\"NA\").astype(str)\n",
        "    X_test[col] = X_test[col].fillna(\"NA\").astype(str)"
      ],
      "metadata": {
        "id": "66jjOxJHgMwq"
      },
      "execution_count": null,
      "outputs": []
    },
    {
      "cell_type": "code",
      "source": [
        "train_pool = Pool(X_train, y_train, cat_features=categorical_features)\n",
        "test_pool = Pool(X_test, y_test, cat_features=categorical_features)\n",
        "\n",
        "# 7. Train the model\n",
        "model = CatBoostRegressor(\n",
        "    iterations=300,\n",
        "    learning_rate=0.05,\n",
        "    depth=6,\n",
        "    loss_function='RMSE',\n",
        "    random_seed=42,\n",
        "    verbose=50\n",
        ")\n",
        "\n",
        "model.fit(train_pool)"
      ],
      "metadata": {
        "id": "ZEUzAOTeddul",
        "outputId": "4d0a3e84-edd3-448f-b66e-4b2f4731d141",
        "colab": {
          "base_uri": "https://localhost:8080/"
        }
      },
      "execution_count": null,
      "outputs": [
        {
          "output_type": "stream",
          "name": "stdout",
          "text": [
            "0:\tlearn: 8.6098981\ttotal: 5.42ms\tremaining: 1.62s\n",
            "50:\tlearn: 2.1120422\ttotal: 264ms\tremaining: 1.29s\n",
            "100:\tlearn: 1.1098378\ttotal: 517ms\tremaining: 1.02s\n",
            "150:\tlearn: 0.8242850\ttotal: 780ms\tremaining: 769ms\n",
            "200:\tlearn: 0.6784543\ttotal: 1.02s\tremaining: 504ms\n",
            "250:\tlearn: 0.5612642\ttotal: 1.28s\tremaining: 249ms\n",
            "299:\tlearn: 0.4891954\ttotal: 1.51s\tremaining: 0us\n"
          ]
        },
        {
          "output_type": "execute_result",
          "data": {
            "text/plain": [
              "<catboost.core.CatBoostRegressor at 0x79a6ebde9490>"
            ]
          },
          "metadata": {},
          "execution_count": 88
        }
      ]
    },
    {
      "cell_type": "markdown",
      "source": [
        "**Testing and evaluating the model**"
      ],
      "metadata": {
        "id": "HNTaqC1ndw5U"
      }
    },
    {
      "cell_type": "code",
      "source": [
        "# 8. Predict and evaluate\n",
        "y_pred = model.predict(test_pool)\n",
        "mae = mean_absolute_error(y_test, y_pred)\n",
        "r2 = r2_score(y_test, y_pred)\n",
        "\n",
        "print(f\"MAE on Week 14 of 2024: {mae:.2f}\")\n",
        "print(f\"R² Score: {r2:.3f}\")\n",
        "\n",
        "# 9. Attach predictions to test data (optional)\n",
        "test_qb['predicted_fp'] = y_pred"
      ],
      "metadata": {
        "id": "H9wPB_d5d0XO",
        "outputId": "e4a945b4-b2be-4b15-b849-0a261666c383",
        "colab": {
          "base_uri": "https://localhost:8080/"
        }
      },
      "execution_count": null,
      "outputs": [
        {
          "output_type": "stream",
          "name": "stdout",
          "text": [
            "MAE on Week 14 of 2024: 0.67\n",
            "R² Score: 0.972\n"
          ]
        }
      ]
    },
    {
      "cell_type": "code",
      "source": [
        "qb_pred_results = test_qb[[\n",
        "    'player_display_name',\n",
        "    'position',\n",
        "    'team',\n",
        "    'fantasy_points'\n",
        "]].copy()\n",
        "\n",
        "qb_pred_results['proj_fp'] = test_qb['predicted_fp']\n",
        "\n",
        "# (Optional) Sort by projected points\n",
        "qb_pred_results = qb_pred_results.sort_values(by='proj_fp', ascending=False)\n",
        "\n",
        "# Show top rows\n",
        "print(qb_pred_results)"
      ],
      "metadata": {
        "id": "LN0GUG_5h2CC",
        "outputId": "572d312e-d9fc-4e69-c020-52b202f6a44c",
        "colab": {
          "base_uri": "https://localhost:8080/"
        }
      },
      "execution_count": null,
      "outputs": [
        {
          "output_type": "stream",
          "name": "stdout",
          "text": [
            "      player_display_name position team  fantasy_points    proj_fp\n",
            "18457          Josh Allen       QB  NaN           51.88  42.036743\n",
            "18484         Sam Darnold       QB  NaN           34.58  33.663590\n",
            "19480          Joe Burrow       QB  NaN           24.56  25.283274\n",
            "19359         Jalen Hurts       QB  NaN           24.22  24.771326\n",
            "19093      Tua Tagovailoa       QB  NaN           23.54  24.391290\n",
            "20581         Brock Purdy       QB  NaN           22.10  22.612483\n",
            "17510          Jared Goff       QB  NaN           22.02  22.472872\n",
            "16933    Matthew Stafford       QB  NaN           20.80  21.276920\n",
            "18439      Baker Mayfield       QB  NaN           19.00  19.034256\n",
            "18626        Kyler Murray       QB  NaN           17.96  17.665650\n",
            "16904       Aaron Rodgers       QB  NaN           17.56  17.589008\n",
            "16953      Russell Wilson       QB  NaN           16.02  16.184173\n",
            "18952           Drew Lock       QB  NaN           14.98  15.340196\n",
            "17192      Jameis Winston       QB  NaN           15.28  15.078296\n",
            "19316      Justin Herbert       QB  NaN           13.72  14.359289\n",
            "19190         Jordan Love       QB  NaN           14.54  14.120778\n",
            "17869     Patrick Mahomes       QB  NaN           14.10  14.112128\n",
            "22407      Caleb Williams       QB  NaN           14.06  13.766674\n",
            "17781         Cooper Rush       QB  NaN           13.82  13.613888\n",
            "17095          Geno Smith       QB  NaN           13.32  13.469593\n",
            "21657         Bryce Young       QB  NaN           12.54  12.955331\n",
            "17141          Derek Carr       QB  NaN           11.96  12.207955\n",
            "16971        Kirk Cousins       QB  NaN            9.76   9.903618\n",
            "21001     Aidan O'Connell       QB  NaN            6.76   7.219726\n",
            "21671          Will Levis       QB  NaN            7.02   6.789854\n",
            "19906           Mac Jones       QB  NaN            5.10   5.542021\n",
            "20735      Desmond Ridder       QB  NaN            4.34   3.842351\n",
            "20826        Tyson Bagent       QB  NaN            0.24   0.833858\n",
            "17272     Taylor Heinicke       QB  NaN            1.20   0.785430\n",
            "21451         Jake Haener       QB  NaN           -0.10   0.258374\n",
            "17624        Nick Mullens       QB  NaN           -0.20  -0.228705\n",
            "17368       Brandon Allen       QB  NaN           -2.00  -1.406953\n"
          ]
        }
      ]
    },
    {
      "cell_type": "markdown",
      "source": [
        "# **RB CatBoost Model**"
      ],
      "metadata": {
        "id": "-kWhb3YMjA6F"
      }
    },
    {
      "cell_type": "code",
      "source": [
        "df_rb = weekly_stats_all[weekly_stats_all['position'] == 'RB'].copy()\n",
        "\n",
        "# -------------------------------\n",
        "# STEP 2: Sort for time-series ops\n",
        "# -------------------------------\n",
        "df_rb = df_rb.sort_values(by=['player_id', 'season', 'week'])\n",
        "\n",
        "# -------------------------------\n",
        "# STEP 3: Lag + Rolling Features (3-game window)\n",
        "# -------------------------------\n",
        "rolling_cols = [\n",
        "    'rushing_yards', 'rushing_tds',\n",
        "    'fantasy_points_ppr', 'carries',\n",
        "    'rushing_fumbles_lost', 'rushing_epa', 'rushing_2pt_conversions', 'passing_2pt_conversions', 'receptions', 'targets', 'receiving_yards', 'receiving_tds', 'receiving_fumbles', 'receiving_fumbles_lost', 'receiving_air_yards', 'receiving_yards_after_catch', 'receiving_epa', 'receiving_2pt_conversions', 'target_share', 'offense_snaps', 'offense_pct', 'air_yards_share'\n",
        "    ]\n",
        "\n",
        "for col in rolling_cols:\n",
        "    df_rb[f'{col}_last3'] = df_rb.groupby('player_id')[col].shift(1).rolling(3, min_periods = 1).mean()\n",
        "\n",
        "# -------------------------------\n",
        "# STEP 4: Expanding (season-to-date) averages\n",
        "# -------------------------------\n",
        "expanding_cols = ['rushing_yards', 'rushing_tds', 'fantasy_points_ppr'\n",
        "]\n",
        "\n",
        "for col in expanding_cols:\n",
        "    df_rb[col] = pd.to_numeric(df_rb[col], errors='coerce')\n",
        "\n",
        "for col in expanding_cols:\n",
        "    df_rb[f'{col}_season_avg'] = (\n",
        "        df_rb.groupby(['player_id', 'season'])[col]\n",
        "        .transform(lambda x: x.shift(1).expanding().mean())\n",
        "    )\n",
        "\n",
        "\n",
        "df_rb['carries'] = pd.to_numeric(df_rb['carries'], errors='coerce')\n",
        "\n",
        "\n",
        "df_rb['yards_per_attempt'] = df_rb['rushing_yards'] / df_rb['carries'].replace(0, pd.NA)\n",
        "df_rb['yards_per_attempt'] = pd.to_numeric(df_rb['yards_per_attempt'], errors='coerce')\n",
        "\n",
        "print(df_rb.head(10))"
      ],
      "metadata": {
        "id": "Pvy4t_vwi74-",
        "colab": {
          "base_uri": "https://localhost:8080/"
        },
        "outputId": "5cebb90f-58ca-4596-eb57-c28fc1913f28"
      },
      "execution_count": 40,
      "outputs": [
        {
          "output_type": "stream",
          "name": "stdout",
          "text": [
            "      player_id player_name player_display_name position position_group  \\\n",
            "68   00-0025394  A.Peterson     Adrian Peterson       RB             RB   \n",
            "69   00-0025394  A.Peterson     Adrian Peterson       RB             RB   \n",
            "70   00-0025394  A.Peterson     Adrian Peterson       RB             RB   \n",
            "71   00-0025394  A.Peterson     Adrian Peterson       RB             RB   \n",
            "266  00-0027966    M.Ingram         Mark Ingram       RB             RB   \n",
            "267  00-0027966    M.Ingram         Mark Ingram       RB             RB   \n",
            "268  00-0027966    M.Ingram         Mark Ingram       RB             RB   \n",
            "269  00-0027966    M.Ingram         Mark Ingram       RB             RB   \n",
            "270  00-0027966    M.Ingram         Mark Ingram       RB             RB   \n",
            "271  00-0027966    M.Ingram         Mark Ingram       RB             RB   \n",
            "\n",
            "                                          headshot_url recent_team  season  \\\n",
            "68   https://static.www.nfl.com/image/private/f_aut...         TEN    2021   \n",
            "69   https://static.www.nfl.com/image/private/f_aut...         TEN    2021   \n",
            "70   https://static.www.nfl.com/image/private/f_aut...         TEN    2021   \n",
            "71   https://static.www.nfl.com/image/private/f_aut...         SEA    2021   \n",
            "266  https://static.www.nfl.com/image/private/f_aut...         HOU    2021   \n",
            "267  https://static.www.nfl.com/image/private/f_aut...         HOU    2021   \n",
            "268  https://static.www.nfl.com/image/private/f_aut...         HOU    2021   \n",
            "269  https://static.www.nfl.com/image/private/f_aut...         HOU    2021   \n",
            "270  https://static.www.nfl.com/image/private/f_aut...         HOU    2021   \n",
            "271  https://static.www.nfl.com/image/private/f_aut...         HOU    2021   \n",
            "\n",
            "     week season_type  ... receiving_epa_last3  \\\n",
            "68      9         REG  ...                 NaN   \n",
            "69     10         REG  ...           -0.011573   \n",
            "70     11         REG  ...           -0.229346   \n",
            "71     13         REG  ...           -0.425882   \n",
            "266     1         REG  ...           -0.633036   \n",
            "267     2         REG  ...           -1.201122   \n",
            "268     3         REG  ...           -1.553782   \n",
            "269     4         REG  ...           -1.382020   \n",
            "270     5         REG  ...           -1.281385   \n",
            "271     6         REG  ...           -1.038497   \n",
            "\n",
            "     receiving_2pt_conversions_last3  target_share_last3  offense_snaps_last3  \\\n",
            "68                               NaN                 NaN                  NaN   \n",
            "69                               0.0            0.038462            19.000000   \n",
            "70                               0.0            0.037749            19.500000   \n",
            "71                               0.0            0.038238            18.000000   \n",
            "266                              0.0            0.038126            17.500000   \n",
            "267                              0.0            0.035233            25.500000   \n",
            "268                              0.0            0.051339            27.500000   \n",
            "269                              0.0            0.047560            24.666667   \n",
            "270                              0.0            0.055714            16.000000   \n",
            "271                              0.0            0.040000            18.333333   \n",
            "\n",
            "     offense_pct_last3  air_yards_share_last3  rushing_yards_season_avg  \\\n",
            "68                 NaN                    NaN                       NaN   \n",
            "69            0.330000              -0.041237                 21.000000   \n",
            "70            0.330000              -0.043007                 21.000000   \n",
            "71            0.283333              -0.029452                 27.333333   \n",
            "266           0.260000              -0.023559                       NaN   \n",
            "267           0.325000               0.030816                 85.000000   \n",
            "268           0.385000               0.043939                 63.000000   \n",
            "269           0.373333               0.025784                 49.000000   \n",
            "270           0.290000               0.006689                 42.750000   \n",
            "271           0.333333              -0.010526                 42.400000   \n",
            "\n",
            "     rushing_tds_season_avg  fantasy_points_ppr_season_avg  yards_per_attempt  \n",
            "68                      NaN                            NaN           2.100000  \n",
            "69                 1.000000                       9.600000           2.625000  \n",
            "70                 0.500000                       6.300000           4.444444  \n",
            "71                 0.333333                       6.333333           1.454545  \n",
            "266                     NaN                            NaN           3.269231  \n",
            "267                1.000000                      14.500000           2.928571  \n",
            "268                0.500000                       9.750000           3.500000  \n",
            "269                0.333333                       7.500000           4.000000  \n",
            "270                0.250000                       6.225000           2.562500  \n",
            "271                0.200000                       5.800000           4.055556  \n",
            "\n",
            "[10 rows x 142 columns]\n"
          ]
        }
      ]
    },
    {
      "cell_type": "code",
      "source": [
        "# -------------------------------\n",
        "# STEP 5: Efficiency metrics\n",
        "# -------------------------------\n",
        "df_rb['carries_shifted'] = df_rb.groupby('player_id')['carries'].shift(1)\n",
        "df_rb['receptions_shifted'] = df_rb.groupby('player_id')['receptions'].shift(1)\n",
        "\n",
        "\n",
        "df_rb['yards_per_attempt_last3'] = df_rb.groupby('player_id')['yards_per_attempt'].shift(1).rolling(3,min_periods = 1).mean()\n",
        "df_rb['rush_td_rate_last3'] = df_rb.groupby('player_id')['rushing_tds'].shift(1).rolling(3,min_periods = 1).sum() / df_rb['carries_shifted']\n",
        "df_rb['rec_td_rate_last3'] = df_rb.groupby('player_id')['receiving_tds'].shift(1).rolling(3,min_periods = 1).sum() / df_rb['receptions_shifted']\n",
        "\n",
        "# -------------------------------\n",
        "# STEP 6: Advanced metrics\n",
        "# -------------------------------\n",
        "advanced = ['wopr', 'racr']\n",
        "for col in advanced:\n",
        "    df_rb[f'{col}_trend'] = df_rb.groupby('player_id')[col].shift(1).rolling(3,min_periods = 1).mean()\n",
        "\n",
        "# -------------------------------\n",
        "# STEP 7: Opponent Defense (already lagged by design)\n",
        "# -------------------------------\n",
        "opponent_cols = ['opp_avg_ypg_allowed', 'opp_avg_ppg_allowed', 'opp_int_pg', 'opp_sacks_pg', 'opp_fumbles_pg']\n",
        "for col in opponent_cols:\n",
        "    df_rb[f'{col}_trend'] = df_rb.groupby('player_id')[col].shift(1).rolling(3,min_periods = 1).mean()\n",
        "\n",
        "# -------------------------------\n",
        "# STEP 8: Clean up NA rows (from shifting/rolling)\n",
        "# -------------------------------\n",
        "#df_qb = df_qb.dropna()"
      ],
      "metadata": {
        "id": "eyBTkXJqlPfu"
      },
      "execution_count": 41,
      "outputs": []
    },
    {
      "cell_type": "code",
      "source": [
        "TARGET_COL = 'fantasy_points_ppr'\n",
        "\n",
        "train_df = df_rb[\n",
        "    (df_rb[TARGET_COL].notna()) &\n",
        "    (\n",
        "        (df_rb['season'] < 2024) |\n",
        "        ((df_rb['season'] == 2024) & (df_rb['week'] < 14))\n",
        "    )\n",
        "]\n",
        "\n",
        "test_df = df_rb[(df_rb['season'] == 2024) & (df_rb['week'] == 14)]\n",
        "\n",
        "\n",
        "feature_cols = [\n",
        "    col for col in df_rb.columns\n",
        "    if col.endswith('_last3') or col.endswith('_trend') or col.endswith('_season_avg')\n",
        "] + ['player_display_name','season', 'week', 'opponent_team']\n",
        "\n",
        "\n",
        "X_train = train_df[feature_cols]\n",
        "y_train = train_df[TARGET_COL]\n",
        "\n",
        "X_test = test_df[feature_cols]\n",
        "\n",
        "# for RMSE testing purposes on the test set\n",
        "y_test = test_df[TARGET_COL]"
      ],
      "metadata": {
        "id": "iJquWOCqtpa_"
      },
      "execution_count": 42,
      "outputs": []
    },
    {
      "cell_type": "code",
      "source": [
        "categorical_cols = ['opponent_team', 'season', 'week', 'player_display_name']\n",
        "\n",
        "# Create Pool objects\n",
        "train_pool = Pool(data=X_train, label=y_train, cat_features=categorical_cols)\n",
        "test_pool = Pool(data=X_test, cat_features=categorical_cols)\n",
        "\n",
        "# Initialize the CatBoost model\n",
        "model = CatBoostRegressor(\n",
        "    iterations=200,\n",
        "    learning_rate=0.1,\n",
        "    depth=6,\n",
        "    loss_function='RMSE',\n",
        "    random_seed=42,\n",
        "    verbose=50  # or 0 to suppress output\n",
        ")\n",
        "\n",
        "# Train\n",
        "model.fit(train_pool)"
      ],
      "metadata": {
        "id": "VNdpP2YQtsYu",
        "outputId": "94e1384d-a704-4af1-f815-691d21b3d80b",
        "colab": {
          "base_uri": "https://localhost:8080/"
        }
      },
      "execution_count": 43,
      "outputs": [
        {
          "output_type": "stream",
          "name": "stdout",
          "text": [
            "0:\tlearn: 7.6943307\ttotal: 11.7ms\tremaining: 2.32s\n",
            "50:\tlearn: 6.1574634\ttotal: 482ms\tremaining: 1.41s\n",
            "100:\tlearn: 5.8774601\ttotal: 974ms\tremaining: 954ms\n",
            "150:\tlearn: 5.6134295\ttotal: 1.44s\tremaining: 466ms\n",
            "199:\tlearn: 5.3807481\ttotal: 1.9s\tremaining: 0us\n"
          ]
        },
        {
          "output_type": "execute_result",
          "data": {
            "text/plain": [
              "<catboost.core.CatBoostRegressor at 0x7eccf2ba5f90>"
            ]
          },
          "metadata": {},
          "execution_count": 43
        }
      ]
    },
    {
      "cell_type": "code",
      "source": [
        "y_pred = model.predict(test_pool)\n",
        "\n",
        "# Attach predictions to test set for review\n",
        "RB_test_pred = X_test.copy()\n",
        "RB_test_pred['predicted_fantasy_points'] = y_pred\n",
        "\n",
        "print(RB_test_pred[['season', 'week', 'opponent_team', 'predicted_fantasy_points', 'player_display_name']])"
      ],
      "metadata": {
        "id": "YPNhPUb7tugT",
        "outputId": "d3570222-213a-4557-a51b-2f78272cea10",
        "colab": {
          "base_uri": "https://localhost:8080/"
        }
      },
      "execution_count": 44,
      "outputs": [
        {
          "output_type": "stream",
          "name": "stdout",
          "text": [
            "       season  week opponent_team  predicted_fantasy_points  \\\n",
            "17108    2024    14           CLE                  6.798921   \n",
            "17290    2024    14            TB                  9.527467   \n",
            "17470    2024    14           CIN                  5.278855   \n",
            "17603    2024    14           ATL                 14.132633   \n",
            "17675    2024    14           LAC                  4.881373   \n",
            "...       ...   ...           ...                       ...   \n",
            "22051    2024    14           BUF                  4.569263   \n",
            "22104    2024    14           MIA                  5.450039   \n",
            "22117    2024    14           MIA                  5.344833   \n",
            "22222    2024    14           NYJ                  3.945262   \n",
            "22444    2024    14           SEA                  5.133767   \n",
            "\n",
            "         player_display_name  \n",
            "17108  Cordarrelle Patterson  \n",
            "17290         Ameer Abdullah  \n",
            "17470        Ezekiel Elliott  \n",
            "17603            Aaron Jones  \n",
            "17675          Samaje Perine  \n",
            "...                      ...  \n",
            "22051            Blake Corum  \n",
            "22104          Braelon Allen  \n",
            "22117           Isaiah Davis  \n",
            "22222          Jaylen Wright  \n",
            "22444            Trey Benson  \n",
            "\n",
            "[63 rows x 5 columns]\n"
          ]
        }
      ]
    },
    {
      "cell_type": "code",
      "source": [
        "from sklearn.metrics import mean_squared_error, mean_absolute_error\n",
        "\n",
        "# Actuals and predictions\n",
        "y_true = y_test\n",
        "y_pred = RB_test_pred['predicted_fantasy_points']\n",
        "\n",
        "# RMSE and MAE\n",
        "rmse = mean_squared_error(y_true, y_pred)\n",
        "mae = mean_absolute_error(y_true, y_pred)\n",
        "\n",
        "print(f\"✅ RMSE: {rmse:.2f}\")\n",
        "print(f\"✅ MAE: {mae:.2f}\")"
      ],
      "metadata": {
        "id": "JYa7BpnRuExK",
        "outputId": "38a8df28-0fef-4281-da04-486ed834504c",
        "colab": {
          "base_uri": "https://localhost:8080/"
        }
      },
      "execution_count": 46,
      "outputs": [
        {
          "output_type": "stream",
          "name": "stdout",
          "text": [
            "✅ RMSE: 51.73\n",
            "✅ MAE: 5.15\n"
          ]
        }
      ]
    },
    {
      "cell_type": "markdown",
      "source": [
        "# **WR CatBoost Model**"
      ],
      "metadata": {
        "id": "RnBwJLf0pO_z"
      }
    },
    {
      "cell_type": "code",
      "source": [
        "df_wr = weekly_stats_all[weekly_stats_all['position'] == 'WR'].copy()\n",
        "\n",
        "# -------------------------------\n",
        "# STEP 2: Sort for time-series ops\n",
        "# -------------------------------\n",
        "df_wr = df_wr.sort_values(by=['player_id', 'season', 'week'])\n",
        "\n",
        "# -------------------------------\n",
        "# STEP 3: Lag + Rolling Features (3-game window)\n",
        "# -------------------------------\n",
        "rolling_cols = [\n",
        "    'rushing_yards', 'rushing_tds',\n",
        "    'fantasy_points_ppr', 'carries',\n",
        "    'rushing_epa', 'rushing_2pt_conversions', 'receptions', 'targets', 'receiving_yards', 'receiving_tds', 'receiving_fumbles', 'receiving_fumbles_lost', 'receiving_air_yards', 'receiving_yards_after_catch', 'receiving_epa', 'receiving_2pt_conversions', 'target_share', 'offense_snaps', 'offense_pct', 'air_yards_share'\n",
        "    ]\n",
        "\n",
        "for col in rolling_cols:\n",
        "    df_wr[f'{col}_last3'] = df_wr.groupby('player_id')[col].shift(1).rolling(3, min_periods = 1).mean()\n",
        "\n",
        "# -------------------------------\n",
        "# STEP 4: Expanding (season-to-date) averages\n",
        "# -------------------------------\n",
        "expanding_cols = ['receiving_yards', 'receiving_tds', 'fantasy_points_ppr'\n",
        "]\n",
        "\n",
        "for col in expanding_cols:\n",
        "    df_wr[col] = pd.to_numeric(df_wr[col], errors='coerce')\n",
        "\n",
        "for col in expanding_cols:\n",
        "    df_wr[f'{col}_season_avg'] = (\n",
        "        df_wr.groupby(['player_id', 'season'])[col]\n",
        "        .transform(lambda x: x.shift(1).expanding().mean())\n",
        "    )\n",
        "\n",
        "\n",
        "df_wr['receiving_yards'] = pd.to_numeric(df_wr['receiving_yards'], errors='coerce')\n",
        "df_wr['receptions'] = pd.to_numeric(df_wr['receptions'], errors='coerce')\n",
        "\n",
        "\n",
        "df_wr['yards_per_catch'] = df_wr['receiving_yards'] / df_wr['receptions'].replace(0, pd.NA)\n",
        "df_wr['yards_per_catch'] = pd.to_numeric(df_wr['yards_per_catch'], errors='coerce')\n",
        "\n",
        "\n",
        "\n",
        "print(df_wr.head(10))"
      ],
      "metadata": {
        "colab": {
          "base_uri": "https://localhost:8080/"
        },
        "id": "dumUn3YCuSZi",
        "outputId": "017d79c2-ea6c-46f8-9e31-bd0cffa50e14"
      },
      "execution_count": 64,
      "outputs": [
        {
          "output_type": "stream",
          "name": "stdout",
          "text": [
            "      player_id player_name player_display_name position position_group  \\\n",
            "72   00-0026035  D.Amendola      Danny Amendola       WR             WR   \n",
            "73   00-0026035  D.Amendola      Danny Amendola       WR             WR   \n",
            "74   00-0026035  D.Amendola      Danny Amendola       WR             WR   \n",
            "75   00-0026035  D.Amendola      Danny Amendola       WR             WR   \n",
            "76   00-0026035  D.Amendola      Danny Amendola       WR             WR   \n",
            "77   00-0026035  D.Amendola      Danny Amendola       WR             WR   \n",
            "78   00-0026035  D.Amendola      Danny Amendola       WR             WR   \n",
            "79   00-0026035  D.Amendola      Danny Amendola       WR             WR   \n",
            "99   00-0026189   D.Jackson      DeSean Jackson       WR             WR   \n",
            "100  00-0026189   D.Jackson      DeSean Jackson       WR             WR   \n",
            "\n",
            "                                          headshot_url recent_team  season  \\\n",
            "72   https://static.www.nfl.com/image/private/f_aut...         HOU    2021   \n",
            "73   https://static.www.nfl.com/image/private/f_aut...         HOU    2021   \n",
            "74   https://static.www.nfl.com/image/private/f_aut...         HOU    2021   \n",
            "75   https://static.www.nfl.com/image/private/f_aut...         HOU    2021   \n",
            "76   https://static.www.nfl.com/image/private/f_aut...         HOU    2021   \n",
            "77   https://static.www.nfl.com/image/private/f_aut...         HOU    2021   \n",
            "78   https://static.www.nfl.com/image/private/f_aut...         HOU    2021   \n",
            "79   https://static.www.nfl.com/image/private/f_aut...         HOU    2021   \n",
            "99   https://static.www.nfl.com/image/private/f_aut...          LA    2021   \n",
            "100  https://static.www.nfl.com/image/private/f_aut...          LA    2021   \n",
            "\n",
            "     week season_type  ... receiving_epa_last3  \\\n",
            "72      1         REG  ...                 NaN   \n",
            "73      2         REG  ...            3.847069   \n",
            "74      7         REG  ...            2.228270   \n",
            "75      8         REG  ...            1.790875   \n",
            "76      9         REG  ...           -2.191142   \n",
            "77     11         REG  ...           -3.356210   \n",
            "78     12         REG  ...           -3.813904   \n",
            "79     18         REG  ...           -1.921678   \n",
            "99      1         REG  ...           -1.439651   \n",
            "100     3         REG  ...           -0.504581   \n",
            "\n",
            "     receiving_2pt_conversions_last3  target_share_last3  offense_snaps_last3  \\\n",
            "72                               NaN                 NaN                  NaN   \n",
            "73                               0.0            0.156250            17.000000   \n",
            "74                               0.0            0.095982            14.500000   \n",
            "75                               0.0            0.117752            17.666667   \n",
            "76                               0.0            0.111964            25.000000   \n",
            "77                               0.0            0.158393            32.333333   \n",
            "78                               0.0            0.119122            28.666667   \n",
            "79                               0.0            0.136929            23.000000   \n",
            "99                               0.0            0.117893            17.500000   \n",
            "100                              0.0            0.134615            18.000000   \n",
            "\n",
            "     offense_pct_last3  air_yards_share_last3  receiving_yards_season_avg  \\\n",
            "72                 NaN                    NaN                         NaN   \n",
            "73            0.220000               0.067340                   34.000000   \n",
            "74            0.210000               0.041638                   21.500000   \n",
            "75            0.283333               0.071332                   20.000000   \n",
            "76            0.423333               0.079314                   15.750000   \n",
            "77            0.520000               0.171912                   22.400000   \n",
            "78            0.443333               0.146455                   18.666667   \n",
            "79            0.360000               0.181475                   19.285714   \n",
            "99            0.295000               0.125347                         NaN   \n",
            "100           0.330000               0.133261                   21.000000   \n",
            "\n",
            "     receiving_tds_season_avg  fantasy_points_ppr_season_avg  yards_per_catch  \n",
            "72                        NaN                            NaN         6.800000  \n",
            "73                   1.000000                      14.400000         9.000000  \n",
            "74                   0.500000                       8.150000         5.666667  \n",
            "75                   0.333333                       7.000000         1.500000  \n",
            "76                   0.250000                       5.825000        16.333333  \n",
            "77                   0.200000                       6.240000              NaN  \n",
            "78                   0.166667                       5.200000         7.666667  \n",
            "79                   0.142857                       5.214286        16.142857  \n",
            "99                        NaN                            NaN        10.500000  \n",
            "100                  0.000000                       4.100000        40.000000  \n",
            "\n",
            "[10 rows x 140 columns]\n"
          ]
        }
      ]
    },
    {
      "cell_type": "code",
      "source": [
        "# -------------------------------\n",
        "# STEP 5: Efficiency metrics\n",
        "# -------------------------------\n",
        "df_wr['carries_shifted'] = df_wr.groupby('player_id')['carries'].shift(1)\n",
        "df_wr['receptions_shifted'] = df_wr.groupby('player_id')['receptions'].shift(1)\n",
        "\n",
        "\n",
        "df_wr['yards_per_reception_last3'] = df_wr.groupby('player_id')['yards_per_catch'].shift(1).rolling(3,min_periods = 1).mean()\n",
        "df_wr['rec_td_rate_last3'] = df_wr.groupby('player_id')['receiving_tds'].shift(1).rolling(3,min_periods = 1).sum() / df_rb['receptions_shifted']\n",
        "\n",
        "# -------------------------------\n",
        "# STEP 6: Advanced metrics\n",
        "# -------------------------------\n",
        "advanced = ['wopr', 'racr']\n",
        "for col in advanced:\n",
        "    df_wr[f'{col}_trend'] = df_wr.groupby('player_id')[col].shift(1).rolling(3,min_periods = 1).mean()\n",
        "\n",
        "# -------------------------------\n",
        "# STEP 7: Opponent Defense (already lagged by design)\n",
        "# -------------------------------\n",
        "opponent_cols = ['opp_avg_ypg_allowed', 'opp_avg_ppg_allowed', 'opp_int_pg', 'opp_sacks_pg', 'opp_fumbles_pg']\n",
        "for col in opponent_cols:\n",
        "    df_wr[f'{col}_trend'] = df_wr.groupby('player_id')[col].shift(1).rolling(3,min_periods = 1).mean()"
      ],
      "metadata": {
        "id": "382mwFdhuUdf"
      },
      "execution_count": 66,
      "outputs": []
    },
    {
      "cell_type": "code",
      "source": [
        "TARGET_COL = 'fantasy_points_ppr'\n",
        "\n",
        "train_df = df_wr[\n",
        "    (df_wr[TARGET_COL].notna()) &\n",
        "    (\n",
        "        (df_wr['season'] < 2024) |\n",
        "        ((df_wr['season'] == 2024) & (df_wr['week'] < 14))\n",
        "    )\n",
        "]\n",
        "\n",
        "test_df = df_wr[(df_wr['season'] == 2024) & (df_wr['week'] == 14)]\n",
        "\n",
        "\n",
        "feature_cols = [\n",
        "    col for col in df_wr.columns\n",
        "    if col.endswith('_last3') or col.endswith('_trend') or col.endswith('_season_avg')\n",
        "] + ['player_display_name','season', 'week', 'opponent_team']\n",
        "\n",
        "\n",
        "X_train = train_df[feature_cols]\n",
        "y_train = train_df[TARGET_COL]\n",
        "\n",
        "X_test = test_df[feature_cols]\n",
        "\n",
        "# for RMSE testing purposes on the test set\n",
        "y_test = test_df[TARGET_COL]"
      ],
      "metadata": {
        "id": "2CU6HeyauWLH"
      },
      "execution_count": 75,
      "outputs": []
    },
    {
      "cell_type": "code",
      "source": [
        "categorical_cols = ['opponent_team', 'season', 'week', 'player_display_name']\n",
        "\n",
        "# Create Pool objects\n",
        "train_pool = Pool(data=X_train, label=y_train, cat_features=categorical_cols)\n",
        "test_pool = Pool(data=X_test, cat_features=categorical_cols)\n",
        "\n",
        "# Initialize the CatBoost model\n",
        "model = CatBoostRegressor(\n",
        "    iterations=200,\n",
        "    learning_rate=0.1,\n",
        "    depth=6,\n",
        "    loss_function='RMSE',\n",
        "    random_seed=42,\n",
        "    verbose=50  # or 0 to suppress output\n",
        ")\n",
        "\n",
        "# Train\n",
        "model.fit(train_pool)"
      ],
      "metadata": {
        "colab": {
          "base_uri": "https://localhost:8080/"
        },
        "id": "oR54MRDtugzQ",
        "outputId": "b942c208-a7c7-43f5-e25e-6b5df571b933"
      },
      "execution_count": 76,
      "outputs": [
        {
          "output_type": "stream",
          "name": "stdout",
          "text": [
            "0:\tlearn: 7.5687522\ttotal: 13.3ms\tremaining: 2.66s\n",
            "50:\tlearn: 6.2459200\ttotal: 921ms\tremaining: 2.69s\n",
            "100:\tlearn: 6.0770968\ttotal: 1.54s\tremaining: 1.51s\n",
            "150:\tlearn: 5.8419251\ttotal: 2.21s\tremaining: 717ms\n",
            "199:\tlearn: 5.6503679\ttotal: 2.82s\tremaining: 0us\n"
          ]
        },
        {
          "output_type": "execute_result",
          "data": {
            "text/plain": [
              "<catboost.core.CatBoostRegressor at 0x7eccd0144950>"
            ]
          },
          "metadata": {},
          "execution_count": 76
        }
      ]
    },
    {
      "cell_type": "code",
      "source": [
        "y_pred = model.predict(test_pool)\n",
        "\n",
        "# Attach predictions to test set for review\n",
        "WR_test_pred = X_test.copy()\n",
        "WR_test_pred['predicted_fantasy_points'] = y_pred\n",
        "\n",
        "print(WR_test_pred[['season', 'week', 'opponent_team', 'predicted_fantasy_points', 'player_display_name']])"
      ],
      "metadata": {
        "colab": {
          "base_uri": "https://localhost:8080/"
        },
        "id": "pfWXM6LLumtu",
        "outputId": "db2f105c-5975-422f-b8c2-973aba4e0fd4"
      },
      "execution_count": 77,
      "outputs": [
        {
          "output_type": "stream",
          "name": "stdout",
          "text": [
            "       season  week opponent_team  predicted_fantasy_points  \\\n",
            "16992    2024    14           PHI                 11.476877   \n",
            "17027    2024    14            SF                 11.976058   \n",
            "17076    2024    14           LAC                 10.162134   \n",
            "17120    2024    14           NYJ                  4.483168   \n",
            "17126    2024    14           CIN                 10.032227   \n",
            "...       ...   ...           ...                       ...   \n",
            "22251    2024    14           NYJ                  3.907022   \n",
            "22285    2024    14           TEN                 14.548807   \n",
            "22302    2024    14           LAC                  8.407575   \n",
            "22385    2024    14           CHI                  5.247481   \n",
            "22424    2024    14            SF                  9.225765   \n",
            "\n",
            "      player_display_name  \n",
            "16992        Adam Thielen  \n",
            "17027        Keenan Allen  \n",
            "17076     DeAndre Hopkins  \n",
            "17120       Odell Beckham  \n",
            "17126       Brandin Cooks  \n",
            "...                   ...  \n",
            "22251    Malik Washington  \n",
            "22285        Brian Thomas  \n",
            "22302       Xavier Worthy  \n",
            "22385      Ricky Pearsall  \n",
            "22424         Rome Odunze  \n",
            "\n",
            "[95 rows x 5 columns]\n"
          ]
        }
      ]
    },
    {
      "cell_type": "code",
      "source": [
        "from sklearn.metrics import mean_squared_error, mean_absolute_error\n",
        "\n",
        "# Actuals and predictions\n",
        "y_true = y_test\n",
        "y_pred = WR_test_pred['predicted_fantasy_points']\n",
        "\n",
        "# RMSE and MAE\n",
        "rmse = mean_squared_error(y_true, y_pred)\n",
        "mae = mean_absolute_error(y_true, y_pred)\n",
        "\n",
        "print(f\"✅ RMSE: {rmse:.2f}\")\n",
        "print(f\"✅ MAE: {mae:.2f}\")"
      ],
      "metadata": {
        "colab": {
          "base_uri": "https://localhost:8080/"
        },
        "id": "mo7msAT8vQhd",
        "outputId": "9ef64d77-5120-4ebb-81fa-6f0a77e1ab24"
      },
      "execution_count": 78,
      "outputs": [
        {
          "output_type": "stream",
          "name": "stdout",
          "text": [
            "✅ RMSE: 57.93\n",
            "✅ MAE: 5.60\n"
          ]
        }
      ]
    },
    {
      "cell_type": "markdown",
      "source": [
        "# **TE CatBoost Model**"
      ],
      "metadata": {
        "id": "M_AjH4stw5Dt"
      }
    },
    {
      "cell_type": "code",
      "source": [
        "df_te= weekly_stats_all[weekly_stats_all['position'] == 'TE'].copy()\n",
        "\n",
        "# -------------------------------\n",
        "# STEP 2: Sort for time-series ops\n",
        "# -------------------------------\n",
        "df_te = df_te.sort_values(by=['player_id', 'season', 'week'])\n",
        "\n",
        "# -------------------------------\n",
        "# STEP 3: Lag + Rolling Features (3-game window)\n",
        "# -------------------------------\n",
        "rolling_cols = [\n",
        "    'fantasy_points_ppr', 'receptions', 'targets', 'receiving_yards', 'receiving_tds', 'receiving_fumbles', 'receiving_fumbles_lost', 'receiving_air_yards', 'receiving_yards_after_catch', 'receiving_epa', 'receiving_2pt_conversions', 'target_share', 'offense_snaps', 'offense_pct', 'air_yards_share'\n",
        "    ]\n",
        "\n",
        "for col in rolling_cols:\n",
        "    df_te[f'{col}_last3'] = df_te.groupby('player_id')[col].shift(1).rolling(3, min_periods = 1).mean()\n",
        "\n",
        "# -------------------------------\n",
        "# STEP 4: Expanding (season-to-date) averages\n",
        "# -------------------------------\n",
        "expanding_cols = ['receiving_yards', 'receiving_tds', 'fantasy_points_ppr'\n",
        "]\n",
        "\n",
        "for col in expanding_cols:\n",
        "    df_te[col] = pd.to_numeric(df_te[col], errors='coerce')\n",
        "\n",
        "for col in expanding_cols:\n",
        "    df_te[f'{col}_season_avg'] = (\n",
        "        df_te.groupby(['player_id', 'season'])[col]\n",
        "        .transform(lambda x: x.shift(1).expanding().mean())\n",
        "    )\n",
        "\n",
        "\n",
        "df_te['receiving_yards'] = pd.to_numeric(df_te['receiving_yards'], errors='coerce')\n",
        "df_te['receptions'] = pd.to_numeric(df_te['receptions'], errors='coerce')\n",
        "\n",
        "\n",
        "df_te['yards_per_catch'] = df_te['receiving_yards'] / df_te['receptions'].replace(0, pd.NA)\n",
        "df_te['yards_per_catch'] = pd.to_numeric(df_te['yards_per_catch'], errors='coerce')\n",
        "\n",
        "\n",
        "\n",
        "print(df_te.head(10))"
      ],
      "metadata": {
        "outputId": "cca6584d-4651-4fc7-c0cc-33157971cca2",
        "colab": {
          "base_uri": "https://localhost:8080/"
        },
        "id": "7UajTbmhw5Dt"
      },
      "execution_count": 80,
      "outputs": [
        {
          "output_type": "stream",
          "name": "stdout",
          "text": [
            "     player_id player_name player_display_name position position_group  \\\n",
            "54  00-0024243     M.Lewis      Marcedes Lewis       TE             TE   \n",
            "55  00-0024243     M.Lewis      Marcedes Lewis       TE             TE   \n",
            "56  00-0024243     M.Lewis      Marcedes Lewis       TE             TE   \n",
            "57  00-0024243     M.Lewis      Marcedes Lewis       TE             TE   \n",
            "58  00-0024243     M.Lewis      Marcedes Lewis       TE             TE   \n",
            "59  00-0024243     M.Lewis      Marcedes Lewis       TE             TE   \n",
            "60  00-0024243     M.Lewis      Marcedes Lewis       TE             TE   \n",
            "61  00-0024243     M.Lewis      Marcedes Lewis       TE             TE   \n",
            "62  00-0024243     M.Lewis      Marcedes Lewis       TE             TE   \n",
            "63  00-0024243     M.Lewis      Marcedes Lewis       TE             TE   \n",
            "\n",
            "                                         headshot_url recent_team  season  \\\n",
            "54  https://static.www.nfl.com/image/private/f_aut...          GB    2021   \n",
            "55  https://static.www.nfl.com/image/private/f_aut...          GB    2021   \n",
            "56  https://static.www.nfl.com/image/private/f_aut...          GB    2021   \n",
            "57  https://static.www.nfl.com/image/private/f_aut...          GB    2021   \n",
            "58  https://static.www.nfl.com/image/private/f_aut...          GB    2021   \n",
            "59  https://static.www.nfl.com/image/private/f_aut...          GB    2021   \n",
            "60  https://static.www.nfl.com/image/private/f_aut...          GB    2021   \n",
            "61  https://static.www.nfl.com/image/private/f_aut...          GB    2021   \n",
            "62  https://static.www.nfl.com/image/private/f_aut...          GB    2021   \n",
            "63  https://static.www.nfl.com/image/private/f_aut...          GB    2021   \n",
            "\n",
            "    week season_type  ... receiving_epa_last3  \\\n",
            "54     1         REG  ...                 NaN   \n",
            "55     4         REG  ...            1.341326   \n",
            "56     5         REG  ...            0.453414   \n",
            "57     6         REG  ...            1.136541   \n",
            "58     7         REG  ...            1.153743   \n",
            "59     8         REG  ...            1.855453   \n",
            "60     9         REG  ...            0.888807   \n",
            "61    10         REG  ...            0.100825   \n",
            "62    12         REG  ...           -0.392038   \n",
            "63    14         REG  ...           -0.856731   \n",
            "\n",
            "    receiving_2pt_conversions_last3  target_share_last3  offense_snaps_last3  \\\n",
            "54                              NaN                 NaN                  NaN   \n",
            "55                              0.0            0.030303            15.000000   \n",
            "56                              0.0            0.043723            25.000000   \n",
            "57                              0.0            0.048196            26.333333   \n",
            "58                              0.0            0.069841            34.666667   \n",
            "59                              0.0            0.080205            30.000000   \n",
            "60                              0.0            0.070682            30.666667   \n",
            "61                              0.0            0.049352            27.000000   \n",
            "62                              0.0            0.038988            34.000000   \n",
            "63                              0.0            0.052192            34.666667   \n",
            "\n",
            "    offense_pct_last3  air_yards_share_last3  receiving_yards_season_avg  \\\n",
            "54                NaN                    NaN                         NaN   \n",
            "55           0.260000               0.015385                   19.000000   \n",
            "56           0.375000               0.055829                   13.000000   \n",
            "57           0.400000               0.047817                   20.000000   \n",
            "58           0.540000               0.052729                   19.250000   \n",
            "59           0.503333               0.040839                   21.600000   \n",
            "60           0.493333               0.038938                   18.000000   \n",
            "61           0.420000               0.025235                   15.285714   \n",
            "62           0.483333               0.013653                   14.625000   \n",
            "63           0.476667               0.002588                   13.444444   \n",
            "\n",
            "    receiving_tds_season_avg  fantasy_points_ppr_season_avg  yards_per_catch  \n",
            "54                       NaN                            NaN        19.000000  \n",
            "55                       0.0                       2.900000         7.000000  \n",
            "56                       0.0                       2.300000        17.000000  \n",
            "57                       0.0                       3.333333         8.500000  \n",
            "58                       0.0                       3.425000        10.333333  \n",
            "59                       0.0                       3.960000              NaN  \n",
            "60                       0.0                       3.300000        -1.000000  \n",
            "61                       0.0                       2.957143         5.000000  \n",
            "62                       0.0                       2.962500         2.000000  \n",
            "63                       0.0                       2.900000        12.750000  \n",
            "\n",
            "[10 rows x 135 columns]\n"
          ]
        }
      ]
    },
    {
      "cell_type": "code",
      "source": [
        "# -------------------------------\n",
        "# STEP 5: Efficiency metrics\n",
        "# -------------------------------\n",
        "df_te['carries_shifted'] = df_te.groupby('player_id')['carries'].shift(1)\n",
        "df_te['receptions_shifted'] = df_te.groupby('player_id')['receptions'].shift(1)\n",
        "\n",
        "\n",
        "df_te['yards_per_reception_last3'] = df_te.groupby('player_id')['yards_per_catch'].shift(1).rolling(3,min_periods = 1).mean()\n",
        "df_te['rec_td_rate_last3'] = df_te.groupby('player_id')['receiving_tds'].shift(1).rolling(3,min_periods = 1).sum() / df_rb['receptions_shifted']\n",
        "\n",
        "# -------------------------------\n",
        "# STEP 6: Advanced metrics\n",
        "# -------------------------------\n",
        "advanced = ['wopr', 'racr']\n",
        "for col in advanced:\n",
        "    df_te[f'{col}_trend'] = df_te.groupby('player_id')[col].shift(1).rolling(3,min_periods = 1).mean()\n",
        "\n",
        "# -------------------------------\n",
        "# STEP 7: Opponent Defense (already lagged by design)\n",
        "# -------------------------------\n",
        "opponent_cols = ['opp_avg_ypg_allowed', 'opp_avg_ppg_allowed', 'opp_int_pg', 'opp_sacks_pg', 'opp_fumbles_pg']\n",
        "for col in opponent_cols:\n",
        "    df_te[f'{col}_trend'] = df_te.groupby('player_id')[col].shift(1).rolling(3,min_periods = 1).mean()"
      ],
      "metadata": {
        "id": "lhR3H3A0w5Dt"
      },
      "execution_count": 81,
      "outputs": []
    },
    {
      "cell_type": "code",
      "source": [
        "TARGET_COL = 'fantasy_points_ppr'\n",
        "\n",
        "train_df = df_te[\n",
        "    (df_te[TARGET_COL].notna()) &\n",
        "    (\n",
        "        (df_te['season'] < 2024) |\n",
        "        ((df_te['season'] == 2024) & (df_te['week'] < 14))\n",
        "    )\n",
        "]\n",
        "\n",
        "test_df = df_te[(df_te['season'] == 2024) & (df_te['week'] == 14)]\n",
        "\n",
        "\n",
        "feature_cols = [\n",
        "    col for col in df_te.columns\n",
        "    if col.endswith('_last3') or col.endswith('_trend') or col.endswith('_season_avg')\n",
        "] + ['player_display_name','season', 'week', 'opponent_team']\n",
        "\n",
        "\n",
        "X_train = train_df[feature_cols]\n",
        "y_train = train_df[TARGET_COL]\n",
        "\n",
        "X_test = test_df[feature_cols]\n",
        "\n",
        "# for RMSE testing purposes on the test set\n",
        "y_test = test_df[TARGET_COL]"
      ],
      "metadata": {
        "id": "77JkQBvnw5Du"
      },
      "execution_count": 82,
      "outputs": []
    },
    {
      "cell_type": "code",
      "source": [
        "categorical_cols = ['opponent_team', 'season', 'week', 'player_display_name']\n",
        "\n",
        "# Create Pool objects\n",
        "train_pool = Pool(data=X_train, label=y_train, cat_features=categorical_cols)\n",
        "test_pool = Pool(data=X_test, cat_features=categorical_cols)\n",
        "\n",
        "# Initialize the CatBoost model\n",
        "model = CatBoostRegressor(\n",
        "    iterations=200,\n",
        "    learning_rate=0.1,\n",
        "    depth=6,\n",
        "    loss_function='RMSE',\n",
        "    random_seed=42,\n",
        "    verbose=50  # or 0 to suppress output\n",
        ")\n",
        "\n",
        "# Train\n",
        "model.fit(train_pool)"
      ],
      "metadata": {
        "outputId": "cbf24010-e1b6-4a39-fc69-4928d5a621fa",
        "colab": {
          "base_uri": "https://localhost:8080/"
        },
        "id": "UvBTEyKSw5Du"
      },
      "execution_count": 83,
      "outputs": [
        {
          "output_type": "stream",
          "name": "stdout",
          "text": [
            "0:\tlearn: 5.8870844\ttotal: 11.4ms\tremaining: 2.27s\n",
            "50:\tlearn: 4.8238439\ttotal: 751ms\tremaining: 2.19s\n",
            "100:\tlearn: 4.5655891\ttotal: 1.58s\tremaining: 1.55s\n",
            "150:\tlearn: 4.3502330\ttotal: 2.42s\tremaining: 785ms\n",
            "199:\tlearn: 4.1631409\ttotal: 3.09s\tremaining: 0us\n"
          ]
        },
        {
          "output_type": "execute_result",
          "data": {
            "text/plain": [
              "<catboost.core.CatBoostRegressor at 0x7eccd0154cd0>"
            ]
          },
          "metadata": {},
          "execution_count": 83
        }
      ]
    },
    {
      "cell_type": "code",
      "source": [
        "y_pred = model.predict(test_pool)\n",
        "\n",
        "# Attach predictions to test set for review\n",
        "TE_test_pred = X_test.copy()\n",
        "TE_test_pred['predicted_fantasy_points'] = y_pred\n",
        "\n",
        "print(TE_test_pred[['season', 'week', 'opponent_team', 'predicted_fantasy_points', 'player_display_name']])"
      ],
      "metadata": {
        "outputId": "c29529ed-d2ba-406f-e715-8a355f27ef35",
        "colab": {
          "base_uri": "https://localhost:8080/"
        },
        "id": "87IAcoLbw5Du"
      },
      "execution_count": 84,
      "outputs": [
        {
          "output_type": "stream",
          "name": "stdout",
          "text": [
            "       season  week opponent_team  predicted_fantasy_points  \\\n",
            "17057    2024    14           LAC                 13.532261   \n",
            "17229    2024    14           CLE                  2.958564   \n",
            "17362    2024    14           JAX                  3.542465   \n",
            "17585    2024    14           CHI                 10.375439   \n",
            "17659    2024    14           ARI                  3.149731   \n",
            "17744    2024    14           CHI                  4.164521   \n",
            "17843    2024    14           NYJ                  9.456212   \n",
            "17884    2024    14           TEN                 10.690734   \n",
            "17894    2024    14           PIT                 15.154769   \n",
            "18053    2024    14            KC                  5.874594   \n",
            "18089    2024    14           MIA                  7.099913   \n",
            "18151    2024    14           PIT                  5.764279   \n",
            "18254    2024    14           DAL                  5.474168   \n",
            "18340    2024    14           NYJ                  3.233880   \n",
            "18372    2024    14           DAL                  8.381946   \n",
            "18552    2024    14           NYG                  7.652539   \n",
            "18636    2024    14           ATL                 10.144952   \n",
            "18661    2024    14           ATL                  5.574679   \n",
            "18819    2024    14           DAL                  4.506447   \n",
            "18852    2024    14           ARI                  8.188459   \n",
            "18924    2024    14            LA                  6.233720   \n",
            "19016    2024    14           NYG                  8.630574   \n",
            "19125    2024    14           BUF                  4.099569   \n",
            "19463    2024    14           MIN                  2.472627   \n",
            "19633    2024    14           LAC                  7.065540   \n",
            "19664    2024    14            GB                  3.983658   \n",
            "19760    2024    14           CLE                  8.432616   \n",
            "19886    2024    14           MIN                  8.856977   \n",
            "19995    2024    14           BUF                  2.073735   \n",
            "20004    2024    14           PHI                  6.993668   \n",
            "20026    2024    14           CAR                  5.457192   \n",
            "20309    2024    14            KC                  2.909637   \n",
            "20398    2024    14            KC                  2.326008   \n",
            "20485    2024    14           SEA                 16.027190   \n",
            "20535    2024    14           MIA                  2.967873   \n",
            "20551    2024    14           JAX                  6.724254   \n",
            "20655    2024    14           CIN                  8.660443   \n",
            "20696    2024    14            NO                  3.198769   \n",
            "20770    2024    14            LV                 11.334144   \n",
            "20908    2024    14           CIN                  6.264075   \n",
            "20946    2024    14           CLE                  3.861115   \n",
            "21026    2024    14           JAX                  3.670241   \n",
            "21198    2024    14           PIT                  3.217038   \n",
            "21211    2024    14           NYJ                  3.141710   \n",
            "21288    2024    14           DET                  2.666237   \n",
            "21330    2024    14           TEN                  4.452105   \n",
            "21425    2024    14           DET                  9.379493   \n",
            "21565    2024    14            GB                 12.177527   \n",
            "21577    2024    14            TB                  3.307097   \n",
            "21735    2024    14           LAC                  2.331547   \n",
            "21775    2024    14            TB                 10.736967   \n",
            "21822    2024    14           PHI                  6.112512   \n",
            "21994    2024    14           NYG                  2.970618   \n",
            "22011    2024    14           JAX                  2.534408   \n",
            "22040    2024    14           SEA                  2.191320   \n",
            "22088    2024    14           ARI                  4.433178   \n",
            "\n",
            "         player_display_name  \n",
            "17057           Travis Kelce  \n",
            "17229          MyCole Pruitt  \n",
            "17362           Nick Vannett  \n",
            "17585          George Kittle  \n",
            "17659          Pharaoh Brown  \n",
            "17744           Eric Saubert  \n",
            "17843            Jonnu Smith  \n",
            "17884            Evan Engram  \n",
            "17894            David Njoku  \n",
            "18053            Will Dissly  \n",
            "18089          Tyler Conklin  \n",
            "18151           Jordan Akins  \n",
            "18254          Tanner Hudson  \n",
            "18340          Durham Smythe  \n",
            "18372           Mike Gesicki  \n",
            "18552          Foster Moreau  \n",
            "18636         T.J. Hockenson  \n",
            "18661            Josh Oliver  \n",
            "18819            Drew Sample  \n",
            "18852              Noah Fant  \n",
            "18924            Dawson Knox  \n",
            "19016          Juwan Johnson  \n",
            "19125        Colby Parkinson  \n",
            "19463        Charlie Woerner  \n",
            "19633              Noah Gray  \n",
            "19664           Brock Wright  \n",
            "19760         Pat Freiermuth  \n",
            "19886             Kyle Pitts  \n",
            "19995            Hunter Long  \n",
            "20004          Tommy Tremble  \n",
            "20026       Grant Calcaterra  \n",
            "20309           Stone Smartt  \n",
            "20398            Tucker Fisk  \n",
            "20485           Trey McBride  \n",
            "20535         Jeremy Ruckert  \n",
            "20551      Chigoziem Okonkwo  \n",
            "20655          Jake Ferguson  \n",
            "20696       Daniel Bellinger  \n",
            "20770             Cade Otton  \n",
            "20908       Luke Schoonmaker  \n",
            "20946     Darnell Washington  \n",
            "21026             Josh Whyle  \n",
            "21198       Blake Whiteheart  \n",
            "21211            Julian Hill  \n",
            "21288               Ben Sims  \n",
            "21330        Brenton Strange  \n",
            "21425           Tucker Kraft  \n",
            "21565            Sam LaPorta  \n",
            "21577          Michael Mayer  \n",
            "21735            Baylor Cupp  \n",
            "21775           Brock Bowers  \n",
            "21822      Ja'Tavion Sanders  \n",
            "21994          Dallin Holker  \n",
            "22011  David Martin-Robinson  \n",
            "22040             Tip Reiman  \n",
            "22088            A.J. Barner  \n"
          ]
        }
      ]
    },
    {
      "cell_type": "code",
      "source": [
        "from sklearn.metrics import mean_squared_error, mean_absolute_error\n",
        "\n",
        "# Actuals and predictions\n",
        "y_true = y_test\n",
        "y_pred = TE_test_pred['predicted_fantasy_points']\n",
        "\n",
        "# RMSE and MAE\n",
        "rmse = mean_squared_error(y_true, y_pred)\n",
        "mae = mean_absolute_error(y_true, y_pred)\n",
        "\n",
        "print(f\"✅ RMSE: {rmse:.2f}\")\n",
        "print(f\"✅ MAE: {mae:.2f}\")"
      ],
      "metadata": {
        "outputId": "5091fc69-bf89-4d60-daf7-ebfde302804b",
        "colab": {
          "base_uri": "https://localhost:8080/"
        },
        "id": "OdyOLq2Iw5Du"
      },
      "execution_count": 86,
      "outputs": [
        {
          "output_type": "stream",
          "name": "stdout",
          "text": [
            "✅ RMSE: 13.69\n",
            "✅ MAE: 3.01\n"
          ]
        }
      ]
    }
  ]
}